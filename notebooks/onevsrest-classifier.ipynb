{
 "cells": [
  {
   "cell_type": "code",
   "execution_count": 1,
   "metadata": {},
   "outputs": [
    {
     "name": "stderr",
     "output_type": "stream",
     "text": [
      "Intel(R) Extension for Scikit-learn* enabled (https://github.com/intel/scikit-learn-intelex)\n"
     ]
    }
   ],
   "source": [
    "import pandas as pd\n",
    "import json\n",
    "import matplotlib.pyplot as plt\n",
    "from sklearnex import patch_sklearn\n",
    "patch_sklearn()\n",
    "\n",
    "from nltk.corpus import stopwords\n",
    "from nltk.stem import SnowballStemmer\n",
    "import re\n",
    "from sklearn.feature_extraction.text import TfidfVectorizer\n",
    "from sklearn.preprocessing import MultiLabelBinarizer\n",
    "from sklearn.multiclass import OneVsRestClassifier\n",
    "from sklearn.svm import LinearSVC\n",
    "from sklearn.metrics import f1_score, precision_score, recall_score\n",
    "from sklearn.model_selection import train_test_split\n",
    "from sklearn.metrics import classification_report"
   ]
  },
  {
   "cell_type": "code",
   "execution_count": 2,
   "metadata": {},
   "outputs": [
    {
     "data": {
      "image/png": "[encoded data removed]",
      "text/plain": [
       "<Figure size 640x480 with 1 Axes>"
      ]
     },
     "metadata": {},
     "output_type": "display_data"
    }
   ],
   "source": [
    "# Define a list of filenames to load\n",
    "filenames = [\"../data/labeled_data/generic_test_0.json\"]\n",
    "\n",
    "# Load all JSON data and concatenate into one DataFrame\n",
    "dfs = []\n",
    "for filename in filenames:\n",
    "    with open(filename) as f:\n",
    "        data = json.load(f)\n",
    "    df = pd.DataFrame(data[\"train\"])\n",
    "    dfs.append(df)\n",
    "df_all = pd.concat(dfs)\n",
    "\n",
    "# Generate exploratory data analysis on each column\n",
    "plt.hist(df_all[\"campaign_name\"], bins=20)\n",
    "plt.title(\"campaign_name\")\n",
    "plt.show()"
   ]
  },
  {
   "cell_type": "code",
   "execution_count": 3,
   "metadata": {},
   "outputs": [
    {
     "data": {
      "text/html": [
       "<div>\n",
       "<style scoped>\n",
       "    .dataframe tbody tr th:only-of-type {\n",
       "        vertical-align: middle;\n",
       "    }\n",
       "\n",
       "    .dataframe tbody tr th {\n",
       "        vertical-align: top;\n",
       "    }\n",
       "\n",
       "    .dataframe thead th {\n",
       "        text-align: right;\n",
       "    }\n",
       "</style>\n",
       "<table border=\"1\" class=\"dataframe\">\n",
       "  <thead>\n",
       "    <tr style=\"text-align: right;\">\n",
       "      <th></th>\n",
       "      <th>id</th>\n",
       "      <th>campaign_name</th>\n",
       "      <th>text</th>\n",
       "      <th>annotations</th>\n",
       "    </tr>\n",
       "  </thead>\n",
       "  <tbody>\n",
       "    <tr>\n",
       "      <th>0</th>\n",
       "      <td>891103871484870657</td>\n",
       "      <td>VENEZUELA_201901_2</td>\n",
       "      <td>How life may find a way on Saturn's moon https...</td>\n",
       "      <td>[Science/Technology]</td>\n",
       "    </tr>\n",
       "    <tr>\n",
       "      <th>1</th>\n",
       "      <td>898650367067664384</td>\n",
       "      <td>VENEZUELA_201901_2</td>\n",
       "      <td>RightWing Millennial Retweet RT RT_America to ...</td>\n",
       "      <td>[Others]</td>\n",
       "    </tr>\n",
       "    <tr>\n",
       "      <th>2</th>\n",
       "      <td>1012051694136512512</td>\n",
       "      <td>IRA_202012</td>\n",
       "      <td>The tobacco industry then peddles their produc...</td>\n",
       "      <td>[Health, Justice/Crime, Macroeconomics/Economi...</td>\n",
       "    </tr>\n",
       "    <tr>\n",
       "      <th>3</th>\n",
       "      <td>1296389394883063810</td>\n",
       "      <td>UGANDA_0621</td>\n",
       "      <td>RT @brianmixologist: Today, i want to salute a...</td>\n",
       "      <td>[Others]</td>\n",
       "    </tr>\n",
       "    <tr>\n",
       "      <th>4</th>\n",
       "      <td>1286189347973279746</td>\n",
       "      <td>UGANDA_0621</td>\n",
       "      <td>RT @ArthurMirama: You can only under estimate ...</td>\n",
       "      <td>[Government/Public]</td>\n",
       "    </tr>\n",
       "    <tr>\n",
       "      <th>5</th>\n",
       "      <td>1125360943926476805</td>\n",
       "      <td>GRU_202012</td>\n",
       "      <td>HTS militants shelled Mharda from Ltamenah onc...</td>\n",
       "      <td>[War/Terror]</td>\n",
       "    </tr>\n",
       "    <tr>\n",
       "      <th>6</th>\n",
       "      <td>1127857811856216064</td>\n",
       "      <td>REA_0621</td>\n",
       "      <td>Mohlakeng petrol bombing: town councilor susta...</td>\n",
       "      <td>[War/Terror]</td>\n",
       "    </tr>\n",
       "    <tr>\n",
       "      <th>7</th>\n",
       "      <td>1245803388652183553</td>\n",
       "      <td>IRA_202012</td>\n",
       "      <td>González: \\n • We tried to break the power of ...</td>\n",
       "      <td>[Government/Public]</td>\n",
       "    </tr>\n",
       "    <tr>\n",
       "      <th>8</th>\n",
       "      <td>1038830348455563265</td>\n",
       "      <td>GRU_202012</td>\n",
       "      <td>The National Intelligence Organization #Turkis...</td>\n",
       "      <td>[War/Terror]</td>\n",
       "    </tr>\n",
       "    <tr>\n",
       "      <th>9</th>\n",
       "      <td>1301007858327224320</td>\n",
       "      <td>IRA_202012</td>\n",
       "      <td>RT @telesurenglish: #Brazil | Supreme  Court o...</td>\n",
       "      <td>[Justice/Crime]</td>\n",
       "    </tr>\n",
       "  </tbody>\n",
       "</table>\n",
       "</div>"
      ],
      "text/plain": [
       "                    id       campaign_name  \\\n",
       "0   891103871484870657  VENEZUELA_201901_2   \n",
       "1   898650367067664384  VENEZUELA_201901_2   \n",
       "2  1012051694136512512          IRA_202012   \n",
       "3  1296389394883063810         UGANDA_0621   \n",
       "4  1286189347973279746         UGANDA_0621   \n",
       "5  1125360943926476805          GRU_202012   \n",
       "6  1127857811856216064            REA_0621   \n",
       "7  1245803388652183553          IRA_202012   \n",
       "8  1038830348455563265          GRU_202012   \n",
       "9  1301007858327224320          IRA_202012   \n",
       "\n",
       "                                                text  \\\n",
       "0  How life may find a way on Saturn's moon https...   \n",
       "1  RightWing Millennial Retweet RT RT_America to ...   \n",
       "2  The tobacco industry then peddles their produc...   \n",
       "3  RT @brianmixologist: Today, i want to salute a...   \n",
       "4  RT @ArthurMirama: You can only under estimate ...   \n",
       "5  HTS militants shelled Mharda from Ltamenah onc...   \n",
       "6  Mohlakeng petrol bombing: town councilor susta...   \n",
       "7  González: \\n • We tried to break the power of ...   \n",
       "8  The National Intelligence Organization #Turkis...   \n",
       "9  RT @telesurenglish: #Brazil | Supreme  Court o...   \n",
       "\n",
       "                                         annotations  \n",
       "0                               [Science/Technology]  \n",
       "1                                           [Others]  \n",
       "2  [Health, Justice/Crime, Macroeconomics/Economi...  \n",
       "3                                           [Others]  \n",
       "4                                [Government/Public]  \n",
       "5                                       [War/Terror]  \n",
       "6                                       [War/Terror]  \n",
       "7                                [Government/Public]  \n",
       "8                                       [War/Terror]  \n",
       "9                                    [Justice/Crime]  "
      ]
     },
     "execution_count": 3,
     "metadata": {},
     "output_type": "execute_result"
    }
   ],
   "source": [
    "df_all.head(10)"
   ]
  },
  {
   "cell_type": "code",
   "execution_count": 26,
   "metadata": {},
   "outputs": [
    {
     "data": {
      "text/plain": [
       "['A 53-year-old Zambian national Willie Oliver Ndembela who served as Special Assistant to the African Union Commissioner of Trade and Industry of His Excellency Albert Muchanga has passed away in Addis Ababa, Ethiopia. https://t.co/XJhUMswaYk',\n",
       " '“Black Lives Matter” Issues Revolting Anti-Christian Message on Christmas https://t.co/d5ENa6CY01 https://t.co/kHeQq1VtyA',\n",
       " 'RT @OfwonoOpondo: Remind them of the #ArmyCommander who never finished the #LRA rebellion but instead fled the war front. https://t.co/75SK…',\n",
       " 'It appears that overground pedestrian walkways can’t save people’s lives\\nhttps://t.co/l3tyUFfNb3',\n",
       " 'RT @VeP7212WrmXMQGI++pK5Mrn2cOXrzHm71gg7YwrpNU=: UPDF soldiers in Somalia keeping law &amp; order\\n#securityug https://t.co/zRzCIP4u9W',\n",
       " 'Trump SMASHES Obama’s Weak Cuba Policy, Puts Castro “On Notice” https://t.co/o46bDVWAy0 https://t.co/elXWnetyiv',\n",
       " 'RT @CQvMyyB0YfvwrUrsaZ6KI7yqaJfSUDTrAI0joQhgMA=: A good morning https://t.co/e0WgHDxlfN',\n",
       " \"RT @klienteug: This guy deserves a Ballon d'Or for this tweet! RT if you agree! 👏👏 @FeralJack_ https://t.co/Ffrpy8irEG\",\n",
       " 'Zambia is going to receive US $9m from the International Finance Corporation (IFC) for construction of Zambian hotel and conference centre on the suburbs of Lusaka. https://t.co/KtbVyQEdGV',\n",
       " 'This Friday, September 25, the project \" Voluntary surrender of arms and ammunition \" was launched during the official ceremony attended by President of the #CentralAfricanRepublic Faustin Archange Touadéra and other high officials. https://t.co/Cii7z2giCD']"
      ]
     },
     "execution_count": 26,
     "metadata": {},
     "output_type": "execute_result"
    }
   ],
   "source": [
    "df.sample(10, random_state=42).text.to_list()"
   ]
  },
  {
   "cell_type": "code",
   "execution_count": 27,
   "metadata": {},
   "outputs": [
    {
     "data": {
      "text/html": [
       "<div>\n",
       "<style scoped>\n",
       "    .dataframe tbody tr th:only-of-type {\n",
       "        vertical-align: middle;\n",
       "    }\n",
       "\n",
       "    .dataframe tbody tr th {\n",
       "        vertical-align: top;\n",
       "    }\n",
       "\n",
       "    .dataframe thead th {\n",
       "        text-align: right;\n",
       "    }\n",
       "</style>\n",
       "<table border=\"1\" class=\"dataframe\">\n",
       "  <thead>\n",
       "    <tr style=\"text-align: right;\">\n",
       "      <th></th>\n",
       "      <th>id</th>\n",
       "      <th>campaign_name</th>\n",
       "      <th>text</th>\n",
       "      <th>annotations</th>\n",
       "    </tr>\n",
       "  </thead>\n",
       "  <tbody>\n",
       "    <tr>\n",
       "      <th>2384</th>\n",
       "      <td>1146000034468642816</td>\n",
       "      <td>REA_0621</td>\n",
       "      <td>A 53-year-old Zambian national Willie Oliver N...</td>\n",
       "      <td>[Others]</td>\n",
       "    </tr>\n",
       "    <tr>\n",
       "      <th>2538</th>\n",
       "      <td>813703007321747457</td>\n",
       "      <td>VENEZUELA_201901_2</td>\n",
       "      <td>“Black Lives Matter” Issues Revolting Anti-Chr...</td>\n",
       "      <td>[Government/Public, Religion]</td>\n",
       "    </tr>\n",
       "    <tr>\n",
       "      <th>2176</th>\n",
       "      <td>1334503991338741761</td>\n",
       "      <td>UGANDA_0621</td>\n",
       "      <td>RT @OfwonoOpondo: Remind them of the #ArmyComm...</td>\n",
       "      <td>[Government/Public, War/Terror]</td>\n",
       "    </tr>\n",
       "    <tr>\n",
       "      <th>897</th>\n",
       "      <td>1106164086105165824</td>\n",
       "      <td>REA_0621</td>\n",
       "      <td>It appears that overground pedestrian walkways...</td>\n",
       "      <td>[Others]</td>\n",
       "    </tr>\n",
       "    <tr>\n",
       "      <th>214</th>\n",
       "      <td>1341711164124909571</td>\n",
       "      <td>UGANDA_0621</td>\n",
       "      <td>RT @VeP7212WrmXMQGI++pK5Mrn2cOXrzHm71gg7YwrpNU...</td>\n",
       "      <td>[Government/Public]</td>\n",
       "    </tr>\n",
       "    <tr>\n",
       "      <th>2380</th>\n",
       "      <td>875853861570969600</td>\n",
       "      <td>VENEZUELA_201901_2</td>\n",
       "      <td>Trump SMASHES Obama’s Weak Cuba Policy, Puts C...</td>\n",
       "      <td>[Government/Public]</td>\n",
       "    </tr>\n",
       "    <tr>\n",
       "      <th>2714</th>\n",
       "      <td>1199199063859703809</td>\n",
       "      <td>UGANDA_0621</td>\n",
       "      <td>RT @CQvMyyB0YfvwrUrsaZ6KI7yqaJfSUDTrAI0joQhgMA...</td>\n",
       "      <td>[Others]</td>\n",
       "    </tr>\n",
       "    <tr>\n",
       "      <th>2576</th>\n",
       "      <td>1197191807442071552</td>\n",
       "      <td>UGANDA_0621</td>\n",
       "      <td>RT @klienteug: This guy deserves a Ballon d'Or...</td>\n",
       "      <td>[Others]</td>\n",
       "    </tr>\n",
       "    <tr>\n",
       "      <th>102</th>\n",
       "      <td>1156236257502138369</td>\n",
       "      <td>REA_0621</td>\n",
       "      <td>Zambia is going to receive US $9m from the Int...</td>\n",
       "      <td>[Others]</td>\n",
       "    </tr>\n",
       "    <tr>\n",
       "      <th>192</th>\n",
       "      <td>1310597880655343618</td>\n",
       "      <td>REA_0621</td>\n",
       "      <td>This Friday, September 25, the project \" Volun...</td>\n",
       "      <td>[Government/Public]</td>\n",
       "    </tr>\n",
       "  </tbody>\n",
       "</table>\n",
       "</div>"
      ],
      "text/plain": [
       "                       id       campaign_name  \\\n",
       "2384  1146000034468642816            REA_0621   \n",
       "2538   813703007321747457  VENEZUELA_201901_2   \n",
       "2176  1334503991338741761         UGANDA_0621   \n",
       "897   1106164086105165824            REA_0621   \n",
       "214   1341711164124909571         UGANDA_0621   \n",
       "2380   875853861570969600  VENEZUELA_201901_2   \n",
       "2714  1199199063859703809         UGANDA_0621   \n",
       "2576  1197191807442071552         UGANDA_0621   \n",
       "102   1156236257502138369            REA_0621   \n",
       "192   1310597880655343618            REA_0621   \n",
       "\n",
       "                                                   text  \\\n",
       "2384  A 53-year-old Zambian national Willie Oliver N...   \n",
       "2538  “Black Lives Matter” Issues Revolting Anti-Chr...   \n",
       "2176  RT @OfwonoOpondo: Remind them of the #ArmyComm...   \n",
       "897   It appears that overground pedestrian walkways...   \n",
       "214   RT @VeP7212WrmXMQGI++pK5Mrn2cOXrzHm71gg7YwrpNU...   \n",
       "2380  Trump SMASHES Obama’s Weak Cuba Policy, Puts C...   \n",
       "2714  RT @CQvMyyB0YfvwrUrsaZ6KI7yqaJfSUDTrAI0joQhgMA...   \n",
       "2576  RT @klienteug: This guy deserves a Ballon d'Or...   \n",
       "102   Zambia is going to receive US $9m from the Int...   \n",
       "192   This Friday, September 25, the project \" Volun...   \n",
       "\n",
       "                          annotations  \n",
       "2384                         [Others]  \n",
       "2538    [Government/Public, Religion]  \n",
       "2176  [Government/Public, War/Terror]  \n",
       "897                          [Others]  \n",
       "214               [Government/Public]  \n",
       "2380              [Government/Public]  \n",
       "2714                         [Others]  \n",
       "2576                         [Others]  \n",
       "102                          [Others]  \n",
       "192               [Government/Public]  "
      ]
     },
     "execution_count": 27,
     "metadata": {},
     "output_type": "execute_result"
    }
   ],
   "source": [
    "df.sample(10, random_state=42)"
   ]
  },
  {
   "cell_type": "code",
   "execution_count": 25,
   "metadata": {},
   "outputs": [
    {
     "data": {
      "text/plain": [
       "['RT @Ben_Jonson_1985: Hayat Tahrir al-Sham militants wounded in the battles with Jebhat Tahrir Suria in the province of #Idlib were evacuate…',\n",
       " 'Zimbabwean soldiers took control under Bulawayo roadblocks\\nhttps://t.co/dyg5BWrHhr',\n",
       " 'Employees of the #Russian center for reconciliation of the warring sides handed over about 500 food sets to the residents of the settlement of Ash-Shih in the province of #Hama. In each of the packages are canned meat, rice, flour #Syria https://t.co/OQPnGsCCwI',\n",
       " 'Militants from Kafr-Nbud fired at the observation post of government troops with a machine gun and a grenade launcher. Five SAA troops wounded. https://t.co/2In5M93Ecn',\n",
       " 'A Formed Police Unit (FPU) from Indonesia serving with MINUSCA conduct daily patrols in sensitive areas of Bangui in order to protect civilians. #YearReview2019 https://t.co/GptQHdIN6w',\n",
       " 'The #Israeli air force flew several flights over eastern #Lebanon, causing fears of a possible attack. https://t.co/yy3RXx5kHO',\n",
       " 'RT @G5nE3ajI2z40AWSLJhFYOqSTLGCb2dN8vQXb5Fe7WEk=: ▶ #Libya: #UAE air strikes\\n▶ #Serbia: mass protests\\n▶ Exchange of strikes between #Armenia and #Azerbaijan\\n▶ Unrest in #Mali\\n▶…',\n",
       " 'The Syrian army, with the support of the aviation of the Russian Air Force and the Air Force of the United Arab Emirates, began the assault on the last major settlement of Shajar, still controlled by the militants ISIS https://t.co/ye9nlUPKOG',\n",
       " 'In the village of Topez in the Syrian governorate of Hasakah, the Russian military carried out another humanitarian action and provided medical care to local residents. \\n#Syria https://t.co/3P85bVdAKr',\n",
       " 'RT @irmilitaryvlog: Islamic Revolution Day in #Iran: \"Thanks Trump, for revealing the true face of the US\" #الله_اکبر https://t.co/Omc8D1Jq…']"
      ]
     },
     "execution_count": 25,
     "metadata": {},
     "output_type": "execute_result"
    }
   ],
   "source": [
    "df[df['annotations'].apply(lambda x: \"War/Terror\" in x)].sample(10, random_state=42).text.to_list()"
   ]
  },
  {
   "cell_type": "code",
   "execution_count": 21,
   "metadata": {},
   "outputs": [
    {
     "data": {
      "text/html": [
       "<div>\n",
       "<style scoped>\n",
       "    .dataframe tbody tr th:only-of-type {\n",
       "        vertical-align: middle;\n",
       "    }\n",
       "\n",
       "    .dataframe tbody tr th {\n",
       "        vertical-align: top;\n",
       "    }\n",
       "\n",
       "    .dataframe thead th {\n",
       "        text-align: right;\n",
       "    }\n",
       "</style>\n",
       "<table border=\"1\" class=\"dataframe\">\n",
       "  <thead>\n",
       "    <tr style=\"text-align: right;\">\n",
       "      <th></th>\n",
       "      <th>id</th>\n",
       "      <th>campaign_name</th>\n",
       "      <th>text</th>\n",
       "      <th>annotations</th>\n",
       "    </tr>\n",
       "  </thead>\n",
       "  <tbody>\n",
       "    <tr>\n",
       "      <th>2467</th>\n",
       "      <td>980324496266625024</td>\n",
       "      <td>GRU_202012</td>\n",
       "      <td>RT @Ben_Jonson_1985: Hayat Tahrir al-Sham mili...</td>\n",
       "      <td>[War/Terror]</td>\n",
       "    </tr>\n",
       "    <tr>\n",
       "      <th>1153</th>\n",
       "      <td>1088041693646151685</td>\n",
       "      <td>REA_0621</td>\n",
       "      <td>Zimbabwean soldiers took control under Bulaway...</td>\n",
       "      <td>[War/Terror]</td>\n",
       "    </tr>\n",
       "    <tr>\n",
       "      <th>2773</th>\n",
       "      <td>1008337766755815425</td>\n",
       "      <td>GRU_202012</td>\n",
       "      <td>Employees of the #Russian center for reconcili...</td>\n",
       "      <td>[Health, War/Terror]</td>\n",
       "    </tr>\n",
       "    <tr>\n",
       "      <th>342</th>\n",
       "      <td>1125155556044476420</td>\n",
       "      <td>GRU_202012</td>\n",
       "      <td>Militants from Kafr-Nbud fired at the observat...</td>\n",
       "      <td>[War/Terror]</td>\n",
       "    </tr>\n",
       "    <tr>\n",
       "      <th>963</th>\n",
       "      <td>1212676154265604096</td>\n",
       "      <td>REA_0621</td>\n",
       "      <td>A Formed Police Unit (FPU) from Indonesia serv...</td>\n",
       "      <td>[War/Terror]</td>\n",
       "    </tr>\n",
       "    <tr>\n",
       "      <th>1612</th>\n",
       "      <td>1049919201530523648</td>\n",
       "      <td>GRU_202012</td>\n",
       "      <td>The #Israeli air force flew several flights ov...</td>\n",
       "      <td>[War/Terror]</td>\n",
       "    </tr>\n",
       "    <tr>\n",
       "      <th>2987</th>\n",
       "      <td>1283301371077373952</td>\n",
       "      <td>IRA_202012</td>\n",
       "      <td>RT @G5nE3ajI2z40AWSLJhFYOqSTLGCb2dN8vQXb5Fe7WE...</td>\n",
       "      <td>[War/Terror]</td>\n",
       "    </tr>\n",
       "    <tr>\n",
       "      <th>2843</th>\n",
       "      <td>1023945297095995393</td>\n",
       "      <td>GRU_202012</td>\n",
       "      <td>The Syrian army, with the support of the aviat...</td>\n",
       "      <td>[War/Terror]</td>\n",
       "    </tr>\n",
       "    <tr>\n",
       "      <th>1724</th>\n",
       "      <td>1208038218844823554</td>\n",
       "      <td>GRU_202012</td>\n",
       "      <td>In the village of Topez in the Syrian governor...</td>\n",
       "      <td>[Health, War/Terror]</td>\n",
       "    </tr>\n",
       "    <tr>\n",
       "      <th>2659</th>\n",
       "      <td>830146136602243073</td>\n",
       "      <td>IRA_202012</td>\n",
       "      <td>RT @irmilitaryvlog: Islamic Revolution Day in ...</td>\n",
       "      <td>[Government/Public, War/Terror, Religion]</td>\n",
       "    </tr>\n",
       "  </tbody>\n",
       "</table>\n",
       "</div>"
      ],
      "text/plain": [
       "                       id campaign_name  \\\n",
       "2467   980324496266625024    GRU_202012   \n",
       "1153  1088041693646151685      REA_0621   \n",
       "2773  1008337766755815425    GRU_202012   \n",
       "342   1125155556044476420    GRU_202012   \n",
       "963   1212676154265604096      REA_0621   \n",
       "1612  1049919201530523648    GRU_202012   \n",
       "2987  1283301371077373952    IRA_202012   \n",
       "2843  1023945297095995393    GRU_202012   \n",
       "1724  1208038218844823554    GRU_202012   \n",
       "2659   830146136602243073    IRA_202012   \n",
       "\n",
       "                                                   text  \\\n",
       "2467  RT @Ben_Jonson_1985: Hayat Tahrir al-Sham mili...   \n",
       "1153  Zimbabwean soldiers took control under Bulaway...   \n",
       "2773  Employees of the #Russian center for reconcili...   \n",
       "342   Militants from Kafr-Nbud fired at the observat...   \n",
       "963   A Formed Police Unit (FPU) from Indonesia serv...   \n",
       "1612  The #Israeli air force flew several flights ov...   \n",
       "2987  RT @G5nE3ajI2z40AWSLJhFYOqSTLGCb2dN8vQXb5Fe7WE...   \n",
       "2843  The Syrian army, with the support of the aviat...   \n",
       "1724  In the village of Topez in the Syrian governor...   \n",
       "2659  RT @irmilitaryvlog: Islamic Revolution Day in ...   \n",
       "\n",
       "                                    annotations  \n",
       "2467                               [War/Terror]  \n",
       "1153                               [War/Terror]  \n",
       "2773                       [Health, War/Terror]  \n",
       "342                                [War/Terror]  \n",
       "963                                [War/Terror]  \n",
       "1612                               [War/Terror]  \n",
       "2987                               [War/Terror]  \n",
       "2843                               [War/Terror]  \n",
       "1724                       [Health, War/Terror]  \n",
       "2659  [Government/Public, War/Terror, Religion]  "
      ]
     },
     "execution_count": 21,
     "metadata": {},
     "output_type": "execute_result"
    }
   ],
   "source": [
    "df[df['annotations'].apply(lambda x: \"War/Terror\" in x)].sample(10, random_state=42)"
   ]
  },
  {
   "cell_type": "code",
   "execution_count": 4,
   "metadata": {},
   "outputs": [
    {
     "name": "stdout",
     "output_type": "stream",
     "text": [
      "<class 'pandas.core.frame.DataFrame'>\n",
      "RangeIndex: 3200 entries, 0 to 3199\n",
      "Data columns (total 4 columns):\n",
      " #   Column         Non-Null Count  Dtype \n",
      "---  ------         --------------  ----- \n",
      " 0   id             3200 non-null   object\n",
      " 1   campaign_name  3200 non-null   object\n",
      " 2   text           3200 non-null   object\n",
      " 3   annotations    3200 non-null   object\n",
      "dtypes: object(4)\n",
      "memory usage: 100.1+ KB\n"
     ]
    }
   ],
   "source": [
    "df_all.info()"
   ]
  },
  {
   "cell_type": "code",
   "execution_count": 5,
   "metadata": {},
   "outputs": [
    {
     "name": "stdout",
     "output_type": "stream",
     "text": [
      "Training set class frequencies:\n",
      "[Others]                                                                                        0.264062\n",
      "[War/Terror]                                                                                    0.140234\n",
      "[Government/Public]                                                                             0.134766\n",
      "[Justice/Crime]                                                                                 0.085547\n",
      "[Government/Public, War/Terror]                                                                 0.024609\n",
      "                                                                                                  ...   \n",
      "[Conspiracy Theory, Government/Public, Labor/Employment, Macroeconomics/Economic Regulation]    0.000391\n",
      "[Conspiracy Theory, Macroeconomics/Economic Regulation]                                         0.000391\n",
      "[Election Campaign, Macroeconomics/Economic Regulation, Media/Journalism]                       0.000391\n",
      "[Government/Public, Immigration/Integration, Media/Journalism]                                  0.000391\n",
      "[Conspiracy Theory, Government/Public, Religion]                                                0.000391\n",
      "Name: annotations, Length: 153, dtype: float64\n",
      "\n",
      "Testing set class frequencies:\n",
      "[Others]                                                    0.257812\n",
      "[War/Terror]                                                0.120313\n",
      "[Government/Public]                                         0.117188\n",
      "[Justice/Crime]                                             0.092188\n",
      "[Government/Public, Justice/Crime]                          0.029687\n",
      "                                                              ...   \n",
      "[Education, Election Campaign, Government/Public]           0.001563\n",
      "[Labor/Employment, Macroeconomics/Economic Regulation]      0.001563\n",
      "[Government/Public, Immigration/Integration, War/Terror]    0.001563\n",
      "[Education, Others]                                         0.001563\n",
      "[Government/Public, Science/Technology]                     0.001563\n",
      "Name: annotations, Length: 79, dtype: float64\n"
     ]
    }
   ],
   "source": [
    "# Split the data into training and testing sets\n",
    "X_train, X_test, y_train, y_test = train_test_split(df_all[\"text\"], df_all[\"annotations\"], test_size=0.2, random_state=42)\n",
    "\n",
    "# Calculate the class frequencies for the training and testing sets\n",
    "train_freq = y_train.value_counts(normalize=True)\n",
    "test_freq = y_test.value_counts(normalize=True)\n",
    "\n",
    "# Print the results\n",
    "print(\"Training set class frequencies:\")\n",
    "print(train_freq)\n",
    "print()\n",
    "print(\"Testing set class frequencies:\")\n",
    "print(test_freq)"
   ]
  },
  {
   "cell_type": "code",
   "execution_count": 6,
   "metadata": {},
   "outputs": [
    {
     "name": "stdout",
     "output_type": "stream",
     "text": [
      "Number of rows with multiple annotations: 925\n"
     ]
    }
   ],
   "source": [
    "# Count the number of rows with multiple annotations\n",
    "multi_count = df_all[df_all[\"annotations\"].apply(lambda x: len(x) > 1)].shape[0]\n",
    "\n",
    "# Print the result\n",
    "print(f\"Number of rows with multiple annotations: {multi_count}\")"
   ]
  },
  {
   "cell_type": "code",
   "execution_count": 7,
   "metadata": {},
   "outputs": [
    {
     "data": {
      "text/html": [
       "<div>\n",
       "<style scoped>\n",
       "    .dataframe tbody tr th:only-of-type {\n",
       "        vertical-align: middle;\n",
       "    }\n",
       "\n",
       "    .dataframe tbody tr th {\n",
       "        vertical-align: top;\n",
       "    }\n",
       "\n",
       "    .dataframe thead th {\n",
       "        text-align: right;\n",
       "    }\n",
       "</style>\n",
       "<table border=\"1\" class=\"dataframe\">\n",
       "  <thead>\n",
       "    <tr style=\"text-align: right;\">\n",
       "      <th></th>\n",
       "      <th>id</th>\n",
       "      <th>campaign_name</th>\n",
       "      <th>text</th>\n",
       "      <th>annotations</th>\n",
       "    </tr>\n",
       "  </thead>\n",
       "  <tbody>\n",
       "    <tr>\n",
       "      <th>0</th>\n",
       "      <td>891103871484870657</td>\n",
       "      <td>VENEZUELA_201901_2</td>\n",
       "      <td>How life may find a way on Saturn's moon https...</td>\n",
       "      <td>[Science/Technology]</td>\n",
       "    </tr>\n",
       "    <tr>\n",
       "      <th>1</th>\n",
       "      <td>898650367067664384</td>\n",
       "      <td>VENEZUELA_201901_2</td>\n",
       "      <td>RightWing Millennial Retweet RT RT_America to ...</td>\n",
       "      <td>[Others]</td>\n",
       "    </tr>\n",
       "    <tr>\n",
       "      <th>2</th>\n",
       "      <td>1012051694136512512</td>\n",
       "      <td>IRA_202012</td>\n",
       "      <td>The tobacco industry then peddles their produc...</td>\n",
       "      <td>[Health, Justice/Crime, Macroeconomics/Economi...</td>\n",
       "    </tr>\n",
       "    <tr>\n",
       "      <th>3</th>\n",
       "      <td>1296389394883063810</td>\n",
       "      <td>UGANDA_0621</td>\n",
       "      <td>RT @brianmixologist: Today, i want to salute a...</td>\n",
       "      <td>[Others]</td>\n",
       "    </tr>\n",
       "    <tr>\n",
       "      <th>4</th>\n",
       "      <td>1286189347973279746</td>\n",
       "      <td>UGANDA_0621</td>\n",
       "      <td>RT @ArthurMirama: You can only under estimate ...</td>\n",
       "      <td>[Government/Public]</td>\n",
       "    </tr>\n",
       "    <tr>\n",
       "      <th>...</th>\n",
       "      <td>...</td>\n",
       "      <td>...</td>\n",
       "      <td>...</td>\n",
       "      <td>...</td>\n",
       "    </tr>\n",
       "    <tr>\n",
       "      <th>3195</th>\n",
       "      <td>1090997040258187266</td>\n",
       "      <td>REA_0621</td>\n",
       "      <td>SABC will not carry out a staff reduction\\nhtt...</td>\n",
       "      <td>[Labor/Employment]</td>\n",
       "    </tr>\n",
       "    <tr>\n",
       "      <th>3196</th>\n",
       "      <td>818131935117443074</td>\n",
       "      <td>VENEZUELA_201901_2</td>\n",
       "      <td>Wikileaks To Hold Major Press Conf To Address ...</td>\n",
       "      <td>[Others]</td>\n",
       "    </tr>\n",
       "    <tr>\n",
       "      <th>3197</th>\n",
       "      <td>827160940944646145</td>\n",
       "      <td>VENEZUELA_201901_2</td>\n",
       "      <td>Death of veteran DRC opposition leader jeopard...</td>\n",
       "      <td>[Government/Public]</td>\n",
       "    </tr>\n",
       "    <tr>\n",
       "      <th>3198</th>\n",
       "      <td>896689467863511040</td>\n",
       "      <td>VENEZUELA_201901_2</td>\n",
       "      <td>#lost RT realDonaldTrump: Condolences to the f...</td>\n",
       "      <td>[Government/Public, Justice/Crime]</td>\n",
       "    </tr>\n",
       "    <tr>\n",
       "      <th>3199</th>\n",
       "      <td>1054823373006692352</td>\n",
       "      <td>GRU_202012</td>\n",
       "      <td>According to a source in the mukhabarate, the ...</td>\n",
       "      <td>[Government/Public, War/Terror]</td>\n",
       "    </tr>\n",
       "  </tbody>\n",
       "</table>\n",
       "<p>3200 rows × 4 columns</p>\n",
       "</div>"
      ],
      "text/plain": [
       "                       id       campaign_name  \\\n",
       "0      891103871484870657  VENEZUELA_201901_2   \n",
       "1      898650367067664384  VENEZUELA_201901_2   \n",
       "2     1012051694136512512          IRA_202012   \n",
       "3     1296389394883063810         UGANDA_0621   \n",
       "4     1286189347973279746         UGANDA_0621   \n",
       "...                   ...                 ...   \n",
       "3195  1090997040258187266            REA_0621   \n",
       "3196   818131935117443074  VENEZUELA_201901_2   \n",
       "3197   827160940944646145  VENEZUELA_201901_2   \n",
       "3198   896689467863511040  VENEZUELA_201901_2   \n",
       "3199  1054823373006692352          GRU_202012   \n",
       "\n",
       "                                                   text  \\\n",
       "0     How life may find a way on Saturn's moon https...   \n",
       "1     RightWing Millennial Retweet RT RT_America to ...   \n",
       "2     The tobacco industry then peddles their produc...   \n",
       "3     RT @brianmixologist: Today, i want to salute a...   \n",
       "4     RT @ArthurMirama: You can only under estimate ...   \n",
       "...                                                 ...   \n",
       "3195  SABC will not carry out a staff reduction\\nhtt...   \n",
       "3196  Wikileaks To Hold Major Press Conf To Address ...   \n",
       "3197  Death of veteran DRC opposition leader jeopard...   \n",
       "3198  #lost RT realDonaldTrump: Condolences to the f...   \n",
       "3199  According to a source in the mukhabarate, the ...   \n",
       "\n",
       "                                            annotations  \n",
       "0                                  [Science/Technology]  \n",
       "1                                              [Others]  \n",
       "2     [Health, Justice/Crime, Macroeconomics/Economi...  \n",
       "3                                              [Others]  \n",
       "4                                   [Government/Public]  \n",
       "...                                                 ...  \n",
       "3195                                 [Labor/Employment]  \n",
       "3196                                           [Others]  \n",
       "3197                                [Government/Public]  \n",
       "3198                 [Government/Public, Justice/Crime]  \n",
       "3199                    [Government/Public, War/Terror]  \n",
       "\n",
       "[3200 rows x 4 columns]"
      ]
     },
     "execution_count": 7,
     "metadata": {},
     "output_type": "execute_result"
    }
   ],
   "source": [
    "df_all"
   ]
  },
  {
   "cell_type": "code",
   "execution_count": 8,
   "metadata": {},
   "outputs": [
    {
     "data": {
      "text/html": [
       "<div>\n",
       "<style scoped>\n",
       "    .dataframe tbody tr th:only-of-type {\n",
       "        vertical-align: middle;\n",
       "    }\n",
       "\n",
       "    .dataframe tbody tr th {\n",
       "        vertical-align: top;\n",
       "    }\n",
       "\n",
       "    .dataframe thead th {\n",
       "        text-align: right;\n",
       "    }\n",
       "</style>\n",
       "<table border=\"1\" class=\"dataframe\">\n",
       "  <thead>\n",
       "    <tr style=\"text-align: right;\">\n",
       "      <th></th>\n",
       "      <th>id</th>\n",
       "      <th>campaign_name</th>\n",
       "      <th>text</th>\n",
       "      <th>annotations</th>\n",
       "      <th>text_processed</th>\n",
       "    </tr>\n",
       "  </thead>\n",
       "  <tbody>\n",
       "    <tr>\n",
       "      <th>0</th>\n",
       "      <td>891103871484870657</td>\n",
       "      <td>VENEZUELA_201901_2</td>\n",
       "      <td>How life may find a way on Saturn's moon https...</td>\n",
       "      <td>[Science/Technology]</td>\n",
       "      <td>how life may find a way on saturn s moon https...</td>\n",
       "    </tr>\n",
       "    <tr>\n",
       "      <th>1</th>\n",
       "      <td>898650367067664384</td>\n",
       "      <td>VENEZUELA_201901_2</td>\n",
       "      <td>RightWing Millennial Retweet RT RT_America to ...</td>\n",
       "      <td>[Others]</td>\n",
       "      <td>rightwing millennial retweet rt rt america to ...</td>\n",
       "    </tr>\n",
       "    <tr>\n",
       "      <th>2</th>\n",
       "      <td>1012051694136512512</td>\n",
       "      <td>IRA_202012</td>\n",
       "      <td>The tobacco industry then peddles their produc...</td>\n",
       "      <td>[Health, Justice/Crime, Macroeconomics/Economi...</td>\n",
       "      <td>the tobacco industry then peddles their produc...</td>\n",
       "    </tr>\n",
       "    <tr>\n",
       "      <th>3</th>\n",
       "      <td>1296389394883063810</td>\n",
       "      <td>UGANDA_0621</td>\n",
       "      <td>RT @brianmixologist: Today, i want to salute a...</td>\n",
       "      <td>[Others]</td>\n",
       "      <td>rt  brianmixologist  today  i want to salute a...</td>\n",
       "    </tr>\n",
       "    <tr>\n",
       "      <th>4</th>\n",
       "      <td>1286189347973279746</td>\n",
       "      <td>UGANDA_0621</td>\n",
       "      <td>RT @ArthurMirama: You can only under estimate ...</td>\n",
       "      <td>[Government/Public]</td>\n",
       "      <td>rt  arthurmirama  you can only under estimate ...</td>\n",
       "    </tr>\n",
       "  </tbody>\n",
       "</table>\n",
       "</div>"
      ],
      "text/plain": [
       "                    id       campaign_name  \\\n",
       "0   891103871484870657  VENEZUELA_201901_2   \n",
       "1   898650367067664384  VENEZUELA_201901_2   \n",
       "2  1012051694136512512          IRA_202012   \n",
       "3  1296389394883063810         UGANDA_0621   \n",
       "4  1286189347973279746         UGANDA_0621   \n",
       "\n",
       "                                                text  \\\n",
       "0  How life may find a way on Saturn's moon https...   \n",
       "1  RightWing Millennial Retweet RT RT_America to ...   \n",
       "2  The tobacco industry then peddles their produc...   \n",
       "3  RT @brianmixologist: Today, i want to salute a...   \n",
       "4  RT @ArthurMirama: You can only under estimate ...   \n",
       "\n",
       "                                         annotations  \\\n",
       "0                               [Science/Technology]   \n",
       "1                                           [Others]   \n",
       "2  [Health, Justice/Crime, Macroeconomics/Economi...   \n",
       "3                                           [Others]   \n",
       "4                                [Government/Public]   \n",
       "\n",
       "                                      text_processed  \n",
       "0  how life may find a way on saturn s moon https...  \n",
       "1  rightwing millennial retweet rt rt america to ...  \n",
       "2  the tobacco industry then peddles their produc...  \n",
       "3  rt  brianmixologist  today  i want to salute a...  \n",
       "4  rt  arthurmirama  you can only under estimate ...  "
      ]
     },
     "execution_count": 8,
     "metadata": {},
     "output_type": "execute_result"
    }
   ],
   "source": [
    "stop_words = set(stopwords.words('english'))\n",
    "stemmer = SnowballStemmer('english')\n",
    "\n",
    "def preprocess_text(text):\n",
    "    text = re.sub('[^a-zA-Z]', ' ', text)\n",
    "    text = text.lower()\n",
    "    #text = [stemmer.stem(word) for word in text.split() if word not in stop_words]\n",
    "    #text = ' '.join(text)\n",
    "    return text\n",
    "\n",
    "df_all['text_processed'] = df_all['text'].apply(preprocess_text)\n",
    "df_all.head()"
   ]
  },
  {
   "cell_type": "code",
   "execution_count": 9,
   "metadata": {},
   "outputs": [
    {
     "name": "stdout",
     "output_type": "stream",
     "text": [
      "macro F1 score: 0.330311097697518\n",
      "macro Precision: 0.6084751575684207\n",
      "macro Recall: 0.2546265252613425\n",
      "micro F1 score: 0.6164874551971327\n",
      "micro Precision: 0.8269230769230769\n",
      "micro Recall: 0.49142857142857144\n"
     ]
    },
    {
     "name": "stderr",
     "output_type": "stream",
     "text": [
      "c:\\Users\\bruno\\.conda\\envs\\my_env\\lib\\site-packages\\sklearn\\metrics\\_classification.py:1344: UndefinedMetricWarning: Precision is ill-defined and being set to 0.0 in labels with no predicted samples. Use `zero_division` parameter to control this behavior.\n",
      "  _warn_prf(average, modifier, msg_start, len(result))\n"
     ]
    }
   ],
   "source": [
    "mlb = MultiLabelBinarizer()\n",
    "y = mlb.fit_transform(df_all['annotations'])\n",
    "\n",
    "X_train, X_test, y_train, y_test = train_test_split(df_all['text_processed'], y, test_size=0.2, random_state=42)\n",
    "\n",
    "vectorizer = TfidfVectorizer()\n",
    "X_train_tfidf = vectorizer.fit_transform(X_train)\n",
    "X_test_tfidf = vectorizer.transform(X_test)\n",
    "clf = OneVsRestClassifier(LinearSVC())\n",
    "clf.fit(X_train_tfidf, y_train)\n",
    "\n",
    "y_pred = clf.predict(X_test_tfidf)\n",
    "print('macro F1 score:', f1_score(y_test, y_pred, average='macro'))\n",
    "print('macro Precision:', precision_score(y_test, y_pred, average='macro'))\n",
    "print('macro Recall:', recall_score(y_test, y_pred, average='macro'))\n",
    "print('micro F1 score:', f1_score(y_test, y_pred, average='micro'))\n",
    "print('micro Precision:', precision_score(y_test, y_pred, average='micro'))\n",
    "print('micro Recall:', recall_score(y_test, y_pred, average='micro'))"
   ]
  },
  {
   "cell_type": "code",
   "execution_count": 10,
   "metadata": {},
   "outputs": [
    {
     "name": "stderr",
     "output_type": "stream",
     "text": [
      "c:\\Users\\bruno\\.conda\\envs\\my_env\\lib\\site-packages\\sklearn\\metrics\\_classification.py:1344: UndefinedMetricWarning: Precision and F-score are ill-defined and being set to 0.0 in labels with no predicted samples. Use `zero_division` parameter to control this behavior.\n",
      "  _warn_prf(average, modifier, msg_start, len(result))\n",
      "c:\\Users\\bruno\\.conda\\envs\\my_env\\lib\\site-packages\\sklearn\\metrics\\_classification.py:1344: UndefinedMetricWarning: Precision and F-score are ill-defined and being set to 0.0 in samples with no predicted labels. Use `zero_division` parameter to control this behavior.\n",
      "  _warn_prf(average, modifier, msg_start, len(result))\n"
     ]
    }
   ],
   "source": [
    "report = classification_report(y_test, y_pred, target_names=mlb.classes_, output_dict=True)"
   ]
  },
  {
   "cell_type": "code",
   "execution_count": 23,
   "metadata": {},
   "outputs": [
    {
     "name": "stdout",
     "output_type": "stream",
     "text": [
      "Conspiracy Theory: 162\n",
      "Education: 41\n",
      "Election Campaign: 86\n",
      "Environment: 31\n",
      "Government/Public: 797\n",
      "Health: 139\n",
      "Immigration/Integration: 122\n",
      "Justice/Crime: 366\n",
      "Labor/Employment: 67\n",
      "Macroeconomics/Economic Regulation: 151\n",
      "Media/Journalism: 118\n",
      "Others: 681\n",
      "Religion: 38\n",
      "Science/Technology: 30\n",
      "War/Terror: 611\n"
     ]
    }
   ],
   "source": [
    "from sklearn.metrics import precision_recall_fscore_support\n",
    "# Compute precision, recall, F1-score, and support\n",
    "precision, recall, f1_score, support = precision_recall_fscore_support(y_train, y_train)\n",
    "\n",
    "# Create a dictionary with class names as keys and support values as values\n",
    "class_support = dict(zip(mlb.classes_, support))\n",
    "\n",
    "# Print the support values for each class\n",
    "for class_name, support_value in class_support.items():\n",
    "    print(f\"{class_name}: {support_value}\")"
   ]
  },
  {
   "cell_type": "code",
   "execution_count": 19,
   "metadata": {},
   "outputs": [
    {
     "name": "stdout",
     "output_type": "stream",
     "text": [
      "| Label                              |   F1 Score |   Precision |   Recall |\n",
      "|:-----------------------------------|-----------:|------------:|---------:|\n",
      "| Conspiracy Theory                  |   0.357143 |    0.909091 | 0.222222 |\n",
      "| Education                          |   0        |    0        | 0        |\n",
      "| Election Campaign                  |   0.32     |    1        | 0.190476 |\n",
      "| Environment                        |   0        |    0        | 0        |\n",
      "| Government/Public                  |   0.673684 |    0.707182 | 0.643216 |\n",
      "| Health                             |   0.235294 |    1        | 0.133333 |\n",
      "| Immigration/Integration            |   0.528302 |    1        | 0.358974 |\n",
      "| Justice/Crime                      |   0.632911 |    0.847458 | 0.505051 |\n",
      "| Labor/Employment                   |   0        |    0        | 0        |\n",
      "| Macroeconomics/Economic Regulation |   0.255319 |    1        | 0.146341 |\n",
      "| Media/Journalism                   |   0.432432 |    0.888889 | 0.285714 |\n",
      "| Others                             |   0.65035  |    0.808696 | 0.54386  |\n",
      "| Religion                           |   0        |    0        | 0        |\n",
      "| Science/Technology                 |   0        |    0        | 0        |\n",
      "| War/Terror                         |   0.869231 |    0.965812 | 0.79021  |\n"
     ]
    }
   ],
   "source": [
    "from tabulate import tabulate\n",
    "\n",
    "table = []\n",
    "headers = [\"Label\", \"F1 Score\", \"Precision\", \"Recall\"]\n",
    "for label in mlb.classes_:\n",
    "    row = [label, report[label][\"f1-score\"], report[label][\"precision\"], report[label][\"recall\"]]\n",
    "    table.append(row)\n",
    "\n",
    "print(tabulate(table, headers=headers, tablefmt=\"pipe\"))"
   ]
  },
  {
   "cell_type": "code",
   "execution_count": 11,
   "metadata": {},
   "outputs": [
    {
     "data": {
      "image/png": "[encoded data removed]",
      "text/plain": [
       "<Figure size 1000x1000 with 1 Axes>"
      ]
     },
     "metadata": {},
     "output_type": "display_data"
    }
   ],
   "source": [
    "from sklearn.metrics import confusion_matrix\n",
    "import seaborn as sns\n",
    "import matplotlib.pyplot as plt\n",
    "\n",
    "# Compute the confusion matrix\n",
    "cm = confusion_matrix(y_test.argmax(axis=1), y_pred.argmax(axis=1))\n",
    "\n",
    "# Plot the confusion matrix using seaborn\n",
    "fig, ax = plt.subplots(figsize=(10, 10))\n",
    "sns.heatmap(cm, annot=True, fmt='d', cmap='Blues', cbar=False, ax=ax)\n",
    "plt.xlabel('Predicted Labels')\n",
    "plt.ylabel('True Labels')\n",
    "plt.show()"
   ]
  },
  {
   "cell_type": "code",
   "execution_count": 12,
   "metadata": {},
   "outputs": [
    {
     "data": {
      "text/plain": [
       "['Science/Technology']"
      ]
     },
     "execution_count": 12,
     "metadata": {},
     "output_type": "execute_result"
    }
   ],
   "source": [
    "df_all.iloc[0].annotations"
   ]
  },
  {
   "cell_type": "code",
   "execution_count": 13,
   "metadata": {},
   "outputs": [
    {
     "data": {
      "text/plain": [
       "'how life may find a way on saturn s moon https   t co acambg yam https   t co  jst itnvh'"
      ]
     },
     "execution_count": 13,
     "metadata": {},
     "output_type": "execute_result"
    }
   ],
   "source": [
    "df_all.iloc[0].text_processed"
   ]
  },
  {
   "cell_type": "code",
   "execution_count": 14,
   "metadata": {},
   "outputs": [
    {
     "name": "stdout",
     "output_type": "stream",
     "text": [
      "[()]\n"
     ]
    }
   ],
   "source": [
    "new_text = ['how life may find a way on saturn s moon https   t co acambg yam https   t co  jst itnvh']\n",
    "new_text_tfidf = vectorizer.transform(new_text)\n",
    "new_y_pred = clf.predict(new_text_tfidf)\n",
    "new_labels = mlb.inverse_transform(new_y_pred)\n",
    "print(new_labels)"
   ]
  }
 ],
 "metadata": {
  "kernelspec": {
   "display_name": "Python 3",
   "language": "python",
   "name": "python3"
  },
  "language_info": {
   "codemirror_mode": {
    "name": "ipython",
    "version": 3
   },
   "file_extension": ".py",
   "mimetype": "text/x-python",
   "name": "python",
   "nbconvert_exporter": "python",
   "pygments_lexer": "ipython3",
   "version": "3.11.2"
  },
  "orig_nbformat": 4,
  "vscode": {
   "interpreter": {
    "hash": "eb50d9a376658af569da5824a5416ffd44fb085b69b6badc2ac2c8869df562a9"
   }
  }
 },
 "nbformat": 4,
 "nbformat_minor": 2
}
