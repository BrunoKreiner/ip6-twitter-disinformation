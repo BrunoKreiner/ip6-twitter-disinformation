{
 "cells": [
  {
   "cell_type": "code",
   "execution_count": 1,
   "metadata": {},
   "outputs": [],
   "source": [
    "import sys\n",
    "import os\n",
    "sys.path.append(\"../src\")\n",
    "import llm_utils\n",
    "import warnings\n",
    "warnings.simplefilter(action='ignore', category=FutureWarning)\n",
    "import pandas as pd\n",
    "import seaborn as sns\n",
    "import matplotlib.pyplot as plt\n",
    "from sklearn.metrics import confusion_matrix, classification_report\n",
    "import ast\n",
    "import numpy as np\n",
    "from sklearn.preprocessing import MultiLabelBinarizer\n",
    "from sklearn.metrics import classification_report\n",
    "\n",
    "classes = [\"War/Terror\", \"Conspiracy Theory\", \"Education\", \"Election Campaign\", \"Environment\", \n",
    "              \"Government/Public\", \"Health\", \"Immigration/Integration\", \n",
    "              \"Justice/Crime\", \"Labor/Employment\", \n",
    "              \"Macroeconomics/Economic Regulation\", \"Media/Journalism\", \"Religion\", \"Science/Technology\"]\n",
    "\n",
    "def calculate_binary_metrics(df, class_short, class_full, extraction_function):\n",
    "    prediction_per_class = None\n",
    "    # Iterate through class labels and extract binary predictions\n",
    "    pred_column_name = f\"testbinary_{class_short}_v01\"\n",
    "    pred_column_df = df[df[pred_column_name].notna()].copy()\n",
    "    pred_column_df[pred_column_name] = pred_column_df[pred_column_name].apply(extraction_function)\n",
    "    prediction_per_class = pred_column_df\n",
    "\n",
    "    confusion_matrices = {}\n",
    "    classification_reports = {}\n",
    "    pred_column_name = f\"testbinary_{class_short}_v01\"\n",
    "\n",
    "    current_df = prediction_per_class\n",
    "    \n",
    "    # Ignore rows with NaN or invalid values in the predictions\n",
    "    try:\n",
    "        valid_rows = current_df[pred_column_name].notna()\n",
    "        \n",
    "        y_true = current_df.loc[valid_rows, 'annotations'].apply(lambda x: int(class_full in x))\n",
    "        y_pred = current_df.loc[valid_rows, pred_column_name].astype(int)\n",
    "    except KeyError:\n",
    "        y_true = []\n",
    "        y_pred = []\n",
    "    except TypeError:\n",
    "        y_true = []\n",
    "        y_pred = []\n",
    "    cm = confusion_matrix(y_true, y_pred)\n",
    "    confusion_matrices[class_full] = cm\n",
    "    cr = classification_report(y_true, y_pred, output_dict=True)\n",
    "    classification_reports[class_full] = cr\n",
    "\n",
    "    return prediction_per_class, confusion_matrices, classification_reports\n",
    "\n",
    "binary_war_lora_df = pd.read_csv(\"../data/vicuna_4bit/lora/binary_war_v01/test_generic_test_0.csv\")\n",
    "extraction_function = llm_utils.get_extraction_function(\"extract_using_class_token\", 1)\n",
    "_, confusion_matrices, classification_reports = calculate_binary_metrics(binary_war_lora_df, \"war\", \"War/Terror\", extraction_function)\n",
    "binary_war_lora = {\"confusion_matrices\": confusion_matrices, \"classification_reports\": classification_reports}\n",
    "\n",
    "binary_conspiracy_lora_df = pd.read_csv(\"../data/vicuna_4bit/lora/binary_conspiracy_theory_v01/test_generic_test_0.csv\")\n",
    "extraction_function = llm_utils.get_extraction_function(\"extract_using_class_token\", 1)\n",
    "_, confusion_matrices, classification_reports = calculate_binary_metrics(binary_conspiracy_lora_df,\"conspiracy_theory\", \"Conspiracy Theory\", extraction_function)\n",
    "binary_conspiracy_lora = {\"confusion_matrices\": confusion_matrices, \"classification_reports\": classification_reports}\n",
    "\n",
    "binary_education_lora_df = pd.read_csv(\"../data/vicuna_4bit/lora/binary_education_v01/test_generic_test_0.csv\")\n",
    "extraction_function = llm_utils.get_extraction_function(\"extract_using_class_token\", 1)\n",
    "_, confusion_matrices, classification_reports = calculate_binary_metrics(binary_education_lora_df,\"education\", \"Education\", extraction_function)\n",
    "binary_education_lora = {\"confusion_matrices\": confusion_matrices, \"classification_reports\": classification_reports}\n",
    "\n",
    "binary_election_campaigns_lora_df = pd.read_csv(\"../data/vicuna_4bit/lora/binary_election_v01/test_generic_test_0.csv\")\n",
    "extraction_function = llm_utils.get_extraction_function(\"extract_using_class_token\", 1)\n",
    "_, confusion_matrices, classification_reports = calculate_binary_metrics(binary_election_campaigns_lora_df,\"election\", \"Election Campaign\", extraction_function)\n",
    "binary_election_lora = {\"confusion_matrices\": confusion_matrices, \"classification_reports\": classification_reports}"
   ]
  },
  {
   "cell_type": "code",
   "execution_count": 2,
   "metadata": {},
   "outputs": [
    {
     "name": "stdout",
     "output_type": "stream",
     "text": [
      "{'confusion_matrices': {'War/Terror': array([[711,  34],\n",
      "       [ 22, 233]])}, 'classification_reports': {'War/Terror': {'0': {'precision': 0.9699863574351978, 'recall': 0.9543624161073826, 'f1-score': 0.9621109607577808, 'support': 745}, '1': {'precision': 0.8726591760299626, 'recall': 0.9137254901960784, 'f1-score': 0.89272030651341, 'support': 255}, 'accuracy': 0.944, 'macro avg': {'precision': 0.9213227667325802, 'recall': 0.9340439531517305, 'f1-score': 0.9274156336355954, 'support': 1000}, 'weighted avg': {'precision': 0.9451679261768628, 'recall': 0.944, 'f1-score': 0.9444163439254663, 'support': 1000}}}}\n",
      "{'confusion_matrices': {'Conspiracy Theory': array([[537, 397],\n",
      "       [  5,  39]])}, 'classification_reports': {'Conspiracy Theory': {'0': {'precision': 0.9907749077490775, 'recall': 0.5749464668094219, 'f1-score': 0.7276422764227642, 'support': 934}, '1': {'precision': 0.08944954128440367, 'recall': 0.8863636363636364, 'f1-score': 0.16250000000000003, 'support': 44}, 'accuracy': 0.588957055214724, 'macro avg': {'precision': 0.5401122245167406, 'recall': 0.7306550515865291, 'f1-score': 0.4450711382113821, 'support': 978}, 'weighted avg': {'precision': 0.9502244822639593, 'recall': 0.588957055214724, 'f1-score': 0.7022166525346235, 'support': 978}}}}\n",
      "{'confusion_matrices': {'Education': array([[823,  71],\n",
      "       [  3,  10]])}, 'classification_reports': {'Education': {'0': {'precision': 0.9963680387409201, 'recall': 0.9205816554809844, 'f1-score': 0.9569767441860465, 'support': 894}, '1': {'precision': 0.12345679012345678, 'recall': 0.7692307692307693, 'f1-score': 0.2127659574468085, 'support': 13}, 'accuracy': 0.918412348401323, 'macro avg': {'precision': 0.5599124144321884, 'recall': 0.8449062123558768, 'f1-score': 0.5848713508164275, 'support': 907}, 'weighted avg': {'precision': 0.9838566316493799, 'recall': 0.918412348401323, 'f1-score': 0.9463099964158038, 'support': 907}}}}\n",
      "{'confusion_matrices': {'Election Campaign': array([[833, 134],\n",
      "       [  4,  29]])}, 'classification_reports': {'Election Campaign': {'0': {'precision': 0.995221027479092, 'recall': 0.8614270941054809, 'f1-score': 0.9235033259423504, 'support': 967}, '1': {'precision': 0.17791411042944785, 'recall': 0.8787878787878788, 'f1-score': 0.29591836734693877, 'support': 33}, 'accuracy': 0.862, 'macro avg': {'precision': 0.58656756895427, 'recall': 0.8701074864466798, 'f1-score': 0.6097108466446446, 'support': 1000}, 'weighted avg': {'precision': 0.9682498992164538, 'recall': 0.862, 'f1-score': 0.9027930223087018, 'support': 1000}}}}\n"
     ]
    }
   ],
   "source": [
    "print(binary_war_lora)\n",
    "print(binary_conspiracy_lora)\n",
    "print(binary_education_lora)\n",
    "print(binary_election_lora)"
   ]
  },
  {
   "cell_type": "code",
   "execution_count": 30,
   "metadata": {},
   "outputs": [
    {
     "data": {
      "text/plain": [
       "{'confusion_matrices': {'Conspiracy Theory': array([[537, 397],\n",
       "         [  5,  39]])},\n",
       " 'classification_reports': {'Conspiracy Theory': {'0': {'precision': 0.9907749077490775,\n",
       "    'recall': 0.5749464668094219,\n",
       "    'f1-score': 0.7276422764227642,\n",
       "    'support': 934},\n",
       "   '1': {'precision': 0.08944954128440367,\n",
       "    'recall': 0.8863636363636364,\n",
       "    'f1-score': 0.16250000000000003,\n",
       "    'support': 44},\n",
       "   'accuracy': 0.588957055214724,\n",
       "   'macro avg': {'precision': 0.5401122245167406,\n",
       "    'recall': 0.7306550515865291,\n",
       "    'f1-score': 0.4450711382113821,\n",
       "    'support': 978},\n",
       "   'weighted avg': {'precision': 0.9502244822639593,\n",
       "    'recall': 0.588957055214724,\n",
       "    'f1-score': 0.7022166525346235,\n",
       "    'support': 978}}}}"
      ]
     },
     "execution_count": 30,
     "metadata": {},
     "output_type": "execute_result"
    }
   ],
   "source": [
    "binary_conspiracy_lora"
   ]
  },
  {
   "cell_type": "code",
   "execution_count": 31,
   "metadata": {},
   "outputs": [
    {
     "data": {
      "text/plain": [
       "{'confusion_matrices': {'Education': array([[823,  71],\n",
       "         [  3,  10]])},\n",
       " 'classification_reports': {'Education': {'0': {'precision': 0.9963680387409201,\n",
       "    'recall': 0.9205816554809844,\n",
       "    'f1-score': 0.9569767441860465,\n",
       "    'support': 894},\n",
       "   '1': {'precision': 0.12345679012345678,\n",
       "    'recall': 0.7692307692307693,\n",
       "    'f1-score': 0.2127659574468085,\n",
       "    'support': 13},\n",
       "   'accuracy': 0.918412348401323,\n",
       "   'macro avg': {'precision': 0.5599124144321884,\n",
       "    'recall': 0.8449062123558768,\n",
       "    'f1-score': 0.5848713508164275,\n",
       "    'support': 907},\n",
       "   'weighted avg': {'precision': 0.9838566316493799,\n",
       "    'recall': 0.918412348401323,\n",
       "    'f1-score': 0.9463099964158038,\n",
       "    'support': 907}}}}"
      ]
     },
     "execution_count": 31,
     "metadata": {},
     "output_type": "execute_result"
    }
   ],
   "source": [
    "binary_education_lora"
   ]
  },
  {
   "cell_type": "code",
   "execution_count": 17,
   "metadata": {},
   "outputs": [],
   "source": [
    "binary_war_df = pd.read_csv(\"../data/vicuna_4bit/generic_prompt_without_context_only_classification/generic_test_0.csv\")\n",
    "extraction_function = llm_utils.get_extraction_function(\"extract_using_class_token\", 1)\n",
    "binary_war_predictions_per_class, confusion_matrices, classification_reports = llm_utils.calculate_binary_metrics(binary_war_df, [\"War/Terror\"], extraction_function)\n",
    "binary_war = {\"confusion_matrices\": confusion_matrices, \"classification_reports\": classification_reports}"
   ]
  },
  {
   "cell_type": "code",
   "execution_count": 18,
   "metadata": {},
   "outputs": [
    {
     "data": {
      "text/plain": [
       "{'confusion_matrices': {'War/Terror': array([[54, 11],\n",
       "         [13, 51]])},\n",
       " 'classification_reports': {'War/Terror': {'0': {'precision': 0.8059701492537313,\n",
       "    'recall': 0.8307692307692308,\n",
       "    'f1-score': 0.8181818181818182,\n",
       "    'support': 65},\n",
       "   '1': {'precision': 0.8225806451612904,\n",
       "    'recall': 0.796875,\n",
       "    'f1-score': 0.8095238095238094,\n",
       "    'support': 64},\n",
       "   'accuracy': 0.813953488372093,\n",
       "   'macro avg': {'precision': 0.8142753972075109,\n",
       "    'recall': 0.8138221153846155,\n",
       "    'f1-score': 0.8138528138528138,\n",
       "    'support': 129},\n",
       "   'weighted avg': {'precision': 0.8142110154404273,\n",
       "    'recall': 0.813953488372093,\n",
       "    'f1-score': 0.8138863720259069,\n",
       "    'support': 129}}}}"
      ]
     },
     "execution_count": 18,
     "metadata": {},
     "output_type": "execute_result"
    }
   ],
   "source": [
    "binary_war"
   ]
  }
 ],
 "metadata": {
  "kernelspec": {
   "display_name": "my_env",
   "language": "python",
   "name": "python3"
  },
  "language_info": {
   "codemirror_mode": {
    "name": "ipython",
    "version": 3
   },
   "file_extension": ".py",
   "mimetype": "text/x-python",
   "name": "python",
   "nbconvert_exporter": "python",
   "pygments_lexer": "ipython3",
   "version": "3.11.3"
  },
  "orig_nbformat": 4
 },
 "nbformat": 4,
 "nbformat_minor": 2
}
