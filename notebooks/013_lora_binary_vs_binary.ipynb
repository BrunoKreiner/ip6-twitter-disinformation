{
 "cells": [
  {
   "cell_type": "code",
   "execution_count": 14,
   "metadata": {},
   "outputs": [],
   "source": [
    "import sys\n",
    "import os\n",
    "sys.path.append(\"../src\")\n",
    "import llm_utils\n",
    "import warnings\n",
    "warnings.simplefilter(action='ignore', category=FutureWarning)\n",
    "import pandas as pd\n",
    "import seaborn as sns\n",
    "import matplotlib.pyplot as plt\n",
    "from sklearn.metrics import confusion_matrix, classification_report\n",
    "import ast\n",
    "import numpy as np\n",
    "from sklearn.preprocessing import MultiLabelBinarizer\n",
    "from sklearn.metrics import classification_report\n",
    "\n",
    "classes = [\"War/Terror\", \"Conspiracy Theory\", \"Education\", \"Election Campaign\", \"Environment\", \n",
    "              \"Government/Public\", \"Health\", \"Immigration/Integration\", \n",
    "              \"Justice/Crime\", \"Labor/Employment\", \n",
    "              \"Macroeconomics/Economic Regulation\", \"Media/Journalism\", \"Religion\", \"Science/Technology\"]\n",
    "\n",
    "def calculate_binary_metrics(df, classes, extraction_function):\n",
    "    predictions_per_class = []\n",
    "    # Iterate through class labels and extract binary predictions\n",
    "    for idx, label in enumerate(classes):\n",
    "        pred_column_name = f\"testbinary_war_v01\"\n",
    "        try:\n",
    "            pred_column_df = df[df[pred_column_name].notna()].copy()\n",
    "            pred_column_df[pred_column_name] = pred_column_df[pred_column_name].apply(extraction_function)\n",
    "            predictions_per_class.append(pred_column_df)\n",
    "        \n",
    "        #Skip if the column (for example Others_pred) does not exist\n",
    "        except KeyError:\n",
    "            predictions_per_class.append(None)\n",
    "\n",
    "    confusion_matrices = {}\n",
    "    classification_reports = {}\n",
    "    for idx, label in enumerate(classes):\n",
    "        pred_column_name = f\"testbinary_war_v01\"\n",
    "\n",
    "        current_df = predictions_per_class[idx]\n",
    "        \n",
    "        # Ignore rows with NaN or invalid values in the predictions\n",
    "        try:\n",
    "            valid_rows = current_df[pred_column_name].notna()\n",
    "            \n",
    "            y_true = current_df.loc[valid_rows, 'annotations'].apply(lambda x: int(label in x))\n",
    "            y_pred = current_df.loc[valid_rows, pred_column_name].astype(int)\n",
    "        except KeyError:\n",
    "            y_true = []\n",
    "            y_pred = []\n",
    "        except TypeError:\n",
    "            y_true = []\n",
    "            y_pred = []\n",
    "        cm = confusion_matrix(y_true, y_pred)\n",
    "        confusion_matrices[label] = cm\n",
    "        cr = classification_report(y_true, y_pred, output_dict=True)\n",
    "        classification_reports[label] = cr\n",
    "\n",
    "    return predictions_per_class, confusion_matrices, classification_reports\n",
    "\n",
    "binary_war_lora_df = pd.read_csv(\"../data/vicuna_4bit/lora/binary_war_v01/test_generic_test_0.csv\")\n",
    "extraction_function = llm_utils.get_extraction_function(\"extract_using_class_token\", 1)\n",
    "_, confusion_matrices, classification_reports = calculate_binary_metrics(binary_war_lora_df, [\"War/Terror\"], extraction_function)\n",
    "binary_war_lora = {\"confusion_matrices\": confusion_matrices, \"classification_reports\": classification_reports}"
   ]
  },
  {
   "cell_type": "code",
   "execution_count": 19,
   "metadata": {},
   "outputs": [
    {
     "data": {
      "text/plain": [
       "{'confusion_matrices': {'War/Terror': array([[711,  34],\n",
       "         [ 22, 233]])},\n",
       " 'classification_reports': {'War/Terror': {'0': {'precision': 0.9699863574351978,\n",
       "    'recall': 0.9543624161073826,\n",
       "    'f1-score': 0.9621109607577808,\n",
       "    'support': 745},\n",
       "   '1': {'precision': 0.8726591760299626,\n",
       "    'recall': 0.9137254901960784,\n",
       "    'f1-score': 0.89272030651341,\n",
       "    'support': 255},\n",
       "   'accuracy': 0.944,\n",
       "   'macro avg': {'precision': 0.9213227667325802,\n",
       "    'recall': 0.9340439531517305,\n",
       "    'f1-score': 0.9274156336355954,\n",
       "    'support': 1000},\n",
       "   'weighted avg': {'precision': 0.9451679261768628,\n",
       "    'recall': 0.944,\n",
       "    'f1-score': 0.9444163439254663,\n",
       "    'support': 1000}}}}"
      ]
     },
     "execution_count": 19,
     "metadata": {},
     "output_type": "execute_result"
    }
   ],
   "source": [
    "binary_war_lora"
   ]
  },
  {
   "cell_type": "code",
   "execution_count": 17,
   "metadata": {},
   "outputs": [],
   "source": [
    "binary_war_df = pd.read_csv(\"../data/vicuna_4bit/generic_prompt_without_context_only_classification/generic_test_0.csv\")\n",
    "extraction_function = llm_utils.get_extraction_function(\"extract_using_class_token\", 1)\n",
    "binary_war_predictions_per_class, confusion_matrices, classification_reports = llm_utils.calculate_binary_metrics(binary_war_df, [\"War/Terror\"], extraction_function)\n",
    "binary_war = {\"confusion_matrices\": confusion_matrices, \"classification_reports\": classification_reports}"
   ]
  },
  {
   "cell_type": "code",
   "execution_count": 18,
   "metadata": {},
   "outputs": [
    {
     "data": {
      "text/plain": [
       "{'confusion_matrices': {'War/Terror': array([[54, 11],\n",
       "         [13, 51]])},\n",
       " 'classification_reports': {'War/Terror': {'0': {'precision': 0.8059701492537313,\n",
       "    'recall': 0.8307692307692308,\n",
       "    'f1-score': 0.8181818181818182,\n",
       "    'support': 65},\n",
       "   '1': {'precision': 0.8225806451612904,\n",
       "    'recall': 0.796875,\n",
       "    'f1-score': 0.8095238095238094,\n",
       "    'support': 64},\n",
       "   'accuracy': 0.813953488372093,\n",
       "   'macro avg': {'precision': 0.8142753972075109,\n",
       "    'recall': 0.8138221153846155,\n",
       "    'f1-score': 0.8138528138528138,\n",
       "    'support': 129},\n",
       "   'weighted avg': {'precision': 0.8142110154404273,\n",
       "    'recall': 0.813953488372093,\n",
       "    'f1-score': 0.8138863720259069,\n",
       "    'support': 129}}}}"
      ]
     },
     "execution_count": 18,
     "metadata": {},
     "output_type": "execute_result"
    }
   ],
   "source": [
    "binary_war"
   ]
  }
 ],
 "metadata": {
  "kernelspec": {
   "display_name": "my_env",
   "language": "python",
   "name": "python3"
  },
  "language_info": {
   "codemirror_mode": {
    "name": "ipython",
    "version": 3
   },
   "file_extension": ".py",
   "mimetype": "text/x-python",
   "name": "python",
   "nbconvert_exporter": "python",
   "pygments_lexer": "ipython3",
   "version": "3.11.3"
  },
  "orig_nbformat": 4
 },
 "nbformat": 4,
 "nbformat_minor": 2
}
