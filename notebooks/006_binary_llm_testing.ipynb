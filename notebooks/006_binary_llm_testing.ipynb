{
 "cells": [
  {
   "cell_type": "code",
   "execution_count": 1,
   "metadata": {},
   "outputs": [
    {
     "name": "stdout",
     "output_type": "stream",
     "text": [
      "Counter({'Government/Public': 1539, 'Others': 1328, 'War/Terror': 1194, 'Justice/Crime': 709, 'Macroeconomics/Economic Regulation': 312, 'Conspiracy Theory': 299, 'Health': 260, 'Immigration/Integration': 237, 'Media/Journalism': 232, 'Election Campaign': 166, 'Labor/Employment': 125, 'Religion': 82, 'Education': 76, 'Environment': 72, 'Science/Technology': 65})\n"
     ]
    }
   ],
   "source": [
    "import pandas as pd\n",
    "import json\n",
    "import matplotlib.pyplot as plt\n",
    "\n",
    "from nltk.corpus import stopwords\n",
    "from nltk.stem import SnowballStemmer\n",
    "import re\n",
    "\n",
    "import requests\n",
    "import json\n",
    "from tqdm import tqdm\n",
    "from emoji import demojize\n",
    "from nltk.tokenize import TweetTokenizer\n",
    "import os\n",
    "from datetime import datetime\n",
    "\n",
    "import numpy as np\n",
    "\n",
    "import pandas as pd\n",
    "from collections import Counter\n",
    "\n",
    "# Define a list of filenames to load\n",
    "filenames = [\"../data/labeled_data/generic_test_0.json\"]\n",
    "\n",
    "# Load all JSON data and concatenate into one DataFrame\n",
    "dfs = []\n",
    "for filename in filenames:\n",
    "    with open(filename) as f:\n",
    "        data = json.load(f)\n",
    "    df = pd.DataFrame(data[\"train\"])\n",
    "    dfs.append(df)\n",
    "    df = pd.DataFrame(data[\"test\"])\n",
    "    dfs.append(df)\n",
    "    df = pd.DataFrame(data[\"valid\"])\n",
    "    dfs.append(df)\n",
    "df_all = pd.concat(dfs)\n",
    "\n",
    "# Assuming your DataFrame is called df_all and has an \"annotations\" column\n",
    "label_counts = Counter()\n",
    "\n",
    "for labels in df_all['annotations']:\n",
    "    label_counts.update(labels)\n",
    "\n",
    "# Print the occurrences of each label\n",
    "print(label_counts)"
   ]
  },
  {
   "cell_type": "code",
   "execution_count": 2,
   "metadata": {},
   "outputs": [],
   "source": [
    "def normalizeToken(token):\n",
    "    lowercased_token = token.lower()\n",
    "    if token.startswith(\"@\"):\n",
    "        return \"@USER\"\n",
    "    elif lowercased_token.startswith(\"http\") or lowercased_token.startswith(\"www\"):\n",
    "        return \"[url]\"\n",
    "    elif len(token) == 1:\n",
    "        return demojize(token)\n",
    "    else:\n",
    "        if token == \"’\":\n",
    "            return \"'\"\n",
    "        elif token == \"…\":\n",
    "            return \"...\"\n",
    "        else:\n",
    "            return token\n",
    "    \n",
    "def normalizeTweet(tweet):\n",
    "    tokens = TweetTokenizer().tokenize(tweet.replace(\"’\", \"'\"))\n",
    "    normTweet = \" \".join([normalizeToken(token) for token in tokens])\n",
    "\n",
    "    normTweet = (\n",
    "        normTweet.replace(\"n 't\", \"n't\")\n",
    "            .replace(\"ca n't\", \"can't\")\n",
    "            .replace(\"ai n't\", \"ain't\")\n",
    "    )\n",
    "    normTweet = (\n",
    "        normTweet.replace(\"p . m .\", \"pm\")\n",
    "            .replace(\"p . m\", \"pm\")\n",
    "            .replace(\"a . m .\", \"am\")\n",
    "            .replace(\"a . m\", \"am\")\n",
    "    )\n",
    "    return \" \".join(normTweet.split())\n",
    "\n",
    "def api(prompt):\n",
    "    import requests\n",
    "\n",
    "# For local streaming, the websockets are hosted without ssl - http://\n",
    "HOST = 'http://127.0.0.1:5000'\n",
    "URI = f'{HOST}/api/v1/generate'\n",
    "\n",
    "# For reverse-proxied streaming, the remote will likely host with ssl - https://\n",
    "# URI = 'https://your-uri-here.trycloudflare.com/api/v1/generate'\n",
    "\n",
    "def get_response(request_params, prompt, context):\n",
    "    request_params['prompt'] = prompt\n",
    "    request_params['context'] = context\n",
    "\n",
    "    response = requests.post(URI, json=request_params)\n",
    "\n",
    "    if response.status_code == 200:\n",
    "        result = response.json()['results'][0]['text']\n",
    "        #print(prompt + result)\n",
    "        return result\n",
    "    else:\n",
    "    \tprint(response)\n",
    "\n",
    "def get_base_request_params(max_new_tokens = 200, stopping_strings = []):\n",
    "    return {\n",
    "        'prompt': None,\n",
    "        'context': None,\n",
    "        'max_new_tokens': 200,\n",
    "        'do_sample': True,\n",
    "        'temperature': 0.7,\n",
    "        'top_p': 0.1,\n",
    "        'typical_p': 1,\n",
    "        'repetition_penalty': 1.2,\n",
    "        'encoder_repetition_penalty': 1.0,\n",
    "        'top_k': 40,\n",
    "        'min_length': 0,\n",
    "        'no_repeat_ngram_size': 0,\n",
    "        'num_beams': 1,\n",
    "        'penalty_alpha': 0,\n",
    "        'length_penalty': 1,\n",
    "        'early_stopping': False,\n",
    "        'seed': -1,\n",
    "        #'add_bos_token': True,\n",
    "        #'truncation_length': 2048,\n",
    "        #'ban_eos_token': False,\n",
    "        #'skip_special_tokens': True,\n",
    "        'stopping_strings': stopping_strings\n",
    "    }\n",
    "\n",
    "def get_openassistant_llama_30b_4bit_without_context_only_classification_v01(tweet_text, label):\n",
    "    prompt = f\"Classify the Tweet based on if it's about {label}. Use 1 or 0 as class.\\nTweet: {tweet_text}\\nClass: \"\n",
    "    context = ''\n",
    "    return prompt, context\n",
    "\n",
    "def get_openassistant_llama_30b_4bit_without_context_only_classification_v02(tweet_text, label):\n",
    "    prompt = f\"Give the tweet a binary class based on if it's about {label} or not.\\n\\nTweet: {tweet_text}\\nClass: \"\n",
    "    context = ''\n",
    "    return prompt, context\n",
    "\n",
    "def get_openassistant_llama_30b_4bit_without_context_only_classification_v03(tweet_text, label):\n",
    "    prompt = f\"Assign 1 if the tweet is about {label}. Assign 0 if it is not about {label}.\\n\\nTweet: {tweet_text}\\nClass: \"\n",
    "    context = ''\n",
    "    return prompt, context\n",
    "\n",
    "def get_openassistant_llama_30b_4bit_few_shot_prompt_only_classification_1_pos_example(tweet_text, label, example_tweet):\n",
    "    prompt = f\"Classify the Tweet based on if it's about {label}. Use 1 or 0 as class.\\nExample Tweet: {example_tweet}\\nClass: 1\\n\\nTweet: {tweet_text}\\nClass: \"\n",
    "    return prompt, \"\"\n",
    "\n",
    "def get_openassistant_llama_30b_4bit_few_shot_prompt_only_classification_1_neg_example(tweet_text, label, example_tweet):\n",
    "    prompt = f\"Classify the Tweet based on if it's about {label}. Use 1 or 0 as class.\\nExample Tweet: {example_tweet}\\nClass: 0\\n\\nTweet: {tweet_text}\\nClass: \"\n",
    "    return prompt, \"\"\n",
    "\n",
    "def get_openassistant_llama_30b_4bit_few_shot_prompt_only_classification_1_random_example(tweet_text, label, example_tweet, example_tweet_label):\n",
    "    prompt = f\"Classify the Tweet based on if it's about {label}. Use 1 or 0 as class.\\nExample Tweet: {example_tweet}\\nClass: {example_tweet_label}\\n\\nTweet: {tweet_text}\\nClass: \"\n",
    "    return prompt, \"\"\n",
    "\n",
    "def get_openassistant_llama_30b_4bit_few_shot_prompt_only_classification_1_pos_1_neg_example(tweet_text, label, pos_example_tweet, neg_example_tweet):\n",
    "    prompt = f\"Classify the Tweet based on if it's about {label}. Use 1 or 0 as class.\\nExample Tweet: {pos_example_tweet}\\nClass: 1\\nExample Tweet: {neg_example_tweet}\\nClass: 0\\n\\nTweet: {tweet_text}\\nClass: \"\n",
    "    return prompt, \"\"\n",
    "\n",
    "def get_openassistant_llama_30b_4bit_few_shot_prompt_only_classification_n_random_example(tweet_text, label, example_tweets):\n",
    "    example_tweets_str = \"\"\n",
    "    for example_tweet in example_tweets:\n",
    "        example_tweets_str += f\"\\nExample Tweet: {normalizeTweet(example_tweet[0])}\\nClass: {example_tweet[1]}\"\n",
    "    prompt = f\"Classify the Tweet based on if it's about {label}. Use 1 or 0 as class.{example_tweets_str}\\n\\nTweet: {tweet_text}\\nClass: \"\n",
    "    return prompt, \"\"\n",
    "\n",
    "def get_openassistant_llama_30b_4bit_without_context_elaboration_first(tweet_text, label):\n",
    "    prompt = f\"Elaborate on whether you think the Tweet is about {label} or something else.\\nTweet: {tweet_text}\\nElaboration: \"\n",
    "    context = ''\n",
    "    return prompt, context\n",
    "\n",
    "def get_vicuna_prompt_with_rules_only_classification(tweet_text, label, rules):\n",
    "    prompt = f\"### Human: Based on rules, classify the Tweet based on if it's about {label}. Use 1 or 0 as class.\\n\\nRules: {rules}\\nTweet: {tweet_text}\\n### Assistant:\\nClass:\"\n",
    "    context = ''\n",
    "    return prompt, context\n",
    "\n",
    "def get_vicuna_prompt_with_rules_elaboration_first(tweet_text, label, rules):\n",
    "    prompt = f\"### Human: Based on rules, elaborate whether you think the Tweet is about {label}.\\nRules: {rules}\\nTweet: {tweet_text}\\n### Assistant:\\nElaboration: \"\n",
    "    context = ''\n",
    "    return prompt, context\n",
    "\n",
    "def get_vicuna_prompt_without_context_elaboration_first(tweet_text, label):\n",
    "    prompt = f\"### Human: Elaborate on whether you think the Tweet is about {label} or something else.\\nTweet: {tweet_text}\\n### Assistant:\\nElaboration: \"\n",
    "    followup = f\":\\n Assign class 1 for {label} or 0 for not. \\n###Assistant:\\nClass: \"\n",
    "    return prompt, followup\n",
    "\n",
    "def get_vicuna_prompt_without_context_elaboration_first_v02(tweet_text, label):\n",
    "    prompt = f\"### Human: Elaborate on whether you think the Tweet is about {label} or something else.\\nTweet: {tweet_text}\\n### Assistant:\\nElaboration: \"\n",
    "    followup = f\"### Human: Based on the elaboration, classify the Tweet based on if it's about {label}. Use 1 or 0 as class.\\nTweet: {tweet_text}\\nElaboration: [ELABORATION]\\n### Assistant:\\nClass: \"\n",
    "    return prompt, followup\n",
    "\n",
    "def get_vicuna_prompt_without_context_elaboration_first_v03(tweet_text, label):\n",
    "    prompt = f\"### Human: Elaborate on whether you think the Tweet is about {label} or something else.\\nTweet: {tweet_text}\\n### Assistant:\\nElaboration: \"\n",
    "    followup = f\"### Human: Based on the elaboration, assign 1 if it's about {label} or 0 if not.\\nElaboration: [ELABORATION]\\n### Assistant:\\nClass: \"\n",
    "    return prompt, followup\n",
    "\n",
    "def get_vicuna_prompt_without_context_only_classification(tweet_text, label):\n",
    "    prompt = f\"### Human: Classify the Tweet based on if it's about {label}. Use 1 or 0 as class.\\n\\nTweet: {tweet_text}\\n### Assistant:\\nClass: \"\n",
    "    context = ''\n",
    "    return prompt, context\n",
    "\n",
    "def get_vicuna_prompt_without_context_only_classification_v02(tweet_text, label):\n",
    "    prompt = f\"### Human: Give the tweet a binary class based on if it's about {label} or not.\\n\\nTweet: {tweet_text}\\n### Assistant:\\nClass: \"\n",
    "    context = ''\n",
    "    return prompt, context\n",
    "\n",
    "def get_vicuna_prompt_without_context_only_classification_v03(tweet_text, label):\n",
    "    prompt = f\"### Human: Assign 1 if the tweet is about {label}. Assign 0 if it is not about {label}.\\n\\nTweet: {tweet_text}\\n### Assistant:\\nClass: \"\n",
    "    context = ''\n",
    "    return prompt, context\n",
    "    \n",
    "def get_vicuna_prompt_without_context_only_classification_v04(tweet_text, label):\n",
    "    prompt = f\"### Human: Is the Text about {label}? Answer with True or False.\\n\\nTweet: {tweet_text}\\n### Assistant:\\nResponse: \"\n",
    "    context = ''\n",
    "    return prompt, context\n",
    "\n",
    "def get_vicuna_few_shot_prompt_only_classification_1_pos_example(tweet_text, label, example_tweet):\n",
    "    prompt = f\"### Human: Classify the Tweet based on if it's about {label}. Use 1 or 0 as class.\\nExample Tweet: {example_tweet}\\nClass: 1\\n\\nTweet: {tweet_text}\\nClass: \"\n",
    "    return prompt, \"\"\n",
    "\n",
    "def get_vicuna_few_shot_prompt_only_classification_1_neg_example(tweet_text, label, example_tweet):\n",
    "    prompt = f\"### Human: Classify the Tweet based on if it's about {label}. Use 1 or 0 as class.\\nExample Tweet: {example_tweet}\\nClass: 0\\n\\nTweet: {tweet_text}\\nClass: \"\n",
    "    return prompt, \"\"\n",
    "\n",
    "def get_vicuna_few_shot_prompt_only_classification_1_random_example(tweet_text, label, example_tweet, example_tweet_label):\n",
    "    prompt = f\"### Human: Classify the Tweet based on if it's about {label}. Use 1 or 0 as class.\\nExample Tweet: {example_tweet}\\nClass: {example_tweet_label}\\n\\nTweet: {tweet_text}\\nClass: \"\n",
    "    return prompt, \"\"\n",
    "\n",
    "def get_vicuna_few_shot_prompt_only_classification_n_random_example(tweet_text, label, example_tweets):\n",
    "    example_tweets_str = \"\"\n",
    "    for example_tweet in example_tweets:\n",
    "        example_tweets_str += f\"\\nExample Tweet: {normalizeTweet(example_tweet[0])}\\nClass: {example_tweet[1]}\"\n",
    "    prompt = f\"### Human: Classify the Tweet based on if it's about {label}. Use 1 or 0 as class.{example_tweets_str}\\n\\nTweet: {tweet_text}\\nClass: \"\n",
    "    return prompt, \"\"\n",
    "\n",
    "def get_vicuna_few_shot_prompt_only_classification_n_random_example_v02(tweet_text, label, example_tweets):\n",
    "    example_tweets_str = \"\"\n",
    "    for example_tweet in example_tweets:\n",
    "        example_tweets_str += f\"\\n\\nTweet: {normalizeTweet(example_tweet[0])}\\n### Assistant:\\nClass: {example_tweet[1]}\"\n",
    "    prompt = f\"### Human: Classify the Tweet based on if it's about {label}. Use 1 or 0 as class.{example_tweets_str}\\n\\nTweet: {tweet_text}\\n### Assistant:\\nClass: \"\n",
    "    return prompt, \"\"\n",
    "\n",
    "def get_vicuna_few_shot_prompt_only_classification_1_pos_1_neg_example(tweet_text, label, pos_example_tweet, neg_example_tweet):\n",
    "    prompt = f\"### Human: Classify the Tweet based on if it's about {label}. Use 1 or 0 as class.\\nExample Tweet: {pos_example_tweet}\\nClass: 1\\nExample Tweet: {neg_example_tweet}\\nClass: 0\\n\\nTweet: {tweet_text}\\nClass: \"\n",
    "    return prompt, \"\"\n",
    "\n",
    "def get_gpt4xalpaca_4bit_prompt_basic_elaboration_first(tweet_text, label):\n",
    "    prompt = f'### Instruction:\\nElaborate on whether you think the Tweet is about {label} or something else.\\n\\nTweet: {tweet_text}\\n\\n### Response:'\n",
    "    context = ''\n",
    "    return prompt, context\n",
    "\n",
    "def get_gpt4xalpaca_4bit_prompt_without_context_only_classification(tweet_text, label, request_params):\n",
    "    instruction = f\"Classify the Tweet based on if it's about {label}. Use 1 or 0 as class.\"\n",
    "    prompt = f'Below is an instruction that describes a task, paired with an input that provides further context. Write a response that appropriately completes the request.\\n\\n### Instruction:\\n{instruction}\\n\\n### Input:\\n{tweet_text}\\n\\n### Response:\\n'\n",
    "    context = ''\n",
    "    request_params[\"max_new_tokens\"] = 10\n",
    "    return prompt, context, request_params\n",
    "\n",
    "def get_gpt4xalpaca_4bit_prompt_without_context_only_classification_v02(tweet_text, label, request_params):\n",
    "    instruction = f\"Give the tweet a binary class based on if it's about {label} or not.\"\n",
    "    prompt = f'Below is an instruction that describes a task, paired with an input that provides further context. Write a response that appropriately completes the request.\\n\\n### Instruction:\\n{instruction}\\n\\n### Input:\\n{tweet_text}\\n\\n### Response:\\n'\n",
    "    context = ''\n",
    "    request_params[\"max_new_tokens\"] = 10\n",
    "    return prompt, context, request_params\n",
    "\n",
    "def get_gpt4xalpaca_4bit_prompt_without_context_only_classification_v03(tweet_text, label, request_params):\n",
    "    instruction = f\"Assign 1 if the tweet is about {label}. Assign 0 if it is not about {label}.\"\n",
    "    prompt = f'Below is an instruction that describes a task, paired with an input that provides further context. Write a response that appropriately completes the request.\\n\\n### Instruction:\\n{instruction}\\n\\n### Input:\\n{tweet_text}\\n\\n### Response:\\n'\n",
    "    context = ''\n",
    "    request_params[\"max_new_tokens\"] = 10\n",
    "    return prompt, context, request_params\n",
    "\n",
    "def get_gpt4xalpaca_4bit_prompt_without_context_elaboration_first_v04(tweet_text, label, request_params):\n",
    "    instruction = f\"Classify the Tweet based on if it's about {label}. Give an explanation using \\\"Explanation:\\\" then classify using \\\"Class:\\\" as 1 or 0.\"\n",
    "    prompt = f'Below is an instruction that describes a task, paired with an input that provides further context. Write a response that appropriately completes the request.\\n\\n### Instruction:\\n{instruction}\\n\\n### Input:\\n{tweet_text}\\n\\n### Response:\\n'\n",
    "    context = ''\n",
    "    request_params[\"max_new_tokens\"] = 400\n",
    "    return prompt, context, request_params\n",
    "\n",
    "def get_vicuna_prompt_without_context_elaboration_first_v04(tweet_text, label, request_params):\n",
    "    prompt = f\"### Human:\\nClassify the Tweet based on if it's about {label}. Give an explanation using \\\"Explanation:\\\" then classify using \\\"Class:\\\" as 1 or 0.\\n\\nTweet:\\n{tweet_text}\\n\\n### Assistant:\\n\"\n",
    "    context = ''\n",
    "    request_params[\"max_new_tokens\"] = 400\n",
    "    return prompt, context, request_params\n",
    "\n",
    "def get_openassistant_llama_30b_4bit_prompt_without_context_elaboration_first_v04(tweet_text, label, request_params):\n",
    "    prompt = f\"### Instruction:\\nClassify the Tweet based on if it's about {label}. Give an explanation using \\\"Explanation:\\\" then classify using \\\"Class:\\\" as 1 or 0.\\n\\nTweet:\\n{tweet_text}\\n\\n### Response:\\n\"\n",
    "    context = ''\n",
    "    request_params[\"max_new_tokens\"] = 400\n",
    "    return prompt, context, request_params\n",
    "\n",
    "def get_positive_example(df, label, exclude_tweet):\n",
    "    pos_example_df = df[(df['annotations'].apply(lambda x: label in x)) & (df['text'] != exclude_tweet)]\n",
    "    pos_example_tweet = pos_example_df.sample(n=1, random_state=42)['text'].values[0]\n",
    "    return pos_example_tweet\n",
    "\n",
    "def get_negative_example(df, label, exclude_tweet):\n",
    "    neg_example_df = df[(df['annotations'].apply(lambda x: label not in x)) & (df['text'] != exclude_tweet)]\n",
    "    neg_example_tweet = neg_example_df.sample(n=1, random_state=42)['text'].values[0]\n",
    "    return neg_example_tweet\n",
    "\n",
    "def get_random_examples(df, label, exclude_tweet, n):\n",
    "    # Exclude the specific tweet\n",
    "    df = df[df['text'] != exclude_tweet]\n",
    "    \n",
    "    # Sample n random examples\n",
    "    sampled_df = df.sample(n=n, random_state=42)\n",
    "    \n",
    "    # Return a list of tuples, each containing the tweet text and its annotations\n",
    "    return list(zip(sampled_df['text'].values, sampled_df['annotations'].apply(lambda x: int(label in x)).values))"
   ]
  },
  {
   "cell_type": "code",
   "execution_count": 3,
   "metadata": {},
   "outputs": [
    {
     "data": {
      "text/plain": [
       "[('RT @coleftaylor1: \"Corporations have neither a soul to save nor a body to incarcerate\" Baron Thoreau',\n",
       "  0),\n",
       " ('Trump Ditches the Press to Play Golf! https://t.co/YkyVal3usR https://t.co/IjeqeVSL71',\n",
       "  0),\n",
       " ('The best thing you have to offer Venezuela @realDonaldTrump is military aggression! The kind of imperial help they brought to Iraq, Libya, Syria. The people of Venezuela will never allow any empire to threaten our national integrity again! Free x always in peace! @DrodriguezVen',\n",
       "  1)]"
      ]
     },
     "execution_count": 3,
     "metadata": {},
     "output_type": "execute_result"
    }
   ],
   "source": [
    "get_random_examples(df_all, \"War/Terror\", \"Hong Kong customs arrested 40 kilogrammes of Joburg rhino horns\\nhttps://t.co/fr7WWNPkRl\", 3)"
   ]
  },
  {
   "cell_type": "code",
   "execution_count": 4,
   "metadata": {},
   "outputs": [],
   "source": [
    "import pandas as pd\n",
    "\n",
    "# Your original DataFrame: df_all\n",
    "# all_labels: list of labels\n",
    "\n",
    "balanced_dfs = []\n",
    "\n",
    "rules = [\"Oxford dictionary's definition of war: “situation in which two or more countries or groups of people fight against each other over a period of time”. Oxford dictionary's definition of terror (terrorism): “violent action or the threat of violent action that is intended to cause fear, usually for political purposes”. Remark: This category includes also causes and consequences of war/terror (e.g. “the current situation in Ukraine may cause a supply crisis for wheat products”).\",\n",
    "\"Oxford dictionary's definition of conspiracy: “a secret plan by a group of people to do something harmful or illegal”. Remark: Assignment of this category may depend on viewpoint and political stance of rater, which can be mitigated by focusing on the definition above. If the content of a tweet describes a conspiratorial activity/process, it will be labeled “conspiracy theory”.\",\n",
    "\"Oxford dictionary's definition of education: “a process of teaching, training and learning, especially in schools, colleges or universities, to improve knowledge and develop skills”. Remark: Does not include education/training of soldiers (🡪war/terror).\",\n",
    "\"Oxford dictionary's definition of election: “the process of choosing a person or a group of people for a position, especially a political position, by voting”. Remark: This category includes all activities aimed at rallying the population for participation in a public election, description of election outcomes, and conduct of the election itself.\",\n",
    "\"Oxford dictionary's definition of environment: “the natural world in which people, animals and plants live”. Remark: This category is typically used for tweet content revolving around activities and processes affecting the environment in some way.\",\n",
    "\"Oxford dictionary's definition of government: “the group of people who are responsible for controlling a country or a state”. Oxford dictionary's definition of public: “ordinary people who are not members of a particular group or organization” Remark: This category includes also statements/content about the public perception of activities/processes of government (i.e. voiced criticism or praise for a government).\",\n",
    "\"Oxford dictionary's definition of health: “the condition of a person's body or mind”. Remark: This category includes also statements related to public health. In such a case both Health and Government/Public must be selected.\",\n",
    "\"Oxford dictionary's definition of immigration: “the process of coming to live permanently in a different country from the one you were born in”. Oxford dictionary's definition of integration: “the act or process of mixing people who have previously been separated, usually because of colour, race, religion, etc.”\",\n",
    "\"Oxford dictionary's definition of justice: “the legal system used to punish people who have committed crimes”. Oxford dictionary's definition of crime: “activities that involve breaking the law”. Remark: This category does not include statements/content on war crimes (🡪 war/terror).\",\n",
    "\"Oxford dictionary's definition of labor: “work, especially physical work”. Oxford dictionary's definition of employment: “work, especially when it is done to earn money; the state of being employed”.\",\n",
    "\"Oxford dictionary's definition of macroeconomics: “the study of large economic systems, such as those of whole countries or areas of the world”. Oxford dictionary's definition of regulation: ”an official rule made by a government or some other authority”. Remark: In case of statements/content on economic regulations, this category may likely co-occur with Government/Public category.\", \n",
    "\"Oxford dictionary's definition of media: “the main ways that large numbers of people receive information and entertainment, that is television, radio, newspapers and the internet”. Oxford dictionary's definition of journalism: “the work of collecting and writing news stories for newspapers, magazines, radio, television or online news sites; the news stories that are written”. Remark: This category will be used for statements/content which explicitly references other media outlets or journalists (e.g. “BBC has reported that …”, “Bellingcat has discovered a secret operation of X”). Content which appears “news-worthy” does not generally fall into this category (🡪 newsworthiness is very subjective and context-dependent).\",\n",
    "\"Oxford dictionary's definition of religion: “the belief in the existence of a god or gods, and the activities that are connected with the worship of them, or in the teachings of a spiritual leader”.\",\n",
    "\"Oxford dictionary's definition of science: “knowledge about the structure and behavior of the natural and physical world, based on facts that you can prove, for example by experiments”. Oxford dictionary's definition of technology: “scientific knowledge used in practical ways in industry, for example in designing new machines”.\"]\n",
    "\n",
    "all_labels = [\"War/Terror\", \"Conspiracy Theory\", \"Education\", \"Election Campaign\", \"Environment\", \n",
    "              \"Government/Public\", \"Health\", \"Immigration/Integration\", \n",
    "              \"Justice/Crime\", \"Labor/Employment\", \n",
    "              \"Macroeconomics/Economic Regulation\", \"Media/Journalism\", \"Religion\", \"Science/Technology\"]\n",
    "\n",
    "for label in all_labels:\n",
    "    # Initialize an empty DataFrame for the balanced dataset\n",
    "    balanced_df = pd.DataFrame()\n",
    "    # Get the rows with the current label\n",
    "    label_rows = df_all[df_all['annotations'].apply(lambda x: label in x)]\n",
    "    \n",
    "    # Get the rows without the current label\n",
    "    non_label_rows = df_all[df_all['annotations'].apply(lambda x: label not in x)]\n",
    "    \n",
    "    # Sample 65 rows with the current label\n",
    "    sample_label_rows = label_rows.sample(n=65, random_state=42)\n",
    "    \n",
    "    # Sample 65 rows without the current label\n",
    "    sample_non_label_rows = non_label_rows.sample(n=65, random_state=42)\n",
    "    \n",
    "    # Combine the samples\n",
    "    combined_sample = pd.concat([sample_label_rows, sample_non_label_rows], ignore_index=True)\n",
    "    \n",
    "    # Add the samples to the balanced DataFrame\n",
    "    balanced_df = pd.concat([balanced_df, combined_sample], ignore_index=True)\n",
    "\n",
    "    balanced_dfs.append(balanced_df)"
   ]
  },
  {
   "cell_type": "code",
   "execution_count": 6,
   "metadata": {},
   "outputs": [
    {
     "name": "stdout",
     "output_type": "stream",
     "text": [
      "Starting with model: generic_prompt_without_context_elaboration_first_v04\n",
      "----------------------------------\n",
      "Starting requesting for label: War/Terror\n",
      "\n"
     ]
    },
    {
     "name": "stderr",
     "output_type": "stream",
     "text": [
      " 76%|███████▌  | 99/130 [11:58<03:31,  6.82s/it]"
     ]
    },
    {
     "name": "stdout",
     "output_type": "stream",
     "text": [
      "Saved progress at index 98\n",
      "Sample Tweet:  Cleric accused of masterminding 2008 Mumbai attacks under house arrest [url] [url]\n",
      "Sample Annotation:  Explanation: This tweet is about a cleric who has been accused of being involved in terrorism, specifically with regards to the 2008 Mumbai attacks. The fact that he is currently under house arrest suggests that there may be evidence linking him to these crimes.\n",
      "\n",
      "Class: 1\n"
     ]
    },
    {
     "name": "stderr",
     "output_type": "stream",
     "text": [
      "100%|██████████| 130/130 [15:11<00:00,  7.01s/it]\n"
     ]
    },
    {
     "name": "stdout",
     "output_type": "stream",
     "text": [
      "Starting requesting for label: Conspiracy Theory\n",
      "\n"
     ]
    },
    {
     "name": "stderr",
     "output_type": "stream",
     "text": [
      " 76%|███████▌  | 99/130 [11:32<02:50,  5.51s/it]"
     ]
    },
    {
     "name": "stdout",
     "output_type": "stream",
     "text": [
      "Saved progress at index 98\n",
      "Sample Tweet:  #Almost all militants of illegal #armed #groups refuse to move to the #front line . #Syria #Idlib\n",
      "Sample Annotation:  Explanation: This tweet is not related to conspiracy theory, but rather discussing a current event in Syria.\n",
      "Class: 0\n"
     ]
    },
    {
     "name": "stderr",
     "output_type": "stream",
     "text": [
      "100%|██████████| 130/130 [14:34<00:00,  6.73s/it]\n"
     ]
    },
    {
     "name": "stdout",
     "output_type": "stream",
     "text": [
      "Starting requesting for label: Education\n",
      "\n"
     ]
    },
    {
     "name": "stderr",
     "output_type": "stream",
     "text": [
      " 76%|███████▌  | 99/130 [08:57<02:21,  4.58s/it]"
     ]
    },
    {
     "name": "stdout",
     "output_type": "stream",
     "text": [
      "Saved progress at index 98\n",
      "Sample Tweet:  Desperate Clinton Campaign Doubts “ Legitimacy ” of Trump's Win One Week from Inauguration [url] [url]\n",
      "Sample Annotation:  Explanation: This tweet is not related to education, but rather discussing politics and the legitimacy of a political win.\n",
      "Class: 0\n"
     ]
    },
    {
     "name": "stderr",
     "output_type": "stream",
     "text": [
      "100%|██████████| 130/130 [11:26<00:00,  5.28s/it]\n"
     ]
    },
    {
     "name": "stdout",
     "output_type": "stream",
     "text": [
      "Starting requesting for label: Election Campaign\n",
      "\n"
     ]
    },
    {
     "name": "stderr",
     "output_type": "stream",
     "text": [
      " 76%|███████▌  | 99/130 [10:01<02:44,  5.31s/it]"
     ]
    },
    {
     "name": "stdout",
     "output_type": "stream",
     "text": [
      "Saved progress at index 98\n",
      "Sample Tweet:  He's At It Again ! This Guy's Hilarious Photoshop ' Fixes ' Will Make Your Day [url]\n",
      "Sample Annotation:  Explanation: The tweet is not related to any election campaign, so I would classify this as Class: 0\n"
     ]
    },
    {
     "name": "stderr",
     "output_type": "stream",
     "text": [
      "100%|██████████| 130/130 [13:09<00:00,  6.07s/it]\n"
     ]
    },
    {
     "name": "stdout",
     "output_type": "stream",
     "text": [
      "Starting requesting for label: Environment\n",
      "\n"
     ]
    },
    {
     "name": "stderr",
     "output_type": "stream",
     "text": [
      " 76%|███████▌  | 99/130 [09:07<02:17,  4.45s/it]"
     ]
    },
    {
     "name": "stdout",
     "output_type": "stream",
     "text": [
      "Saved progress at index 98\n",
      "Sample Tweet:  PA Sec of State Releases 20 Electors Names , Addresses and Phone Numbers ! [url] [url]\n",
      "Sample Annotation:  Explanation: This tweet is not related to environment, but rather a political issue in Pennsylvania regarding electoral college members.\n",
      "Class: 0\n"
     ]
    },
    {
     "name": "stderr",
     "output_type": "stream",
     "text": [
      "100%|██████████| 130/130 [11:33<00:00,  5.33s/it]\n"
     ]
    },
    {
     "name": "stdout",
     "output_type": "stream",
     "text": [
      "Starting requesting for label: Government/Public\n",
      "\n"
     ]
    },
    {
     "name": "stderr",
     "output_type": "stream",
     "text": [
      " 76%|███████▌  | 99/130 [09:43<02:44,  5.31s/it]"
     ]
    },
    {
     "name": "stdout",
     "output_type": "stream",
     "text": [
      "Saved progress at index 98\n",
      "Sample Tweet:  #CrazySocks4Docs : raising awareness about depression amongst doctors - [url] Thanduxolo Buti The #CrazySocks4Docs campaign hopes to end the stigma and help curb the high number of depression and suicide case amongst doctors and medicine students . The campaig ... [url]\n",
      "Sample Annotation:  Explanation: This tweet is not related to government or public affairs, but rather a social issue that affecting people in general.\n",
      "Class: 0\n"
     ]
    },
    {
     "name": "stderr",
     "output_type": "stream",
     "text": [
      "100%|██████████| 130/130 [12:34<00:00,  5.80s/it]\n"
     ]
    },
    {
     "name": "stdout",
     "output_type": "stream",
     "text": [
      "Starting requesting for label: Health\n",
      "\n"
     ]
    },
    {
     "name": "stderr",
     "output_type": "stream",
     "text": [
      " 76%|███████▌  | 99/130 [09:25<03:19,  6.42s/it]"
     ]
    },
    {
     "name": "stdout",
     "output_type": "stream",
     "text": [
      "Saved progress at index 98\n",
      "Sample Tweet:  One suspect was arrested in Soweto . During the search , a plastic bag containing 3500 mandrax tablets , 7 plastic bags containing dagga , a box with 25 9mm live rounds and 1 black 9mm Z88 were discovered . [url]\n",
      "Sample Annotation:  Explanation: This tweet is not related to health, but rather reports a drug-related crime that occurred in Soweto. The discovery of drugs such as mandrax and dagga suggests that they may have been intended for illegal distribution or consumption. However, this information does not provide any insights into public health issues.\n",
      "\n",
      "Class: 0\n"
     ]
    },
    {
     "name": "stderr",
     "output_type": "stream",
     "text": [
      "100%|██████████| 130/130 [11:59<00:00,  5.53s/it]\n"
     ]
    },
    {
     "name": "stdout",
     "output_type": "stream",
     "text": [
      "Starting requesting for label: Immigration/Integration\n",
      "\n"
     ]
    },
    {
     "name": "stderr",
     "output_type": "stream",
     "text": [
      " 76%|███████▌  | 99/130 [09:50<02:46,  5.37s/it]"
     ]
    },
    {
     "name": "stdout",
     "output_type": "stream",
     "text": [
      "Saved progress at index 98\n",
      "Sample Tweet:  Susan Rice and the Russians . Will Obama's new national security advisor play nice and get along with Moscow ? [url]\n",
      "Sample Annotation:  Explanation: This tweet is not related to immigration or integration. It discusses a political topic, specifically Susan Rice and her relationship with Russia.\n",
      "\n",
      "Class: 0\n"
     ]
    },
    {
     "name": "stderr",
     "output_type": "stream",
     "text": [
      "100%|██████████| 130/130 [12:52<00:00,  5.94s/it]\n"
     ]
    },
    {
     "name": "stdout",
     "output_type": "stream",
     "text": [
      "Starting requesting for label: Justice/Crime\n",
      "\n"
     ]
    },
    {
     "name": "stderr",
     "output_type": "stream",
     "text": [
      " 76%|███████▌  | 99/130 [09:51<03:13,  6.24s/it]"
     ]
    },
    {
     "name": "stdout",
     "output_type": "stream",
     "text": [
      "Saved progress at index 98\n",
      "Sample Tweet:  jacques christian Retweet RT RT_America to #MAGA ! [url] 490 [url] [url]\n",
      "Sample Annotation:  Explanation: This tweet is not related to justice or crime, but rather a retweet of a news article from Real Clear Politics titled \"The FBI and CIA Are in Crisis—and It’s All Because of Trump\". The tweet does not mention anything about justice or crime.\n",
      "\n",
      "Class: 0\n"
     ]
    },
    {
     "name": "stderr",
     "output_type": "stream",
     "text": [
      "100%|██████████| 130/130 [12:56<00:00,  5.97s/it]\n"
     ]
    },
    {
     "name": "stdout",
     "output_type": "stream",
     "text": [
      "Starting requesting for label: Labor/Employment\n",
      "\n"
     ]
    },
    {
     "name": "stderr",
     "output_type": "stream",
     "text": [
      " 76%|███████▌  | 99/130 [09:34<02:32,  4.91s/it]"
     ]
    },
    {
     "name": "stdout",
     "output_type": "stream",
     "text": [
      "Saved progress at index 98\n",
      "Sample Tweet:  The #SyrianArabArmy and allied forces : struck at the headquarters of #Djebhat anNusra \" in the west of #Idlib . [url]\n",
      "Sample Annotation:  Explanation: This tweet is not related to labor or employment, so I would classify this as a 0.\n"
     ]
    },
    {
     "name": "stderr",
     "output_type": "stream",
     "text": [
      "100%|██████████| 130/130 [12:28<00:00,  5.76s/it]\n"
     ]
    },
    {
     "name": "stdout",
     "output_type": "stream",
     "text": [
      "Starting requesting for label: Macroeconomics/Economic Regulation\n",
      "\n"
     ]
    },
    {
     "name": "stderr",
     "output_type": "stream",
     "text": [
      " 76%|███████▌  | 99/130 [10:45<03:05,  5.97s/it]"
     ]
    },
    {
     "name": "stdout",
     "output_type": "stream",
     "text": [
      "Saved progress at index 98\n",
      "Sample Tweet:  \" During my husbands presidency .. \" Now I can use her husbands terrible policies as much as I want against her . #Debates @USER\n",
      "Sample Annotation:  Explanation: This tweet is not related to macroeconomics or economic regulations, but rather a political commentary.\n",
      "Class: 0\n"
     ]
    },
    {
     "name": "stderr",
     "output_type": "stream",
     "text": [
      "100%|██████████| 130/130 [13:41<00:00,  6.32s/it]\n"
     ]
    },
    {
     "name": "stdout",
     "output_type": "stream",
     "text": [
      "Starting requesting for label: Media/Journalism\n",
      "\n"
     ]
    },
    {
     "name": "stderr",
     "output_type": "stream",
     "text": [
      " 76%|███████▌  | 99/130 [10:19<02:52,  5.55s/it]"
     ]
    },
    {
     "name": "stdout",
     "output_type": "stream",
     "text": [
      "Saved progress at index 98\n",
      "Sample Tweet:  RT PoliticsPeach : Alyssa_Milano jgreenSTPA Was this Obama's America & police state that you ppl are trying your best to erase as th … …\n",
      "Sample Annotation:  Explanation: This tweet is not related to media or journalism, but rather a political statement.\n",
      "Class: 0\n"
     ]
    },
    {
     "name": "stderr",
     "output_type": "stream",
     "text": [
      "100%|██████████| 130/130 [13:27<00:00,  6.21s/it]\n"
     ]
    },
    {
     "name": "stdout",
     "output_type": "stream",
     "text": [
      "Starting requesting for label: Religion\n",
      "\n"
     ]
    },
    {
     "name": "stderr",
     "output_type": "stream",
     "text": [
      " 76%|███████▌  | 99/130 [09:49<02:33,  4.95s/it]"
     ]
    },
    {
     "name": "stdout",
     "output_type": "stream",
     "text": [
      "Saved progress at index 98\n",
      "Sample Tweet:  The police have confirmed the deaths of 3 fishermen after a small vessel capsised on Lake Mweru . The group went fishing but their boat overturned as a result of strong winds . The bodies of the drowned had not been recovered yet . The officers have launched the investigation .\n",
      "Sample Annotation:  Explanation: This tweet is not related to religion, therefore I would classify this as 0.\n"
     ]
    },
    {
     "name": "stderr",
     "output_type": "stream",
     "text": [
      "100%|██████████| 130/130 [12:23<00:00,  5.72s/it]\n"
     ]
    },
    {
     "name": "stdout",
     "output_type": "stream",
     "text": [
      "Starting requesting for label: Science/Technology\n",
      "\n"
     ]
    },
    {
     "name": "stderr",
     "output_type": "stream",
     "text": [
      " 76%|███████▌  | 99/130 [09:20<02:39,  5.16s/it]"
     ]
    },
    {
     "name": "stdout",
     "output_type": "stream",
     "text": [
      "Saved progress at index 98\n",
      "Sample Tweet:  @USER smashing it up with Amanya Gange @USER #MondayMotivation #LAFTAZ 25thAUGUST 👇🏻 👇🏻 #MegaSHIRUMATICXperience\n",
      "Sample Annotation:  Explanation: This tweet is not related to science and technology, but rather a social event.\n",
      "Class: 0\n"
     ]
    },
    {
     "name": "stderr",
     "output_type": "stream",
     "text": [
      "100%|██████████| 130/130 [11:59<00:00,  5.53s/it]\n"
     ]
    }
   ],
   "source": [
    "import random\n",
    "\n",
    "## Change output_folder, models_to_test_names, and model_funcs to match the models you want to test\n",
    "output_folder = \"../data/openassistant_llama_30b_4bit/\"\n",
    "models_to_test_names = [\"generic_prompt_without_context_elaboration_first_v04\"]\n",
    "model_funcs = [get_openassistant_llama_30b_4bit_prompt_without_context_elaboration_first_v04]\n",
    "\n",
    "for model_name, model_func in zip(models_to_test_names, model_funcs):\n",
    "    print(\"Starting with model: \" + model_name)\n",
    "    print(\"----------------------------------\")\n",
    "    df_all_tmp = df_all.copy()\n",
    "\n",
    "    df_all_tmp['normalized_tweet'] = None\n",
    "    normalized_tweets_db = {}\n",
    "    output_folder_tmp = f\"{output_folder}{model_name}/\"\n",
    "\n",
    "    if not os.path.exists(output_folder_tmp):\n",
    "        os.makedirs(output_folder_tmp)\n",
    "\n",
    "    for idx, label in enumerate(all_labels):\n",
    "\n",
    "        sample_df = balanced_dfs[idx]\n",
    "\n",
    "        print(\"Starting requesting for label: \" + label + \"\\n\")\n",
    "\n",
    "        new_column_name = f'{label}_pred'\n",
    "        df_all_tmp[new_column_name] = None\n",
    "        request_params = get_base_request_params()\n",
    "\n",
    "        i = 0\n",
    "        for index, row in tqdm(sample_df.iterrows(), total=sample_df.shape[0]):\n",
    "\n",
    "            tweet_text = normalizeTweet(row['text'])\n",
    "            df_all_tmp.loc[lambda df: df['id'] == row[\"id\"], 'normalized_tweet'] = tweet_text\n",
    "\n",
    "            pos_example_tweet = get_positive_example(sample_df, label, row[\"text\"])\n",
    "            neg_example_tweet = get_negative_example(sample_df, label, row[\"text\"])\n",
    "\n",
    "            pos_example_tweet = normalizeTweet(pos_example_tweet)\n",
    "            neg_example_tweet = normalizeTweet(neg_example_tweet)\n",
    "\n",
    "            # select the function based on model_func and generate the prompt\n",
    "            if '1_pos_example' in model_func.__name__:\n",
    "                prompt, followup = model_func(tweet_text, label, pos_example_tweet)\n",
    "            elif '1_neg_example' in model_func.__name__:\n",
    "                prompt, followup = model_func(tweet_text, label, neg_example_tweet)\n",
    "            elif '1_random_example' in model_func.__name__:\n",
    "                example_tweet = random.choice([pos_example_tweet, neg_example_tweet])\n",
    "                example_tweet_label = 1 if example_tweet == pos_example_tweet else 0\n",
    "                prompt, followup = model_func(tweet_text, label, example_tweet, example_tweet_label)\n",
    "            elif '_random_example' in model_func.__name__:\n",
    "                examples = get_random_examples(sample_df, label, row[\"text\"], 3) #set number of examples here\n",
    "                prompt, followup = model_func(tweet_text, label, examples)\n",
    "            elif '1_pos_1_neg_example' in model_func.__name__:\n",
    "                prompt, followup = model_func(tweet_text, label, pos_example_tweet, neg_example_tweet)\n",
    "            else:\n",
    "                prompt, followup, request_params = model_func(tweet_text, label, request_params)\n",
    "\n",
    "            request_params[\"stopping_strings\"] = [\"### Human:\", \"Human:\", \"###\"]\n",
    "            response = get_response(request_params, prompt, \"\")\n",
    "\n",
    "            # Save the response in the 'api_results' column\n",
    "            df_all_tmp.loc[lambda df: df['id'] == row[\"id\"], new_column_name] = response\n",
    "            \n",
    "            i+=1\n",
    "            # Save the DataFrame to a CSV file every 100 steps\n",
    "            if (i + 1) % 100 == 0:\n",
    "                output_path = os.path.join(output_folder_tmp, 'generic_test_0.csv')\n",
    "                df_all_tmp.to_csv(output_path, index=False)\n",
    "                print(f\"Saved progress at index {index}\")\n",
    "                print(\"Sample Tweet: \", tweet_text)\n",
    "                print(\"Sample Annotation: \", response)\n",
    "\n",
    "        # Save the final DataFrame to a CSV file\n",
    "        output_path = os.path.join(output_folder_tmp, 'generic_test_0.csv')\n",
    "        df_all_tmp.to_csv(output_path, index=False)\n",
    "\n",
    "    # Save the request_params as a JSON file in the output folder\n",
    "    with open(os.path.join(output_folder_tmp, 'request_params.json'), 'w') as f:\n",
    "        json.dump(request_params, f, indent=4)\n"
   ]
  },
  {
   "cell_type": "code",
   "execution_count": 9,
   "metadata": {},
   "outputs": [
    {
     "name": "stdout",
     "output_type": "stream",
     "text": [
      "Starting with model: generic_prompt_few_shot_prompt_only_classification_10_random_example\n",
      "----------------------------------\n",
      "Starting requesting for label: War/Terror\n",
      "\n"
     ]
    },
    {
     "name": "stderr",
     "output_type": "stream",
     "text": [
      " 76%|███████▌  | 99/130 [04:02<01:11,  2.29s/it]"
     ]
    },
    {
     "name": "stdout",
     "output_type": "stream",
     "text": [
      "Saved progress at index 98\n",
      "Sample Tweet:  Cleric accused of masterminding 2008 Mumbai attacks under house arrest [url] [url]\n",
      "Sample Annotation:  0\n"
     ]
    },
    {
     "name": "stderr",
     "output_type": "stream",
     "text": [
      "100%|██████████| 130/130 [05:13<00:00,  2.41s/it]\n"
     ]
    },
    {
     "name": "stdout",
     "output_type": "stream",
     "text": [
      "Starting requesting for label: Conspiracy Theory\n",
      "\n"
     ]
    },
    {
     "name": "stderr",
     "output_type": "stream",
     "text": [
      " 76%|███████▌  | 99/130 [03:52<01:10,  2.27s/it]"
     ]
    },
    {
     "name": "stdout",
     "output_type": "stream",
     "text": [
      "Saved progress at index 98\n",
      "Sample Tweet:  #Almost all militants of illegal #armed #groups refuse to move to the #front line . #Syria #Idlib\n",
      "Sample Annotation:  1\n"
     ]
    },
    {
     "name": "stderr",
     "output_type": "stream",
     "text": [
      "100%|██████████| 130/130 [05:02<00:00,  2.32s/it]\n"
     ]
    },
    {
     "name": "stdout",
     "output_type": "stream",
     "text": [
      "Starting requesting for label: Education\n",
      "\n"
     ]
    },
    {
     "name": "stderr",
     "output_type": "stream",
     "text": [
      " 76%|███████▌  | 99/130 [03:57<01:14,  2.39s/it]"
     ]
    },
    {
     "name": "stdout",
     "output_type": "stream",
     "text": [
      "Saved progress at index 98\n",
      "Sample Tweet:  Desperate Clinton Campaign Doubts “ Legitimacy ” of Trump's Win One Week from Inauguration [url] [url]\n",
      "Sample Annotation:  0\n"
     ]
    },
    {
     "name": "stderr",
     "output_type": "stream",
     "text": [
      "100%|██████████| 130/130 [05:14<00:00,  2.42s/it]\n"
     ]
    },
    {
     "name": "stdout",
     "output_type": "stream",
     "text": [
      "Starting requesting for label: Election Campaign\n",
      "\n"
     ]
    },
    {
     "name": "stderr",
     "output_type": "stream",
     "text": [
      " 76%|███████▌  | 99/130 [04:01<01:12,  2.35s/it]"
     ]
    },
    {
     "name": "stdout",
     "output_type": "stream",
     "text": [
      "Saved progress at index 98\n",
      "Sample Tweet:  He's At It Again ! This Guy's Hilarious Photoshop ' Fixes ' Will Make Your Day [url]\n",
      "Sample Annotation:  0\n"
     ]
    },
    {
     "name": "stderr",
     "output_type": "stream",
     "text": [
      "100%|██████████| 130/130 [05:14<00:00,  2.42s/it]\n"
     ]
    },
    {
     "name": "stdout",
     "output_type": "stream",
     "text": [
      "Starting requesting for label: Environment\n",
      "\n"
     ]
    },
    {
     "name": "stderr",
     "output_type": "stream",
     "text": [
      " 76%|███████▌  | 99/130 [04:12<01:14,  2.40s/it]"
     ]
    },
    {
     "name": "stdout",
     "output_type": "stream",
     "text": [
      "Saved progress at index 98\n",
      "Sample Tweet:  PA Sec of State Releases 20 Electors Names , Addresses and Phone Numbers ! [url] [url]\n",
      "Sample Annotation:  0\n"
     ]
    },
    {
     "name": "stderr",
     "output_type": "stream",
     "text": [
      "100%|██████████| 130/130 [05:26<00:00,  2.51s/it]\n"
     ]
    },
    {
     "name": "stdout",
     "output_type": "stream",
     "text": [
      "Starting requesting for label: Government/Public\n",
      "\n"
     ]
    },
    {
     "name": "stderr",
     "output_type": "stream",
     "text": [
      " 76%|███████▌  | 99/130 [03:41<01:09,  2.25s/it]"
     ]
    },
    {
     "name": "stdout",
     "output_type": "stream",
     "text": [
      "Saved progress at index 98\n",
      "Sample Tweet:  #CrazySocks4Docs : raising awareness about depression amongst doctors - [url] Thanduxolo Buti The #CrazySocks4Docs campaign hopes to end the stigma and help curb the high number of depression and suicide case amongst doctors and medicine students . The campaig ... [url]\n",
      "Sample Annotation:  1\n"
     ]
    },
    {
     "name": "stderr",
     "output_type": "stream",
     "text": [
      "100%|██████████| 130/130 [04:52<00:00,  2.25s/it]\n"
     ]
    },
    {
     "name": "stdout",
     "output_type": "stream",
     "text": [
      "Starting requesting for label: Health\n",
      "\n"
     ]
    },
    {
     "name": "stderr",
     "output_type": "stream",
     "text": [
      " 76%|███████▌  | 99/130 [03:45<01:09,  2.24s/it]"
     ]
    },
    {
     "name": "stdout",
     "output_type": "stream",
     "text": [
      "Saved progress at index 98\n",
      "Sample Tweet:  One suspect was arrested in Soweto . During the search , a plastic bag containing 3500 mandrax tablets , 7 plastic bags containing dagga , a box with 25 9mm live rounds and 1 black 9mm Z88 were discovered . [url]\n",
      "Sample Annotation:  1\n"
     ]
    },
    {
     "name": "stderr",
     "output_type": "stream",
     "text": [
      "100%|██████████| 130/130 [04:55<00:00,  2.28s/it]\n"
     ]
    },
    {
     "name": "stdout",
     "output_type": "stream",
     "text": [
      "Starting requesting for label: Immigration/Integration\n",
      "\n"
     ]
    },
    {
     "name": "stderr",
     "output_type": "stream",
     "text": [
      " 76%|███████▌  | 99/130 [03:42<01:09,  2.23s/it]"
     ]
    },
    {
     "name": "stdout",
     "output_type": "stream",
     "text": [
      "Saved progress at index 98\n",
      "Sample Tweet:  Susan Rice and the Russians . Will Obama's new national security advisor play nice and get along with Moscow ? [url]\n",
      "Sample Annotation:  0\n"
     ]
    },
    {
     "name": "stderr",
     "output_type": "stream",
     "text": [
      "100%|██████████| 130/130 [04:52<00:00,  2.25s/it]\n"
     ]
    },
    {
     "name": "stdout",
     "output_type": "stream",
     "text": [
      "Starting requesting for label: Justice/Crime\n",
      "\n"
     ]
    },
    {
     "name": "stderr",
     "output_type": "stream",
     "text": [
      " 76%|███████▌  | 99/130 [03:44<01:09,  2.25s/it]"
     ]
    },
    {
     "name": "stdout",
     "output_type": "stream",
     "text": [
      "Saved progress at index 98\n",
      "Sample Tweet:  jacques christian Retweet RT RT_America to #MAGA ! [url] 490 [url] [url]\n",
      "Sample Annotation:  0\n"
     ]
    },
    {
     "name": "stderr",
     "output_type": "stream",
     "text": [
      "100%|██████████| 130/130 [04:52<00:00,  2.25s/it]\n"
     ]
    },
    {
     "name": "stdout",
     "output_type": "stream",
     "text": [
      "Starting requesting for label: Labor/Employment\n",
      "\n"
     ]
    },
    {
     "name": "stderr",
     "output_type": "stream",
     "text": [
      " 76%|███████▌  | 99/130 [03:57<01:15,  2.44s/it]"
     ]
    },
    {
     "name": "stdout",
     "output_type": "stream",
     "text": [
      "Saved progress at index 98\n",
      "Sample Tweet:  The #SyrianArabArmy and allied forces : struck at the headquarters of #Djebhat anNusra \" in the west of #Idlib . [url]\n",
      "Sample Annotation:  0\n"
     ]
    },
    {
     "name": "stderr",
     "output_type": "stream",
     "text": [
      "100%|██████████| 130/130 [05:14<00:00,  2.42s/it]\n"
     ]
    },
    {
     "name": "stdout",
     "output_type": "stream",
     "text": [
      "Starting requesting for label: Macroeconomics/Economic Regulation\n",
      "\n"
     ]
    },
    {
     "name": "stderr",
     "output_type": "stream",
     "text": [
      " 76%|███████▌  | 99/130 [03:47<01:12,  2.33s/it]"
     ]
    },
    {
     "name": "stdout",
     "output_type": "stream",
     "text": [
      "Saved progress at index 98\n",
      "Sample Tweet:  \" During my husbands presidency .. \" Now I can use her husbands terrible policies as much as I want against her . #Debates @USER\n",
      "Sample Annotation:  0\n"
     ]
    },
    {
     "name": "stderr",
     "output_type": "stream",
     "text": [
      "100%|██████████| 130/130 [04:58<00:00,  2.29s/it]\n"
     ]
    },
    {
     "name": "stdout",
     "output_type": "stream",
     "text": [
      "Starting requesting for label: Media/Journalism\n",
      "\n"
     ]
    },
    {
     "name": "stderr",
     "output_type": "stream",
     "text": [
      " 76%|███████▌  | 99/130 [04:07<01:17,  2.50s/it]"
     ]
    },
    {
     "name": "stdout",
     "output_type": "stream",
     "text": [
      "Saved progress at index 98\n",
      "Sample Tweet:  RT PoliticsPeach : Alyssa_Milano jgreenSTPA Was this Obama's America & police state that you ppl are trying your best to erase as th … …\n",
      "Sample Annotation:  1\n"
     ]
    },
    {
     "name": "stderr",
     "output_type": "stream",
     "text": [
      "100%|██████████| 130/130 [05:20<00:00,  2.47s/it]\n"
     ]
    },
    {
     "name": "stdout",
     "output_type": "stream",
     "text": [
      "Starting requesting for label: Religion\n",
      "\n"
     ]
    },
    {
     "name": "stderr",
     "output_type": "stream",
     "text": [
      " 76%|███████▌  | 99/130 [03:51<01:12,  2.35s/it]"
     ]
    },
    {
     "name": "stdout",
     "output_type": "stream",
     "text": [
      "Saved progress at index 98\n",
      "Sample Tweet:  The police have confirmed the deaths of 3 fishermen after a small vessel capsised on Lake Mweru . The group went fishing but their boat overturned as a result of strong winds . The bodies of the drowned had not been recovered yet . The officers have launched the investigation .\n",
      "Sample Annotation:  0\n"
     ]
    },
    {
     "name": "stderr",
     "output_type": "stream",
     "text": [
      "100%|██████████| 130/130 [05:04<00:00,  2.34s/it]\n"
     ]
    },
    {
     "name": "stdout",
     "output_type": "stream",
     "text": [
      "Starting requesting for label: Science/Technology\n",
      "\n"
     ]
    },
    {
     "name": "stderr",
     "output_type": "stream",
     "text": [
      " 76%|███████▌  | 99/130 [03:50<01:12,  2.35s/it]"
     ]
    },
    {
     "name": "stdout",
     "output_type": "stream",
     "text": [
      "Saved progress at index 98\n",
      "Sample Tweet:  @USER smashing it up with Amanya Gange @USER #MondayMotivation #LAFTAZ 25thAUGUST 👇🏻 👇🏻 #MegaSHIRUMATICXperience\n",
      "Sample Annotation:  0\n"
     ]
    },
    {
     "name": "stderr",
     "output_type": "stream",
     "text": [
      "100%|██████████| 130/130 [04:57<00:00,  2.29s/it]\n"
     ]
    }
   ],
   "source": [
    "import random\n",
    "\n",
    "## Change output_folder, models_to_test_names, and model_funcs to match the models you want to test\n",
    "output_folder = \"../data/openassistant_llama_30b_4bit/\"\n",
    "models_to_test_names = [\"generic_prompt_few_shot_prompt_only_classification_10_random_example\"]\n",
    "model_funcs = [get_openassistant_llama_30b_4bit_few_shot_prompt_only_classification_n_random_example]\n",
    "\n",
    "for model_name, model_func in zip(models_to_test_names, model_funcs):\n",
    "    print(\"Starting with model: \" + model_name)\n",
    "    print(\"----------------------------------\")\n",
    "    df_all_tmp = df_all.copy()\n",
    "\n",
    "    df_all_tmp['normalized_tweet'] = None\n",
    "    normalized_tweets_db = {}\n",
    "    output_folder = f\"{output_folder}{model_name}/\"\n",
    "\n",
    "    if not os.path.exists(output_folder):\n",
    "        os.makedirs(output_folder)\n",
    "\n",
    "    for idx, label in enumerate(all_labels):\n",
    "\n",
    "        sample_df = balanced_dfs[idx]\n",
    "\n",
    "        print(\"Starting requesting for label: \" + label + \"\\n\")\n",
    "\n",
    "        new_column_name = f'{label}_pred'\n",
    "        df_all_tmp[new_column_name] = None\n",
    "        request_params = get_base_request_params()\n",
    "\n",
    "        i = 0\n",
    "        for index, row in tqdm(sample_df.iterrows(), total=sample_df.shape[0]):\n",
    "\n",
    "            tweet_text = normalizeTweet(row['text'])\n",
    "            df_all_tmp.loc[lambda df: df['id'] == row[\"id\"], 'normalized_tweet'] = tweet_text\n",
    "\n",
    "            pos_example_tweet = get_positive_example(sample_df, label, row[\"text\"])\n",
    "            neg_example_tweet = get_negative_example(sample_df, label, row[\"text\"])\n",
    "\n",
    "            pos_example_tweet = normalizeTweet(pos_example_tweet)\n",
    "            neg_example_tweet = normalizeTweet(neg_example_tweet)\n",
    "\n",
    "            # select the function based on model_func and generate the prompt\n",
    "            if '1_pos_example' in model_func.__name__:\n",
    "                prompt, followup = model_func(tweet_text, label, pos_example_tweet)\n",
    "            elif '1_neg_example' in model_func.__name__:\n",
    "                prompt, followup = model_func(tweet_text, label, neg_example_tweet)\n",
    "            elif '1_random_example' in model_func.__name__:\n",
    "                example_tweet = random.choice([pos_example_tweet, neg_example_tweet])\n",
    "                example_tweet_label = 1 if example_tweet == pos_example_tweet else 0\n",
    "                prompt, followup = model_func(tweet_text, label, example_tweet, example_tweet_label)\n",
    "            elif '_random_example' in model_func.__name__:\n",
    "                examples = get_random_examples(sample_df, label, row[\"text\"], 10)\n",
    "                prompt, followup = model_func(tweet_text, label, examples)\n",
    "            elif '1_pos_1_neg_example' in model_func.__name__:\n",
    "                prompt, followup = model_func(tweet_text, label, pos_example_tweet, neg_example_tweet)\n",
    "\n",
    "            request_params[\"stopping_strings\"] = [\"### Human:\", \"Human:\", \"###\"]\n",
    "            request_params[\"max_new_tokens\"] = 5\n",
    "            response = get_response(request_params, prompt, \"\")\n",
    "\n",
    "            # Save the response in the 'api_results' column\n",
    "            df_all_tmp.loc[lambda df: df['id'] == row[\"id\"], new_column_name] = response\n",
    "            \n",
    "            i+=1\n",
    "            # Save the DataFrame to a CSV file every 100 steps\n",
    "            if (i + 1) % 100 == 0:\n",
    "                output_path = os.path.join(output_folder, 'generic_test_0.csv')\n",
    "                df_all_tmp.to_csv(output_path, index=False)\n",
    "                print(f\"Saved progress at index {index}\")\n",
    "                print(\"Sample Tweet: \", tweet_text)\n",
    "                print(\"Sample Annotation: \", response)\n",
    "\n",
    "        # Save the final DataFrame to a CSV file\n",
    "        output_path = os.path.join(output_folder, 'generic_test_0.csv')\n",
    "        df_all_tmp.to_csv(output_path, index=False)\n",
    "\n",
    "    # Save the request_params as a JSON file in the output folder\n",
    "    with open(os.path.join(output_folder, 'request_params.json'), 'w') as f:\n",
    "        json.dump(request_params, f, indent=4)"
   ]
  },
  {
   "cell_type": "code",
   "execution_count": 7,
   "metadata": {},
   "outputs": [
    {
     "name": "stdout",
     "output_type": "stream",
     "text": [
      "F1 Score for label 0: 0.9754411946192769\n",
      "F1 Score for label 1: 0.7781493868450392\n",
      "Average F1 Score: 0.8767952907321581\n",
      "Accuracy: 0.9557777777777777\n"
     ]
    }
   ],
   "source": [
    "from sklearn.metrics import f1_score, accuracy_score\n",
    "\n",
    "# Confusion matrix values\n",
    "tn = 3952\n",
    "tp = 349\n",
    "fp = 103\n",
    "fn = 96\n",
    "\n",
    "# True and predicted values\n",
    "y_true = [0]*tn + [1]*tp + [0]*fp + [1]*fn\n",
    "y_pred = [0]*tn + [1]*tp + [1]*fp + [0]*fn\n",
    "\n",
    "# F1 scores for each label\n",
    "f1_label_0 = f1_score(y_true, y_pred, pos_label=0)\n",
    "f1_label_1 = f1_score(y_true, y_pred, pos_label=1)\n",
    "\n",
    "# Average F1 score\n",
    "f1_avg = (f1_label_0 + f1_label_1) / 2\n",
    "\n",
    "# Accuracy\n",
    "accuracy = accuracy_score(y_true, y_pred)\n",
    "\n",
    "print(f\"F1 Score for label 0: {f1_label_0}\")\n",
    "print(f\"F1 Score for label 1: {f1_label_1}\")\n",
    "print(f\"Average F1 Score: {f1_avg}\")\n",
    "print(f\"Accuracy: {accuracy}\")"
   ]
  },
  {
   "cell_type": "code",
   "execution_count": 18,
   "metadata": {},
   "outputs": [
    {
     "name": "stdout",
     "output_type": "stream",
     "text": [
      "['Hong Kong customs arrested 40 kilogrammes of Joburg rhino horns [url]', 'Zambia is going to receive US $ 9m from the International Finance Corporation ( IFC ) for construction of Zambian hotel and conference centre on the suburbs of Lusaka . [url]', \"A repatriation flight from Bangui M'Poko International Airport , #CentralAfricanRepublic , for the U . S . citizens is scheduled for April 19 . The approximate cost of this flight is $ 1,774 . It is unlikely that there will be another repatriation flight organized by @USER . [url]\", 'Milky Way being pushed through space by cosmic dead zone , say scientists [url] [url]', 'This Friday , September 25 , the project \" Voluntary surrender of arms and ammunition \" was launched during the official ceremony attended by President of the #CentralAfricanRepublic Faustin Archange Touadéra and other high officials . [url]', 'RT @USER + + pK5Mrn2cOXrzHm71gg7YwrpNU =: UPDF soldiers in Somalia keeping law & order #securityug [url]', \"It's reported that as a result of an armed clash between the People's Front for the Revival of the #CentralAfricanRepublic ( FPRC ) and the Central African Liberators for Justice Movement ( MLCJ ) 12 km from Birao , Wakaga Prefecture , at least 59 were killed , 12 were injured . [url]\", 'Ramaphosa officially sets elections date in SA [url]', 'Hi guys ! Sorry for having been silent for a month . My congratulations to all the Syrians - the north of Hama is free now and people may live there happily ever after !', 'RT @USER : In Uganda when heavy rains , No electricity , MTN and Airtel emergency , DSTV no signal , Manhood 4.5 G with full signal :woozy_face:', 'RT @USER : Hubbly smokers when arriving at the groove [url]', 'Snooty Chef Anthony Bourdain Bashes Fellow “ Privileged Eastern Liberals ” for the Rise of Trump [url] [url]', 'RT @USER : \" The life of a single human being is worth more than all the property of the richest man on earth . \" - Dr . Ernesto \" Che …', 'Trump named Time Person of the Year [url] [url]', \"Port Shepstone K9 Unit during an intell driven op in Boboyi recovered drugs and a stolen vehicle . Vehicle was reported stolen over the weekend in Port Shepstone - found completely stripped next to suspect's residence . [url]\", 'RT Cernovich : Van Jones defends McMaster on CNN . [url]', 'Bé Ôko movement general assembly has validated their basic texts . Bé Ôko , a platform created to support Faustin Archange Touadera running for the second presidential term , consists of 42 political parties and associations of #CentralAfricanRepublic . [url]', '#HTS militants equip command posts in schools and mosques , holding civilians as hostages . Terrorists placed MLRS near school in #AbuOmar [url]', 'The #bandits controlling the Rukban camp used to sell water to refugees at a very high price . Now , after #Jordan has damaged the #water supply , water in the refugee camp will become too expensive for ordinary people and will be simply unavailable to many . [url]', \":face_screaming_in_fear: Saudi Arabia's chief prosecutor's office on Thursday announced it had charged 11 out of 21 suspects in relation to the murder early last month of journalist Jamal Khashoggi #jamalkhashoggi #khashoggi #saudiarabia\", \"RT @USER : KK argues that the Seninde report has already been discussed and adopted . Alipanga doesn't know that because he's not a m …\", '@USER Well put @USER =', '26 - old-man arrested for Anti-Gang Unit attack as lock down continues in Samora Machel - [url] The man was arrested in Paarl in connection with the shooting of the six anti-gang members who were tracing suspects in the Sweet Home Farm informal settlements , ne ... [url]', 'RT @USER : He Dated A Girl for Six ( 6 ) Good years , Never Had Sex . They Got Married Just Last Year December 24 , Had Sex With Her Fo …', \"Sean Connery asked for Germaine Greer's number ( and other things we found in her archives ) [url] [url]\", 'Gunmen Murder Journalist Exposing Corrupt Mexican Cops [url] [url]', '#FederalReserve : Mortal Agony on Day of Jubilee #Fed [url]', ':sparkler: The United States announced new visa restrictions for \" dozens \" of officials aligned with Venezuelan President Nicolas Maduro\\'s government #usa #us #venezuela #maduro #trump #guaido @USER @USER', 'RT @USER : A dedicated Uganda Police Force . Thanks for protecting us #SecureUganda [url]', 'SABC staff evacuated due to diesel leak - [url] On Wednesday morning , the South African Broadcasting Corporation ( SABC ) employees were evacuated from the Radio Park building in Johannesburg . Three of them were hospitalised . “ There was a power outage earlie ... [url]', \"It appears that overground pedestrian walkways can't save people's lives [url]\", '#Obama to support #Ukraine purchasing marijuana [url]', '50 militants of Jabhat al-Nusra arrived to strengthen the checkpoint in Sarmad , as a result they finally blocking the supply for AAS #Idlib [url]', 'A Wall And A Frontier [url] [url]', 'Two military transport aircraft of the #TurkishAirForce made another flight in support of the #NationalTransitionalCouncil of #Libya . Waiting for the second #Idlib in Libya [url]', 'Venezuela is leading the way in communal democracy and community centered solutions . Gardens , pharmacies , clinics , all part of a community centered plan to serve the people .', 'RT DebAlwaystrump : #CorruptCongress has let Dems FAKE RUSSIA LIE go 2 point that you pissed off Russia & you LET … [url]', 'RT @USER : Lava Jato had two primary goals : 1 . Criminalize the political opposition making it impossible for the left to govern . 2 . De …', '@USER @USER Maybe a president in his house otherwise the president of the republic of Uganda is H . E Kaguta Museveni', '6 People Hold Protest Hoping California will “ Exit ” America Over President Trump [url] [url]', 'RT @USER : Corporations see the prison industry as a growth-industry , where massive profits will be made .', 'I signed up for Energy , the Environment , and Our Future from @USER on @USER ! [url] #energy', 'RT @USER : \" No human being is illegal . \" RT @USER : Marching to end deportations rally in Denver . #not1more #2million2many [url]', 'Accused of plotting against senior SA govt officials to hear his sentence today [url]', \"FAILED LEGACY : Obama's Appalling Betrayal of Israel [url] [url]\", \"“ If it turns out that there was no #chemical attack , and we are increasingly convinced of this , the entire #US version collapses , then they are #violators of international law . Oh , our #American partners don't want to be in such a role , ” stressed A . #Shulgin . [url]\", 'Voter fraud debate as divided as America is politically [url] [url]', \"This Infographic Shows North Korea's Missile Threat is Rising [url] [url]\", 'RT @USER : I thought sleeping naked was fun until rat sucked my p * ssy yesterday :grinning_face: :grinning_face: :grinning_face:', 'Cape Town commuter died of electric shock at Mutual Station [url]', 'RT @USER : Be selective in choosing your battle sometimes peace is better that being right .', 'RT @USER + qIsPp 4ZaNFZCxaLJIePPypzDuzVZg97pJfU =: According to my sources in #Aleppo hospital , there are already 72 victims of chlorine poisoning . Among them 8 children a …', 'Sisulu : protests in Zimbabwe have subsided [url]', \"It's getting warmer outside and a breath of spring is coming through the windows . One can also find spring or even hot summer in Unathi Nkayi and Ann Malinga's Instagram accounts . The girls recently shared some new pictures of themselves wearing bikinis while on vacation ! [url]\", 'Bill seeks to limit leadership terms in General Assembly [url]', 'The inaction of the world community allowed #terrorists to use #ChemicalWeapons against the peaceful population of #Aleppo [url]', 'The South African National Defence Force ( SANDF ) has been deployed to certain areas in Cape Town , after 13 gang related murders , but some residents have mixed feelings about armed forces in the area . [url]', 'Saudi newspaper @USER published our article \" A disordered world or the multipolar future ? \" @USER [url]', 'Clinton , Bush , Obama Gave Mexico Almost $ 1,000 , 000,000 , 000 ! [url] [url]', 'Several armed herders attacked villages in northern Jebel Marra in Tawila locality . The attacks happened on Sunday . The perpetrators were allegedly in search of missing livestock . According to the reports , the herders abducted eight people from the villages . [url]', 'RT @USER : 60,000 people starved to death yesterday , murdered by the greed of all those who aspire to join the sick capitalist class .', 'Migrant Crisis is Pushing Europe to the Brink of Civil War [url] [url]', 'RT @USER : An English writer John Bunyan once said that you have not lived today until you have done something for someone who can neve …', 'Baby fell into drain in Doornfontein , rescuers are on scene - [url] paramedics , Fire Ops SA , and the JMPD ER24 paramedics are making their every effort to retrieve a baby from a stormwater drain in the Johannesburg CBD . It is said that the locals alarmed the ... [url]', 'RT @USER : Why are women no longer fight for men . ? ? ? :person_shrugging: :person_shrugging: :person_gesturing_OK: :person_gesturing_OK: [url]', 'RT @USER : nice sms @USER @USER @USER @USER @USER @USER @USER @USER + vjtCMtDejmMJ 1XZXAyduXbW0BgRnl38KGQF2Q5L0 =', '#HTS terrorists delivered several containers with #chlorine in #Khan-Shaykhun , #Idlib [url]', 'Syrian army pushes back militants who do not give up attempts to fire at #Hmeimim airbase [url]', 'Rogue Activist Judge Strikes Again [url] [url]', 'Militants killed 124 Syrian soldiers and injured more than 220 of them . In addition , five civilians were killed and 17 injured by terrorist organizations . #Syria #TERROR #militants', 'The Times : \" Ukraine , like Turkey , won\\'t ever join the EU \" [url]', '@USER @USER @USER @USER @USER @USER @USER @USER + vjtCMtDejmMJ 1XZXAyduXbW0BgRnl38KGQF2Q5L0 = @USER @USER @USER = @USER Relax this is reality ! !', 'RT @USER : Remind them of the #ArmyCommander who never finished the #LRA rebellion but instead fled the war front . [url]', 'RT @USER : For more see the following article / video on the @USER [url]', 'RT @USER =: Recent images of a country burying its dead from COVID 19 . Even as lockdown is lifted , may we remain aware of the dang …', \"The militants , who held #Rastan's cauldron for several years in a row , are currently observing the cease-fire regime and continue the transfer of weapons and equipment to the #SAA servicemen within the framework of the capitulation agreement #Syria #BreakingNews [url]\", '2018 Elections in #Italy : No government will be able to cope with the migrant surge [url] #migration [url]', \"Finance Minister Dr Bwalya Ng'andu says his job honeymoon is short due to the terms of limited room for delay to stabilize and grow the economy according to the order by President Edgar Lungu . [url] [url]\", '@USER @USER @USER They kidnapped themselves .', 'OR Tambo Airport security officer took a bribe from a passenger [url]', 'Navy Sec Warns Trump Against Rolling Back Social Change In Military [url] [url]', \"Trump SMASHES Obama's Weak Cuba Policy , Puts Castro “ On Notice ” [url] [url]\", 'A 53 - year-old Zambian national Willie Oliver Ndembela who served as Special Assistant to the African Union Commissioner of Trade and Industry of His Excellency Albert Muchanga has passed away in Addis Ababa , Ethiopia . [url]', '“ Black Lives Matter ” Issues Revolting Anti-Christian Message on Christmas [url] [url]', \"RT @USER : This guy deserves a Ballon d'Or for this tweet ! RT if you agree ! :clapping_hands: :clapping_hands: @USER [url]\", 'RT @USER : Lets get the song here O Nwang prod by @USER You can stream and Download [url] RT PLEASE [url] :/ …', \"Greece three weeks away from ' explosive ' debt problems , says IMF [url] [url]\", 'RT @USER =: A good morning [url]', 'BREAKING : FBI Now Admits Surveillance on a Trump Team Member [url] [url]', 'Two women died after being struck by a train near Nyanga , in the morning Minister of Transport Fikile Mbalula was making his way to the train station to get the plight of train commuters in Cape Town . [url]', '@USER + z0BCnXrncE042 + 9A7rH5PCM0B1do8 = In the north of #Aleppo province , in the Umm-El-Jlud region , the transfer of tank trucks to intermediary #HTS drivers was found , who later transport them to the #Kubbasin , further to #Turkey [url]', 'The Government of Salvation in the #Idlib de-escalation zone announced the mobilization of citizens into the ranks of the #HTS . [url]', 'Trump Absolutely Destroys MSNBC and CNN “ FOOLS ” Over their Coverage of Russia [url] [url]', '@USER @USER = @USER @USER @USER @USER = @USER @USER @USER @USER @USER @USER @USER @USER 150k is the total amount given in 6 months', 'Unlike high-ranking officials and field commanders associated with the \" Kurdistan Workers Party \" , ordinary Kurdish people are not able to ensure their well-being abroad if Turkey starts a military operation . [url]', 'Places to Visit in Towson , MD [url] [url]', 'Dozens at South Dakota airport to protest immigration order [url]', 'Pennsylvania man found in boot of car sent to auction - [url] A man was lying in the boot of a vehicle sent to a Pennsylvania auto auction . According to Northern Lancaster County Regional Police Chief David Steffen , the man was transported to hospital for ... [url]', 'The new culture war : how \\u200b \\u200b Hollywood took on \\u200b \\u200b Trump [url] [url]', \"RT @USER : If it was easy , it would not be called CHOICE . We can't ctrl behaviours of others but we can choose how to respond to them …\"]\n"
     ]
    },
    {
     "data": {
      "text/html": [
       "<div>\n",
       "<style scoped>\n",
       "    .dataframe tbody tr th:only-of-type {\n",
       "        vertical-align: middle;\n",
       "    }\n",
       "\n",
       "    .dataframe tbody tr th {\n",
       "        vertical-align: top;\n",
       "    }\n",
       "\n",
       "    .dataframe thead th {\n",
       "        text-align: right;\n",
       "    }\n",
       "</style>\n",
       "<table border=\"1\" class=\"dataframe\">\n",
       "  <thead>\n",
       "    <tr style=\"text-align: right;\">\n",
       "      <th></th>\n",
       "      <th>normalized_tweet</th>\n",
       "      <th>annotations</th>\n",
       "      <th>War/Terror_pred</th>\n",
       "    </tr>\n",
       "  </thead>\n",
       "  <tbody>\n",
       "    <tr>\n",
       "      <th>17</th>\n",
       "      <td>Hong Kong customs arrested 40 kilogrammes of J...</td>\n",
       "      <td>['Environment', 'Justice/Crime']</td>\n",
       "      <td>Classification: 1</td>\n",
       "    </tr>\n",
       "    <tr>\n",
       "      <th>102</th>\n",
       "      <td>Zambia is going to receive US $ 9m from the In...</td>\n",
       "      <td>['Others']</td>\n",
       "      <td>Classification: 0</td>\n",
       "    </tr>\n",
       "    <tr>\n",
       "      <th>134</th>\n",
       "      <td>A repatriation flight from Bangui M'Poko Inter...</td>\n",
       "      <td>['Immigration/Integration']</td>\n",
       "      <td>Tweet: RIP to all those who lost their lives i...</td>\n",
       "    </tr>\n",
       "    <tr>\n",
       "      <th>170</th>\n",
       "      <td>Milky Way being pushed through space by cosmic...</td>\n",
       "      <td>['Science/Technology']</td>\n",
       "      <td>Classification: 0</td>\n",
       "    </tr>\n",
       "    <tr>\n",
       "      <th>192</th>\n",
       "      <td>This Friday , September 25 , the project \" Vol...</td>\n",
       "      <td>['Government/Public']</td>\n",
       "      <td>Classification: 1</td>\n",
       "    </tr>\n",
       "    <tr>\n",
       "      <th>214</th>\n",
       "      <td>RT @USER + + pK5Mrn2cOXrzHm71gg7YwrpNU =: UPDF...</td>\n",
       "      <td>['Government/Public']</td>\n",
       "      <td>Classification: 1</td>\n",
       "    </tr>\n",
       "    <tr>\n",
       "      <th>229</th>\n",
       "      <td>It's reported that as a result of an armed cla...</td>\n",
       "      <td>['War/Terror']</td>\n",
       "      <td>Classification: 1</td>\n",
       "    </tr>\n",
       "    <tr>\n",
       "      <th>251</th>\n",
       "      <td>Ramaphosa officially sets elections date in SA...</td>\n",
       "      <td>['Election Campaign']</td>\n",
       "      <td>Classification: 0</td>\n",
       "    </tr>\n",
       "    <tr>\n",
       "      <th>256</th>\n",
       "      <td>Hi guys ! Sorry for having been silent for a m...</td>\n",
       "      <td>['War/Terror', 'Others']</td>\n",
       "      <td>Classification: 1</td>\n",
       "    </tr>\n",
       "    <tr>\n",
       "      <th>257</th>\n",
       "      <td>RT @USER : In Uganda when heavy rains , No ele...</td>\n",
       "      <td>['Science/Technology']</td>\n",
       "      <td>Classification: 0</td>\n",
       "    </tr>\n",
       "  </tbody>\n",
       "</table>\n",
       "</div>"
      ],
      "text/plain": [
       "                                      normalized_tweet  \\\n",
       "17   Hong Kong customs arrested 40 kilogrammes of J...   \n",
       "102  Zambia is going to receive US $ 9m from the In...   \n",
       "134  A repatriation flight from Bangui M'Poko Inter...   \n",
       "170  Milky Way being pushed through space by cosmic...   \n",
       "192  This Friday , September 25 , the project \" Vol...   \n",
       "214  RT @USER + + pK5Mrn2cOXrzHm71gg7YwrpNU =: UPDF...   \n",
       "229  It's reported that as a result of an armed cla...   \n",
       "251  Ramaphosa officially sets elections date in SA...   \n",
       "256  Hi guys ! Sorry for having been silent for a m...   \n",
       "257  RT @USER : In Uganda when heavy rains , No ele...   \n",
       "\n",
       "                          annotations  \\\n",
       "17   ['Environment', 'Justice/Crime']   \n",
       "102                        ['Others']   \n",
       "134       ['Immigration/Integration']   \n",
       "170            ['Science/Technology']   \n",
       "192             ['Government/Public']   \n",
       "214             ['Government/Public']   \n",
       "229                    ['War/Terror']   \n",
       "251             ['Election Campaign']   \n",
       "256          ['War/Terror', 'Others']   \n",
       "257            ['Science/Technology']   \n",
       "\n",
       "                                       War/Terror_pred  \n",
       "17                                   Classification: 1  \n",
       "102                                  Classification: 0  \n",
       "134  Tweet: RIP to all those who lost their lives i...  \n",
       "170                                  Classification: 0  \n",
       "192                                  Classification: 1  \n",
       "214                                  Classification: 1  \n",
       "229                                  Classification: 1  \n",
       "251                                  Classification: 0  \n",
       "256                                  Classification: 1  \n",
       "257                                  Classification: 0  "
      ]
     },
     "execution_count": 18,
     "metadata": {},
     "output_type": "execute_result"
    }
   ],
   "source": [
    "test_df = pd.read_csv(\"../data/gpt4xalpaca_4bit/generic_prompt_without_context_only_classification/generic_test_0.csv\")\n",
    "test_df = test_df[test_df[\"War/Terror_pred\"].notna()]\n",
    "print(test_df[\"normalized_tweet\"].to_list())\n",
    "test_df[[\"normalized_tweet\", \"annotations\", \"War/Terror_pred\"]].head(10)"
   ]
  },
  {
   "cell_type": "code",
   "execution_count": 41,
   "metadata": {},
   "outputs": [
    {
     "name": "stdout",
     "output_type": "stream",
     "text": [
      "Confusion matrix for War/Terror:\n",
      "[[34 45]\n",
      " [ 2 17]]\n",
      "\n",
      "Confusion matrix for Conspiracy Theory:\n",
      "[[ 6 80]\n",
      " [ 0  8]]\n",
      "\n",
      "Confusion matrix for Education:\n",
      "[[38 61]\n",
      " [ 0  0]]\n",
      "\n",
      "Confusion matrix for Election Campaign:\n",
      "[[15 82]\n",
      " [ 0  2]]\n",
      "\n",
      "Confusion matrix for Environment:\n",
      "[[45 52]\n",
      " [ 0  2]]\n",
      "\n",
      "Confusion matrix for Government/Public:\n",
      "[[11 58]\n",
      " [ 5 26]]\n",
      "\n",
      "Confusion matrix for Health:\n",
      "[[46 48]\n",
      " [ 0  3]]\n",
      "\n",
      "Confusion matrix for Immigration/Integration:\n",
      "[[20 70]\n",
      " [ 0  8]]\n",
      "\n",
      "Confusion matrix for Justice/Crime:\n",
      "[[13 70]\n",
      " [ 1 14]]\n",
      "\n",
      "Confusion matrix for Labor/Employment:\n",
      "[[21 78]\n",
      " [ 0  0]]\n",
      "\n",
      "Confusion matrix for Macroeconomics/Economic:\n",
      "[[25 68]\n",
      " [ 0  6]]\n",
      "\n",
      "Confusion matrix for Regulation:\n",
      "[[15 77]\n",
      " [ 0  6]]\n",
      "\n",
      "Confusion matrix for Media/Journalism:\n",
      "[[13 81]\n",
      " [ 0  5]]\n",
      "\n",
      "Confusion matrix for Religion:\n",
      "[[15 82]\n",
      " [ 0  1]]\n",
      "\n",
      "Confusion matrix for Science/Technology:\n",
      "[[48 47]\n",
      " [ 1  1]]\n",
      "\n",
      "Confusion matrix for Others:\n",
      "[[70  1]\n",
      " [28  1]]\n",
      "\n"
     ]
    },
    {
     "name": "stderr",
     "output_type": "stream",
     "text": [
      "/home/bruno/anaconda3/envs/my_env/lib/python3.11/site-packages/sklearn/metrics/_classification.py:1344: UndefinedMetricWarning: Recall and F-score are ill-defined and being set to 0.0 in labels with no true samples. Use `zero_division` parameter to control this behavior.\n",
      "  _warn_prf(average, modifier, msg_start, len(result))\n",
      "/home/bruno/anaconda3/envs/my_env/lib/python3.11/site-packages/sklearn/metrics/_classification.py:1344: UndefinedMetricWarning: Recall and F-score are ill-defined and being set to 0.0 in labels with no true samples. Use `zero_division` parameter to control this behavior.\n",
      "  _warn_prf(average, modifier, msg_start, len(result))\n",
      "/home/bruno/anaconda3/envs/my_env/lib/python3.11/site-packages/sklearn/metrics/_classification.py:1344: UndefinedMetricWarning: Recall and F-score are ill-defined and being set to 0.0 in labels with no true samples. Use `zero_division` parameter to control this behavior.\n",
      "  _warn_prf(average, modifier, msg_start, len(result))\n",
      "/home/bruno/anaconda3/envs/my_env/lib/python3.11/site-packages/sklearn/metrics/_classification.py:1344: UndefinedMetricWarning: Recall and F-score are ill-defined and being set to 0.0 in labels with no true samples. Use `zero_division` parameter to control this behavior.\n",
      "  _warn_prf(average, modifier, msg_start, len(result))\n",
      "/home/bruno/anaconda3/envs/my_env/lib/python3.11/site-packages/sklearn/metrics/_classification.py:1344: UndefinedMetricWarning: Recall and F-score are ill-defined and being set to 0.0 in labels with no true samples. Use `zero_division` parameter to control this behavior.\n",
      "  _warn_prf(average, modifier, msg_start, len(result))\n",
      "/home/bruno/anaconda3/envs/my_env/lib/python3.11/site-packages/sklearn/metrics/_classification.py:1344: UndefinedMetricWarning: Recall and F-score are ill-defined and being set to 0.0 in labels with no true samples. Use `zero_division` parameter to control this behavior.\n",
      "  _warn_prf(average, modifier, msg_start, len(result))\n"
     ]
    }
   ],
   "source": [
    "import pandas as pd\n",
    "import seaborn as sns\n",
    "import matplotlib.pyplot as plt\n",
    "from sklearn.metrics import confusion_matrix, classification_report\n",
    "\n",
    "test_df = pd.read_csv(\"../data/gpt4xalpaca_4bit/generic_prompt_without_context_only_classification/generic_test_0.csv\")\n",
    "test_df = test_df[test_df[\"War/Terror_pred\"].notna()]\n",
    "\n",
    "classes = [\"War/Terror\", \"Conspiracy Theory\", \"Education\", \"Election Campaign\", \"Environment\", \n",
    "              \"Government/Public\", \"Health\", \"Immigration/Integration\", \n",
    "              \"Justice/Crime\", \"Labor/Employment\", \n",
    "              \"Macroeconomics/Economic\", \"Regulation\", \"Media/Journalism\", \"Religion\", \"Science/Technology\"]\n",
    "\n",
    "\n",
    "# Function to convert 'Classification: [0 or 1]' string to int value\n",
    "def extract_classification_value(classification_str):\n",
    "    if pd.isna(classification_str):\n",
    "        return None\n",
    "    try:\n",
    "        return int(classification_str.split(': ')[1])\n",
    "    except ValueError:\n",
    "        return None\n",
    "    except IndexError:\n",
    "        return None\n",
    "\n",
    "# Iterate through class labels and extract binary predictions\n",
    "for label in classes:\n",
    "    pred_column_name = f\"{label}_pred\"\n",
    "    #print(test_df[pred_column_name])\n",
    "    test_df[pred_column_name] = test_df[pred_column_name].apply(extract_classification_value)\n",
    "    \n",
    "# Function to assign 'Others' label if none of the prediction columns have a 1\n",
    "def assign_others(row):\n",
    "    if not any(row[f\"{label}_pred\"] == 1 for label in classes):\n",
    "        return 1\n",
    "    return 0\n",
    "\n",
    "test_df['Others_pred'] = test_df.apply(assign_others, axis=1)\n",
    "classes.append('Others')\n",
    "\n",
    "confusion_matrices = {}\n",
    "classification_reports = {}\n",
    "for i, label in enumerate(classes):\n",
    "    pred_column_name = f\"{label}_pred\"\n",
    "    \n",
    "    # Ignore rows with NaN or invalid values in the predictions\n",
    "    valid_rows = test_df[pred_column_name].notna()\n",
    "    \n",
    "    y_true = test_df.loc[valid_rows, 'annotations'].apply(lambda x: int(label in x))\n",
    "    y_pred = test_df.loc[valid_rows, pred_column_name].astype(int)\n",
    "\n",
    "    cm = confusion_matrix(y_true, y_pred)\n",
    "    confusion_matrices[label] = cm\n",
    "    cr = classification_report(y_true, y_pred, output_dict=True)\n",
    "    classification_reports[label] = cr\n",
    "\n",
    "# Print confusion matrices\n",
    "for label, cm in confusion_matrices.items():\n",
    "    print(f\"Confusion matrix for {label}:\")\n",
    "    print(cm)\n",
    "    print()"
   ]
  },
  {
   "cell_type": "code",
   "execution_count": 43,
   "metadata": {},
   "outputs": [
    {
     "data": {
      "text/plain": [
       "{'War/Terror': {'0': {'precision': 0.9444444444444444,\n",
       "   'recall': 0.43037974683544306,\n",
       "   'f1-score': 0.5913043478260869,\n",
       "   'support': 79},\n",
       "  '1': {'precision': 0.27419354838709675,\n",
       "   'recall': 0.8947368421052632,\n",
       "   'f1-score': 0.4197530864197531,\n",
       "   'support': 19},\n",
       "  'accuracy': 0.5204081632653061,\n",
       "  'macro avg': {'precision': 0.6093189964157706,\n",
       "   'recall': 0.6625582944703531,\n",
       "   'f1-score': 0.50552871712292,\n",
       "   'support': 98},\n",
       "  'weighted avg': {'precision': 0.8144978421476117,\n",
       "   'recall': 0.5204081632653061,\n",
       "   'f1-score': 0.5580444093901651,\n",
       "   'support': 98}},\n",
       " 'Conspiracy Theory': {'0': {'precision': 1.0,\n",
       "   'recall': 0.06976744186046512,\n",
       "   'f1-score': 0.13043478260869565,\n",
       "   'support': 86},\n",
       "  '1': {'precision': 0.09090909090909091,\n",
       "   'recall': 1.0,\n",
       "   'f1-score': 0.16666666666666669,\n",
       "   'support': 8},\n",
       "  'accuracy': 0.14893617021276595,\n",
       "  'macro avg': {'precision': 0.5454545454545454,\n",
       "   'recall': 0.5348837209302325,\n",
       "   'f1-score': 0.14855072463768115,\n",
       "   'support': 94},\n",
       "  'weighted avg': {'precision': 0.9226305609284333,\n",
       "   'recall': 0.14893617021276595,\n",
       "   'f1-score': 0.13351834720937406,\n",
       "   'support': 94}},\n",
       " 'Education': {'0': {'precision': 1.0,\n",
       "   'recall': 0.3838383838383838,\n",
       "   'f1-score': 0.5547445255474452,\n",
       "   'support': 99},\n",
       "  '1': {'precision': 0.0, 'recall': 0.0, 'f1-score': 0.0, 'support': 0},\n",
       "  'accuracy': 0.3838383838383838,\n",
       "  'macro avg': {'precision': 0.5,\n",
       "   'recall': 0.1919191919191919,\n",
       "   'f1-score': 0.2773722627737226,\n",
       "   'support': 99},\n",
       "  'weighted avg': {'precision': 1.0,\n",
       "   'recall': 0.3838383838383838,\n",
       "   'f1-score': 0.5547445255474452,\n",
       "   'support': 99}},\n",
       " 'Election Campaign': {'0': {'precision': 1.0,\n",
       "   'recall': 0.15463917525773196,\n",
       "   'f1-score': 0.2678571428571429,\n",
       "   'support': 97},\n",
       "  '1': {'precision': 0.023809523809523808,\n",
       "   'recall': 1.0,\n",
       "   'f1-score': 0.046511627906976744,\n",
       "   'support': 2},\n",
       "  'accuracy': 0.1717171717171717,\n",
       "  'macro avg': {'precision': 0.5119047619047619,\n",
       "   'recall': 0.5773195876288659,\n",
       "   'f1-score': 0.1571843853820598,\n",
       "   'support': 99},\n",
       "  'weighted avg': {'precision': 0.9802789802789803,\n",
       "   'recall': 0.1717171717171717,\n",
       "   'f1-score': 0.26338551629249307,\n",
       "   'support': 99}},\n",
       " 'Environment': {'0': {'precision': 1.0,\n",
       "   'recall': 0.4639175257731959,\n",
       "   'f1-score': 0.6338028169014084,\n",
       "   'support': 97},\n",
       "  '1': {'precision': 0.037037037037037035,\n",
       "   'recall': 1.0,\n",
       "   'f1-score': 0.07142857142857142,\n",
       "   'support': 2},\n",
       "  'accuracy': 0.47474747474747475,\n",
       "  'macro avg': {'precision': 0.5185185185185185,\n",
       "   'recall': 0.731958762886598,\n",
       "   'f1-score': 0.3526156941649899,\n",
       "   'support': 99},\n",
       "  'weighted avg': {'precision': 0.980546202768425,\n",
       "   'recall': 0.47474747474747475,\n",
       "   'f1-score': 0.6224417210332703,\n",
       "   'support': 99}},\n",
       " 'Government/Public': {'0': {'precision': 0.6875,\n",
       "   'recall': 0.15942028985507245,\n",
       "   'f1-score': 0.2588235294117647,\n",
       "   'support': 69},\n",
       "  '1': {'precision': 0.30952380952380953,\n",
       "   'recall': 0.8387096774193549,\n",
       "   'f1-score': 0.4521739130434783,\n",
       "   'support': 31},\n",
       "  'accuracy': 0.37,\n",
       "  'macro avg': {'precision': 0.49851190476190477,\n",
       "   'recall': 0.49906498363721363,\n",
       "   'f1-score': 0.3554987212276215,\n",
       "   'support': 100},\n",
       "  'weighted avg': {'precision': 0.570327380952381,\n",
       "   'recall': 0.37,\n",
       "   'f1-score': 0.3187621483375959,\n",
       "   'support': 100}},\n",
       " 'Health': {'0': {'precision': 1.0,\n",
       "   'recall': 0.48936170212765956,\n",
       "   'f1-score': 0.6571428571428571,\n",
       "   'support': 94},\n",
       "  '1': {'precision': 0.058823529411764705,\n",
       "   'recall': 1.0,\n",
       "   'f1-score': 0.1111111111111111,\n",
       "   'support': 3},\n",
       "  'accuracy': 0.5051546391752577,\n",
       "  'macro avg': {'precision': 0.5294117647058824,\n",
       "   'recall': 0.7446808510638298,\n",
       "   'f1-score': 0.3841269841269841,\n",
       "   'support': 97},\n",
       "  'weighted avg': {'precision': 0.9708914493632504,\n",
       "   'recall': 0.5051546391752577,\n",
       "   'f1-score': 0.6402552773686795,\n",
       "   'support': 97}},\n",
       " 'Immigration/Integration': {'0': {'precision': 1.0,\n",
       "   'recall': 0.2222222222222222,\n",
       "   'f1-score': 0.3636363636363636,\n",
       "   'support': 90},\n",
       "  '1': {'precision': 0.10256410256410256,\n",
       "   'recall': 1.0,\n",
       "   'f1-score': 0.18604651162790695,\n",
       "   'support': 8},\n",
       "  'accuracy': 0.2857142857142857,\n",
       "  'macro avg': {'precision': 0.5512820512820513,\n",
       "   'recall': 0.6111111111111112,\n",
       "   'f1-score': 0.27484143763213525,\n",
       "   'support': 98},\n",
       "  'weighted avg': {'precision': 0.9267399267399267,\n",
       "   'recall': 0.2857142857142857,\n",
       "   'f1-score': 0.34913923286016313,\n",
       "   'support': 98}},\n",
       " 'Justice/Crime': {'0': {'precision': 0.9285714285714286,\n",
       "   'recall': 0.1566265060240964,\n",
       "   'f1-score': 0.2680412371134021,\n",
       "   'support': 83},\n",
       "  '1': {'precision': 0.16666666666666666,\n",
       "   'recall': 0.9333333333333333,\n",
       "   'f1-score': 0.2828282828282828,\n",
       "   'support': 15},\n",
       "  'accuracy': 0.2755102040816326,\n",
       "  'macro avg': {'precision': 0.5476190476190477,\n",
       "   'recall': 0.5449799196787148,\n",
       "   'f1-score': 0.27543475997084244,\n",
       "   'support': 98},\n",
       "  'weighted avg': {'precision': 0.8119533527696793,\n",
       "   'recall': 0.2755102040816326,\n",
       "   'f1-score': 0.2703045604371083,\n",
       "   'support': 98}},\n",
       " 'Labor/Employment': {'0': {'precision': 1.0,\n",
       "   'recall': 0.21212121212121213,\n",
       "   'f1-score': 0.35,\n",
       "   'support': 99},\n",
       "  '1': {'precision': 0.0, 'recall': 0.0, 'f1-score': 0.0, 'support': 0},\n",
       "  'accuracy': 0.21212121212121213,\n",
       "  'macro avg': {'precision': 0.5,\n",
       "   'recall': 0.10606060606060606,\n",
       "   'f1-score': 0.175,\n",
       "   'support': 99},\n",
       "  'weighted avg': {'precision': 1.0,\n",
       "   'recall': 0.21212121212121213,\n",
       "   'f1-score': 0.35,\n",
       "   'support': 99}},\n",
       " 'Macroeconomics/Economic': {'0': {'precision': 1.0,\n",
       "   'recall': 0.26881720430107525,\n",
       "   'f1-score': 0.423728813559322,\n",
       "   'support': 93},\n",
       "  '1': {'precision': 0.08108108108108109,\n",
       "   'recall': 1.0,\n",
       "   'f1-score': 0.15,\n",
       "   'support': 6},\n",
       "  'accuracy': 0.31313131313131315,\n",
       "  'macro avg': {'precision': 0.5405405405405406,\n",
       "   'recall': 0.6344086021505376,\n",
       "   'f1-score': 0.286864406779661,\n",
       "   'support': 99},\n",
       "  'weighted avg': {'precision': 0.9443079443079443,\n",
       "   'recall': 0.31313131313131315,\n",
       "   'f1-score': 0.40713918849512065,\n",
       "   'support': 99}},\n",
       " 'Regulation': {'0': {'precision': 1.0,\n",
       "   'recall': 0.16304347826086957,\n",
       "   'f1-score': 0.2803738317757009,\n",
       "   'support': 92},\n",
       "  '1': {'precision': 0.07228915662650602,\n",
       "   'recall': 1.0,\n",
       "   'f1-score': 0.1348314606741573,\n",
       "   'support': 6},\n",
       "  'accuracy': 0.21428571428571427,\n",
       "  'macro avg': {'precision': 0.536144578313253,\n",
       "   'recall': 0.5815217391304348,\n",
       "   'f1-score': 0.2076026462249291,\n",
       "   'support': 98},\n",
       "  'weighted avg': {'precision': 0.9432013769363167,\n",
       "   'recall': 0.21428571428571427,\n",
       "   'f1-score': 0.27146307436132067,\n",
       "   'support': 98}},\n",
       " 'Media/Journalism': {'0': {'precision': 1.0,\n",
       "   'recall': 0.13829787234042554,\n",
       "   'f1-score': 0.24299065420560748,\n",
       "   'support': 94},\n",
       "  '1': {'precision': 0.05813953488372093,\n",
       "   'recall': 1.0,\n",
       "   'f1-score': 0.10989010989010987,\n",
       "   'support': 5},\n",
       "  'accuracy': 0.18181818181818182,\n",
       "  'macro avg': {'precision': 0.5290697674418605,\n",
       "   'recall': 0.5691489361702128,\n",
       "   'f1-score': 0.17644038204785867,\n",
       "   'support': 99},\n",
       "  'weighted avg': {'precision': 0.952431289640592,\n",
       "   'recall': 0.18181818181818182,\n",
       "   'f1-score': 0.23626840449270356,\n",
       "   'support': 99}},\n",
       " 'Religion': {'0': {'precision': 1.0,\n",
       "   'recall': 0.15463917525773196,\n",
       "   'f1-score': 0.2678571428571429,\n",
       "   'support': 97},\n",
       "  '1': {'precision': 0.012048192771084338,\n",
       "   'recall': 1.0,\n",
       "   'f1-score': 0.02380952380952381,\n",
       "   'support': 1},\n",
       "  'accuracy': 0.16326530612244897,\n",
       "  'macro avg': {'precision': 0.5060240963855421,\n",
       "   'recall': 0.5773195876288659,\n",
       "   'f1-score': 0.14583333333333337,\n",
       "   'support': 98},\n",
       "  'weighted avg': {'precision': 0.9899188591099091,\n",
       "   'recall': 0.16326530612244897,\n",
       "   'f1-score': 0.2653668610301264,\n",
       "   'support': 98}},\n",
       " 'Science/Technology': {'0': {'precision': 0.9795918367346939,\n",
       "   'recall': 0.5052631578947369,\n",
       "   'f1-score': 0.6666666666666666,\n",
       "   'support': 95},\n",
       "  '1': {'precision': 0.020833333333333332,\n",
       "   'recall': 0.5,\n",
       "   'f1-score': 0.039999999999999994,\n",
       "   'support': 2},\n",
       "  'accuracy': 0.5051546391752577,\n",
       "  'macro avg': {'precision': 0.5002125850340136,\n",
       "   'recall': 0.5026315789473684,\n",
       "   'f1-score': 0.35333333333333333,\n",
       "   'support': 97},\n",
       "  'weighted avg': {'precision': 0.9598236201697175,\n",
       "   'recall': 0.5051546391752577,\n",
       "   'f1-score': 0.6537457044673539,\n",
       "   'support': 97}},\n",
       " 'Others': {'0': {'precision': 0.7142857142857143,\n",
       "   'recall': 0.9859154929577465,\n",
       "   'f1-score': 0.8284023668639053,\n",
       "   'support': 71},\n",
       "  '1': {'precision': 0.5,\n",
       "   'recall': 0.034482758620689655,\n",
       "   'f1-score': 0.06451612903225806,\n",
       "   'support': 29},\n",
       "  'accuracy': 0.71,\n",
       "  'macro avg': {'precision': 0.6071428571428572,\n",
       "   'recall': 0.5101991257892181,\n",
       "   'f1-score': 0.44645924794808167,\n",
       "   'support': 100},\n",
       "  'weighted avg': {'precision': 0.6521428571428572,\n",
       "   'recall': 0.71,\n",
       "   'f1-score': 0.6068753578927276,\n",
       "   'support': 100}}}"
      ]
     },
     "execution_count": 43,
     "metadata": {},
     "output_type": "execute_result"
    }
   ],
   "source": [
    "classification_reports"
   ]
  },
  {
   "cell_type": "code",
   "execution_count": 50,
   "metadata": {},
   "outputs": [
    {
     "name": "stdout",
     "output_type": "stream",
     "text": [
      "                      label  f1_score_macro  precision_macro  recall_macro  \\\n",
      "0                War/Terror        0.505529         0.609319      0.662558   \n",
      "1         Conspiracy Theory        0.148551         0.545455      0.534884   \n",
      "2                 Education        0.277372         0.500000      0.191919   \n",
      "3         Election Campaign        0.157184         0.511905      0.577320   \n",
      "4               Environment        0.352616         0.518519      0.731959   \n",
      "5         Government/Public        0.355499         0.498512      0.499065   \n",
      "6                    Health        0.384127         0.529412      0.744681   \n",
      "7   Immigration/Integration        0.274841         0.551282      0.611111   \n",
      "8             Justice/Crime        0.275435         0.547619      0.544980   \n",
      "9          Labor/Employment        0.175000         0.500000      0.106061   \n",
      "10  Macroeconomics/Economic        0.286864         0.540541      0.634409   \n",
      "11               Regulation        0.207603         0.536145      0.581522   \n",
      "12         Media/Journalism        0.176440         0.529070      0.569149   \n",
      "13                 Religion        0.145833         0.506024      0.577320   \n",
      "14       Science/Technology        0.353333         0.500213      0.502632   \n",
      "15                   Others        0.446459         0.607143      0.510199   \n",
      "\n",
      "   support_macro  f1_score_weighted  precision_weighted  recall_weighted  \\\n",
      "0             98           0.558044            0.814498         0.520408   \n",
      "1             94           0.133518            0.922631         0.148936   \n",
      "2             99           0.554745            1.000000         0.383838   \n",
      "3             99           0.263386            0.980279         0.171717   \n",
      "4             99           0.622442            0.980546         0.474747   \n",
      "5            100           0.318762            0.570327         0.370000   \n",
      "6             97           0.640255            0.970891         0.505155   \n",
      "7             98           0.349139            0.926740         0.285714   \n",
      "8             98           0.270305            0.811953         0.275510   \n",
      "9             99           0.350000            1.000000         0.212121   \n",
      "10            99           0.407139            0.944308         0.313131   \n",
      "11            98           0.271463            0.943201         0.214286   \n",
      "12            99           0.236268            0.952431         0.181818   \n",
      "13            98           0.265367            0.989919         0.163265   \n",
      "14            97           0.653746            0.959824         0.505155   \n",
      "15           100           0.606875            0.652143         0.710000   \n",
      "\n",
      "   support_weighted  f1_score_class_0  precision_class_0  recall_class_0  \\\n",
      "0                98          0.591304           0.944444        0.430380   \n",
      "1                94          0.130435           1.000000        0.069767   \n",
      "2                99          0.554745           1.000000        0.383838   \n",
      "3                99          0.267857           1.000000        0.154639   \n",
      "4                99          0.633803           1.000000        0.463918   \n",
      "5               100          0.258824           0.687500        0.159420   \n",
      "6                97          0.657143           1.000000        0.489362   \n",
      "7                98          0.363636           1.000000        0.222222   \n",
      "8                98          0.268041           0.928571        0.156627   \n",
      "9                99          0.350000           1.000000        0.212121   \n",
      "10               99          0.423729           1.000000        0.268817   \n",
      "11               98          0.280374           1.000000        0.163043   \n",
      "12               99          0.242991           1.000000        0.138298   \n",
      "13               98          0.267857           1.000000        0.154639   \n",
      "14               97          0.666667           0.979592        0.505263   \n",
      "15              100          0.828402           0.714286        0.985915   \n",
      "\n",
      "   support_class_0  f1_score_class_1  precision_class_1  recall_class_1  \\\n",
      "0               79          0.419753           0.274194        0.894737   \n",
      "1               86          0.166667           0.090909        1.000000   \n",
      "2               99          0.000000           0.000000        0.000000   \n",
      "3               97          0.046512           0.023810        1.000000   \n",
      "4               97          0.071429           0.037037        1.000000   \n",
      "5               69          0.452174           0.309524        0.838710   \n",
      "6               94          0.111111           0.058824        1.000000   \n",
      "7               90          0.186047           0.102564        1.000000   \n",
      "8               83          0.282828           0.166667        0.933333   \n",
      "9               99          0.000000           0.000000        0.000000   \n",
      "10              93          0.150000           0.081081        1.000000   \n",
      "11              92          0.134831           0.072289        1.000000   \n",
      "12              94          0.109890           0.058140        1.000000   \n",
      "13              97          0.023810           0.012048        1.000000   \n",
      "14              95          0.040000           0.020833        0.500000   \n",
      "15              71          0.064516           0.500000        0.034483   \n",
      "\n",
      "   support_class_1  \n",
      "0               19  \n",
      "1                8  \n",
      "2                0  \n",
      "3                2  \n",
      "4                2  \n",
      "5               31  \n",
      "6                3  \n",
      "7                8  \n",
      "8               15  \n",
      "9                0  \n",
      "10               6  \n",
      "11               6  \n",
      "12               5  \n",
      "13               1  \n",
      "14               2  \n",
      "15              29  \n"
     ]
    },
    {
     "name": "stderr",
     "output_type": "stream",
     "text": [
      "/tmp/ipykernel_3340/2729338100.py:9: FutureWarning: The frame.append method is deprecated and will be removed from pandas in a future version. Use pandas.concat instead.\n",
      "  results_df = results_df.append({\n",
      "/tmp/ipykernel_3340/2729338100.py:9: FutureWarning: The frame.append method is deprecated and will be removed from pandas in a future version. Use pandas.concat instead.\n",
      "  results_df = results_df.append({\n",
      "/tmp/ipykernel_3340/2729338100.py:9: FutureWarning: The frame.append method is deprecated and will be removed from pandas in a future version. Use pandas.concat instead.\n",
      "  results_df = results_df.append({\n",
      "/tmp/ipykernel_3340/2729338100.py:9: FutureWarning: The frame.append method is deprecated and will be removed from pandas in a future version. Use pandas.concat instead.\n",
      "  results_df = results_df.append({\n",
      "/tmp/ipykernel_3340/2729338100.py:9: FutureWarning: The frame.append method is deprecated and will be removed from pandas in a future version. Use pandas.concat instead.\n",
      "  results_df = results_df.append({\n",
      "/tmp/ipykernel_3340/2729338100.py:9: FutureWarning: The frame.append method is deprecated and will be removed from pandas in a future version. Use pandas.concat instead.\n",
      "  results_df = results_df.append({\n",
      "/tmp/ipykernel_3340/2729338100.py:9: FutureWarning: The frame.append method is deprecated and will be removed from pandas in a future version. Use pandas.concat instead.\n",
      "  results_df = results_df.append({\n",
      "/tmp/ipykernel_3340/2729338100.py:9: FutureWarning: The frame.append method is deprecated and will be removed from pandas in a future version. Use pandas.concat instead.\n",
      "  results_df = results_df.append({\n",
      "/tmp/ipykernel_3340/2729338100.py:9: FutureWarning: The frame.append method is deprecated and will be removed from pandas in a future version. Use pandas.concat instead.\n",
      "  results_df = results_df.append({\n",
      "/tmp/ipykernel_3340/2729338100.py:9: FutureWarning: The frame.append method is deprecated and will be removed from pandas in a future version. Use pandas.concat instead.\n",
      "  results_df = results_df.append({\n",
      "/tmp/ipykernel_3340/2729338100.py:9: FutureWarning: The frame.append method is deprecated and will be removed from pandas in a future version. Use pandas.concat instead.\n",
      "  results_df = results_df.append({\n",
      "/tmp/ipykernel_3340/2729338100.py:9: FutureWarning: The frame.append method is deprecated and will be removed from pandas in a future version. Use pandas.concat instead.\n",
      "  results_df = results_df.append({\n",
      "/tmp/ipykernel_3340/2729338100.py:9: FutureWarning: The frame.append method is deprecated and will be removed from pandas in a future version. Use pandas.concat instead.\n",
      "  results_df = results_df.append({\n",
      "/tmp/ipykernel_3340/2729338100.py:9: FutureWarning: The frame.append method is deprecated and will be removed from pandas in a future version. Use pandas.concat instead.\n",
      "  results_df = results_df.append({\n",
      "/tmp/ipykernel_3340/2729338100.py:9: FutureWarning: The frame.append method is deprecated and will be removed from pandas in a future version. Use pandas.concat instead.\n",
      "  results_df = results_df.append({\n",
      "/tmp/ipykernel_3340/2729338100.py:9: FutureWarning: The frame.append method is deprecated and will be removed from pandas in a future version. Use pandas.concat instead.\n",
      "  results_df = results_df.append({\n"
     ]
    }
   ],
   "source": [
    "# Create a DataFrame to store the results\n",
    "results_df = pd.DataFrame(columns=['label', 'f1_score_macro', 'precision_macro', 'recall_macro', 'support_macro',\n",
    "                                   'f1_score_weighted', 'precision_weighted', 'recall_weighted', 'support_weighted',\n",
    "                                   'f1_score_class_0', 'precision_class_0', 'recall_class_0', 'support_class_0',\n",
    "                                   'f1_score_class_1', 'precision_class_1', 'recall_class_1', 'support_class_1'])\n",
    "\n",
    "# Add results to the DataFrame\n",
    "for label, cr in classification_reports.items():\n",
    "    results_df = results_df.append({\n",
    "        'label': label,\n",
    "        'f1_score_macro': cr['macro avg']['f1-score'],\n",
    "        'precision_macro': cr['macro avg']['precision'],\n",
    "        'recall_macro': cr['macro avg']['recall'],\n",
    "        'support_macro': cr['macro avg']['support'],\n",
    "        'f1_score_weighted': cr['weighted avg']['f1-score'],\n",
    "        'precision_weighted': cr['weighted avg']['precision'],\n",
    "        'recall_weighted': cr['weighted avg']['recall'],\n",
    "        'support_weighted': cr['weighted avg']['support'],\n",
    "        'f1_score_class_0': cr['0']['f1-score'],\n",
    "        'precision_class_0': cr['0']['precision'],\n",
    "        'recall_class_0': cr['0']['recall'],\n",
    "        'support_class_0': cr['0']['support'],\n",
    "        'f1_score_class_1': cr['1']['f1-score'],\n",
    "        'precision_class_1': cr['1']['precision'],\n",
    "        'recall_class_1': cr['1']['recall'],\n",
    "        'support_class_1': cr['1']['support']\n",
    "    }, ignore_index=True)\n",
    "\n",
    "# Display the results\n",
    "print(results_df)"
   ]
  },
  {
   "cell_type": "code",
   "execution_count": 49,
   "metadata": {},
   "outputs": [
    {
     "data": {
      "image/png": "[encoded data removed]",
      "text/plain": [
       "<Figure size 2000x3000 with 18 Axes>"
      ]
     },
     "metadata": {},
     "output_type": "display_data"
    }
   ],
   "source": [
    "# Create a grid of subplots\n",
    "fig, axes = plt.subplots(6, 3, figsize=(20, 30))\n",
    "axes = axes.flatten()\n",
    "\n",
    "# Visualize confusion matrices and print metrics table\n",
    "for i, (label, cm) in enumerate(confusion_matrices.items()):\n",
    "    ax = axes[i]\n",
    "    \n",
    "    # Plot the confusion matrix\n",
    "    sns.heatmap(cm, annot=True, fmt='d', cmap='Blues', cbar=False, ax=ax)\n",
    "    ax.set_title(f'Confusion Matrix for {label}')\n",
    "    ax.set_xlabel('Predicted')\n",
    "    ax.set_ylabel('True')\n",
    "    ax.set_xticks([0.5, 1.5])\n",
    "    ax.set_xticklabels(['0', '1'])\n",
    "    ax.set_yticks([0.5, 1.5])\n",
    "    ax.set_yticklabels(['0', '1'], rotation=0)\n",
    "\n",
    "# Remove any unused subplots\n",
    "for i in range(len(confusion_matrices), 15):\n",
    "    fig.delaxes(axes[i])\n",
    "\n",
    "plt.tight_layout()\n",
    "plt.show()"
   ]
  },
  {
   "cell_type": "code",
   "execution_count": null,
   "metadata": {},
   "outputs": [],
   "source": [
    "import pandas as pd\n",
    "from sklearn.metrics import confusion_matrix\n",
    "\n",
    "# List of unique class labels\n",
    "class_labels = ['Class1', 'Class2', 'Class3']  # Replace with your actual class labels\n",
    "\n",
    "# Function to convert 'Classification: [0 or 1]' string to int value\n",
    "def extract_classification_value(classification_str):\n",
    "    if pd.isna(classification_str):\n",
    "        return None\n",
    "    return int(classification_str.split(': ')[1])\n",
    "\n",
    "# Iterate through class labels and extract binary predictions\n",
    "for label in class_labels:\n",
    "    pred_column_name = f\"{label}_pred\"\n",
    "    test_df[pred_column_name] = test_df[pred_column_name].apply(extract_classification_value)\n",
    "\n",
    "# Function to assign 'Others' label if none of the prediction columns have a 1\n",
    "def assign_others(row):\n",
    "    if not any(row[f\"{label}_pred\"] == 1 for label in class_labels):\n",
    "        return [\"Others\"]\n",
    "    return row['annotations']\n",
    "\n",
    "test_df['annotations'] = test_df.apply(assign_others, axis=1)\n",
    "\n",
    "# Calculate confusion matrices for each class\n",
    "confusion_matrices = {}\n",
    "for label in class_labels:\n",
    "    pred_column_name = f\"{label}_pred\"\n",
    "    \n",
    "    # Ignore rows with NaN values\n",
    "    valid_rows = test_df[pred_column_name].notna()\n",
    "    \n",
    "    y_true = test_df.loc[valid_rows, 'annotations'].apply(lambda x: int(label in x))\n",
    "    y_pred = test_df.loc[valid_rows, pred_column_name].astype(int)\n",
    "\n",
    "    cm = confusion_matrix(y_true, y_pred)\n",
    "    confusion_matrices[label] = cm\n",
    "\n",
    "# Print confusion matrices\n",
    "for label, cm in confusion_matrices.items():\n",
    "    print(f\"Confusion matrix for {label}:\")\n",
    "    print(cm)\n",
    "    print()"
   ]
  },
  {
   "cell_type": "code",
   "execution_count": 105,
   "metadata": {},
   "outputs": [
    {
     "name": "stdout",
     "output_type": "stream",
     "text": [
      "Accuracy: 0.55\n"
     ]
    }
   ],
   "source": [
    "def is_war_terror(annotations):\n",
    "    return int('War/Terror' in annotations)\n",
    "\n",
    "# Extract the binary classification from the \"api_results\" column\n",
    "test_df['api_results_binary'] = test_df['api_results'].str.extract('Classification: (\\d)')[0].replace(np.nan, -1).astype(int)\n",
    "\n",
    "# Convert the multilabel \"annotations\" column to binary based on the appearance of \"War/Terror\"\n",
    "test_df['annotations_binary'] = test_df['annotations'].apply(is_war_terror)\n",
    "\n",
    "# Filter out the rows with NaN values (now represented as -1)\n",
    "valid_rows = test_df['api_results_binary'] != -1\n",
    "\n",
    "# Calculate the accuracy using only valid rows\n",
    "accuracy = (test_df.loc[valid_rows, 'api_results_binary'] == test_df.loc[valid_rows, 'annotations_binary']).mean()\n",
    "print(f\"Accuracy: {accuracy:.2f}\")"
   ]
  },
  {
   "cell_type": "code",
   "execution_count": 106,
   "metadata": {},
   "outputs": [
    {
     "name": "stdout",
     "output_type": "stream",
     "text": [
      "Correctly classified rows:\n",
      "                                                   text  \\\n",
      "1662  RT @tfAcj0F9IYtVsSq: Representatives of The #R...   \n",
      "1242  RT @KampalaPost: 2018 Commonwealth Games: Ugan...   \n",
      "962   Or the government should lead the effort to en...   \n",
      "410   Democratic Republic of Congo President Felix T...   \n",
      "3128  The new culture war: how​ ​Hollywood took on​ ...   \n",
      "\n",
      "                                            annotations  api_results_binary  \n",
      "1662          ['Immigration/Integration', 'War/Terror']                   1  \n",
      "1242                                         ['Others']                   0  \n",
      "962   ['Government/Public', 'Macroeconomics/Economic...                   0  \n",
      "410                               ['Government/Public']                   0  \n",
      "3128                              ['Government/Public']                   0  \n"
     ]
    }
   ],
   "source": [
    "# Identify the correct and incorrect classifications\n",
    "test_df['correct_classification'] = test_df['api_results_binary'] == test_df['annotations_binary']\n",
    "\n",
    "# Get samples of correct and incorrect classifications\n",
    "correct_sample = test_df[test_df['correct_classification']].sample(5)\n",
    "incorrect_sample = test_df[~test_df['correct_classification']].sample(5)\n",
    "\n",
    "print(\"Correctly classified rows:\")\n",
    "print(correct_sample[['text', 'annotations', 'api_results_binary']])"
   ]
  },
  {
   "cell_type": "code",
   "execution_count": 107,
   "metadata": {},
   "outputs": [
    {
     "name": "stdout",
     "output_type": "stream",
     "text": [
      "\n",
      "Incorrectly classified rows:\n",
      "                                                   text  \\\n",
      "2210  RT DanaLovinLife1: #boycottSpecialists https:/...   \n",
      "680   RT @fcn_84: 176 Venezuelan public entities hav...   \n",
      "944   Scott Baio PHYSICALLY ATTACKED by the Wife of ...   \n",
      "192   This Friday, September 25, the project \" Volun...   \n",
      "867   RT @uganda_front: A dedicated Uganda Police Fo...   \n",
      "\n",
      "                                            annotations  api_results_binary  \n",
      "2210                                         ['Others']                   1  \n",
      "680   ['Government/Public', 'Macroeconomics/Economic...                   1  \n",
      "944              ['Government/Public', 'Justice/Crime']                   1  \n",
      "192                               ['Government/Public']                   1  \n",
      "867              ['Government/Public', 'Justice/Crime']                   1  \n"
     ]
    }
   ],
   "source": [
    "print(\"\\nIncorrectly classified rows:\")\n",
    "print(incorrect_sample[['text', 'annotations', 'api_results_binary']])"
   ]
  }
 ],
 "metadata": {
  "kernelspec": {
   "display_name": "vicuna-matata",
   "language": "python",
   "name": "python3"
  },
  "language_info": {
   "codemirror_mode": {
    "name": "ipython",
    "version": 3
   },
   "file_extension": ".py",
   "mimetype": "text/x-python",
   "name": "python",
   "nbconvert_exporter": "python",
   "pygments_lexer": "ipython3",
   "version": "3.11.3"
  },
  "orig_nbformat": 4
 },
 "nbformat": 4,
 "nbformat_minor": 2
}
