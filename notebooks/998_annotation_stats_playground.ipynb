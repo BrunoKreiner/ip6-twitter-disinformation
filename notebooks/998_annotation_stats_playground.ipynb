{
 "cells": [
  {
   "cell_type": "code",
   "execution_count": 5,
   "metadata": {},
   "outputs": [
    {
     "ename": "TypeError",
     "evalue": "'NoneType' object is not callable",
     "output_type": "error",
     "traceback": [
      "\u001b[0;31m---------------------------------------------------------------------------\u001b[0m",
      "\u001b[0;31mTypeError\u001b[0m                                 Traceback (most recent call last)",
      "Cell \u001b[0;32mIn[1], line 22\u001b[0m\n\u001b[1;32m     20\u001b[0m without_context_classification_only_df \u001b[39m=\u001b[39m pd\u001b[39m.\u001b[39mread_csv(\u001b[39m\"\u001b[39m\u001b[39m../data/vicuna_4bit/generic_prompt_without_context_only_classification/generic_test_0.csv\u001b[39m\u001b[39m\"\u001b[39m)\n\u001b[1;32m     21\u001b[0m extraction_function \u001b[39m=\u001b[39m llm_utils\u001b[39m.\u001b[39mget_extraction_function(\u001b[39m\"\u001b[39m\u001b[39mextract_first_character\u001b[39m\u001b[39m\"\u001b[39m)\n\u001b[0;32m---> 22\u001b[0m prediction_per_class, confusion_matrices, classification_reports \u001b[39m=\u001b[39m llm_utils\u001b[39m.\u001b[39mcalculate_binary_metrics(without_context_classification_only_df, classes, extraction_function)\n\u001b[1;32m     23\u001b[0m without_context_classification_only \u001b[39m=\u001b[39m {\u001b[39m\"\u001b[39m\u001b[39mconfusion_matrices\u001b[39m\u001b[39m\"\u001b[39m: confusion_matrices, \u001b[39m\"\u001b[39m\u001b[39mclassification_reports\u001b[39m\u001b[39m\"\u001b[39m: classification_reports}\n\u001b[1;32m     25\u001b[0m \u001b[39m# without context and elaboration first\u001b[39;00m\n\u001b[1;32m     26\u001b[0m \u001b[39m## Example:\u001b[39;00m\n\u001b[1;32m     27\u001b[0m     \u001b[39m### Human: Elaborate on whether you think the Tweet is about {label} or something else.\\nTweet: {tweet_text}\\n### Assistant:\\nElaboration: \u001b[39;00m\n\u001b[1;32m     28\u001b[0m     \u001b[39m#Followup :\\n Assign class 1 for {label} or 0 for not. \\n###Assistant:\\nClass:  \u001b[39;00m\n",
      "File \u001b[0;32m~/Documents/ip6-twitter-disinformation/notebooks/../src/llm_utils.py:125\u001b[0m, in \u001b[0;36mcalculate_binary_metrics\u001b[0;34m(df, classes, extraction_function)\u001b[0m\n\u001b[1;32m    123\u001b[0m     pred_column_name \u001b[39m=\u001b[39m \u001b[39mf\u001b[39m\u001b[39m\"\u001b[39m\u001b[39m{\u001b[39;00mlabel\u001b[39m}\u001b[39;00m\u001b[39m_pred\u001b[39m\u001b[39m\"\u001b[39m\n\u001b[1;32m    124\u001b[0m     pred_column_df \u001b[39m=\u001b[39m df[df[pred_column_name]\u001b[39m.\u001b[39mnotna()]\u001b[39m.\u001b[39mcopy()\n\u001b[0;32m--> 125\u001b[0m     pred_column_df[pred_column_name] \u001b[39m=\u001b[39m df[pred_column_name]\u001b[39m.\u001b[39mapply(extraction_function)\n\u001b[1;32m    126\u001b[0m     prediction_per_class\u001b[39m.\u001b[39mappend(pred_column_df)\n\u001b[1;32m    128\u001b[0m confusion_matrices \u001b[39m=\u001b[39m {}\n",
      "File \u001b[0;32m~/anaconda3/envs/my_env/lib/python3.11/site-packages/pandas/core/series.py:4771\u001b[0m, in \u001b[0;36mSeries.apply\u001b[0;34m(self, func, convert_dtype, args, **kwargs)\u001b[0m\n\u001b[1;32m   4661\u001b[0m \u001b[39mdef\u001b[39;00m \u001b[39mapply\u001b[39m(\n\u001b[1;32m   4662\u001b[0m     \u001b[39mself\u001b[39m,\n\u001b[1;32m   4663\u001b[0m     func: AggFuncType,\n\u001b[0;32m   (...)\u001b[0m\n\u001b[1;32m   4666\u001b[0m     \u001b[39m*\u001b[39m\u001b[39m*\u001b[39mkwargs,\n\u001b[1;32m   4667\u001b[0m ) \u001b[39m-\u001b[39m\u001b[39m>\u001b[39m DataFrame \u001b[39m|\u001b[39m Series:\n\u001b[1;32m   4668\u001b[0m \u001b[39m    \u001b[39m\u001b[39m\"\"\"\u001b[39;00m\n\u001b[1;32m   4669\u001b[0m \u001b[39m    Invoke function on values of Series.\u001b[39;00m\n\u001b[1;32m   4670\u001b[0m \n\u001b[0;32m   (...)\u001b[0m\n\u001b[1;32m   4769\u001b[0m \u001b[39m    dtype: float64\u001b[39;00m\n\u001b[1;32m   4770\u001b[0m \u001b[39m    \"\"\"\u001b[39;00m\n\u001b[0;32m-> 4771\u001b[0m     \u001b[39mreturn\u001b[39;00m SeriesApply(\u001b[39mself\u001b[39m, func, convert_dtype, args, kwargs)\u001b[39m.\u001b[39mapply()\n",
      "File \u001b[0;32m~/anaconda3/envs/my_env/lib/python3.11/site-packages/pandas/core/apply.py:1123\u001b[0m, in \u001b[0;36mSeriesApply.apply\u001b[0;34m(self)\u001b[0m\n\u001b[1;32m   1120\u001b[0m     \u001b[39mreturn\u001b[39;00m \u001b[39mself\u001b[39m\u001b[39m.\u001b[39mapply_str()\n\u001b[1;32m   1122\u001b[0m \u001b[39m# self.f is Callable\u001b[39;00m\n\u001b[0;32m-> 1123\u001b[0m \u001b[39mreturn\u001b[39;00m \u001b[39mself\u001b[39m\u001b[39m.\u001b[39mapply_standard()\n",
      "File \u001b[0;32m~/anaconda3/envs/my_env/lib/python3.11/site-packages/pandas/core/apply.py:1174\u001b[0m, in \u001b[0;36mSeriesApply.apply_standard\u001b[0;34m(self)\u001b[0m\n\u001b[1;32m   1172\u001b[0m     \u001b[39melse\u001b[39;00m:\n\u001b[1;32m   1173\u001b[0m         values \u001b[39m=\u001b[39m obj\u001b[39m.\u001b[39mastype(\u001b[39mobject\u001b[39m)\u001b[39m.\u001b[39m_values\n\u001b[0;32m-> 1174\u001b[0m         mapped \u001b[39m=\u001b[39m lib\u001b[39m.\u001b[39mmap_infer(\n\u001b[1;32m   1175\u001b[0m             values,\n\u001b[1;32m   1176\u001b[0m             f,\n\u001b[1;32m   1177\u001b[0m             convert\u001b[39m=\u001b[39m\u001b[39mself\u001b[39m\u001b[39m.\u001b[39mconvert_dtype,\n\u001b[1;32m   1178\u001b[0m         )\n\u001b[1;32m   1180\u001b[0m \u001b[39mif\u001b[39;00m \u001b[39mlen\u001b[39m(mapped) \u001b[39mand\u001b[39;00m \u001b[39misinstance\u001b[39m(mapped[\u001b[39m0\u001b[39m], ABCSeries):\n\u001b[1;32m   1181\u001b[0m     \u001b[39m# GH#43986 Need to do list(mapped) in order to get treated as nested\u001b[39;00m\n\u001b[1;32m   1182\u001b[0m     \u001b[39m#  See also GH#25959 regarding EA support\u001b[39;00m\n\u001b[1;32m   1183\u001b[0m     \u001b[39mreturn\u001b[39;00m obj\u001b[39m.\u001b[39m_constructor_expanddim(\u001b[39mlist\u001b[39m(mapped), index\u001b[39m=\u001b[39mobj\u001b[39m.\u001b[39mindex)\n",
      "File \u001b[0;32m~/anaconda3/envs/my_env/lib/python3.11/site-packages/pandas/_libs/lib.pyx:2924\u001b[0m, in \u001b[0;36mpandas._libs.lib.map_infer\u001b[0;34m()\u001b[0m\n",
      "\u001b[0;31mTypeError\u001b[0m: 'NoneType' object is not callable"
     ]
    }
   ],
   "source": [
    "import sys\n",
    "import os\n",
    "sys.path.append(\"../src\")\n",
    "import llm_utils\n",
    "import warnings\n",
    "warnings.simplefilter(action='ignore', category=FutureWarning)\n",
    "import pandas as pd\n",
    "import seaborn as sns\n",
    "import matplotlib.pyplot as plt\n",
    "from sklearn.metrics import confusion_matrix, classification_report\n",
    "\n",
    "classes = [\"War/Terror\", \"Conspiracy Theory\", \"Education\", \"Election Campaign\", \"Environment\", \n",
    "              \"Government/Public\", \"Health\", \"Immigration/Integration\", \n",
    "              \"Justice/Crime\", \"Labor/Employment\", \n",
    "              \"Macroeconomics/Economic Regulation\", \"Media/Journalism\", \"Religion\", \"Science/Technology\"]\n",
    "\n",
    "# Without context and classification only\n",
    "## Example:\n",
    "    ### Human: Classify the Tweet based on if it's about {label}. Use 1 or 0 as class.\\n\\nTweet: {tweet_text}\\n### Assistant:\\nClass = \n",
    "without_context_classification_only_df = pd.read_csv(\"../data/vicuna_4bit/generic_prompt_without_context_only_classification/generic_test_0.csv\")\n",
    "extraction_function = llm_utils.get_extraction_function(\"extract_first_character\")\n",
    "prediction_per_class, confusion_matrices, classification_reports = llm_utils.calculate_binary_metrics(without_context_classification_only_df, classes, extraction_function)\n",
    "without_context_classification_only = {\"confusion_matrices\": confusion_matrices, \"classification_reports\": classification_reports}\n",
    "\n",
    "# without context and elaboration first\n",
    "## Example:\n",
    "    ### Human: Elaborate on whether you think the Tweet is about {label} or something else.\\nTweet: {tweet_text}\\n### Assistant:\\nElaboration: \n",
    "    #Followup :\\n Assign class 1 for {label} or 0 for not. \\n###Assistant:\\nClass:  \n",
    "without_context_elaboration_first_df = pd.read_csv(\"../data/vicuna_4bit/generic_prompt_without_context_elaboration_first/generic_test_0.csv\")\n",
    "extraction_function = llm_utils.get_extraction_function(\"extract_last_float\")\n",
    "prediction_per_class, confusion_matrices, classification_reports = llm_utils.calculate_binary_metrics(without_context_elaboration_first_df, classes, extraction_function)\n",
    "without_context_elaboration_first = {\"confusion_matrices\": confusion_matrices, \"classification_reports\": classification_reports}\n",
    "\n",
    "#with rules as context and classification only\n",
    "## Example:\n",
    "    ### Human: Based on rules, classify the Tweet based on if it's about {label}. Use 1 or 0 as class.\\n\\nRules: {rules}\\nTweet: {tweet_text}\\n### Assistant:\\nClass:\n",
    "with_rules_classification_only_df = pd.read_csv(\"../data/vicuna_4bit/generic_prompt_with_rules_only_classification/generic_test_0.csv\")\n",
    "extraction_function = llm_utils.get_extraction_function(\"extract_second_character\")\n",
    "prediction_per_class, confusion_matrices, classification_reports = llm_utils.calculate_binary_metrics(with_rules_classification_only_df, classes, extraction_function)\n",
    "with_rules_classification_only = {\"confusion_matrices\": confusion_matrices, \"classification_reports\": classification_reports}\n",
    "\n",
    "# with rules as context and elaboration first\n",
    "## Example:\n",
    "    ### Human: Based on rules, elaborate whether you think the Tweet is about {label}.\\nRules: {rules}\\nTweet: {tweet_text}\\n### Assistant:\\nElaboration: \n",
    "    #Followup :\\n Assign class 1 for {label} or 0 for not. \\n###Assistant:\\nClass: \n",
    "with_rules_elaboration_first_df = pd.read_csv(\"../data/vicuna_4bit/generic_prompt_with_rules_elaboration_first/generic_test_0.csv\")\n",
    "extraction_function = llm_utils.get_extraction_function(\"extract_first_character\")\n",
    "prediction_per_class, confusion_matrices, classification_reports = llm_utils.calculate_binary_metrics(with_rules_elaboration_first_df, classes, extraction_function)\n",
    "with_rules_elaboration_first = {\"confusion_matrices\": confusion_matrices, \"classification_reports\": classification_reports}"
   ]
  },
  {
   "cell_type": "code",
   "execution_count": 2,
   "metadata": {},
   "outputs": [],
   "source": [
    "import sys\n",
    "import os\n",
    "sys.path.append(\"../src\")\n",
    "import llm_utils\n",
    "import warnings\n",
    "warnings.simplefilter(action='ignore', category=FutureWarning)\n",
    "import pandas as pd\n",
    "import seaborn as sns\n",
    "import matplotlib.pyplot as plt\n",
    "from sklearn.metrics import confusion_matrix, classification_report\n",
    "import ast\n",
    "import numpy as np\n",
    "\n",
    "    ### Human: Classify the Tweet based on if it's about {label}. Use 1 or 0 as class.\\n\\nTweet: {tweet_text}\\n### Assistant:\\nClass = \n",
    "without_context_classification_only_df = pd.read_csv(\"../data/vicuna_4bit/lora/vicuna_binary_war_v01/test_generic_test_0.csv\")\n",
    "#extraction_function = llm_utils.get_extraction_function(\"extract_first_character\")\n",
    "#prediction_per_class, confusion_matrices, classification_reports = llm_utils.calculate_binary_metrics(without_context_classification_only_df, classes, extraction_function)\n",
    "#without_context_classification_only = {\"confusion_matrices\": confusion_matrices, \"classification_reports\": classification_reports}"
   ]
  },
  {
   "cell_type": "code",
   "execution_count": 7,
   "metadata": {},
   "outputs": [
    {
     "name": "stdout",
     "output_type": "stream",
     "text": [
      "Below is an instruction that describes a task, paired with an input that provides further context. Write a response that appropriately completes the request.\n",
      "\n",
      "### Instruction:\n",
      "Classify the input based on if it's about War/Terror. Use 1 (True) or 0 (False) as output.\n",
      "\n",
      "### Input:\n",
      "The Automobile Association said it is expecting the petrol to drop by 86 cents a litre , diesel by 68 cents , and illuminating paraffin by 58 cents next month . [url]\n",
      "\n",
      "### Response:\n",
      "\n"
     ]
    }
   ],
   "source": [
    "print(without_context_classification_only_df.iloc[0].prompt)\n",
    "print(without_context_classification_only_df.iloc[0].testvicuna_binary_war_v01)"
   ]
  },
  {
   "cell_type": "code",
   "execution_count": 11,
   "metadata": {},
   "outputs": [
    {
     "name": "stdout",
     "output_type": "stream",
     "text": [
      "Below is an instruction that describes a task, paired with an input that provides further context. Write a response that appropriately completes the request.\n",
      "\n",
      "### Instruction:\n",
      "Classify the input based on if it's about War/Terror. Use 1 (True) or 0 (False) as output.\n",
      "\n",
      "### Input:\n",
      "A severe flooding , triggered by heavy rains and river spill , left more than 6 , 000 people living in Bangui , the capital of the Central African Republic , without homes . [url]\n",
      "\n",
      "### Response:\n",
      "\n",
      "### Assistant: ​\n"
     ]
    }
   ],
   "source": [
    "print(without_context_classification_only_df.iloc[1].prompt)\n",
    "print(without_context_classification_only_df.iloc[1].testvicuna_binary_war_v01)"
   ]
  },
  {
   "cell_type": "code",
   "execution_count": 2,
   "metadata": {},
   "outputs": [
    {
     "name": "stdout",
     "output_type": "stream",
     "text": [
      "                                    precision    recall  f1-score  support\n",
      "War/Terror                           0.500990  0.992157  0.665789    255.0\n",
      "Conspiracy Theory                    0.368421  0.777778  0.500000     45.0\n",
      "Education                            0.322581  0.769231  0.454545     13.0\n",
      "Election Campaign                    0.766667  0.696970  0.730159     33.0\n",
      "Environment                          0.458333  0.785714  0.578947     14.0\n",
      "Government/Public                    0.572082  0.859107  0.686813    291.0\n",
      "Health                               0.345455  0.826087  0.487179     46.0\n",
      "Immigration/Integration              0.315217  0.805556  0.453125     36.0\n",
      "Justice/Crime                        0.413681  0.927007  0.572072    137.0\n",
      "Labor/Employment                     0.243590  0.678571  0.358491     28.0\n",
      "Macroeconomics/Economic Regulation   0.212996  0.951613  0.348083     62.0\n",
      "Media/Journalism                     0.102564  0.916667  0.184486     48.0\n",
      "Religion                             0.043651  1.000000  0.083650     11.0\n",
      "Science/Technology                   0.038793  0.818182  0.074074     11.0\n",
      "Others                               0.525210  0.922509  0.669344    271.0\n",
      "micro avg                            0.346074  0.897771  0.499572   1301.0\n",
      "macro avg                            0.348682  0.848477  0.456451   1301.0\n",
      "weighted avg                         0.460276  0.897771  0.592580   1301.0\n",
      "samples avg                          0.446282  0.915717  0.561767   1301.0\n"
     ]
    },
    {
     "name": "stderr",
     "output_type": "stream",
     "text": [
      "/media/bruno/0d2f61d2-2b9c-4043-9a46-8e4dfe74fc95/bruno/Documents/ip6-twitter-disinformation/.conda/lib/python3.11/site-packages/sklearn/preprocessing/_label.py:895: UserWarning: unknown class(es) ['China', 'Civilian Casualties', 'Diplomacy', 'Entertainment', 'Event', 'Expression', 'Festival', 'Foreign Relations', 'Generosity', 'Genocide', 'Israel/Palestine', 'Judaism', 'Kurdish Forces', 'Military', 'Miscellaneous', 'Music', 'Nightlife', 'Optical Disk', 'Pandemics', 'Party', 'Party and Celebration', 'Partying', 'Performance', 'Political Platform', 'Politics', 'President', 'Productivity', 'Propaganda', 'Referendum...', 'Syria', 'Television', 'U.S.', 'US Domestic Policy', 'US International Relations', 'USA', 'United States', 'Voting', 'Wages/Labors', 'War', 'Welfare/Development', 'Welfare/Social Macroregulation', 'Wildlife', 'World Order', 'Youth'] will be ignored\n",
      "  warnings.warn(\n"
     ]
    }
   ],
   "source": [
    "import sys\n",
    "import os\n",
    "sys.path.append(\"../src\")\n",
    "import llm_utils\n",
    "import warnings\n",
    "warnings.simplefilter(action='ignore', category=FutureWarning)\n",
    "import pandas as pd\n",
    "import seaborn as sns\n",
    "import matplotlib.pyplot as plt\n",
    "from sklearn.metrics import confusion_matrix, classification_report\n",
    "import ast\n",
    "import numpy as np\n",
    "from sklearn.preprocessing import MultiLabelBinarizer\n",
    "from sklearn.metrics import classification_report\n",
    "\n",
    "classes = [\"War/Terror\", \"Conspiracy Theory\", \"Education\", \"Election Campaign\", \"Environment\", \n",
    "              \"Government/Public\", \"Health\", \"Immigration/Integration\", \n",
    "              \"Justice/Crime\", \"Labor/Employment\", \n",
    "              \"Macroeconomics/Economic Regulation\", \"Media/Journalism\", \"Religion\", \"Science/Technology\"]\n",
    "\n",
    "oa_without_context_elaboration_first_v04_df = pd.read_csv(\"../data/openassistant_llama_30b_4bit/generic_prompt_without_context_elaboration_first_v04/generic_test_0.csv\")\n",
    "extraction_function = llm_utils.get_extraction_function(\"extract_using_class_token\", 1)\n",
    "oa_without_context_elaboration_first_v04_predictions_per_class, confusion_matrices, classification_reports = llm_utils.calculate_binary_metrics(oa_without_context_elaboration_first_v04_df, classes, extraction_function)\n",
    "oa_without_context_elaboration_first_v04 = {\"confusion_matrices\": confusion_matrices, \"classification_reports\": classification_reports}"
   ]
  }
 ],
 "metadata": {
  "kernelspec": {
   "display_name": "my_env",
   "language": "python",
   "name": "python3"
  },
  "language_info": {
   "codemirror_mode": {
    "name": "ipython",
    "version": 3
   },
   "file_extension": ".py",
   "mimetype": "text/x-python",
   "name": "python",
   "nbconvert_exporter": "python",
   "pygments_lexer": "ipython3",
   "version": "3.11.3"
  },
  "orig_nbformat": 4
 },
 "nbformat": 4,
 "nbformat_minor": 2
}
