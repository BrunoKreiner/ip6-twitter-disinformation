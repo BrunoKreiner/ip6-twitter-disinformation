{
 "cells": [
  {
   "cell_type": "code",
   "execution_count": 2,
   "metadata": {},
   "outputs": [
    {
     "name": "stdout",
     "output_type": "stream",
     "text": [
      "       loss  accuracy  micro_precision  micro_recall  micro_f1  \\\n",
      "0  0.132741       0.0         0.823881      0.787072  0.805056   \n",
      "1  0.184075       0.0         0.779221      0.703934  0.739666   \n",
      "2  0.109380       0.0         0.830753      0.772553  0.800597   \n",
      "3  0.153071       0.0         0.784553      0.665977  0.720418   \n",
      "4  0.113060       0.0         0.816616      0.772031  0.793698   \n",
      "5  0.157828       0.0         0.798791      0.638371  0.709628   \n",
      "6  0.113176       0.0         0.824473      0.772556  0.797671   \n",
      "7  0.152108       0.0         0.803723      0.655625  0.722159   \n",
      "8  0.111680       0.0         0.827362      0.729187  0.775178   \n",
      "9  0.154341       0.0         0.802740      0.606625  0.691038   \n",
      "\n",
      "   macro_precision  macro_recall  macro_f1  runtime  samples_per_second  \\\n",
      "0         0.721881      0.660063  0.683039   3.3753             237.019   \n",
      "1         0.707577      0.623297  0.637038   4.2092             237.577   \n",
      "2         0.810919      0.593703  0.664724   3.3497             238.830   \n",
      "3         0.737310      0.515994  0.568570   4.2346             236.149   \n",
      "4         0.765495      0.627509  0.678246   3.4473             232.064   \n",
      "5         0.687353      0.494920  0.537943   4.2873             233.249   \n",
      "6         0.753957      0.628647  0.674705   3.3684             237.499   \n",
      "7         0.735029      0.539456  0.588076   4.2363             236.053   \n",
      "8         0.703476      0.523191  0.581927   3.3613             238.004   \n",
      "9         0.588048      0.454460  0.480215   4.2586             234.820   \n",
      "\n",
      "   steps_per_second  num_epochs dataset  fold  \n",
      "0            59.255         9.5   valid     1  \n",
      "1            59.394         9.5    test     1  \n",
      "2            59.707         5.0   valid     2  \n",
      "3            59.037         5.0    test     2  \n",
      "4            58.016         5.5   valid     3  \n",
      "5            58.312         5.5    test     3  \n",
      "6            59.375         5.5   valid     4  \n",
      "7            59.013         5.5    test     4  \n",
      "8            59.501         3.5   valid     5  \n",
      "9            58.705         3.5    test     5  \n"
     ]
    }
   ],
   "source": [
    "import pandas as pd\n",
    "import json\n",
    "import os\n",
    "import numpy as np\n",
    "from transformers import AutoTokenizer, AutoModelForSequenceClassification\n",
    "from sklearn.metrics import confusion_matrix, classification_report, multilabel_confusion_matrix\n",
    "from sklearn.preprocessing import MultiLabelBinarizer\n",
    "import torch\n",
    "import torch.nn as nn\n",
    "from torch.utils.data import Dataset\n",
    "from transformers import (\n",
    "    AutoTokenizer,\n",
    "    DataCollatorWithPadding,\n",
    ")\n",
    "from typing import List, Dict\n",
    "import seaborn as sns\n",
    "import matplotlib.pyplot as plt\n",
    "\n",
    "device = torch.device(\"cuda\" if torch.cuda.is_available() else \"cpu\")\n",
    "\n",
    "# Define the dataset class\n",
    "\n",
    "# Load data from json file\n",
    "with open('../reports/VENEZUELA_201901_2_epochs_200_train_size_full.json') as f:\n",
    "    data = json.load(f)\n",
    "\n",
    "dfs = []\n",
    "for k, v in data.items():\n",
    "    valid_metrics = v['valid']\n",
    "    valid_metrics['dataset'] = 'valid'\n",
    "    valid_metrics['fold'] = int(k) + 1\n",
    "    dfs.append(pd.DataFrame([valid_metrics]))\n",
    "    \n",
    "    test_metrics = v['test']\n",
    "    test_metrics['dataset'] = 'test'\n",
    "    test_metrics['fold'] = int(k) + 1\n",
    "    dfs.append(pd.DataFrame([test_metrics]))\n",
    "\n",
    "# Concatenate all dataframes together\n",
    "df = pd.concat(dfs, ignore_index=True)\n",
    "\n",
    "# Rename columns\n",
    "df.columns = df.columns.str.replace('eval_', '')\n",
    "df = df.rename(columns={'epoch': 'num_epochs'})\n",
    "\n",
    "# Print the final dataframe\n",
    "print(df)"
   ]
  },
  {
   "cell_type": "code",
   "execution_count": 3,
   "metadata": {},
   "outputs": [
    {
     "name": "stderr",
     "output_type": "stream",
     "text": [
      "/tmp/ipykernel_11958/952663639.py:1: FutureWarning: The default value of numeric_only in DataFrame.mean is deprecated. In a future version, it will default to False. In addition, specifying 'numeric_only=None' is deprecated. Select only valid columns or specify the value of numeric_only to silence this warning.\n",
      "  df[df.dataset == \"test\"].mean()\n"
     ]
    },
    {
     "data": {
      "text/plain": [
       "loss                    0.160285\n",
       "accuracy                0.000000\n",
       "micro_precision         0.793805\n",
       "micro_recall            0.654106\n",
       "micro_f1                0.716582\n",
       "macro_precision         0.691064\n",
       "macro_recall            0.525625\n",
       "macro_f1                0.562369\n",
       "runtime                 4.245200\n",
       "samples_per_second    235.569600\n",
       "steps_per_second       58.892200\n",
       "num_epochs              5.800000\n",
       "fold                    3.000000\n",
       "dtype: float64"
      ]
     },
     "execution_count": 3,
     "metadata": {},
     "output_type": "execute_result"
    }
   ],
   "source": [
    "df[df.dataset == \"test\"].mean()"
   ]
  },
  {
   "cell_type": "code",
   "execution_count": 4,
   "metadata": {},
   "outputs": [],
   "source": [
    "def model_summary(model):\n",
    "    print(\"Model summary:\")\n",
    "    print(\"---------------------------\")\n",
    "    total_params = 0\n",
    "    for name, param in model.named_parameters():\n",
    "        param_count = param.numel()\n",
    "        total_params += param_count\n",
    "    print(f\"Total parameters: {total_params}\")\n",
    "    \n",
    "\"\"\"def print_report(y_true, y_pred):\n",
    "    cm = confusion_matrix(y_true, y_pred)\n",
    "    report = classification_report(y_true, y_pred, target_names=categories)\n",
    "    print(report)\n",
    "    sns.heatmap(cm, annot=True, xticklabels=categories, yticklabels=categories, fmt='g')\n",
    "    plt.xlabel('Predicted')\n",
    "    plt.ylabel('True')\n",
    "    plt.show()\"\"\"\n",
    "\n",
    "class TweetDataset(Dataset):\n",
    "    def __init__(self, x, y, mlb, tokenizer):\n",
    "        self.x = x\n",
    "        self.y = y\n",
    "        self.mlb = mlb\n",
    "        self.tokenizer = tokenizer\n",
    "        self.encoded_tweets = self.preprocess_text(self.x)\n",
    "    \n",
    "    def preprocess_text(self, text):\n",
    "        return self.tokenizer(text, return_attention_mask=True, return_tensors='pt', padding=True)\n",
    "        \n",
    "    def __len__(self):\n",
    "        return len(self.y)\n",
    "\n",
    "    def __getitem__(self, idx):\n",
    "        label = self.y[idx]\n",
    "        return {'input_ids': self.encoded_tweets['input_ids'][idx],\n",
    "                'attention_mask': self.encoded_tweets['attention_mask'][idx],\n",
    "                'label': torch.tensor(label, dtype=torch.float32)}\n",
    "        \n",
    "class MultiLabelDataCollator(DataCollatorWithPadding):\n",
    "    def __init__(self, tokenizer):\n",
    "        super().__init__(tokenizer)\n",
    "\n",
    "    def __call__(self, features: List[Dict[str, torch.Tensor]]):\n",
    "        batch = super().__call__(features)\n",
    "        batch[\"labels\"] = torch.stack([feature[\"label\"] for feature in features])\n",
    "        return batch\n",
    "    \n",
    "def get_classification_report(data_loader, model, target_names, label_names):\n",
    "    labels = []\n",
    "    predictions = []\n",
    "    for batch in data_loader:\n",
    "        batch_inputs = {'input_ids': batch['input_ids'].to(device),\n",
    "                        'attention_mask': batch['attention_mask'].to(device)}\n",
    "        with torch.no_grad():\n",
    "            logits = model(**batch_inputs).logits\n",
    "        sigmoid = torch.nn.Sigmoid()\n",
    "        probs = sigmoid(torch.Tensor(logits))\n",
    "        batch_predictions = (probs >= 0.5).detach().cpu().numpy().astype(int)\n",
    "        predictions.append(batch_predictions)\n",
    "        labels.append(batch['labels'].detach().cpu().numpy().astype(int))\n",
    "\n",
    "    predictions = np.concatenate(predictions, axis=0)\n",
    "    labels = np.concatenate(labels, axis = 0)\n",
    "\n",
    "    #cm = multilabel_confusion_matrix(labels, predictions)\n",
    "    dict_report = classification_report(labels, predictions, target_names=target_names, labels=label_names, zero_division=0, output_dict=True)\n",
    "    report = classification_report(labels, predictions, target_names=target_names, labels=label_names, zero_division=0)\n",
    "    return dict_report, report\n",
    "    \n",
    "def calculate_average_report(reports):\n",
    "    print(reports)\n",
    "    print(len(reports))\n",
    "    avg_report = {}\n",
    "    for report in reports:\n",
    "        for key, scores in report.items():\n",
    "            if key not in avg_report:\n",
    "                avg_report[key] = {}\n",
    "                for score_key, score_value in scores.items():\n",
    "                    avg_report[key][score_key] = score_value\n",
    "            else:\n",
    "                for score_key, score_value in scores.items():\n",
    "                    avg_report[key][score_key] += score_value\n",
    "\n",
    "    num_reports = len(reports)\n",
    "    for key, scores in avg_report.items():\n",
    "        for score_key in scores:\n",
    "            avg_report[key][score_key] /= num_reports\n",
    "\n",
    "    return avg_report\n",
    "\n",
    "def average_report_to_dataframe(average_report):\n",
    "    data = {\n",
    "        \"precision\": [],\n",
    "        \"recall\": [],\n",
    "        \"f1-score\": [],\n",
    "        \"support\": []\n",
    "    }\n",
    "    index = []\n",
    "\n",
    "    for class_name, metrics in average_report.items():\n",
    "        if class_name == 'accuracy':\n",
    "            continue\n",
    "\n",
    "        index.append(class_name)\n",
    "        data[\"precision\"].append(metrics[\"precision\"])\n",
    "        data[\"recall\"].append(metrics[\"recall\"])\n",
    "        data[\"f1-score\"].append(metrics[\"f1-score\"])\n",
    "        data[\"support\"].append(metrics[\"support\"])\n",
    "\n",
    "    return pd.DataFrame(data, index=index)\n",
    "\n",
    "def calculate_metrics(task):\n",
    "    k = 5\n",
    "    \n",
    "    val_classification_reports = []\n",
    "    test_classification_reports = []\n",
    "\n",
    "    # Loop over each fold and load the corresponding model\n",
    "    for fold in range(k):\n",
    "        model_path = f\"../models/weak_labeled/{task}_epochs_200_train_size_full_fold_{fold}\"\n",
    "        # find the latest checkpoint file\n",
    "        #checkpoint_files = [f for f in os.listdir(model_path) if f.startswith(\"checkpoint\")]\n",
    "        latest_checkpoint = os.path.join(model_path, \"\")  # use \"\" for models that were manually saved after training. use sorted(checkpoint_files)[0] for the first automatically saved checkpoint \n",
    "        print(latest_checkpoint)\n",
    "        \n",
    "        # Load the model and tokenizer\n",
    "        model = AutoModelForSequenceClassification.from_pretrained(latest_checkpoint)\n",
    "        model.to(device)\n",
    "        tokenizer = AutoTokenizer.from_pretrained(\"vinai/bertweet-large\")\n",
    "\n",
    "        filename = f\"../data/labeled_data/generic_test_{fold}.json\"\n",
    "        with open(filename) as f:\n",
    "            data = json.load(f)\n",
    "        train_df = pd.read_csv(f\"{model_path}/train_df.csv\")\n",
    "        val_df = pd.DataFrame(data[\"valid\"])\n",
    "        test_df = pd.DataFrame(data[\"test\"])\n",
    "        \n",
    "        import ast\n",
    "        print(train_df[\"annotations\"])\n",
    "        train_annotations = train_df[\"annotations\"].apply(ast.literal_eval).tolist()\n",
    "        classes = set()\n",
    "        for annotation in train_annotations:\n",
    "            classes.update(annotation)\n",
    "        classes = sorted(list(classes))\n",
    "\n",
    "        print(classes)\n",
    "        \n",
    "        checkpoint = torch.load(os.path.join(model_path, \"pytorch_model.bin\"))\n",
    "        model.load_state_dict(checkpoint)\n",
    "        \n",
    "        mlb = MultiLabelBinarizer(classes=classes)\n",
    "        \n",
    "        train_labels = mlb.fit_transform(train_df[\"annotations\"].apply(ast.literal_eval))\n",
    "        val_labels = mlb.transform(val_df[\"annotations\"])\n",
    "        test_labels = mlb.transform(test_df[\"annotations\"])\n",
    "        \n",
    "        train_dataset = TweetDataset(train_df['text'].to_list(), torch.tensor(train_labels), mlb, tokenizer)\n",
    "        val_dataset = TweetDataset(val_df['text'].to_list(), torch.tensor(val_labels), mlb, tokenizer)\n",
    "        test_dataset = TweetDataset(test_df['text'].to_list(), torch.tensor(test_labels), mlb, tokenizer)\n",
    "        \n",
    "        val_loader = torch.utils.data.DataLoader(\n",
    "            val_dataset, batch_size=256, shuffle=False, collate_fn=MultiLabelDataCollator(tokenizer)\n",
    "        )\n",
    "        test_loader = torch.utils.data.DataLoader(\n",
    "            test_dataset, batch_size=256, shuffle=False, collate_fn=MultiLabelDataCollator(tokenizer)\n",
    "        )\n",
    "        \n",
    "        model.eval()\n",
    "        val_report_dict, val_report = get_classification_report(val_loader, model, classes, range(len(classes)))\n",
    "        test_report_dict, test_report = get_classification_report(test_loader, model, classes, range(len(classes)))\n",
    "        val_classification_reports.append(val_report_dict)\n",
    "        test_classification_reports.append(test_report_dict)\n",
    "\n",
    "    val_average_report = calculate_average_report(val_classification_reports)\n",
    "    test_average_report = calculate_average_report(test_classification_reports)\n",
    "    val_average_report_df = average_report_to_dataframe(val_average_report)\n",
    "    test_average_report_df = average_report_to_dataframe(test_average_report)\n",
    "    print(\"\\nAverage Validation Classification Report In DataFrame Format:\")\n",
    "    print(val_average_report_df) \n",
    "    print(\"\\nAverage Test Classification Report In DataFrame Format:\")\n",
    "    print(test_average_report_df) \n",
    "    return val_average_report_df, test_average_report_df"
   ]
  },
  {
   "attachments": {},
   "cell_type": "markdown",
   "metadata": {},
   "source": [
    "# Distinct"
   ]
  },
  {
   "cell_type": "code",
   "execution_count": 8,
   "metadata": {},
   "outputs": [
    {
     "name": "stdout",
     "output_type": "stream",
     "text": [
      "../models/weak_labeled/vicuna_with_rules_classification_only_distinct_generic_epochs_200_train_size_full_fold_0/\n",
      "0                                  ['Science/Technology']\n",
      "1                                              ['Others']\n",
      "2       ['Health', 'Justice/Crime', 'Macroeconomics/Ec...\n",
      "3                                              ['Others']\n",
      "4                                   ['Government/Public']\n",
      "                              ...                        \n",
      "3436                                 ['Labor/Employment']\n",
      "3437                                        ['Education']\n",
      "3438                                ['Conspiracy Theory']\n",
      "3439                                ['Conspiracy Theory']\n",
      "3440                                        ['Education']\n",
      "Name: annotations, Length: 3441, dtype: object\n",
      "['Conspiracy Theory', 'Education', 'Election Campaign', 'Environment', 'Government/Public', 'Health', 'Immigration/Integration', 'Justice/Crime', 'Labor/Employment', 'Macroeconomics/Economic Regulation', 'Media/Journalism', 'Others', 'Religion', 'Science/Technology', 'War/Terror']\n"
     ]
    },
    {
     "name": "stderr",
     "output_type": "stream",
     "text": [
      "/tmp/ipykernel_341441/3473448682.py:37: UserWarning: To copy construct from a tensor, it is recommended to use sourceTensor.clone().detach() or sourceTensor.clone().detach().requires_grad_(True), rather than torch.tensor(sourceTensor).\n",
      "  'label': torch.tensor(label, dtype=torch.float32)}\n",
      "You're using a RobertaTokenizerFast tokenizer. Please note that with a fast tokenizer, using the `__call__` method is faster than using a method to encode the text followed by a call to the `pad` method to get a padded encoding.\n",
      "/tmp/ipykernel_341441/3473448682.py:37: UserWarning: To copy construct from a tensor, it is recommended to use sourceTensor.clone().detach() or sourceTensor.clone().detach().requires_grad_(True), rather than torch.tensor(sourceTensor).\n",
      "  'label': torch.tensor(label, dtype=torch.float32)}\n"
     ]
    },
    {
     "name": "stdout",
     "output_type": "stream",
     "text": [
      "../models/weak_labeled/vicuna_with_rules_classification_only_distinct_generic_epochs_200_train_size_full_fold_1/\n",
      "0                                  ['Science/Technology']\n",
      "1                                              ['Others']\n",
      "2       ['Health', 'Justice/Crime', 'Macroeconomics/Ec...\n",
      "3                                              ['Others']\n",
      "4                                          ['War/Terror']\n",
      "                              ...                        \n",
      "3436                                 ['Labor/Employment']\n",
      "3437                                        ['Education']\n",
      "3438                                ['Conspiracy Theory']\n",
      "3439                                ['Conspiracy Theory']\n",
      "3440                                        ['Education']\n",
      "Name: annotations, Length: 3441, dtype: object\n",
      "['Conspiracy Theory', 'Education', 'Election Campaign', 'Environment', 'Government/Public', 'Health', 'Immigration/Integration', 'Justice/Crime', 'Labor/Employment', 'Macroeconomics/Economic Regulation', 'Media/Journalism', 'Others', 'Religion', 'Science/Technology', 'War/Terror']\n"
     ]
    },
    {
     "name": "stderr",
     "output_type": "stream",
     "text": [
      "/tmp/ipykernel_341441/3473448682.py:37: UserWarning: To copy construct from a tensor, it is recommended to use sourceTensor.clone().detach() or sourceTensor.clone().detach().requires_grad_(True), rather than torch.tensor(sourceTensor).\n",
      "  'label': torch.tensor(label, dtype=torch.float32)}\n",
      "You're using a RobertaTokenizerFast tokenizer. Please note that with a fast tokenizer, using the `__call__` method is faster than using a method to encode the text followed by a call to the `pad` method to get a padded encoding.\n",
      "/tmp/ipykernel_341441/3473448682.py:37: UserWarning: To copy construct from a tensor, it is recommended to use sourceTensor.clone().detach() or sourceTensor.clone().detach().requires_grad_(True), rather than torch.tensor(sourceTensor).\n",
      "  'label': torch.tensor(label, dtype=torch.float32)}\n"
     ]
    },
    {
     "name": "stdout",
     "output_type": "stream",
     "text": [
      "../models/weak_labeled/vicuna_with_rules_classification_only_distinct_generic_epochs_200_train_size_full_fold_2/\n",
      "0       ['Science/Technology']\n",
      "1                   ['Others']\n",
      "2                   ['Others']\n",
      "3        ['Government/Public']\n",
      "4               ['War/Terror']\n",
      "                 ...          \n",
      "3436      ['Labor/Employment']\n",
      "3437             ['Education']\n",
      "3438     ['Conspiracy Theory']\n",
      "3439     ['Conspiracy Theory']\n",
      "3440             ['Education']\n",
      "Name: annotations, Length: 3441, dtype: object\n",
      "['Conspiracy Theory', 'Education', 'Election Campaign', 'Environment', 'Government/Public', 'Health', 'Immigration/Integration', 'Justice/Crime', 'Labor/Employment', 'Macroeconomics/Economic Regulation', 'Media/Journalism', 'Others', 'Religion', 'Science/Technology', 'War/Terror']\n"
     ]
    },
    {
     "name": "stderr",
     "output_type": "stream",
     "text": [
      "/tmp/ipykernel_341441/3473448682.py:37: UserWarning: To copy construct from a tensor, it is recommended to use sourceTensor.clone().detach() or sourceTensor.clone().detach().requires_grad_(True), rather than torch.tensor(sourceTensor).\n",
      "  'label': torch.tensor(label, dtype=torch.float32)}\n",
      "You're using a RobertaTokenizerFast tokenizer. Please note that with a fast tokenizer, using the `__call__` method is faster than using a method to encode the text followed by a call to the `pad` method to get a padded encoding.\n",
      "/tmp/ipykernel_341441/3473448682.py:37: UserWarning: To copy construct from a tensor, it is recommended to use sourceTensor.clone().detach() or sourceTensor.clone().detach().requires_grad_(True), rather than torch.tensor(sourceTensor).\n",
      "  'label': torch.tensor(label, dtype=torch.float32)}\n"
     ]
    },
    {
     "name": "stdout",
     "output_type": "stream",
     "text": [
      "../models/weak_labeled/vicuna_with_rules_classification_only_distinct_generic_epochs_200_train_size_full_fold_3/\n",
      "0                                  ['Science/Technology']\n",
      "1       ['Health', 'Justice/Crime', 'Macroeconomics/Ec...\n",
      "2                                              ['Others']\n",
      "3                                   ['Government/Public']\n",
      "4                                          ['War/Terror']\n",
      "                              ...                        \n",
      "3436                                 ['Labor/Employment']\n",
      "3437                                        ['Education']\n",
      "3438                                ['Conspiracy Theory']\n",
      "3439                                ['Conspiracy Theory']\n",
      "3440                                        ['Education']\n",
      "Name: annotations, Length: 3441, dtype: object\n",
      "['Conspiracy Theory', 'Education', 'Election Campaign', 'Environment', 'Government/Public', 'Health', 'Immigration/Integration', 'Justice/Crime', 'Labor/Employment', 'Macroeconomics/Economic Regulation', 'Media/Journalism', 'Others', 'Religion', 'Science/Technology', 'War/Terror']\n"
     ]
    },
    {
     "name": "stderr",
     "output_type": "stream",
     "text": [
      "/tmp/ipykernel_341441/3473448682.py:37: UserWarning: To copy construct from a tensor, it is recommended to use sourceTensor.clone().detach() or sourceTensor.clone().detach().requires_grad_(True), rather than torch.tensor(sourceTensor).\n",
      "  'label': torch.tensor(label, dtype=torch.float32)}\n",
      "You're using a RobertaTokenizerFast tokenizer. Please note that with a fast tokenizer, using the `__call__` method is faster than using a method to encode the text followed by a call to the `pad` method to get a padded encoding.\n",
      "/tmp/ipykernel_341441/3473448682.py:37: UserWarning: To copy construct from a tensor, it is recommended to use sourceTensor.clone().detach() or sourceTensor.clone().detach().requires_grad_(True), rather than torch.tensor(sourceTensor).\n",
      "  'label': torch.tensor(label, dtype=torch.float32)}\n"
     ]
    },
    {
     "name": "stdout",
     "output_type": "stream",
     "text": [
      "../models/weak_labeled/vicuna_with_rules_classification_only_distinct_generic_epochs_200_train_size_full_fold_4/\n",
      "0                                              ['Others']\n",
      "1       ['Health', 'Justice/Crime', 'Macroeconomics/Ec...\n",
      "2                                   ['Government/Public']\n",
      "3                                          ['War/Terror']\n",
      "4                                          ['War/Terror']\n",
      "                              ...                        \n",
      "3436                                 ['Labor/Employment']\n",
      "3437                                        ['Education']\n",
      "3438                                ['Conspiracy Theory']\n",
      "3439                                ['Conspiracy Theory']\n",
      "3440                                        ['Education']\n",
      "Name: annotations, Length: 3441, dtype: object\n",
      "['Conspiracy Theory', 'Education', 'Election Campaign', 'Environment', 'Government/Public', 'Health', 'Immigration/Integration', 'Justice/Crime', 'Labor/Employment', 'Macroeconomics/Economic Regulation', 'Media/Journalism', 'Others', 'Religion', 'Science/Technology', 'War/Terror']\n"
     ]
    },
    {
     "name": "stderr",
     "output_type": "stream",
     "text": [
      "/tmp/ipykernel_341441/3473448682.py:37: UserWarning: To copy construct from a tensor, it is recommended to use sourceTensor.clone().detach() or sourceTensor.clone().detach().requires_grad_(True), rather than torch.tensor(sourceTensor).\n",
      "  'label': torch.tensor(label, dtype=torch.float32)}\n",
      "You're using a RobertaTokenizerFast tokenizer. Please note that with a fast tokenizer, using the `__call__` method is faster than using a method to encode the text followed by a call to the `pad` method to get a padded encoding.\n",
      "/tmp/ipykernel_341441/3473448682.py:37: UserWarning: To copy construct from a tensor, it is recommended to use sourceTensor.clone().detach() or sourceTensor.clone().detach().requires_grad_(True), rather than torch.tensor(sourceTensor).\n",
      "  'label': torch.tensor(label, dtype=torch.float32)}\n"
     ]
    },
    {
     "name": "stdout",
     "output_type": "stream",
     "text": [
      "[{'Conspiracy Theory': {'precision': 0.7105263157894737, 'recall': 0.574468085106383, 'f1-score': 0.6352941176470589, 'support': 47}, 'Education': {'precision': 0.5555555555555556, 'recall': 0.8333333333333334, 'f1-score': 0.6666666666666667, 'support': 12}, 'Election Campaign': {'precision': 0.7619047619047619, 'recall': 0.6153846153846154, 'f1-score': 0.6808510638297872, 'support': 26}, 'Environment': {'precision': 0.9166666666666666, 'recall': 0.7857142857142857, 'f1-score': 0.8461538461538461, 'support': 14}, 'Government/Public': {'precision': 0.776173285198556, 'recall': 0.8531746031746031, 'f1-score': 0.8128544423440454, 'support': 252}, 'Health': {'precision': 0.7843137254901961, 'recall': 0.8888888888888888, 'f1-score': 0.8333333333333334, 'support': 45}, 'Immigration/Integration': {'precision': 0.7317073170731707, 'recall': 0.75, 'f1-score': 0.7407407407407408, 'support': 40}, 'Justice/Crime': {'precision': 0.8068181818181818, 'recall': 0.6635514018691588, 'f1-score': 0.7282051282051282, 'support': 107}, 'Labor/Employment': {'precision': 0.6363636363636364, 'recall': 0.7368421052631579, 'f1-score': 0.6829268292682926, 'support': 19}, 'Macroeconomics/Economic Regulation': {'precision': 0.7636363636363637, 'recall': 0.7241379310344828, 'f1-score': 0.7433628318584072, 'support': 58}, 'Media/Journalism': {'precision': 0.75, 'recall': 0.7105263157894737, 'f1-score': 0.7297297297297298, 'support': 38}, 'Others': {'precision': 0.8674033149171271, 'recall': 0.7658536585365854, 'f1-score': 0.8134715025906736, 'support': 205}, 'Religion': {'precision': 0.7777777777777778, 'recall': 0.6363636363636364, 'f1-score': 0.7000000000000001, 'support': 22}, 'Science/Technology': {'precision': 0.6666666666666666, 'recall': 0.4, 'f1-score': 0.5, 'support': 10}, 'War/Terror': {'precision': 0.9259259259259259, 'recall': 0.9459459459459459, 'f1-score': 0.9358288770053477, 'support': 185}, 'micro avg': {'precision': 0.8100664767331434, 'recall': 0.7898148148148149, 'f1-score': 0.7998124706985467, 'support': 1080}, 'macro avg': {'precision': 0.7620959663189372, 'recall': 0.72561232042697, 'f1-score': 0.7366279406248705, 'support': 1080}, 'weighted avg': {'precision': 0.8120050519630551, 'recall': 0.7898148148148149, 'f1-score': 0.7975966545038057, 'support': 1080}, 'samples avg': {'precision': 0.8157291666666667, 'recall': 0.8086458333333334, 'f1-score': 0.7990535714285713, 'support': 1080}}, {'Conspiracy Theory': {'precision': 0.6041666666666666, 'recall': 0.48333333333333334, 'f1-score': 0.537037037037037, 'support': 60}, 'Education': {'precision': 0.75, 'recall': 0.5625, 'f1-score': 0.6428571428571429, 'support': 16}, 'Election Campaign': {'precision': 0.8571428571428571, 'recall': 0.8571428571428571, 'f1-score': 0.8571428571428571, 'support': 35}, 'Environment': {'precision': 0.5454545454545454, 'recall': 0.42857142857142855, 'f1-score': 0.4799999999999999, 'support': 14}, 'Government/Public': {'precision': 0.732, 'recall': 0.75, 'f1-score': 0.7408906882591092, 'support': 244}, 'Health': {'precision': 0.7333333333333333, 'recall': 0.8048780487804879, 'f1-score': 0.7674418604651163, 'support': 41}, 'Immigration/Integration': {'precision': 0.8055555555555556, 'recall': 0.6444444444444445, 'f1-score': 0.7160493827160493, 'support': 45}, 'Justice/Crime': {'precision': 0.8064516129032258, 'recall': 0.6818181818181818, 'f1-score': 0.7389162561576355, 'support': 110}, 'Labor/Employment': {'precision': 0.8666666666666667, 'recall': 0.8125, 'f1-score': 0.8387096774193549, 'support': 16}, 'Macroeconomics/Economic Regulation': {'precision': 0.660377358490566, 'recall': 0.7, 'f1-score': 0.6796116504854369, 'support': 50}, 'Media/Journalism': {'precision': 0.6923076923076923, 'recall': 0.5625, 'f1-score': 0.6206896551724138, 'support': 32}, 'Others': {'precision': 0.875, 'recall': 0.7575757575757576, 'f1-score': 0.8120649651972157, 'support': 231}, 'Religion': {'precision': 0.875, 'recall': 0.5, 'f1-score': 0.6363636363636364, 'support': 14}, 'Science/Technology': {'precision': 1.0, 'recall': 0.21428571428571427, 'f1-score': 0.35294117647058826, 'support': 14}, 'War/Terror': {'precision': 0.8941798941798942, 'recall': 0.949438202247191, 'f1-score': 0.9209809264305177, 'support': 178}, 'micro avg': {'precision': 0.794921875, 'recall': 0.74, 'f1-score': 0.7664783427495292, 'support': 1100}, 'macro avg': {'precision': 0.7798424121800668, 'recall': 0.6472658645466264, 'f1-score': 0.6894464608116074, 'support': 1100}, 'weighted avg': {'precision': 0.7964537360285885, 'recall': 0.74, 'f1-score': 0.7614611606319618, 'support': 1100}, 'samples avg': {'precision': 0.795, 'recall': 0.7684375, 'f1-score': 0.7638035714285715, 'support': 1100}}, {'Conspiracy Theory': {'precision': 0.5769230769230769, 'recall': 0.3409090909090909, 'f1-score': 0.42857142857142855, 'support': 44}, 'Education': {'precision': 0.5333333333333333, 'recall': 0.7272727272727273, 'f1-score': 0.6153846153846153, 'support': 11}, 'Election Campaign': {'precision': 1.0, 'recall': 0.6, 'f1-score': 0.7499999999999999, 'support': 25}, 'Environment': {'precision': 0.7, 'recall': 0.6363636363636364, 'f1-score': 0.6666666666666666, 'support': 11}, 'Government/Public': {'precision': 0.7966804979253111, 'recall': 0.7741935483870968, 'f1-score': 0.7852760736196319, 'support': 248}, 'Health': {'precision': 0.9310344827586207, 'recall': 0.675, 'f1-score': 0.7826086956521738, 'support': 40}, 'Immigration/Integration': {'precision': 0.6666666666666666, 'recall': 0.8275862068965517, 'f1-score': 0.7384615384615385, 'support': 29}, 'Justice/Crime': {'precision': 0.839622641509434, 'recall': 0.7739130434782608, 'f1-score': 0.8054298642533937, 'support': 115}, 'Labor/Employment': {'precision': 0.47058823529411764, 'recall': 0.4, 'f1-score': 0.4324324324324324, 'support': 20}, 'Macroeconomics/Economic Regulation': {'precision': 0.7, 'recall': 0.7291666666666666, 'f1-score': 0.7142857142857142, 'support': 48}, 'Media/Journalism': {'precision': 0.868421052631579, 'recall': 0.7333333333333333, 'f1-score': 0.7951807228915663, 'support': 45}, 'Others': {'precision': 0.9096385542168675, 'recall': 0.7156398104265402, 'f1-score': 0.8010610079575596, 'support': 211}, 'Religion': {'precision': 0.7, 'recall': 0.7, 'f1-score': 0.7, 'support': 10}, 'Science/Technology': {'precision': 0.875, 'recall': 0.6363636363636364, 'f1-score': 0.7368421052631579, 'support': 11}, 'War/Terror': {'precision': 0.9045226130653267, 'recall': 0.9, 'f1-score': 0.9022556390977444, 'support': 200}, 'micro avg': {'precision': 0.8260869565217391, 'recall': 0.7471910112359551, 'f1-score': 0.7846607669616519, 'support': 1068}, 'macro avg': {'precision': 0.7648287436216222, 'recall': 0.6779827800065028, 'f1-score': 0.7102971003025081, 'support': 1068}, 'weighted avg': {'precision': 0.8297877636527622, 'recall': 0.7471910112359551, 'f1-score': 0.7819289318061419, 'support': 1068}, 'samples avg': {'precision': 0.8108333333333333, 'recall': 0.779375, 'f1-score': 0.7791190476190476, 'support': 1068}}, {'Conspiracy Theory': {'precision': 0.6666666666666666, 'recall': 0.4166666666666667, 'f1-score': 0.5128205128205129, 'support': 48}, 'Education': {'precision': 0.5, 'recall': 0.4, 'f1-score': 0.4444444444444445, 'support': 10}, 'Election Campaign': {'precision': 0.75, 'recall': 0.875, 'f1-score': 0.8076923076923077, 'support': 24}, 'Environment': {'precision': 0.3333333333333333, 'recall': 0.25, 'f1-score': 0.28571428571428575, 'support': 8}, 'Government/Public': {'precision': 0.730909090909091, 'recall': 0.804, 'f1-score': 0.7657142857142857, 'support': 250}, 'Health': {'precision': 0.8809523809523809, 'recall': 0.7551020408163265, 'f1-score': 0.8131868131868131, 'support': 49}, 'Immigration/Integration': {'precision': 0.8823529411764706, 'recall': 0.6666666666666666, 'f1-score': 0.7594936708860759, 'support': 45}, 'Justice/Crime': {'precision': 0.8272727272727273, 'recall': 0.7844827586206896, 'f1-score': 0.8053097345132743, 'support': 116}, 'Labor/Employment': {'precision': 0.8666666666666667, 'recall': 0.5416666666666666, 'f1-score': 0.6666666666666667, 'support': 24}, 'Macroeconomics/Economic Regulation': {'precision': 0.8913043478260869, 'recall': 0.7321428571428571, 'f1-score': 0.8039215686274508, 'support': 56}, 'Media/Journalism': {'precision': 0.5853658536585366, 'recall': 0.6153846153846154, 'f1-score': 0.6, 'support': 39}, 'Others': {'precision': 0.8430232558139535, 'recall': 0.7712765957446809, 'f1-score': 0.8055555555555556, 'support': 188}, 'Religion': {'precision': 0.7368421052631579, 'recall': 0.875, 'f1-score': 0.7999999999999999, 'support': 16}, 'Science/Technology': {'precision': 0.16666666666666666, 'recall': 0.14285714285714285, 'f1-score': 0.15384615384615383, 'support': 7}, 'War/Terror': {'precision': 0.9282051282051282, 'recall': 0.9141414141414141, 'f1-score': 0.9211195928753181, 'support': 198}, 'micro avg': {'precision': 0.8033106134371957, 'recall': 0.7653061224489796, 'f1-score': 0.7838479809976248, 'support': 1078}, 'macro avg': {'precision': 0.7059707442940577, 'recall': 0.636292494980515, 'f1-score': 0.6630323728362096, 'support': 1078}, 'weighted avg': {'precision': 0.8051962563790754, 'recall': 0.7653061224489796, 'f1-score': 0.7808169602524256, 'support': 1078}, 'samples avg': {'precision': 0.8141666666666666, 'recall': 0.7971875, 'f1-score': 0.7890297619047618, 'support': 1078}}, {'Conspiracy Theory': {'precision': 0.463768115942029, 'recall': 0.5818181818181818, 'f1-score': 0.5161290322580645, 'support': 55}, 'Education': {'precision': 0.8181818181818182, 'recall': 0.6428571428571429, 'f1-score': 0.7200000000000001, 'support': 14}, 'Election Campaign': {'precision': 0.8421052631578947, 'recall': 0.6956521739130435, 'f1-score': 0.761904761904762, 'support': 23}, 'Environment': {'precision': 0.8571428571428571, 'recall': 0.5454545454545454, 'f1-score': 0.6666666666666665, 'support': 11}, 'Government/Public': {'precision': 0.7990867579908676, 'recall': 0.6889763779527559, 'f1-score': 0.7399577167019027, 'support': 254}, 'Health': {'precision': 0.8048780487804879, 'recall': 0.8461538461538461, 'f1-score': 0.8250000000000001, 'support': 39}, 'Immigration/Integration': {'precision': 0.8928571428571429, 'recall': 0.5952380952380952, 'f1-score': 0.7142857142857143, 'support': 42}, 'Justice/Crime': {'precision': 0.8977272727272727, 'recall': 0.6370967741935484, 'f1-score': 0.7452830188679246, 'support': 124}, 'Labor/Employment': {'precision': 0.9, 'recall': 0.5, 'f1-score': 0.6428571428571429, 'support': 18}, 'Macroeconomics/Economic Regulation': {'precision': 0.6829268292682927, 'recall': 0.7368421052631579, 'f1-score': 0.7088607594936709, 'support': 38}, 'Media/Journalism': {'precision': 0.6129032258064516, 'recall': 0.6333333333333333, 'f1-score': 0.6229508196721313, 'support': 30}, 'Others': {'precision': 0.9015544041450777, 'recall': 0.7837837837837838, 'f1-score': 0.8385542168674698, 'support': 222}, 'Religion': {'precision': 0.5384615384615384, 'recall': 0.7777777777777778, 'f1-score': 0.6363636363636364, 'support': 9}, 'Science/Technology': {'precision': 1.0, 'recall': 0.08333333333333333, 'f1-score': 0.15384615384615385, 'support': 12}, 'War/Terror': {'precision': 0.8901098901098901, 'recall': 0.9101123595505618, 'f1-score': 0.8999999999999999, 'support': 178}, 'micro avg': {'precision': 0.8132214060860441, 'recall': 0.724976613657624, 'f1-score': 0.7665677546983186, 'support': 1069}, 'macro avg': {'precision': 0.793446877638108, 'recall': 0.6438953220415405, 'f1-score': 0.6795106426523494, 'support': 1069}, 'weighted avg': {'precision': 0.8277870485081117, 'recall': 0.724976613657624, 'f1-score': 0.7642588575805417, 'support': 1069}, 'samples avg': {'precision': 0.79125, 'recall': 0.7545833333333333, 'f1-score': 0.7566130952380952, 'support': 1069}}]\n",
      "5\n",
      "[{'Conspiracy Theory': {'precision': 0.5208333333333334, 'recall': 0.5555555555555556, 'f1-score': 0.5376344086021506, 'support': 45}, 'Education': {'precision': 0.3793103448275862, 'recall': 0.8461538461538461, 'f1-score': 0.5238095238095238, 'support': 13}, 'Election Campaign': {'precision': 0.8620689655172413, 'recall': 0.7575757575757576, 'f1-score': 0.8064516129032258, 'support': 33}, 'Environment': {'precision': 0.47368421052631576, 'recall': 0.6428571428571429, 'f1-score': 0.5454545454545454, 'support': 14}, 'Government/Public': {'precision': 0.7458745874587459, 'recall': 0.7766323024054983, 'f1-score': 0.7609427609427609, 'support': 291}, 'Health': {'precision': 0.75, 'recall': 0.6521739130434783, 'f1-score': 0.6976744186046512, 'support': 46}, 'Immigration/Integration': {'precision': 0.7105263157894737, 'recall': 0.75, 'f1-score': 0.7297297297297298, 'support': 36}, 'Justice/Crime': {'precision': 0.8416666666666667, 'recall': 0.7372262773722628, 'f1-score': 0.7859922178988328, 'support': 137}, 'Labor/Employment': {'precision': 0.7083333333333334, 'recall': 0.6071428571428571, 'f1-score': 0.6538461538461539, 'support': 28}, 'Macroeconomics/Economic Regulation': {'precision': 0.7258064516129032, 'recall': 0.7258064516129032, 'f1-score': 0.7258064516129032, 'support': 62}, 'Media/Journalism': {'precision': 0.717391304347826, 'recall': 0.6875, 'f1-score': 0.702127659574468, 'support': 48}, 'Others': {'precision': 0.8878923766816144, 'recall': 0.7306273062730627, 'f1-score': 0.8016194331983806, 'support': 271}, 'Religion': {'precision': 0.5833333333333334, 'recall': 0.6363636363636364, 'f1-score': 0.6086956521739131, 'support': 11}, 'Science/Technology': {'precision': 0.5555555555555556, 'recall': 0.45454545454545453, 'f1-score': 0.5, 'support': 11}, 'War/Terror': {'precision': 0.9193548387096774, 'recall': 0.8941176470588236, 'f1-score': 0.9065606361829026, 'support': 255}, 'micro avg': {'precision': 0.7896, 'recall': 0.7586471944657955, 'f1-score': 0.7738141905135242, 'support': 1301}, 'macro avg': {'precision': 0.6921087745129071, 'recall': 0.6969518765306852, 'f1-score': 0.6857563469689426, 'support': 1301}, 'weighted avg': {'precision': 0.8014876146164007, 'recall': 0.7586471944657955, 'f1-score': 0.7765935516033354, 'support': 1301}, 'samples avg': {'precision': 0.7999166666666667, 'recall': 0.7867666666666666, 'f1-score': 0.7785333333333333, 'support': 1301}}, {'Conspiracy Theory': {'precision': 0.4375, 'recall': 0.4666666666666667, 'f1-score': 0.45161290322580644, 'support': 45}, 'Education': {'precision': 0.5625, 'recall': 0.6923076923076923, 'f1-score': 0.6206896551724138, 'support': 13}, 'Election Campaign': {'precision': 0.8125, 'recall': 0.7878787878787878, 'f1-score': 0.8, 'support': 33}, 'Environment': {'precision': 0.6363636363636364, 'recall': 0.5, 'f1-score': 0.56, 'support': 14}, 'Government/Public': {'precision': 0.7473684210526316, 'recall': 0.7319587628865979, 'f1-score': 0.7395833333333333, 'support': 291}, 'Health': {'precision': 0.6666666666666666, 'recall': 0.5652173913043478, 'f1-score': 0.6117647058823529, 'support': 46}, 'Immigration/Integration': {'precision': 0.8181818181818182, 'recall': 0.75, 'f1-score': 0.7826086956521738, 'support': 36}, 'Justice/Crime': {'precision': 0.8515625, 'recall': 0.7956204379562044, 'f1-score': 0.8226415094339622, 'support': 137}, 'Labor/Employment': {'precision': 0.7272727272727273, 'recall': 0.5714285714285714, 'f1-score': 0.64, 'support': 28}, 'Macroeconomics/Economic Regulation': {'precision': 0.7288135593220338, 'recall': 0.6935483870967742, 'f1-score': 0.7107438016528926, 'support': 62}, 'Media/Journalism': {'precision': 0.7419354838709677, 'recall': 0.4791666666666667, 'f1-score': 0.5822784810126582, 'support': 48}, 'Others': {'precision': 0.8274509803921568, 'recall': 0.7785977859778598, 'f1-score': 0.8022813688212928, 'support': 271}, 'Religion': {'precision': 0.6153846153846154, 'recall': 0.7272727272727273, 'f1-score': 0.6666666666666667, 'support': 11}, 'Science/Technology': {'precision': 0.625, 'recall': 0.45454545454545453, 'f1-score': 0.5263157894736842, 'support': 11}, 'War/Terror': {'precision': 0.9108527131782945, 'recall': 0.9215686274509803, 'f1-score': 0.9161793372319688, 'support': 255}, 'micro avg': {'precision': 0.7907915993537964, 'recall': 0.7524980784012298, 'f1-score': 0.7711697518708153, 'support': 1301}, 'macro avg': {'precision': 0.7139568747790366, 'recall': 0.6610518639626222, 'f1-score': 0.6822244165039469, 'support': 1301}, 'weighted avg': {'precision': 0.7903958067947717, 'recall': 0.7524980784012298, 'f1-score': 0.7693847380647771, 'support': 1301}, 'samples avg': {'precision': 0.8019166666666666, 'recall': 0.7890666666666666, 'f1-score': 0.7800380952380951, 'support': 1301}}, {'Conspiracy Theory': {'precision': 0.5161290322580645, 'recall': 0.35555555555555557, 'f1-score': 0.42105263157894735, 'support': 45}, 'Education': {'precision': 0.4, 'recall': 0.6153846153846154, 'f1-score': 0.4848484848484849, 'support': 13}, 'Election Campaign': {'precision': 0.7916666666666666, 'recall': 0.5757575757575758, 'f1-score': 0.6666666666666667, 'support': 33}, 'Environment': {'precision': 0.5625, 'recall': 0.6428571428571429, 'f1-score': 0.6000000000000001, 'support': 14}, 'Government/Public': {'precision': 0.7686567164179104, 'recall': 0.7079037800687286, 'f1-score': 0.7370304114490162, 'support': 291}, 'Health': {'precision': 0.6666666666666666, 'recall': 0.5217391304347826, 'f1-score': 0.5853658536585366, 'support': 46}, 'Immigration/Integration': {'precision': 0.7297297297297297, 'recall': 0.75, 'f1-score': 0.7397260273972601, 'support': 36}, 'Justice/Crime': {'precision': 0.8449612403100775, 'recall': 0.7956204379562044, 'f1-score': 0.8195488721804511, 'support': 137}, 'Labor/Employment': {'precision': 0.6666666666666666, 'recall': 0.5714285714285714, 'f1-score': 0.6153846153846153, 'support': 28}, 'Macroeconomics/Economic Regulation': {'precision': 0.7758620689655172, 'recall': 0.7258064516129032, 'f1-score': 0.7500000000000001, 'support': 62}, 'Media/Journalism': {'precision': 0.8333333333333334, 'recall': 0.625, 'f1-score': 0.7142857142857143, 'support': 48}, 'Others': {'precision': 0.8851063829787233, 'recall': 0.7675276752767528, 'f1-score': 0.8221343873517786, 'support': 271}, 'Religion': {'precision': 0.5294117647058824, 'recall': 0.8181818181818182, 'f1-score': 0.6428571428571428, 'support': 11}, 'Science/Technology': {'precision': 0.7142857142857143, 'recall': 0.45454545454545453, 'f1-score': 0.5555555555555556, 'support': 11}, 'War/Terror': {'precision': 0.9390243902439024, 'recall': 0.9058823529411765, 'f1-score': 0.9221556886227545, 'support': 255}, 'micro avg': {'precision': 0.8125, 'recall': 0.7394312067640276, 'f1-score': 0.774245472837022, 'support': 1301}, 'macro avg': {'precision': 0.7082666915485903, 'recall': 0.6555460374667521, 'f1-score': 0.6717741367891282, 'support': 1301}, 'weighted avg': {'precision': 0.813656705841282, 'recall': 0.7394312067640276, 'f1-score': 0.7725661437119293, 'support': 1301}, 'samples avg': {'precision': 0.8010833333333333, 'recall': 0.7770666666666666, 'f1-score': 0.7747285714285714, 'support': 1301}}, {'Conspiracy Theory': {'precision': 0.4375, 'recall': 0.3111111111111111, 'f1-score': 0.3636363636363637, 'support': 45}, 'Education': {'precision': 0.5, 'recall': 0.6153846153846154, 'f1-score': 0.5517241379310345, 'support': 13}, 'Election Campaign': {'precision': 0.7894736842105263, 'recall': 0.9090909090909091, 'f1-score': 0.8450704225352113, 'support': 33}, 'Environment': {'precision': 0.6363636363636364, 'recall': 0.5, 'f1-score': 0.56, 'support': 14}, 'Government/Public': {'precision': 0.7326732673267327, 'recall': 0.7628865979381443, 'f1-score': 0.7474747474747475, 'support': 291}, 'Health': {'precision': 0.8387096774193549, 'recall': 0.5652173913043478, 'f1-score': 0.6753246753246753, 'support': 46}, 'Immigration/Integration': {'precision': 0.9166666666666666, 'recall': 0.6111111111111112, 'f1-score': 0.7333333333333334, 'support': 36}, 'Justice/Crime': {'precision': 0.7835820895522388, 'recall': 0.7664233576642335, 'f1-score': 0.7749077490774908, 'support': 137}, 'Labor/Employment': {'precision': 0.7142857142857143, 'recall': 0.5357142857142857, 'f1-score': 0.6122448979591837, 'support': 28}, 'Macroeconomics/Economic Regulation': {'precision': 0.8478260869565217, 'recall': 0.6290322580645161, 'f1-score': 0.7222222222222221, 'support': 62}, 'Media/Journalism': {'precision': 0.6862745098039216, 'recall': 0.7291666666666666, 'f1-score': 0.7070707070707071, 'support': 48}, 'Others': {'precision': 0.821969696969697, 'recall': 0.8007380073800738, 'f1-score': 0.8112149532710281, 'support': 271}, 'Religion': {'precision': 0.5833333333333334, 'recall': 0.6363636363636364, 'f1-score': 0.6086956521739131, 'support': 11}, 'Science/Technology': {'precision': 0.5714285714285714, 'recall': 0.36363636363636365, 'f1-score': 0.4444444444444444, 'support': 11}, 'War/Terror': {'precision': 0.9385245901639344, 'recall': 0.8980392156862745, 'f1-score': 0.9178356713426854, 'support': 255}, 'micro avg': {'precision': 0.7941653160453809, 'recall': 0.7532667179093006, 'f1-score': 0.7731755424063117, 'support': 1301}, 'macro avg': {'precision': 0.7199074349653901, 'recall': 0.642261035141086, 'f1-score': 0.6716799985198028, 'support': 1301}, 'weighted avg': {'precision': 0.7944464780130125, 'recall': 0.7532667179093006, 'f1-score': 0.7699752042703834, 'support': 1301}, 'samples avg': {'precision': 0.8005833333333332, 'recall': 0.7836666666666667, 'f1-score': 0.7763619047619047, 'support': 1301}}, {'Conspiracy Theory': {'precision': 0.4098360655737705, 'recall': 0.5555555555555556, 'f1-score': 0.4716981132075472, 'support': 45}, 'Education': {'precision': 0.5294117647058824, 'recall': 0.6923076923076923, 'f1-score': 0.5999999999999999, 'support': 13}, 'Election Campaign': {'precision': 0.88, 'recall': 0.6666666666666666, 'f1-score': 0.7586206896551725, 'support': 33}, 'Environment': {'precision': 0.6666666666666666, 'recall': 0.5714285714285714, 'f1-score': 0.6153846153846153, 'support': 14}, 'Government/Public': {'precision': 0.7717391304347826, 'recall': 0.7319587628865979, 'f1-score': 0.7513227513227513, 'support': 291}, 'Health': {'precision': 0.7714285714285715, 'recall': 0.5869565217391305, 'f1-score': 0.6666666666666667, 'support': 46}, 'Immigration/Integration': {'precision': 0.75, 'recall': 0.6666666666666666, 'f1-score': 0.7058823529411765, 'support': 36}, 'Justice/Crime': {'precision': 0.864406779661017, 'recall': 0.7445255474452555, 'f1-score': 0.7999999999999999, 'support': 137}, 'Labor/Employment': {'precision': 0.7619047619047619, 'recall': 0.5714285714285714, 'f1-score': 0.6530612244897959, 'support': 28}, 'Macroeconomics/Economic Regulation': {'precision': 0.7857142857142857, 'recall': 0.7096774193548387, 'f1-score': 0.7457627118644068, 'support': 62}, 'Media/Journalism': {'precision': 0.7317073170731707, 'recall': 0.625, 'f1-score': 0.6741573033707865, 'support': 48}, 'Others': {'precision': 0.918552036199095, 'recall': 0.7490774907749077, 'f1-score': 0.8252032520325203, 'support': 271}, 'Religion': {'precision': 0.7272727272727273, 'recall': 0.7272727272727273, 'f1-score': 0.7272727272727273, 'support': 11}, 'Science/Technology': {'precision': 1.0, 'recall': 0.36363636363636365, 'f1-score': 0.5333333333333333, 'support': 11}, 'War/Terror': {'precision': 0.9182879377431906, 'recall': 0.9254901960784314, 'f1-score': 0.9218749999999999, 'support': 255}, 'micro avg': {'precision': 0.8180286436394272, 'recall': 0.7463489623366641, 'f1-score': 0.7805466237942121, 'support': 1301}, 'macro avg': {'precision': 0.7657952029585281, 'recall': 0.6591765835494651, 'f1-score': 0.6966827161027666, 'support': 1301}, 'weighted avg': {'precision': 0.8273977213548994, 'recall': 0.7463489623366641, 'f1-score': 0.7812813685060719, 'support': 1301}, 'samples avg': {'precision': 0.8046666666666666, 'recall': 0.7741666666666667, 'f1-score': 0.7744666666666667, 'support': 1301}}]\n",
      "5\n",
      "\n",
      "Average Validation Classification Report In DataFrame Format:\n",
      "                                    precision    recall  f1-score  support\n",
      "Conspiracy Theory                    0.604410  0.479439  0.525970     50.8\n",
      "Education                            0.631414  0.633193  0.617871     12.6\n",
      "Election Campaign                    0.842231  0.728636  0.771518     26.6\n",
      "Environment                          0.670519  0.529221  0.589040     11.6\n",
      "Government/Public                    0.766970  0.774069  0.768939    249.6\n",
      "Health                               0.826902  0.794005  0.804314     42.8\n",
      "Immigration/Integration              0.795828  0.696787  0.733806     40.2\n",
      "Justice/Crime                        0.835578  0.708172  0.764629    114.4\n",
      "Labor/Employment                     0.748057  0.598202  0.652719     19.4\n",
      "Macroeconomics/Economic Regulation   0.739649  0.724458  0.730009     50.0\n",
      "Media/Journalism                     0.701800  0.651016  0.673710     36.8\n",
      "Others                               0.879324  0.758826  0.814141    211.4\n",
      "Religion                             0.725616  0.697828  0.694545     14.2\n",
      "Science/Technology                   0.741667  0.295368  0.379495     10.8\n",
      "War/Terror                           0.908589  0.923928  0.916037    187.8\n",
      "micro avg                            0.809521  0.753458  0.780273   1079.0\n",
      "macro avg                            0.761237  0.666210  0.695783   1079.0\n",
      "weighted avg                         0.814246  0.753458  0.777213   1079.0\n",
      "samples avg                          0.805396  0.781646  0.777524   1079.0\n",
      "\n",
      "Average Test Classification Report In DataFrame Format:\n",
      "                                    precision    recall  f1-score  support\n",
      "Conspiracy Theory                    0.464360  0.448889  0.449127     45.0\n",
      "Education                            0.474244  0.692308  0.556214     13.0\n",
      "Election Campaign                    0.827142  0.739394  0.775362     33.0\n",
      "Environment                          0.595116  0.571429  0.576168     14.0\n",
      "Government/Public                    0.753262  0.742268  0.747271    291.0\n",
      "Health                               0.738694  0.578261  0.647359     46.0\n",
      "Immigration/Integration              0.785021  0.705556  0.738256     36.0\n",
      "Justice/Crime                        0.837236  0.767883  0.800618    137.0\n",
      "Labor/Employment                     0.715693  0.571429  0.634907     28.0\n",
      "Macroeconomics/Economic Regulation   0.772804  0.696774  0.730907     62.0\n",
      "Media/Journalism                     0.742128  0.629167  0.675984     48.0\n",
      "Others                               0.868194  0.765314  0.812491    271.0\n",
      "Religion                             0.607747  0.709091  0.650838     11.0\n",
      "Science/Technology                   0.693254  0.418182  0.511930     11.0\n",
      "War/Terror                           0.925209  0.909020  0.916921    255.0\n",
      "micro avg                            0.801017  0.750038  0.774590   1301.0\n",
      "macro avg                            0.720007  0.662997  0.681624   1301.0\n",
      "weighted avg                         0.805477  0.750038  0.773960   1301.0\n",
      "samples avg                          0.801633  0.782147  0.776826   1301.0\n"
     ]
    }
   ],
   "source": [
    "generic_val_average_report_df, generic_test_average_report_df = calculate_metrics(\"vicuna_with_rules_classification_only_distinct_generic\")"
   ]
  },
  {
   "cell_type": "code",
   "execution_count": 9,
   "metadata": {},
   "outputs": [
    {
     "name": "stdout",
     "output_type": "stream",
     "text": [
      "../models/weak_labeled/oa_with_rules_classification_only_distinct_generic_epochs_200_train_size_full_fold_0/\n",
      "0                                  ['Science/Technology']\n",
      "1                                              ['Others']\n",
      "2       ['Health', 'Justice/Crime', 'Macroeconomics/Ec...\n",
      "3                                              ['Others']\n",
      "4                                   ['Government/Public']\n",
      "                              ...                        \n",
      "3480                                 ['Labor/Employment']\n",
      "3481                                         ['Religion']\n",
      "3482                                        ['Education']\n",
      "3483                                ['Conspiracy Theory']\n",
      "3484                                ['Conspiracy Theory']\n",
      "Name: annotations, Length: 3485, dtype: object\n",
      "['Conspiracy Theory', 'Education', 'Election Campaign', 'Environment', 'Government/Public', 'Health', 'Immigration/Integration', 'Justice/Crime', 'Labor/Employment', 'Macroeconomics/Economic Regulation', 'Media/Journalism', 'Others', 'Religion', 'Science/Technology', 'War/Terror']\n"
     ]
    },
    {
     "name": "stderr",
     "output_type": "stream",
     "text": [
      "/tmp/ipykernel_341441/3473448682.py:37: UserWarning: To copy construct from a tensor, it is recommended to use sourceTensor.clone().detach() or sourceTensor.clone().detach().requires_grad_(True), rather than torch.tensor(sourceTensor).\n",
      "  'label': torch.tensor(label, dtype=torch.float32)}\n",
      "You're using a RobertaTokenizerFast tokenizer. Please note that with a fast tokenizer, using the `__call__` method is faster than using a method to encode the text followed by a call to the `pad` method to get a padded encoding.\n",
      "/tmp/ipykernel_341441/3473448682.py:37: UserWarning: To copy construct from a tensor, it is recommended to use sourceTensor.clone().detach() or sourceTensor.clone().detach().requires_grad_(True), rather than torch.tensor(sourceTensor).\n",
      "  'label': torch.tensor(label, dtype=torch.float32)}\n"
     ]
    },
    {
     "name": "stdout",
     "output_type": "stream",
     "text": [
      "../models/weak_labeled/oa_with_rules_classification_only_distinct_generic_epochs_200_train_size_full_fold_1/\n",
      "0                                  ['Science/Technology']\n",
      "1                                              ['Others']\n",
      "2       ['Health', 'Justice/Crime', 'Macroeconomics/Ec...\n",
      "3                                              ['Others']\n",
      "4                                          ['War/Terror']\n",
      "                              ...                        \n",
      "3480                                 ['Labor/Employment']\n",
      "3481                                         ['Religion']\n",
      "3482                                        ['Education']\n",
      "3483                                ['Conspiracy Theory']\n",
      "3484                                ['Conspiracy Theory']\n",
      "Name: annotations, Length: 3485, dtype: object\n",
      "['Conspiracy Theory', 'Education', 'Election Campaign', 'Environment', 'Government/Public', 'Health', 'Immigration/Integration', 'Justice/Crime', 'Labor/Employment', 'Macroeconomics/Economic Regulation', 'Media/Journalism', 'Others', 'Religion', 'Science/Technology', 'War/Terror']\n"
     ]
    },
    {
     "name": "stderr",
     "output_type": "stream",
     "text": [
      "/tmp/ipykernel_341441/3473448682.py:37: UserWarning: To copy construct from a tensor, it is recommended to use sourceTensor.clone().detach() or sourceTensor.clone().detach().requires_grad_(True), rather than torch.tensor(sourceTensor).\n",
      "  'label': torch.tensor(label, dtype=torch.float32)}\n",
      "You're using a RobertaTokenizerFast tokenizer. Please note that with a fast tokenizer, using the `__call__` method is faster than using a method to encode the text followed by a call to the `pad` method to get a padded encoding.\n",
      "/tmp/ipykernel_341441/3473448682.py:37: UserWarning: To copy construct from a tensor, it is recommended to use sourceTensor.clone().detach() or sourceTensor.clone().detach().requires_grad_(True), rather than torch.tensor(sourceTensor).\n",
      "  'label': torch.tensor(label, dtype=torch.float32)}\n"
     ]
    },
    {
     "name": "stdout",
     "output_type": "stream",
     "text": [
      "../models/weak_labeled/oa_with_rules_classification_only_distinct_generic_epochs_200_train_size_full_fold_2/\n",
      "0       ['Science/Technology']\n",
      "1                   ['Others']\n",
      "2                   ['Others']\n",
      "3        ['Government/Public']\n",
      "4               ['War/Terror']\n",
      "                 ...          \n",
      "3480      ['Labor/Employment']\n",
      "3481              ['Religion']\n",
      "3482             ['Education']\n",
      "3483     ['Conspiracy Theory']\n",
      "3484     ['Conspiracy Theory']\n",
      "Name: annotations, Length: 3485, dtype: object\n",
      "['Conspiracy Theory', 'Education', 'Election Campaign', 'Environment', 'Government/Public', 'Health', 'Immigration/Integration', 'Justice/Crime', 'Labor/Employment', 'Macroeconomics/Economic Regulation', 'Media/Journalism', 'Others', 'Religion', 'Science/Technology', 'War/Terror']\n"
     ]
    },
    {
     "name": "stderr",
     "output_type": "stream",
     "text": [
      "/tmp/ipykernel_341441/3473448682.py:37: UserWarning: To copy construct from a tensor, it is recommended to use sourceTensor.clone().detach() or sourceTensor.clone().detach().requires_grad_(True), rather than torch.tensor(sourceTensor).\n",
      "  'label': torch.tensor(label, dtype=torch.float32)}\n",
      "You're using a RobertaTokenizerFast tokenizer. Please note that with a fast tokenizer, using the `__call__` method is faster than using a method to encode the text followed by a call to the `pad` method to get a padded encoding.\n",
      "/tmp/ipykernel_341441/3473448682.py:37: UserWarning: To copy construct from a tensor, it is recommended to use sourceTensor.clone().detach() or sourceTensor.clone().detach().requires_grad_(True), rather than torch.tensor(sourceTensor).\n",
      "  'label': torch.tensor(label, dtype=torch.float32)}\n"
     ]
    },
    {
     "name": "stdout",
     "output_type": "stream",
     "text": [
      "../models/weak_labeled/oa_with_rules_classification_only_distinct_generic_epochs_200_train_size_full_fold_3/\n",
      "0                                  ['Science/Technology']\n",
      "1       ['Health', 'Justice/Crime', 'Macroeconomics/Ec...\n",
      "2                                              ['Others']\n",
      "3                                   ['Government/Public']\n",
      "4                                          ['War/Terror']\n",
      "                              ...                        \n",
      "3480                                 ['Labor/Employment']\n",
      "3481                                         ['Religion']\n",
      "3482                                        ['Education']\n",
      "3483                                ['Conspiracy Theory']\n",
      "3484                                ['Conspiracy Theory']\n",
      "Name: annotations, Length: 3485, dtype: object\n",
      "['Conspiracy Theory', 'Education', 'Election Campaign', 'Environment', 'Government/Public', 'Health', 'Immigration/Integration', 'Justice/Crime', 'Labor/Employment', 'Macroeconomics/Economic Regulation', 'Media/Journalism', 'Others', 'Religion', 'Science/Technology', 'War/Terror']\n"
     ]
    },
    {
     "name": "stderr",
     "output_type": "stream",
     "text": [
      "/tmp/ipykernel_341441/3473448682.py:37: UserWarning: To copy construct from a tensor, it is recommended to use sourceTensor.clone().detach() or sourceTensor.clone().detach().requires_grad_(True), rather than torch.tensor(sourceTensor).\n",
      "  'label': torch.tensor(label, dtype=torch.float32)}\n",
      "You're using a RobertaTokenizerFast tokenizer. Please note that with a fast tokenizer, using the `__call__` method is faster than using a method to encode the text followed by a call to the `pad` method to get a padded encoding.\n",
      "/tmp/ipykernel_341441/3473448682.py:37: UserWarning: To copy construct from a tensor, it is recommended to use sourceTensor.clone().detach() or sourceTensor.clone().detach().requires_grad_(True), rather than torch.tensor(sourceTensor).\n",
      "  'label': torch.tensor(label, dtype=torch.float32)}\n"
     ]
    },
    {
     "name": "stdout",
     "output_type": "stream",
     "text": [
      "../models/weak_labeled/oa_with_rules_classification_only_distinct_generic_epochs_200_train_size_full_fold_4/\n",
      "0                                              ['Others']\n",
      "1       ['Health', 'Justice/Crime', 'Macroeconomics/Ec...\n",
      "2                                   ['Government/Public']\n",
      "3                                          ['War/Terror']\n",
      "4                                          ['War/Terror']\n",
      "                              ...                        \n",
      "3480                                 ['Labor/Employment']\n",
      "3481                                         ['Religion']\n",
      "3482                                        ['Education']\n",
      "3483                                ['Conspiracy Theory']\n",
      "3484                                ['Conspiracy Theory']\n",
      "Name: annotations, Length: 3485, dtype: object\n",
      "['Conspiracy Theory', 'Education', 'Election Campaign', 'Environment', 'Government/Public', 'Health', 'Immigration/Integration', 'Justice/Crime', 'Labor/Employment', 'Macroeconomics/Economic Regulation', 'Media/Journalism', 'Others', 'Religion', 'Science/Technology', 'War/Terror']\n"
     ]
    },
    {
     "name": "stderr",
     "output_type": "stream",
     "text": [
      "/tmp/ipykernel_341441/3473448682.py:37: UserWarning: To copy construct from a tensor, it is recommended to use sourceTensor.clone().detach() or sourceTensor.clone().detach().requires_grad_(True), rather than torch.tensor(sourceTensor).\n",
      "  'label': torch.tensor(label, dtype=torch.float32)}\n",
      "You're using a RobertaTokenizerFast tokenizer. Please note that with a fast tokenizer, using the `__call__` method is faster than using a method to encode the text followed by a call to the `pad` method to get a padded encoding.\n",
      "/tmp/ipykernel_341441/3473448682.py:37: UserWarning: To copy construct from a tensor, it is recommended to use sourceTensor.clone().detach() or sourceTensor.clone().detach().requires_grad_(True), rather than torch.tensor(sourceTensor).\n",
      "  'label': torch.tensor(label, dtype=torch.float32)}\n"
     ]
    },
    {
     "name": "stdout",
     "output_type": "stream",
     "text": [
      "[{'Conspiracy Theory': {'precision': 0.575, 'recall': 0.48936170212765956, 'f1-score': 0.5287356321839081, 'support': 47}, 'Education': {'precision': 0.75, 'recall': 0.5, 'f1-score': 0.6, 'support': 12}, 'Election Campaign': {'precision': 0.7692307692307693, 'recall': 0.7692307692307693, 'f1-score': 0.7692307692307693, 'support': 26}, 'Environment': {'precision': 0.8, 'recall': 0.8571428571428571, 'f1-score': 0.8275862068965518, 'support': 14}, 'Government/Public': {'precision': 0.7992277992277992, 'recall': 0.8214285714285714, 'f1-score': 0.8101761252446184, 'support': 252}, 'Health': {'precision': 0.9459459459459459, 'recall': 0.7777777777777778, 'f1-score': 0.8536585365853658, 'support': 45}, 'Immigration/Integration': {'precision': 0.775, 'recall': 0.775, 'f1-score': 0.775, 'support': 40}, 'Justice/Crime': {'precision': 0.8152173913043478, 'recall': 0.7009345794392523, 'f1-score': 0.7537688442211056, 'support': 107}, 'Labor/Employment': {'precision': 0.6818181818181818, 'recall': 0.7894736842105263, 'f1-score': 0.7317073170731707, 'support': 19}, 'Macroeconomics/Economic Regulation': {'precision': 0.7560975609756098, 'recall': 0.5344827586206896, 'f1-score': 0.6262626262626262, 'support': 58}, 'Media/Journalism': {'precision': 1.0, 'recall': 0.3684210526315789, 'f1-score': 0.5384615384615384, 'support': 38}, 'Others': {'precision': 0.8783068783068783, 'recall': 0.8097560975609757, 'f1-score': 0.8426395939086294, 'support': 205}, 'Religion': {'precision': 0.7142857142857143, 'recall': 0.45454545454545453, 'f1-score': 0.5555555555555556, 'support': 22}, 'Science/Technology': {'precision': 1.0, 'recall': 0.3, 'f1-score': 0.4615384615384615, 'support': 10}, 'War/Terror': {'precision': 0.9285714285714286, 'recall': 0.9135135135135135, 'f1-score': 0.9209809264305178, 'support': 185}, 'micro avg': {'precision': 0.8319755600814664, 'recall': 0.7564814814814815, 'f1-score': 0.7924345295829293, 'support': 1080}, 'macro avg': {'precision': 0.8125801113111116, 'recall': 0.6574045878819751, 'f1-score': 0.7063534755728546, 'support': 1080}, 'weighted avg': {'precision': 0.8349882850801658, 'recall': 0.7564814814814815, 'f1-score': 0.7856633985523348, 'support': 1080}, 'samples avg': {'precision': 0.8208333333333333, 'recall': 0.7915625, 'f1-score': 0.7910714285714286, 'support': 1080}}, {'Conspiracy Theory': {'precision': 0.7307692307692307, 'recall': 0.31666666666666665, 'f1-score': 0.44186046511627913, 'support': 60}, 'Education': {'precision': 0.6923076923076923, 'recall': 0.5625, 'f1-score': 0.6206896551724138, 'support': 16}, 'Election Campaign': {'precision': 0.9032258064516129, 'recall': 0.8, 'f1-score': 0.8484848484848486, 'support': 35}, 'Environment': {'precision': 0.5625, 'recall': 0.6428571428571429, 'f1-score': 0.6000000000000001, 'support': 14}, 'Government/Public': {'precision': 0.753731343283582, 'recall': 0.8278688524590164, 'f1-score': 0.7890625, 'support': 244}, 'Health': {'precision': 0.8421052631578947, 'recall': 0.7804878048780488, 'f1-score': 0.810126582278481, 'support': 41}, 'Immigration/Integration': {'precision': 0.8333333333333334, 'recall': 0.7777777777777778, 'f1-score': 0.8045977011494253, 'support': 45}, 'Justice/Crime': {'precision': 0.7435897435897436, 'recall': 0.7909090909090909, 'f1-score': 0.7665198237885461, 'support': 110}, 'Labor/Employment': {'precision': 0.7333333333333333, 'recall': 0.6875, 'f1-score': 0.7096774193548386, 'support': 16}, 'Macroeconomics/Economic Regulation': {'precision': 0.7741935483870968, 'recall': 0.48, 'f1-score': 0.5925925925925926, 'support': 50}, 'Media/Journalism': {'precision': 0.6944444444444444, 'recall': 0.78125, 'f1-score': 0.7352941176470588, 'support': 32}, 'Others': {'precision': 0.8737373737373737, 'recall': 0.7489177489177489, 'f1-score': 0.8065268065268066, 'support': 231}, 'Religion': {'precision': 0.8571428571428571, 'recall': 0.8571428571428571, 'f1-score': 0.8571428571428571, 'support': 14}, 'Science/Technology': {'precision': 0.75, 'recall': 0.21428571428571427, 'f1-score': 0.3333333333333333, 'support': 14}, 'War/Terror': {'precision': 0.9415204678362573, 'recall': 0.9044943820224719, 'f1-score': 0.9226361031518625, 'support': 178}, 'micro avg': {'precision': 0.8137254901960784, 'recall': 0.7545454545454545, 'f1-score': 0.7830188679245282, 'support': 1100}, 'macro avg': {'precision': 0.7790622958516302, 'recall': 0.678177202527769, 'f1-score': 0.709236320382623, 'support': 1100}, 'weighted avg': {'precision': 0.8152107500704731, 'recall': 0.7545454545454545, 'f1-score': 0.7750251041527186, 'support': 1100}, 'samples avg': {'precision': 0.8080208333333333, 'recall': 0.7841666666666667, 'f1-score': 0.7793690476190476, 'support': 1100}}, {'Conspiracy Theory': {'precision': 0.5428571428571428, 'recall': 0.4318181818181818, 'f1-score': 0.4810126582278481, 'support': 44}, 'Education': {'precision': 0.7777777777777778, 'recall': 0.6363636363636364, 'f1-score': 0.7000000000000001, 'support': 11}, 'Election Campaign': {'precision': 1.0, 'recall': 0.4, 'f1-score': 0.5714285714285715, 'support': 25}, 'Environment': {'precision': 0.875, 'recall': 0.6363636363636364, 'f1-score': 0.7368421052631579, 'support': 11}, 'Government/Public': {'precision': 0.7711864406779662, 'recall': 0.7338709677419355, 'f1-score': 0.7520661157024793, 'support': 248}, 'Health': {'precision': 0.9310344827586207, 'recall': 0.675, 'f1-score': 0.7826086956521738, 'support': 40}, 'Immigration/Integration': {'precision': 0.6571428571428571, 'recall': 0.7931034482758621, 'f1-score': 0.71875, 'support': 29}, 'Justice/Crime': {'precision': 0.8762886597938144, 'recall': 0.7391304347826086, 'f1-score': 0.8018867924528302, 'support': 115}, 'Labor/Employment': {'precision': 0.75, 'recall': 0.3, 'f1-score': 0.4285714285714285, 'support': 20}, 'Macroeconomics/Economic Regulation': {'precision': 0.8235294117647058, 'recall': 0.5833333333333334, 'f1-score': 0.6829268292682927, 'support': 48}, 'Media/Journalism': {'precision': 0.7872340425531915, 'recall': 0.8222222222222222, 'f1-score': 0.8043478260869565, 'support': 45}, 'Others': {'precision': 0.8648648648648649, 'recall': 0.7582938388625592, 'f1-score': 0.8080808080808082, 'support': 211}, 'Religion': {'precision': 0.45454545454545453, 'recall': 0.5, 'f1-score': 0.47619047619047616, 'support': 10}, 'Science/Technology': {'precision': 1.0, 'recall': 0.36363636363636365, 'f1-score': 0.5333333333333333, 'support': 11}, 'War/Terror': {'precision': 0.8883495145631068, 'recall': 0.915, 'f1-score': 0.9014778325123154, 'support': 200}, 'micro avg': {'precision': 0.8207547169811321, 'recall': 0.7331460674157303, 'f1-score': 0.7744807121661721, 'support': 1068}, 'macro avg': {'precision': 0.7999873766199669, 'recall': 0.6192090708933559, 'f1-score': 0.6786348981847113, 'support': 1068}, 'weighted avg': {'precision': 0.8249522591735428, 'recall': 0.7331460674157303, 'f1-score': 0.768829369891682, 'support': 1068}, 'samples avg': {'precision': 0.801875, 'recall': 0.7666666666666666, 'f1-score': 0.7675, 'support': 1068}}, {'Conspiracy Theory': {'precision': 0.5869565217391305, 'recall': 0.5625, 'f1-score': 0.5744680851063831, 'support': 48}, 'Education': {'precision': 1.0, 'recall': 0.3, 'f1-score': 0.4615384615384615, 'support': 10}, 'Election Campaign': {'precision': 0.8260869565217391, 'recall': 0.7916666666666666, 'f1-score': 0.8085106382978724, 'support': 24}, 'Environment': {'precision': 0.42857142857142855, 'recall': 0.375, 'f1-score': 0.39999999999999997, 'support': 8}, 'Government/Public': {'precision': 0.7686274509803922, 'recall': 0.784, 'f1-score': 0.7762376237623763, 'support': 250}, 'Health': {'precision': 0.926829268292683, 'recall': 0.7755102040816326, 'f1-score': 0.8444444444444446, 'support': 49}, 'Immigration/Integration': {'precision': 0.8108108108108109, 'recall': 0.6666666666666666, 'f1-score': 0.7317073170731707, 'support': 45}, 'Justice/Crime': {'precision': 0.8035714285714286, 'recall': 0.7758620689655172, 'f1-score': 0.7894736842105263, 'support': 116}, 'Labor/Employment': {'precision': 1.0, 'recall': 0.3333333333333333, 'f1-score': 0.5, 'support': 24}, 'Macroeconomics/Economic Regulation': {'precision': 0.8888888888888888, 'recall': 0.8571428571428571, 'f1-score': 0.8727272727272727, 'support': 56}, 'Media/Journalism': {'precision': 0.5945945945945946, 'recall': 0.5641025641025641, 'f1-score': 0.5789473684210528, 'support': 39}, 'Others': {'precision': 0.872093023255814, 'recall': 0.7978723404255319, 'f1-score': 0.8333333333333334, 'support': 188}, 'Religion': {'precision': 0.8461538461538461, 'recall': 0.6875, 'f1-score': 0.7586206896551724, 'support': 16}, 'Science/Technology': {'precision': 0.3333333333333333, 'recall': 0.14285714285714285, 'f1-score': 0.2, 'support': 7}, 'War/Terror': {'precision': 0.9263157894736842, 'recall': 0.8888888888888888, 'f1-score': 0.9072164948453608, 'support': 198}, 'micro avg': {'precision': 0.8211788211788211, 'recall': 0.7625231910946196, 'f1-score': 0.7907647907647908, 'support': 1078}, 'macro avg': {'precision': 0.7741888894125183, 'recall': 0.6201935155420534, 'f1-score': 0.6691483608943618, 'support': 1078}, 'weighted avg': {'precision': 0.8245859156284114, 'recall': 0.7625231910946196, 'f1-score': 0.7866625294029729, 'support': 1078}, 'samples avg': {'precision': 0.8253125, 'recall': 0.8012291666666665, 'f1-score': 0.7961190476190475, 'support': 1078}}, {'Conspiracy Theory': {'precision': 0.6111111111111112, 'recall': 0.2, 'f1-score': 0.30136986301369867, 'support': 55}, 'Education': {'precision': 0.7142857142857143, 'recall': 0.7142857142857143, 'f1-score': 0.7142857142857143, 'support': 14}, 'Election Campaign': {'precision': 0.7619047619047619, 'recall': 0.6956521739130435, 'f1-score': 0.7272727272727272, 'support': 23}, 'Environment': {'precision': 0.5, 'recall': 0.8181818181818182, 'f1-score': 0.6206896551724137, 'support': 11}, 'Government/Public': {'precision': 0.8, 'recall': 0.7086614173228346, 'f1-score': 0.7515657620041754, 'support': 254}, 'Health': {'precision': 0.8717948717948718, 'recall': 0.8717948717948718, 'f1-score': 0.8717948717948718, 'support': 39}, 'Immigration/Integration': {'precision': 0.8181818181818182, 'recall': 0.6428571428571429, 'f1-score': 0.7200000000000001, 'support': 42}, 'Justice/Crime': {'precision': 0.8315789473684211, 'recall': 0.6370967741935484, 'f1-score': 0.7214611872146119, 'support': 124}, 'Labor/Employment': {'precision': 0.7692307692307693, 'recall': 0.5555555555555556, 'f1-score': 0.6451612903225806, 'support': 18}, 'Macroeconomics/Economic Regulation': {'precision': 0.6363636363636364, 'recall': 0.7368421052631579, 'f1-score': 0.6829268292682926, 'support': 38}, 'Media/Journalism': {'precision': 0.6333333333333333, 'recall': 0.6333333333333333, 'f1-score': 0.6333333333333333, 'support': 30}, 'Others': {'precision': 0.8775510204081632, 'recall': 0.7747747747747747, 'f1-score': 0.8229665071770335, 'support': 222}, 'Religion': {'precision': 0.3, 'recall': 0.6666666666666666, 'f1-score': 0.41379310344827586, 'support': 9}, 'Science/Technology': {'precision': 0.25, 'recall': 0.16666666666666666, 'f1-score': 0.2, 'support': 12}, 'War/Terror': {'precision': 0.9252873563218391, 'recall': 0.9044943820224719, 'f1-score': 0.9147727272727272, 'support': 178}, 'micro avg': {'precision': 0.8059071729957806, 'recall': 0.7146866230121609, 'f1-score': 0.7575607337630144, 'support': 1069}, 'macro avg': {'precision': 0.6867082226869627, 'recall': 0.6484575597887733, 'f1-score': 0.6494262381053636, 'support': 1069}, 'weighted avg': {'precision': 0.8078202006137631, 'recall': 0.7146866230121609, 'f1-score': 0.7511183001688289, 'support': 1069}, 'samples avg': {'precision': 0.7972916666666666, 'recall': 0.7507291666666667, 'f1-score': 0.7574583333333333, 'support': 1069}}]\n",
      "5\n",
      "[{'Conspiracy Theory': {'precision': 0.45652173913043476, 'recall': 0.4666666666666667, 'f1-score': 0.46153846153846156, 'support': 45}, 'Education': {'precision': 0.5555555555555556, 'recall': 0.38461538461538464, 'f1-score': 0.4545454545454546, 'support': 13}, 'Election Campaign': {'precision': 0.8064516129032258, 'recall': 0.7575757575757576, 'f1-score': 0.7812499999999999, 'support': 33}, 'Environment': {'precision': 0.6, 'recall': 0.6428571428571429, 'f1-score': 0.6206896551724138, 'support': 14}, 'Government/Public': {'precision': 0.7703180212014135, 'recall': 0.7491408934707904, 'f1-score': 0.759581881533101, 'support': 291}, 'Health': {'precision': 0.8846153846153846, 'recall': 0.5, 'f1-score': 0.6388888888888888, 'support': 46}, 'Immigration/Integration': {'precision': 0.8275862068965517, 'recall': 0.6666666666666666, 'f1-score': 0.7384615384615385, 'support': 36}, 'Justice/Crime': {'precision': 0.8582677165354331, 'recall': 0.7956204379562044, 'f1-score': 0.8257575757575758, 'support': 137}, 'Labor/Employment': {'precision': 0.7272727272727273, 'recall': 0.5714285714285714, 'f1-score': 0.64, 'support': 28}, 'Macroeconomics/Economic Regulation': {'precision': 0.8222222222222222, 'recall': 0.5967741935483871, 'f1-score': 0.6915887850467289, 'support': 62}, 'Media/Journalism': {'precision': 0.875, 'recall': 0.2916666666666667, 'f1-score': 0.43750000000000006, 'support': 48}, 'Others': {'precision': 0.875, 'recall': 0.7749077490774908, 'f1-score': 0.8219178082191781, 'support': 271}, 'Religion': {'precision': 0.6666666666666666, 'recall': 0.5454545454545454, 'f1-score': 0.6, 'support': 11}, 'Science/Technology': {'precision': 0.8, 'recall': 0.36363636363636365, 'f1-score': 0.5000000000000001, 'support': 11}, 'War/Terror': {'precision': 0.930327868852459, 'recall': 0.8901960784313725, 'f1-score': 0.9098196392785571, 'support': 255}, 'micro avg': {'precision': 0.8265039232781168, 'recall': 0.7286702536510377, 'f1-score': 0.7745098039215687, 'support': 1301}, 'macro avg': {'precision': 0.763720381456805, 'recall': 0.599813807870134, 'f1-score': 0.6587693125627933, 'support': 1301}, 'weighted avg': {'precision': 0.8292410378298017, 'recall': 0.7286702536510377, 'f1-score': 0.7685873061072149, 'support': 1301}, 'samples avg': {'precision': 0.8071666666666666, 'recall': 0.7684, 'f1-score': 0.7733095238095239, 'support': 1301}}, {'Conspiracy Theory': {'precision': 0.5652173913043478, 'recall': 0.28888888888888886, 'f1-score': 0.38235294117647056, 'support': 45}, 'Education': {'precision': 0.5, 'recall': 0.6923076923076923, 'f1-score': 0.5806451612903226, 'support': 13}, 'Election Campaign': {'precision': 0.84, 'recall': 0.6363636363636364, 'f1-score': 0.7241379310344828, 'support': 33}, 'Environment': {'precision': 0.5625, 'recall': 0.6428571428571429, 'f1-score': 0.6000000000000001, 'support': 14}, 'Government/Public': {'precision': 0.7566666666666667, 'recall': 0.7800687285223368, 'f1-score': 0.7681895093062606, 'support': 291}, 'Health': {'precision': 0.7105263157894737, 'recall': 0.5869565217391305, 'f1-score': 0.6428571428571428, 'support': 46}, 'Immigration/Integration': {'precision': 0.8387096774193549, 'recall': 0.7222222222222222, 'f1-score': 0.7761194029850746, 'support': 36}, 'Justice/Crime': {'precision': 0.7902097902097902, 'recall': 0.8248175182481752, 'f1-score': 0.8071428571428572, 'support': 137}, 'Labor/Employment': {'precision': 0.625, 'recall': 0.5357142857142857, 'f1-score': 0.576923076923077, 'support': 28}, 'Macroeconomics/Economic Regulation': {'precision': 0.8085106382978723, 'recall': 0.6129032258064516, 'f1-score': 0.6972477064220183, 'support': 62}, 'Media/Journalism': {'precision': 0.8372093023255814, 'recall': 0.75, 'f1-score': 0.7912087912087912, 'support': 48}, 'Others': {'precision': 0.8669354838709677, 'recall': 0.7933579335793358, 'f1-score': 0.8285163776493256, 'support': 271}, 'Religion': {'precision': 0.5, 'recall': 0.5454545454545454, 'f1-score': 0.5217391304347826, 'support': 11}, 'Science/Technology': {'precision': 0.38461538461538464, 'recall': 0.45454545454545453, 'f1-score': 0.41666666666666663, 'support': 11}, 'War/Terror': {'precision': 0.950207468879668, 'recall': 0.8980392156862745, 'f1-score': 0.9233870967741935, 'support': 255}, 'micro avg': {'precision': 0.809328968903437, 'recall': 0.760184473481937, 'f1-score': 0.7839873166864845, 'support': 1301}, 'macro avg': {'precision': 0.7024205412919405, 'recall': 0.6509664674623715, 'f1-score': 0.6691422527914311, 'support': 1301}, 'weighted avg': {'precision': 0.8098717746280264, 'recall': 0.760184473481937, 'f1-score': 0.7812141465088192, 'support': 1301}, 'samples avg': {'precision': 0.8205, 'recall': 0.7984000000000001, 'f1-score': 0.7950095238095238, 'support': 1301}}, {'Conspiracy Theory': {'precision': 0.4634146341463415, 'recall': 0.4222222222222222, 'f1-score': 0.4418604651162791, 'support': 45}, 'Education': {'precision': 0.5454545454545454, 'recall': 0.46153846153846156, 'f1-score': 0.4999999999999999, 'support': 13}, 'Election Campaign': {'precision': 0.85, 'recall': 0.5151515151515151, 'f1-score': 0.6415094339622641, 'support': 33}, 'Environment': {'precision': 0.7, 'recall': 0.5, 'f1-score': 0.5833333333333334, 'support': 14}, 'Government/Public': {'precision': 0.8062015503875969, 'recall': 0.7147766323024055, 'f1-score': 0.7577413479052824, 'support': 291}, 'Health': {'precision': 0.7575757575757576, 'recall': 0.5434782608695652, 'f1-score': 0.6329113924050633, 'support': 46}, 'Immigration/Integration': {'precision': 0.6666666666666666, 'recall': 0.7222222222222222, 'f1-score': 0.6933333333333334, 'support': 36}, 'Justice/Crime': {'precision': 0.8879310344827587, 'recall': 0.7518248175182481, 'f1-score': 0.8142292490118578, 'support': 137}, 'Labor/Employment': {'precision': 0.7619047619047619, 'recall': 0.5714285714285714, 'f1-score': 0.6530612244897959, 'support': 28}, 'Macroeconomics/Economic Regulation': {'precision': 0.8260869565217391, 'recall': 0.6129032258064516, 'f1-score': 0.7037037037037037, 'support': 62}, 'Media/Journalism': {'precision': 0.7083333333333334, 'recall': 0.7083333333333334, 'f1-score': 0.7083333333333334, 'support': 48}, 'Others': {'precision': 0.8458498023715415, 'recall': 0.7896678966789668, 'f1-score': 0.816793893129771, 'support': 271}, 'Religion': {'precision': 0.5333333333333333, 'recall': 0.7272727272727273, 'f1-score': 0.6153846153846153, 'support': 11}, 'Science/Technology': {'precision': 1.0, 'recall': 0.2727272727272727, 'f1-score': 0.42857142857142855, 'support': 11}, 'War/Terror': {'precision': 0.9196787148594378, 'recall': 0.8980392156862745, 'f1-score': 0.9087301587301587, 'support': 255}, 'micro avg': {'precision': 0.819432502149613, 'recall': 0.7325134511913912, 'f1-score': 0.773538961038961, 'support': 1301}, 'macro avg': {'precision': 0.7514954060691876, 'recall': 0.6141057583172158, 'f1-score': 0.6599664608273479, 'support': 1301}, 'weighted avg': {'precision': 0.8209492816288242, 'recall': 0.7325134511913912, 'f1-score': 0.7704246412271846, 'support': 1301}, 'samples avg': {'precision': 0.8131666666666666, 'recall': 0.76855, 'f1-score': 0.7756222222222221, 'support': 1301}}, {'Conspiracy Theory': {'precision': 0.4878048780487805, 'recall': 0.4444444444444444, 'f1-score': 0.46511627906976744, 'support': 45}, 'Education': {'precision': 0.5384615384615384, 'recall': 0.5384615384615384, 'f1-score': 0.5384615384615384, 'support': 13}, 'Election Campaign': {'precision': 0.8235294117647058, 'recall': 0.8484848484848485, 'f1-score': 0.8358208955223881, 'support': 33}, 'Environment': {'precision': 0.8, 'recall': 0.2857142857142857, 'f1-score': 0.4210526315789473, 'support': 14}, 'Government/Public': {'precision': 0.754325259515571, 'recall': 0.7491408934707904, 'f1-score': 0.7517241379310345, 'support': 291}, 'Health': {'precision': 0.7741935483870968, 'recall': 0.5217391304347826, 'f1-score': 0.6233766233766235, 'support': 46}, 'Immigration/Integration': {'precision': 0.8461538461538461, 'recall': 0.6111111111111112, 'f1-score': 0.7096774193548387, 'support': 36}, 'Justice/Crime': {'precision': 0.7916666666666666, 'recall': 0.8321167883211679, 'f1-score': 0.8113879003558718, 'support': 137}, 'Labor/Employment': {'precision': 0.7368421052631579, 'recall': 0.5, 'f1-score': 0.5957446808510638, 'support': 28}, 'Macroeconomics/Economic Regulation': {'precision': 0.7627118644067796, 'recall': 0.7258064516129032, 'f1-score': 0.743801652892562, 'support': 62}, 'Media/Journalism': {'precision': 0.782608695652174, 'recall': 0.75, 'f1-score': 0.7659574468085107, 'support': 48}, 'Others': {'precision': 0.8379446640316206, 'recall': 0.7822878228782287, 'f1-score': 0.8091603053435114, 'support': 271}, 'Religion': {'precision': 0.5454545454545454, 'recall': 0.5454545454545454, 'f1-score': 0.5454545454545454, 'support': 11}, 'Science/Technology': {'precision': 0.6666666666666666, 'recall': 0.36363636363636365, 'f1-score': 0.4705882352941177, 'support': 11}, 'War/Terror': {'precision': 0.940677966101695, 'recall': 0.8705882352941177, 'f1-score': 0.9042769857433809, 'support': 255}, 'micro avg': {'precision': 0.8046166529266282, 'recall': 0.7501921598770177, 'f1-score': 0.7764518695306284, 'support': 1301}, 'macro avg': {'precision': 0.7392694437716563, 'recall': 0.6245990972879418, 'f1-score': 0.6661067518692468, 'support': 1301}, 'weighted avg': {'precision': 0.8048756850221889, 'recall': 0.7501921598770177, 'f1-score': 0.7733702481953375, 'support': 1301}, 'samples avg': {'precision': 0.8108333333333333, 'recall': 0.7847166666666667, 'f1-score': 0.7823888888888889, 'support': 1301}}, {'Conspiracy Theory': {'precision': 0.625, 'recall': 0.3333333333333333, 'f1-score': 0.43478260869565216, 'support': 45}, 'Education': {'precision': 0.625, 'recall': 0.7692307692307693, 'f1-score': 0.6896551724137931, 'support': 13}, 'Election Campaign': {'precision': 0.8846153846153846, 'recall': 0.696969696969697, 'f1-score': 0.7796610169491526, 'support': 33}, 'Environment': {'precision': 0.47619047619047616, 'recall': 0.7142857142857143, 'f1-score': 0.5714285714285714, 'support': 14}, 'Government/Public': {'precision': 0.8029739776951673, 'recall': 0.7422680412371134, 'f1-score': 0.7714285714285716, 'support': 291}, 'Health': {'precision': 0.717948717948718, 'recall': 0.6086956521739131, 'f1-score': 0.6588235294117647, 'support': 46}, 'Immigration/Integration': {'precision': 0.78125, 'recall': 0.6944444444444444, 'f1-score': 0.7352941176470588, 'support': 36}, 'Justice/Crime': {'precision': 0.8372093023255814, 'recall': 0.7883211678832117, 'f1-score': 0.81203007518797, 'support': 137}, 'Labor/Employment': {'precision': 0.7391304347826086, 'recall': 0.6071428571428571, 'f1-score': 0.6666666666666666, 'support': 28}, 'Macroeconomics/Economic Regulation': {'precision': 0.7777777777777778, 'recall': 0.6774193548387096, 'f1-score': 0.7241379310344828, 'support': 62}, 'Media/Journalism': {'precision': 0.7714285714285715, 'recall': 0.5625, 'f1-score': 0.6506024096385543, 'support': 48}, 'Others': {'precision': 0.8907563025210085, 'recall': 0.7822878228782287, 'f1-score': 0.8330058939096266, 'support': 271}, 'Religion': {'precision': 0.5714285714285714, 'recall': 0.7272727272727273, 'f1-score': 0.64, 'support': 11}, 'Science/Technology': {'precision': 0.5, 'recall': 0.45454545454545453, 'f1-score': 0.47619047619047616, 'support': 11}, 'War/Terror': {'precision': 0.9306122448979591, 'recall': 0.8941176470588236, 'f1-score': 0.9119999999999999, 'support': 255}, 'micro avg': {'precision': 0.828936170212766, 'recall': 0.7486548808608763, 'f1-score': 0.7867528271405493, 'support': 1301}, 'macro avg': {'precision': 0.728754784107455, 'recall': 0.6701889788863332, 'f1-score': 0.6903804693734895, 'support': 1301}, 'weighted avg': {'precision': 0.8286364011184533, 'recall': 0.7486548808608763, 'f1-score': 0.7841235049252624, 'support': 1301}, 'samples avg': {'precision': 0.8286666666666668, 'recall': 0.7890166666666667, 'f1-score': 0.7941833333333334, 'support': 1301}}]\n",
      "5\n",
      "\n",
      "Average Validation Classification Report In DataFrame Format:\n",
      "                                    precision    recall  f1-score  support\n",
      "Conspiracy Theory                    0.609339  0.400069  0.465489     50.8\n",
      "Education                            0.786874  0.542630  0.619303     12.6\n",
      "Election Campaign                    0.852090  0.691310  0.744986     26.6\n",
      "Environment                          0.633214  0.665909  0.637024     11.6\n",
      "Government/Public                    0.778555  0.775166  0.775822    249.6\n",
      "Health                               0.903542  0.776114  0.832527     42.8\n",
      "Immigration/Integration              0.778894  0.731081  0.750011     40.2\n",
      "Justice/Crime                        0.814049  0.728787  0.766622    114.4\n",
      "Labor/Employment                     0.786876  0.533173  0.603023     19.4\n",
      "Macroeconomics/Economic Regulation   0.775815  0.638360  0.691487     50.0\n",
      "Media/Journalism                     0.741921  0.633866  0.658077     36.8\n",
      "Others                               0.873311  0.777923  0.822709    211.4\n",
      "Religion                             0.634426  0.633171  0.612261     14.2\n",
      "Science/Technology                   0.666667  0.237489  0.345641     10.8\n",
      "War/Terror                           0.922009  0.905278  0.913417    187.8\n",
      "micro avg                            0.818708  0.744277  0.779652   1079.0\n",
      "macro avg                            0.770505  0.644688  0.682560   1079.0\n",
      "weighted avg                         0.821511  0.744277  0.773460   1079.0\n",
      "samples avg                          0.810667  0.778871  0.778304   1079.0\n",
      "\n",
      "Average Test Classification Report In DataFrame Format:\n",
      "                                    precision    recall  f1-score  support\n",
      "Conspiracy Theory                    0.519592  0.391111  0.437130     45.0\n",
      "Education                            0.552894  0.569231  0.552661     13.0\n",
      "Election Campaign                    0.840919  0.690909  0.752476     33.0\n",
      "Environment                          0.627738  0.557143  0.559301     14.0\n",
      "Government/Public                    0.778097  0.747079  0.761733    291.0\n",
      "Health                               0.768972  0.552174  0.639372     46.0\n",
      "Immigration/Integration              0.792073  0.683333  0.730577     36.0\n",
      "Justice/Crime                        0.833057  0.798540  0.814110    137.0\n",
      "Labor/Employment                     0.718030  0.557143  0.626479     28.0\n",
      "Macroeconomics/Economic Regulation   0.799462  0.645161  0.712096     62.0\n",
      "Media/Journalism                     0.794916  0.612500  0.670720     48.0\n",
      "Others                               0.863297  0.784502  0.821879    271.0\n",
      "Religion                             0.563377  0.618182  0.584516     11.0\n",
      "Science/Technology                   0.670256  0.381818  0.458403     11.0\n",
      "War/Terror                           0.934301  0.890196  0.911643    255.0\n",
      "micro avg                            0.817764  0.744043  0.779048   1301.0\n",
      "macro avg                            0.737132  0.631935  0.668873   1301.0\n",
      "weighted avg                         0.818715  0.744043  0.775544   1301.0\n",
      "samples avg                          0.816067  0.781817  0.784103   1301.0\n"
     ]
    }
   ],
   "source": [
    "generic_val_average_report_df, generic_test_average_report_df = calculate_metrics(\"oa_with_rules_classification_only_distinct_generic\")"
   ]
  },
  {
   "cell_type": "code",
   "execution_count": 10,
   "metadata": {},
   "outputs": [
    {
     "name": "stdout",
     "output_type": "stream",
     "text": [
      "../models/weak_labeled/oa_with_3_random_examples_classification_only_distinct_generic_epochs_200_train_size_full_fold_0/\n",
      "0                                  ['Science/Technology']\n",
      "1                                              ['Others']\n",
      "2       ['Health', 'Justice/Crime', 'Macroeconomics/Ec...\n",
      "3                                              ['Others']\n",
      "4                                   ['Government/Public']\n",
      "                              ...                        \n",
      "3759                                 ['Labor/Employment']\n",
      "3760                                 ['Labor/Employment']\n",
      "3761                                        ['Education']\n",
      "3762                                         ['Religion']\n",
      "3763                                         ['Religion']\n",
      "Name: annotations, Length: 3764, dtype: object\n",
      "['Conspiracy Theory', 'Education', 'Election Campaign', 'Environment', 'Government/Public', 'Health', 'Immigration/Integration', 'Justice/Crime', 'Labor/Employment', 'Macroeconomics/Economic Regulation', 'Media/Journalism', 'Others', 'Religion', 'Science/Technology', 'War/Terror']\n"
     ]
    },
    {
     "name": "stderr",
     "output_type": "stream",
     "text": [
      "/tmp/ipykernel_341441/3473448682.py:37: UserWarning: To copy construct from a tensor, it is recommended to use sourceTensor.clone().detach() or sourceTensor.clone().detach().requires_grad_(True), rather than torch.tensor(sourceTensor).\n",
      "  'label': torch.tensor(label, dtype=torch.float32)}\n",
      "You're using a RobertaTokenizerFast tokenizer. Please note that with a fast tokenizer, using the `__call__` method is faster than using a method to encode the text followed by a call to the `pad` method to get a padded encoding.\n",
      "/tmp/ipykernel_341441/3473448682.py:37: UserWarning: To copy construct from a tensor, it is recommended to use sourceTensor.clone().detach() or sourceTensor.clone().detach().requires_grad_(True), rather than torch.tensor(sourceTensor).\n",
      "  'label': torch.tensor(label, dtype=torch.float32)}\n"
     ]
    },
    {
     "name": "stdout",
     "output_type": "stream",
     "text": [
      "../models/weak_labeled/oa_with_3_random_examples_classification_only_distinct_generic_epochs_200_train_size_full_fold_1/\n",
      "0                                  ['Science/Technology']\n",
      "1                                              ['Others']\n",
      "2       ['Health', 'Justice/Crime', 'Macroeconomics/Ec...\n",
      "3                                              ['Others']\n",
      "4                                          ['War/Terror']\n",
      "                              ...                        \n",
      "3759                                 ['Labor/Employment']\n",
      "3760                                 ['Labor/Employment']\n",
      "3761                                        ['Education']\n",
      "3762                                         ['Religion']\n",
      "3763                                         ['Religion']\n",
      "Name: annotations, Length: 3764, dtype: object\n",
      "['Conspiracy Theory', 'Education', 'Election Campaign', 'Environment', 'Government/Public', 'Health', 'Immigration/Integration', 'Justice/Crime', 'Labor/Employment', 'Macroeconomics/Economic Regulation', 'Media/Journalism', 'Others', 'Religion', 'Science/Technology', 'War/Terror']\n"
     ]
    },
    {
     "name": "stderr",
     "output_type": "stream",
     "text": [
      "/tmp/ipykernel_341441/3473448682.py:37: UserWarning: To copy construct from a tensor, it is recommended to use sourceTensor.clone().detach() or sourceTensor.clone().detach().requires_grad_(True), rather than torch.tensor(sourceTensor).\n",
      "  'label': torch.tensor(label, dtype=torch.float32)}\n",
      "You're using a RobertaTokenizerFast tokenizer. Please note that with a fast tokenizer, using the `__call__` method is faster than using a method to encode the text followed by a call to the `pad` method to get a padded encoding.\n",
      "/tmp/ipykernel_341441/3473448682.py:37: UserWarning: To copy construct from a tensor, it is recommended to use sourceTensor.clone().detach() or sourceTensor.clone().detach().requires_grad_(True), rather than torch.tensor(sourceTensor).\n",
      "  'label': torch.tensor(label, dtype=torch.float32)}\n"
     ]
    },
    {
     "name": "stdout",
     "output_type": "stream",
     "text": [
      "../models/weak_labeled/oa_with_3_random_examples_classification_only_distinct_generic_epochs_200_train_size_full_fold_2/\n",
      "0       ['Science/Technology']\n",
      "1                   ['Others']\n",
      "2                   ['Others']\n",
      "3        ['Government/Public']\n",
      "4               ['War/Terror']\n",
      "                 ...          \n",
      "3759      ['Labor/Employment']\n",
      "3760      ['Labor/Employment']\n",
      "3761             ['Education']\n",
      "3762              ['Religion']\n",
      "3763              ['Religion']\n",
      "Name: annotations, Length: 3764, dtype: object\n",
      "['Conspiracy Theory', 'Education', 'Election Campaign', 'Environment', 'Government/Public', 'Health', 'Immigration/Integration', 'Justice/Crime', 'Labor/Employment', 'Macroeconomics/Economic Regulation', 'Media/Journalism', 'Others', 'Religion', 'Science/Technology', 'War/Terror']\n"
     ]
    },
    {
     "name": "stderr",
     "output_type": "stream",
     "text": [
      "/tmp/ipykernel_341441/3473448682.py:37: UserWarning: To copy construct from a tensor, it is recommended to use sourceTensor.clone().detach() or sourceTensor.clone().detach().requires_grad_(True), rather than torch.tensor(sourceTensor).\n",
      "  'label': torch.tensor(label, dtype=torch.float32)}\n",
      "You're using a RobertaTokenizerFast tokenizer. Please note that with a fast tokenizer, using the `__call__` method is faster than using a method to encode the text followed by a call to the `pad` method to get a padded encoding.\n",
      "/tmp/ipykernel_341441/3473448682.py:37: UserWarning: To copy construct from a tensor, it is recommended to use sourceTensor.clone().detach() or sourceTensor.clone().detach().requires_grad_(True), rather than torch.tensor(sourceTensor).\n",
      "  'label': torch.tensor(label, dtype=torch.float32)}\n"
     ]
    },
    {
     "name": "stdout",
     "output_type": "stream",
     "text": [
      "../models/weak_labeled/oa_with_3_random_examples_classification_only_distinct_generic_epochs_200_train_size_full_fold_3/\n",
      "0                                  ['Science/Technology']\n",
      "1       ['Health', 'Justice/Crime', 'Macroeconomics/Ec...\n",
      "2                                              ['Others']\n",
      "3                                   ['Government/Public']\n",
      "4                                          ['War/Terror']\n",
      "                              ...                        \n",
      "3759                                 ['Labor/Employment']\n",
      "3760                                 ['Labor/Employment']\n",
      "3761                                        ['Education']\n",
      "3762                                         ['Religion']\n",
      "3763                                         ['Religion']\n",
      "Name: annotations, Length: 3764, dtype: object\n",
      "['Conspiracy Theory', 'Education', 'Election Campaign', 'Environment', 'Government/Public', 'Health', 'Immigration/Integration', 'Justice/Crime', 'Labor/Employment', 'Macroeconomics/Economic Regulation', 'Media/Journalism', 'Others', 'Religion', 'Science/Technology', 'War/Terror']\n"
     ]
    },
    {
     "name": "stderr",
     "output_type": "stream",
     "text": [
      "/tmp/ipykernel_341441/3473448682.py:37: UserWarning: To copy construct from a tensor, it is recommended to use sourceTensor.clone().detach() or sourceTensor.clone().detach().requires_grad_(True), rather than torch.tensor(sourceTensor).\n",
      "  'label': torch.tensor(label, dtype=torch.float32)}\n",
      "You're using a RobertaTokenizerFast tokenizer. Please note that with a fast tokenizer, using the `__call__` method is faster than using a method to encode the text followed by a call to the `pad` method to get a padded encoding.\n",
      "/tmp/ipykernel_341441/3473448682.py:37: UserWarning: To copy construct from a tensor, it is recommended to use sourceTensor.clone().detach() or sourceTensor.clone().detach().requires_grad_(True), rather than torch.tensor(sourceTensor).\n",
      "  'label': torch.tensor(label, dtype=torch.float32)}\n"
     ]
    },
    {
     "name": "stdout",
     "output_type": "stream",
     "text": [
      "../models/weak_labeled/oa_with_3_random_examples_classification_only_distinct_generic_epochs_200_train_size_full_fold_4/\n",
      "0                                              ['Others']\n",
      "1       ['Health', 'Justice/Crime', 'Macroeconomics/Ec...\n",
      "2                                   ['Government/Public']\n",
      "3                                          ['War/Terror']\n",
      "4                                          ['War/Terror']\n",
      "                              ...                        \n",
      "3759                                 ['Labor/Employment']\n",
      "3760                                 ['Labor/Employment']\n",
      "3761                                        ['Education']\n",
      "3762                                         ['Religion']\n",
      "3763                                         ['Religion']\n",
      "Name: annotations, Length: 3764, dtype: object\n",
      "['Conspiracy Theory', 'Education', 'Election Campaign', 'Environment', 'Government/Public', 'Health', 'Immigration/Integration', 'Justice/Crime', 'Labor/Employment', 'Macroeconomics/Economic Regulation', 'Media/Journalism', 'Others', 'Religion', 'Science/Technology', 'War/Terror']\n"
     ]
    },
    {
     "name": "stderr",
     "output_type": "stream",
     "text": [
      "/tmp/ipykernel_341441/3473448682.py:37: UserWarning: To copy construct from a tensor, it is recommended to use sourceTensor.clone().detach() or sourceTensor.clone().detach().requires_grad_(True), rather than torch.tensor(sourceTensor).\n",
      "  'label': torch.tensor(label, dtype=torch.float32)}\n",
      "You're using a RobertaTokenizerFast tokenizer. Please note that with a fast tokenizer, using the `__call__` method is faster than using a method to encode the text followed by a call to the `pad` method to get a padded encoding.\n",
      "/tmp/ipykernel_341441/3473448682.py:37: UserWarning: To copy construct from a tensor, it is recommended to use sourceTensor.clone().detach() or sourceTensor.clone().detach().requires_grad_(True), rather than torch.tensor(sourceTensor).\n",
      "  'label': torch.tensor(label, dtype=torch.float32)}\n"
     ]
    },
    {
     "name": "stdout",
     "output_type": "stream",
     "text": [
      "[{'Conspiracy Theory': {'precision': 0.6956521739130435, 'recall': 0.3404255319148936, 'f1-score': 0.4571428571428571, 'support': 47}, 'Education': {'precision': 0.7, 'recall': 0.5833333333333334, 'f1-score': 0.6363636363636365, 'support': 12}, 'Election Campaign': {'precision': 0.8421052631578947, 'recall': 0.6153846153846154, 'f1-score': 0.7111111111111111, 'support': 26}, 'Environment': {'precision': 0.8, 'recall': 0.5714285714285714, 'f1-score': 0.6666666666666666, 'support': 14}, 'Government/Public': {'precision': 0.8165938864628821, 'recall': 0.7420634920634921, 'f1-score': 0.7775467775467776, 'support': 252}, 'Health': {'precision': 0.9230769230769231, 'recall': 0.8, 'f1-score': 0.8571428571428571, 'support': 45}, 'Immigration/Integration': {'precision': 0.9285714285714286, 'recall': 0.65, 'f1-score': 0.7647058823529412, 'support': 40}, 'Justice/Crime': {'precision': 0.7906976744186046, 'recall': 0.6355140186915887, 'f1-score': 0.7046632124352331, 'support': 107}, 'Labor/Employment': {'precision': 0.6666666666666666, 'recall': 0.631578947368421, 'f1-score': 0.6486486486486486, 'support': 19}, 'Macroeconomics/Economic Regulation': {'precision': 0.8333333333333334, 'recall': 0.603448275862069, 'f1-score': 0.7, 'support': 58}, 'Media/Journalism': {'precision': 0.8260869565217391, 'recall': 0.5, 'f1-score': 0.6229508196721311, 'support': 38}, 'Others': {'precision': 0.8709677419354839, 'recall': 0.7902439024390244, 'f1-score': 0.8286445012787725, 'support': 205}, 'Religion': {'precision': 0.5909090909090909, 'recall': 0.5909090909090909, 'f1-score': 0.5909090909090909, 'support': 22}, 'Science/Technology': {'precision': 0.6666666666666666, 'recall': 0.2, 'f1-score': 0.30769230769230765, 'support': 10}, 'War/Terror': {'precision': 0.9425287356321839, 'recall': 0.8864864864864865, 'f1-score': 0.913649025069638, 'support': 185}, 'micro avg': {'precision': 0.8453947368421053, 'recall': 0.7138888888888889, 'f1-score': 0.7740963855421686, 'support': 1080}, 'macro avg': {'precision': 0.7929237694177294, 'recall': 0.6093877510587724, 'f1-score': 0.6791891596021781, 'support': 1080}, 'weighted avg': {'precision': 0.8409557337518472, 'recall': 0.7138888888888889, 'f1-score': 0.7676067468805778, 'support': 1080}, 'samples avg': {'precision': 0.8083333333333335, 'recall': 0.749375, 'f1-score': 0.7625833333333333, 'support': 1080}}, {'Conspiracy Theory': {'precision': 0.6170212765957447, 'recall': 0.48333333333333334, 'f1-score': 0.5420560747663552, 'support': 60}, 'Education': {'precision': 0.5714285714285714, 'recall': 0.5, 'f1-score': 0.5333333333333333, 'support': 16}, 'Election Campaign': {'precision': 0.8125, 'recall': 0.7428571428571429, 'f1-score': 0.7761194029850748, 'support': 35}, 'Environment': {'precision': 0.75, 'recall': 0.21428571428571427, 'f1-score': 0.3333333333333333, 'support': 14}, 'Government/Public': {'precision': 0.7534246575342466, 'recall': 0.6762295081967213, 'f1-score': 0.712742980561555, 'support': 244}, 'Health': {'precision': 0.8461538461538461, 'recall': 0.8048780487804879, 'f1-score': 0.8250000000000001, 'support': 41}, 'Immigration/Integration': {'precision': 0.875, 'recall': 0.6222222222222222, 'f1-score': 0.7272727272727274, 'support': 45}, 'Justice/Crime': {'precision': 0.8409090909090909, 'recall': 0.6727272727272727, 'f1-score': 0.7474747474747475, 'support': 110}, 'Labor/Employment': {'precision': 0.6875, 'recall': 0.6875, 'f1-score': 0.6875, 'support': 16}, 'Macroeconomics/Economic Regulation': {'precision': 0.6956521739130435, 'recall': 0.64, 'f1-score': 0.6666666666666666, 'support': 50}, 'Media/Journalism': {'precision': 0.7368421052631579, 'recall': 0.4375, 'f1-score': 0.5490196078431372, 'support': 32}, 'Others': {'precision': 0.8724489795918368, 'recall': 0.7402597402597403, 'f1-score': 0.800936768149883, 'support': 231}, 'Religion': {'precision': 0.6428571428571429, 'recall': 0.6428571428571429, 'f1-score': 0.6428571428571429, 'support': 14}, 'Science/Technology': {'precision': 0.75, 'recall': 0.21428571428571427, 'f1-score': 0.3333333333333333, 'support': 14}, 'War/Terror': {'precision': 0.9329268292682927, 'recall': 0.8595505617977528, 'f1-score': 0.8947368421052632, 'support': 178}, 'micro avg': {'precision': 0.8126338329764454, 'recall': 0.69, 'f1-score': 0.7463126843657817, 'support': 1100}, 'macro avg': {'precision': 0.7589776449009982, 'recall': 0.5958990934402164, 'f1-score': 0.6514921973788369, 'support': 1100}, 'weighted avg': {'precision': 0.8108752762080084, 'recall': 0.69, 'f1-score': 0.7412904587139214, 'support': 1100}, 'samples avg': {'precision': 0.7710416666666666, 'recall': 0.7254166666666666, 'f1-score': 0.7314940476190476, 'support': 1100}}, {'Conspiracy Theory': {'precision': 0.39622641509433965, 'recall': 0.4772727272727273, 'f1-score': 0.4329896907216495, 'support': 44}, 'Education': {'precision': 0.7, 'recall': 0.6363636363636364, 'f1-score': 0.6666666666666666, 'support': 11}, 'Election Campaign': {'precision': 0.9333333333333333, 'recall': 0.56, 'f1-score': 0.7000000000000001, 'support': 25}, 'Environment': {'precision': 0.75, 'recall': 0.8181818181818182, 'f1-score': 0.7826086956521738, 'support': 11}, 'Government/Public': {'precision': 0.8317757009345794, 'recall': 0.717741935483871, 'f1-score': 0.7705627705627706, 'support': 248}, 'Health': {'precision': 0.9285714285714286, 'recall': 0.65, 'f1-score': 0.7647058823529412, 'support': 40}, 'Immigration/Integration': {'precision': 0.8333333333333334, 'recall': 0.6896551724137931, 'f1-score': 0.7547169811320755, 'support': 29}, 'Justice/Crime': {'precision': 0.8316831683168316, 'recall': 0.7304347826086957, 'f1-score': 0.7777777777777777, 'support': 115}, 'Labor/Employment': {'precision': 0.7142857142857143, 'recall': 0.25, 'f1-score': 0.37037037037037035, 'support': 20}, 'Macroeconomics/Economic Regulation': {'precision': 0.7027027027027027, 'recall': 0.5416666666666666, 'f1-score': 0.611764705882353, 'support': 48}, 'Media/Journalism': {'precision': 0.9166666666666666, 'recall': 0.24444444444444444, 'f1-score': 0.3859649122807018, 'support': 45}, 'Others': {'precision': 0.8888888888888888, 'recall': 0.6445497630331753, 'f1-score': 0.7472527472527473, 'support': 211}, 'Religion': {'precision': 0.3125, 'recall': 0.5, 'f1-score': 0.38461538461538464, 'support': 10}, 'Science/Technology': {'precision': 0.7142857142857143, 'recall': 0.45454545454545453, 'f1-score': 0.5555555555555556, 'support': 11}, 'War/Terror': {'precision': 0.8910891089108911, 'recall': 0.9, 'f1-score': 0.8955223880597015, 'support': 200}, 'micro avg': {'precision': 0.8159371492704826, 'recall': 0.6807116104868914, 'f1-score': 0.7422154160285861, 'support': 1068}, 'macro avg': {'precision': 0.7563561450216283, 'recall': 0.5876570934009522, 'f1-score': 0.6400716352588579, 'support': 1068}, 'weighted avg': {'precision': 0.829561537271105, 'recall': 0.6807116104868914, 'f1-score': 0.736315750234219, 'support': 1068}, 'samples avg': {'precision': 0.7735416666666666, 'recall': 0.7209375, 'f1-score': 0.7302738095238095, 'support': 1068}}, {'Conspiracy Theory': {'precision': 0.5789473684210527, 'recall': 0.6875, 'f1-score': 0.6285714285714286, 'support': 48}, 'Education': {'precision': 0.35714285714285715, 'recall': 0.5, 'f1-score': 0.41666666666666663, 'support': 10}, 'Election Campaign': {'precision': 0.7368421052631579, 'recall': 0.5833333333333334, 'f1-score': 0.6511627906976745, 'support': 24}, 'Environment': {'precision': 0.5, 'recall': 0.125, 'f1-score': 0.2, 'support': 8}, 'Government/Public': {'precision': 0.8225806451612904, 'recall': 0.612, 'f1-score': 0.7018348623853211, 'support': 250}, 'Health': {'precision': 0.8409090909090909, 'recall': 0.7551020408163265, 'f1-score': 0.7956989247311828, 'support': 49}, 'Immigration/Integration': {'precision': 0.78125, 'recall': 0.5555555555555556, 'f1-score': 0.6493506493506493, 'support': 45}, 'Justice/Crime': {'precision': 0.8165137614678899, 'recall': 0.7672413793103449, 'f1-score': 0.7911111111111111, 'support': 116}, 'Labor/Employment': {'precision': 0.65, 'recall': 0.5416666666666666, 'f1-score': 0.5909090909090908, 'support': 24}, 'Macroeconomics/Economic Regulation': {'precision': 0.9722222222222222, 'recall': 0.625, 'f1-score': 0.7608695652173912, 'support': 56}, 'Media/Journalism': {'precision': 0.8421052631578947, 'recall': 0.41025641025641024, 'f1-score': 0.5517241379310346, 'support': 39}, 'Others': {'precision': 0.8390804597701149, 'recall': 0.776595744680851, 'f1-score': 0.8066298342541435, 'support': 188}, 'Religion': {'precision': 0.3870967741935484, 'recall': 0.75, 'f1-score': 0.5106382978723403, 'support': 16}, 'Science/Technology': {'precision': 0.14285714285714285, 'recall': 0.14285714285714285, 'f1-score': 0.14285714285714285, 'support': 7}, 'War/Terror': {'precision': 0.9086294416243654, 'recall': 0.9040404040404041, 'f1-score': 0.9063291139240507, 'support': 198}, 'micro avg': {'precision': 0.8014783526927138, 'recall': 0.7040816326530612, 'f1-score': 0.7496296296296298, 'support': 1078}, 'macro avg': {'precision': 0.6784118088127084, 'recall': 0.5824099118344691, 'f1-score': 0.6069569077652818, 'support': 1078}, 'weighted avg': {'precision': 0.8140097586551052, 'recall': 0.7040816326530612, 'f1-score': 0.7472923697668522, 'support': 1078}, 'samples avg': {'precision': 0.7780208333333333, 'recall': 0.7412083333333334, 'f1-score': 0.7431408730158731, 'support': 1078}}, {'Conspiracy Theory': {'precision': 0.5681818181818182, 'recall': 0.45454545454545453, 'f1-score': 0.5050505050505051, 'support': 55}, 'Education': {'precision': 0.75, 'recall': 0.42857142857142855, 'f1-score': 0.5454545454545454, 'support': 14}, 'Election Campaign': {'precision': 0.7272727272727273, 'recall': 0.6956521739130435, 'f1-score': 0.711111111111111, 'support': 23}, 'Environment': {'precision': 0.75, 'recall': 0.2727272727272727, 'f1-score': 0.39999999999999997, 'support': 11}, 'Government/Public': {'precision': 0.8028846153846154, 'recall': 0.65748031496063, 'f1-score': 0.7229437229437229, 'support': 254}, 'Health': {'precision': 0.8648648648648649, 'recall': 0.8205128205128205, 'f1-score': 0.8421052631578947, 'support': 39}, 'Immigration/Integration': {'precision': 0.9285714285714286, 'recall': 0.6190476190476191, 'f1-score': 0.742857142857143, 'support': 42}, 'Justice/Crime': {'precision': 0.865979381443299, 'recall': 0.6774193548387096, 'f1-score': 0.7601809954751131, 'support': 124}, 'Labor/Employment': {'precision': 0.875, 'recall': 0.3888888888888889, 'f1-score': 0.5384615384615385, 'support': 18}, 'Macroeconomics/Economic Regulation': {'precision': 0.7714285714285715, 'recall': 0.7105263157894737, 'f1-score': 0.7397260273972601, 'support': 38}, 'Media/Journalism': {'precision': 0.5294117647058824, 'recall': 0.6, 'f1-score': 0.5625, 'support': 30}, 'Others': {'precision': 0.9269662921348315, 'recall': 0.7432432432432432, 'f1-score': 0.8250000000000001, 'support': 222}, 'Religion': {'precision': 0.375, 'recall': 0.6666666666666666, 'f1-score': 0.4800000000000001, 'support': 9}, 'Science/Technology': {'precision': 0.5, 'recall': 0.08333333333333333, 'f1-score': 0.14285714285714285, 'support': 12}, 'War/Terror': {'precision': 0.9285714285714286, 'recall': 0.8764044943820225, 'f1-score': 0.9017341040462428, 'support': 178}, 'micro avg': {'precision': 0.8312710911136107, 'recall': 0.6913002806361085, 'f1-score': 0.7548518896833504, 'support': 1069}, 'macro avg': {'precision': 0.7442755261706312, 'recall': 0.5796679587613737, 'f1-score': 0.6279988065874813, 'support': 1069}, 'weighted avg': {'precision': 0.8345790531887493, 'recall': 0.6913002806361085, 'f1-score': 0.7506752144690318, 'support': 1069}, 'samples avg': {'precision': 0.7714583333333335, 'recall': 0.7188541666666666, 'f1-score': 0.7288630952380953, 'support': 1069}}]\n",
      "5\n",
      "[{'Conspiracy Theory': {'precision': 0.43478260869565216, 'recall': 0.2222222222222222, 'f1-score': 0.29411764705882354, 'support': 45}, 'Education': {'precision': 0.46153846153846156, 'recall': 0.46153846153846156, 'f1-score': 0.46153846153846156, 'support': 13}, 'Election Campaign': {'precision': 0.88, 'recall': 0.6666666666666666, 'f1-score': 0.7586206896551725, 'support': 33}, 'Environment': {'precision': 0.6153846153846154, 'recall': 0.5714285714285714, 'f1-score': 0.5925925925925927, 'support': 14}, 'Government/Public': {'precision': 0.8134920634920635, 'recall': 0.7044673539518901, 'f1-score': 0.7550644567219154, 'support': 291}, 'Health': {'precision': 0.7567567567567568, 'recall': 0.6086956521739131, 'f1-score': 0.674698795180723, 'support': 46}, 'Immigration/Integration': {'precision': 0.84, 'recall': 0.5833333333333334, 'f1-score': 0.6885245901639344, 'support': 36}, 'Justice/Crime': {'precision': 0.848, 'recall': 0.7737226277372263, 'f1-score': 0.8091603053435115, 'support': 137}, 'Labor/Employment': {'precision': 0.6842105263157895, 'recall': 0.4642857142857143, 'f1-score': 0.5531914893617021, 'support': 28}, 'Macroeconomics/Economic Regulation': {'precision': 0.85, 'recall': 0.5483870967741935, 'f1-score': 0.6666666666666665, 'support': 62}, 'Media/Journalism': {'precision': 0.6206896551724138, 'recall': 0.375, 'f1-score': 0.4675324675324676, 'support': 48}, 'Others': {'precision': 0.8548387096774194, 'recall': 0.7822878228782287, 'f1-score': 0.816955684007707, 'support': 271}, 'Religion': {'precision': 0.5384615384615384, 'recall': 0.6363636363636364, 'f1-score': 0.5833333333333334, 'support': 11}, 'Science/Technology': {'precision': 0.8, 'recall': 0.36363636363636365, 'f1-score': 0.5000000000000001, 'support': 11}, 'War/Terror': {'precision': 0.9601769911504425, 'recall': 0.8509803921568627, 'f1-score': 0.9022869022869023, 'support': 255}, 'micro avg': {'precision': 0.8334858188472095, 'recall': 0.7002305918524212, 'f1-score': 0.7610693400167083, 'support': 1301}, 'macro avg': {'precision': 0.7305554617763436, 'recall': 0.574201061009819, 'f1-score': 0.6349522720962609, 'support': 1301}, 'weighted avg': {'precision': 0.8255604161935653, 'recall': 0.7002305918524212, 'f1-score': 0.7545172116278648, 'support': 1301}, 'samples avg': {'precision': 0.7955, 'recall': 0.7399833333333333, 'f1-score': 0.7520047619047618, 'support': 1301}}, {'Conspiracy Theory': {'precision': 0.46875, 'recall': 0.3333333333333333, 'f1-score': 0.38961038961038963, 'support': 45}, 'Education': {'precision': 0.47368421052631576, 'recall': 0.6923076923076923, 'f1-score': 0.5625, 'support': 13}, 'Election Campaign': {'precision': 0.8181818181818182, 'recall': 0.8181818181818182, 'f1-score': 0.8181818181818182, 'support': 33}, 'Environment': {'precision': 0.7142857142857143, 'recall': 0.35714285714285715, 'f1-score': 0.4761904761904762, 'support': 14}, 'Government/Public': {'precision': 0.7907949790794979, 'recall': 0.6494845360824743, 'f1-score': 0.7132075471698114, 'support': 291}, 'Health': {'precision': 0.78125, 'recall': 0.5434782608695652, 'f1-score': 0.641025641025641, 'support': 46}, 'Immigration/Integration': {'precision': 0.7931034482758621, 'recall': 0.6388888888888888, 'f1-score': 0.7076923076923076, 'support': 36}, 'Justice/Crime': {'precision': 0.8492063492063492, 'recall': 0.781021897810219, 'f1-score': 0.8136882129277566, 'support': 137}, 'Labor/Employment': {'precision': 0.7647058823529411, 'recall': 0.4642857142857143, 'f1-score': 0.5777777777777777, 'support': 28}, 'Macroeconomics/Economic Regulation': {'precision': 0.8043478260869565, 'recall': 0.5967741935483871, 'f1-score': 0.6851851851851853, 'support': 62}, 'Media/Journalism': {'precision': 0.8333333333333334, 'recall': 0.4166666666666667, 'f1-score': 0.5555555555555556, 'support': 48}, 'Others': {'precision': 0.848605577689243, 'recall': 0.7859778597785978, 'f1-score': 0.8160919540229886, 'support': 271}, 'Religion': {'precision': 0.4666666666666667, 'recall': 0.6363636363636364, 'f1-score': 0.5384615384615385, 'support': 11}, 'Science/Technology': {'precision': 0.8333333333333334, 'recall': 0.45454545454545453, 'f1-score': 0.5882352941176471, 'support': 11}, 'War/Terror': {'precision': 0.9491525423728814, 'recall': 0.8784313725490196, 'f1-score': 0.9124236252545824, 'support': 255}, 'micro avg': {'precision': 0.8264388489208633, 'recall': 0.7063797079169869, 'f1-score': 0.7617074181516784, 'support': 1301}, 'macro avg': {'precision': 0.7459601120927276, 'recall': 0.603125612156955, 'f1-score': 0.6530551548782316, 'support': 1301}, 'weighted avg': {'precision': 0.8245894061570486, 'recall': 0.7063797079169869, 'f1-score': 0.7563742914874712, 'support': 1301}, 'samples avg': {'precision': 0.7966666666666666, 'recall': 0.7476, 'f1-score': 0.7569690476190476, 'support': 1301}}, {'Conspiracy Theory': {'precision': 0.4791666666666667, 'recall': 0.5111111111111111, 'f1-score': 0.4946236559139785, 'support': 45}, 'Education': {'precision': 0.42857142857142855, 'recall': 0.46153846153846156, 'f1-score': 0.4444444444444445, 'support': 13}, 'Election Campaign': {'precision': 0.8148148148148148, 'recall': 0.6666666666666666, 'f1-score': 0.7333333333333333, 'support': 33}, 'Environment': {'precision': 0.5714285714285714, 'recall': 0.5714285714285714, 'f1-score': 0.5714285714285714, 'support': 14}, 'Government/Public': {'precision': 0.7661290322580645, 'recall': 0.6529209621993127, 'f1-score': 0.7050092764378479, 'support': 291}, 'Health': {'precision': 0.8, 'recall': 0.6086956521739131, 'f1-score': 0.6913580246913581, 'support': 46}, 'Immigration/Integration': {'precision': 0.88, 'recall': 0.6111111111111112, 'f1-score': 0.7213114754098361, 'support': 36}, 'Justice/Crime': {'precision': 0.8849557522123894, 'recall': 0.7299270072992701, 'f1-score': 0.8, 'support': 137}, 'Labor/Employment': {'precision': 0.7777777777777778, 'recall': 0.5, 'f1-score': 0.6086956521739131, 'support': 28}, 'Macroeconomics/Economic Regulation': {'precision': 0.7843137254901961, 'recall': 0.6451612903225806, 'f1-score': 0.7079646017699115, 'support': 62}, 'Media/Journalism': {'precision': 0.9, 'recall': 0.1875, 'f1-score': 0.31034482758620696, 'support': 48}, 'Others': {'precision': 0.8723404255319149, 'recall': 0.7564575645756457, 'f1-score': 0.8102766798418972, 'support': 271}, 'Religion': {'precision': 0.34615384615384615, 'recall': 0.8181818181818182, 'f1-score': 0.4864864864864865, 'support': 11}, 'Science/Technology': {'precision': 0.7142857142857143, 'recall': 0.45454545454545453, 'f1-score': 0.5555555555555556, 'support': 11}, 'War/Terror': {'precision': 0.9414225941422594, 'recall': 0.8823529411764706, 'f1-score': 0.9109311740890688, 'support': 255}, 'micro avg': {'precision': 0.8162162162162162, 'recall': 0.6963873943120676, 'f1-score': 0.7515553712152633, 'support': 1301}, 'macro avg': {'precision': 0.730757356622243, 'recall': 0.6038399074886925, 'f1-score': 0.6367842506108272, 'support': 1301}, 'weighted avg': {'precision': 0.8273807722128683, 'recall': 0.6963873943120676, 'f1-score': 0.7470652969830502, 'support': 1301}, 'samples avg': {'precision': 0.7851666666666667, 'recall': 0.7398166666666666, 'f1-score': 0.7473428571428572, 'support': 1301}}, {'Conspiracy Theory': {'precision': 0.4827586206896552, 'recall': 0.6222222222222222, 'f1-score': 0.5436893203883495, 'support': 45}, 'Education': {'precision': 0.36363636363636365, 'recall': 0.6153846153846154, 'f1-score': 0.4571428571428572, 'support': 13}, 'Election Campaign': {'precision': 0.7666666666666667, 'recall': 0.696969696969697, 'f1-score': 0.7301587301587302, 'support': 33}, 'Environment': {'precision': 0.8, 'recall': 0.2857142857142857, 'f1-score': 0.4210526315789473, 'support': 14}, 'Government/Public': {'precision': 0.8303571428571429, 'recall': 0.6391752577319587, 'f1-score': 0.7223300970873787, 'support': 291}, 'Health': {'precision': 0.8125, 'recall': 0.5652173913043478, 'f1-score': 0.6666666666666667, 'support': 46}, 'Immigration/Integration': {'precision': 0.7407407407407407, 'recall': 0.5555555555555556, 'f1-score': 0.634920634920635, 'support': 36}, 'Justice/Crime': {'precision': 0.8604651162790697, 'recall': 0.8102189781021898, 'f1-score': 0.8345864661654135, 'support': 137}, 'Labor/Employment': {'precision': 0.625, 'recall': 0.5357142857142857, 'f1-score': 0.576923076923077, 'support': 28}, 'Macroeconomics/Economic Regulation': {'precision': 0.918918918918919, 'recall': 0.5483870967741935, 'f1-score': 0.6868686868686869, 'support': 62}, 'Media/Journalism': {'precision': 0.7777777777777778, 'recall': 0.4375, 'f1-score': 0.56, 'support': 48}, 'Others': {'precision': 0.82421875, 'recall': 0.7785977859778598, 'f1-score': 0.8007590132827325, 'support': 271}, 'Religion': {'precision': 0.3, 'recall': 0.8181818181818182, 'f1-score': 0.43902439024390244, 'support': 11}, 'Science/Technology': {'precision': 1.0, 'recall': 0.45454545454545453, 'f1-score': 0.625, 'support': 11}, 'War/Terror': {'precision': 0.9271255060728745, 'recall': 0.8980392156862745, 'f1-score': 0.9123505976095618, 'support': 255}, 'micro avg': {'precision': 0.8065915004336514, 'recall': 0.7148347425057648, 'f1-score': 0.7579462102689488, 'support': 1301}, 'macro avg': {'precision': 0.7353443735759473, 'recall': 0.617428243990984, 'f1-score': 0.640764877935796, 'support': 1301}, 'weighted avg': {'precision': 0.8242869472955606, 'recall': 0.7148347425057648, 'f1-score': 0.7574466819070108, 'support': 1301}, 'samples avg': {'precision': 0.7958333333333333, 'recall': 0.7492166666666666, 'f1-score': 0.7577055555555555, 'support': 1301}}, {'Conspiracy Theory': {'precision': 0.46808510638297873, 'recall': 0.4888888888888889, 'f1-score': 0.47826086956521735, 'support': 45}, 'Education': {'precision': 0.5, 'recall': 0.38461538461538464, 'f1-score': 0.4347826086956522, 'support': 13}, 'Election Campaign': {'precision': 0.8125, 'recall': 0.7878787878787878, 'f1-score': 0.8, 'support': 33}, 'Environment': {'precision': 0.75, 'recall': 0.21428571428571427, 'f1-score': 0.3333333333333333, 'support': 14}, 'Government/Public': {'precision': 0.7683397683397684, 'recall': 0.6838487972508591, 'f1-score': 0.7236363636363636, 'support': 291}, 'Health': {'precision': 0.7941176470588235, 'recall': 0.5869565217391305, 'f1-score': 0.675, 'support': 46}, 'Immigration/Integration': {'precision': 0.8235294117647058, 'recall': 0.7777777777777778, 'f1-score': 0.7999999999999999, 'support': 36}, 'Justice/Crime': {'precision': 0.8524590163934426, 'recall': 0.7591240875912408, 'f1-score': 0.803088803088803, 'support': 137}, 'Labor/Employment': {'precision': 0.7058823529411765, 'recall': 0.42857142857142855, 'f1-score': 0.5333333333333333, 'support': 28}, 'Macroeconomics/Economic Regulation': {'precision': 0.8888888888888888, 'recall': 0.6451612903225806, 'f1-score': 0.7476635514018692, 'support': 62}, 'Media/Journalism': {'precision': 0.6486486486486487, 'recall': 0.5, 'f1-score': 0.5647058823529412, 'support': 48}, 'Others': {'precision': 0.9120370370370371, 'recall': 0.7269372693726938, 'f1-score': 0.8090349075975359, 'support': 271}, 'Religion': {'precision': 0.4, 'recall': 0.36363636363636365, 'f1-score': 0.380952380952381, 'support': 11}, 'Science/Technology': {'precision': 1.0, 'recall': 0.45454545454545453, 'f1-score': 0.625, 'support': 11}, 'War/Terror': {'precision': 0.9491525423728814, 'recall': 0.8784313725490196, 'f1-score': 0.9124236252545824, 'support': 255}, 'micro avg': {'precision': 0.8303249097472925, 'recall': 0.7071483474250576, 'f1-score': 0.7638024076380242, 'support': 1301}, 'macro avg': {'precision': 0.7515760279885567, 'recall': 0.5787106092683548, 'f1-score': 0.6414143772808009, 'support': 1301}, 'weighted avg': {'precision': 0.8316936554027398, 'recall': 0.7071483474250576, 'f1-score': 0.7610055680353651, 'support': 1301}, 'samples avg': {'precision': 0.7855833333333334, 'recall': 0.7444000000000001, 'f1-score': 0.7488619047619047, 'support': 1301}}]\n",
      "5\n",
      "\n",
      "Average Validation Classification Report In DataFrame Format:\n",
      "                                    precision    recall  f1-score  support\n",
      "Conspiracy Theory                    0.571206  0.488615  0.513162     50.8\n",
      "Education                            0.615714  0.529654  0.559697     12.6\n",
      "Election Campaign                    0.810411  0.639445  0.709901     26.6\n",
      "Environment                          0.710000  0.400325  0.476522     11.6\n",
      "Government/Public                    0.805452  0.681103  0.737126    249.6\n",
      "Health                               0.880715  0.766099  0.816931     42.8\n",
      "Immigration/Integration              0.869345  0.627296  0.727781     40.2\n",
      "Justice/Crime                        0.829157  0.696667  0.756242    114.4\n",
      "Labor/Employment                     0.718690  0.499927  0.567178     19.4\n",
      "Macroeconomics/Economic Regulation   0.795068  0.624128  0.695805     50.0\n",
      "Media/Journalism                     0.770223  0.438440  0.534432     36.8\n",
      "Others                               0.879670  0.738978  0.801693    211.4\n",
      "Religion                             0.461673  0.630087  0.521804     14.2\n",
      "Science/Technology                   0.554762  0.219004  0.296459     10.8\n",
      "War/Terror                           0.920749  0.885296  0.902394    187.8\n",
      "micro avg                            0.821343  0.695996  0.753421   1079.0\n",
      "macro avg                            0.746189  0.591004  0.641142   1079.0\n",
      "weighted avg                         0.825996  0.695996  0.748636   1079.0\n",
      "samples avg                          0.780479  0.731158  0.739271   1079.0\n",
      "\n",
      "Average Test Classification Report In DataFrame Format:\n",
      "                                    precision    recall  f1-score  support\n",
      "Conspiracy Theory                    0.466709  0.435556  0.440060     45.0\n",
      "Education                            0.445486  0.523077  0.472082     13.0\n",
      "Election Campaign                    0.818433  0.727273  0.768059     33.0\n",
      "Environment                          0.690220  0.400000  0.478920     14.0\n",
      "Government/Public                    0.793823  0.665979  0.723850    291.0\n",
      "Health                               0.788925  0.582609  0.669750     46.0\n",
      "Immigration/Integration              0.815475  0.633333  0.710490     36.0\n",
      "Justice/Crime                        0.859017  0.770803  0.812105    137.0\n",
      "Labor/Employment                     0.711515  0.478571  0.569984     28.0\n",
      "Macroeconomics/Economic Regulation   0.849294  0.596774  0.698870     62.0\n",
      "Media/Journalism                     0.756090  0.383333  0.491628     48.0\n",
      "Others                               0.862408  0.766052  0.810624    271.0\n",
      "Religion                             0.410256  0.654545  0.485652     11.0\n",
      "Science/Technology                   0.869524  0.436364  0.578758     11.0\n",
      "War/Terror                           0.945406  0.877647  0.910083    255.0\n",
      "micro avg                            0.822611  0.704996  0.759216   1301.0\n",
      "macro avg                            0.738839  0.595461  0.641394   1301.0\n",
      "weighted avg                         0.826702  0.704996  0.755282   1301.0\n",
      "samples avg                          0.791750  0.744203  0.752577   1301.0\n"
     ]
    }
   ],
   "source": [
    "generic_val_average_report_df, generic_test_average_report_df = calculate_metrics(\"oa_with_3_random_examples_classification_only_distinct_generic\")"
   ]
  },
  {
   "cell_type": "code",
   "execution_count": 12,
   "metadata": {},
   "outputs": [
    {
     "name": "stdout",
     "output_type": "stream",
     "text": [
      "../models/weak_labeled/oa_classification_only_v03_distinct_generic_epochs_200_train_size_full_fold_0/\n",
      "0                                  ['Science/Technology']\n",
      "1                                              ['Others']\n",
      "2       ['Health', 'Justice/Crime', 'Macroeconomics/Ec...\n",
      "3                                              ['Others']\n",
      "4                                   ['Government/Public']\n",
      "                              ...                        \n",
      "3822                                 ['Labor/Employment']\n",
      "3823                                         ['Religion']\n",
      "3824                                        ['Education']\n",
      "3825                               ['Science/Technology']\n",
      "3826                               ['Science/Technology']\n",
      "Name: annotations, Length: 3827, dtype: object\n",
      "['Conspiracy Theory', 'Education', 'Election Campaign', 'Environment', 'Government/Public', 'Health', 'Immigration/Integration', 'Justice/Crime', 'Labor/Employment', 'Macroeconomics/Economic Regulation', 'Media/Journalism', 'Others', 'Religion', 'Science/Technology', 'War/Terror']\n"
     ]
    },
    {
     "name": "stderr",
     "output_type": "stream",
     "text": [
      "/tmp/ipykernel_341441/3473448682.py:37: UserWarning: To copy construct from a tensor, it is recommended to use sourceTensor.clone().detach() or sourceTensor.clone().detach().requires_grad_(True), rather than torch.tensor(sourceTensor).\n",
      "  'label': torch.tensor(label, dtype=torch.float32)}\n",
      "You're using a RobertaTokenizerFast tokenizer. Please note that with a fast tokenizer, using the `__call__` method is faster than using a method to encode the text followed by a call to the `pad` method to get a padded encoding.\n",
      "/tmp/ipykernel_341441/3473448682.py:37: UserWarning: To copy construct from a tensor, it is recommended to use sourceTensor.clone().detach() or sourceTensor.clone().detach().requires_grad_(True), rather than torch.tensor(sourceTensor).\n",
      "  'label': torch.tensor(label, dtype=torch.float32)}\n"
     ]
    },
    {
     "name": "stdout",
     "output_type": "stream",
     "text": [
      "../models/weak_labeled/oa_classification_only_v03_distinct_generic_epochs_200_train_size_full_fold_1/\n",
      "0                                  ['Science/Technology']\n",
      "1                                              ['Others']\n",
      "2       ['Health', 'Justice/Crime', 'Macroeconomics/Ec...\n",
      "3                                              ['Others']\n",
      "4                                          ['War/Terror']\n",
      "                              ...                        \n",
      "3822                                 ['Labor/Employment']\n",
      "3823                                         ['Religion']\n",
      "3824                                        ['Education']\n",
      "3825                               ['Science/Technology']\n",
      "3826                               ['Science/Technology']\n",
      "Name: annotations, Length: 3827, dtype: object\n",
      "['Conspiracy Theory', 'Education', 'Election Campaign', 'Environment', 'Government/Public', 'Health', 'Immigration/Integration', 'Justice/Crime', 'Labor/Employment', 'Macroeconomics/Economic Regulation', 'Media/Journalism', 'Others', 'Religion', 'Science/Technology', 'War/Terror']\n"
     ]
    },
    {
     "name": "stderr",
     "output_type": "stream",
     "text": [
      "/tmp/ipykernel_341441/3473448682.py:37: UserWarning: To copy construct from a tensor, it is recommended to use sourceTensor.clone().detach() or sourceTensor.clone().detach().requires_grad_(True), rather than torch.tensor(sourceTensor).\n",
      "  'label': torch.tensor(label, dtype=torch.float32)}\n",
      "You're using a RobertaTokenizerFast tokenizer. Please note that with a fast tokenizer, using the `__call__` method is faster than using a method to encode the text followed by a call to the `pad` method to get a padded encoding.\n",
      "/tmp/ipykernel_341441/3473448682.py:37: UserWarning: To copy construct from a tensor, it is recommended to use sourceTensor.clone().detach() or sourceTensor.clone().detach().requires_grad_(True), rather than torch.tensor(sourceTensor).\n",
      "  'label': torch.tensor(label, dtype=torch.float32)}\n"
     ]
    },
    {
     "name": "stdout",
     "output_type": "stream",
     "text": [
      "../models/weak_labeled/oa_classification_only_v03_distinct_generic_epochs_200_train_size_full_fold_2/\n",
      "0       ['Science/Technology']\n",
      "1                   ['Others']\n",
      "2                   ['Others']\n",
      "3        ['Government/Public']\n",
      "4               ['War/Terror']\n",
      "                 ...          \n",
      "3822      ['Labor/Employment']\n",
      "3823              ['Religion']\n",
      "3824             ['Education']\n",
      "3825    ['Science/Technology']\n",
      "3826    ['Science/Technology']\n",
      "Name: annotations, Length: 3827, dtype: object\n",
      "['Conspiracy Theory', 'Education', 'Election Campaign', 'Environment', 'Government/Public', 'Health', 'Immigration/Integration', 'Justice/Crime', 'Labor/Employment', 'Macroeconomics/Economic Regulation', 'Media/Journalism', 'Others', 'Religion', 'Science/Technology', 'War/Terror']\n"
     ]
    },
    {
     "name": "stderr",
     "output_type": "stream",
     "text": [
      "/tmp/ipykernel_341441/3473448682.py:37: UserWarning: To copy construct from a tensor, it is recommended to use sourceTensor.clone().detach() or sourceTensor.clone().detach().requires_grad_(True), rather than torch.tensor(sourceTensor).\n",
      "  'label': torch.tensor(label, dtype=torch.float32)}\n",
      "You're using a RobertaTokenizerFast tokenizer. Please note that with a fast tokenizer, using the `__call__` method is faster than using a method to encode the text followed by a call to the `pad` method to get a padded encoding.\n",
      "/tmp/ipykernel_341441/3473448682.py:37: UserWarning: To copy construct from a tensor, it is recommended to use sourceTensor.clone().detach() or sourceTensor.clone().detach().requires_grad_(True), rather than torch.tensor(sourceTensor).\n",
      "  'label': torch.tensor(label, dtype=torch.float32)}\n"
     ]
    },
    {
     "name": "stdout",
     "output_type": "stream",
     "text": [
      "../models/weak_labeled/oa_classification_only_v03_distinct_generic_epochs_200_train_size_full_fold_3/\n",
      "0                                  ['Science/Technology']\n",
      "1       ['Health', 'Justice/Crime', 'Macroeconomics/Ec...\n",
      "2                                              ['Others']\n",
      "3                                   ['Government/Public']\n",
      "4                                          ['War/Terror']\n",
      "                              ...                        \n",
      "3822                                 ['Labor/Employment']\n",
      "3823                                         ['Religion']\n",
      "3824                                        ['Education']\n",
      "3825                               ['Science/Technology']\n",
      "3826                               ['Science/Technology']\n",
      "Name: annotations, Length: 3827, dtype: object\n",
      "['Conspiracy Theory', 'Education', 'Election Campaign', 'Environment', 'Government/Public', 'Health', 'Immigration/Integration', 'Justice/Crime', 'Labor/Employment', 'Macroeconomics/Economic Regulation', 'Media/Journalism', 'Others', 'Religion', 'Science/Technology', 'War/Terror']\n"
     ]
    },
    {
     "name": "stderr",
     "output_type": "stream",
     "text": [
      "/tmp/ipykernel_341441/3473448682.py:37: UserWarning: To copy construct from a tensor, it is recommended to use sourceTensor.clone().detach() or sourceTensor.clone().detach().requires_grad_(True), rather than torch.tensor(sourceTensor).\n",
      "  'label': torch.tensor(label, dtype=torch.float32)}\n",
      "You're using a RobertaTokenizerFast tokenizer. Please note that with a fast tokenizer, using the `__call__` method is faster than using a method to encode the text followed by a call to the `pad` method to get a padded encoding.\n",
      "/tmp/ipykernel_341441/3473448682.py:37: UserWarning: To copy construct from a tensor, it is recommended to use sourceTensor.clone().detach() or sourceTensor.clone().detach().requires_grad_(True), rather than torch.tensor(sourceTensor).\n",
      "  'label': torch.tensor(label, dtype=torch.float32)}\n"
     ]
    },
    {
     "name": "stdout",
     "output_type": "stream",
     "text": [
      "../models/weak_labeled/oa_classification_only_v03_distinct_generic_epochs_200_train_size_full_fold_4/\n",
      "0                                              ['Others']\n",
      "1       ['Health', 'Justice/Crime', 'Macroeconomics/Ec...\n",
      "2                                   ['Government/Public']\n",
      "3                                          ['War/Terror']\n",
      "4                                          ['War/Terror']\n",
      "                              ...                        \n",
      "3822                                 ['Labor/Employment']\n",
      "3823                                         ['Religion']\n",
      "3824                                        ['Education']\n",
      "3825                               ['Science/Technology']\n",
      "3826                               ['Science/Technology']\n",
      "Name: annotations, Length: 3827, dtype: object\n",
      "['Conspiracy Theory', 'Education', 'Election Campaign', 'Environment', 'Government/Public', 'Health', 'Immigration/Integration', 'Justice/Crime', 'Labor/Employment', 'Macroeconomics/Economic Regulation', 'Media/Journalism', 'Others', 'Religion', 'Science/Technology', 'War/Terror']\n"
     ]
    },
    {
     "name": "stderr",
     "output_type": "stream",
     "text": [
      "/tmp/ipykernel_341441/3473448682.py:37: UserWarning: To copy construct from a tensor, it is recommended to use sourceTensor.clone().detach() or sourceTensor.clone().detach().requires_grad_(True), rather than torch.tensor(sourceTensor).\n",
      "  'label': torch.tensor(label, dtype=torch.float32)}\n",
      "You're using a RobertaTokenizerFast tokenizer. Please note that with a fast tokenizer, using the `__call__` method is faster than using a method to encode the text followed by a call to the `pad` method to get a padded encoding.\n",
      "/tmp/ipykernel_341441/3473448682.py:37: UserWarning: To copy construct from a tensor, it is recommended to use sourceTensor.clone().detach() or sourceTensor.clone().detach().requires_grad_(True), rather than torch.tensor(sourceTensor).\n",
      "  'label': torch.tensor(label, dtype=torch.float32)}\n"
     ]
    },
    {
     "name": "stdout",
     "output_type": "stream",
     "text": [
      "[{'Conspiracy Theory': {'precision': 0.8571428571428571, 'recall': 0.1276595744680851, 'f1-score': 0.2222222222222222, 'support': 47}, 'Education': {'precision': 0.8571428571428571, 'recall': 0.5, 'f1-score': 0.631578947368421, 'support': 12}, 'Election Campaign': {'precision': 1.0, 'recall': 0.3076923076923077, 'f1-score': 0.47058823529411764, 'support': 26}, 'Environment': {'precision': 0.8, 'recall': 0.5714285714285714, 'f1-score': 0.6666666666666666, 'support': 14}, 'Government/Public': {'precision': 0.8212765957446808, 'recall': 0.7658730158730159, 'f1-score': 0.7926078028747434, 'support': 252}, 'Health': {'precision': 0.926829268292683, 'recall': 0.8444444444444444, 'f1-score': 0.8837209302325582, 'support': 45}, 'Immigration/Integration': {'precision': 0.88, 'recall': 0.55, 'f1-score': 0.676923076923077, 'support': 40}, 'Justice/Crime': {'precision': 0.8378378378378378, 'recall': 0.5794392523364486, 'f1-score': 0.6850828729281768, 'support': 107}, 'Labor/Employment': {'precision': 0.8181818181818182, 'recall': 0.47368421052631576, 'f1-score': 0.6, 'support': 19}, 'Macroeconomics/Economic Regulation': {'precision': 0.7631578947368421, 'recall': 0.5, 'f1-score': 0.6041666666666667, 'support': 58}, 'Media/Journalism': {'precision': 0.9090909090909091, 'recall': 0.2631578947368421, 'f1-score': 0.4081632653061224, 'support': 38}, 'Others': {'precision': 0.8888888888888888, 'recall': 0.7804878048780488, 'f1-score': 0.8311688311688312, 'support': 205}, 'Religion': {'precision': 0.6363636363636364, 'recall': 0.3181818181818182, 'f1-score': 0.4242424242424242, 'support': 22}, 'Science/Technology': {'precision': 0.7142857142857143, 'recall': 0.5, 'f1-score': 0.588235294117647, 'support': 10}, 'War/Terror': {'precision': 0.9052631578947369, 'recall': 0.9297297297297298, 'f1-score': 0.9173333333333334, 'support': 185}, 'micro avg': {'precision': 0.8596491228070176, 'recall': 0.6805555555555556, 'f1-score': 0.7596899224806201, 'support': 1080}, 'macro avg': {'precision': 0.841030762373564, 'recall': 0.5341185749530418, 'f1-score': 0.6268467046230005, 'support': 1080}, 'weighted avg': {'precision': 0.8578536360945918, 'recall': 0.6805555555555556, 'f1-score': 0.7377233814889543, 'support': 1080}, 'samples avg': {'precision': 0.8104166666666667, 'recall': 0.7278125, 'f1-score': 0.7494583333333332, 'support': 1080}}, {'Conspiracy Theory': {'precision': 0.6170212765957447, 'recall': 0.48333333333333334, 'f1-score': 0.5420560747663552, 'support': 60}, 'Education': {'precision': 0.8181818181818182, 'recall': 0.5625, 'f1-score': 0.6666666666666666, 'support': 16}, 'Election Campaign': {'precision': 0.9310344827586207, 'recall': 0.7714285714285715, 'f1-score': 0.8437500000000001, 'support': 35}, 'Environment': {'precision': 1.0, 'recall': 0.07142857142857142, 'f1-score': 0.13333333333333333, 'support': 14}, 'Government/Public': {'precision': 0.8352272727272727, 'recall': 0.6024590163934426, 'f1-score': 0.7000000000000001, 'support': 244}, 'Health': {'precision': 0.8205128205128205, 'recall': 0.7804878048780488, 'f1-score': 0.8, 'support': 41}, 'Immigration/Integration': {'precision': 0.8888888888888888, 'recall': 0.17777777777777778, 'f1-score': 0.2962962962962963, 'support': 45}, 'Justice/Crime': {'precision': 0.8588235294117647, 'recall': 0.6636363636363637, 'f1-score': 0.7487179487179487, 'support': 110}, 'Labor/Employment': {'precision': 0.8333333333333334, 'recall': 0.3125, 'f1-score': 0.45454545454545453, 'support': 16}, 'Macroeconomics/Economic Regulation': {'precision': 0.7714285714285715, 'recall': 0.54, 'f1-score': 0.6352941176470589, 'support': 50}, 'Media/Journalism': {'precision': 0.8571428571428571, 'recall': 0.375, 'f1-score': 0.5217391304347825, 'support': 32}, 'Others': {'precision': 0.8208333333333333, 'recall': 0.8528138528138528, 'f1-score': 0.8365180467091295, 'support': 231}, 'Religion': {'precision': 0.8333333333333334, 'recall': 0.7142857142857143, 'f1-score': 0.7692307692307692, 'support': 14}, 'Science/Technology': {'precision': 0.8333333333333334, 'recall': 0.35714285714285715, 'f1-score': 0.5, 'support': 14}, 'War/Terror': {'precision': 0.9421965317919075, 'recall': 0.9157303370786517, 'f1-score': 0.9287749287749287, 'support': 178}, 'micro avg': {'precision': 0.8437146092865232, 'recall': 0.6772727272727272, 'f1-score': 0.7513867876954109, 'support': 1100}, 'macro avg': {'precision': 0.8440860921849066, 'recall': 0.5453682800131456, 'f1-score': 0.6251281844748481, 'support': 1100}, 'weighted avg': {'precision': 0.8441778275732781, 'recall': 0.6772727272727272, 'f1-score': 0.7326728888378113, 'support': 1100}, 'samples avg': {'precision': 0.7945833333333333, 'recall': 0.7276041666666666, 'f1-score': 0.7418511904761905, 'support': 1100}}, {'Conspiracy Theory': {'precision': 0.5142857142857142, 'recall': 0.4090909090909091, 'f1-score': 0.4556962025316455, 'support': 44}, 'Education': {'precision': 0.7, 'recall': 0.6363636363636364, 'f1-score': 0.6666666666666666, 'support': 11}, 'Election Campaign': {'precision': 1.0, 'recall': 0.56, 'f1-score': 0.717948717948718, 'support': 25}, 'Environment': {'precision': 0.7777777777777778, 'recall': 0.6363636363636364, 'f1-score': 0.7000000000000001, 'support': 11}, 'Government/Public': {'precision': 0.7638888888888888, 'recall': 0.6653225806451613, 'f1-score': 0.7112068965517241, 'support': 248}, 'Health': {'precision': 0.8666666666666667, 'recall': 0.65, 'f1-score': 0.7428571428571429, 'support': 40}, 'Immigration/Integration': {'precision': 0.6774193548387096, 'recall': 0.7241379310344828, 'f1-score': 0.7, 'support': 29}, 'Justice/Crime': {'precision': 0.8762886597938144, 'recall': 0.7391304347826086, 'f1-score': 0.8018867924528302, 'support': 115}, 'Labor/Employment': {'precision': 0.7272727272727273, 'recall': 0.4, 'f1-score': 0.5161290322580645, 'support': 20}, 'Macroeconomics/Economic Regulation': {'precision': 0.7441860465116279, 'recall': 0.6666666666666666, 'f1-score': 0.7032967032967034, 'support': 48}, 'Media/Journalism': {'precision': 1.0, 'recall': 0.15555555555555556, 'f1-score': 0.2692307692307693, 'support': 45}, 'Others': {'precision': 0.8866666666666667, 'recall': 0.6303317535545023, 'f1-score': 0.7368421052631579, 'support': 211}, 'Religion': {'precision': 0.5714285714285714, 'recall': 0.4, 'f1-score': 0.47058823529411764, 'support': 10}, 'Science/Technology': {'precision': 0.46153846153846156, 'recall': 0.5454545454545454, 'f1-score': 0.4999999999999999, 'support': 11}, 'War/Terror': {'precision': 0.9242424242424242, 'recall': 0.915, 'f1-score': 0.9195979899497487, 'support': 200}, 'micro avg': {'precision': 0.8220436280137773, 'recall': 0.6704119850187266, 'f1-score': 0.7385250128932438, 'support': 1068}, 'macro avg': {'precision': 0.76611079732747, 'recall': 0.5822278433007803, 'f1-score': 0.6407964836200859, 'support': 1068}, 'weighted avg': {'precision': 0.8299684834702457, 'recall': 0.6704119850187266, 'f1-score': 0.7279387949034059, 'support': 1068}, 'samples avg': {'precision': 0.75625, 'recall': 0.7038541666666666, 'f1-score': 0.7142797619047618, 'support': 1068}}, {'Conspiracy Theory': {'precision': 0.7567567567567568, 'recall': 0.5833333333333334, 'f1-score': 0.6588235294117648, 'support': 48}, 'Education': {'precision': 0.4444444444444444, 'recall': 0.4, 'f1-score': 0.4210526315789474, 'support': 10}, 'Election Campaign': {'precision': 0.9047619047619048, 'recall': 0.7916666666666666, 'f1-score': 0.8444444444444444, 'support': 24}, 'Environment': {'precision': 0.625, 'recall': 0.625, 'f1-score': 0.625, 'support': 8}, 'Government/Public': {'precision': 0.6942446043165468, 'recall': 0.772, 'f1-score': 0.7310606060606061, 'support': 250}, 'Health': {'precision': 0.875, 'recall': 0.8571428571428571, 'f1-score': 0.8659793814432989, 'support': 49}, 'Immigration/Integration': {'precision': 0.8787878787878788, 'recall': 0.6444444444444445, 'f1-score': 0.7435897435897436, 'support': 45}, 'Justice/Crime': {'precision': 0.8165137614678899, 'recall': 0.7672413793103449, 'f1-score': 0.7911111111111111, 'support': 116}, 'Labor/Employment': {'precision': 0.7333333333333333, 'recall': 0.4583333333333333, 'f1-score': 0.5641025641025641, 'support': 24}, 'Macroeconomics/Economic Regulation': {'precision': 0.8723404255319149, 'recall': 0.7321428571428571, 'f1-score': 0.7961165048543688, 'support': 56}, 'Media/Journalism': {'precision': 0.875, 'recall': 0.358974358974359, 'f1-score': 0.509090909090909, 'support': 39}, 'Others': {'precision': 0.916030534351145, 'recall': 0.6382978723404256, 'f1-score': 0.7523510971786834, 'support': 188}, 'Religion': {'precision': 0.7222222222222222, 'recall': 0.8125, 'f1-score': 0.7647058823529411, 'support': 16}, 'Science/Technology': {'precision': 0.08695652173913043, 'recall': 0.2857142857142857, 'f1-score': 0.13333333333333333, 'support': 7}, 'War/Terror': {'precision': 0.9230769230769231, 'recall': 0.9090909090909091, 'f1-score': 0.9160305343511451, 'support': 198}, 'micro avg': {'precision': 0.7995951417004049, 'recall': 0.7328385899814471, 'f1-score': 0.7647628267182962, 'support': 1078}, 'macro avg': {'precision': 0.741631287386006, 'recall': 0.6423921531662543, 'f1-score': 0.6744528181935906, 'support': 1078}, 'weighted avg': {'precision': 0.8218029153086118, 'recall': 0.7328385899814471, 'f1-score': 0.7657602056933883, 'support': 1078}, 'samples avg': {'precision': 0.7845833333333333, 'recall': 0.7586666666666667, 'f1-score': 0.7537291666666667, 'support': 1078}}, {'Conspiracy Theory': {'precision': 0.4925373134328358, 'recall': 0.6, 'f1-score': 0.5409836065573771, 'support': 55}, 'Education': {'precision': 0.8, 'recall': 0.5714285714285714, 'f1-score': 0.6666666666666666, 'support': 14}, 'Election Campaign': {'precision': 0.6842105263157895, 'recall': 0.5652173913043478, 'f1-score': 0.6190476190476191, 'support': 23}, 'Environment': {'precision': 1.0, 'recall': 0.36363636363636365, 'f1-score': 0.5333333333333333, 'support': 11}, 'Government/Public': {'precision': 0.8587570621468926, 'recall': 0.5984251968503937, 'f1-score': 0.7053364269141532, 'support': 254}, 'Health': {'precision': 0.9655172413793104, 'recall': 0.717948717948718, 'f1-score': 0.8235294117647058, 'support': 39}, 'Immigration/Integration': {'precision': 0.9545454545454546, 'recall': 0.5, 'f1-score': 0.65625, 'support': 42}, 'Justice/Crime': {'precision': 0.8303571428571429, 'recall': 0.75, 'f1-score': 0.7881355932203391, 'support': 124}, 'Labor/Employment': {'precision': 0.75, 'recall': 0.3333333333333333, 'f1-score': 0.46153846153846156, 'support': 18}, 'Macroeconomics/Economic Regulation': {'precision': 0.8095238095238095, 'recall': 0.4473684210526316, 'f1-score': 0.576271186440678, 'support': 38}, 'Media/Journalism': {'precision': 0.75, 'recall': 0.1, 'f1-score': 0.17647058823529416, 'support': 30}, 'Others': {'precision': 0.864321608040201, 'recall': 0.7747747747747747, 'f1-score': 0.817102137767221, 'support': 222}, 'Religion': {'precision': 0.35714285714285715, 'recall': 0.5555555555555556, 'f1-score': 0.43478260869565216, 'support': 9}, 'Science/Technology': {'precision': 0.36363636363636365, 'recall': 0.3333333333333333, 'f1-score': 0.34782608695652173, 'support': 12}, 'War/Terror': {'precision': 0.937888198757764, 'recall': 0.848314606741573, 'f1-score': 0.8908554572271387, 'support': 178}, 'micro avg': {'precision': 0.8275058275058275, 'recall': 0.6641721234798877, 'f1-score': 0.7368967306694343, 'support': 1069}, 'macro avg': {'precision': 0.7612291718518948, 'recall': 0.5372890843973064, 'f1-score': 0.602541945624344, 'support': 1069}, 'weighted avg': {'precision': 0.8391247694593088, 'recall': 0.6641721234798877, 'f1-score': 0.729010873886886, 'support': 1069}, 'samples avg': {'precision': 0.774375, 'recall': 0.7103125, 'f1-score': 0.7249642857142856, 'support': 1069}}]\n",
      "5\n",
      "[{'Conspiracy Theory': {'precision': 0.7142857142857143, 'recall': 0.1111111111111111, 'f1-score': 0.19230769230769232, 'support': 45}, 'Education': {'precision': 0.5454545454545454, 'recall': 0.46153846153846156, 'f1-score': 0.4999999999999999, 'support': 13}, 'Election Campaign': {'precision': 0.8235294117647058, 'recall': 0.42424242424242425, 'f1-score': 0.5599999999999999, 'support': 33}, 'Environment': {'precision': 0.8571428571428571, 'recall': 0.42857142857142855, 'f1-score': 0.5714285714285714, 'support': 14}, 'Government/Public': {'precision': 0.7854406130268199, 'recall': 0.7044673539518901, 'f1-score': 0.7427536231884058, 'support': 291}, 'Health': {'precision': 0.78125, 'recall': 0.5434782608695652, 'f1-score': 0.641025641025641, 'support': 46}, 'Immigration/Integration': {'precision': 0.9523809523809523, 'recall': 0.5555555555555556, 'f1-score': 0.7017543859649122, 'support': 36}, 'Justice/Crime': {'precision': 0.8793103448275862, 'recall': 0.7445255474452555, 'f1-score': 0.8063241106719368, 'support': 137}, 'Labor/Employment': {'precision': 0.8, 'recall': 0.42857142857142855, 'f1-score': 0.5581395348837209, 'support': 28}, 'Macroeconomics/Economic Regulation': {'precision': 0.7674418604651163, 'recall': 0.532258064516129, 'f1-score': 0.6285714285714286, 'support': 62}, 'Media/Journalism': {'precision': 0.85, 'recall': 0.3541666666666667, 'f1-score': 0.5, 'support': 48}, 'Others': {'precision': 0.8429752066115702, 'recall': 0.7527675276752768, 'f1-score': 0.7953216374269005, 'support': 271}, 'Religion': {'precision': 0.5, 'recall': 0.5454545454545454, 'f1-score': 0.5217391304347826, 'support': 11}, 'Science/Technology': {'precision': 0.5555555555555556, 'recall': 0.45454545454545453, 'f1-score': 0.5, 'support': 11}, 'War/Terror': {'precision': 0.9163346613545816, 'recall': 0.9019607843137255, 'f1-score': 0.9090909090909091, 'support': 255}, 'micro avg': {'precision': 0.8364661654135338, 'recall': 0.6840891621829363, 'f1-score': 0.7526427061310782, 'support': 1301}, 'macro avg': {'precision': 0.7714067815246668, 'recall': 0.5295476410019279, 'f1-score': 0.6085637776663265, 'support': 1301}, 'weighted avg': {'precision': 0.8317957823497324, 'recall': 0.6840891621829363, 'f1-score': 0.7380328228973645, 'support': 1301}, 'samples avg': {'precision': 0.8035, 'recall': 0.73415, 'f1-score': 0.7516380952380953, 'support': 1301}}, {'Conspiracy Theory': {'precision': 0.45161290322580644, 'recall': 0.3111111111111111, 'f1-score': 0.3684210526315789, 'support': 45}, 'Education': {'precision': 0.5, 'recall': 0.46153846153846156, 'f1-score': 0.48000000000000004, 'support': 13}, 'Election Campaign': {'precision': 0.8518518518518519, 'recall': 0.696969696969697, 'f1-score': 0.7666666666666667, 'support': 33}, 'Environment': {'precision': 1.0, 'recall': 0.2857142857142857, 'f1-score': 0.4444444444444445, 'support': 14}, 'Government/Public': {'precision': 0.8514851485148515, 'recall': 0.5910652920962199, 'f1-score': 0.6977687626774848, 'support': 291}, 'Health': {'precision': 0.7575757575757576, 'recall': 0.5434782608695652, 'f1-score': 0.6329113924050633, 'support': 46}, 'Immigration/Integration': {'precision': 1.0, 'recall': 0.2777777777777778, 'f1-score': 0.4347826086956522, 'support': 36}, 'Justice/Crime': {'precision': 0.9, 'recall': 0.7226277372262774, 'f1-score': 0.8016194331983806, 'support': 137}, 'Labor/Employment': {'precision': 0.9, 'recall': 0.32142857142857145, 'f1-score': 0.4736842105263158, 'support': 28}, 'Macroeconomics/Economic Regulation': {'precision': 0.9166666666666666, 'recall': 0.532258064516129, 'f1-score': 0.673469387755102, 'support': 62}, 'Media/Journalism': {'precision': 0.8823529411764706, 'recall': 0.3125, 'f1-score': 0.46153846153846156, 'support': 48}, 'Others': {'precision': 0.7873754152823921, 'recall': 0.8745387453874539, 'f1-score': 0.8286713286713286, 'support': 271}, 'Religion': {'precision': 0.6363636363636364, 'recall': 0.6363636363636364, 'f1-score': 0.6363636363636364, 'support': 11}, 'Science/Technology': {'precision': 0.625, 'recall': 0.45454545454545453, 'f1-score': 0.5263157894736842, 'support': 11}, 'War/Terror': {'precision': 0.9297520661157025, 'recall': 0.8823529411764706, 'f1-score': 0.9054325955734407, 'support': 255}, 'micro avg': {'precision': 0.8387096774193549, 'recall': 0.6794773251345119, 'f1-score': 0.7507430997876858, 'support': 1301}, 'macro avg': {'precision': 0.7993357591182091, 'recall': 0.5269513357814074, 'f1-score': 0.6088059847080827, 'support': 1301}, 'weighted avg': {'precision': 0.8451891957981672, 'recall': 0.6794773251345119, 'f1-score': 0.7358928989672661, 'support': 1301}, 'samples avg': {'precision': 0.8005, 'recall': 0.7321666666666666, 'f1-score': 0.7503714285714286, 'support': 1301}}, {'Conspiracy Theory': {'precision': 0.47058823529411764, 'recall': 0.35555555555555557, 'f1-score': 0.40506329113924056, 'support': 45}, 'Education': {'precision': 0.46153846153846156, 'recall': 0.46153846153846156, 'f1-score': 0.46153846153846156, 'support': 13}, 'Election Campaign': {'precision': 0.8846153846153846, 'recall': 0.696969696969697, 'f1-score': 0.7796610169491526, 'support': 33}, 'Environment': {'precision': 0.8888888888888888, 'recall': 0.5714285714285714, 'f1-score': 0.6956521739130435, 'support': 14}, 'Government/Public': {'precision': 0.7489539748953975, 'recall': 0.6151202749140894, 'f1-score': 0.6754716981132076, 'support': 291}, 'Health': {'precision': 0.6904761904761905, 'recall': 0.6304347826086957, 'f1-score': 0.6590909090909092, 'support': 46}, 'Immigration/Integration': {'precision': 0.7368421052631579, 'recall': 0.7777777777777778, 'f1-score': 0.7567567567567567, 'support': 36}, 'Justice/Crime': {'precision': 0.8833333333333333, 'recall': 0.7737226277372263, 'f1-score': 0.8249027237354085, 'support': 137}, 'Labor/Employment': {'precision': 0.8333333333333334, 'recall': 0.5357142857142857, 'f1-score': 0.6521739130434783, 'support': 28}, 'Macroeconomics/Economic Regulation': {'precision': 0.7962962962962963, 'recall': 0.6935483870967742, 'f1-score': 0.7413793103448276, 'support': 62}, 'Media/Journalism': {'precision': 1.0, 'recall': 0.10416666666666667, 'f1-score': 0.18867924528301885, 'support': 48}, 'Others': {'precision': 0.8686440677966102, 'recall': 0.7564575645756457, 'f1-score': 0.8086785009861933, 'support': 271}, 'Religion': {'precision': 0.6153846153846154, 'recall': 0.7272727272727273, 'f1-score': 0.6666666666666667, 'support': 11}, 'Science/Technology': {'precision': 0.5454545454545454, 'recall': 0.5454545454545454, 'f1-score': 0.5454545454545454, 'support': 11}, 'War/Terror': {'precision': 0.9478260869565217, 'recall': 0.8549019607843137, 'f1-score': 0.8989690721649484, 'support': 255}, 'micro avg': {'precision': 0.8226102941176471, 'recall': 0.6879323597232898, 'f1-score': 0.749267475931352, 'support': 1301}, 'macro avg': {'precision': 0.7581450346351236, 'recall': 0.606670925739669, 'f1-score': 0.6506758856786573, 'support': 1301}, 'weighted avg': {'precision': 0.827544078137834, 'recall': 0.6879323597232898, 'f1-score': 0.7393055077189278, 'support': 1301}, 'samples avg': {'precision': 0.7693333333333332, 'recall': 0.7262666666666666, 'f1-score': 0.7338880952380953, 'support': 1301}}, {'Conspiracy Theory': {'precision': 0.5, 'recall': 0.35555555555555557, 'f1-score': 0.41558441558441556, 'support': 45}, 'Education': {'precision': 0.42105263157894735, 'recall': 0.6153846153846154, 'f1-score': 0.5, 'support': 13}, 'Election Campaign': {'precision': 0.8620689655172413, 'recall': 0.7575757575757576, 'f1-score': 0.8064516129032258, 'support': 33}, 'Environment': {'precision': 0.5625, 'recall': 0.6428571428571429, 'f1-score': 0.6000000000000001, 'support': 14}, 'Government/Public': {'precision': 0.7056962025316456, 'recall': 0.7663230240549829, 'f1-score': 0.7347611202635913, 'support': 291}, 'Health': {'precision': 0.717948717948718, 'recall': 0.6086956521739131, 'f1-score': 0.6588235294117647, 'support': 46}, 'Immigration/Integration': {'precision': 0.8461538461538461, 'recall': 0.6111111111111112, 'f1-score': 0.7096774193548387, 'support': 36}, 'Justice/Crime': {'precision': 0.8134328358208955, 'recall': 0.7956204379562044, 'f1-score': 0.8044280442804429, 'support': 137}, 'Labor/Employment': {'precision': 0.6666666666666666, 'recall': 0.5, 'f1-score': 0.5714285714285715, 'support': 28}, 'Macroeconomics/Economic Regulation': {'precision': 0.7547169811320755, 'recall': 0.6451612903225806, 'f1-score': 0.6956521739130435, 'support': 62}, 'Media/Journalism': {'precision': 0.9615384615384616, 'recall': 0.5208333333333334, 'f1-score': 0.6756756756756757, 'support': 48}, 'Others': {'precision': 0.8829268292682927, 'recall': 0.6678966789667896, 'f1-score': 0.7605042016806722, 'support': 271}, 'Religion': {'precision': 0.5714285714285714, 'recall': 0.7272727272727273, 'f1-score': 0.64, 'support': 11}, 'Science/Technology': {'precision': 0.1794871794871795, 'recall': 0.6363636363636364, 'f1-score': 0.28, 'support': 11}, 'War/Terror': {'precision': 0.9203187250996016, 'recall': 0.9058823529411765, 'f1-score': 0.9130434782608696, 'support': 255}, 'micro avg': {'precision': 0.7754098360655738, 'recall': 0.7271329746348962, 'f1-score': 0.7504958349861167, 'support': 1301}, 'macro avg': {'precision': 0.6910624409448095, 'recall': 0.6504355543913019, 'f1-score': 0.6510686828504739, 'support': 1301}, 'weighted avg': {'precision': 0.7981625807431414, 'recall': 0.7271329746348962, 'f1-score': 0.753801838790908, 'support': 1301}, 'samples avg': {'precision': 0.76625, 'recall': 0.7530166666666667, 'f1-score': 0.74425, 'support': 1301}}, {'Conspiracy Theory': {'precision': 0.3888888888888889, 'recall': 0.4666666666666667, 'f1-score': 0.42424242424242425, 'support': 45}, 'Education': {'precision': 0.5, 'recall': 0.5384615384615384, 'f1-score': 0.5185185185185186, 'support': 13}, 'Election Campaign': {'precision': 0.88, 'recall': 0.6666666666666666, 'f1-score': 0.7586206896551725, 'support': 33}, 'Environment': {'precision': 0.7142857142857143, 'recall': 0.35714285714285715, 'f1-score': 0.4761904761904762, 'support': 14}, 'Government/Public': {'precision': 0.8138528138528138, 'recall': 0.6460481099656358, 'f1-score': 0.7203065134099618, 'support': 291}, 'Health': {'precision': 0.8148148148148148, 'recall': 0.4782608695652174, 'f1-score': 0.6027397260273973, 'support': 46}, 'Immigration/Integration': {'precision': 0.8333333333333334, 'recall': 0.5555555555555556, 'f1-score': 0.6666666666666667, 'support': 36}, 'Justice/Crime': {'precision': 0.8134328358208955, 'recall': 0.7956204379562044, 'f1-score': 0.8044280442804429, 'support': 137}, 'Labor/Employment': {'precision': 0.7777777777777778, 'recall': 0.5, 'f1-score': 0.6086956521739131, 'support': 28}, 'Macroeconomics/Economic Regulation': {'precision': 0.8947368421052632, 'recall': 0.5483870967741935, 'f1-score': 0.6799999999999999, 'support': 62}, 'Media/Journalism': {'precision': 1.0, 'recall': 0.020833333333333332, 'f1-score': 0.04081632653061225, 'support': 48}, 'Others': {'precision': 0.8553719008264463, 'recall': 0.7638376383763837, 'f1-score': 0.8070175438596491, 'support': 271}, 'Religion': {'precision': 0.5, 'recall': 0.5454545454545454, 'f1-score': 0.5217391304347826, 'support': 11}, 'Science/Technology': {'precision': 0.46153846153846156, 'recall': 0.5454545454545454, 'f1-score': 0.4999999999999999, 'support': 11}, 'War/Terror': {'precision': 0.9427312775330396, 'recall': 0.8392156862745098, 'f1-score': 0.8879668049792532, 'support': 255}, 'micro avg': {'precision': 0.8209934395501406, 'recall': 0.6733282090699462, 'f1-score': 0.7398648648648648, 'support': 1301}, 'macro avg': {'precision': 0.7460509773851632, 'recall': 0.5511737031765236, 'f1-score': 0.6011965677979513, 'support': 1301}, 'weighted avg': {'precision': 0.8353755532515237, 'recall': 0.6733282090699462, 'f1-score': 0.7276016496139225, 'support': 1301}, 'samples avg': {'precision': 0.7681666666666668, 'recall': 0.7161166666666666, 'f1-score': 0.7276333333333334, 'support': 1301}}]\n",
      "5\n",
      "\n",
      "Average Validation Classification Report In DataFrame Format:\n",
      "                                    precision    recall  f1-score  support\n",
      "Conspiracy Theory                    0.647549  0.440683  0.483956     50.8\n",
      "Education                            0.723954  0.534058  0.610526     12.6\n",
      "Election Campaign                    0.904001  0.599201  0.699156     26.6\n",
      "Environment                          0.840556  0.453571  0.531667     11.6\n",
      "Government/Public                    0.794679  0.680816  0.728042    249.6\n",
      "Health                               0.890905  0.770005  0.823217     42.8\n",
      "Immigration/Integration              0.855928  0.519272  0.614612     40.2\n",
      "Justice/Crime                        0.843964  0.699889  0.762987    114.4\n",
      "Labor/Employment                     0.772424  0.395570  0.519263     19.4\n",
      "Macroeconomics/Economic Regulation   0.792127  0.577236  0.663029     50.0\n",
      "Media/Journalism                     0.878247  0.250538  0.376939     36.8\n",
      "Others                               0.875348  0.735341  0.794796    211.4\n",
      "Religion                             0.624098  0.560105  0.572710     14.2\n",
      "Science/Technology                   0.491950  0.404329  0.413879     10.8\n",
      "War/Terror                           0.926533  0.903573  0.914518    187.8\n",
      "micro avg                            0.830502  0.685050  0.750252   1079.0\n",
      "macro avg                            0.790818  0.568279  0.633953   1079.0\n",
      "weighted avg                         0.838586  0.685050  0.738621   1079.0\n",
      "samples avg                          0.784042  0.725650  0.736857   1079.0\n",
      "\n",
      "Average Test Classification Report In DataFrame Format:\n",
      "                                    precision    recall  f1-score  support\n",
      "Conspiracy Theory                    0.505075  0.320000  0.361124     45.0\n",
      "Education                            0.485609  0.507692  0.492011     13.0\n",
      "Election Campaign                    0.860413  0.648485  0.734280     33.0\n",
      "Environment                          0.804563  0.457143  0.557543     14.0\n",
      "Government/Public                    0.781086  0.664605  0.714212    291.0\n",
      "Health                               0.752413  0.560870  0.638918     46.0\n",
      "Immigration/Integration              0.873742  0.555556  0.653928     36.0\n",
      "Justice/Crime                        0.857902  0.766423  0.808340    137.0\n",
      "Labor/Employment                     0.795556  0.457143  0.572824     28.0\n",
      "Macroeconomics/Economic Regulation   0.825972  0.590323  0.683814     62.0\n",
      "Media/Journalism                     0.938778  0.262500  0.373342     48.0\n",
      "Others                               0.847459  0.763100  0.800039    271.0\n",
      "Religion                             0.564635  0.636364  0.597302     11.0\n",
      "Science/Technology                   0.473407  0.527273  0.470354     11.0\n",
      "War/Terror                           0.931393  0.876863  0.902901    255.0\n",
      "micro avg                            0.818838  0.690392  0.748603   1301.0\n",
      "macro avg                            0.753200  0.572956  0.624062   1301.0\n",
      "weighted avg                         0.827613  0.690392  0.738927   1301.0\n",
      "samples avg                          0.781550  0.732343  0.741556   1301.0\n"
     ]
    }
   ],
   "source": [
    "generic_val_average_report_df, generic_test_average_report_df = calculate_metrics(\"oa_classification_only_v03_distinct_generic\")"
   ]
  },
  {
   "cell_type": "code",
   "execution_count": 11,
   "metadata": {},
   "outputs": [
    {
     "name": "stdout",
     "output_type": "stream",
     "text": [
      "../models/weak_labeled/davinci_elaboration_first_v04_distinct_generic_epochs_200_train_size_full_fold_0/\n",
      "0                                  ['Science/Technology']\n",
      "1                                              ['Others']\n",
      "2       ['Health', 'Justice/Crime', 'Macroeconomics/Ec...\n",
      "3                                              ['Others']\n",
      "4                                   ['Government/Public']\n",
      "                              ...                        \n",
      "3630                                         ['Religion']\n",
      "3631                                        ['Education']\n",
      "3632                                ['Conspiracy Theory']\n",
      "3633                                ['Conspiracy Theory']\n",
      "3634                               ['Science/Technology']\n",
      "Name: annotations, Length: 3635, dtype: object\n",
      "['Conspiracy Theory', 'Education', 'Election Campaign', 'Environment', 'Government/Public', 'Health', 'Immigration/Integration', 'Justice/Crime', 'Labor/Employment', 'Macroeconomics/Economic Regulation', 'Media/Journalism', 'Others', 'Religion', 'Science/Technology', 'War/Terror']\n"
     ]
    },
    {
     "name": "stderr",
     "output_type": "stream",
     "text": [
      "/tmp/ipykernel_341441/3473448682.py:37: UserWarning: To copy construct from a tensor, it is recommended to use sourceTensor.clone().detach() or sourceTensor.clone().detach().requires_grad_(True), rather than torch.tensor(sourceTensor).\n",
      "  'label': torch.tensor(label, dtype=torch.float32)}\n",
      "You're using a RobertaTokenizerFast tokenizer. Please note that with a fast tokenizer, using the `__call__` method is faster than using a method to encode the text followed by a call to the `pad` method to get a padded encoding.\n",
      "/tmp/ipykernel_341441/3473448682.py:37: UserWarning: To copy construct from a tensor, it is recommended to use sourceTensor.clone().detach() or sourceTensor.clone().detach().requires_grad_(True), rather than torch.tensor(sourceTensor).\n",
      "  'label': torch.tensor(label, dtype=torch.float32)}\n"
     ]
    },
    {
     "name": "stdout",
     "output_type": "stream",
     "text": [
      "../models/weak_labeled/davinci_elaboration_first_v04_distinct_generic_epochs_200_train_size_full_fold_1/\n",
      "0                                  ['Science/Technology']\n",
      "1                                              ['Others']\n",
      "2       ['Health', 'Justice/Crime', 'Macroeconomics/Ec...\n",
      "3                                              ['Others']\n",
      "4                                          ['War/Terror']\n",
      "                              ...                        \n",
      "3630                                         ['Religion']\n",
      "3631                                        ['Education']\n",
      "3632                                ['Conspiracy Theory']\n",
      "3633                                ['Conspiracy Theory']\n",
      "3634                               ['Science/Technology']\n",
      "Name: annotations, Length: 3635, dtype: object\n",
      "['Conspiracy Theory', 'Education', 'Election Campaign', 'Environment', 'Government/Public', 'Health', 'Immigration/Integration', 'Justice/Crime', 'Labor/Employment', 'Macroeconomics/Economic Regulation', 'Media/Journalism', 'Others', 'Religion', 'Science/Technology', 'War/Terror']\n"
     ]
    },
    {
     "name": "stderr",
     "output_type": "stream",
     "text": [
      "/tmp/ipykernel_341441/3473448682.py:37: UserWarning: To copy construct from a tensor, it is recommended to use sourceTensor.clone().detach() or sourceTensor.clone().detach().requires_grad_(True), rather than torch.tensor(sourceTensor).\n",
      "  'label': torch.tensor(label, dtype=torch.float32)}\n",
      "You're using a RobertaTokenizerFast tokenizer. Please note that with a fast tokenizer, using the `__call__` method is faster than using a method to encode the text followed by a call to the `pad` method to get a padded encoding.\n",
      "/tmp/ipykernel_341441/3473448682.py:37: UserWarning: To copy construct from a tensor, it is recommended to use sourceTensor.clone().detach() or sourceTensor.clone().detach().requires_grad_(True), rather than torch.tensor(sourceTensor).\n",
      "  'label': torch.tensor(label, dtype=torch.float32)}\n"
     ]
    },
    {
     "name": "stdout",
     "output_type": "stream",
     "text": [
      "../models/weak_labeled/davinci_elaboration_first_v04_distinct_generic_epochs_200_train_size_full_fold_2/\n",
      "0       ['Science/Technology']\n",
      "1                   ['Others']\n",
      "2                   ['Others']\n",
      "3        ['Government/Public']\n",
      "4               ['War/Terror']\n",
      "                 ...          \n",
      "3630              ['Religion']\n",
      "3631             ['Education']\n",
      "3632     ['Conspiracy Theory']\n",
      "3633     ['Conspiracy Theory']\n",
      "3634    ['Science/Technology']\n",
      "Name: annotations, Length: 3635, dtype: object\n",
      "['Conspiracy Theory', 'Education', 'Election Campaign', 'Environment', 'Government/Public', 'Health', 'Immigration/Integration', 'Justice/Crime', 'Labor/Employment', 'Macroeconomics/Economic Regulation', 'Media/Journalism', 'Others', 'Religion', 'Science/Technology', 'War/Terror']\n"
     ]
    },
    {
     "name": "stderr",
     "output_type": "stream",
     "text": [
      "/tmp/ipykernel_341441/3473448682.py:37: UserWarning: To copy construct from a tensor, it is recommended to use sourceTensor.clone().detach() or sourceTensor.clone().detach().requires_grad_(True), rather than torch.tensor(sourceTensor).\n",
      "  'label': torch.tensor(label, dtype=torch.float32)}\n",
      "You're using a RobertaTokenizerFast tokenizer. Please note that with a fast tokenizer, using the `__call__` method is faster than using a method to encode the text followed by a call to the `pad` method to get a padded encoding.\n",
      "/tmp/ipykernel_341441/3473448682.py:37: UserWarning: To copy construct from a tensor, it is recommended to use sourceTensor.clone().detach() or sourceTensor.clone().detach().requires_grad_(True), rather than torch.tensor(sourceTensor).\n",
      "  'label': torch.tensor(label, dtype=torch.float32)}\n"
     ]
    },
    {
     "name": "stdout",
     "output_type": "stream",
     "text": [
      "../models/weak_labeled/davinci_elaboration_first_v04_distinct_generic_epochs_200_train_size_full_fold_3/\n",
      "0                                  ['Science/Technology']\n",
      "1       ['Health', 'Justice/Crime', 'Macroeconomics/Ec...\n",
      "2                                              ['Others']\n",
      "3                                   ['Government/Public']\n",
      "4                                          ['War/Terror']\n",
      "                              ...                        \n",
      "3630                                         ['Religion']\n",
      "3631                                        ['Education']\n",
      "3632                                ['Conspiracy Theory']\n",
      "3633                                ['Conspiracy Theory']\n",
      "3634                               ['Science/Technology']\n",
      "Name: annotations, Length: 3635, dtype: object\n",
      "['Conspiracy Theory', 'Education', 'Election Campaign', 'Environment', 'Government/Public', 'Health', 'Immigration/Integration', 'Justice/Crime', 'Labor/Employment', 'Macroeconomics/Economic Regulation', 'Media/Journalism', 'Others', 'Religion', 'Science/Technology', 'War/Terror']\n"
     ]
    },
    {
     "name": "stderr",
     "output_type": "stream",
     "text": [
      "/tmp/ipykernel_341441/3473448682.py:37: UserWarning: To copy construct from a tensor, it is recommended to use sourceTensor.clone().detach() or sourceTensor.clone().detach().requires_grad_(True), rather than torch.tensor(sourceTensor).\n",
      "  'label': torch.tensor(label, dtype=torch.float32)}\n",
      "You're using a RobertaTokenizerFast tokenizer. Please note that with a fast tokenizer, using the `__call__` method is faster than using a method to encode the text followed by a call to the `pad` method to get a padded encoding.\n",
      "/tmp/ipykernel_341441/3473448682.py:37: UserWarning: To copy construct from a tensor, it is recommended to use sourceTensor.clone().detach() or sourceTensor.clone().detach().requires_grad_(True), rather than torch.tensor(sourceTensor).\n",
      "  'label': torch.tensor(label, dtype=torch.float32)}\n"
     ]
    },
    {
     "name": "stdout",
     "output_type": "stream",
     "text": [
      "../models/weak_labeled/davinci_elaboration_first_v04_distinct_generic_epochs_200_train_size_full_fold_4/\n",
      "0                                              ['Others']\n",
      "1       ['Health', 'Justice/Crime', 'Macroeconomics/Ec...\n",
      "2                                   ['Government/Public']\n",
      "3                                          ['War/Terror']\n",
      "4                                          ['War/Terror']\n",
      "                              ...                        \n",
      "3630                                         ['Religion']\n",
      "3631                                        ['Education']\n",
      "3632                                ['Conspiracy Theory']\n",
      "3633                                ['Conspiracy Theory']\n",
      "3634                               ['Science/Technology']\n",
      "Name: annotations, Length: 3635, dtype: object\n",
      "['Conspiracy Theory', 'Education', 'Election Campaign', 'Environment', 'Government/Public', 'Health', 'Immigration/Integration', 'Justice/Crime', 'Labor/Employment', 'Macroeconomics/Economic Regulation', 'Media/Journalism', 'Others', 'Religion', 'Science/Technology', 'War/Terror']\n"
     ]
    },
    {
     "name": "stderr",
     "output_type": "stream",
     "text": [
      "/tmp/ipykernel_341441/3473448682.py:37: UserWarning: To copy construct from a tensor, it is recommended to use sourceTensor.clone().detach() or sourceTensor.clone().detach().requires_grad_(True), rather than torch.tensor(sourceTensor).\n",
      "  'label': torch.tensor(label, dtype=torch.float32)}\n",
      "You're using a RobertaTokenizerFast tokenizer. Please note that with a fast tokenizer, using the `__call__` method is faster than using a method to encode the text followed by a call to the `pad` method to get a padded encoding.\n",
      "/tmp/ipykernel_341441/3473448682.py:37: UserWarning: To copy construct from a tensor, it is recommended to use sourceTensor.clone().detach() or sourceTensor.clone().detach().requires_grad_(True), rather than torch.tensor(sourceTensor).\n",
      "  'label': torch.tensor(label, dtype=torch.float32)}\n"
     ]
    },
    {
     "name": "stdout",
     "output_type": "stream",
     "text": [
      "[{'Conspiracy Theory': {'precision': 0.6451612903225806, 'recall': 0.425531914893617, 'f1-score': 0.5128205128205128, 'support': 47}, 'Education': {'precision': 1.0, 'recall': 0.25, 'f1-score': 0.4, 'support': 12}, 'Election Campaign': {'precision': 0.8571428571428571, 'recall': 0.6923076923076923, 'f1-score': 0.7659574468085107, 'support': 26}, 'Environment': {'precision': 0.7, 'recall': 0.5, 'f1-score': 0.5833333333333334, 'support': 14}, 'Government/Public': {'precision': 0.7473684210526316, 'recall': 0.8452380952380952, 'f1-score': 0.7932960893854749, 'support': 252}, 'Health': {'precision': 0.9722222222222222, 'recall': 0.7777777777777778, 'f1-score': 0.8641975308641976, 'support': 45}, 'Immigration/Integration': {'precision': 0.896551724137931, 'recall': 0.65, 'f1-score': 0.7536231884057972, 'support': 40}, 'Justice/Crime': {'precision': 0.8194444444444444, 'recall': 0.5514018691588785, 'f1-score': 0.659217877094972, 'support': 107}, 'Labor/Employment': {'precision': 0.6875, 'recall': 0.5789473684210527, 'f1-score': 0.6285714285714286, 'support': 19}, 'Macroeconomics/Economic Regulation': {'precision': 0.7948717948717948, 'recall': 0.5344827586206896, 'f1-score': 0.6391752577319587, 'support': 58}, 'Media/Journalism': {'precision': 1.0, 'recall': 0.34210526315789475, 'f1-score': 0.5098039215686275, 'support': 38}, 'Others': {'precision': 0.8704663212435233, 'recall': 0.8195121951219512, 'f1-score': 0.8442211055276382, 'support': 205}, 'Religion': {'precision': 0.7222222222222222, 'recall': 0.5909090909090909, 'f1-score': 0.65, 'support': 22}, 'Science/Technology': {'precision': 1.0, 'recall': 0.3, 'f1-score': 0.4615384615384615, 'support': 10}, 'War/Terror': {'precision': 0.9251336898395722, 'recall': 0.9351351351351351, 'f1-score': 0.9301075268817205, 'support': 185}, 'micro avg': {'precision': 0.8294979079497908, 'recall': 0.7342592592592593, 'f1-score': 0.7789783889980355, 'support': 1080}, 'macro avg': {'precision': 0.842538999166652, 'recall': 0.5862232773827916, 'f1-score': 0.6663909120355088, 'support': 1080}, 'weighted avg': {'precision': 0.8358213361332478, 'recall': 0.7342592592592593, 'f1-score': 0.7675028176095017, 'support': 1080}, 'samples avg': {'precision': 0.815625, 'recall': 0.7771875, 'f1-score': 0.7789940476190478, 'support': 1080}}, {'Conspiracy Theory': {'precision': 0.5454545454545454, 'recall': 0.6, 'f1-score': 0.5714285714285713, 'support': 60}, 'Education': {'precision': 0.6875, 'recall': 0.6875, 'f1-score': 0.6875, 'support': 16}, 'Election Campaign': {'precision': 0.88, 'recall': 0.6285714285714286, 'f1-score': 0.7333333333333334, 'support': 35}, 'Environment': {'precision': 0.75, 'recall': 0.42857142857142855, 'f1-score': 0.5454545454545454, 'support': 14}, 'Government/Public': {'precision': 0.7276785714285714, 'recall': 0.6680327868852459, 'f1-score': 0.6965811965811965, 'support': 244}, 'Health': {'precision': 0.8333333333333334, 'recall': 0.7317073170731707, 'f1-score': 0.7792207792207793, 'support': 41}, 'Immigration/Integration': {'precision': 0.8918918918918919, 'recall': 0.7333333333333333, 'f1-score': 0.8048780487804879, 'support': 45}, 'Justice/Crime': {'precision': 0.7884615384615384, 'recall': 0.7454545454545455, 'f1-score': 0.766355140186916, 'support': 110}, 'Labor/Employment': {'precision': 0.6086956521739131, 'recall': 0.875, 'f1-score': 0.717948717948718, 'support': 16}, 'Macroeconomics/Economic Regulation': {'precision': 0.625, 'recall': 0.7, 'f1-score': 0.6603773584905661, 'support': 50}, 'Media/Journalism': {'precision': 0.8181818181818182, 'recall': 0.5625, 'f1-score': 0.6666666666666666, 'support': 32}, 'Others': {'precision': 0.9181286549707602, 'recall': 0.6796536796536796, 'f1-score': 0.7810945273631841, 'support': 231}, 'Religion': {'precision': 0.75, 'recall': 0.8571428571428571, 'f1-score': 0.7999999999999999, 'support': 14}, 'Science/Technology': {'precision': 0.7142857142857143, 'recall': 0.35714285714285715, 'f1-score': 0.4761904761904762, 'support': 14}, 'War/Terror': {'precision': 0.8978494623655914, 'recall': 0.9382022471910112, 'f1-score': 0.9175824175824175, 'support': 178}, 'micro avg': {'precision': 0.7933801404212638, 'recall': 0.7190909090909091, 'f1-score': 0.7544110634239389, 'support': 1100}, 'macro avg': {'precision': 0.7624307455031784, 'recall': 0.6795208320679705, 'f1-score': 0.7069741186151908, 'support': 1100}, 'weighted avg': {'precision': 0.8028993521857608, 'recall': 0.7190909090909091, 'f1-score': 0.7531724906186953, 'support': 1100}, 'samples avg': {'precision': 0.7764583333333335, 'recall': 0.7442708333333334, 'f1-score': 0.7420892857142857, 'support': 1100}}, {'Conspiracy Theory': {'precision': 0.43137254901960786, 'recall': 0.5, 'f1-score': 0.4631578947368421, 'support': 44}, 'Education': {'precision': 0.5833333333333334, 'recall': 0.6363636363636364, 'f1-score': 0.6086956521739131, 'support': 11}, 'Election Campaign': {'precision': 0.8571428571428571, 'recall': 0.72, 'f1-score': 0.782608695652174, 'support': 25}, 'Environment': {'precision': 0.8, 'recall': 0.7272727272727273, 'f1-score': 0.761904761904762, 'support': 11}, 'Government/Public': {'precision': 0.751937984496124, 'recall': 0.782258064516129, 'f1-score': 0.766798418972332, 'support': 248}, 'Health': {'precision': 0.8387096774193549, 'recall': 0.65, 'f1-score': 0.7323943661971831, 'support': 40}, 'Immigration/Integration': {'precision': 0.625, 'recall': 0.8620689655172413, 'f1-score': 0.7246376811594203, 'support': 29}, 'Justice/Crime': {'precision': 0.8640776699029126, 'recall': 0.7739130434782608, 'f1-score': 0.8165137614678899, 'support': 115}, 'Labor/Employment': {'precision': 0.42857142857142855, 'recall': 0.6, 'f1-score': 0.5, 'support': 20}, 'Macroeconomics/Economic Regulation': {'precision': 0.7692307692307693, 'recall': 0.625, 'f1-score': 0.6896551724137931, 'support': 48}, 'Media/Journalism': {'precision': 0.8108108108108109, 'recall': 0.6666666666666666, 'f1-score': 0.7317073170731707, 'support': 45}, 'Others': {'precision': 0.9156626506024096, 'recall': 0.7203791469194313, 'f1-score': 0.806366047745358, 'support': 211}, 'Religion': {'precision': 0.4, 'recall': 0.6, 'f1-score': 0.48, 'support': 10}, 'Science/Technology': {'precision': 0.7, 'recall': 0.6363636363636364, 'f1-score': 0.6666666666666666, 'support': 11}, 'War/Terror': {'precision': 0.9117647058823529, 'recall': 0.93, 'f1-score': 0.9207920792079208, 'support': 200}, 'micro avg': {'precision': 0.7921951219512195, 'recall': 0.7602996254681648, 'f1-score': 0.7759197324414715, 'support': 1068}, 'macro avg': {'precision': 0.7125076290941307, 'recall': 0.6953523924731819, 'f1-score': 0.696793234358095, 'support': 1068}, 'weighted avg': {'precision': 0.8074787658963669, 'recall': 0.7602996254681648, 'f1-score': 0.7788964325687171, 'support': 1068}, 'samples avg': {'precision': 0.8025, 'recall': 0.7927083333333332, 'f1-score': 0.780767857142857, 'support': 1068}}, {'Conspiracy Theory': {'precision': 0.8, 'recall': 0.3333333333333333, 'f1-score': 0.47058823529411764, 'support': 48}, 'Education': {'precision': 0.75, 'recall': 0.3, 'f1-score': 0.4285714285714285, 'support': 10}, 'Election Campaign': {'precision': 0.7307692307692307, 'recall': 0.7916666666666666, 'f1-score': 0.76, 'support': 24}, 'Environment': {'precision': 0.5, 'recall': 0.375, 'f1-score': 0.42857142857142855, 'support': 8}, 'Government/Public': {'precision': 0.8040201005025126, 'recall': 0.64, 'f1-score': 0.7126948775055679, 'support': 250}, 'Health': {'precision': 0.9210526315789473, 'recall': 0.7142857142857143, 'f1-score': 0.8045977011494253, 'support': 49}, 'Immigration/Integration': {'precision': 0.8846153846153846, 'recall': 0.5111111111111111, 'f1-score': 0.6478873239436619, 'support': 45}, 'Justice/Crime': {'precision': 0.9090909090909091, 'recall': 0.6896551724137931, 'f1-score': 0.7843137254901961, 'support': 116}, 'Labor/Employment': {'precision': 0.7857142857142857, 'recall': 0.4583333333333333, 'f1-score': 0.5789473684210527, 'support': 24}, 'Macroeconomics/Economic Regulation': {'precision': 0.8809523809523809, 'recall': 0.6607142857142857, 'f1-score': 0.7551020408163266, 'support': 56}, 'Media/Journalism': {'precision': 0.8823529411764706, 'recall': 0.38461538461538464, 'f1-score': 0.5357142857142858, 'support': 39}, 'Others': {'precision': 0.8323353293413174, 'recall': 0.7393617021276596, 'f1-score': 0.7830985915492957, 'support': 188}, 'Religion': {'precision': 0.7368421052631579, 'recall': 0.875, 'f1-score': 0.7999999999999999, 'support': 16}, 'Science/Technology': {'precision': 0.25, 'recall': 0.14285714285714285, 'f1-score': 0.18181818181818182, 'support': 7}, 'War/Terror': {'precision': 0.9354838709677419, 'recall': 0.8787878787878788, 'f1-score': 0.90625, 'support': 198}, 'micro avg': {'precision': 0.852803738317757, 'recall': 0.6771799628942486, 'f1-score': 0.7549120992761117, 'support': 1078}, 'macro avg': {'precision': 0.7735486113314892, 'recall': 0.5663147816830869, 'f1-score': 0.6385436792563313, 'support': 1078}, 'weighted avg': {'precision': 0.8503560912078344, 'recall': 0.6771799628942486, 'f1-score': 0.7459025234045605, 'support': 1078}, 'samples avg': {'precision': 0.8075, 'recall': 0.7292291666666665, 'f1-score': 0.7497361111111113, 'support': 1078}}, {'Conspiracy Theory': {'precision': 0.5227272727272727, 'recall': 0.41818181818181815, 'f1-score': 0.4646464646464646, 'support': 55}, 'Education': {'precision': 0.7272727272727273, 'recall': 0.5714285714285714, 'f1-score': 0.64, 'support': 14}, 'Election Campaign': {'precision': 0.85, 'recall': 0.7391304347826086, 'f1-score': 0.7906976744186046, 'support': 23}, 'Environment': {'precision': 0.75, 'recall': 0.5454545454545454, 'f1-score': 0.631578947368421, 'support': 11}, 'Government/Public': {'precision': 0.8235294117647058, 'recall': 0.6614173228346457, 'f1-score': 0.7336244541484717, 'support': 254}, 'Health': {'precision': 0.8461538461538461, 'recall': 0.8461538461538461, 'f1-score': 0.8461538461538461, 'support': 39}, 'Immigration/Integration': {'precision': 0.7878787878787878, 'recall': 0.6190476190476191, 'f1-score': 0.6933333333333334, 'support': 42}, 'Justice/Crime': {'precision': 0.83, 'recall': 0.6693548387096774, 'f1-score': 0.7410714285714286, 'support': 124}, 'Labor/Employment': {'precision': 0.5384615384615384, 'recall': 0.3888888888888889, 'f1-score': 0.45161290322580644, 'support': 18}, 'Macroeconomics/Economic Regulation': {'precision': 0.71875, 'recall': 0.6052631578947368, 'f1-score': 0.6571428571428571, 'support': 38}, 'Media/Journalism': {'precision': 0.6956521739130435, 'recall': 0.5333333333333333, 'f1-score': 0.6037735849056605, 'support': 30}, 'Others': {'precision': 0.855072463768116, 'recall': 0.7972972972972973, 'f1-score': 0.8251748251748252, 'support': 222}, 'Religion': {'precision': 0.2727272727272727, 'recall': 0.3333333333333333, 'f1-score': 0.3, 'support': 9}, 'Science/Technology': {'precision': 0.2857142857142857, 'recall': 0.16666666666666666, 'f1-score': 0.2105263157894737, 'support': 12}, 'War/Terror': {'precision': 0.92, 'recall': 0.9044943820224719, 'f1-score': 0.9121813031161473, 'support': 178}, 'micro avg': {'precision': 0.8122977346278317, 'recall': 0.7043966323666978, 'f1-score': 0.7545090180360721, 'support': 1069}, 'macro avg': {'precision': 0.6949293186921064, 'recall': 0.5866297370686707, 'f1-score': 0.6334345291996895, 'support': 1069}, 'weighted avg': {'precision': 0.8066068986064548, 'recall': 0.7043966323666978, 'f1-score': 0.750233401585058, 'support': 1069}, 'samples avg': {'precision': 0.7960833333333334, 'recall': 0.740625, 'f1-score': 0.7505119047619047, 'support': 1069}}]\n",
      "5\n",
      "[{'Conspiracy Theory': {'precision': 0.40476190476190477, 'recall': 0.37777777777777777, 'f1-score': 0.39080459770114945, 'support': 45}, 'Education': {'precision': 0.0, 'recall': 0.0, 'f1-score': 0.0, 'support': 13}, 'Election Campaign': {'precision': 0.896551724137931, 'recall': 0.7878787878787878, 'f1-score': 0.8387096774193549, 'support': 33}, 'Environment': {'precision': 0.8571428571428571, 'recall': 0.42857142857142855, 'f1-score': 0.5714285714285714, 'support': 14}, 'Government/Public': {'precision': 0.7100977198697068, 'recall': 0.7491408934707904, 'f1-score': 0.7290969899665551, 'support': 291}, 'Health': {'precision': 0.7575757575757576, 'recall': 0.5434782608695652, 'f1-score': 0.6329113924050633, 'support': 46}, 'Immigration/Integration': {'precision': 0.8695652173913043, 'recall': 0.5555555555555556, 'f1-score': 0.6779661016949152, 'support': 36}, 'Justice/Crime': {'precision': 0.8928571428571429, 'recall': 0.7299270072992701, 'f1-score': 0.8032128514056225, 'support': 137}, 'Labor/Employment': {'precision': 0.8235294117647058, 'recall': 0.5, 'f1-score': 0.6222222222222222, 'support': 28}, 'Macroeconomics/Economic Regulation': {'precision': 0.8421052631578947, 'recall': 0.5161290322580645, 'f1-score': 0.6399999999999999, 'support': 62}, 'Media/Journalism': {'precision': 0.9375, 'recall': 0.3125, 'f1-score': 0.46875, 'support': 48}, 'Others': {'precision': 0.8685258964143426, 'recall': 0.8044280442804428, 'f1-score': 0.8352490421455939, 'support': 271}, 'Religion': {'precision': 0.5384615384615384, 'recall': 0.6363636363636364, 'f1-score': 0.5833333333333334, 'support': 11}, 'Science/Technology': {'precision': 0.7142857142857143, 'recall': 0.45454545454545453, 'f1-score': 0.5555555555555556, 'support': 11}, 'War/Terror': {'precision': 0.9260700389105059, 'recall': 0.9333333333333333, 'f1-score': 0.9296875, 'support': 255}, 'micro avg': {'precision': 0.8161318300086731, 'recall': 0.7232897770945427, 'f1-score': 0.7669111654441728, 'support': 1301}, 'macro avg': {'precision': 0.735935345782087, 'recall': 0.5553086141469404, 'f1-score': 0.6185951890185292, 'support': 1301}, 'weighted avg': {'precision': 0.8151277000882471, 'recall': 0.7232897770945427, 'f1-score': 0.7567598136874204, 'support': 1301}, 'samples avg': {'precision': 0.8093333333333332, 'recall': 0.7662666666666667, 'f1-score': 0.7719214285714285, 'support': 1301}}, {'Conspiracy Theory': {'precision': 0.38571428571428573, 'recall': 0.6, 'f1-score': 0.4695652173913043, 'support': 45}, 'Education': {'precision': 0.391304347826087, 'recall': 0.6923076923076923, 'f1-score': 0.5, 'support': 13}, 'Election Campaign': {'precision': 0.8064516129032258, 'recall': 0.7575757575757576, 'f1-score': 0.7812499999999999, 'support': 33}, 'Environment': {'precision': 0.75, 'recall': 0.42857142857142855, 'f1-score': 0.5454545454545454, 'support': 14}, 'Government/Public': {'precision': 0.7653846153846153, 'recall': 0.6838487972508591, 'f1-score': 0.722323049001815, 'support': 291}, 'Health': {'precision': 0.7272727272727273, 'recall': 0.5217391304347826, 'f1-score': 0.6075949367088608, 'support': 46}, 'Immigration/Integration': {'precision': 0.8571428571428571, 'recall': 0.6666666666666666, 'f1-score': 0.75, 'support': 36}, 'Justice/Crime': {'precision': 0.8014705882352942, 'recall': 0.7956204379562044, 'f1-score': 0.7985347985347986, 'support': 137}, 'Labor/Employment': {'precision': 0.5135135135135135, 'recall': 0.6785714285714286, 'f1-score': 0.5846153846153848, 'support': 28}, 'Macroeconomics/Economic Regulation': {'precision': 0.7166666666666667, 'recall': 0.6935483870967742, 'f1-score': 0.7049180327868854, 'support': 62}, 'Media/Journalism': {'precision': 0.95, 'recall': 0.3958333333333333, 'f1-score': 0.5588235294117647, 'support': 48}, 'Others': {'precision': 0.909952606635071, 'recall': 0.7084870848708487, 'f1-score': 0.7966804979253113, 'support': 271}, 'Religion': {'precision': 0.5333333333333333, 'recall': 0.7272727272727273, 'f1-score': 0.6153846153846153, 'support': 11}, 'Science/Technology': {'precision': 0.5, 'recall': 0.5454545454545454, 'f1-score': 0.5217391304347826, 'support': 11}, 'War/Terror': {'precision': 0.9073359073359073, 'recall': 0.9215686274509803, 'f1-score': 0.914396887159533, 'support': 255}, 'micro avg': {'precision': 0.7855361596009975, 'recall': 0.7263643351268255, 'f1-score': 0.7547923322683707, 'support': 1301}, 'macro avg': {'precision': 0.7010362041309057, 'recall': 0.6544710696542686, 'f1-score': 0.6580853749873068, 'support': 1301}, 'weighted avg': {'precision': 0.8071816108598573, 'recall': 0.7263643351268255, 'f1-score': 0.7563953503056199, 'support': 1301}, 'samples avg': {'precision': 0.78375, 'recall': 0.7602166666666665, 'f1-score': 0.7558055555555555, 'support': 1301}}, {'Conspiracy Theory': {'precision': 0.4461538461538462, 'recall': 0.6444444444444445, 'f1-score': 0.5272727272727272, 'support': 45}, 'Education': {'precision': 0.5294117647058824, 'recall': 0.6923076923076923, 'f1-score': 0.5999999999999999, 'support': 13}, 'Election Campaign': {'precision': 0.8571428571428571, 'recall': 0.9090909090909091, 'f1-score': 0.8823529411764706, 'support': 33}, 'Environment': {'precision': 0.6428571428571429, 'recall': 0.6428571428571429, 'f1-score': 0.6428571428571429, 'support': 14}, 'Government/Public': {'precision': 0.7259786476868327, 'recall': 0.7010309278350515, 'f1-score': 0.7132867132867131, 'support': 291}, 'Health': {'precision': 0.7105263157894737, 'recall': 0.5869565217391305, 'f1-score': 0.6428571428571428, 'support': 46}, 'Immigration/Integration': {'precision': 0.6170212765957447, 'recall': 0.8055555555555556, 'f1-score': 0.6987951807228916, 'support': 36}, 'Justice/Crime': {'precision': 0.8320610687022901, 'recall': 0.7956204379562044, 'f1-score': 0.8134328358208955, 'support': 137}, 'Labor/Employment': {'precision': 0.48717948717948717, 'recall': 0.6785714285714286, 'f1-score': 0.5671641791044776, 'support': 28}, 'Macroeconomics/Economic Regulation': {'precision': 0.8260869565217391, 'recall': 0.6129032258064516, 'f1-score': 0.7037037037037037, 'support': 62}, 'Media/Journalism': {'precision': 0.8387096774193549, 'recall': 0.5416666666666666, 'f1-score': 0.6582278481012658, 'support': 48}, 'Others': {'precision': 0.8554216867469879, 'recall': 0.7859778597785978, 'f1-score': 0.8192307692307692, 'support': 271}, 'Religion': {'precision': 0.4375, 'recall': 0.6363636363636364, 'f1-score': 0.5185185185185185, 'support': 11}, 'Science/Technology': {'precision': 1.0, 'recall': 0.45454545454545453, 'f1-score': 0.625, 'support': 11}, 'War/Terror': {'precision': 0.9346938775510204, 'recall': 0.8980392156862745, 'f1-score': 0.916, 'support': 255}, 'micro avg': {'precision': 0.7807783955520254, 'recall': 0.7555726364335127, 'f1-score': 0.76796875, 'support': 1301}, 'macro avg': {'precision': 0.7160496403368438, 'recall': 0.6923954079469763, 'f1-score': 0.6885799801768479, 'support': 1301}, 'weighted avg': {'precision': 0.7959179992483512, 'recall': 0.7555726364335127, 'f1-score': 0.7706803324028464, 'support': 1301}, 'samples avg': {'precision': 0.79575, 'recall': 0.78755, 'f1-score': 0.7747460317460317, 'support': 1301}}, {'Conspiracy Theory': {'precision': 0.5263157894736842, 'recall': 0.2222222222222222, 'f1-score': 0.3125, 'support': 45}, 'Education': {'precision': 0.5, 'recall': 0.23076923076923078, 'f1-score': 0.3157894736842105, 'support': 13}, 'Election Campaign': {'precision': 0.7777777777777778, 'recall': 0.8484848484848485, 'f1-score': 0.8115942028985507, 'support': 33}, 'Environment': {'precision': 1.0, 'recall': 0.35714285714285715, 'f1-score': 0.5263157894736842, 'support': 14}, 'Government/Public': {'precision': 0.7889908256880734, 'recall': 0.5910652920962199, 'f1-score': 0.6758349705304519, 'support': 291}, 'Health': {'precision': 0.8518518518518519, 'recall': 0.5, 'f1-score': 0.6301369863013698, 'support': 46}, 'Immigration/Integration': {'precision': 0.9523809523809523, 'recall': 0.5555555555555556, 'f1-score': 0.7017543859649122, 'support': 36}, 'Justice/Crime': {'precision': 0.9074074074074074, 'recall': 0.7153284671532847, 'f1-score': 0.7999999999999999, 'support': 137}, 'Labor/Employment': {'precision': 0.7142857142857143, 'recall': 0.5357142857142857, 'f1-score': 0.6122448979591837, 'support': 28}, 'Macroeconomics/Economic Regulation': {'precision': 0.7659574468085106, 'recall': 0.5806451612903226, 'f1-score': 0.6605504587155964, 'support': 62}, 'Media/Journalism': {'precision': 0.75, 'recall': 0.375, 'f1-score': 0.5, 'support': 48}, 'Others': {'precision': 0.8286852589641435, 'recall': 0.7675276752767528, 'f1-score': 0.7969348659003832, 'support': 271}, 'Religion': {'precision': 0.4666666666666667, 'recall': 0.6363636363636364, 'f1-score': 0.5384615384615385, 'support': 11}, 'Science/Technology': {'precision': 0.625, 'recall': 0.45454545454545453, 'f1-score': 0.5263157894736842, 'support': 11}, 'War/Terror': {'precision': 0.9221311475409836, 'recall': 0.8823529411764706, 'f1-score': 0.9018036072144289, 'support': 255}, 'micro avg': {'precision': 0.8314285714285714, 'recall': 0.671022290545734, 'f1-score': 0.742662696724798, 'support': 1301}, 'macro avg': {'precision': 0.7584967225897177, 'recall': 0.5501811751860761, 'f1-score': 0.6206824644385329, 'support': 1301}, 'weighted avg': {'precision': 0.8243257222072412, 'recall': 0.671022290545734, 'f1-score': 0.7321868049841158, 'support': 1301}, 'samples avg': {'precision': 0.7883333333333332, 'recall': 0.7166166666666666, 'f1-score': 0.7362666666666666, 'support': 1301}}, {'Conspiracy Theory': {'precision': 0.41025641025641024, 'recall': 0.35555555555555557, 'f1-score': 0.38095238095238093, 'support': 45}, 'Education': {'precision': 0.5, 'recall': 0.38461538461538464, 'f1-score': 0.4347826086956522, 'support': 13}, 'Election Campaign': {'precision': 0.8461538461538461, 'recall': 0.6666666666666666, 'f1-score': 0.7457627118644068, 'support': 33}, 'Environment': {'precision': 0.7142857142857143, 'recall': 0.7142857142857143, 'f1-score': 0.7142857142857143, 'support': 14}, 'Government/Public': {'precision': 0.7843137254901961, 'recall': 0.6872852233676976, 'f1-score': 0.7326007326007326, 'support': 291}, 'Health': {'precision': 0.8125, 'recall': 0.5652173913043478, 'f1-score': 0.6666666666666667, 'support': 46}, 'Immigration/Integration': {'precision': 0.7142857142857143, 'recall': 0.6944444444444444, 'f1-score': 0.7042253521126761, 'support': 36}, 'Justice/Crime': {'precision': 0.8181818181818182, 'recall': 0.7883211678832117, 'f1-score': 0.8029739776951673, 'support': 137}, 'Labor/Employment': {'precision': 0.6086956521739131, 'recall': 0.5, 'f1-score': 0.5490196078431373, 'support': 28}, 'Macroeconomics/Economic Regulation': {'precision': 0.8181818181818182, 'recall': 0.7258064516129032, 'f1-score': 0.7692307692307693, 'support': 62}, 'Media/Journalism': {'precision': 0.7931034482758621, 'recall': 0.4791666666666667, 'f1-score': 0.5974025974025974, 'support': 48}, 'Others': {'precision': 0.8269230769230769, 'recall': 0.7933579335793358, 'f1-score': 0.8097928436911489, 'support': 271}, 'Religion': {'precision': 0.5384615384615384, 'recall': 0.6363636363636364, 'f1-score': 0.5833333333333334, 'support': 11}, 'Science/Technology': {'precision': 0.5555555555555556, 'recall': 0.45454545454545453, 'f1-score': 0.5, 'support': 11}, 'War/Terror': {'precision': 0.9385245901639344, 'recall': 0.8980392156862745, 'f1-score': 0.9178356713426854, 'support': 255}, 'micro avg': {'precision': 0.8078231292517006, 'recall': 0.7302075326671791, 'f1-score': 0.7670569236980218, 'support': 1301}, 'macro avg': {'precision': 0.7119615272259598, 'recall': 0.6229113937718196, 'f1-score': 0.6605909978478045, 'support': 1301}, 'weighted avg': {'precision': 0.8052220854611728, 'recall': 0.7302075326671791, 'f1-score': 0.7638562897062208, 'support': 1301}, 'samples avg': {'precision': 0.8081666666666667, 'recall': 0.7649333333333334, 'f1-score': 0.7710690476190476, 'support': 1301}}]\n",
      "5\n",
      "\n",
      "Average Validation Classification Report In DataFrame Format:\n",
      "                                    precision    recall  f1-score  support\n",
      "Conspiracy Theory                    0.588943  0.455409  0.496528     50.8\n",
      "Education                            0.749621  0.489058  0.552953     12.6\n",
      "Election Campaign                    0.835011  0.714335  0.766519     26.6\n",
      "Environment                          0.700000  0.515260  0.590169     11.6\n",
      "Government/Public                    0.770907  0.719389  0.740599    249.6\n",
      "Health                               0.882294  0.743985  0.805313     42.8\n",
      "Immigration/Integration              0.817188  0.675112  0.724872     40.2\n",
      "Justice/Crime                        0.842215  0.685956  0.753494    114.4\n",
      "Labor/Employment                     0.609789  0.580234  0.575416     19.4\n",
      "Macroeconomics/Economic Regulation   0.757761  0.625092  0.680291     50.0\n",
      "Media/Journalism                     0.841400  0.497844  0.609533     36.8\n",
      "Others                               0.878333  0.751241  0.807991    211.4\n",
      "Religion                             0.576358  0.651277  0.606000     14.2\n",
      "Science/Technology                   0.590000  0.320606  0.399348     10.8\n",
      "War/Terror                           0.918046  0.917324  0.917383    187.8\n",
      "micro avg                            0.816035  0.719045  0.763746   1079.0\n",
      "macro avg                            0.757191  0.622808  0.668427   1079.0\n",
      "weighted avg                         0.820632  0.719045  0.759142   1079.0\n",
      "samples avg                          0.799633  0.756804  0.760420   1079.0\n",
      "\n",
      "Average Test Classification Report In DataFrame Format:\n",
      "                                    precision    recall  f1-score  support\n",
      "Conspiracy Theory                    0.434640  0.440000  0.416219     45.0\n",
      "Education                            0.384143  0.400000  0.370114     13.0\n",
      "Election Campaign                    0.836816  0.793939  0.811934     33.0\n",
      "Environment                          0.792857  0.514286  0.600068     14.0\n",
      "Government/Public                    0.754953  0.682474  0.714628    291.0\n",
      "Health                               0.771945  0.543478  0.636033     46.0\n",
      "Immigration/Integration              0.802079  0.655556  0.706548     36.0\n",
      "Justice/Crime                        0.850396  0.764964  0.803631    137.0\n",
      "Labor/Employment                     0.629441  0.578571  0.587053     28.0\n",
      "Macroeconomics/Economic Regulation   0.793800  0.625806  0.695681     62.0\n",
      "Media/Journalism                     0.853863  0.420833  0.556641     48.0\n",
      "Others                               0.857902  0.771956  0.811578    271.0\n",
      "Religion                             0.502885  0.654545  0.567806     11.0\n",
      "Science/Technology                   0.678968  0.472727  0.545722     11.0\n",
      "War/Terror                           0.925751  0.906667  0.915945    255.0\n",
      "micro avg                            0.804340  0.721291  0.759878   1301.0\n",
      "macro avg                            0.724696  0.615054  0.649307   1301.0\n",
      "weighted avg                         0.809555  0.721291  0.755976   1301.0\n",
      "samples avg                          0.797067  0.759117  0.761962   1301.0\n"
     ]
    }
   ],
   "source": [
    "generic_val_average_report_df, generic_test_average_report_df = calculate_metrics(\"davinci_elaboration_first_v04_distinct_generic\")"
   ]
  },
  {
   "attachments": {},
   "cell_type": "markdown",
   "metadata": {},
   "source": [
    "# Co-Occurrence"
   ]
  },
  {
   "cell_type": "code",
   "execution_count": 4,
   "metadata": {},
   "outputs": [
    {
     "name": "stdout",
     "output_type": "stream",
     "text": [
      "../models/weak_labeled/vicuna_with_rules_classification_only_co_occurrence_generic_epochs_200_train_size_full_fold_0/\n",
      "0                                  ['Science/Technology']\n",
      "1                                              ['Others']\n",
      "2       ['Health', 'Justice/Crime', 'Macroeconomics/Ec...\n",
      "3                                              ['Others']\n",
      "4                                   ['Government/Public']\n",
      "                              ...                        \n",
      "3436                                 ['Labor/Employment']\n",
      "3437                                        ['Education']\n",
      "3438                                ['Conspiracy Theory']\n",
      "3439                                ['Conspiracy Theory']\n",
      "3440                                        ['Education']\n",
      "Name: annotations, Length: 3441, dtype: object\n",
      "['Conspiracy Theory', 'Education', 'Election Campaign', 'Environment', 'Government/Public', 'Health', 'Immigration/Integration', 'Justice/Crime', 'Labor/Employment', 'Macroeconomics/Economic Regulation', 'Media/Journalism', 'Others', 'Religion', 'Science/Technology', 'War/Terror']\n"
     ]
    },
    {
     "name": "stderr",
     "output_type": "stream",
     "text": [
      "/tmp/ipykernel_21815/3473448682.py:37: UserWarning: To copy construct from a tensor, it is recommended to use sourceTensor.clone().detach() or sourceTensor.clone().detach().requires_grad_(True), rather than torch.tensor(sourceTensor).\n",
      "  'label': torch.tensor(label, dtype=torch.float32)}\n",
      "You're using a RobertaTokenizerFast tokenizer. Please note that with a fast tokenizer, using the `__call__` method is faster than using a method to encode the text followed by a call to the `pad` method to get a padded encoding.\n",
      "/tmp/ipykernel_21815/3473448682.py:37: UserWarning: To copy construct from a tensor, it is recommended to use sourceTensor.clone().detach() or sourceTensor.clone().detach().requires_grad_(True), rather than torch.tensor(sourceTensor).\n",
      "  'label': torch.tensor(label, dtype=torch.float32)}\n"
     ]
    },
    {
     "name": "stdout",
     "output_type": "stream",
     "text": [
      "../models/weak_labeled/vicuna_with_rules_classification_only_co_occurrence_generic_epochs_200_train_size_full_fold_1/\n",
      "0                                  ['Science/Technology']\n",
      "1                                              ['Others']\n",
      "2       ['Health', 'Justice/Crime', 'Macroeconomics/Ec...\n",
      "3                                              ['Others']\n",
      "4                                          ['War/Terror']\n",
      "                              ...                        \n",
      "3436                                 ['Labor/Employment']\n",
      "3437                                        ['Education']\n",
      "3438                                ['Conspiracy Theory']\n",
      "3439                                ['Conspiracy Theory']\n",
      "3440                                        ['Education']\n",
      "Name: annotations, Length: 3441, dtype: object\n",
      "['Conspiracy Theory', 'Education', 'Election Campaign', 'Environment', 'Government/Public', 'Health', 'Immigration/Integration', 'Justice/Crime', 'Labor/Employment', 'Macroeconomics/Economic Regulation', 'Media/Journalism', 'Others', 'Religion', 'Science/Technology', 'War/Terror']\n"
     ]
    },
    {
     "name": "stderr",
     "output_type": "stream",
     "text": [
      "/tmp/ipykernel_21815/3473448682.py:37: UserWarning: To copy construct from a tensor, it is recommended to use sourceTensor.clone().detach() or sourceTensor.clone().detach().requires_grad_(True), rather than torch.tensor(sourceTensor).\n",
      "  'label': torch.tensor(label, dtype=torch.float32)}\n",
      "You're using a RobertaTokenizerFast tokenizer. Please note that with a fast tokenizer, using the `__call__` method is faster than using a method to encode the text followed by a call to the `pad` method to get a padded encoding.\n",
      "/tmp/ipykernel_21815/3473448682.py:37: UserWarning: To copy construct from a tensor, it is recommended to use sourceTensor.clone().detach() or sourceTensor.clone().detach().requires_grad_(True), rather than torch.tensor(sourceTensor).\n",
      "  'label': torch.tensor(label, dtype=torch.float32)}\n"
     ]
    },
    {
     "name": "stdout",
     "output_type": "stream",
     "text": [
      "../models/weak_labeled/vicuna_with_rules_classification_only_co_occurrence_generic_epochs_200_train_size_full_fold_2/\n",
      "0       ['Science/Technology']\n",
      "1                   ['Others']\n",
      "2                   ['Others']\n",
      "3        ['Government/Public']\n",
      "4               ['War/Terror']\n",
      "                 ...          \n",
      "3436      ['Labor/Employment']\n",
      "3437             ['Education']\n",
      "3438     ['Conspiracy Theory']\n",
      "3439     ['Conspiracy Theory']\n",
      "3440             ['Education']\n",
      "Name: annotations, Length: 3441, dtype: object\n",
      "['Conspiracy Theory', 'Education', 'Election Campaign', 'Environment', 'Government/Public', 'Health', 'Immigration/Integration', 'Justice/Crime', 'Labor/Employment', 'Macroeconomics/Economic Regulation', 'Media/Journalism', 'Others', 'Religion', 'Science/Technology', 'War/Terror']\n"
     ]
    },
    {
     "name": "stderr",
     "output_type": "stream",
     "text": [
      "/tmp/ipykernel_21815/3473448682.py:37: UserWarning: To copy construct from a tensor, it is recommended to use sourceTensor.clone().detach() or sourceTensor.clone().detach().requires_grad_(True), rather than torch.tensor(sourceTensor).\n",
      "  'label': torch.tensor(label, dtype=torch.float32)}\n",
      "You're using a RobertaTokenizerFast tokenizer. Please note that with a fast tokenizer, using the `__call__` method is faster than using a method to encode the text followed by a call to the `pad` method to get a padded encoding.\n",
      "/tmp/ipykernel_21815/3473448682.py:37: UserWarning: To copy construct from a tensor, it is recommended to use sourceTensor.clone().detach() or sourceTensor.clone().detach().requires_grad_(True), rather than torch.tensor(sourceTensor).\n",
      "  'label': torch.tensor(label, dtype=torch.float32)}\n"
     ]
    },
    {
     "name": "stdout",
     "output_type": "stream",
     "text": [
      "../models/weak_labeled/vicuna_with_rules_classification_only_co_occurrence_generic_epochs_200_train_size_full_fold_3/\n",
      "0                                  ['Science/Technology']\n",
      "1       ['Health', 'Justice/Crime', 'Macroeconomics/Ec...\n",
      "2                                              ['Others']\n",
      "3                                   ['Government/Public']\n",
      "4                                          ['War/Terror']\n",
      "                              ...                        \n",
      "3436                                 ['Labor/Employment']\n",
      "3437                                        ['Education']\n",
      "3438                                ['Conspiracy Theory']\n",
      "3439                                ['Conspiracy Theory']\n",
      "3440                                        ['Education']\n",
      "Name: annotations, Length: 3441, dtype: object\n",
      "['Conspiracy Theory', 'Education', 'Election Campaign', 'Environment', 'Government/Public', 'Health', 'Immigration/Integration', 'Justice/Crime', 'Labor/Employment', 'Macroeconomics/Economic Regulation', 'Media/Journalism', 'Others', 'Religion', 'Science/Technology', 'War/Terror']\n"
     ]
    },
    {
     "name": "stderr",
     "output_type": "stream",
     "text": [
      "/tmp/ipykernel_21815/3473448682.py:37: UserWarning: To copy construct from a tensor, it is recommended to use sourceTensor.clone().detach() or sourceTensor.clone().detach().requires_grad_(True), rather than torch.tensor(sourceTensor).\n",
      "  'label': torch.tensor(label, dtype=torch.float32)}\n",
      "You're using a RobertaTokenizerFast tokenizer. Please note that with a fast tokenizer, using the `__call__` method is faster than using a method to encode the text followed by a call to the `pad` method to get a padded encoding.\n",
      "/tmp/ipykernel_21815/3473448682.py:37: UserWarning: To copy construct from a tensor, it is recommended to use sourceTensor.clone().detach() or sourceTensor.clone().detach().requires_grad_(True), rather than torch.tensor(sourceTensor).\n",
      "  'label': torch.tensor(label, dtype=torch.float32)}\n"
     ]
    },
    {
     "name": "stdout",
     "output_type": "stream",
     "text": [
      "../models/weak_labeled/vicuna_with_rules_classification_only_co_occurrence_generic_epochs_200_train_size_full_fold_4/\n",
      "0                                              ['Others']\n",
      "1       ['Health', 'Justice/Crime', 'Macroeconomics/Ec...\n",
      "2                                   ['Government/Public']\n",
      "3                                          ['War/Terror']\n",
      "4                                          ['War/Terror']\n",
      "                              ...                        \n",
      "3436                                 ['Labor/Employment']\n",
      "3437                                        ['Education']\n",
      "3438                                ['Conspiracy Theory']\n",
      "3439                                ['Conspiracy Theory']\n",
      "3440                                        ['Education']\n",
      "Name: annotations, Length: 3441, dtype: object\n",
      "['Conspiracy Theory', 'Education', 'Election Campaign', 'Environment', 'Government/Public', 'Health', 'Immigration/Integration', 'Justice/Crime', 'Labor/Employment', 'Macroeconomics/Economic Regulation', 'Media/Journalism', 'Others', 'Religion', 'Science/Technology', 'War/Terror']\n"
     ]
    },
    {
     "name": "stderr",
     "output_type": "stream",
     "text": [
      "/tmp/ipykernel_21815/3473448682.py:37: UserWarning: To copy construct from a tensor, it is recommended to use sourceTensor.clone().detach() or sourceTensor.clone().detach().requires_grad_(True), rather than torch.tensor(sourceTensor).\n",
      "  'label': torch.tensor(label, dtype=torch.float32)}\n",
      "You're using a RobertaTokenizerFast tokenizer. Please note that with a fast tokenizer, using the `__call__` method is faster than using a method to encode the text followed by a call to the `pad` method to get a padded encoding.\n",
      "/tmp/ipykernel_21815/3473448682.py:37: UserWarning: To copy construct from a tensor, it is recommended to use sourceTensor.clone().detach() or sourceTensor.clone().detach().requires_grad_(True), rather than torch.tensor(sourceTensor).\n",
      "  'label': torch.tensor(label, dtype=torch.float32)}\n"
     ]
    },
    {
     "name": "stdout",
     "output_type": "stream",
     "text": [
      "[{'Conspiracy Theory': {'precision': 0.5384615384615384, 'recall': 0.5957446808510638, 'f1-score': 0.5656565656565657, 'support': 47}, 'Education': {'precision': 0.75, 'recall': 0.75, 'f1-score': 0.75, 'support': 12}, 'Election Campaign': {'precision': 0.7307692307692307, 'recall': 0.7307692307692307, 'f1-score': 0.7307692307692306, 'support': 26}, 'Environment': {'precision': 0.6666666666666666, 'recall': 0.8571428571428571, 'f1-score': 0.75, 'support': 14}, 'Government/Public': {'precision': 0.8, 'recall': 0.8095238095238095, 'f1-score': 0.8047337278106509, 'support': 252}, 'Health': {'precision': 0.7586206896551724, 'recall': 0.9777777777777777, 'f1-score': 0.854368932038835, 'support': 45}, 'Immigration/Integration': {'precision': 0.7619047619047619, 'recall': 0.8, 'f1-score': 0.7804878048780488, 'support': 40}, 'Justice/Crime': {'precision': 0.8041237113402062, 'recall': 0.7289719626168224, 'f1-score': 0.7647058823529411, 'support': 107}, 'Labor/Employment': {'precision': 0.7142857142857143, 'recall': 0.7894736842105263, 'f1-score': 0.7500000000000001, 'support': 19}, 'Macroeconomics/Economic Regulation': {'precision': 0.6724137931034483, 'recall': 0.6724137931034483, 'f1-score': 0.6724137931034483, 'support': 58}, 'Media/Journalism': {'precision': 0.78125, 'recall': 0.6578947368421053, 'f1-score': 0.7142857142857143, 'support': 38}, 'Others': {'precision': 0.8693181818181818, 'recall': 0.7463414634146341, 'f1-score': 0.8031496062992126, 'support': 205}, 'Religion': {'precision': 0.7894736842105263, 'recall': 0.6818181818181818, 'f1-score': 0.7317073170731707, 'support': 22}, 'Science/Technology': {'precision': 0.5, 'recall': 0.4, 'f1-score': 0.4444444444444445, 'support': 10}, 'War/Terror': {'precision': 0.9358288770053476, 'recall': 0.9459459459459459, 'f1-score': 0.9408602150537634, 'support': 185}, 'micro avg': {'precision': 0.8030160226201697, 'recall': 0.7888888888888889, 'f1-score': 0.7958897711349837, 'support': 1080}, 'macro avg': {'precision': 0.7382077899480529, 'recall': 0.7429212082677602, 'f1-score': 0.7371722155844018, 'support': 1080}, 'weighted avg': {'precision': 0.8063539846369236, 'recall': 0.7888888888888889, 'f1-score': 0.7953778455388639, 'support': 1080}, 'samples avg': {'precision': 0.8115625, 'recall': 0.8046875, 'f1-score': 0.7930892857142857, 'support': 1080}}, {'Conspiracy Theory': {'precision': 0.6046511627906976, 'recall': 0.43333333333333335, 'f1-score': 0.5048543689320388, 'support': 60}, 'Education': {'precision': 0.75, 'recall': 0.5625, 'f1-score': 0.6428571428571429, 'support': 16}, 'Election Campaign': {'precision': 0.7941176470588235, 'recall': 0.7714285714285715, 'f1-score': 0.782608695652174, 'support': 35}, 'Environment': {'precision': 0.6666666666666666, 'recall': 0.5714285714285714, 'f1-score': 0.6153846153846153, 'support': 14}, 'Government/Public': {'precision': 0.7052631578947368, 'recall': 0.8237704918032787, 'f1-score': 0.7599243856332702, 'support': 244}, 'Health': {'precision': 0.8157894736842105, 'recall': 0.7560975609756098, 'f1-score': 0.7848101265822786, 'support': 41}, 'Immigration/Integration': {'precision': 0.8125, 'recall': 0.8666666666666667, 'f1-score': 0.8387096774193549, 'support': 45}, 'Justice/Crime': {'precision': 0.8061224489795918, 'recall': 0.7181818181818181, 'f1-score': 0.7596153846153846, 'support': 110}, 'Labor/Employment': {'precision': 0.8461538461538461, 'recall': 0.6875, 'f1-score': 0.7586206896551724, 'support': 16}, 'Macroeconomics/Economic Regulation': {'precision': 0.6818181818181818, 'recall': 0.6, 'f1-score': 0.6382978723404256, 'support': 50}, 'Media/Journalism': {'precision': 0.7142857142857143, 'recall': 0.625, 'f1-score': 0.6666666666666666, 'support': 32}, 'Others': {'precision': 0.8923076923076924, 'recall': 0.7532467532467533, 'f1-score': 0.8169014084507042, 'support': 231}, 'Religion': {'precision': 0.8461538461538461, 'recall': 0.7857142857142857, 'f1-score': 0.8148148148148148, 'support': 14}, 'Science/Technology': {'precision': 1.0, 'recall': 0.42857142857142855, 'f1-score': 0.6, 'support': 14}, 'War/Terror': {'precision': 0.9213483146067416, 'recall': 0.9213483146067416, 'f1-score': 0.9213483146067416, 'support': 178}, 'micro avg': {'precision': 0.7984718242597899, 'recall': 0.76, 'f1-score': 0.7787610619469028, 'support': 1100}, 'macro avg': {'precision': 0.7904785434933833, 'recall': 0.6869858530638039, 'f1-score': 0.7270276109073858, 'support': 1100}, 'weighted avg': {'precision': 0.8023907393988198, 'recall': 0.76, 'f1-score': 0.7757998629137813, 'support': 1100}, 'samples avg': {'precision': 0.8076041666666667, 'recall': 0.7897916666666667, 'f1-score': 0.7806190476190477, 'support': 1100}}, {'Conspiracy Theory': {'precision': 0.4883720930232558, 'recall': 0.4772727272727273, 'f1-score': 0.4827586206896552, 'support': 44}, 'Education': {'precision': 0.6153846153846154, 'recall': 0.7272727272727273, 'f1-score': 0.6666666666666667, 'support': 11}, 'Election Campaign': {'precision': 0.8421052631578947, 'recall': 0.64, 'f1-score': 0.7272727272727272, 'support': 25}, 'Environment': {'precision': 0.6666666666666666, 'recall': 0.7272727272727273, 'f1-score': 0.6956521739130435, 'support': 11}, 'Government/Public': {'precision': 0.8009478672985783, 'recall': 0.6814516129032258, 'f1-score': 0.7363834422657951, 'support': 248}, 'Health': {'precision': 0.9310344827586207, 'recall': 0.675, 'f1-score': 0.7826086956521738, 'support': 40}, 'Immigration/Integration': {'precision': 0.7407407407407407, 'recall': 0.6896551724137931, 'f1-score': 0.7142857142857143, 'support': 29}, 'Justice/Crime': {'precision': 0.8070175438596491, 'recall': 0.8, 'f1-score': 0.8034934497816594, 'support': 115}, 'Labor/Employment': {'precision': 0.5, 'recall': 0.55, 'f1-score': 0.5238095238095238, 'support': 20}, 'Macroeconomics/Economic Regulation': {'precision': 0.7241379310344828, 'recall': 0.4375, 'f1-score': 0.5454545454545455, 'support': 48}, 'Media/Journalism': {'precision': 1.0, 'recall': 0.5111111111111111, 'f1-score': 0.676470588235294, 'support': 45}, 'Others': {'precision': 0.8677248677248677, 'recall': 0.7772511848341233, 'f1-score': 0.82, 'support': 211}, 'Religion': {'precision': 0.5714285714285714, 'recall': 0.4, 'f1-score': 0.47058823529411764, 'support': 10}, 'Science/Technology': {'precision': 0.6666666666666666, 'recall': 0.36363636363636365, 'f1-score': 0.4705882352941177, 'support': 11}, 'War/Terror': {'precision': 0.9282051282051282, 'recall': 0.905, 'f1-score': 0.9164556962025316, 'support': 200}, 'micro avg': {'precision': 0.8189563365282215, 'recall': 0.7200374531835206, 'f1-score': 0.7663178873941205, 'support': 1068}, 'macro avg': {'precision': 0.7433621625299824, 'recall': 0.6241615751144532, 'f1-score': 0.668832554321171, 'support': 1068}, 'weighted avg': {'precision': 0.8224210951952389, 'recall': 0.7200374531835206, 'f1-score': 0.7628697153520602, 'support': 1068}, 'samples avg': {'precision': 0.8066666666666668, 'recall': 0.7648958333333334, 'f1-score': 0.7676845238095238, 'support': 1068}}, {'Conspiracy Theory': {'precision': 0.5901639344262295, 'recall': 0.75, 'f1-score': 0.6605504587155964, 'support': 48}, 'Education': {'precision': 0.5, 'recall': 0.4, 'f1-score': 0.4444444444444445, 'support': 10}, 'Election Campaign': {'precision': 0.8888888888888888, 'recall': 0.6666666666666666, 'f1-score': 0.761904761904762, 'support': 24}, 'Environment': {'precision': 0.36363636363636365, 'recall': 0.5, 'f1-score': 0.4210526315789474, 'support': 8}, 'Government/Public': {'precision': 0.8502673796791443, 'recall': 0.636, 'f1-score': 0.7276887871853546, 'support': 250}, 'Health': {'precision': 0.8888888888888888, 'recall': 0.8163265306122449, 'f1-score': 0.851063829787234, 'support': 49}, 'Immigration/Integration': {'precision': 0.7804878048780488, 'recall': 0.7111111111111111, 'f1-score': 0.7441860465116279, 'support': 45}, 'Justice/Crime': {'precision': 0.8631578947368421, 'recall': 0.7068965517241379, 'f1-score': 0.7772511848341233, 'support': 116}, 'Labor/Employment': {'precision': 0.9166666666666666, 'recall': 0.4583333333333333, 'f1-score': 0.611111111111111, 'support': 24}, 'Macroeconomics/Economic Regulation': {'precision': 0.9130434782608695, 'recall': 0.75, 'f1-score': 0.8235294117647057, 'support': 56}, 'Media/Journalism': {'precision': 0.68, 'recall': 0.4358974358974359, 'f1-score': 0.53125, 'support': 39}, 'Others': {'precision': 0.825136612021858, 'recall': 0.8031914893617021, 'f1-score': 0.8140161725067386, 'support': 188}, 'Religion': {'precision': 0.75, 'recall': 0.75, 'f1-score': 0.75, 'support': 16}, 'Science/Technology': {'precision': 0.3333333333333333, 'recall': 0.14285714285714285, 'f1-score': 0.2, 'support': 7}, 'War/Terror': {'precision': 0.9045226130653267, 'recall': 0.9090909090909091, 'f1-score': 0.906801007556675, 'support': 198}, 'micro avg': {'precision': 0.828421052631579, 'recall': 0.7300556586270872, 'f1-score': 0.7761341222879685, 'support': 1078}, 'macro avg': {'precision': 0.7365462572321639, 'recall': 0.6290914113769789, 'f1-score': 0.6683233231934214, 'support': 1078}, 'weighted avg': {'precision': 0.8322318081096446, 'recall': 0.7300556586270872, 'f1-score': 0.7723223928050208, 'support': 1078}, 'samples avg': {'precision': 0.8151041666666665, 'recall': 0.76925, 'f1-score': 0.7760773809523809, 'support': 1078}}, {'Conspiracy Theory': {'precision': 0.55, 'recall': 0.4, 'f1-score': 0.46315789473684216, 'support': 55}, 'Education': {'precision': 0.625, 'recall': 0.7142857142857143, 'f1-score': 0.6666666666666666, 'support': 14}, 'Election Campaign': {'precision': 0.6956521739130435, 'recall': 0.6956521739130435, 'f1-score': 0.6956521739130435, 'support': 23}, 'Environment': {'precision': 0.5, 'recall': 0.6363636363636364, 'f1-score': 0.56, 'support': 11}, 'Government/Public': {'precision': 0.7916666666666666, 'recall': 0.7480314960629921, 'f1-score': 0.7692307692307694, 'support': 254}, 'Health': {'precision': 0.8, 'recall': 0.8205128205128205, 'f1-score': 0.810126582278481, 'support': 39}, 'Immigration/Integration': {'precision': 0.92, 'recall': 0.5476190476190477, 'f1-score': 0.6865671641791046, 'support': 42}, 'Justice/Crime': {'precision': 0.8181818181818182, 'recall': 0.6532258064516129, 'f1-score': 0.726457399103139, 'support': 124}, 'Labor/Employment': {'precision': 0.7333333333333333, 'recall': 0.6111111111111112, 'f1-score': 0.6666666666666666, 'support': 18}, 'Macroeconomics/Economic Regulation': {'precision': 0.6521739130434783, 'recall': 0.7894736842105263, 'f1-score': 0.7142857142857143, 'support': 38}, 'Media/Journalism': {'precision': 0.72, 'recall': 0.6, 'f1-score': 0.6545454545454547, 'support': 30}, 'Others': {'precision': 0.8436018957345972, 'recall': 0.8018018018018018, 'f1-score': 0.8221709006928407, 'support': 222}, 'Religion': {'precision': 0.42857142857142855, 'recall': 1.0, 'f1-score': 0.6, 'support': 9}, 'Science/Technology': {'precision': 0.5, 'recall': 0.25, 'f1-score': 0.3333333333333333, 'support': 12}, 'War/Terror': {'precision': 0.9310344827586207, 'recall': 0.9101123595505618, 'f1-score': 0.9204545454545454, 'support': 178}, 'micro avg': {'precision': 0.7959798994974875, 'recall': 0.7408793264733395, 'f1-score': 0.7674418604651162, 'support': 1069}, 'macro avg': {'precision': 0.7006143808135324, 'recall': 0.6785459767921912, 'f1-score': 0.6726210176724401, 'support': 1069}, 'weighted avg': {'precision': 0.8001135539053218, 'recall': 0.7408793264733395, 'f1-score': 0.7646446939621964, 'support': 1069}, 'samples avg': {'precision': 0.8002083333333334, 'recall': 0.7695833333333334, 'f1-score': 0.7698571428571429, 'support': 1069}}]\n",
      "5\n",
      "[{'Conspiracy Theory': {'precision': 0.453125, 'recall': 0.6444444444444445, 'f1-score': 0.5321100917431193, 'support': 45}, 'Education': {'precision': 0.45, 'recall': 0.6923076923076923, 'f1-score': 0.5454545454545455, 'support': 13}, 'Election Campaign': {'precision': 0.7878787878787878, 'recall': 0.7878787878787878, 'f1-score': 0.7878787878787878, 'support': 33}, 'Environment': {'precision': 0.4074074074074074, 'recall': 0.7857142857142857, 'f1-score': 0.5365853658536585, 'support': 14}, 'Government/Public': {'precision': 0.7676056338028169, 'recall': 0.7491408934707904, 'f1-score': 0.7582608695652173, 'support': 291}, 'Health': {'precision': 0.66, 'recall': 0.717391304347826, 'f1-score': 0.6875, 'support': 46}, 'Immigration/Integration': {'precision': 0.6904761904761905, 'recall': 0.8055555555555556, 'f1-score': 0.7435897435897436, 'support': 36}, 'Justice/Crime': {'precision': 0.8222222222222222, 'recall': 0.8102189781021898, 'f1-score': 0.8161764705882353, 'support': 137}, 'Labor/Employment': {'precision': 0.7619047619047619, 'recall': 0.5714285714285714, 'f1-score': 0.6530612244897959, 'support': 28}, 'Macroeconomics/Economic Regulation': {'precision': 0.7666666666666667, 'recall': 0.7419354838709677, 'f1-score': 0.7540983606557377, 'support': 62}, 'Media/Journalism': {'precision': 0.7560975609756098, 'recall': 0.6458333333333334, 'f1-score': 0.6966292134831461, 'support': 48}, 'Others': {'precision': 0.874439461883408, 'recall': 0.7195571955719557, 'f1-score': 0.7894736842105263, 'support': 271}, 'Religion': {'precision': 0.75, 'recall': 0.8181818181818182, 'f1-score': 0.7826086956521738, 'support': 11}, 'Science/Technology': {'precision': 0.375, 'recall': 0.5454545454545454, 'f1-score': 0.4444444444444444, 'support': 11}, 'War/Terror': {'precision': 0.9493670886075949, 'recall': 0.8823529411764706, 'f1-score': 0.9146341463414634, 'support': 255}, 'micro avg': {'precision': 0.7857707509881423, 'recall': 0.7640276710222905, 'f1-score': 0.774746687451286, 'support': 1301}, 'macro avg': {'precision': 0.6848127187883645, 'recall': 0.7278263887226156, 'f1-score': 0.6961670429300396, 'support': 1301}, 'weighted avg': {'precision': 0.8038241405078762, 'recall': 0.7640276710222905, 'f1-score': 0.7798363211355478, 'support': 1301}, 'samples avg': {'precision': 0.7935, 'recall': 0.7859333333333333, 'f1-score': 0.7753880952380952, 'support': 1301}}, {'Conspiracy Theory': {'precision': 0.4117647058823529, 'recall': 0.4666666666666667, 'f1-score': 0.43749999999999994, 'support': 45}, 'Education': {'precision': 0.47368421052631576, 'recall': 0.6923076923076923, 'f1-score': 0.5625, 'support': 13}, 'Election Campaign': {'precision': 0.78125, 'recall': 0.7575757575757576, 'f1-score': 0.7692307692307692, 'support': 33}, 'Environment': {'precision': 0.5384615384615384, 'recall': 0.5, 'f1-score': 0.5185185185185186, 'support': 14}, 'Government/Public': {'precision': 0.7298136645962733, 'recall': 0.8075601374570447, 'f1-score': 0.766721044045677, 'support': 291}, 'Health': {'precision': 0.7105263157894737, 'recall': 0.5869565217391305, 'f1-score': 0.6428571428571428, 'support': 46}, 'Immigration/Integration': {'precision': 0.75, 'recall': 0.75, 'f1-score': 0.75, 'support': 36}, 'Justice/Crime': {'precision': 0.84, 'recall': 0.7664233576642335, 'f1-score': 0.8015267175572518, 'support': 137}, 'Labor/Employment': {'precision': 0.7272727272727273, 'recall': 0.5714285714285714, 'f1-score': 0.64, 'support': 28}, 'Macroeconomics/Economic Regulation': {'precision': 0.7547169811320755, 'recall': 0.6451612903225806, 'f1-score': 0.6956521739130435, 'support': 62}, 'Media/Journalism': {'precision': 0.7027027027027027, 'recall': 0.5416666666666666, 'f1-score': 0.611764705882353, 'support': 48}, 'Others': {'precision': 0.8446215139442231, 'recall': 0.7822878228782287, 'f1-score': 0.8122605363984675, 'support': 271}, 'Religion': {'precision': 0.6923076923076923, 'recall': 0.8181818181818182, 'f1-score': 0.7500000000000001, 'support': 11}, 'Science/Technology': {'precision': 0.6666666666666666, 'recall': 0.36363636363636365, 'f1-score': 0.4705882352941177, 'support': 11}, 'War/Terror': {'precision': 0.9243027888446215, 'recall': 0.9098039215686274, 'f1-score': 0.9169960474308301, 'support': 255}, 'micro avg': {'precision': 0.7840819542947203, 'recall': 0.7647963105303612, 'f1-score': 0.7743190661478598, 'support': 1301}, 'macro avg': {'precision': 0.7032061005417773, 'recall': 0.663977105872892, 'f1-score': 0.6764077260752114, 'support': 1301}, 'weighted avg': {'precision': 0.7882945298004432, 'recall': 0.7647963105303612, 'f1-score': 0.7739727102613235, 'support': 1301}, 'samples avg': {'precision': 0.8025833333333332, 'recall': 0.79835, 'f1-score': 0.7852738095238095, 'support': 1301}}, {'Conspiracy Theory': {'precision': 0.43103448275862066, 'recall': 0.5555555555555556, 'f1-score': 0.4854368932038835, 'support': 45}, 'Education': {'precision': 0.5333333333333333, 'recall': 0.6153846153846154, 'f1-score': 0.5714285714285715, 'support': 13}, 'Election Campaign': {'precision': 0.8275862068965517, 'recall': 0.7272727272727273, 'f1-score': 0.7741935483870968, 'support': 33}, 'Environment': {'precision': 0.6, 'recall': 0.6428571428571429, 'f1-score': 0.6206896551724138, 'support': 14}, 'Government/Public': {'precision': 0.821917808219178, 'recall': 0.6185567010309279, 'f1-score': 0.7058823529411764, 'support': 291}, 'Health': {'precision': 0.75, 'recall': 0.6521739130434783, 'f1-score': 0.6976744186046512, 'support': 46}, 'Immigration/Integration': {'precision': 0.8214285714285714, 'recall': 0.6388888888888888, 'f1-score': 0.7187499999999999, 'support': 36}, 'Justice/Crime': {'precision': 0.8257575757575758, 'recall': 0.7956204379562044, 'f1-score': 0.8104089219330856, 'support': 137}, 'Labor/Employment': {'precision': 0.64, 'recall': 0.5714285714285714, 'f1-score': 0.6037735849056605, 'support': 28}, 'Macroeconomics/Economic Regulation': {'precision': 0.868421052631579, 'recall': 0.532258064516129, 'f1-score': 0.66, 'support': 62}, 'Media/Journalism': {'precision': 0.8235294117647058, 'recall': 0.2916666666666667, 'f1-score': 0.4307692307692308, 'support': 48}, 'Others': {'precision': 0.8461538461538461, 'recall': 0.8118081180811808, 'f1-score': 0.8286252354048964, 'support': 271}, 'Religion': {'precision': 0.5714285714285714, 'recall': 0.7272727272727273, 'f1-score': 0.64, 'support': 11}, 'Science/Technology': {'precision': 0.7142857142857143, 'recall': 0.45454545454545453, 'f1-score': 0.5555555555555556, 'support': 11}, 'War/Terror': {'precision': 0.9307359307359307, 'recall': 0.8431372549019608, 'f1-score': 0.8847736625514404, 'support': 255}, 'micro avg': {'precision': 0.8147163120567376, 'recall': 0.7063797079169869, 'f1-score': 0.7566899958830794, 'support': 1301}, 'macro avg': {'precision': 0.7337075003596119, 'recall': 0.6318951226268155, 'f1-score': 0.6658641087238443, 'support': 1301}, 'weighted avg': {'precision': 0.8228272539147812, 'recall': 0.7063797079169869, 'f1-score': 0.7530711002837817, 'support': 1301}, 'samples avg': {'precision': 0.7915, 'recall': 0.75015, 'f1-score': 0.7561761904761904, 'support': 1301}}, {'Conspiracy Theory': {'precision': 0.37681159420289856, 'recall': 0.5777777777777777, 'f1-score': 0.45614035087719296, 'support': 45}, 'Education': {'precision': 0.4444444444444444, 'recall': 0.6153846153846154, 'f1-score': 0.5161290322580646, 'support': 13}, 'Election Campaign': {'precision': 0.8064516129032258, 'recall': 0.7575757575757576, 'f1-score': 0.7812499999999999, 'support': 33}, 'Environment': {'precision': 0.38095238095238093, 'recall': 0.5714285714285714, 'f1-score': 0.4571428571428571, 'support': 14}, 'Government/Public': {'precision': 0.8207547169811321, 'recall': 0.5979381443298969, 'f1-score': 0.6918489065606361, 'support': 291}, 'Health': {'precision': 0.7631578947368421, 'recall': 0.6304347826086957, 'f1-score': 0.6904761904761905, 'support': 46}, 'Immigration/Integration': {'precision': 0.75, 'recall': 0.6666666666666666, 'f1-score': 0.7058823529411765, 'support': 36}, 'Justice/Crime': {'precision': 0.8727272727272727, 'recall': 0.7007299270072993, 'f1-score': 0.7773279352226722, 'support': 137}, 'Labor/Employment': {'precision': 0.75, 'recall': 0.5357142857142857, 'f1-score': 0.6250000000000001, 'support': 28}, 'Macroeconomics/Economic Regulation': {'precision': 0.8163265306122449, 'recall': 0.6451612903225806, 'f1-score': 0.7207207207207208, 'support': 62}, 'Media/Journalism': {'precision': 0.6410256410256411, 'recall': 0.5208333333333334, 'f1-score': 0.5747126436781609, 'support': 48}, 'Others': {'precision': 0.7992424242424242, 'recall': 0.7785977859778598, 'f1-score': 0.788785046728972, 'support': 271}, 'Religion': {'precision': 0.46153846153846156, 'recall': 0.5454545454545454, 'f1-score': 0.4999999999999999, 'support': 11}, 'Science/Technology': {'precision': 0.8, 'recall': 0.36363636363636365, 'f1-score': 0.5000000000000001, 'support': 11}, 'War/Terror': {'precision': 0.9105058365758755, 'recall': 0.9176470588235294, 'f1-score': 0.9140624999999999, 'support': 255}, 'micro avg': {'precision': 0.7852292020373515, 'recall': 0.7109915449654112, 'f1-score': 0.746268656716418, 'support': 1301}, 'macro avg': {'precision': 0.6929292540628563, 'recall': 0.6283320604027852, 'f1-score': 0.6466319024404429, 'support': 1301}, 'weighted avg': {'precision': 0.7995550670866617, 'recall': 0.7109915449654112, 'f1-score': 0.7471410056541542, 'support': 1301}, 'samples avg': {'precision': 0.7768333333333334, 'recall': 0.7448666666666666, 'f1-score': 0.7463714285714286, 'support': 1301}}, {'Conspiracy Theory': {'precision': 0.5263157894736842, 'recall': 0.4444444444444444, 'f1-score': 0.4819277108433735, 'support': 45}, 'Education': {'precision': 0.4444444444444444, 'recall': 0.6153846153846154, 'f1-score': 0.5161290322580646, 'support': 13}, 'Election Campaign': {'precision': 0.8181818181818182, 'recall': 0.8181818181818182, 'f1-score': 0.8181818181818182, 'support': 33}, 'Environment': {'precision': 0.6428571428571429, 'recall': 0.6428571428571429, 'f1-score': 0.6428571428571429, 'support': 14}, 'Government/Public': {'precision': 0.7627118644067796, 'recall': 0.7731958762886598, 'f1-score': 0.7679180887372014, 'support': 291}, 'Health': {'precision': 0.7741935483870968, 'recall': 0.5217391304347826, 'f1-score': 0.6233766233766235, 'support': 46}, 'Immigration/Integration': {'precision': 0.8, 'recall': 0.6666666666666666, 'f1-score': 0.7272727272727272, 'support': 36}, 'Justice/Crime': {'precision': 0.873015873015873, 'recall': 0.8029197080291971, 'f1-score': 0.8365019011406843, 'support': 137}, 'Labor/Employment': {'precision': 0.6153846153846154, 'recall': 0.5714285714285714, 'f1-score': 0.5925925925925927, 'support': 28}, 'Macroeconomics/Economic Regulation': {'precision': 0.7368421052631579, 'recall': 0.6774193548387096, 'f1-score': 0.7058823529411764, 'support': 62}, 'Media/Journalism': {'precision': 0.825, 'recall': 0.6875, 'f1-score': 0.75, 'support': 48}, 'Others': {'precision': 0.8449612403100775, 'recall': 0.8044280442804428, 'f1-score': 0.824196597353497, 'support': 271}, 'Religion': {'precision': 0.6428571428571429, 'recall': 0.8181818181818182, 'f1-score': 0.7200000000000001, 'support': 11}, 'Science/Technology': {'precision': 0.45454545454545453, 'recall': 0.45454545454545453, 'f1-score': 0.45454545454545453, 'support': 11}, 'War/Terror': {'precision': 0.9333333333333333, 'recall': 0.8784313725490196, 'f1-score': 0.905050505050505, 'support': 255}, 'micro avg': {'precision': 0.8074735987002437, 'recall': 0.7640276710222905, 'f1-score': 0.7851500789889415, 'support': 1301}, 'macro avg': {'precision': 0.7129762914973747, 'recall': 0.6784882678740896, 'f1-score': 0.6910955031433909, 'support': 1301}, 'weighted avg': {'precision': 0.8093759593604859, 'recall': 0.7640276710222905, 'f1-score': 0.7845818191305695, 'support': 1301}, 'samples avg': {'precision': 0.8232333333333334, 'recall': 0.8011833333333332, 'f1-score': 0.7969547619047619, 'support': 1301}}]\n",
      "5\n",
      "\n",
      "Average Validation Classification Report In DataFrame Format:\n",
      "                                    precision    recall  f1-score  support\n",
      "Conspiracy Theory                    0.554330  0.531270  0.535396     50.8\n",
      "Education                            0.648077  0.630812  0.634127     12.6\n",
      "Election Campaign                    0.790307  0.700903  0.739642     26.6\n",
      "Environment                          0.572727  0.658442  0.608418     11.6\n",
      "Government/Public                    0.789629  0.739755  0.759592    249.6\n",
      "Health                               0.838867  0.809143  0.816596     42.8\n",
      "Immigration/Integration              0.803127  0.723010  0.752847     40.2\n",
      "Justice/Crime                        0.819721  0.721455  0.766305    114.4\n",
      "Labor/Employment                     0.742088  0.619284  0.662042     19.4\n",
      "Macroeconomics/Economic Regulation   0.728717  0.649877  0.678796     50.0\n",
      "Media/Journalism                     0.779107  0.565981  0.648644     36.8\n",
      "Others                               0.859618  0.776367  0.815248    211.4\n",
      "Religion                             0.677126  0.723506  0.673422     14.2\n",
      "Science/Technology                   0.600000  0.317013  0.409673     10.8\n",
      "War/Terror                           0.924188  0.918300  0.921184    187.8\n",
      "micro avg                            0.808969  0.747972  0.776909   1079.0\n",
      "macro avg                            0.741842  0.672341  0.694795   1079.0\n",
      "weighted avg                         0.812702  0.747972  0.774203   1079.0\n",
      "samples avg                          0.808229  0.779642  0.777465   1079.0\n",
      "\n",
      "Average Test Classification Report In DataFrame Format:\n",
      "                                    precision    recall  f1-score  support\n",
      "Conspiracy Theory                    0.439810  0.537778  0.478623     45.0\n",
      "Education                            0.469181  0.646154  0.542328     13.0\n",
      "Election Campaign                    0.804270  0.769697  0.786147     33.0\n",
      "Environment                          0.513936  0.628571  0.555159     14.0\n",
      "Government/Public                    0.780561  0.709278  0.738126    291.0\n",
      "Health                               0.731576  0.621739  0.668377     46.0\n",
      "Immigration/Integration              0.762381  0.705556  0.729099     36.0\n",
      "Justice/Crime                        0.846745  0.775182  0.808388    137.0\n",
      "Labor/Employment                     0.698912  0.564286  0.622885     28.0\n",
      "Macroeconomics/Economic Regulation   0.788595  0.648387  0.707271     62.0\n",
      "Media/Journalism                     0.749671  0.537500  0.612775     48.0\n",
      "Others                               0.841884  0.779336  0.808668    271.0\n",
      "Religion                             0.623626  0.745455  0.678522     11.0\n",
      "Science/Technology                   0.602100  0.436364  0.485027     11.0\n",
      "War/Terror                           0.929649  0.886275  0.907103    255.0\n",
      "micro avg                            0.795454  0.742045  0.767435   1301.0\n",
      "macro avg                            0.705526  0.666104  0.675233   1301.0\n",
      "weighted avg                         0.804775  0.742045  0.767721   1301.0\n",
      "samples avg                          0.797530  0.776097  0.772033   1301.0\n"
     ]
    }
   ],
   "source": [
    "generic_val_average_report_df, generic_test_average_report_df = calculate_metrics(\"vicuna_with_rules_classification_only_co_occurrence_generic\")"
   ]
  },
  {
   "cell_type": "code",
   "execution_count": 5,
   "metadata": {},
   "outputs": [
    {
     "name": "stdout",
     "output_type": "stream",
     "text": [
      "../models/weak_labeled/oa_with_rules_classification_only_co_occurrence_generic_epochs_200_train_size_full_fold_0/\n",
      "0                                  ['Science/Technology']\n",
      "1                                              ['Others']\n",
      "2       ['Health', 'Justice/Crime', 'Macroeconomics/Ec...\n",
      "3                                              ['Others']\n",
      "4                                   ['Government/Public']\n",
      "                              ...                        \n",
      "3480                                 ['Labor/Employment']\n",
      "3481                                         ['Religion']\n",
      "3482                                        ['Education']\n",
      "3483                                ['Conspiracy Theory']\n",
      "3484                                ['Conspiracy Theory']\n",
      "Name: annotations, Length: 3485, dtype: object\n",
      "['Conspiracy Theory', 'Education', 'Election Campaign', 'Environment', 'Government/Public', 'Health', 'Immigration/Integration', 'Justice/Crime', 'Labor/Employment', 'Macroeconomics/Economic Regulation', 'Media/Journalism', 'Others', 'Religion', 'Science/Technology', 'War/Terror']\n"
     ]
    },
    {
     "name": "stderr",
     "output_type": "stream",
     "text": [
      "/tmp/ipykernel_11958/3473448682.py:37: UserWarning: To copy construct from a tensor, it is recommended to use sourceTensor.clone().detach() or sourceTensor.clone().detach().requires_grad_(True), rather than torch.tensor(sourceTensor).\n",
      "  'label': torch.tensor(label, dtype=torch.float32)}\n",
      "You're using a RobertaTokenizerFast tokenizer. Please note that with a fast tokenizer, using the `__call__` method is faster than using a method to encode the text followed by a call to the `pad` method to get a padded encoding.\n",
      "/tmp/ipykernel_11958/3473448682.py:37: UserWarning: To copy construct from a tensor, it is recommended to use sourceTensor.clone().detach() or sourceTensor.clone().detach().requires_grad_(True), rather than torch.tensor(sourceTensor).\n",
      "  'label': torch.tensor(label, dtype=torch.float32)}\n"
     ]
    },
    {
     "name": "stdout",
     "output_type": "stream",
     "text": [
      "../models/weak_labeled/oa_with_rules_classification_only_co_occurrence_generic_epochs_200_train_size_full_fold_1/\n",
      "0                                  ['Science/Technology']\n",
      "1                                              ['Others']\n",
      "2       ['Health', 'Justice/Crime', 'Macroeconomics/Ec...\n",
      "3                                              ['Others']\n",
      "4                                          ['War/Terror']\n",
      "                              ...                        \n",
      "3480                                 ['Labor/Employment']\n",
      "3481                                         ['Religion']\n",
      "3482                                        ['Education']\n",
      "3483                                ['Conspiracy Theory']\n",
      "3484                                ['Conspiracy Theory']\n",
      "Name: annotations, Length: 3485, dtype: object\n",
      "['Conspiracy Theory', 'Education', 'Election Campaign', 'Environment', 'Government/Public', 'Health', 'Immigration/Integration', 'Justice/Crime', 'Labor/Employment', 'Macroeconomics/Economic Regulation', 'Media/Journalism', 'Others', 'Religion', 'Science/Technology', 'War/Terror']\n"
     ]
    },
    {
     "name": "stderr",
     "output_type": "stream",
     "text": [
      "/tmp/ipykernel_11958/3473448682.py:37: UserWarning: To copy construct from a tensor, it is recommended to use sourceTensor.clone().detach() or sourceTensor.clone().detach().requires_grad_(True), rather than torch.tensor(sourceTensor).\n",
      "  'label': torch.tensor(label, dtype=torch.float32)}\n",
      "You're using a RobertaTokenizerFast tokenizer. Please note that with a fast tokenizer, using the `__call__` method is faster than using a method to encode the text followed by a call to the `pad` method to get a padded encoding.\n",
      "/tmp/ipykernel_11958/3473448682.py:37: UserWarning: To copy construct from a tensor, it is recommended to use sourceTensor.clone().detach() or sourceTensor.clone().detach().requires_grad_(True), rather than torch.tensor(sourceTensor).\n",
      "  'label': torch.tensor(label, dtype=torch.float32)}\n"
     ]
    },
    {
     "name": "stdout",
     "output_type": "stream",
     "text": [
      "../models/weak_labeled/oa_with_rules_classification_only_co_occurrence_generic_epochs_200_train_size_full_fold_2/\n",
      "0       ['Science/Technology']\n",
      "1                   ['Others']\n",
      "2                   ['Others']\n",
      "3        ['Government/Public']\n",
      "4               ['War/Terror']\n",
      "                 ...          \n",
      "3480      ['Labor/Employment']\n",
      "3481              ['Religion']\n",
      "3482             ['Education']\n",
      "3483     ['Conspiracy Theory']\n",
      "3484     ['Conspiracy Theory']\n",
      "Name: annotations, Length: 3485, dtype: object\n",
      "['Conspiracy Theory', 'Education', 'Election Campaign', 'Environment', 'Government/Public', 'Health', 'Immigration/Integration', 'Justice/Crime', 'Labor/Employment', 'Macroeconomics/Economic Regulation', 'Media/Journalism', 'Others', 'Religion', 'Science/Technology', 'War/Terror']\n"
     ]
    },
    {
     "name": "stderr",
     "output_type": "stream",
     "text": [
      "/tmp/ipykernel_11958/3473448682.py:37: UserWarning: To copy construct from a tensor, it is recommended to use sourceTensor.clone().detach() or sourceTensor.clone().detach().requires_grad_(True), rather than torch.tensor(sourceTensor).\n",
      "  'label': torch.tensor(label, dtype=torch.float32)}\n",
      "You're using a RobertaTokenizerFast tokenizer. Please note that with a fast tokenizer, using the `__call__` method is faster than using a method to encode the text followed by a call to the `pad` method to get a padded encoding.\n",
      "/tmp/ipykernel_11958/3473448682.py:37: UserWarning: To copy construct from a tensor, it is recommended to use sourceTensor.clone().detach() or sourceTensor.clone().detach().requires_grad_(True), rather than torch.tensor(sourceTensor).\n",
      "  'label': torch.tensor(label, dtype=torch.float32)}\n"
     ]
    },
    {
     "name": "stdout",
     "output_type": "stream",
     "text": [
      "../models/weak_labeled/oa_with_rules_classification_only_co_occurrence_generic_epochs_200_train_size_full_fold_3/\n",
      "0                                  ['Science/Technology']\n",
      "1       ['Health', 'Justice/Crime', 'Macroeconomics/Ec...\n",
      "2                                              ['Others']\n",
      "3                                   ['Government/Public']\n",
      "4                                          ['War/Terror']\n",
      "                              ...                        \n",
      "3480                                 ['Labor/Employment']\n",
      "3481                                         ['Religion']\n",
      "3482                                        ['Education']\n",
      "3483                                ['Conspiracy Theory']\n",
      "3484                                ['Conspiracy Theory']\n",
      "Name: annotations, Length: 3485, dtype: object\n",
      "['Conspiracy Theory', 'Education', 'Election Campaign', 'Environment', 'Government/Public', 'Health', 'Immigration/Integration', 'Justice/Crime', 'Labor/Employment', 'Macroeconomics/Economic Regulation', 'Media/Journalism', 'Others', 'Religion', 'Science/Technology', 'War/Terror']\n"
     ]
    },
    {
     "name": "stderr",
     "output_type": "stream",
     "text": [
      "/tmp/ipykernel_11958/3473448682.py:37: UserWarning: To copy construct from a tensor, it is recommended to use sourceTensor.clone().detach() or sourceTensor.clone().detach().requires_grad_(True), rather than torch.tensor(sourceTensor).\n",
      "  'label': torch.tensor(label, dtype=torch.float32)}\n",
      "You're using a RobertaTokenizerFast tokenizer. Please note that with a fast tokenizer, using the `__call__` method is faster than using a method to encode the text followed by a call to the `pad` method to get a padded encoding.\n",
      "/tmp/ipykernel_11958/3473448682.py:37: UserWarning: To copy construct from a tensor, it is recommended to use sourceTensor.clone().detach() or sourceTensor.clone().detach().requires_grad_(True), rather than torch.tensor(sourceTensor).\n",
      "  'label': torch.tensor(label, dtype=torch.float32)}\n"
     ]
    },
    {
     "name": "stdout",
     "output_type": "stream",
     "text": [
      "../models/weak_labeled/oa_with_rules_classification_only_co_occurrence_generic_epochs_200_train_size_full_fold_4/\n",
      "0                                              ['Others']\n",
      "1       ['Health', 'Justice/Crime', 'Macroeconomics/Ec...\n",
      "2                                   ['Government/Public']\n",
      "3                                          ['War/Terror']\n",
      "4                                          ['War/Terror']\n",
      "                              ...                        \n",
      "3480                                 ['Labor/Employment']\n",
      "3481                                         ['Religion']\n",
      "3482                                        ['Education']\n",
      "3483                                ['Conspiracy Theory']\n",
      "3484                                ['Conspiracy Theory']\n",
      "Name: annotations, Length: 3485, dtype: object\n",
      "['Conspiracy Theory', 'Education', 'Election Campaign', 'Environment', 'Government/Public', 'Health', 'Immigration/Integration', 'Justice/Crime', 'Labor/Employment', 'Macroeconomics/Economic Regulation', 'Media/Journalism', 'Others', 'Religion', 'Science/Technology', 'War/Terror']\n"
     ]
    },
    {
     "name": "stderr",
     "output_type": "stream",
     "text": [
      "/tmp/ipykernel_11958/3473448682.py:37: UserWarning: To copy construct from a tensor, it is recommended to use sourceTensor.clone().detach() or sourceTensor.clone().detach().requires_grad_(True), rather than torch.tensor(sourceTensor).\n",
      "  'label': torch.tensor(label, dtype=torch.float32)}\n",
      "You're using a RobertaTokenizerFast tokenizer. Please note that with a fast tokenizer, using the `__call__` method is faster than using a method to encode the text followed by a call to the `pad` method to get a padded encoding.\n",
      "/tmp/ipykernel_11958/3473448682.py:37: UserWarning: To copy construct from a tensor, it is recommended to use sourceTensor.clone().detach() or sourceTensor.clone().detach().requires_grad_(True), rather than torch.tensor(sourceTensor).\n",
      "  'label': torch.tensor(label, dtype=torch.float32)}\n"
     ]
    },
    {
     "name": "stdout",
     "output_type": "stream",
     "text": [
      "[{'Conspiracy Theory': {'precision': 0.6111111111111112, 'recall': 0.46808510638297873, 'f1-score': 0.5301204819277109, 'support': 47}, 'Education': {'precision': 1.0, 'recall': 0.6666666666666666, 'f1-score': 0.8, 'support': 12}, 'Election Campaign': {'precision': 0.8235294117647058, 'recall': 0.5384615384615384, 'f1-score': 0.6511627906976744, 'support': 26}, 'Environment': {'precision': 0.8461538461538461, 'recall': 0.7857142857142857, 'f1-score': 0.8148148148148148, 'support': 14}, 'Government/Public': {'precision': 0.7870722433460076, 'recall': 0.8214285714285714, 'f1-score': 0.803883495145631, 'support': 252}, 'Health': {'precision': 0.9512195121951219, 'recall': 0.8666666666666667, 'f1-score': 0.9069767441860465, 'support': 45}, 'Immigration/Integration': {'precision': 0.6888888888888889, 'recall': 0.775, 'f1-score': 0.7294117647058822, 'support': 40}, 'Justice/Crime': {'precision': 0.7872340425531915, 'recall': 0.6915887850467289, 'f1-score': 0.7363184079601991, 'support': 107}, 'Labor/Employment': {'precision': 0.5357142857142857, 'recall': 0.7894736842105263, 'f1-score': 0.6382978723404255, 'support': 19}, 'Macroeconomics/Economic Regulation': {'precision': 0.6909090909090909, 'recall': 0.6551724137931034, 'f1-score': 0.6725663716814159, 'support': 58}, 'Media/Journalism': {'precision': 0.8235294117647058, 'recall': 0.7368421052631579, 'f1-score': 0.7777777777777778, 'support': 38}, 'Others': {'precision': 0.8817204301075269, 'recall': 0.8, 'f1-score': 0.8388746803069055, 'support': 205}, 'Religion': {'precision': 0.7333333333333333, 'recall': 0.5, 'f1-score': 0.5945945945945945, 'support': 22}, 'Science/Technology': {'precision': 1.0, 'recall': 0.4, 'f1-score': 0.5714285714285715, 'support': 10}, 'War/Terror': {'precision': 0.9072164948453608, 'recall': 0.9513513513513514, 'f1-score': 0.928759894459103, 'support': 185}, 'micro avg': {'precision': 0.8151016456921588, 'recall': 0.7796296296296297, 'f1-score': 0.7969711310932325, 'support': 1080}, 'macro avg': {'precision': 0.8045088068458117, 'recall': 0.6964300783323717, 'f1-score': 0.7329992174684502, 'support': 1080}, 'weighted avg': {'precision': 0.817762325606579, 'recall': 0.7796296296296297, 'f1-score': 0.7939682949462584, 'support': 1080}, 'samples avg': {'precision': 0.82125, 'recall': 0.8045833333333333, 'f1-score': 0.7976726190476191, 'support': 1080}}, {'Conspiracy Theory': {'precision': 0.5, 'recall': 0.6333333333333333, 'f1-score': 0.5588235294117647, 'support': 60}, 'Education': {'precision': 0.5833333333333334, 'recall': 0.4375, 'f1-score': 0.5, 'support': 16}, 'Election Campaign': {'precision': 0.7931034482758621, 'recall': 0.6571428571428571, 'f1-score': 0.71875, 'support': 35}, 'Environment': {'precision': 0.5714285714285714, 'recall': 0.5714285714285714, 'f1-score': 0.5714285714285714, 'support': 14}, 'Government/Public': {'precision': 0.7818930041152263, 'recall': 0.7786885245901639, 'f1-score': 0.7802874743326489, 'support': 244}, 'Health': {'precision': 0.8611111111111112, 'recall': 0.7560975609756098, 'f1-score': 0.8051948051948052, 'support': 41}, 'Immigration/Integration': {'precision': 0.9310344827586207, 'recall': 0.6, 'f1-score': 0.7297297297297297, 'support': 45}, 'Justice/Crime': {'precision': 0.7339449541284404, 'recall': 0.7272727272727273, 'f1-score': 0.7305936073059361, 'support': 110}, 'Labor/Employment': {'precision': 0.8666666666666667, 'recall': 0.8125, 'f1-score': 0.8387096774193549, 'support': 16}, 'Macroeconomics/Economic Regulation': {'precision': 0.5901639344262295, 'recall': 0.72, 'f1-score': 0.6486486486486487, 'support': 50}, 'Media/Journalism': {'precision': 0.6571428571428571, 'recall': 0.71875, 'f1-score': 0.6865671641791045, 'support': 32}, 'Others': {'precision': 0.8894472361809045, 'recall': 0.7662337662337663, 'f1-score': 0.8232558139534885, 'support': 231}, 'Religion': {'precision': 0.7857142857142857, 'recall': 0.7857142857142857, 'f1-score': 0.7857142857142857, 'support': 14}, 'Science/Technology': {'precision': 0.8, 'recall': 0.2857142857142857, 'f1-score': 0.4210526315789473, 'support': 14}, 'War/Terror': {'precision': 0.8608247422680413, 'recall': 0.9382022471910112, 'f1-score': 0.8978494623655914, 'support': 178}, 'micro avg': {'precision': 0.7796451914098973, 'recall': 0.759090909090909, 'f1-score': 0.7692307692307692, 'support': 1100}, 'macro avg': {'precision': 0.7470539085033434, 'recall': 0.6792385439731076, 'f1-score': 0.6997736934175252, 'support': 1100}, 'weighted avg': {'precision': 0.7900931361445233, 'recall': 0.759090909090909, 'f1-score': 0.7690889980433272, 'support': 1100}, 'samples avg': {'precision': 0.7943958333333333, 'recall': 0.784375, 'f1-score': 0.7716636904761904, 'support': 1100}}, {'Conspiracy Theory': {'precision': 0.5333333333333333, 'recall': 0.36363636363636365, 'f1-score': 0.43243243243243246, 'support': 44}, 'Education': {'precision': 0.5714285714285714, 'recall': 0.7272727272727273, 'f1-score': 0.64, 'support': 11}, 'Election Campaign': {'precision': 1.0, 'recall': 0.64, 'f1-score': 0.7804878048780487, 'support': 25}, 'Environment': {'precision': 0.9, 'recall': 0.8181818181818182, 'f1-score': 0.8571428571428572, 'support': 11}, 'Government/Public': {'precision': 0.740072202166065, 'recall': 0.8266129032258065, 'f1-score': 0.780952380952381, 'support': 248}, 'Health': {'precision': 0.9310344827586207, 'recall': 0.675, 'f1-score': 0.7826086956521738, 'support': 40}, 'Immigration/Integration': {'precision': 0.84, 'recall': 0.7241379310344828, 'f1-score': 0.7777777777777777, 'support': 29}, 'Justice/Crime': {'precision': 0.8571428571428571, 'recall': 0.782608695652174, 'f1-score': 0.8181818181818182, 'support': 115}, 'Labor/Employment': {'precision': 0.5294117647058824, 'recall': 0.45, 'f1-score': 0.48648648648648646, 'support': 20}, 'Macroeconomics/Economic Regulation': {'precision': 0.7073170731707317, 'recall': 0.6041666666666666, 'f1-score': 0.6516853932584269, 'support': 48}, 'Media/Journalism': {'precision': 0.7169811320754716, 'recall': 0.8444444444444444, 'f1-score': 0.7755102040816326, 'support': 45}, 'Others': {'precision': 0.8875739644970414, 'recall': 0.7109004739336493, 'f1-score': 0.7894736842105263, 'support': 211}, 'Religion': {'precision': 0.4444444444444444, 'recall': 0.4, 'f1-score': 0.4210526315789474, 'support': 10}, 'Science/Technology': {'precision': 0.8333333333333334, 'recall': 0.45454545454545453, 'f1-score': 0.5882352941176471, 'support': 11}, 'War/Terror': {'precision': 0.8932038834951457, 'recall': 0.92, 'f1-score': 0.9064039408866995, 'support': 200}, 'micro avg': {'precision': 0.8053624627606752, 'recall': 0.7593632958801498, 'f1-score': 0.7816867469879518, 'support': 1068}, 'macro avg': {'precision': 0.7590184695034332, 'recall': 0.6627671652395725, 'f1-score': 0.6992287601091902, 'support': 1068}, 'weighted avg': {'precision': 0.8096411002247784, 'recall': 0.7593632958801498, 'f1-score': 0.778168758813618, 'support': 1068}, 'samples avg': {'precision': 0.8075, 'recall': 0.785625, 'f1-score': 0.7807380952380953, 'support': 1068}}, {'Conspiracy Theory': {'precision': 0.5897435897435898, 'recall': 0.4791666666666667, 'f1-score': 0.5287356321839081, 'support': 48}, 'Education': {'precision': 0.75, 'recall': 0.3, 'f1-score': 0.4285714285714285, 'support': 10}, 'Election Campaign': {'precision': 0.782608695652174, 'recall': 0.75, 'f1-score': 0.7659574468085107, 'support': 24}, 'Environment': {'precision': 0.6, 'recall': 0.375, 'f1-score': 0.4615384615384615, 'support': 8}, 'Government/Public': {'precision': 0.7942386831275721, 'recall': 0.772, 'f1-score': 0.7829614604462476, 'support': 250}, 'Health': {'precision': 0.8888888888888888, 'recall': 0.6530612244897959, 'f1-score': 0.7529411764705882, 'support': 49}, 'Immigration/Integration': {'precision': 0.8529411764705882, 'recall': 0.6444444444444445, 'f1-score': 0.7341772151898734, 'support': 45}, 'Justice/Crime': {'precision': 0.78125, 'recall': 0.8620689655172413, 'f1-score': 0.8196721311475409, 'support': 116}, 'Labor/Employment': {'precision': 0.8571428571428571, 'recall': 0.5, 'f1-score': 0.631578947368421, 'support': 24}, 'Macroeconomics/Economic Regulation': {'precision': 0.925, 'recall': 0.6607142857142857, 'f1-score': 0.7708333333333333, 'support': 56}, 'Media/Journalism': {'precision': 0.7777777777777778, 'recall': 0.358974358974359, 'f1-score': 0.49122807017543857, 'support': 39}, 'Others': {'precision': 0.875, 'recall': 0.7446808510638298, 'f1-score': 0.8045977011494252, 'support': 188}, 'Religion': {'precision': 0.8125, 'recall': 0.8125, 'f1-score': 0.8125, 'support': 16}, 'Science/Technology': {'precision': 0.25, 'recall': 0.14285714285714285, 'f1-score': 0.18181818181818182, 'support': 7}, 'War/Terror': {'precision': 0.8851674641148325, 'recall': 0.9343434343434344, 'f1-score': 0.9090909090909092, 'support': 198}, 'micro avg': {'precision': 0.8252826310380267, 'recall': 0.7448979591836735, 'f1-score': 0.7830326669917114, 'support': 1078}, 'macro avg': {'precision': 0.7614839421945521, 'recall': 0.5993207582714134, 'f1-score': 0.6584134730194845, 'support': 1078}, 'weighted avg': {'precision': 0.823497959259247, 'recall': 0.7448979591836735, 'f1-score': 0.7750596353717102, 'support': 1078}, 'samples avg': {'precision': 0.8167708333333334, 'recall': 0.7825833333333333, 'f1-score': 0.7824107142857144, 'support': 1078}}, {'Conspiracy Theory': {'precision': 0.515625, 'recall': 0.6, 'f1-score': 0.5546218487394958, 'support': 55}, 'Education': {'precision': 0.6428571428571429, 'recall': 0.6428571428571429, 'f1-score': 0.6428571428571429, 'support': 14}, 'Election Campaign': {'precision': 0.7619047619047619, 'recall': 0.6956521739130435, 'f1-score': 0.7272727272727272, 'support': 23}, 'Environment': {'precision': 0.6, 'recall': 0.8181818181818182, 'f1-score': 0.6923076923076923, 'support': 11}, 'Government/Public': {'precision': 0.7675276752767528, 'recall': 0.8188976377952756, 'f1-score': 0.7923809523809523, 'support': 254}, 'Health': {'precision': 0.8947368421052632, 'recall': 0.8717948717948718, 'f1-score': 0.8831168831168831, 'support': 39}, 'Immigration/Integration': {'precision': 0.9259259259259259, 'recall': 0.5952380952380952, 'f1-score': 0.7246376811594204, 'support': 42}, 'Justice/Crime': {'precision': 0.8151260504201681, 'recall': 0.782258064516129, 'f1-score': 0.7983539094650206, 'support': 124}, 'Labor/Employment': {'precision': 0.75, 'recall': 0.5, 'f1-score': 0.6, 'support': 18}, 'Macroeconomics/Economic Regulation': {'precision': 0.75, 'recall': 0.7105263157894737, 'f1-score': 0.7297297297297298, 'support': 38}, 'Media/Journalism': {'precision': 0.5641025641025641, 'recall': 0.7333333333333333, 'f1-score': 0.6376811594202899, 'support': 30}, 'Others': {'precision': 0.8860103626943006, 'recall': 0.7702702702702703, 'f1-score': 0.8240963855421688, 'support': 222}, 'Religion': {'precision': 0.34782608695652173, 'recall': 0.8888888888888888, 'f1-score': 0.5, 'support': 9}, 'Science/Technology': {'precision': 0.4444444444444444, 'recall': 0.3333333333333333, 'f1-score': 0.380952380952381, 'support': 12}, 'War/Terror': {'precision': 0.8691099476439791, 'recall': 0.9325842696629213, 'f1-score': 0.8997289972899729, 'support': 178}, 'micro avg': {'precision': 0.7817164179104478, 'recall': 0.7839101964452759, 'f1-score': 0.7828117702008408, 'support': 1069}, 'macro avg': {'precision': 0.7023464536221216, 'recall': 0.7129210810383065, 'f1-score': 0.6925158326822586, 'support': 1069}, 'weighted avg': {'precision': 0.7952078449625648, 'recall': 0.7839101964452759, 'f1-score': 0.7846740869445761, 'support': 1069}, 'samples avg': {'precision': 0.8061458333333333, 'recall': 0.8025, 'f1-score': 0.7895595238095239, 'support': 1069}}]\n",
      "5\n",
      "[{'Conspiracy Theory': {'precision': 0.5, 'recall': 0.5333333333333333, 'f1-score': 0.5161290322580646, 'support': 45}, 'Education': {'precision': 0.5454545454545454, 'recall': 0.46153846153846156, 'f1-score': 0.4999999999999999, 'support': 13}, 'Election Campaign': {'precision': 0.9090909090909091, 'recall': 0.6060606060606061, 'f1-score': 0.7272727272727273, 'support': 33}, 'Environment': {'precision': 0.5333333333333333, 'recall': 0.5714285714285714, 'f1-score': 0.5517241379310344, 'support': 14}, 'Government/Public': {'precision': 0.7628205128205128, 'recall': 0.8178694158075601, 'f1-score': 0.7893864013266997, 'support': 291}, 'Health': {'precision': 0.75, 'recall': 0.5217391304347826, 'f1-score': 0.6153846153846153, 'support': 46}, 'Immigration/Integration': {'precision': 0.7352941176470589, 'recall': 0.6944444444444444, 'f1-score': 0.7142857142857144, 'support': 36}, 'Justice/Crime': {'precision': 0.8270676691729323, 'recall': 0.8029197080291971, 'f1-score': 0.8148148148148149, 'support': 137}, 'Labor/Employment': {'precision': 0.6428571428571429, 'recall': 0.6428571428571429, 'f1-score': 0.6428571428571429, 'support': 28}, 'Macroeconomics/Economic Regulation': {'precision': 0.7735849056603774, 'recall': 0.6612903225806451, 'f1-score': 0.7130434782608696, 'support': 62}, 'Media/Journalism': {'precision': 0.775, 'recall': 0.6458333333333334, 'f1-score': 0.7045454545454546, 'support': 48}, 'Others': {'precision': 0.8672199170124482, 'recall': 0.7712177121771218, 'f1-score': 0.81640625, 'support': 271}, 'Religion': {'precision': 0.5555555555555556, 'recall': 0.45454545454545453, 'f1-score': 0.5, 'support': 11}, 'Science/Technology': {'precision': 1.0, 'recall': 0.36363636363636365, 'f1-score': 0.5333333333333333, 'support': 11}, 'War/Terror': {'precision': 0.91015625, 'recall': 0.9137254901960784, 'f1-score': 0.9119373776908024, 'support': 255}, 'micro avg': {'precision': 0.8045234248788369, 'recall': 0.765564950038432, 'f1-score': 0.7845608507286334, 'support': 1301}, 'macro avg': {'precision': 0.7391623239069877, 'recall': 0.6308292993602064, 'f1-score': 0.670074698664085, 'support': 1301}, 'weighted avg': {'precision': 0.8076072409091152, 'recall': 0.765564950038432, 'f1-score': 0.7824724550488099, 'support': 1301}, 'samples avg': {'precision': 0.8163666666666666, 'recall': 0.7974333333333334, 'f1-score': 0.7935880952380953, 'support': 1301}}, {'Conspiracy Theory': {'precision': 0.39655172413793105, 'recall': 0.5111111111111111, 'f1-score': 0.44660194174757284, 'support': 45}, 'Education': {'precision': 0.5333333333333333, 'recall': 0.6153846153846154, 'f1-score': 0.5714285714285715, 'support': 13}, 'Election Campaign': {'precision': 0.7407407407407407, 'recall': 0.6060606060606061, 'f1-score': 0.6666666666666666, 'support': 33}, 'Environment': {'precision': 0.625, 'recall': 0.7142857142857143, 'f1-score': 0.6666666666666666, 'support': 14}, 'Government/Public': {'precision': 0.7789855072463768, 'recall': 0.738831615120275, 'f1-score': 0.7583774250440917, 'support': 291}, 'Health': {'precision': 0.7352941176470589, 'recall': 0.5434782608695652, 'f1-score': 0.625, 'support': 46}, 'Immigration/Integration': {'precision': 0.8214285714285714, 'recall': 0.6388888888888888, 'f1-score': 0.7187499999999999, 'support': 36}, 'Justice/Crime': {'precision': 0.8074074074074075, 'recall': 0.7956204379562044, 'f1-score': 0.8014705882352942, 'support': 137}, 'Labor/Employment': {'precision': 0.6666666666666666, 'recall': 0.5, 'f1-score': 0.5714285714285715, 'support': 28}, 'Macroeconomics/Economic Regulation': {'precision': 0.734375, 'recall': 0.7580645161290323, 'f1-score': 0.7460317460317459, 'support': 62}, 'Media/Journalism': {'precision': 0.7441860465116279, 'recall': 0.6666666666666666, 'f1-score': 0.7032967032967034, 'support': 48}, 'Others': {'precision': 0.8704453441295547, 'recall': 0.7933579335793358, 'f1-score': 0.8301158301158301, 'support': 271}, 'Religion': {'precision': 0.5263157894736842, 'recall': 0.9090909090909091, 'f1-score': 0.6666666666666666, 'support': 11}, 'Science/Technology': {'precision': 0.4166666666666667, 'recall': 0.45454545454545453, 'f1-score': 0.43478260869565216, 'support': 11}, 'War/Terror': {'precision': 0.8830188679245283, 'recall': 0.9176470588235294, 'f1-score': 0.8999999999999999, 'support': 255}, 'micro avg': {'precision': 0.7857142857142857, 'recall': 0.7609531129900077, 'f1-score': 0.7731354939476767, 'support': 1301}, 'macro avg': {'precision': 0.6853610522209432, 'recall': 0.6775355859007939, 'f1-score': 0.6738189324016022, 'support': 1301}, 'weighted avg': {'precision': 0.7917135390217687, 'recall': 0.7609531129900077, 'f1-score': 0.7736839626588755, 'support': 1301}, 'samples avg': {'precision': 0.8158333333333333, 'recall': 0.7976833333333334, 'f1-score': 0.7900999999999999, 'support': 1301}}, {'Conspiracy Theory': {'precision': 0.5555555555555556, 'recall': 0.4444444444444444, 'f1-score': 0.49382716049382713, 'support': 45}, 'Education': {'precision': 0.45, 'recall': 0.6923076923076923, 'f1-score': 0.5454545454545455, 'support': 13}, 'Election Campaign': {'precision': 0.8, 'recall': 0.6060606060606061, 'f1-score': 0.689655172413793, 'support': 33}, 'Environment': {'precision': 0.75, 'recall': 0.6428571428571429, 'f1-score': 0.6923076923076924, 'support': 14}, 'Government/Public': {'precision': 0.732484076433121, 'recall': 0.7903780068728522, 'f1-score': 0.7603305785123967, 'support': 291}, 'Health': {'precision': 0.8181818181818182, 'recall': 0.5869565217391305, 'f1-score': 0.6835443037974683, 'support': 46}, 'Immigration/Integration': {'precision': 0.9230769230769231, 'recall': 0.6666666666666666, 'f1-score': 0.7741935483870968, 'support': 36}, 'Justice/Crime': {'precision': 0.8780487804878049, 'recall': 0.7883211678832117, 'f1-score': 0.8307692307692308, 'support': 137}, 'Labor/Employment': {'precision': 0.6666666666666666, 'recall': 0.5714285714285714, 'f1-score': 0.6153846153846153, 'support': 28}, 'Macroeconomics/Economic Regulation': {'precision': 0.8809523809523809, 'recall': 0.5967741935483871, 'f1-score': 0.7115384615384616, 'support': 62}, 'Media/Journalism': {'precision': 0.6379310344827587, 'recall': 0.7708333333333334, 'f1-score': 0.69811320754717, 'support': 48}, 'Others': {'precision': 0.8806584362139918, 'recall': 0.7896678966789668, 'f1-score': 0.8326848249027237, 'support': 271}, 'Religion': {'precision': 0.6, 'recall': 0.5454545454545454, 'f1-score': 0.5714285714285713, 'support': 11}, 'Science/Technology': {'precision': 0.7142857142857143, 'recall': 0.45454545454545453, 'f1-score': 0.5555555555555556, 'support': 11}, 'War/Terror': {'precision': 0.9322709163346613, 'recall': 0.9176470588235294, 'f1-score': 0.924901185770751, 'support': 255}, 'micro avg': {'precision': 0.8137254901960784, 'recall': 0.765564950038432, 'f1-score': 0.7889108910891088, 'support': 1301}, 'macro avg': {'precision': 0.7480074868447596, 'recall': 0.657622886842969, 'f1-score': 0.6919792436175932, 'support': 1301}, 'weighted avg': {'precision': 0.8199951950141126, 'recall': 0.765564950038432, 'f1-score': 0.7877858966177004, 'support': 1301}, 'samples avg': {'precision': 0.825, 'recall': 0.8028166666666666, 'f1-score': 0.7983047619047619, 'support': 1301}}, {'Conspiracy Theory': {'precision': 0.5142857142857142, 'recall': 0.4, 'f1-score': 0.45, 'support': 45}, 'Education': {'precision': 0.4, 'recall': 0.3076923076923077, 'f1-score': 0.34782608695652173, 'support': 13}, 'Election Campaign': {'precision': 0.8148148148148148, 'recall': 0.6666666666666666, 'f1-score': 0.7333333333333333, 'support': 33}, 'Environment': {'precision': 0.5384615384615384, 'recall': 0.5, 'f1-score': 0.5185185185185186, 'support': 14}, 'Government/Public': {'precision': 0.7728937728937729, 'recall': 0.7250859106529209, 'f1-score': 0.74822695035461, 'support': 291}, 'Health': {'precision': 0.8214285714285714, 'recall': 0.5, 'f1-score': 0.6216216216216216, 'support': 46}, 'Immigration/Integration': {'precision': 0.8214285714285714, 'recall': 0.6388888888888888, 'f1-score': 0.7187499999999999, 'support': 36}, 'Justice/Crime': {'precision': 0.7808219178082192, 'recall': 0.8321167883211679, 'f1-score': 0.8056537102473498, 'support': 137}, 'Labor/Employment': {'precision': 0.7368421052631579, 'recall': 0.5, 'f1-score': 0.5957446808510638, 'support': 28}, 'Macroeconomics/Economic Regulation': {'precision': 0.8421052631578947, 'recall': 0.5161290322580645, 'f1-score': 0.6399999999999999, 'support': 62}, 'Media/Journalism': {'precision': 0.7647058823529411, 'recall': 0.2708333333333333, 'f1-score': 0.39999999999999997, 'support': 48}, 'Others': {'precision': 0.8508064516129032, 'recall': 0.7785977859778598, 'f1-score': 0.8131021194605009, 'support': 271}, 'Religion': {'precision': 0.6363636363636364, 'recall': 0.6363636363636364, 'f1-score': 0.6363636363636364, 'support': 11}, 'Science/Technology': {'precision': 1.0, 'recall': 0.36363636363636365, 'f1-score': 0.5333333333333333, 'support': 11}, 'War/Terror': {'precision': 0.8754578754578755, 'recall': 0.9372549019607843, 'f1-score': 0.9053030303030303, 'support': 255}, 'micro avg': {'precision': 0.8051282051282052, 'recall': 0.7240584166026134, 'f1-score': 0.7624443545123432, 'support': 1301}, 'macro avg': {'precision': 0.7446944076886408, 'recall': 0.5715510410501329, 'f1-score': 0.6311851347562346, 'support': 1301}, 'weighted avg': {'precision': 0.8019756612791072, 'recall': 0.7240584166026134, 'f1-score': 0.7520673779192405, 'support': 1301}, 'samples avg': {'precision': 0.80375, 'recall': 0.7620166666666667, 'f1-score': 0.7661119047619047, 'support': 1301}}, {'Conspiracy Theory': {'precision': 0.4027777777777778, 'recall': 0.6444444444444445, 'f1-score': 0.49572649572649574, 'support': 45}, 'Education': {'precision': 0.4375, 'recall': 0.5384615384615384, 'f1-score': 0.4827586206896552, 'support': 13}, 'Election Campaign': {'precision': 0.84375, 'recall': 0.8181818181818182, 'f1-score': 0.8307692307692308, 'support': 33}, 'Environment': {'precision': 0.5714285714285714, 'recall': 0.5714285714285714, 'f1-score': 0.5714285714285714, 'support': 14}, 'Government/Public': {'precision': 0.7213622291021672, 'recall': 0.8006872852233677, 'f1-score': 0.7589576547231269, 'support': 291}, 'Health': {'precision': 0.7073170731707317, 'recall': 0.6304347826086957, 'f1-score': 0.6666666666666667, 'support': 46}, 'Immigration/Integration': {'precision': 0.8571428571428571, 'recall': 0.6666666666666666, 'f1-score': 0.75, 'support': 36}, 'Justice/Crime': {'precision': 0.8148148148148148, 'recall': 0.8029197080291971, 'f1-score': 0.8088235294117646, 'support': 137}, 'Labor/Employment': {'precision': 0.65, 'recall': 0.4642857142857143, 'f1-score': 0.5416666666666667, 'support': 28}, 'Macroeconomics/Economic Regulation': {'precision': 0.8113207547169812, 'recall': 0.6935483870967742, 'f1-score': 0.7478260869565218, 'support': 62}, 'Media/Journalism': {'precision': 0.673469387755102, 'recall': 0.6875, 'f1-score': 0.6804123711340205, 'support': 48}, 'Others': {'precision': 0.8951965065502183, 'recall': 0.7564575645756457, 'f1-score': 0.82, 'support': 271}, 'Religion': {'precision': 0.6428571428571429, 'recall': 0.8181818181818182, 'f1-score': 0.7200000000000001, 'support': 11}, 'Science/Technology': {'precision': 0.4, 'recall': 0.5454545454545454, 'f1-score': 0.4615384615384615, 'support': 11}, 'War/Terror': {'precision': 0.8773234200743495, 'recall': 0.9254901960784314, 'f1-score': 0.9007633587786261, 'support': 255}, 'micro avg': {'precision': 0.7725190839694657, 'recall': 0.7778631821675634, 'f1-score': 0.7751819226350057, 'support': 1301}, 'macro avg': {'precision': 0.6870840356927143, 'recall': 0.6909428693811486, 'f1-score': 0.6824891809659873, 'support': 1301}, 'weighted avg': {'precision': 0.7864808515692171, 'recall': 0.7778631821675634, 'f1-score': 0.7781970516144716, 'support': 1301}, 'samples avg': {'precision': 0.8021666666666667, 'recall': 0.8060499999999999, 'f1-score': 0.7885365079365079, 'support': 1301}}]\n",
      "5\n",
      "\n",
      "Average Validation Classification Report In DataFrame Format:\n",
      "                                    precision    recall  f1-score  support\n",
      "Conspiracy Theory                    0.549963  0.508844  0.520947     50.8\n",
      "Education                            0.709524  0.554859  0.602286     12.6\n",
      "Election Campaign                    0.832229  0.656251  0.728726     26.6\n",
      "Environment                          0.703516  0.673701  0.679446     11.6\n",
      "Government/Public                    0.774161  0.803526  0.788093    249.6\n",
      "Health                               0.905398  0.764524  0.826168     42.8\n",
      "Immigration/Integration              0.847758  0.667764  0.739147     40.2\n",
      "Justice/Crime                        0.794940  0.769159  0.780624    114.4\n",
      "Labor/Employment                     0.707787  0.610395  0.639015     19.4\n",
      "Macroeconomics/Economic Regulation   0.732678  0.670116  0.694693     50.0\n",
      "Media/Journalism                     0.707907  0.678469  0.673753     36.8\n",
      "Others                               0.883950  0.758417  0.816060    211.4\n",
      "Religion                             0.624764  0.677421  0.622772     14.2\n",
      "Science/Technology                   0.665556  0.323290  0.428697     10.8\n",
      "War/Terror                           0.883105  0.935296  0.908367    187.8\n",
      "micro avg                            0.801422  0.765378  0.782747   1079.0\n",
      "macro avg                            0.754882  0.670136  0.696586   1079.0\n",
      "weighted avg                         0.807240  0.765378  0.780192   1079.0\n",
      "samples avg                          0.809212  0.791933  0.784409   1079.0\n",
      "\n",
      "Average Test Classification Report In DataFrame Format:\n",
      "                                    precision    recall  f1-score  support\n",
      "Conspiracy Theory                    0.473834  0.506667  0.480457     45.0\n",
      "Education                            0.473258  0.523077  0.489494     13.0\n",
      "Election Campaign                    0.821679  0.660606  0.729539     33.0\n",
      "Environment                          0.603645  0.600000  0.600129     14.0\n",
      "Government/Public                    0.753709  0.774570  0.763056    291.0\n",
      "Health                               0.766444  0.556522  0.642443     46.0\n",
      "Immigration/Integration              0.831674  0.661111  0.735196     36.0\n",
      "Justice/Crime                        0.821632  0.804380  0.812306    137.0\n",
      "Labor/Employment                     0.672607  0.535714  0.593416     28.0\n",
      "Macroeconomics/Economic Regulation   0.808468  0.645161  0.711688     62.0\n",
      "Media/Journalism                     0.719058  0.608333  0.637274     48.0\n",
      "Others                               0.872865  0.777860  0.822462    271.0\n",
      "Religion                             0.592218  0.672727  0.618892     11.0\n",
      "Science/Technology                   0.706190  0.436364  0.503709     11.0\n",
      "War/Terror                           0.895645  0.922353  0.908581    255.0\n",
      "micro avg                            0.796322  0.758801  0.776847   1301.0\n",
      "macro avg                            0.720862  0.645696  0.669909   1301.0\n",
      "weighted avg                         0.801554  0.758801  0.774841   1301.0\n",
      "samples avg                          0.812623  0.793200  0.787328   1301.0\n"
     ]
    }
   ],
   "source": [
    "generic_val_average_report_df, generic_test_average_report_df = calculate_metrics(\"oa_with_rules_classification_only_co_occurrence_generic\")"
   ]
  },
  {
   "cell_type": "code",
   "execution_count": 6,
   "metadata": {},
   "outputs": [
    {
     "name": "stdout",
     "output_type": "stream",
     "text": [
      "../models/weak_labeled/oa_with_3_random_examples_classification_only_co_occurrence_generic_epochs_200_train_size_full_fold_0/\n",
      "0                                  ['Science/Technology']\n",
      "1                                              ['Others']\n",
      "2       ['Health', 'Justice/Crime', 'Macroeconomics/Ec...\n",
      "3                                              ['Others']\n",
      "4                                   ['Government/Public']\n",
      "                              ...                        \n",
      "3759                                 ['Labor/Employment']\n",
      "3760                                 ['Labor/Employment']\n",
      "3761                                        ['Education']\n",
      "3762                                         ['Religion']\n",
      "3763                                         ['Religion']\n",
      "Name: annotations, Length: 3764, dtype: object\n",
      "['Conspiracy Theory', 'Education', 'Election Campaign', 'Environment', 'Government/Public', 'Health', 'Immigration/Integration', 'Justice/Crime', 'Labor/Employment', 'Macroeconomics/Economic Regulation', 'Media/Journalism', 'Others', 'Religion', 'Science/Technology', 'War/Terror']\n"
     ]
    },
    {
     "name": "stderr",
     "output_type": "stream",
     "text": [
      "/tmp/ipykernel_11958/3473448682.py:37: UserWarning: To copy construct from a tensor, it is recommended to use sourceTensor.clone().detach() or sourceTensor.clone().detach().requires_grad_(True), rather than torch.tensor(sourceTensor).\n",
      "  'label': torch.tensor(label, dtype=torch.float32)}\n",
      "You're using a RobertaTokenizerFast tokenizer. Please note that with a fast tokenizer, using the `__call__` method is faster than using a method to encode the text followed by a call to the `pad` method to get a padded encoding.\n",
      "/tmp/ipykernel_11958/3473448682.py:37: UserWarning: To copy construct from a tensor, it is recommended to use sourceTensor.clone().detach() or sourceTensor.clone().detach().requires_grad_(True), rather than torch.tensor(sourceTensor).\n",
      "  'label': torch.tensor(label, dtype=torch.float32)}\n"
     ]
    },
    {
     "name": "stdout",
     "output_type": "stream",
     "text": [
      "../models/weak_labeled/oa_with_3_random_examples_classification_only_co_occurrence_generic_epochs_200_train_size_full_fold_1/\n",
      "0                                  ['Science/Technology']\n",
      "1                                              ['Others']\n",
      "2       ['Health', 'Justice/Crime', 'Macroeconomics/Ec...\n",
      "3                                              ['Others']\n",
      "4                                          ['War/Terror']\n",
      "                              ...                        \n",
      "3759                                 ['Labor/Employment']\n",
      "3760                                 ['Labor/Employment']\n",
      "3761                                        ['Education']\n",
      "3762                                         ['Religion']\n",
      "3763                                         ['Religion']\n",
      "Name: annotations, Length: 3764, dtype: object\n",
      "['Conspiracy Theory', 'Education', 'Election Campaign', 'Environment', 'Government/Public', 'Health', 'Immigration/Integration', 'Justice/Crime', 'Labor/Employment', 'Macroeconomics/Economic Regulation', 'Media/Journalism', 'Others', 'Religion', 'Science/Technology', 'War/Terror']\n"
     ]
    },
    {
     "name": "stderr",
     "output_type": "stream",
     "text": [
      "/tmp/ipykernel_11958/3473448682.py:37: UserWarning: To copy construct from a tensor, it is recommended to use sourceTensor.clone().detach() or sourceTensor.clone().detach().requires_grad_(True), rather than torch.tensor(sourceTensor).\n",
      "  'label': torch.tensor(label, dtype=torch.float32)}\n",
      "You're using a RobertaTokenizerFast tokenizer. Please note that with a fast tokenizer, using the `__call__` method is faster than using a method to encode the text followed by a call to the `pad` method to get a padded encoding.\n",
      "/tmp/ipykernel_11958/3473448682.py:37: UserWarning: To copy construct from a tensor, it is recommended to use sourceTensor.clone().detach() or sourceTensor.clone().detach().requires_grad_(True), rather than torch.tensor(sourceTensor).\n",
      "  'label': torch.tensor(label, dtype=torch.float32)}\n"
     ]
    },
    {
     "name": "stdout",
     "output_type": "stream",
     "text": [
      "../models/weak_labeled/oa_with_3_random_examples_classification_only_co_occurrence_generic_epochs_200_train_size_full_fold_2/\n",
      "0       ['Science/Technology']\n",
      "1                   ['Others']\n",
      "2                   ['Others']\n",
      "3        ['Government/Public']\n",
      "4               ['War/Terror']\n",
      "                 ...          \n",
      "3759      ['Labor/Employment']\n",
      "3760      ['Labor/Employment']\n",
      "3761             ['Education']\n",
      "3762              ['Religion']\n",
      "3763              ['Religion']\n",
      "Name: annotations, Length: 3764, dtype: object\n",
      "['Conspiracy Theory', 'Education', 'Election Campaign', 'Environment', 'Government/Public', 'Health', 'Immigration/Integration', 'Justice/Crime', 'Labor/Employment', 'Macroeconomics/Economic Regulation', 'Media/Journalism', 'Others', 'Religion', 'Science/Technology', 'War/Terror']\n"
     ]
    },
    {
     "name": "stderr",
     "output_type": "stream",
     "text": [
      "/tmp/ipykernel_11958/3473448682.py:37: UserWarning: To copy construct from a tensor, it is recommended to use sourceTensor.clone().detach() or sourceTensor.clone().detach().requires_grad_(True), rather than torch.tensor(sourceTensor).\n",
      "  'label': torch.tensor(label, dtype=torch.float32)}\n",
      "You're using a RobertaTokenizerFast tokenizer. Please note that with a fast tokenizer, using the `__call__` method is faster than using a method to encode the text followed by a call to the `pad` method to get a padded encoding.\n",
      "/tmp/ipykernel_11958/3473448682.py:37: UserWarning: To copy construct from a tensor, it is recommended to use sourceTensor.clone().detach() or sourceTensor.clone().detach().requires_grad_(True), rather than torch.tensor(sourceTensor).\n",
      "  'label': torch.tensor(label, dtype=torch.float32)}\n"
     ]
    },
    {
     "name": "stdout",
     "output_type": "stream",
     "text": [
      "../models/weak_labeled/oa_with_3_random_examples_classification_only_co_occurrence_generic_epochs_200_train_size_full_fold_3/\n",
      "0                                  ['Science/Technology']\n",
      "1       ['Health', 'Justice/Crime', 'Macroeconomics/Ec...\n",
      "2                                              ['Others']\n",
      "3                                   ['Government/Public']\n",
      "4                                          ['War/Terror']\n",
      "                              ...                        \n",
      "3759                                 ['Labor/Employment']\n",
      "3760                                 ['Labor/Employment']\n",
      "3761                                        ['Education']\n",
      "3762                                         ['Religion']\n",
      "3763                                         ['Religion']\n",
      "Name: annotations, Length: 3764, dtype: object\n",
      "['Conspiracy Theory', 'Education', 'Election Campaign', 'Environment', 'Government/Public', 'Health', 'Immigration/Integration', 'Justice/Crime', 'Labor/Employment', 'Macroeconomics/Economic Regulation', 'Media/Journalism', 'Others', 'Religion', 'Science/Technology', 'War/Terror']\n"
     ]
    },
    {
     "name": "stderr",
     "output_type": "stream",
     "text": [
      "/tmp/ipykernel_11958/3473448682.py:37: UserWarning: To copy construct from a tensor, it is recommended to use sourceTensor.clone().detach() or sourceTensor.clone().detach().requires_grad_(True), rather than torch.tensor(sourceTensor).\n",
      "  'label': torch.tensor(label, dtype=torch.float32)}\n",
      "You're using a RobertaTokenizerFast tokenizer. Please note that with a fast tokenizer, using the `__call__` method is faster than using a method to encode the text followed by a call to the `pad` method to get a padded encoding.\n",
      "/tmp/ipykernel_11958/3473448682.py:37: UserWarning: To copy construct from a tensor, it is recommended to use sourceTensor.clone().detach() or sourceTensor.clone().detach().requires_grad_(True), rather than torch.tensor(sourceTensor).\n",
      "  'label': torch.tensor(label, dtype=torch.float32)}\n"
     ]
    },
    {
     "name": "stdout",
     "output_type": "stream",
     "text": [
      "../models/weak_labeled/oa_with_3_random_examples_classification_only_co_occurrence_generic_epochs_200_train_size_full_fold_4/\n",
      "0                                              ['Others']\n",
      "1       ['Health', 'Justice/Crime', 'Macroeconomics/Ec...\n",
      "2                                   ['Government/Public']\n",
      "3                                          ['War/Terror']\n",
      "4                                          ['War/Terror']\n",
      "                              ...                        \n",
      "3759                                 ['Labor/Employment']\n",
      "3760                                 ['Labor/Employment']\n",
      "3761                                        ['Education']\n",
      "3762                                         ['Religion']\n",
      "3763                                         ['Religion']\n",
      "Name: annotations, Length: 3764, dtype: object\n",
      "['Conspiracy Theory', 'Education', 'Election Campaign', 'Environment', 'Government/Public', 'Health', 'Immigration/Integration', 'Justice/Crime', 'Labor/Employment', 'Macroeconomics/Economic Regulation', 'Media/Journalism', 'Others', 'Religion', 'Science/Technology', 'War/Terror']\n"
     ]
    },
    {
     "name": "stderr",
     "output_type": "stream",
     "text": [
      "/tmp/ipykernel_11958/3473448682.py:37: UserWarning: To copy construct from a tensor, it is recommended to use sourceTensor.clone().detach() or sourceTensor.clone().detach().requires_grad_(True), rather than torch.tensor(sourceTensor).\n",
      "  'label': torch.tensor(label, dtype=torch.float32)}\n",
      "You're using a RobertaTokenizerFast tokenizer. Please note that with a fast tokenizer, using the `__call__` method is faster than using a method to encode the text followed by a call to the `pad` method to get a padded encoding.\n",
      "/tmp/ipykernel_11958/3473448682.py:37: UserWarning: To copy construct from a tensor, it is recommended to use sourceTensor.clone().detach() or sourceTensor.clone().detach().requires_grad_(True), rather than torch.tensor(sourceTensor).\n",
      "  'label': torch.tensor(label, dtype=torch.float32)}\n"
     ]
    },
    {
     "name": "stdout",
     "output_type": "stream",
     "text": [
      "[{'Conspiracy Theory': {'precision': 0.5757575757575758, 'recall': 0.40425531914893614, 'f1-score': 0.47500000000000003, 'support': 47}, 'Education': {'precision': 0.8888888888888888, 'recall': 0.6666666666666666, 'f1-score': 0.761904761904762, 'support': 12}, 'Election Campaign': {'precision': 0.8888888888888888, 'recall': 0.6153846153846154, 'f1-score': 0.7272727272727274, 'support': 26}, 'Environment': {'precision': 0.7692307692307693, 'recall': 0.7142857142857143, 'f1-score': 0.7407407407407408, 'support': 14}, 'Government/Public': {'precision': 0.8181818181818182, 'recall': 0.75, 'f1-score': 0.7826086956521738, 'support': 252}, 'Health': {'precision': 0.9487179487179487, 'recall': 0.8222222222222222, 'f1-score': 0.8809523809523809, 'support': 45}, 'Immigration/Integration': {'precision': 0.8181818181818182, 'recall': 0.675, 'f1-score': 0.7397260273972603, 'support': 40}, 'Justice/Crime': {'precision': 0.8048780487804879, 'recall': 0.616822429906542, 'f1-score': 0.6984126984126984, 'support': 107}, 'Labor/Employment': {'precision': 0.5172413793103449, 'recall': 0.7894736842105263, 'f1-score': 0.625, 'support': 19}, 'Macroeconomics/Economic Regulation': {'precision': 0.7346938775510204, 'recall': 0.6206896551724138, 'f1-score': 0.6728971962616822, 'support': 58}, 'Media/Journalism': {'precision': 0.9375, 'recall': 0.39473684210526316, 'f1-score': 0.5555555555555556, 'support': 38}, 'Others': {'precision': 0.8677248677248677, 'recall': 0.8, 'f1-score': 0.8324873096446701, 'support': 205}, 'Religion': {'precision': 0.5333333333333333, 'recall': 0.7272727272727273, 'f1-score': 0.6153846153846153, 'support': 22}, 'Science/Technology': {'precision': 0.75, 'recall': 0.3, 'f1-score': 0.4285714285714285, 'support': 10}, 'War/Terror': {'precision': 0.9329608938547486, 'recall': 0.9027027027027027, 'f1-score': 0.9175824175824175, 'support': 185}, 'micro avg': {'precision': 0.8259958071278826, 'recall': 0.7296296296296296, 'f1-score': 0.7748279252704031, 'support': 1080}, 'macro avg': {'precision': 0.7857453405601673, 'recall': 0.653300838605222, 'f1-score': 0.6969397703555409, 'support': 1080}, 'weighted avg': {'precision': 0.8306578630680008, 'recall': 0.7296296296296296, 'f1-score': 0.7705349414295756, 'support': 1080}, 'samples avg': {'precision': 0.8116666666666665, 'recall': 0.7676041666666665, 'f1-score': 0.7723750000000001, 'support': 1080}}, {'Conspiracy Theory': {'precision': 0.6363636363636364, 'recall': 0.4666666666666667, 'f1-score': 0.5384615384615385, 'support': 60}, 'Education': {'precision': 0.6470588235294118, 'recall': 0.6875, 'f1-score': 0.6666666666666667, 'support': 16}, 'Election Campaign': {'precision': 0.8928571428571429, 'recall': 0.7142857142857143, 'f1-score': 0.7936507936507937, 'support': 35}, 'Environment': {'precision': 0.8, 'recall': 0.2857142857142857, 'f1-score': 0.4210526315789473, 'support': 14}, 'Government/Public': {'precision': 0.7302158273381295, 'recall': 0.8319672131147541, 'f1-score': 0.7777777777777778, 'support': 244}, 'Health': {'precision': 0.7674418604651163, 'recall': 0.8048780487804879, 'f1-score': 0.7857142857142858, 'support': 41}, 'Immigration/Integration': {'precision': 0.9032258064516129, 'recall': 0.6222222222222222, 'f1-score': 0.7368421052631579, 'support': 45}, 'Justice/Crime': {'precision': 0.8888888888888888, 'recall': 0.6545454545454545, 'f1-score': 0.7539267015706806, 'support': 110}, 'Labor/Employment': {'precision': 0.7692307692307693, 'recall': 0.625, 'f1-score': 0.6896551724137931, 'support': 16}, 'Macroeconomics/Economic Regulation': {'precision': 0.627906976744186, 'recall': 0.54, 'f1-score': 0.5806451612903226, 'support': 50}, 'Media/Journalism': {'precision': 0.6538461538461539, 'recall': 0.53125, 'f1-score': 0.5862068965517242, 'support': 32}, 'Others': {'precision': 0.8536585365853658, 'recall': 0.7575757575757576, 'f1-score': 0.8027522935779816, 'support': 231}, 'Religion': {'precision': 0.5833333333333334, 'recall': 0.5, 'f1-score': 0.5384615384615384, 'support': 14}, 'Science/Technology': {'precision': 0.6666666666666666, 'recall': 0.2857142857142857, 'f1-score': 0.4, 'support': 14}, 'War/Terror': {'precision': 0.9337349397590361, 'recall': 0.8707865168539326, 'f1-score': 0.9011627906976745, 'support': 178}, 'micro avg': {'precision': 0.8006012024048096, 'recall': 0.7263636363636363, 'f1-score': 0.761677788369876, 'support': 1100}, 'macro avg': {'precision': 0.7569619574706299, 'recall': 0.6118737443649043, 'f1-score': 0.6648650902451256, 'support': 1100}, 'weighted avg': {'precision': 0.8041559417020627, 'recall': 0.7263636363636363, 'f1-score': 0.7568503169162508, 'support': 1100}, 'samples avg': {'precision': 0.7901041666666667, 'recall': 0.7542708333333333, 'f1-score': 0.7556190476190475, 'support': 1100}}, {'Conspiracy Theory': {'precision': 0.43243243243243246, 'recall': 0.36363636363636365, 'f1-score': 0.39506172839506176, 'support': 44}, 'Education': {'precision': 0.6153846153846154, 'recall': 0.7272727272727273, 'f1-score': 0.6666666666666667, 'support': 11}, 'Election Campaign': {'precision': 0.8421052631578947, 'recall': 0.64, 'f1-score': 0.7272727272727272, 'support': 25}, 'Environment': {'precision': 0.8333333333333334, 'recall': 0.45454545454545453, 'f1-score': 0.5882352941176471, 'support': 11}, 'Government/Public': {'precision': 0.7490774907749077, 'recall': 0.8185483870967742, 'f1-score': 0.7822736030828515, 'support': 248}, 'Health': {'precision': 0.9285714285714286, 'recall': 0.65, 'f1-score': 0.7647058823529412, 'support': 40}, 'Immigration/Integration': {'precision': 0.8260869565217391, 'recall': 0.6551724137931034, 'f1-score': 0.7307692307692308, 'support': 29}, 'Justice/Crime': {'precision': 0.8627450980392157, 'recall': 0.7652173913043478, 'f1-score': 0.8110599078341014, 'support': 115}, 'Labor/Employment': {'precision': 0.5, 'recall': 0.1, 'f1-score': 0.16666666666666669, 'support': 20}, 'Macroeconomics/Economic Regulation': {'precision': 0.7073170731707317, 'recall': 0.6041666666666666, 'f1-score': 0.6516853932584269, 'support': 48}, 'Media/Journalism': {'precision': 0.875, 'recall': 0.4666666666666667, 'f1-score': 0.608695652173913, 'support': 45}, 'Others': {'precision': 0.891566265060241, 'recall': 0.7014218009478673, 'f1-score': 0.7851458885941645, 'support': 211}, 'Religion': {'precision': 0.4, 'recall': 0.4, 'f1-score': 0.4000000000000001, 'support': 10}, 'Science/Technology': {'precision': 0.6666666666666666, 'recall': 0.36363636363636365, 'f1-score': 0.4705882352941177, 'support': 11}, 'War/Terror': {'precision': 0.8731707317073171, 'recall': 0.895, 'f1-score': 0.8839506172839507, 'support': 200}, 'micro avg': {'precision': 0.8041884816753927, 'recall': 0.7191011235955056, 'f1-score': 0.759268413247652, 'support': 1068}, 'macro avg': {'precision': 0.7335638236547016, 'recall': 0.5736856157044223, 'f1-score': 0.6288518329174978, 'support': 1068}, 'weighted avg': {'precision': 0.8047902809225178, 'recall': 0.7191011235955056, 'f1-score': 0.7509949951757308, 'support': 1068}, 'samples avg': {'precision': 0.786875, 'recall': 0.7548958333333333, 'f1-score': 0.7525892857142857, 'support': 1068}}, {'Conspiracy Theory': {'precision': 0.7073170731707317, 'recall': 0.6041666666666666, 'f1-score': 0.6516853932584269, 'support': 48}, 'Education': {'precision': 0.3333333333333333, 'recall': 0.4, 'f1-score': 0.3636363636363636, 'support': 10}, 'Election Campaign': {'precision': 0.7142857142857143, 'recall': 0.625, 'f1-score': 0.6666666666666666, 'support': 24}, 'Environment': {'precision': 0.3333333333333333, 'recall': 0.125, 'f1-score': 0.18181818181818182, 'support': 8}, 'Government/Public': {'precision': 0.7276264591439688, 'recall': 0.748, 'f1-score': 0.73767258382643, 'support': 250}, 'Health': {'precision': 0.8857142857142857, 'recall': 0.6326530612244898, 'f1-score': 0.7380952380952381, 'support': 49}, 'Immigration/Integration': {'precision': 0.7619047619047619, 'recall': 0.7111111111111111, 'f1-score': 0.735632183908046, 'support': 45}, 'Justice/Crime': {'precision': 0.8230088495575221, 'recall': 0.8017241379310345, 'f1-score': 0.8122270742358078, 'support': 116}, 'Labor/Employment': {'precision': 0.8, 'recall': 0.3333333333333333, 'f1-score': 0.47058823529411764, 'support': 24}, 'Macroeconomics/Economic Regulation': {'precision': 0.875, 'recall': 0.75, 'f1-score': 0.8076923076923077, 'support': 56}, 'Media/Journalism': {'precision': 0.8571428571428571, 'recall': 0.3076923076923077, 'f1-score': 0.45283018867924535, 'support': 39}, 'Others': {'precision': 0.8553459119496856, 'recall': 0.723404255319149, 'f1-score': 0.7838616714697405, 'support': 188}, 'Religion': {'precision': 0.41379310344827586, 'recall': 0.75, 'f1-score': 0.5333333333333333, 'support': 16}, 'Science/Technology': {'precision': 0.2857142857142857, 'recall': 0.2857142857142857, 'f1-score': 0.2857142857142857, 'support': 7}, 'War/Terror': {'precision': 0.9315789473684211, 'recall': 0.8939393939393939, 'f1-score': 0.9123711340206184, 'support': 198}, 'micro avg': {'precision': 0.7961264016309888, 'recall': 0.7244897959183674, 'f1-score': 0.7586206896551724, 'support': 1078}, 'macro avg': {'precision': 0.6870065944044784, 'recall': 0.579449236862118, 'f1-score': 0.6089216561099207, 'support': 1078}, 'weighted avg': {'precision': 0.8048815921935654, 'recall': 0.7244897959183674, 'f1-score': 0.754185979424721, 'support': 1078}, 'samples avg': {'precision': 0.7928125, 'recall': 0.7608958333333333, 'f1-score': 0.759890873015873, 'support': 1078}}, {'Conspiracy Theory': {'precision': 0.5681818181818182, 'recall': 0.45454545454545453, 'f1-score': 0.5050505050505051, 'support': 55}, 'Education': {'precision': 0.8888888888888888, 'recall': 0.5714285714285714, 'f1-score': 0.6956521739130435, 'support': 14}, 'Election Campaign': {'precision': 0.8, 'recall': 0.5217391304347826, 'f1-score': 0.6315789473684211, 'support': 23}, 'Environment': {'precision': 0.75, 'recall': 0.5454545454545454, 'f1-score': 0.631578947368421, 'support': 11}, 'Government/Public': {'precision': 0.7886792452830189, 'recall': 0.8228346456692913, 'f1-score': 0.8053949903660886, 'support': 254}, 'Health': {'precision': 0.8648648648648649, 'recall': 0.8205128205128205, 'f1-score': 0.8421052631578947, 'support': 39}, 'Immigration/Integration': {'precision': 0.8666666666666667, 'recall': 0.6190476190476191, 'f1-score': 0.7222222222222222, 'support': 42}, 'Justice/Crime': {'precision': 0.8961038961038961, 'recall': 0.5564516129032258, 'f1-score': 0.6865671641791045, 'support': 124}, 'Labor/Employment': {'precision': 0.6363636363636364, 'recall': 0.3888888888888889, 'f1-score': 0.4827586206896552, 'support': 18}, 'Macroeconomics/Economic Regulation': {'precision': 0.7586206896551724, 'recall': 0.5789473684210527, 'f1-score': 0.6567164179104478, 'support': 38}, 'Media/Journalism': {'precision': 0.6470588235294118, 'recall': 0.36666666666666664, 'f1-score': 0.46808510638297873, 'support': 30}, 'Others': {'precision': 0.8972972972972973, 'recall': 0.7477477477477478, 'f1-score': 0.8157248157248158, 'support': 222}, 'Religion': {'precision': 0.3333333333333333, 'recall': 0.7777777777777778, 'f1-score': 0.4666666666666666, 'support': 9}, 'Science/Technology': {'precision': 0.25, 'recall': 0.08333333333333333, 'f1-score': 0.125, 'support': 12}, 'War/Terror': {'precision': 0.9127906976744186, 'recall': 0.8820224719101124, 'f1-score': 0.8971428571428571, 'support': 178}, 'micro avg': {'precision': 0.8203463203463204, 'recall': 0.7090739008419084, 'f1-score': 0.760662318113397, 'support': 1069}, 'macro avg': {'precision': 0.7239233238561618, 'recall': 0.5824932436494593, 'f1-score': 0.6288163132095413, 'support': 1069}, 'weighted avg': {'precision': 0.8225315492481899, 'recall': 0.7090739008419084, 'f1-score': 0.7540135237021621, 'support': 1069}, 'samples avg': {'precision': 0.7920833333333335, 'recall': 0.74125, 'f1-score': 0.7503214285714287, 'support': 1069}}]\n",
      "5\n",
      "[{'Conspiracy Theory': {'precision': 0.4, 'recall': 0.26666666666666666, 'f1-score': 0.32, 'support': 45}, 'Education': {'precision': 0.5714285714285714, 'recall': 0.6153846153846154, 'f1-score': 0.5925925925925927, 'support': 13}, 'Election Campaign': {'precision': 0.84, 'recall': 0.6363636363636364, 'f1-score': 0.7241379310344828, 'support': 33}, 'Environment': {'precision': 0.7777777777777778, 'recall': 0.5, 'f1-score': 0.6086956521739131, 'support': 14}, 'Government/Public': {'precision': 0.7657992565055762, 'recall': 0.7079037800687286, 'f1-score': 0.7357142857142857, 'support': 291}, 'Health': {'precision': 0.7631578947368421, 'recall': 0.6304347826086957, 'f1-score': 0.6904761904761905, 'support': 46}, 'Immigration/Integration': {'precision': 0.7391304347826086, 'recall': 0.4722222222222222, 'f1-score': 0.5762711864406781, 'support': 36}, 'Justice/Crime': {'precision': 0.832, 'recall': 0.7591240875912408, 'f1-score': 0.7938931297709924, 'support': 137}, 'Labor/Employment': {'precision': 0.5769230769230769, 'recall': 0.5357142857142857, 'f1-score': 0.5555555555555555, 'support': 28}, 'Macroeconomics/Economic Regulation': {'precision': 0.76, 'recall': 0.6129032258064516, 'f1-score': 0.6785714285714285, 'support': 62}, 'Media/Journalism': {'precision': 0.6818181818181818, 'recall': 0.3125, 'f1-score': 0.42857142857142855, 'support': 48}, 'Others': {'precision': 0.84, 'recall': 0.7749077490774908, 'f1-score': 0.8061420345489444, 'support': 271}, 'Religion': {'precision': 0.24390243902439024, 'recall': 0.9090909090909091, 'f1-score': 0.38461538461538464, 'support': 11}, 'Science/Technology': {'precision': 1.0, 'recall': 0.36363636363636365, 'f1-score': 0.5333333333333333, 'support': 11}, 'War/Terror': {'precision': 0.9527896995708155, 'recall': 0.8705882352941177, 'f1-score': 0.9098360655737705, 'support': 255}, 'micro avg': {'precision': 0.7920621225194133, 'recall': 0.7056110684089162, 'f1-score': 0.7463414634146343, 'support': 1301}, 'macro avg': {'precision': 0.7163151555045226, 'recall': 0.5978293706350283, 'f1-score': 0.6225604132648654, 'support': 1301}, 'weighted avg': {'precision': 0.8015898707698668, 'recall': 0.7056110684089162, 'f1-score': 0.7445460527543833, 'support': 1301}, 'samples avg': {'precision': 0.7881666666666668, 'recall': 0.7494166666666666, 'f1-score': 0.7530999999999999, 'support': 1301}}, {'Conspiracy Theory': {'precision': 0.4444444444444444, 'recall': 0.35555555555555557, 'f1-score': 0.3950617283950617, 'support': 45}, 'Education': {'precision': 0.5238095238095238, 'recall': 0.8461538461538461, 'f1-score': 0.6470588235294118, 'support': 13}, 'Election Campaign': {'precision': 0.8620689655172413, 'recall': 0.7575757575757576, 'f1-score': 0.8064516129032258, 'support': 33}, 'Environment': {'precision': 0.8571428571428571, 'recall': 0.42857142857142855, 'f1-score': 0.5714285714285714, 'support': 14}, 'Government/Public': {'precision': 0.7360248447204969, 'recall': 0.8144329896907216, 'f1-score': 0.7732463295269167, 'support': 291}, 'Health': {'precision': 0.7027027027027027, 'recall': 0.5652173913043478, 'f1-score': 0.6265060240963856, 'support': 46}, 'Immigration/Integration': {'precision': 0.896551724137931, 'recall': 0.7222222222222222, 'f1-score': 0.7999999999999999, 'support': 36}, 'Justice/Crime': {'precision': 0.8761061946902655, 'recall': 0.7226277372262774, 'f1-score': 0.792, 'support': 137}, 'Labor/Employment': {'precision': 0.6086956521739131, 'recall': 0.5, 'f1-score': 0.5490196078431373, 'support': 28}, 'Macroeconomics/Economic Regulation': {'precision': 0.813953488372093, 'recall': 0.5645161290322581, 'f1-score': 0.6666666666666667, 'support': 62}, 'Media/Journalism': {'precision': 0.7948717948717948, 'recall': 0.6458333333333334, 'f1-score': 0.7126436781609194, 'support': 48}, 'Others': {'precision': 0.8693877551020408, 'recall': 0.7859778597785978, 'f1-score': 0.8255813953488372, 'support': 271}, 'Religion': {'precision': 0.6153846153846154, 'recall': 0.7272727272727273, 'f1-score': 0.6666666666666667, 'support': 11}, 'Science/Technology': {'precision': 0.8333333333333334, 'recall': 0.45454545454545453, 'f1-score': 0.5882352941176471, 'support': 11}, 'War/Terror': {'precision': 0.9508928571428571, 'recall': 0.8352941176470589, 'f1-score': 0.8893528183716075, 'support': 255}, 'micro avg': {'precision': 0.8129738837405224, 'recall': 0.7417371252882398, 'f1-score': 0.7757234726688103, 'support': 1301}, 'macro avg': {'precision': 0.759024716903074, 'recall': 0.6483864366606391, 'f1-score': 0.6873279478036702, 'support': 1301}, 'weighted avg': {'precision': 0.8191759130552483, 'recall': 0.7417371252882398, 'f1-score': 0.7741542136877946, 'support': 1301}, 'samples avg': {'precision': 0.80825, 'recall': 0.7787666666666666, 'f1-score': 0.7790499999999999, 'support': 1301}}, {'Conspiracy Theory': {'precision': 0.46153846153846156, 'recall': 0.4, 'f1-score': 0.42857142857142855, 'support': 45}, 'Education': {'precision': 0.5, 'recall': 0.7692307692307693, 'f1-score': 0.6060606060606061, 'support': 13}, 'Election Campaign': {'precision': 0.8214285714285714, 'recall': 0.696969696969697, 'f1-score': 0.7540983606557378, 'support': 33}, 'Environment': {'precision': 0.8571428571428571, 'recall': 0.42857142857142855, 'f1-score': 0.5714285714285714, 'support': 14}, 'Government/Public': {'precision': 0.7387096774193549, 'recall': 0.7869415807560137, 'f1-score': 0.7620632279534111, 'support': 291}, 'Health': {'precision': 0.84375, 'recall': 0.5869565217391305, 'f1-score': 0.6923076923076924, 'support': 46}, 'Immigration/Integration': {'precision': 0.75, 'recall': 0.5, 'f1-score': 0.6, 'support': 36}, 'Justice/Crime': {'precision': 0.8849557522123894, 'recall': 0.7299270072992701, 'f1-score': 0.8, 'support': 137}, 'Labor/Employment': {'precision': 0.7777777777777778, 'recall': 0.5, 'f1-score': 0.6086956521739131, 'support': 28}, 'Macroeconomics/Economic Regulation': {'precision': 0.7321428571428571, 'recall': 0.6612903225806451, 'f1-score': 0.6949152542372881, 'support': 62}, 'Media/Journalism': {'precision': 0.9565217391304348, 'recall': 0.4583333333333333, 'f1-score': 0.619718309859155, 'support': 48}, 'Others': {'precision': 0.8559670781893004, 'recall': 0.7675276752767528, 'f1-score': 0.8093385214007782, 'support': 271}, 'Religion': {'precision': 0.5, 'recall': 0.8181818181818182, 'f1-score': 0.6206896551724137, 'support': 11}, 'Science/Technology': {'precision': 0.7142857142857143, 'recall': 0.45454545454545453, 'f1-score': 0.5555555555555556, 'support': 11}, 'War/Terror': {'precision': 0.9256198347107438, 'recall': 0.8784313725490196, 'f1-score': 0.9014084507042254, 'support': 255}, 'micro avg': {'precision': 0.8084745762711865, 'recall': 0.7332820906994619, 'f1-score': 0.7690447400241838, 'support': 1301}, 'macro avg': {'precision': 0.7546560213985641, 'recall': 0.6291271320688889, 'f1-score': 0.6683234190720516, 'support': 1301}, 'weighted avg': {'precision': 0.816935653424352, 'recall': 0.7332820906994619, 'f1-score': 0.7662256692473134, 'support': 1301}, 'samples avg': {'precision': 0.7998333333333333, 'recall': 0.7742666666666667, 'f1-score': 0.77145, 'support': 1301}}, {'Conspiracy Theory': {'precision': 0.4666666666666667, 'recall': 0.4666666666666667, 'f1-score': 0.4666666666666667, 'support': 45}, 'Education': {'precision': 0.2608695652173913, 'recall': 0.46153846153846156, 'f1-score': 0.33333333333333337, 'support': 13}, 'Election Campaign': {'precision': 0.7741935483870968, 'recall': 0.7272727272727273, 'f1-score': 0.7500000000000001, 'support': 33}, 'Environment': {'precision': 0.6666666666666666, 'recall': 0.42857142857142855, 'f1-score': 0.5217391304347826, 'support': 14}, 'Government/Public': {'precision': 0.7560137457044673, 'recall': 0.7560137457044673, 'f1-score': 0.7560137457044673, 'support': 291}, 'Health': {'precision': 0.7777777777777778, 'recall': 0.45652173913043476, 'f1-score': 0.5753424657534246, 'support': 46}, 'Immigration/Integration': {'precision': 0.71875, 'recall': 0.6388888888888888, 'f1-score': 0.676470588235294, 'support': 36}, 'Justice/Crime': {'precision': 0.8226950354609929, 'recall': 0.8467153284671532, 'f1-score': 0.8345323741007195, 'support': 137}, 'Labor/Employment': {'precision': 0.65, 'recall': 0.4642857142857143, 'f1-score': 0.5416666666666667, 'support': 28}, 'Macroeconomics/Economic Regulation': {'precision': 0.7884615384615384, 'recall': 0.6612903225806451, 'f1-score': 0.719298245614035, 'support': 62}, 'Media/Journalism': {'precision': 0.9411764705882353, 'recall': 0.3333333333333333, 'f1-score': 0.49230769230769234, 'support': 48}, 'Others': {'precision': 0.8393574297188755, 'recall': 0.7712177121771218, 'f1-score': 0.8038461538461539, 'support': 271}, 'Religion': {'precision': 0.3333333333333333, 'recall': 0.8181818181818182, 'f1-score': 0.4736842105263157, 'support': 11}, 'Science/Technology': {'precision': 0.5, 'recall': 0.36363636363636365, 'f1-score': 0.4210526315789474, 'support': 11}, 'War/Terror': {'precision': 0.946058091286307, 'recall': 0.8941176470588236, 'f1-score': 0.9193548387096774, 'support': 255}, 'micro avg': {'precision': 0.7889530090684254, 'recall': 0.7355880092236741, 'f1-score': 0.7613365155131264, 'support': 1301}, 'macro avg': {'precision': 0.6828013246179567, 'recall': 0.6058834598329366, 'f1-score': 0.6190205828985451, 'support': 1301}, 'weighted avg': {'precision': 0.8022855125174544, 'recall': 0.7355880092236741, 'f1-score': 0.7594551383276605, 'support': 1301}, 'samples avg': {'precision': 0.7935, 'recall': 0.7711833333333333, 'f1-score': 0.7677166666666667, 'support': 1301}}, {'Conspiracy Theory': {'precision': 0.4791666666666667, 'recall': 0.5111111111111111, 'f1-score': 0.4946236559139785, 'support': 45}, 'Education': {'precision': 0.5833333333333334, 'recall': 0.5384615384615384, 'f1-score': 0.5599999999999999, 'support': 13}, 'Election Campaign': {'precision': 0.7692307692307693, 'recall': 0.6060606060606061, 'f1-score': 0.6779661016949152, 'support': 33}, 'Environment': {'precision': 1.0, 'recall': 0.2857142857142857, 'f1-score': 0.4444444444444445, 'support': 14}, 'Government/Public': {'precision': 0.7491961414790996, 'recall': 0.8006872852233677, 'f1-score': 0.7740863787375415, 'support': 291}, 'Health': {'precision': 0.7428571428571429, 'recall': 0.5652173913043478, 'f1-score': 0.6419753086419753, 'support': 46}, 'Immigration/Integration': {'precision': 0.8571428571428571, 'recall': 0.6666666666666666, 'f1-score': 0.75, 'support': 36}, 'Justice/Crime': {'precision': 0.9326923076923077, 'recall': 0.708029197080292, 'f1-score': 0.8049792531120331, 'support': 137}, 'Labor/Employment': {'precision': 0.7272727272727273, 'recall': 0.5714285714285714, 'f1-score': 0.64, 'support': 28}, 'Macroeconomics/Economic Regulation': {'precision': 0.7647058823529411, 'recall': 0.6290322580645161, 'f1-score': 0.6902654867256637, 'support': 62}, 'Media/Journalism': {'precision': 0.8787878787878788, 'recall': 0.6041666666666666, 'f1-score': 0.7160493827160493, 'support': 48}, 'Others': {'precision': 0.9012875536480687, 'recall': 0.7749077490774908, 'f1-score': 0.8333333333333333, 'support': 271}, 'Religion': {'precision': 0.3684210526315789, 'recall': 0.6363636363636364, 'f1-score': 0.4666666666666667, 'support': 11}, 'Science/Technology': {'precision': 0.7142857142857143, 'recall': 0.45454545454545453, 'f1-score': 0.5555555555555556, 'support': 11}, 'War/Terror': {'precision': 0.9240506329113924, 'recall': 0.8588235294117647, 'f1-score': 0.8902439024390243, 'support': 255}, 'micro avg': {'precision': 0.8196581196581196, 'recall': 0.7371252882398155, 'f1-score': 0.7762039660056657, 'support': 1301}, 'macro avg': {'precision': 0.7594953773528318, 'recall': 0.6140810631453545, 'f1-score': 0.6626792979987454, 'support': 1301}, 'weighted avg': {'precision': 0.8309783056028004, 'recall': 0.7371252882398155, 'f1-score': 0.7758509835725426, 'support': 1301}, 'samples avg': {'precision': 0.8091666666666666, 'recall': 0.7800666666666666, 'f1-score': 0.7798428571428572, 'support': 1301}}]\n",
      "5\n",
      "\n",
      "Average Validation Classification Report In DataFrame Format:\n",
      "                                    precision    recall  f1-score  support\n",
      "Conspiracy Theory                    0.584011  0.458654  0.513052     50.8\n",
      "Education                            0.674711  0.610574  0.630905     12.6\n",
      "Election Campaign                    0.827627  0.623282  0.709288     26.6\n",
      "Environment                          0.697179  0.425000  0.512685     11.6\n",
      "Government/Public                    0.762756  0.794270  0.777146    249.6\n",
      "Health                               0.879062  0.746053  0.802315     42.8\n",
      "Immigration/Integration              0.835213  0.656511  0.733038     40.2\n",
      "Justice/Crime                        0.855125  0.678952  0.752439    114.4\n",
      "Labor/Employment                     0.644567  0.447339  0.486934     19.4\n",
      "Macroeconomics/Economic Regulation   0.740708  0.618761  0.673927     50.0\n",
      "Media/Journalism                     0.794110  0.413402  0.534275     36.8\n",
      "Others                               0.873119  0.746030  0.803994    211.4\n",
      "Religion                             0.452759  0.631010  0.510769     14.2\n",
      "Science/Technology                   0.523810  0.263680  0.341975     10.8\n",
      "War/Terror                           0.916847  0.888890  0.902442    187.8\n",
      "micro avg                            0.809452  0.721732  0.763011   1079.0\n",
      "macro avg                            0.737440  0.600161  0.645679   1079.0\n",
      "weighted avg                         0.813403  0.721732  0.757316   1079.0\n",
      "samples avg                          0.794708  0.755783  0.758159   1079.0\n",
      "\n",
      "Average Test Classification Report In DataFrame Format:\n",
      "                                    precision    recall  f1-score  support\n",
      "Conspiracy Theory                    0.450363  0.400000  0.420985     45.0\n",
      "Education                            0.487888  0.646154  0.547809     13.0\n",
      "Election Campaign                    0.813384  0.684848  0.742531     33.0\n",
      "Environment                          0.831746  0.414286  0.543547     14.0\n",
      "Government/Public                    0.749149  0.773196  0.760225    291.0\n",
      "Health                               0.766049  0.560870  0.645322     46.0\n",
      "Immigration/Integration              0.792315  0.600000  0.680548     36.0\n",
      "Justice/Crime                        0.869690  0.753285  0.805081    137.0\n",
      "Labor/Employment                     0.668134  0.514286  0.578987     28.0\n",
      "Macroeconomics/Economic Regulation   0.771853  0.625806  0.689943     62.0\n",
      "Media/Journalism                     0.850635  0.470833  0.593858     48.0\n",
      "Others                               0.861200  0.774908  0.815648    271.0\n",
      "Religion                             0.412208  0.781818  0.522465     11.0\n",
      "Science/Technology                   0.752381  0.418182  0.530746     11.0\n",
      "War/Terror                           0.939882  0.867451  0.902039    255.0\n",
      "micro avg                            0.804424  0.730669  0.765730   1301.0\n",
      "macro avg                            0.734459  0.619061  0.651982   1301.0\n",
      "weighted avg                         0.814193  0.730669  0.764046   1301.0\n",
      "samples avg                          0.799783  0.770740  0.770232   1301.0\n"
     ]
    }
   ],
   "source": [
    "generic_val_average_report_df, generic_test_average_report_df = calculate_metrics(\"oa_with_3_random_examples_classification_only_co_occurrence_generic\")"
   ]
  },
  {
   "cell_type": "code",
   "execution_count": 5,
   "metadata": {},
   "outputs": [
    {
     "name": "stdout",
     "output_type": "stream",
     "text": [
      "../models/weak_labeled/oa_classification_only_v03_co_occurrence_generic_epochs_200_train_size_full_fold_0/\n",
      "0                                  ['Science/Technology']\n",
      "1                                              ['Others']\n",
      "2       ['Health', 'Justice/Crime', 'Macroeconomics/Ec...\n",
      "3                                              ['Others']\n",
      "4                                   ['Government/Public']\n",
      "                              ...                        \n",
      "3822                                 ['Labor/Employment']\n",
      "3823                                         ['Religion']\n",
      "3824                                        ['Education']\n",
      "3825                               ['Science/Technology']\n",
      "3826                               ['Science/Technology']\n",
      "Name: annotations, Length: 3827, dtype: object\n",
      "['Conspiracy Theory', 'Education', 'Election Campaign', 'Environment', 'Government/Public', 'Health', 'Immigration/Integration', 'Justice/Crime', 'Labor/Employment', 'Macroeconomics/Economic Regulation', 'Media/Journalism', 'Others', 'Religion', 'Science/Technology', 'War/Terror']\n"
     ]
    },
    {
     "name": "stderr",
     "output_type": "stream",
     "text": [
      "/tmp/ipykernel_21815/3473448682.py:37: UserWarning: To copy construct from a tensor, it is recommended to use sourceTensor.clone().detach() or sourceTensor.clone().detach().requires_grad_(True), rather than torch.tensor(sourceTensor).\n",
      "  'label': torch.tensor(label, dtype=torch.float32)}\n",
      "You're using a RobertaTokenizerFast tokenizer. Please note that with a fast tokenizer, using the `__call__` method is faster than using a method to encode the text followed by a call to the `pad` method to get a padded encoding.\n",
      "/tmp/ipykernel_21815/3473448682.py:37: UserWarning: To copy construct from a tensor, it is recommended to use sourceTensor.clone().detach() or sourceTensor.clone().detach().requires_grad_(True), rather than torch.tensor(sourceTensor).\n",
      "  'label': torch.tensor(label, dtype=torch.float32)}\n"
     ]
    },
    {
     "name": "stdout",
     "output_type": "stream",
     "text": [
      "../models/weak_labeled/oa_classification_only_v03_co_occurrence_generic_epochs_200_train_size_full_fold_1/\n",
      "0                                  ['Science/Technology']\n",
      "1                                              ['Others']\n",
      "2       ['Health', 'Justice/Crime', 'Macroeconomics/Ec...\n",
      "3                                              ['Others']\n",
      "4                                          ['War/Terror']\n",
      "                              ...                        \n",
      "3822                                 ['Labor/Employment']\n",
      "3823                                         ['Religion']\n",
      "3824                                        ['Education']\n",
      "3825                               ['Science/Technology']\n",
      "3826                               ['Science/Technology']\n",
      "Name: annotations, Length: 3827, dtype: object\n",
      "['Conspiracy Theory', 'Education', 'Election Campaign', 'Environment', 'Government/Public', 'Health', 'Immigration/Integration', 'Justice/Crime', 'Labor/Employment', 'Macroeconomics/Economic Regulation', 'Media/Journalism', 'Others', 'Religion', 'Science/Technology', 'War/Terror']\n"
     ]
    },
    {
     "name": "stderr",
     "output_type": "stream",
     "text": [
      "/tmp/ipykernel_21815/3473448682.py:37: UserWarning: To copy construct from a tensor, it is recommended to use sourceTensor.clone().detach() or sourceTensor.clone().detach().requires_grad_(True), rather than torch.tensor(sourceTensor).\n",
      "  'label': torch.tensor(label, dtype=torch.float32)}\n",
      "You're using a RobertaTokenizerFast tokenizer. Please note that with a fast tokenizer, using the `__call__` method is faster than using a method to encode the text followed by a call to the `pad` method to get a padded encoding.\n",
      "/tmp/ipykernel_21815/3473448682.py:37: UserWarning: To copy construct from a tensor, it is recommended to use sourceTensor.clone().detach() or sourceTensor.clone().detach().requires_grad_(True), rather than torch.tensor(sourceTensor).\n",
      "  'label': torch.tensor(label, dtype=torch.float32)}\n"
     ]
    },
    {
     "name": "stdout",
     "output_type": "stream",
     "text": [
      "../models/weak_labeled/oa_classification_only_v03_co_occurrence_generic_epochs_200_train_size_full_fold_2/\n",
      "0       ['Science/Technology']\n",
      "1                   ['Others']\n",
      "2                   ['Others']\n",
      "3        ['Government/Public']\n",
      "4               ['War/Terror']\n",
      "                 ...          \n",
      "3822      ['Labor/Employment']\n",
      "3823              ['Religion']\n",
      "3824             ['Education']\n",
      "3825    ['Science/Technology']\n",
      "3826    ['Science/Technology']\n",
      "Name: annotations, Length: 3827, dtype: object\n",
      "['Conspiracy Theory', 'Education', 'Election Campaign', 'Environment', 'Government/Public', 'Health', 'Immigration/Integration', 'Justice/Crime', 'Labor/Employment', 'Macroeconomics/Economic Regulation', 'Media/Journalism', 'Others', 'Religion', 'Science/Technology', 'War/Terror']\n"
     ]
    },
    {
     "name": "stderr",
     "output_type": "stream",
     "text": [
      "/tmp/ipykernel_21815/3473448682.py:37: UserWarning: To copy construct from a tensor, it is recommended to use sourceTensor.clone().detach() or sourceTensor.clone().detach().requires_grad_(True), rather than torch.tensor(sourceTensor).\n",
      "  'label': torch.tensor(label, dtype=torch.float32)}\n",
      "You're using a RobertaTokenizerFast tokenizer. Please note that with a fast tokenizer, using the `__call__` method is faster than using a method to encode the text followed by a call to the `pad` method to get a padded encoding.\n",
      "/tmp/ipykernel_21815/3473448682.py:37: UserWarning: To copy construct from a tensor, it is recommended to use sourceTensor.clone().detach() or sourceTensor.clone().detach().requires_grad_(True), rather than torch.tensor(sourceTensor).\n",
      "  'label': torch.tensor(label, dtype=torch.float32)}\n"
     ]
    },
    {
     "name": "stdout",
     "output_type": "stream",
     "text": [
      "../models/weak_labeled/oa_classification_only_v03_co_occurrence_generic_epochs_200_train_size_full_fold_3/\n",
      "0                                  ['Science/Technology']\n",
      "1       ['Health', 'Justice/Crime', 'Macroeconomics/Ec...\n",
      "2                                              ['Others']\n",
      "3                                   ['Government/Public']\n",
      "4                                          ['War/Terror']\n",
      "                              ...                        \n",
      "3822                                 ['Labor/Employment']\n",
      "3823                                         ['Religion']\n",
      "3824                                        ['Education']\n",
      "3825                               ['Science/Technology']\n",
      "3826                               ['Science/Technology']\n",
      "Name: annotations, Length: 3827, dtype: object\n",
      "['Conspiracy Theory', 'Education', 'Election Campaign', 'Environment', 'Government/Public', 'Health', 'Immigration/Integration', 'Justice/Crime', 'Labor/Employment', 'Macroeconomics/Economic Regulation', 'Media/Journalism', 'Others', 'Religion', 'Science/Technology', 'War/Terror']\n"
     ]
    },
    {
     "name": "stderr",
     "output_type": "stream",
     "text": [
      "/tmp/ipykernel_21815/3473448682.py:37: UserWarning: To copy construct from a tensor, it is recommended to use sourceTensor.clone().detach() or sourceTensor.clone().detach().requires_grad_(True), rather than torch.tensor(sourceTensor).\n",
      "  'label': torch.tensor(label, dtype=torch.float32)}\n",
      "You're using a RobertaTokenizerFast tokenizer. Please note that with a fast tokenizer, using the `__call__` method is faster than using a method to encode the text followed by a call to the `pad` method to get a padded encoding.\n",
      "/tmp/ipykernel_21815/3473448682.py:37: UserWarning: To copy construct from a tensor, it is recommended to use sourceTensor.clone().detach() or sourceTensor.clone().detach().requires_grad_(True), rather than torch.tensor(sourceTensor).\n",
      "  'label': torch.tensor(label, dtype=torch.float32)}\n"
     ]
    },
    {
     "name": "stdout",
     "output_type": "stream",
     "text": [
      "../models/weak_labeled/oa_classification_only_v03_co_occurrence_generic_epochs_200_train_size_full_fold_4/\n",
      "0                                              ['Others']\n",
      "1       ['Health', 'Justice/Crime', 'Macroeconomics/Ec...\n",
      "2                                   ['Government/Public']\n",
      "3                                          ['War/Terror']\n",
      "4                                          ['War/Terror']\n",
      "                              ...                        \n",
      "3822                                 ['Labor/Employment']\n",
      "3823                                         ['Religion']\n",
      "3824                                        ['Education']\n",
      "3825                               ['Science/Technology']\n",
      "3826                               ['Science/Technology']\n",
      "Name: annotations, Length: 3827, dtype: object\n",
      "['Conspiracy Theory', 'Education', 'Election Campaign', 'Environment', 'Government/Public', 'Health', 'Immigration/Integration', 'Justice/Crime', 'Labor/Employment', 'Macroeconomics/Economic Regulation', 'Media/Journalism', 'Others', 'Religion', 'Science/Technology', 'War/Terror']\n"
     ]
    },
    {
     "name": "stderr",
     "output_type": "stream",
     "text": [
      "/tmp/ipykernel_21815/3473448682.py:37: UserWarning: To copy construct from a tensor, it is recommended to use sourceTensor.clone().detach() or sourceTensor.clone().detach().requires_grad_(True), rather than torch.tensor(sourceTensor).\n",
      "  'label': torch.tensor(label, dtype=torch.float32)}\n",
      "You're using a RobertaTokenizerFast tokenizer. Please note that with a fast tokenizer, using the `__call__` method is faster than using a method to encode the text followed by a call to the `pad` method to get a padded encoding.\n",
      "/tmp/ipykernel_21815/3473448682.py:37: UserWarning: To copy construct from a tensor, it is recommended to use sourceTensor.clone().detach() or sourceTensor.clone().detach().requires_grad_(True), rather than torch.tensor(sourceTensor).\n",
      "  'label': torch.tensor(label, dtype=torch.float32)}\n"
     ]
    },
    {
     "name": "stdout",
     "output_type": "stream",
     "text": [
      "[{'Conspiracy Theory': {'precision': 0.7777777777777778, 'recall': 0.2978723404255319, 'f1-score': 0.43076923076923074, 'support': 47}, 'Education': {'precision': 0.7777777777777778, 'recall': 0.5833333333333334, 'f1-score': 0.6666666666666666, 'support': 12}, 'Election Campaign': {'precision': 0.8823529411764706, 'recall': 0.5769230769230769, 'f1-score': 0.6976744186046512, 'support': 26}, 'Environment': {'precision': 0.8571428571428571, 'recall': 0.42857142857142855, 'f1-score': 0.5714285714285714, 'support': 14}, 'Government/Public': {'precision': 0.8073770491803278, 'recall': 0.7817460317460317, 'f1-score': 0.7943548387096774, 'support': 252}, 'Health': {'precision': 0.9459459459459459, 'recall': 0.7777777777777778, 'f1-score': 0.8536585365853658, 'support': 45}, 'Immigration/Integration': {'precision': 0.88, 'recall': 0.55, 'f1-score': 0.676923076923077, 'support': 40}, 'Justice/Crime': {'precision': 0.8414634146341463, 'recall': 0.6448598130841121, 'f1-score': 0.73015873015873, 'support': 107}, 'Labor/Employment': {'precision': 0.7142857142857143, 'recall': 0.5263157894736842, 'f1-score': 0.6060606060606061, 'support': 19}, 'Macroeconomics/Economic Regulation': {'precision': 0.8048780487804879, 'recall': 0.5689655172413793, 'f1-score': 0.6666666666666667, 'support': 58}, 'Media/Journalism': {'precision': 0.9166666666666666, 'recall': 0.2894736842105263, 'f1-score': 0.43999999999999995, 'support': 38}, 'Others': {'precision': 0.8770949720670391, 'recall': 0.7658536585365854, 'f1-score': 0.8177083333333334, 'support': 205}, 'Religion': {'precision': 0.7142857142857143, 'recall': 0.6818181818181818, 'f1-score': 0.6976744186046512, 'support': 22}, 'Science/Technology': {'precision': 0.6666666666666666, 'recall': 0.4, 'f1-score': 0.5, 'support': 10}, 'War/Terror': {'precision': 0.9020618556701031, 'recall': 0.9459459459459459, 'f1-score': 0.9234828496042217, 'support': 185}, 'micro avg': {'precision': 0.8498896247240618, 'recall': 0.7129629629629629, 'f1-score': 0.7754279959718026, 'support': 1080}, 'macro avg': {'precision': 0.8243851601371797, 'recall': 0.5879637719391729, 'f1-score': 0.6715484629410299, 'support': 1080}, 'weighted avg': {'precision': 0.8483775818278108, 'recall': 0.7129629629629629, 'f1-score': 0.7628767040149972, 'support': 1080}, 'samples avg': {'precision': 0.8172916666666667, 'recall': 0.7516666666666666, 'f1-score': 0.7670773809523809, 'support': 1080}}, {'Conspiracy Theory': {'precision': 0.4927536231884058, 'recall': 0.5666666666666667, 'f1-score': 0.5271317829457365, 'support': 60}, 'Education': {'precision': 0.7, 'recall': 0.4375, 'f1-score': 0.5384615384615384, 'support': 16}, 'Election Campaign': {'precision': 0.8709677419354839, 'recall': 0.7714285714285715, 'f1-score': 0.8181818181818182, 'support': 35}, 'Environment': {'precision': 0.5714285714285714, 'recall': 0.2857142857142857, 'f1-score': 0.38095238095238093, 'support': 14}, 'Government/Public': {'precision': 0.7627906976744186, 'recall': 0.6721311475409836, 'f1-score': 0.7145969498910676, 'support': 244}, 'Health': {'precision': 0.7948717948717948, 'recall': 0.7560975609756098, 'f1-score': 0.7749999999999999, 'support': 41}, 'Immigration/Integration': {'precision': 0.9, 'recall': 0.6, 'f1-score': 0.7200000000000001, 'support': 45}, 'Justice/Crime': {'precision': 0.8137254901960784, 'recall': 0.7545454545454545, 'f1-score': 0.7830188679245282, 'support': 110}, 'Labor/Employment': {'precision': 0.8, 'recall': 0.5, 'f1-score': 0.6153846153846154, 'support': 16}, 'Macroeconomics/Economic Regulation': {'precision': 0.7045454545454546, 'recall': 0.62, 'f1-score': 0.6595744680851063, 'support': 50}, 'Media/Journalism': {'precision': 0.631578947368421, 'recall': 0.375, 'f1-score': 0.47058823529411764, 'support': 32}, 'Others': {'precision': 0.8829787234042553, 'recall': 0.7186147186147186, 'f1-score': 0.7923627684964201, 'support': 231}, 'Religion': {'precision': 0.9090909090909091, 'recall': 0.7142857142857143, 'f1-score': 0.8, 'support': 14}, 'Science/Technology': {'precision': 0.6666666666666666, 'recall': 0.2857142857142857, 'f1-score': 0.4, 'support': 14}, 'War/Terror': {'precision': 0.9060773480662984, 'recall': 0.9213483146067416, 'f1-score': 0.913649025069638, 'support': 178}, 'micro avg': {'precision': 0.8024948024948025, 'recall': 0.7018181818181818, 'f1-score': 0.7487875848690592, 'support': 1100}, 'macro avg': {'precision': 0.7604983978957838, 'recall': 0.5986031146728688, 'f1-score': 0.6605934967124644, 'support': 1100}, 'weighted avg': {'precision': 0.8031980220625172, 'recall': 0.7018181818181818, 'f1-score': 0.7447552241562128, 'support': 1100}, 'samples avg': {'precision': 0.7795625000000002, 'recall': 0.7409375, 'f1-score': 0.7417857142857142, 'support': 1100}}, {'Conspiracy Theory': {'precision': 0.4722222222222222, 'recall': 0.38636363636363635, 'f1-score': 0.425, 'support': 44}, 'Education': {'precision': 0.6153846153846154, 'recall': 0.7272727272727273, 'f1-score': 0.6666666666666667, 'support': 11}, 'Election Campaign': {'precision': 1.0, 'recall': 0.56, 'f1-score': 0.717948717948718, 'support': 25}, 'Environment': {'precision': 0.8, 'recall': 0.7272727272727273, 'f1-score': 0.761904761904762, 'support': 11}, 'Government/Public': {'precision': 0.8061674008810573, 'recall': 0.7379032258064516, 'f1-score': 0.7705263157894737, 'support': 248}, 'Health': {'precision': 0.896551724137931, 'recall': 0.65, 'f1-score': 0.7536231884057972, 'support': 40}, 'Immigration/Integration': {'precision': 0.6896551724137931, 'recall': 0.6896551724137931, 'f1-score': 0.6896551724137931, 'support': 29}, 'Justice/Crime': {'precision': 0.8888888888888888, 'recall': 0.6956521739130435, 'f1-score': 0.7804878048780488, 'support': 115}, 'Labor/Employment': {'precision': 0.8888888888888888, 'recall': 0.4, 'f1-score': 0.5517241379310346, 'support': 20}, 'Macroeconomics/Economic Regulation': {'precision': 0.7727272727272727, 'recall': 0.3541666666666667, 'f1-score': 0.4857142857142857, 'support': 48}, 'Media/Journalism': {'precision': 1.0, 'recall': 0.06666666666666667, 'f1-score': 0.125, 'support': 45}, 'Others': {'precision': 0.867816091954023, 'recall': 0.7156398104265402, 'f1-score': 0.7844155844155845, 'support': 211}, 'Religion': {'precision': 0.5384615384615384, 'recall': 0.7, 'f1-score': 0.608695652173913, 'support': 10}, 'Science/Technology': {'precision': 0.5714285714285714, 'recall': 0.36363636363636365, 'f1-score': 0.4444444444444444, 'support': 11}, 'War/Terror': {'precision': 0.9270833333333334, 'recall': 0.89, 'f1-score': 0.9081632653061226, 'support': 200}, 'micro avg': {'precision': 0.8341013824884793, 'recall': 0.6779026217228464, 'f1-score': 0.7479338842975207, 'support': 1068}, 'macro avg': {'precision': 0.7823517147148089, 'recall': 0.5776152780292411, 'f1-score': 0.6315979998661763, 'support': 1068}, 'weighted avg': {'precision': 0.8421588892895433, 'recall': 0.6779026217228464, 'f1-score': 0.7316933617345016, 'support': 1068}, 'samples avg': {'precision': 0.7789583333333333, 'recall': 0.7208333333333333, 'f1-score': 0.7328928571428571, 'support': 1068}}, {'Conspiracy Theory': {'precision': 0.6538461538461539, 'recall': 0.3541666666666667, 'f1-score': 0.4594594594594595, 'support': 48}, 'Education': {'precision': 0.5714285714285714, 'recall': 0.4, 'f1-score': 0.47058823529411764, 'support': 10}, 'Election Campaign': {'precision': 0.8421052631578947, 'recall': 0.6666666666666666, 'f1-score': 0.744186046511628, 'support': 24}, 'Environment': {'precision': 0.75, 'recall': 0.375, 'f1-score': 0.5, 'support': 8}, 'Government/Public': {'precision': 0.84375, 'recall': 0.54, 'f1-score': 0.6585365853658537, 'support': 250}, 'Health': {'precision': 0.8974358974358975, 'recall': 0.7142857142857143, 'f1-score': 0.7954545454545455, 'support': 49}, 'Immigration/Integration': {'precision': 0.7428571428571429, 'recall': 0.5777777777777777, 'f1-score': 0.65, 'support': 45}, 'Justice/Crime': {'precision': 0.8712871287128713, 'recall': 0.7586206896551724, 'f1-score': 0.8110599078341013, 'support': 116}, 'Labor/Employment': {'precision': 0.8125, 'recall': 0.5416666666666666, 'f1-score': 0.65, 'support': 24}, 'Macroeconomics/Economic Regulation': {'precision': 0.9090909090909091, 'recall': 0.7142857142857143, 'f1-score': 0.8, 'support': 56}, 'Media/Journalism': {'precision': 0.75, 'recall': 0.15384615384615385, 'f1-score': 0.25531914893617025, 'support': 39}, 'Others': {'precision': 0.8881987577639752, 'recall': 0.7606382978723404, 'f1-score': 0.8194842406876791, 'support': 188}, 'Religion': {'precision': 0.9285714285714286, 'recall': 0.8125, 'f1-score': 0.8666666666666666, 'support': 16}, 'Science/Technology': {'precision': 0.2857142857142857, 'recall': 0.2857142857142857, 'f1-score': 0.2857142857142857, 'support': 7}, 'War/Terror': {'precision': 0.9424083769633508, 'recall': 0.9090909090909091, 'f1-score': 0.9254498714652956, 'support': 198}, 'micro avg': {'precision': 0.8665865384615384, 'recall': 0.6688311688311688, 'f1-score': 0.7549738219895288, 'support': 1078}, 'macro avg': {'precision': 0.7792795943694988, 'recall': 0.5709506361685379, 'f1-score': 0.6461279328926535, 'support': 1078}, 'weighted avg': {'precision': 0.8560423224609636, 'recall': 0.6688311688311688, 'f1-score': 0.7412717951533913, 'support': 1078}, 'samples avg': {'precision': 0.8023958333333333, 'recall': 0.7248749999999999, 'f1-score': 0.7446190476190475, 'support': 1078}}, {'Conspiracy Theory': {'precision': 0.44871794871794873, 'recall': 0.6363636363636364, 'f1-score': 0.5263157894736842, 'support': 55}, 'Education': {'precision': 0.8, 'recall': 0.5714285714285714, 'f1-score': 0.6666666666666666, 'support': 14}, 'Election Campaign': {'precision': 0.782608695652174, 'recall': 0.782608695652174, 'f1-score': 0.782608695652174, 'support': 23}, 'Environment': {'precision': 1.0, 'recall': 0.7272727272727273, 'f1-score': 0.8421052631578948, 'support': 11}, 'Government/Public': {'precision': 0.8292682926829268, 'recall': 0.6692913385826772, 'f1-score': 0.7407407407407407, 'support': 254}, 'Health': {'precision': 0.7777777777777778, 'recall': 0.8974358974358975, 'f1-score': 0.8333333333333333, 'support': 39}, 'Immigration/Integration': {'precision': 0.9545454545454546, 'recall': 0.5, 'f1-score': 0.65625, 'support': 42}, 'Justice/Crime': {'precision': 0.7606837606837606, 'recall': 0.717741935483871, 'f1-score': 0.7385892116182572, 'support': 124}, 'Labor/Employment': {'precision': 0.5, 'recall': 0.3888888888888889, 'f1-score': 0.43750000000000006, 'support': 18}, 'Macroeconomics/Economic Regulation': {'precision': 0.6976744186046512, 'recall': 0.7894736842105263, 'f1-score': 0.7407407407407408, 'support': 38}, 'Media/Journalism': {'precision': 0.7142857142857143, 'recall': 0.3333333333333333, 'f1-score': 0.4545454545454545, 'support': 30}, 'Others': {'precision': 0.8762886597938144, 'recall': 0.7657657657657657, 'f1-score': 0.8173076923076923, 'support': 222}, 'Religion': {'precision': 0.35294117647058826, 'recall': 0.6666666666666666, 'f1-score': 0.46153846153846156, 'support': 9}, 'Science/Technology': {'precision': 0.26666666666666666, 'recall': 0.3333333333333333, 'f1-score': 0.2962962962962963, 'support': 12}, 'War/Terror': {'precision': 0.8961748633879781, 'recall': 0.9213483146067416, 'f1-score': 0.9085872576177285, 'support': 178}, 'micro avg': {'precision': 0.7844129554655871, 'recall': 0.724976613657624, 'f1-score': 0.7535245503159943, 'support': 1069}, 'macro avg': {'precision': 0.7105088952846306, 'recall': 0.6467301859349874, 'f1-score': 0.660208373579275, 'support': 1069}, 'weighted avg': {'precision': 0.8022773997671185, 'recall': 0.724976613657624, 'f1-score': 0.7538627905333131, 'support': 1069}, 'samples avg': {'precision': 0.7857291666666666, 'recall': 0.7539583333333333, 'f1-score': 0.7549821428571428, 'support': 1069}}]\n",
      "5\n",
      "[{'Conspiracy Theory': {'precision': 0.45, 'recall': 0.2, 'f1-score': 0.27692307692307694, 'support': 45}, 'Education': {'precision': 0.38461538461538464, 'recall': 0.38461538461538464, 'f1-score': 0.38461538461538464, 'support': 13}, 'Election Campaign': {'precision': 0.8461538461538461, 'recall': 0.6666666666666666, 'f1-score': 0.7457627118644068, 'support': 33}, 'Environment': {'precision': 1.0, 'recall': 0.21428571428571427, 'f1-score': 0.35294117647058826, 'support': 14}, 'Government/Public': {'precision': 0.7560975609756098, 'recall': 0.7457044673539519, 'f1-score': 0.7508650519031141, 'support': 291}, 'Health': {'precision': 0.8846153846153846, 'recall': 0.5, 'f1-score': 0.6388888888888888, 'support': 46}, 'Immigration/Integration': {'precision': 0.8260869565217391, 'recall': 0.5277777777777778, 'f1-score': 0.6440677966101694, 'support': 36}, 'Justice/Crime': {'precision': 0.8571428571428571, 'recall': 0.7445255474452555, 'f1-score': 0.7968750000000001, 'support': 137}, 'Labor/Employment': {'precision': 0.8235294117647058, 'recall': 0.5, 'f1-score': 0.6222222222222222, 'support': 28}, 'Macroeconomics/Economic Regulation': {'precision': 0.8717948717948718, 'recall': 0.5483870967741935, 'f1-score': 0.6732673267326732, 'support': 62}, 'Media/Journalism': {'precision': 0.7857142857142857, 'recall': 0.22916666666666666, 'f1-score': 0.3548387096774194, 'support': 48}, 'Others': {'precision': 0.8583333333333333, 'recall': 0.7601476014760148, 'f1-score': 0.8062622309197651, 'support': 271}, 'Religion': {'precision': 0.5625, 'recall': 0.8181818181818182, 'f1-score': 0.6666666666666666, 'support': 11}, 'Science/Technology': {'precision': 1.0, 'recall': 0.5454545454545454, 'f1-score': 0.7058823529411764, 'support': 11}, 'War/Terror': {'precision': 0.89272030651341, 'recall': 0.9137254901960784, 'f1-score': 0.9031007751937984, 'support': 255}, 'micro avg': {'precision': 0.8225225225225226, 'recall': 0.7017678708685626, 'f1-score': 0.7573620904189133, 'support': 1301}, 'macro avg': {'precision': 0.7866202799430285, 'recall': 0.5532425851262712, 'f1-score': 0.6215452914419567, 'support': 1301}, 'weighted avg': {'precision': 0.8203853801013633, 'recall': 0.7017678708685626, 'f1-score': 0.7435393352097145, 'support': 1301}, 'samples avg': {'precision': 0.8096666666666666, 'recall': 0.7476499999999999, 'f1-score': 0.7621714285714286, 'support': 1301}}, {'Conspiracy Theory': {'precision': 0.39655172413793105, 'recall': 0.5111111111111111, 'f1-score': 0.44660194174757284, 'support': 45}, 'Education': {'precision': 0.5, 'recall': 0.38461538461538464, 'f1-score': 0.4347826086956522, 'support': 13}, 'Election Campaign': {'precision': 0.7878787878787878, 'recall': 0.7878787878787878, 'f1-score': 0.7878787878787878, 'support': 33}, 'Environment': {'precision': 0.7, 'recall': 0.5, 'f1-score': 0.5833333333333334, 'support': 14}, 'Government/Public': {'precision': 0.8008130081300813, 'recall': 0.6769759450171822, 'f1-score': 0.7337057728119181, 'support': 291}, 'Health': {'precision': 0.7941176470588235, 'recall': 0.5869565217391305, 'f1-score': 0.675, 'support': 46}, 'Immigration/Integration': {'precision': 0.8333333333333334, 'recall': 0.5555555555555556, 'f1-score': 0.6666666666666667, 'support': 36}, 'Justice/Crime': {'precision': 0.8345864661654135, 'recall': 0.8102189781021898, 'f1-score': 0.8222222222222222, 'support': 137}, 'Labor/Employment': {'precision': 0.6086956521739131, 'recall': 0.5, 'f1-score': 0.5490196078431373, 'support': 28}, 'Macroeconomics/Economic Regulation': {'precision': 0.8085106382978723, 'recall': 0.6129032258064516, 'f1-score': 0.6972477064220183, 'support': 62}, 'Media/Journalism': {'precision': 0.8636363636363636, 'recall': 0.3958333333333333, 'f1-score': 0.5428571428571428, 'support': 48}, 'Others': {'precision': 0.8553719008264463, 'recall': 0.7638376383763837, 'f1-score': 0.8070175438596491, 'support': 271}, 'Religion': {'precision': 0.6666666666666666, 'recall': 0.7272727272727273, 'f1-score': 0.6956521739130435, 'support': 11}, 'Science/Technology': {'precision': 0.6666666666666666, 'recall': 0.5454545454545454, 'f1-score': 0.6, 'support': 11}, 'War/Terror': {'precision': 0.9051383399209486, 'recall': 0.8980392156862745, 'f1-score': 0.9015748031496064, 'support': 255}, 'micro avg': {'precision': 0.8105536332179931, 'recall': 0.7202152190622598, 'f1-score': 0.7627187627187628, 'support': 1301}, 'macro avg': {'precision': 0.734797812992883, 'recall': 0.6171101979966038, 'f1-score': 0.66290402076005, 'support': 1301}, 'weighted avg': {'precision': 0.8147252746670154, 'recall': 0.7202152190622598, 'f1-score': 0.7599026172698982, 'support': 1301}, 'samples avg': {'precision': 0.8009166666666666, 'recall': 0.7576999999999999, 'f1-score': 0.7652285714285715, 'support': 1301}}, {'Conspiracy Theory': {'precision': 0.41379310344827586, 'recall': 0.26666666666666666, 'f1-score': 0.32432432432432434, 'support': 45}, 'Education': {'precision': 0.4375, 'recall': 0.5384615384615384, 'f1-score': 0.4827586206896552, 'support': 13}, 'Election Campaign': {'precision': 0.875, 'recall': 0.6363636363636364, 'f1-score': 0.7368421052631579, 'support': 33}, 'Environment': {'precision': 0.5714285714285714, 'recall': 0.5714285714285714, 'f1-score': 0.5714285714285714, 'support': 14}, 'Government/Public': {'precision': 0.7907949790794979, 'recall': 0.6494845360824743, 'f1-score': 0.7132075471698114, 'support': 291}, 'Health': {'precision': 0.7105263157894737, 'recall': 0.5869565217391305, 'f1-score': 0.6428571428571428, 'support': 46}, 'Immigration/Integration': {'precision': 0.7352941176470589, 'recall': 0.6944444444444444, 'f1-score': 0.7142857142857144, 'support': 36}, 'Justice/Crime': {'precision': 0.9035087719298246, 'recall': 0.7518248175182481, 'f1-score': 0.8207171314741035, 'support': 137}, 'Labor/Employment': {'precision': 0.7777777777777778, 'recall': 0.5, 'f1-score': 0.6086956521739131, 'support': 28}, 'Macroeconomics/Economic Regulation': {'precision': 0.8823529411764706, 'recall': 0.4838709677419355, 'f1-score': 0.625, 'support': 62}, 'Media/Journalism': {'precision': 1.0, 'recall': 0.020833333333333332, 'f1-score': 0.04081632653061225, 'support': 48}, 'Others': {'precision': 0.8658536585365854, 'recall': 0.7859778597785978, 'f1-score': 0.8239845261121856, 'support': 271}, 'Religion': {'precision': 0.5333333333333333, 'recall': 0.7272727272727273, 'f1-score': 0.6153846153846153, 'support': 11}, 'Science/Technology': {'precision': 0.625, 'recall': 0.45454545454545453, 'f1-score': 0.5263157894736842, 'support': 11}, 'War/Terror': {'precision': 0.9517543859649122, 'recall': 0.8509803921568627, 'f1-score': 0.898550724637681, 'support': 255}, 'micro avg': {'precision': 0.831758034026465, 'recall': 0.676402767102229, 'f1-score': 0.7460788469690546, 'support': 1301}, 'macro avg': {'precision': 0.7382611970741187, 'recall': 0.5679407645022413, 'f1-score': 0.6096779194536782, 'support': 1301}, 'weighted avg': {'precision': 0.8369016646926634, 'recall': 0.676402767102229, 'f1-score': 0.7311262193759547, 'support': 1301}, 'samples avg': {'precision': 0.7846666666666667, 'recall': 0.7244833333333334, 'f1-score': 0.7395047619047619, 'support': 1301}}, {'Conspiracy Theory': {'precision': 0.34285714285714286, 'recall': 0.26666666666666666, 'f1-score': 0.3, 'support': 45}, 'Education': {'precision': 0.5, 'recall': 0.5384615384615384, 'f1-score': 0.5185185185185186, 'support': 13}, 'Election Campaign': {'precision': 0.896551724137931, 'recall': 0.7878787878787878, 'f1-score': 0.8387096774193549, 'support': 33}, 'Environment': {'precision': 0.8571428571428571, 'recall': 0.42857142857142855, 'f1-score': 0.5714285714285714, 'support': 14}, 'Government/Public': {'precision': 0.8223350253807107, 'recall': 0.5567010309278351, 'f1-score': 0.6639344262295082, 'support': 291}, 'Health': {'precision': 0.8, 'recall': 0.5217391304347826, 'f1-score': 0.6315789473684211, 'support': 46}, 'Immigration/Integration': {'precision': 0.782608695652174, 'recall': 0.5, 'f1-score': 0.6101694915254238, 'support': 36}, 'Justice/Crime': {'precision': 0.8188976377952756, 'recall': 0.7591240875912408, 'f1-score': 0.7878787878787878, 'support': 137}, 'Labor/Employment': {'precision': 0.7272727272727273, 'recall': 0.5714285714285714, 'f1-score': 0.64, 'support': 28}, 'Macroeconomics/Economic Regulation': {'precision': 0.7547169811320755, 'recall': 0.6451612903225806, 'f1-score': 0.6956521739130435, 'support': 62}, 'Media/Journalism': {'precision': 0.8666666666666667, 'recall': 0.2708333333333333, 'f1-score': 0.41269841269841273, 'support': 48}, 'Others': {'precision': 0.8380566801619433, 'recall': 0.7638376383763837, 'f1-score': 0.7992277992277993, 'support': 271}, 'Religion': {'precision': 0.6363636363636364, 'recall': 0.6363636363636364, 'f1-score': 0.6363636363636364, 'support': 11}, 'Science/Technology': {'precision': 0.6666666666666666, 'recall': 0.5454545454545454, 'f1-score': 0.6, 'support': 11}, 'War/Terror': {'precision': 0.9221311475409836, 'recall': 0.8823529411764706, 'f1-score': 0.9018036072144289, 'support': 255}, 'micro avg': {'precision': 0.8212605832549389, 'recall': 0.671022290545734, 'f1-score': 0.7385786802030456, 'support': 1301}, 'macro avg': {'precision': 0.748817839251386, 'recall': 0.5783049751325201, 'f1-score': 0.6405309366523937, 'support': 1301}, 'weighted avg': {'precision': 0.8188496430486832, 'recall': 0.671022290545734, 'f1-score': 0.7295094676127352, 'support': 1301}, 'samples avg': {'precision': 0.7774166666666668, 'recall': 0.7192333333333334, 'f1-score': 0.7320880952380953, 'support': 1301}}, {'Conspiracy Theory': {'precision': 0.3918918918918919, 'recall': 0.6444444444444445, 'f1-score': 0.4873949579831932, 'support': 45}, 'Education': {'precision': 0.5384615384615384, 'recall': 0.5384615384615384, 'f1-score': 0.5384615384615384, 'support': 13}, 'Election Campaign': {'precision': 0.84375, 'recall': 0.8181818181818182, 'f1-score': 0.8307692307692308, 'support': 33}, 'Environment': {'precision': 0.7, 'recall': 0.5, 'f1-score': 0.5833333333333334, 'support': 14}, 'Government/Public': {'precision': 0.7848605577689243, 'recall': 0.6769759450171822, 'f1-score': 0.7269372693726938, 'support': 291}, 'Health': {'precision': 0.6904761904761905, 'recall': 0.6304347826086957, 'f1-score': 0.6590909090909092, 'support': 46}, 'Immigration/Integration': {'precision': 0.9130434782608695, 'recall': 0.5833333333333334, 'f1-score': 0.7118644067796611, 'support': 36}, 'Justice/Crime': {'precision': 0.78, 'recall': 0.8540145985401459, 'f1-score': 0.8153310104529617, 'support': 137}, 'Labor/Employment': {'precision': 0.7142857142857143, 'recall': 0.5357142857142857, 'f1-score': 0.6122448979591837, 'support': 28}, 'Macroeconomics/Economic Regulation': {'precision': 0.8148148148148148, 'recall': 0.7096774193548387, 'f1-score': 0.7586206896551724, 'support': 62}, 'Media/Journalism': {'precision': 1.0, 'recall': 0.5, 'f1-score': 0.6666666666666666, 'support': 48}, 'Others': {'precision': 0.8722466960352423, 'recall': 0.7306273062730627, 'f1-score': 0.7951807228915663, 'support': 271}, 'Religion': {'precision': 0.5833333333333334, 'recall': 0.6363636363636364, 'f1-score': 0.6086956521739131, 'support': 11}, 'Science/Technology': {'precision': 0.35294117647058826, 'recall': 0.5454545454545454, 'f1-score': 0.42857142857142855, 'support': 11}, 'War/Terror': {'precision': 0.9094488188976378, 'recall': 0.9058823529411765, 'f1-score': 0.9076620825147348, 'support': 255}, 'micro avg': {'precision': 0.7965116279069767, 'recall': 0.7371252882398155, 'f1-score': 0.7656686626746506, 'support': 1301}, 'macro avg': {'precision': 0.7259702807131164, 'recall': 0.6539710671125802, 'f1-score': 0.6753883197784124, 'support': 1301}, 'weighted avg': {'precision': 0.8141972474988456, 'recall': 0.7371252882398155, 'f1-score': 0.7672823239105323, 'support': 1301}, 'samples avg': {'precision': 0.7893333333333332, 'recall': 0.7679, 'f1-score': 0.7635452380952381, 'support': 1301}}]\n",
      "5\n",
      "\n",
      "Average Validation Classification Report In DataFrame Format:\n",
      "                                    precision    recall  f1-score  support\n",
      "Conspiracy Theory                    0.569064  0.448287  0.473735     50.8\n",
      "Education                            0.692918  0.543907  0.601810     12.6\n",
      "Election Campaign                    0.875607  0.671525  0.752120     26.6\n",
      "Environment                          0.795714  0.508766  0.611278     11.6\n",
      "Government/Public                    0.809871  0.680214  0.735751    249.6\n",
      "Health                               0.862517  0.759119  0.802214     42.8\n",
      "Immigration/Integration              0.833412  0.583487  0.678566     40.2\n",
      "Justice/Crime                        0.835210  0.714284  0.768663    114.4\n",
      "Labor/Employment                     0.743135  0.471374  0.572134     19.4\n",
      "Macroeconomics/Economic Regulation   0.777783  0.609378  0.670539     50.0\n",
      "Media/Journalism                     0.802506  0.243664  0.349091     36.8\n",
      "Others                               0.878475  0.745302  0.806256    211.4\n",
      "Religion                             0.688670  0.715054  0.686915     14.2\n",
      "Science/Technology                   0.491429  0.333680  0.385291     10.8\n",
      "War/Terror                           0.914761  0.917547  0.915866    187.8\n",
      "micro avg                            0.827497  0.697298  0.756130   1079.0\n",
      "macro avg                            0.771405  0.596373  0.654015   1079.0\n",
      "weighted avg                         0.830411  0.697298  0.746892   1079.0\n",
      "samples avg                          0.792787  0.738454  0.748271   1079.0\n",
      "\n",
      "Average Test Classification Report In DataFrame Format:\n",
      "                                    precision    recall  f1-score  support\n",
      "Conspiracy Theory                    0.399019  0.377778  0.367049     45.0\n",
      "Education                            0.472115  0.476923  0.471827     13.0\n",
      "Election Campaign                    0.849867  0.739394  0.787993     33.0\n",
      "Environment                          0.765714  0.442857  0.532493     14.0\n",
      "Government/Public                    0.790980  0.661168  0.717730    291.0\n",
      "Health                               0.775947  0.565217  0.649483     46.0\n",
      "Immigration/Integration              0.818073  0.572222  0.669411     36.0\n",
      "Justice/Crime                        0.838827  0.783942  0.808605    137.0\n",
      "Labor/Employment                     0.730312  0.521429  0.606436     28.0\n",
      "Macroeconomics/Economic Regulation   0.826438  0.600000  0.689958     62.0\n",
      "Media/Journalism                     0.903203  0.283333  0.403575     48.0\n",
      "Others                               0.857972  0.760886  0.806335    271.0\n",
      "Religion                             0.596439  0.709091  0.644553     11.0\n",
      "Science/Technology                   0.662255  0.527273  0.572154     11.0\n",
      "War/Terror                           0.916239  0.890196  0.902538    255.0\n",
      "micro avg                            0.816521  0.701307  0.754081   1301.0\n",
      "macro avg                            0.746893  0.594114  0.642009   1301.0\n",
      "weighted avg                         0.821012  0.701307  0.746272   1301.0\n",
      "samples avg                          0.792400  0.743393  0.752508   1301.0\n"
     ]
    }
   ],
   "source": [
    "generic_val_average_report_df, generic_test_average_report_df = calculate_metrics(\"oa_classification_only_v03_co_occurrence_generic\")"
   ]
  },
  {
   "cell_type": "code",
   "execution_count": 7,
   "metadata": {},
   "outputs": [
    {
     "name": "stdout",
     "output_type": "stream",
     "text": [
      "../models/weak_labeled/davinci_elaboration_first_v04_co_occurrence_generic_epochs_200_train_size_full_fold_0/\n",
      "0                                  ['Science/Technology']\n",
      "1                                              ['Others']\n",
      "2       ['Health', 'Justice/Crime', 'Macroeconomics/Ec...\n",
      "3                                              ['Others']\n",
      "4                                   ['Government/Public']\n",
      "                              ...                        \n",
      "3630                                         ['Religion']\n",
      "3631                                        ['Education']\n",
      "3632                                ['Conspiracy Theory']\n",
      "3633                                ['Conspiracy Theory']\n",
      "3634                               ['Science/Technology']\n",
      "Name: annotations, Length: 3635, dtype: object\n",
      "['Conspiracy Theory', 'Education', 'Election Campaign', 'Environment', 'Government/Public', 'Health', 'Immigration/Integration', 'Justice/Crime', 'Labor/Employment', 'Macroeconomics/Economic Regulation', 'Media/Journalism', 'Others', 'Religion', 'Science/Technology', 'War/Terror']\n"
     ]
    },
    {
     "name": "stderr",
     "output_type": "stream",
     "text": [
      "/tmp/ipykernel_11958/3473448682.py:37: UserWarning: To copy construct from a tensor, it is recommended to use sourceTensor.clone().detach() or sourceTensor.clone().detach().requires_grad_(True), rather than torch.tensor(sourceTensor).\n",
      "  'label': torch.tensor(label, dtype=torch.float32)}\n",
      "You're using a RobertaTokenizerFast tokenizer. Please note that with a fast tokenizer, using the `__call__` method is faster than using a method to encode the text followed by a call to the `pad` method to get a padded encoding.\n",
      "/tmp/ipykernel_11958/3473448682.py:37: UserWarning: To copy construct from a tensor, it is recommended to use sourceTensor.clone().detach() or sourceTensor.clone().detach().requires_grad_(True), rather than torch.tensor(sourceTensor).\n",
      "  'label': torch.tensor(label, dtype=torch.float32)}\n"
     ]
    },
    {
     "name": "stdout",
     "output_type": "stream",
     "text": [
      "../models/weak_labeled/davinci_elaboration_first_v04_co_occurrence_generic_epochs_200_train_size_full_fold_1/\n",
      "0                                  ['Science/Technology']\n",
      "1                                              ['Others']\n",
      "2       ['Health', 'Justice/Crime', 'Macroeconomics/Ec...\n",
      "3                                              ['Others']\n",
      "4                                          ['War/Terror']\n",
      "                              ...                        \n",
      "3630                                         ['Religion']\n",
      "3631                                        ['Education']\n",
      "3632                                ['Conspiracy Theory']\n",
      "3633                                ['Conspiracy Theory']\n",
      "3634                               ['Science/Technology']\n",
      "Name: annotations, Length: 3635, dtype: object\n",
      "['Conspiracy Theory', 'Education', 'Election Campaign', 'Environment', 'Government/Public', 'Health', 'Immigration/Integration', 'Justice/Crime', 'Labor/Employment', 'Macroeconomics/Economic Regulation', 'Media/Journalism', 'Others', 'Religion', 'Science/Technology', 'War/Terror']\n"
     ]
    },
    {
     "name": "stderr",
     "output_type": "stream",
     "text": [
      "/tmp/ipykernel_11958/3473448682.py:37: UserWarning: To copy construct from a tensor, it is recommended to use sourceTensor.clone().detach() or sourceTensor.clone().detach().requires_grad_(True), rather than torch.tensor(sourceTensor).\n",
      "  'label': torch.tensor(label, dtype=torch.float32)}\n",
      "You're using a RobertaTokenizerFast tokenizer. Please note that with a fast tokenizer, using the `__call__` method is faster than using a method to encode the text followed by a call to the `pad` method to get a padded encoding.\n",
      "/tmp/ipykernel_11958/3473448682.py:37: UserWarning: To copy construct from a tensor, it is recommended to use sourceTensor.clone().detach() or sourceTensor.clone().detach().requires_grad_(True), rather than torch.tensor(sourceTensor).\n",
      "  'label': torch.tensor(label, dtype=torch.float32)}\n"
     ]
    },
    {
     "name": "stdout",
     "output_type": "stream",
     "text": [
      "../models/weak_labeled/davinci_elaboration_first_v04_co_occurrence_generic_epochs_200_train_size_full_fold_2/\n",
      "0       ['Science/Technology']\n",
      "1                   ['Others']\n",
      "2                   ['Others']\n",
      "3        ['Government/Public']\n",
      "4               ['War/Terror']\n",
      "                 ...          \n",
      "3630              ['Religion']\n",
      "3631             ['Education']\n",
      "3632     ['Conspiracy Theory']\n",
      "3633     ['Conspiracy Theory']\n",
      "3634    ['Science/Technology']\n",
      "Name: annotations, Length: 3635, dtype: object\n",
      "['Conspiracy Theory', 'Education', 'Election Campaign', 'Environment', 'Government/Public', 'Health', 'Immigration/Integration', 'Justice/Crime', 'Labor/Employment', 'Macroeconomics/Economic Regulation', 'Media/Journalism', 'Others', 'Religion', 'Science/Technology', 'War/Terror']\n"
     ]
    },
    {
     "name": "stderr",
     "output_type": "stream",
     "text": [
      "/tmp/ipykernel_11958/3473448682.py:37: UserWarning: To copy construct from a tensor, it is recommended to use sourceTensor.clone().detach() or sourceTensor.clone().detach().requires_grad_(True), rather than torch.tensor(sourceTensor).\n",
      "  'label': torch.tensor(label, dtype=torch.float32)}\n",
      "You're using a RobertaTokenizerFast tokenizer. Please note that with a fast tokenizer, using the `__call__` method is faster than using a method to encode the text followed by a call to the `pad` method to get a padded encoding.\n",
      "/tmp/ipykernel_11958/3473448682.py:37: UserWarning: To copy construct from a tensor, it is recommended to use sourceTensor.clone().detach() or sourceTensor.clone().detach().requires_grad_(True), rather than torch.tensor(sourceTensor).\n",
      "  'label': torch.tensor(label, dtype=torch.float32)}\n"
     ]
    },
    {
     "name": "stdout",
     "output_type": "stream",
     "text": [
      "../models/weak_labeled/davinci_elaboration_first_v04_co_occurrence_generic_epochs_200_train_size_full_fold_3/\n",
      "0                                  ['Science/Technology']\n",
      "1       ['Health', 'Justice/Crime', 'Macroeconomics/Ec...\n",
      "2                                              ['Others']\n",
      "3                                   ['Government/Public']\n",
      "4                                          ['War/Terror']\n",
      "                              ...                        \n",
      "3630                                         ['Religion']\n",
      "3631                                        ['Education']\n",
      "3632                                ['Conspiracy Theory']\n",
      "3633                                ['Conspiracy Theory']\n",
      "3634                               ['Science/Technology']\n",
      "Name: annotations, Length: 3635, dtype: object\n",
      "['Conspiracy Theory', 'Education', 'Election Campaign', 'Environment', 'Government/Public', 'Health', 'Immigration/Integration', 'Justice/Crime', 'Labor/Employment', 'Macroeconomics/Economic Regulation', 'Media/Journalism', 'Others', 'Religion', 'Science/Technology', 'War/Terror']\n"
     ]
    },
    {
     "name": "stderr",
     "output_type": "stream",
     "text": [
      "/tmp/ipykernel_11958/3473448682.py:37: UserWarning: To copy construct from a tensor, it is recommended to use sourceTensor.clone().detach() or sourceTensor.clone().detach().requires_grad_(True), rather than torch.tensor(sourceTensor).\n",
      "  'label': torch.tensor(label, dtype=torch.float32)}\n",
      "You're using a RobertaTokenizerFast tokenizer. Please note that with a fast tokenizer, using the `__call__` method is faster than using a method to encode the text followed by a call to the `pad` method to get a padded encoding.\n",
      "/tmp/ipykernel_11958/3473448682.py:37: UserWarning: To copy construct from a tensor, it is recommended to use sourceTensor.clone().detach() or sourceTensor.clone().detach().requires_grad_(True), rather than torch.tensor(sourceTensor).\n",
      "  'label': torch.tensor(label, dtype=torch.float32)}\n"
     ]
    },
    {
     "name": "stdout",
     "output_type": "stream",
     "text": [
      "../models/weak_labeled/davinci_elaboration_first_v04_co_occurrence_generic_epochs_200_train_size_full_fold_4/\n",
      "0                                              ['Others']\n",
      "1       ['Health', 'Justice/Crime', 'Macroeconomics/Ec...\n",
      "2                                   ['Government/Public']\n",
      "3                                          ['War/Terror']\n",
      "4                                          ['War/Terror']\n",
      "                              ...                        \n",
      "3630                                         ['Religion']\n",
      "3631                                        ['Education']\n",
      "3632                                ['Conspiracy Theory']\n",
      "3633                                ['Conspiracy Theory']\n",
      "3634                               ['Science/Technology']\n",
      "Name: annotations, Length: 3635, dtype: object\n",
      "['Conspiracy Theory', 'Education', 'Election Campaign', 'Environment', 'Government/Public', 'Health', 'Immigration/Integration', 'Justice/Crime', 'Labor/Employment', 'Macroeconomics/Economic Regulation', 'Media/Journalism', 'Others', 'Religion', 'Science/Technology', 'War/Terror']\n"
     ]
    },
    {
     "name": "stderr",
     "output_type": "stream",
     "text": [
      "/tmp/ipykernel_11958/3473448682.py:37: UserWarning: To copy construct from a tensor, it is recommended to use sourceTensor.clone().detach() or sourceTensor.clone().detach().requires_grad_(True), rather than torch.tensor(sourceTensor).\n",
      "  'label': torch.tensor(label, dtype=torch.float32)}\n",
      "You're using a RobertaTokenizerFast tokenizer. Please note that with a fast tokenizer, using the `__call__` method is faster than using a method to encode the text followed by a call to the `pad` method to get a padded encoding.\n",
      "/tmp/ipykernel_11958/3473448682.py:37: UserWarning: To copy construct from a tensor, it is recommended to use sourceTensor.clone().detach() or sourceTensor.clone().detach().requires_grad_(True), rather than torch.tensor(sourceTensor).\n",
      "  'label': torch.tensor(label, dtype=torch.float32)}\n"
     ]
    },
    {
     "name": "stdout",
     "output_type": "stream",
     "text": [
      "[{'Conspiracy Theory': {'precision': 0.6052631578947368, 'recall': 0.48936170212765956, 'f1-score': 0.5411764705882353, 'support': 47}, 'Education': {'precision': 0.8571428571428571, 'recall': 0.5, 'f1-score': 0.631578947368421, 'support': 12}, 'Election Campaign': {'precision': 0.8181818181818182, 'recall': 0.6923076923076923, 'f1-score': 0.7500000000000001, 'support': 26}, 'Environment': {'precision': 0.7272727272727273, 'recall': 0.5714285714285714, 'f1-score': 0.64, 'support': 14}, 'Government/Public': {'precision': 0.7250859106529209, 'recall': 0.8373015873015873, 'f1-score': 0.7771639042357275, 'support': 252}, 'Health': {'precision': 0.8974358974358975, 'recall': 0.7777777777777778, 'f1-score': 0.8333333333333333, 'support': 45}, 'Immigration/Integration': {'precision': 0.9285714285714286, 'recall': 0.65, 'f1-score': 0.7647058823529412, 'support': 40}, 'Justice/Crime': {'precision': 0.8235294117647058, 'recall': 0.6542056074766355, 'f1-score': 0.7291666666666665, 'support': 107}, 'Labor/Employment': {'precision': 0.7368421052631579, 'recall': 0.7368421052631579, 'f1-score': 0.7368421052631579, 'support': 19}, 'Macroeconomics/Economic Regulation': {'precision': 0.6808510638297872, 'recall': 0.5517241379310345, 'f1-score': 0.6095238095238096, 'support': 58}, 'Media/Journalism': {'precision': 0.7692307692307693, 'recall': 0.5263157894736842, 'f1-score': 0.625, 'support': 38}, 'Others': {'precision': 0.9096385542168675, 'recall': 0.7365853658536585, 'f1-score': 0.8140161725067385, 'support': 205}, 'Religion': {'precision': 0.7083333333333334, 'recall': 0.7727272727272727, 'f1-score': 0.7391304347826088, 'support': 22}, 'Science/Technology': {'precision': 0.6666666666666666, 'recall': 0.6, 'f1-score': 0.631578947368421, 'support': 10}, 'War/Terror': {'precision': 0.9171270718232044, 'recall': 0.8972972972972973, 'f1-score': 0.907103825136612, 'support': 185}, 'micro avg': {'precision': 0.8086606243705942, 'recall': 0.7435185185185185, 'f1-score': 0.7747226242161118, 'support': 1080}, 'macro avg': {'precision': 0.7847448515520585, 'recall': 0.6662583271310686, 'f1-score': 0.7153546999417782, 'support': 1080}, 'weighted avg': {'precision': 0.8145082778396222, 'recall': 0.7435185185185185, 'f1-score': 0.7720325712836662, 'support': 1080}, 'samples avg': {'precision': 0.8047916666666667, 'recall': 0.7746875, 'f1-score': 0.7735476190476192, 'support': 1080}}, {'Conspiracy Theory': {'precision': 0.4647887323943662, 'recall': 0.55, 'f1-score': 0.5038167938931297, 'support': 60}, 'Education': {'precision': 0.6363636363636364, 'recall': 0.4375, 'f1-score': 0.5185185185185185, 'support': 16}, 'Election Campaign': {'precision': 0.9032258064516129, 'recall': 0.8, 'f1-score': 0.8484848484848486, 'support': 35}, 'Environment': {'precision': 0.875, 'recall': 0.5, 'f1-score': 0.6363636363636364, 'support': 14}, 'Government/Public': {'precision': 0.7716535433070866, 'recall': 0.8032786885245902, 'f1-score': 0.7871485943775101, 'support': 244}, 'Health': {'precision': 0.8571428571428571, 'recall': 0.5853658536585366, 'f1-score': 0.6956521739130435, 'support': 41}, 'Immigration/Integration': {'precision': 0.7619047619047619, 'recall': 0.7111111111111111, 'f1-score': 0.735632183908046, 'support': 45}, 'Justice/Crime': {'precision': 0.7213114754098361, 'recall': 0.8, 'f1-score': 0.7586206896551724, 'support': 110}, 'Labor/Employment': {'precision': 0.7647058823529411, 'recall': 0.8125, 'f1-score': 0.787878787878788, 'support': 16}, 'Macroeconomics/Economic Regulation': {'precision': 0.6363636363636364, 'recall': 0.56, 'f1-score': 0.5957446808510639, 'support': 50}, 'Media/Journalism': {'precision': 0.6923076923076923, 'recall': 0.28125, 'f1-score': 0.4, 'support': 32}, 'Others': {'precision': 0.90625, 'recall': 0.7532467532467533, 'f1-score': 0.822695035460993, 'support': 231}, 'Religion': {'precision': 0.8571428571428571, 'recall': 0.8571428571428571, 'f1-score': 0.8571428571428571, 'support': 14}, 'Science/Technology': {'precision': 0.6666666666666666, 'recall': 0.5714285714285714, 'f1-score': 0.6153846153846153, 'support': 14}, 'War/Terror': {'precision': 0.8549222797927462, 'recall': 0.9269662921348315, 'f1-score': 0.889487870619946, 'support': 178}, 'micro avg': {'precision': 0.7832699619771863, 'recall': 0.7490909090909091, 'f1-score': 0.7657992565055762, 'support': 1100}, 'macro avg': {'precision': 0.7579833218400464, 'recall': 0.6633193418164834, 'f1-score': 0.6968380857634779, 'support': 1100}, 'weighted avg': {'precision': 0.7891353771527148, 'recall': 0.7490909090909091, 'f1-score': 0.7622265075075102, 'support': 1100}, 'samples avg': {'precision': 0.7964583333333333, 'recall': 0.78, 'f1-score': 0.7720119047619047, 'support': 1100}}, {'Conspiracy Theory': {'precision': 0.3793103448275862, 'recall': 0.5, 'f1-score': 0.4313725490196078, 'support': 44}, 'Education': {'precision': 0.7, 'recall': 0.6363636363636364, 'f1-score': 0.6666666666666666, 'support': 11}, 'Election Campaign': {'precision': 1.0, 'recall': 0.6, 'f1-score': 0.7499999999999999, 'support': 25}, 'Environment': {'precision': 0.8, 'recall': 0.7272727272727273, 'f1-score': 0.761904761904762, 'support': 11}, 'Government/Public': {'precision': 0.7983539094650206, 'recall': 0.782258064516129, 'f1-score': 0.7902240325865579, 'support': 248}, 'Health': {'precision': 0.8484848484848485, 'recall': 0.7, 'f1-score': 0.7671232876712328, 'support': 40}, 'Immigration/Integration': {'precision': 0.6571428571428571, 'recall': 0.7931034482758621, 'f1-score': 0.71875, 'support': 29}, 'Justice/Crime': {'precision': 0.8446601941747572, 'recall': 0.7565217391304347, 'f1-score': 0.7981651376146789, 'support': 115}, 'Labor/Employment': {'precision': 0.45, 'recall': 0.45, 'f1-score': 0.45, 'support': 20}, 'Macroeconomics/Economic Regulation': {'precision': 0.7894736842105263, 'recall': 0.625, 'f1-score': 0.6976744186046512, 'support': 48}, 'Media/Journalism': {'precision': 0.8823529411764706, 'recall': 0.6666666666666666, 'f1-score': 0.7594936708860759, 'support': 45}, 'Others': {'precision': 0.8888888888888888, 'recall': 0.7203791469194313, 'f1-score': 0.7958115183246073, 'support': 211}, 'Religion': {'precision': 0.5, 'recall': 0.7, 'f1-score': 0.5833333333333334, 'support': 10}, 'Science/Technology': {'precision': 0.5, 'recall': 0.36363636363636365, 'f1-score': 0.4210526315789474, 'support': 11}, 'War/Terror': {'precision': 0.8644859813084113, 'recall': 0.925, 'f1-score': 0.8937198067632851, 'support': 200}, 'micro avg': {'precision': 0.7962226640159046, 'recall': 0.75, 'f1-score': 0.7724204435872709, 'support': 1068}, 'macro avg': {'precision': 0.7268769099786245, 'recall': 0.6630801195187501, 'f1-score': 0.6856861209969604, 'support': 1068}, 'weighted avg': {'precision': 0.8088644708414391, 'recall': 0.75, 'f1-score': 0.7739031849886704, 'support': 1068}, 'samples avg': {'precision': 0.7952083333333334, 'recall': 0.78, 'f1-score': 0.7701607142857142, 'support': 1068}}, {'Conspiracy Theory': {'precision': 0.4567901234567901, 'recall': 0.7708333333333334, 'f1-score': 0.5736434108527132, 'support': 48}, 'Education': {'precision': 1.0, 'recall': 0.4, 'f1-score': 0.5714285714285715, 'support': 10}, 'Election Campaign': {'precision': 0.76, 'recall': 0.7916666666666666, 'f1-score': 0.7755102040816326, 'support': 24}, 'Environment': {'precision': 0.8333333333333334, 'recall': 0.625, 'f1-score': 0.7142857142857143, 'support': 8}, 'Government/Public': {'precision': 0.7593360995850622, 'recall': 0.732, 'f1-score': 0.745417515274949, 'support': 250}, 'Health': {'precision': 0.8431372549019608, 'recall': 0.8775510204081632, 'f1-score': 0.86, 'support': 49}, 'Immigration/Integration': {'precision': 0.782608695652174, 'recall': 0.8, 'f1-score': 0.7912087912087912, 'support': 45}, 'Justice/Crime': {'precision': 0.8434782608695652, 'recall': 0.8362068965517241, 'f1-score': 0.8398268398268398, 'support': 116}, 'Labor/Employment': {'precision': 0.7222222222222222, 'recall': 0.5416666666666666, 'f1-score': 0.619047619047619, 'support': 24}, 'Macroeconomics/Economic Regulation': {'precision': 0.8888888888888888, 'recall': 0.7142857142857143, 'f1-score': 0.792079207920792, 'support': 56}, 'Media/Journalism': {'precision': 0.782608695652174, 'recall': 0.46153846153846156, 'f1-score': 0.5806451612903226, 'support': 39}, 'Others': {'precision': 0.8547486033519553, 'recall': 0.8138297872340425, 'f1-score': 0.8337874659400545, 'support': 188}, 'Religion': {'precision': 0.6818181818181818, 'recall': 0.9375, 'f1-score': 0.7894736842105263, 'support': 16}, 'Science/Technology': {'precision': 0.3, 'recall': 0.42857142857142855, 'f1-score': 0.3529411764705882, 'support': 7}, 'War/Terror': {'precision': 0.8669950738916257, 'recall': 0.8888888888888888, 'f1-score': 0.8778054862842892, 'support': 198}, 'micro avg': {'precision': 0.7876520112254444, 'recall': 0.7810760667903525, 'f1-score': 0.784350256171402, 'support': 1078}, 'macro avg': {'precision': 0.758397695574929, 'recall': 0.7079692576096727, 'f1-score': 0.7144733898748935, 'support': 1078}, 'weighted avg': {'precision': 0.8015221853020573, 'recall': 0.7810760667903525, 'f1-score': 0.7853551249955648, 'support': 1078}, 'samples avg': {'precision': 0.808125, 'recall': 0.8096041666666668, 'f1-score': 0.7917946428571428, 'support': 1078}}, {'Conspiracy Theory': {'precision': 0.49411764705882355, 'recall': 0.7636363636363637, 'f1-score': 0.6000000000000001, 'support': 55}, 'Education': {'precision': 0.7692307692307693, 'recall': 0.7142857142857143, 'f1-score': 0.7407407407407408, 'support': 14}, 'Election Campaign': {'precision': 0.8, 'recall': 0.6956521739130435, 'f1-score': 0.7441860465116279, 'support': 23}, 'Environment': {'precision': 0.8571428571428571, 'recall': 0.5454545454545454, 'f1-score': 0.6666666666666665, 'support': 11}, 'Government/Public': {'precision': 0.7342657342657343, 'recall': 0.8267716535433071, 'f1-score': 0.7777777777777778, 'support': 254}, 'Health': {'precision': 0.918918918918919, 'recall': 0.8717948717948718, 'f1-score': 0.8947368421052632, 'support': 39}, 'Immigration/Integration': {'precision': 0.8709677419354839, 'recall': 0.6428571428571429, 'f1-score': 0.7397260273972603, 'support': 42}, 'Justice/Crime': {'precision': 0.7966101694915254, 'recall': 0.7580645161290323, 'f1-score': 0.7768595041322315, 'support': 124}, 'Labor/Employment': {'precision': 0.5, 'recall': 0.5, 'f1-score': 0.5, 'support': 18}, 'Macroeconomics/Economic Regulation': {'precision': 0.6944444444444444, 'recall': 0.6578947368421053, 'f1-score': 0.6756756756756757, 'support': 38}, 'Media/Journalism': {'precision': 0.6363636363636364, 'recall': 0.4666666666666667, 'f1-score': 0.5384615384615385, 'support': 30}, 'Others': {'precision': 0.8969072164948454, 'recall': 0.7837837837837838, 'f1-score': 0.8365384615384617, 'support': 222}, 'Religion': {'precision': 0.47058823529411764, 'recall': 0.8888888888888888, 'f1-score': 0.6153846153846153, 'support': 9}, 'Science/Technology': {'precision': 0.26666666666666666, 'recall': 0.3333333333333333, 'f1-score': 0.2962962962962963, 'support': 12}, 'War/Terror': {'precision': 0.8393782383419689, 'recall': 0.9101123595505618, 'f1-score': 0.8733153638814016, 'support': 178}, 'micro avg': {'precision': 0.7646520146520146, 'recall': 0.7811038353601497, 'f1-score': 0.7727903748264692, 'support': 1069}, 'macro avg': {'precision': 0.7030401517099862, 'recall': 0.6906131167119575, 'f1-score': 0.6850910371046371, 'support': 1069}, 'weighted avg': {'precision': 0.7800876837135479, 'recall': 0.7811038353601497, 'f1-score': 0.7752615144903466, 'support': 1069}, 'samples avg': {'precision': 0.7972916666666667, 'recall': 0.8040625, 'f1-score': 0.7858690476190476, 'support': 1069}}]\n",
      "5\n",
      "[{'Conspiracy Theory': {'precision': 0.4117647058823529, 'recall': 0.4666666666666667, 'f1-score': 0.43749999999999994, 'support': 45}, 'Education': {'precision': 0.47058823529411764, 'recall': 0.6153846153846154, 'f1-score': 0.5333333333333333, 'support': 13}, 'Election Campaign': {'precision': 0.8387096774193549, 'recall': 0.7878787878787878, 'f1-score': 0.8125, 'support': 33}, 'Environment': {'precision': 0.8181818181818182, 'recall': 0.6428571428571429, 'f1-score': 0.7200000000000001, 'support': 14}, 'Government/Public': {'precision': 0.7015384615384616, 'recall': 0.7835051546391752, 'f1-score': 0.7402597402597403, 'support': 291}, 'Health': {'precision': 0.8571428571428571, 'recall': 0.5217391304347826, 'f1-score': 0.6486486486486486, 'support': 46}, 'Immigration/Integration': {'precision': 0.8695652173913043, 'recall': 0.5555555555555556, 'f1-score': 0.6779661016949152, 'support': 36}, 'Justice/Crime': {'precision': 0.8571428571428571, 'recall': 0.7445255474452555, 'f1-score': 0.7968750000000001, 'support': 137}, 'Labor/Employment': {'precision': 0.8461538461538461, 'recall': 0.39285714285714285, 'f1-score': 0.5365853658536585, 'support': 28}, 'Macroeconomics/Economic Regulation': {'precision': 0.7755102040816326, 'recall': 0.6129032258064516, 'f1-score': 0.6846846846846848, 'support': 62}, 'Media/Journalism': {'precision': 0.7777777777777778, 'recall': 0.5833333333333334, 'f1-score': 0.6666666666666666, 'support': 48}, 'Others': {'precision': 0.9014084507042254, 'recall': 0.7084870848708487, 'f1-score': 0.7933884297520661, 'support': 271}, 'Religion': {'precision': 0.5555555555555556, 'recall': 0.9090909090909091, 'f1-score': 0.6896551724137931, 'support': 11}, 'Science/Technology': {'precision': 0.38461538461538464, 'recall': 0.45454545454545453, 'f1-score': 0.41666666666666663, 'support': 11}, 'War/Terror': {'precision': 0.9346938775510204, 'recall': 0.8980392156862745, 'f1-score': 0.916, 'support': 255}, 'micro avg': {'precision': 0.7978187919463087, 'recall': 0.7309761721752498, 'f1-score': 0.7629362214199759, 'support': 1301}, 'macro avg': {'precision': 0.7333565950955044, 'recall': 0.6451579311368266, 'f1-score': 0.6713819873316116, 'support': 1301}, 'weighted avg': {'precision': 0.8133481856731541, 'recall': 0.7309761721752498, 'f1-score': 0.762934708404935, 'support': 1301}, 'samples avg': {'precision': 0.7969166666666667, 'recall': 0.7666499999999999, 'f1-score': 0.7662619047619047, 'support': 1301}}, {'Conspiracy Theory': {'precision': 0.3770491803278688, 'recall': 0.5111111111111111, 'f1-score': 0.43396226415094336, 'support': 45}, 'Education': {'precision': 0.5, 'recall': 0.6923076923076923, 'f1-score': 0.5806451612903226, 'support': 13}, 'Election Campaign': {'precision': 0.8387096774193549, 'recall': 0.7878787878787878, 'f1-score': 0.8125, 'support': 33}, 'Environment': {'precision': 0.8, 'recall': 0.5714285714285714, 'f1-score': 0.6666666666666666, 'support': 14}, 'Government/Public': {'precision': 0.7665505226480837, 'recall': 0.7560137457044673, 'f1-score': 0.7612456747404844, 'support': 291}, 'Health': {'precision': 0.8064516129032258, 'recall': 0.5434782608695652, 'f1-score': 0.6493506493506493, 'support': 46}, 'Immigration/Integration': {'precision': 0.7368421052631579, 'recall': 0.7777777777777778, 'f1-score': 0.7567567567567567, 'support': 36}, 'Justice/Crime': {'precision': 0.7151898734177216, 'recall': 0.8248175182481752, 'f1-score': 0.7661016949152543, 'support': 137}, 'Labor/Employment': {'precision': 0.6, 'recall': 0.5357142857142857, 'f1-score': 0.5660377358490566, 'support': 28}, 'Macroeconomics/Economic Regulation': {'precision': 0.7755102040816326, 'recall': 0.6129032258064516, 'f1-score': 0.6846846846846848, 'support': 62}, 'Media/Journalism': {'precision': 0.9166666666666666, 'recall': 0.22916666666666666, 'f1-score': 0.36666666666666664, 'support': 48}, 'Others': {'precision': 0.8874458874458875, 'recall': 0.7564575645756457, 'f1-score': 0.8167330677290837, 'support': 271}, 'Religion': {'precision': 0.5294117647058824, 'recall': 0.8181818181818182, 'f1-score': 0.6428571428571428, 'support': 11}, 'Science/Technology': {'precision': 0.46153846153846156, 'recall': 0.5454545454545454, 'f1-score': 0.4999999999999999, 'support': 11}, 'War/Terror': {'precision': 0.8702290076335878, 'recall': 0.8941176470588236, 'f1-score': 0.8820116054158608, 'support': 255}, 'micro avg': {'precision': 0.7755430410297667, 'recall': 0.740968485780169, 'f1-score': 0.7578616352201258, 'support': 1301}, 'macro avg': {'precision': 0.7054396642701021, 'recall': 0.6571206145856258, 'f1-score': 0.6590813180715714, 'support': 1301}, 'weighted avg': {'precision': 0.7910862834647076, 'recall': 0.740968485780169, 'f1-score': 0.7544449464599714, 'support': 1301}, 'samples avg': {'precision': 0.7979166666666666, 'recall': 0.7807833333333333, 'f1-score': 0.7735309523809524, 'support': 1301}}, {'Conspiracy Theory': {'precision': 0.32894736842105265, 'recall': 0.5555555555555556, 'f1-score': 0.41322314049586784, 'support': 45}, 'Education': {'precision': 0.5714285714285714, 'recall': 0.6153846153846154, 'f1-score': 0.5925925925925927, 'support': 13}, 'Election Campaign': {'precision': 0.8695652173913043, 'recall': 0.6060606060606061, 'f1-score': 0.7142857142857143, 'support': 33}, 'Environment': {'precision': 0.7272727272727273, 'recall': 0.5714285714285714, 'f1-score': 0.64, 'support': 14}, 'Government/Public': {'precision': 0.7525773195876289, 'recall': 0.7525773195876289, 'f1-score': 0.752577319587629, 'support': 291}, 'Health': {'precision': 0.75, 'recall': 0.5869565217391305, 'f1-score': 0.6585365853658538, 'support': 46}, 'Immigration/Integration': {'precision': 0.7142857142857143, 'recall': 0.6944444444444444, 'f1-score': 0.7042253521126761, 'support': 36}, 'Justice/Crime': {'precision': 0.8429752066115702, 'recall': 0.7445255474452555, 'f1-score': 0.7906976744186046, 'support': 137}, 'Labor/Employment': {'precision': 0.5714285714285714, 'recall': 0.5714285714285714, 'f1-score': 0.5714285714285714, 'support': 28}, 'Macroeconomics/Economic Regulation': {'precision': 0.9047619047619048, 'recall': 0.6129032258064516, 'f1-score': 0.7307692307692307, 'support': 62}, 'Media/Journalism': {'precision': 0.7142857142857143, 'recall': 0.4166666666666667, 'f1-score': 0.5263157894736842, 'support': 48}, 'Others': {'precision': 0.8744769874476988, 'recall': 0.7712177121771218, 'f1-score': 0.8196078431372549, 'support': 271}, 'Religion': {'precision': 0.47058823529411764, 'recall': 0.7272727272727273, 'f1-score': 0.5714285714285714, 'support': 11}, 'Science/Technology': {'precision': 0.5454545454545454, 'recall': 0.5454545454545454, 'f1-score': 0.5454545454545454, 'support': 11}, 'War/Terror': {'precision': 0.8972332015810277, 'recall': 0.8901960784313725, 'f1-score': 0.8937007874015748, 'support': 255}, 'micro avg': {'precision': 0.7820408163265307, 'recall': 0.7363566487317448, 'f1-score': 0.7585114806017419, 'support': 1301}, 'macro avg': {'precision': 0.7023520856834765, 'recall': 0.6441381805922177, 'f1-score': 0.6616562478634914, 'support': 1301}, 'weighted avg': {'precision': 0.7987284514634874, 'recall': 0.7363566487317448, 'f1-score': 0.7614639057351438, 'support': 1301}, 'samples avg': {'precision': 0.7895, 'recall': 0.77215, 'f1-score': 0.7656571428571428, 'support': 1301}}, {'Conspiracy Theory': {'precision': 0.4050632911392405, 'recall': 0.7111111111111111, 'f1-score': 0.5161290322580645, 'support': 45}, 'Education': {'precision': 0.42857142857142855, 'recall': 0.46153846153846156, 'f1-score': 0.4444444444444445, 'support': 13}, 'Election Campaign': {'precision': 0.7941176470588235, 'recall': 0.8181818181818182, 'f1-score': 0.8059701492537314, 'support': 33}, 'Environment': {'precision': 0.7777777777777778, 'recall': 0.5, 'f1-score': 0.6086956521739131, 'support': 14}, 'Government/Public': {'precision': 0.7886792452830189, 'recall': 0.718213058419244, 'f1-score': 0.751798561151079, 'support': 291}, 'Health': {'precision': 0.7435897435897436, 'recall': 0.6304347826086957, 'f1-score': 0.6823529411764706, 'support': 46}, 'Immigration/Integration': {'precision': 0.717948717948718, 'recall': 0.7777777777777778, 'f1-score': 0.7466666666666666, 'support': 36}, 'Justice/Crime': {'precision': 0.7925925925925926, 'recall': 0.781021897810219, 'f1-score': 0.7867647058823529, 'support': 137}, 'Labor/Employment': {'precision': 0.625, 'recall': 0.5357142857142857, 'f1-score': 0.576923076923077, 'support': 28}, 'Macroeconomics/Economic Regulation': {'precision': 0.7894736842105263, 'recall': 0.7258064516129032, 'f1-score': 0.7563025210084033, 'support': 62}, 'Media/Journalism': {'precision': 0.8108108108108109, 'recall': 0.625, 'f1-score': 0.7058823529411764, 'support': 48}, 'Others': {'precision': 0.8438661710037175, 'recall': 0.8376383763837638, 'f1-score': 0.8407407407407407, 'support': 271}, 'Religion': {'precision': 0.43478260869565216, 'recall': 0.9090909090909091, 'f1-score': 0.5882352941176471, 'support': 11}, 'Science/Technology': {'precision': 0.6363636363636364, 'recall': 0.6363636363636364, 'f1-score': 0.6363636363636364, 'support': 11}, 'War/Terror': {'precision': 0.8853754940711462, 'recall': 0.8784313725490196, 'f1-score': 0.8818897637795275, 'support': 255}, 'micro avg': {'precision': 0.7787267080745341, 'recall': 0.7709454265949269, 'f1-score': 0.7748165314793356, 'support': 1301}, 'macro avg': {'precision': 0.6982675232744556, 'recall': 0.7030882626107896, 'f1-score': 0.6886106359253953, 'support': 1301}, 'weighted avg': {'precision': 0.792193355030072, 'recall': 0.7709454265949269, 'f1-score': 0.7779176738797238, 'support': 1301}, 'samples avg': {'precision': 0.8000833333333333, 'recall': 0.8023499999999999, 'f1-score': 0.7870999999999999, 'support': 1301}}, {'Conspiracy Theory': {'precision': 0.36904761904761907, 'recall': 0.6888888888888889, 'f1-score': 0.4806201550387597, 'support': 45}, 'Education': {'precision': 0.5, 'recall': 0.6923076923076923, 'f1-score': 0.5806451612903226, 'support': 13}, 'Election Campaign': {'precision': 0.8214285714285714, 'recall': 0.696969696969697, 'f1-score': 0.7540983606557378, 'support': 33}, 'Environment': {'precision': 0.75, 'recall': 0.42857142857142855, 'f1-score': 0.5454545454545454, 'support': 14}, 'Government/Public': {'precision': 0.7032640949554896, 'recall': 0.8144329896907216, 'f1-score': 0.7547770700636942, 'support': 291}, 'Health': {'precision': 0.7931034482758621, 'recall': 0.5, 'f1-score': 0.6133333333333334, 'support': 46}, 'Immigration/Integration': {'precision': 0.7073170731707317, 'recall': 0.8055555555555556, 'f1-score': 0.7532467532467532, 'support': 36}, 'Justice/Crime': {'precision': 0.7720588235294118, 'recall': 0.7664233576642335, 'f1-score': 0.7692307692307693, 'support': 137}, 'Labor/Employment': {'precision': 0.5151515151515151, 'recall': 0.6071428571428571, 'f1-score': 0.5573770491803278, 'support': 28}, 'Macroeconomics/Economic Regulation': {'precision': 0.75, 'recall': 0.6290322580645161, 'f1-score': 0.6842105263157896, 'support': 62}, 'Media/Journalism': {'precision': 0.8076923076923077, 'recall': 0.4375, 'f1-score': 0.5675675675675675, 'support': 48}, 'Others': {'precision': 0.8947368421052632, 'recall': 0.7527675276752768, 'f1-score': 0.8176352705410822, 'support': 271}, 'Religion': {'precision': 0.5333333333333333, 'recall': 0.7272727272727273, 'f1-score': 0.6153846153846153, 'support': 11}, 'Science/Technology': {'precision': 0.3157894736842105, 'recall': 0.5454545454545454, 'f1-score': 0.39999999999999997, 'support': 11}, 'War/Terror': {'precision': 0.8735632183908046, 'recall': 0.8941176470588236, 'f1-score': 0.8837209302325582, 'support': 255}, 'micro avg': {'precision': 0.749809885931559, 'recall': 0.7578785549577248, 'f1-score': 0.753822629969419, 'support': 1301}, 'macro avg': {'precision': 0.6737657547176746, 'recall': 0.6657624781544642, 'f1-score': 0.6518201405023905, 'support': 1301}, 'weighted avg': {'precision': 0.774287854262526, 'recall': 0.7578785549577248, 'f1-score': 0.7574334683950238, 'support': 1301}, 'samples avg': {'precision': 0.784, 'recall': 0.7870166666666667, 'f1-score': 0.7706261904761904, 'support': 1301}}]\n",
      "5\n",
      "\n",
      "Average Validation Classification Report In DataFrame Format:\n",
      "                                    precision    recall  f1-score  support\n",
      "Conspiracy Theory                    0.480054  0.614766  0.530002     50.8\n",
      "Education                            0.792547  0.537630  0.625787     12.6\n",
      "Election Campaign                    0.856282  0.715925  0.773636     26.6\n",
      "Environment                          0.818550  0.593831  0.683844     11.6\n",
      "Government/Public                    0.757739  0.796322  0.775546    249.6\n",
      "Health                               0.873024  0.762498  0.810169     42.8\n",
      "Immigration/Integration              0.800239  0.719414  0.750005     40.2\n",
      "Justice/Crime                        0.805918  0.761000  0.780528    114.4\n",
      "Labor/Employment                     0.634754  0.608202  0.618754     19.4\n",
      "Macroeconomics/Economic Regulation   0.738004  0.621781  0.674140     50.0\n",
      "Media/Journalism                     0.752573  0.480488  0.580720     36.8\n",
      "Others                               0.891287  0.761565  0.820570    211.4\n",
      "Religion                             0.643577  0.831252  0.716893     14.2\n",
      "Science/Technology                   0.480000  0.459394  0.463451     10.8\n",
      "War/Terror                           0.868582  0.909653  0.888286    187.8\n",
      "micro avg                            0.788091  0.760958  0.774017   1079.0\n",
      "macro avg                            0.746209  0.678248  0.699489   1079.0\n",
      "weighted avg                         0.798824  0.760958  0.773756   1079.0\n",
      "samples avg                          0.800375  0.789671  0.778677   1079.0\n",
      "\n",
      "Average Test Classification Report In DataFrame Format:\n",
      "                                    precision    recall  f1-score  support\n",
      "Conspiracy Theory                    0.378374  0.586667  0.456287     45.0\n",
      "Education                            0.494118  0.615385  0.546332     13.0\n",
      "Election Campaign                    0.832506  0.739394  0.779871     33.0\n",
      "Environment                          0.774646  0.542857  0.636163     14.0\n",
      "Government/Public                    0.742522  0.764948  0.752132    291.0\n",
      "Health                               0.790058  0.556522  0.650444     46.0\n",
      "Immigration/Integration              0.749192  0.722222  0.727772     36.0\n",
      "Justice/Crime                        0.795992  0.772263  0.781934    137.0\n",
      "Labor/Employment                     0.631547  0.528571  0.561670     28.0\n",
      "Macroeconomics/Economic Regulation   0.799051  0.638710  0.708130     62.0\n",
      "Media/Journalism                     0.805447  0.458333  0.566620     48.0\n",
      "Others                               0.880387  0.765314  0.817621    271.0\n",
      "Religion                             0.504734  0.818182  0.621512     11.0\n",
      "Science/Technology                   0.468752  0.545455  0.499697     11.0\n",
      "War/Terror                           0.892219  0.890980  0.891465    255.0\n",
      "micro avg                            0.776788  0.747425  0.761590   1301.0\n",
      "macro avg                            0.702636  0.663053  0.666510   1301.0\n",
      "weighted avg                         0.793929  0.747425  0.762839   1301.0\n",
      "samples avg                          0.793683  0.781790  0.772635   1301.0\n"
     ]
    }
   ],
   "source": [
    "generic_val_average_report_df, generic_test_average_report_df = calculate_metrics(\"davinci_elaboration_first_v04_co_occurrence_generic\")"
   ]
  },
  {
   "attachments": {},
   "cell_type": "markdown",
   "metadata": {},
   "source": [
    "# EDA"
   ]
  },
  {
   "cell_type": "code",
   "execution_count": 6,
   "metadata": {},
   "outputs": [
    {
     "name": "stdout",
     "output_type": "stream",
     "text": [
      "../models/weak_labeled/eda_generic_epochs_200_train_size_full_fold_0/\n",
      "0                     ['Science/Technology']\n",
      "1                     ['Science/Technology']\n",
      "2                     ['Science/Technology']\n",
      "3                     ['Science/Technology']\n",
      "4                     ['Science/Technology']\n",
      "                        ...                 \n",
      "15995    ['Government/Public', 'War/Terror']\n",
      "15996    ['Government/Public', 'War/Terror']\n",
      "15997    ['Government/Public', 'War/Terror']\n",
      "15998    ['Government/Public', 'War/Terror']\n",
      "15999    ['Government/Public', 'War/Terror']\n",
      "Name: annotations, Length: 16000, dtype: object\n",
      "['Conspiracy Theory', 'Education', 'Election Campaign', 'Environment', 'Government/Public', 'Health', 'Immigration/Integration', 'Justice/Crime', 'Labor/Employment', 'Macroeconomics/Economic Regulation', 'Media/Journalism', 'Others', 'Religion', 'Science/Technology', 'War/Terror']\n"
     ]
    },
    {
     "name": "stderr",
     "output_type": "stream",
     "text": [
      "/tmp/ipykernel_21815/3473448682.py:37: UserWarning: To copy construct from a tensor, it is recommended to use sourceTensor.clone().detach() or sourceTensor.clone().detach().requires_grad_(True), rather than torch.tensor(sourceTensor).\n",
      "  'label': torch.tensor(label, dtype=torch.float32)}\n",
      "You're using a RobertaTokenizerFast tokenizer. Please note that with a fast tokenizer, using the `__call__` method is faster than using a method to encode the text followed by a call to the `pad` method to get a padded encoding.\n",
      "/tmp/ipykernel_21815/3473448682.py:37: UserWarning: To copy construct from a tensor, it is recommended to use sourceTensor.clone().detach() or sourceTensor.clone().detach().requires_grad_(True), rather than torch.tensor(sourceTensor).\n",
      "  'label': torch.tensor(label, dtype=torch.float32)}\n"
     ]
    },
    {
     "name": "stdout",
     "output_type": "stream",
     "text": [
      "../models/weak_labeled/eda_generic_epochs_200_train_size_full_fold_1/\n",
      "0                     ['Science/Technology']\n",
      "1                     ['Science/Technology']\n",
      "2                     ['Science/Technology']\n",
      "3                     ['Science/Technology']\n",
      "4                     ['Science/Technology']\n",
      "                        ...                 \n",
      "15995    ['Government/Public', 'War/Terror']\n",
      "15996    ['Government/Public', 'War/Terror']\n",
      "15997    ['Government/Public', 'War/Terror']\n",
      "15998    ['Government/Public', 'War/Terror']\n",
      "15999    ['Government/Public', 'War/Terror']\n",
      "Name: annotations, Length: 16000, dtype: object\n",
      "['Conspiracy Theory', 'Education', 'Election Campaign', 'Environment', 'Government/Public', 'Health', 'Immigration/Integration', 'Justice/Crime', 'Labor/Employment', 'Macroeconomics/Economic Regulation', 'Media/Journalism', 'Others', 'Religion', 'Science/Technology', 'War/Terror']\n"
     ]
    },
    {
     "name": "stderr",
     "output_type": "stream",
     "text": [
      "/tmp/ipykernel_21815/3473448682.py:37: UserWarning: To copy construct from a tensor, it is recommended to use sourceTensor.clone().detach() or sourceTensor.clone().detach().requires_grad_(True), rather than torch.tensor(sourceTensor).\n",
      "  'label': torch.tensor(label, dtype=torch.float32)}\n",
      "You're using a RobertaTokenizerFast tokenizer. Please note that with a fast tokenizer, using the `__call__` method is faster than using a method to encode the text followed by a call to the `pad` method to get a padded encoding.\n",
      "/tmp/ipykernel_21815/3473448682.py:37: UserWarning: To copy construct from a tensor, it is recommended to use sourceTensor.clone().detach() or sourceTensor.clone().detach().requires_grad_(True), rather than torch.tensor(sourceTensor).\n",
      "  'label': torch.tensor(label, dtype=torch.float32)}\n"
     ]
    },
    {
     "name": "stdout",
     "output_type": "stream",
     "text": [
      "../models/weak_labeled/eda_generic_epochs_200_train_size_full_fold_2/\n",
      "0                        ['Science/Technology']\n",
      "1                        ['Science/Technology']\n",
      "2                        ['Science/Technology']\n",
      "3                        ['Science/Technology']\n",
      "4                        ['Science/Technology']\n",
      "                          ...                  \n",
      "15995    ['Government/Public', 'Justice/Crime']\n",
      "15996    ['Government/Public', 'Justice/Crime']\n",
      "15997    ['Government/Public', 'Justice/Crime']\n",
      "15998    ['Government/Public', 'Justice/Crime']\n",
      "15999    ['Government/Public', 'Justice/Crime']\n",
      "Name: annotations, Length: 16000, dtype: object\n",
      "['Conspiracy Theory', 'Education', 'Election Campaign', 'Environment', 'Government/Public', 'Health', 'Immigration/Integration', 'Justice/Crime', 'Labor/Employment', 'Macroeconomics/Economic Regulation', 'Media/Journalism', 'Others', 'Religion', 'Science/Technology', 'War/Terror']\n"
     ]
    },
    {
     "name": "stderr",
     "output_type": "stream",
     "text": [
      "/tmp/ipykernel_21815/3473448682.py:37: UserWarning: To copy construct from a tensor, it is recommended to use sourceTensor.clone().detach() or sourceTensor.clone().detach().requires_grad_(True), rather than torch.tensor(sourceTensor).\n",
      "  'label': torch.tensor(label, dtype=torch.float32)}\n",
      "You're using a RobertaTokenizerFast tokenizer. Please note that with a fast tokenizer, using the `__call__` method is faster than using a method to encode the text followed by a call to the `pad` method to get a padded encoding.\n",
      "/tmp/ipykernel_21815/3473448682.py:37: UserWarning: To copy construct from a tensor, it is recommended to use sourceTensor.clone().detach() or sourceTensor.clone().detach().requires_grad_(True), rather than torch.tensor(sourceTensor).\n",
      "  'label': torch.tensor(label, dtype=torch.float32)}\n"
     ]
    },
    {
     "name": "stdout",
     "output_type": "stream",
     "text": [
      "../models/weak_labeled/eda_generic_epochs_200_train_size_full_fold_3/\n",
      "0                     ['Science/Technology']\n",
      "1                     ['Science/Technology']\n",
      "2                     ['Science/Technology']\n",
      "3                     ['Science/Technology']\n",
      "4                     ['Science/Technology']\n",
      "                        ...                 \n",
      "15995    ['Government/Public', 'War/Terror']\n",
      "15996    ['Government/Public', 'War/Terror']\n",
      "15997    ['Government/Public', 'War/Terror']\n",
      "15998    ['Government/Public', 'War/Terror']\n",
      "15999    ['Government/Public', 'War/Terror']\n",
      "Name: annotations, Length: 16000, dtype: object\n",
      "['Conspiracy Theory', 'Education', 'Election Campaign', 'Environment', 'Government/Public', 'Health', 'Immigration/Integration', 'Justice/Crime', 'Labor/Employment', 'Macroeconomics/Economic Regulation', 'Media/Journalism', 'Others', 'Religion', 'Science/Technology', 'War/Terror']\n"
     ]
    },
    {
     "name": "stderr",
     "output_type": "stream",
     "text": [
      "/tmp/ipykernel_21815/3473448682.py:37: UserWarning: To copy construct from a tensor, it is recommended to use sourceTensor.clone().detach() or sourceTensor.clone().detach().requires_grad_(True), rather than torch.tensor(sourceTensor).\n",
      "  'label': torch.tensor(label, dtype=torch.float32)}\n",
      "You're using a RobertaTokenizerFast tokenizer. Please note that with a fast tokenizer, using the `__call__` method is faster than using a method to encode the text followed by a call to the `pad` method to get a padded encoding.\n",
      "/tmp/ipykernel_21815/3473448682.py:37: UserWarning: To copy construct from a tensor, it is recommended to use sourceTensor.clone().detach() or sourceTensor.clone().detach().requires_grad_(True), rather than torch.tensor(sourceTensor).\n",
      "  'label': torch.tensor(label, dtype=torch.float32)}\n"
     ]
    },
    {
     "name": "stdout",
     "output_type": "stream",
     "text": [
      "../models/weak_labeled/eda_generic_epochs_200_train_size_full_fold_4/\n",
      "0                                 ['Others']\n",
      "1                                 ['Others']\n",
      "2                                 ['Others']\n",
      "3                                 ['Others']\n",
      "4                                 ['Others']\n",
      "                        ...                 \n",
      "15995    ['Government/Public', 'War/Terror']\n",
      "15996    ['Government/Public', 'War/Terror']\n",
      "15997    ['Government/Public', 'War/Terror']\n",
      "15998    ['Government/Public', 'War/Terror']\n",
      "15999    ['Government/Public', 'War/Terror']\n",
      "Name: annotations, Length: 16000, dtype: object\n",
      "['Conspiracy Theory', 'Education', 'Election Campaign', 'Environment', 'Government/Public', 'Health', 'Immigration/Integration', 'Justice/Crime', 'Labor/Employment', 'Macroeconomics/Economic Regulation', 'Media/Journalism', 'Others', 'Religion', 'Science/Technology', 'War/Terror']\n"
     ]
    },
    {
     "name": "stderr",
     "output_type": "stream",
     "text": [
      "/tmp/ipykernel_21815/3473448682.py:37: UserWarning: To copy construct from a tensor, it is recommended to use sourceTensor.clone().detach() or sourceTensor.clone().detach().requires_grad_(True), rather than torch.tensor(sourceTensor).\n",
      "  'label': torch.tensor(label, dtype=torch.float32)}\n",
      "You're using a RobertaTokenizerFast tokenizer. Please note that with a fast tokenizer, using the `__call__` method is faster than using a method to encode the text followed by a call to the `pad` method to get a padded encoding.\n",
      "/tmp/ipykernel_21815/3473448682.py:37: UserWarning: To copy construct from a tensor, it is recommended to use sourceTensor.clone().detach() or sourceTensor.clone().detach().requires_grad_(True), rather than torch.tensor(sourceTensor).\n",
      "  'label': torch.tensor(label, dtype=torch.float32)}\n"
     ]
    },
    {
     "name": "stdout",
     "output_type": "stream",
     "text": [
      "[{'Conspiracy Theory': {'precision': 0.8095238095238095, 'recall': 0.3617021276595745, 'f1-score': 0.5, 'support': 47}, 'Education': {'precision': 0.8888888888888888, 'recall': 0.6666666666666666, 'f1-score': 0.761904761904762, 'support': 12}, 'Election Campaign': {'precision': 0.7391304347826086, 'recall': 0.6538461538461539, 'f1-score': 0.693877551020408, 'support': 26}, 'Environment': {'precision': 0.8888888888888888, 'recall': 0.5714285714285714, 'f1-score': 0.6956521739130435, 'support': 14}, 'Government/Public': {'precision': 0.7644927536231884, 'recall': 0.8373015873015873, 'f1-score': 0.7992424242424242, 'support': 252}, 'Health': {'precision': 0.8163265306122449, 'recall': 0.8888888888888888, 'f1-score': 0.851063829787234, 'support': 45}, 'Immigration/Integration': {'precision': 0.7272727272727273, 'recall': 0.8, 'f1-score': 0.761904761904762, 'support': 40}, 'Justice/Crime': {'precision': 0.7521367521367521, 'recall': 0.822429906542056, 'f1-score': 0.7857142857142856, 'support': 107}, 'Labor/Employment': {'precision': 0.65, 'recall': 0.6842105263157895, 'f1-score': 0.6666666666666667, 'support': 19}, 'Macroeconomics/Economic Regulation': {'precision': 0.74, 'recall': 0.6379310344827587, 'f1-score': 0.6851851851851852, 'support': 58}, 'Media/Journalism': {'precision': 0.7857142857142857, 'recall': 0.5789473684210527, 'f1-score': 0.6666666666666667, 'support': 38}, 'Others': {'precision': 0.859375, 'recall': 0.8048780487804879, 'f1-score': 0.8312342569269522, 'support': 205}, 'Religion': {'precision': 0.7777777777777778, 'recall': 0.6363636363636364, 'f1-score': 0.7000000000000001, 'support': 22}, 'Science/Technology': {'precision': 0.42857142857142855, 'recall': 0.3, 'f1-score': 0.3529411764705882, 'support': 10}, 'War/Terror': {'precision': 0.9273743016759777, 'recall': 0.8972972972972973, 'f1-score': 0.9120879120879122, 'support': 185}, 'micro avg': {'precision': 0.8071017274472169, 'recall': 0.7787037037037037, 'f1-score': 0.7926484448633365, 'support': 1080}, 'macro avg': {'precision': 0.7703649052979054, 'recall': 0.6761261209329682, 'f1-score': 0.710942776832726, 'support': 1080}, 'weighted avg': {'precision': 0.8088820554511466, 'recall': 0.7787037037037037, 'f1-score': 0.7874878010305938, 'support': 1080}, 'samples avg': {'precision': 0.8159375, 'recall': 0.8042708333333333, 'f1-score': 0.793422619047619, 'support': 1080}}, {'Conspiracy Theory': {'precision': 0.7111111111111111, 'recall': 0.5333333333333333, 'f1-score': 0.6095238095238096, 'support': 60}, 'Education': {'precision': 0.75, 'recall': 0.5625, 'f1-score': 0.6428571428571429, 'support': 16}, 'Election Campaign': {'precision': 0.825, 'recall': 0.9428571428571428, 'f1-score': 0.88, 'support': 35}, 'Environment': {'precision': 1.0, 'recall': 0.35714285714285715, 'f1-score': 0.5263157894736842, 'support': 14}, 'Government/Public': {'precision': 0.71280276816609, 'recall': 0.8442622950819673, 'f1-score': 0.7729831144465291, 'support': 244}, 'Health': {'precision': 0.8, 'recall': 0.6829268292682927, 'f1-score': 0.736842105263158, 'support': 41}, 'Immigration/Integration': {'precision': 0.8205128205128205, 'recall': 0.7111111111111111, 'f1-score': 0.7619047619047619, 'support': 45}, 'Justice/Crime': {'precision': 0.7543859649122807, 'recall': 0.7818181818181819, 'f1-score': 0.7678571428571429, 'support': 110}, 'Labor/Employment': {'precision': 0.7857142857142857, 'recall': 0.6875, 'f1-score': 0.7333333333333334, 'support': 16}, 'Macroeconomics/Economic Regulation': {'precision': 0.7714285714285715, 'recall': 0.54, 'f1-score': 0.6352941176470589, 'support': 50}, 'Media/Journalism': {'precision': 0.75, 'recall': 0.65625, 'f1-score': 0.7, 'support': 32}, 'Others': {'precision': 0.8421052631578947, 'recall': 0.7619047619047619, 'f1-score': 0.8, 'support': 231}, 'Religion': {'precision': 1.0, 'recall': 0.2857142857142857, 'f1-score': 0.4444444444444445, 'support': 14}, 'Science/Technology': {'precision': 1.0, 'recall': 0.14285714285714285, 'f1-score': 0.25, 'support': 14}, 'War/Terror': {'precision': 0.9060773480662984, 'recall': 0.9213483146067416, 'f1-score': 0.913649025069638, 'support': 178}, 'micro avg': {'precision': 0.7946768060836502, 'recall': 0.76, 'f1-score': 0.7769516728624536, 'support': 1100}, 'macro avg': {'precision': 0.8286092088712902, 'recall': 0.6274350837130546, 'f1-score': 0.6783336524547136, 'support': 1100}, 'weighted avg': {'precision': 0.8028381964097748, 'recall': 0.76, 'f1-score': 0.7687670527734737, 'support': 1100}, 'samples avg': {'precision': 0.7951041666666667, 'recall': 0.7825, 'f1-score': 0.7728065476190477, 'support': 1100}}, {'Conspiracy Theory': {'precision': 0.56, 'recall': 0.3181818181818182, 'f1-score': 0.4057971014492754, 'support': 44}, 'Education': {'precision': 0.7777777777777778, 'recall': 0.6363636363636364, 'f1-score': 0.7000000000000001, 'support': 11}, 'Election Campaign': {'precision': 0.8571428571428571, 'recall': 0.48, 'f1-score': 0.6153846153846153, 'support': 25}, 'Environment': {'precision': 1.0, 'recall': 0.5454545454545454, 'f1-score': 0.7058823529411764, 'support': 11}, 'Government/Public': {'precision': 0.7381818181818182, 'recall': 0.8185483870967742, 'f1-score': 0.7762906309751435, 'support': 248}, 'Health': {'precision': 0.8333333333333334, 'recall': 0.625, 'f1-score': 0.7142857142857143, 'support': 40}, 'Immigration/Integration': {'precision': 0.7142857142857143, 'recall': 0.6896551724137931, 'f1-score': 0.7017543859649122, 'support': 29}, 'Justice/Crime': {'precision': 0.7218045112781954, 'recall': 0.8347826086956521, 'f1-score': 0.7741935483870966, 'support': 115}, 'Labor/Employment': {'precision': 0.8, 'recall': 0.2, 'f1-score': 0.32000000000000006, 'support': 20}, 'Macroeconomics/Economic Regulation': {'precision': 0.6976744186046512, 'recall': 0.625, 'f1-score': 0.6593406593406593, 'support': 48}, 'Media/Journalism': {'precision': 0.7272727272727273, 'recall': 0.7111111111111111, 'f1-score': 0.7191011235955056, 'support': 45}, 'Others': {'precision': 0.8742138364779874, 'recall': 0.6587677725118484, 'f1-score': 0.7513513513513514, 'support': 211}, 'Religion': {'precision': 0.4, 'recall': 0.2, 'f1-score': 0.26666666666666666, 'support': 10}, 'Science/Technology': {'precision': 1.0, 'recall': 0.18181818181818182, 'f1-score': 0.3076923076923077, 'support': 11}, 'War/Terror': {'precision': 0.8779342723004695, 'recall': 0.935, 'f1-score': 0.9055690072639225, 'support': 200}, 'micro avg': {'precision': 0.786074672048436, 'recall': 0.7294007490636704, 'f1-score': 0.7566779990286546, 'support': 1068}, 'macro avg': {'precision': 0.7719747511103688, 'recall': 0.5639788822431574, 'f1-score': 0.6215539643532233, 'support': 1068}, 'weighted avg': {'precision': 0.7893351821302197, 'recall': 0.7294007490636704, 'f1-score': 0.7446508940925565, 'support': 1068}, 'samples avg': {'precision': 0.781875, 'recall': 0.7572916666666667, 'f1-score': 0.7505773809523809, 'support': 1068}}, {'Conspiracy Theory': {'precision': 0.7333333333333333, 'recall': 0.4583333333333333, 'f1-score': 0.5641025641025641, 'support': 48}, 'Education': {'precision': 0.5, 'recall': 0.3, 'f1-score': 0.37499999999999994, 'support': 10}, 'Election Campaign': {'precision': 0.8823529411764706, 'recall': 0.625, 'f1-score': 0.7317073170731708, 'support': 24}, 'Environment': {'precision': 0.5, 'recall': 0.5, 'f1-score': 0.5, 'support': 8}, 'Government/Public': {'precision': 0.8008658008658008, 'recall': 0.74, 'f1-score': 0.7692307692307692, 'support': 250}, 'Health': {'precision': 0.8775510204081632, 'recall': 0.8775510204081632, 'f1-score': 0.8775510204081631, 'support': 49}, 'Immigration/Integration': {'precision': 0.7916666666666666, 'recall': 0.8444444444444444, 'f1-score': 0.8172043010752689, 'support': 45}, 'Justice/Crime': {'precision': 0.8301886792452831, 'recall': 0.7586206896551724, 'f1-score': 0.7927927927927928, 'support': 116}, 'Labor/Employment': {'precision': 1.0, 'recall': 0.4166666666666667, 'f1-score': 0.5882352941176471, 'support': 24}, 'Macroeconomics/Economic Regulation': {'precision': 0.8679245283018868, 'recall': 0.8214285714285714, 'f1-score': 0.8440366972477065, 'support': 56}, 'Media/Journalism': {'precision': 0.6571428571428571, 'recall': 0.5897435897435898, 'f1-score': 0.6216216216216216, 'support': 39}, 'Others': {'precision': 0.8128342245989305, 'recall': 0.8085106382978723, 'f1-score': 0.8106666666666668, 'support': 188}, 'Religion': {'precision': 0.7777777777777778, 'recall': 0.875, 'f1-score': 0.823529411764706, 'support': 16}, 'Science/Technology': {'precision': 0.25, 'recall': 0.14285714285714285, 'f1-score': 0.18181818181818182, 'support': 7}, 'War/Terror': {'precision': 0.91, 'recall': 0.9191919191919192, 'f1-score': 0.9145728643216081, 'support': 198}, 'micro avg': {'precision': 0.8243512974051896, 'recall': 0.7662337662337663, 'f1-score': 0.7942307692307694, 'support': 1078}, 'macro avg': {'precision': 0.7461091886344781, 'recall': 0.6451565344017917, 'f1-score': 0.6808046334827245, 'support': 1078}, 'weighted avg': {'precision': 0.8218362071239876, 'recall': 0.7662337662337663, 'f1-score': 0.7884978220636689, 'support': 1078}, 'samples avg': {'precision': 0.8316666666666667, 'recall': 0.8037708333333333, 'f1-score': 0.7991458333333332, 'support': 1078}}, {'Conspiracy Theory': {'precision': 0.6896551724137931, 'recall': 0.36363636363636365, 'f1-score': 0.47619047619047616, 'support': 55}, 'Education': {'precision': 0.8, 'recall': 0.5714285714285714, 'f1-score': 0.6666666666666666, 'support': 14}, 'Election Campaign': {'precision': 0.7391304347826086, 'recall': 0.7391304347826086, 'f1-score': 0.7391304347826085, 'support': 23}, 'Environment': {'precision': 0.8571428571428571, 'recall': 0.5454545454545454, 'f1-score': 0.6666666666666665, 'support': 11}, 'Government/Public': {'precision': 0.7613168724279835, 'recall': 0.7283464566929134, 'f1-score': 0.744466800804829, 'support': 254}, 'Health': {'precision': 0.825, 'recall': 0.8461538461538461, 'f1-score': 0.8354430379746836, 'support': 39}, 'Immigration/Integration': {'precision': 0.9166666666666666, 'recall': 0.5238095238095238, 'f1-score': 0.6666666666666667, 'support': 42}, 'Justice/Crime': {'precision': 0.8, 'recall': 0.7419354838709677, 'f1-score': 0.7698744769874478, 'support': 124}, 'Labor/Employment': {'precision': 0.5714285714285714, 'recall': 0.2222222222222222, 'f1-score': 0.32, 'support': 18}, 'Macroeconomics/Economic Regulation': {'precision': 0.75, 'recall': 0.7105263157894737, 'f1-score': 0.7297297297297298, 'support': 38}, 'Media/Journalism': {'precision': 0.5714285714285714, 'recall': 0.6666666666666666, 'f1-score': 0.6153846153846153, 'support': 30}, 'Others': {'precision': 0.8673469387755102, 'recall': 0.7657657657657657, 'f1-score': 0.8133971291866028, 'support': 222}, 'Religion': {'precision': 0.6666666666666666, 'recall': 0.4444444444444444, 'f1-score': 0.5333333333333333, 'support': 9}, 'Science/Technology': {'precision': 0.36363636363636365, 'recall': 0.3333333333333333, 'f1-score': 0.34782608695652173, 'support': 12}, 'War/Terror': {'precision': 0.8956043956043956, 'recall': 0.9157303370786517, 'f1-score': 0.9055555555555556, 'support': 178}, 'micro avg': {'precision': 0.803941908713693, 'recall': 0.724976613657624, 'f1-score': 0.7624200688637482, 'support': 1069}, 'macro avg': {'precision': 0.7383349007315991, 'recall': 0.6079056207419932, 'f1-score': 0.6553554451257602, 'support': 1069}, 'weighted avg': {'precision': 0.8017492068531257, 'recall': 0.724976613657624, 'f1-score': 0.7555534674388089, 'support': 1069}, 'samples avg': {'precision': 0.79875, 'recall': 0.7580208333333333, 'f1-score': 0.7603988095238094, 'support': 1069}}]\n",
      "5\n",
      "[{'Conspiracy Theory': {'precision': 0.7647058823529411, 'recall': 0.28888888888888886, 'f1-score': 0.41935483870967744, 'support': 45}, 'Education': {'precision': 0.5454545454545454, 'recall': 0.46153846153846156, 'f1-score': 0.4999999999999999, 'support': 13}, 'Election Campaign': {'precision': 0.8125, 'recall': 0.7878787878787878, 'f1-score': 0.8, 'support': 33}, 'Environment': {'precision': 0.8888888888888888, 'recall': 0.5714285714285714, 'f1-score': 0.6956521739130435, 'support': 14}, 'Government/Public': {'precision': 0.7306397306397306, 'recall': 0.7457044673539519, 'f1-score': 0.7380952380952381, 'support': 291}, 'Health': {'precision': 0.725, 'recall': 0.6304347826086957, 'f1-score': 0.6744186046511628, 'support': 46}, 'Immigration/Integration': {'precision': 0.7317073170731707, 'recall': 0.8333333333333334, 'f1-score': 0.7792207792207793, 'support': 36}, 'Justice/Crime': {'precision': 0.7692307692307693, 'recall': 0.8759124087591241, 'f1-score': 0.8191126279863481, 'support': 137}, 'Labor/Employment': {'precision': 0.6842105263157895, 'recall': 0.4642857142857143, 'f1-score': 0.5531914893617021, 'support': 28}, 'Macroeconomics/Economic Regulation': {'precision': 0.813953488372093, 'recall': 0.5645161290322581, 'f1-score': 0.6666666666666667, 'support': 62}, 'Media/Journalism': {'precision': 0.7105263157894737, 'recall': 0.5625, 'f1-score': 0.627906976744186, 'support': 48}, 'Others': {'precision': 0.8408163265306122, 'recall': 0.7601476014760148, 'f1-score': 0.7984496124031008, 'support': 271}, 'Religion': {'precision': 0.5714285714285714, 'recall': 0.7272727272727273, 'f1-score': 0.64, 'support': 11}, 'Science/Technology': {'precision': 0.3333333333333333, 'recall': 0.36363636363636365, 'f1-score': 0.34782608695652173, 'support': 11}, 'War/Terror': {'precision': 0.9367088607594937, 'recall': 0.8705882352941177, 'f1-score': 0.9024390243902438, 'support': 255}, 'micro avg': {'precision': 0.7960363336085879, 'recall': 0.740968485780169, 'f1-score': 0.767515923566879, 'support': 1301}, 'macro avg': {'precision': 0.7239403037446276, 'recall': 0.6338710981858007, 'f1-score': 0.6641556079399114, 'support': 1301}, 'weighted avg': {'precision': 0.7985046101201394, 'recall': 0.740968485780169, 'f1-score': 0.7624285621974787, 'support': 1301}, 'samples avg': {'precision': 0.8013333333333333, 'recall': 0.7788166666666666, 'f1-score': 0.7735047619047618, 'support': 1301}}, {'Conspiracy Theory': {'precision': 0.475, 'recall': 0.4222222222222222, 'f1-score': 0.4470588235294118, 'support': 45}, 'Education': {'precision': 0.5, 'recall': 0.5384615384615384, 'f1-score': 0.5185185185185186, 'support': 13}, 'Election Campaign': {'precision': 0.7297297297297297, 'recall': 0.8181818181818182, 'f1-score': 0.7714285714285715, 'support': 33}, 'Environment': {'precision': 0.875, 'recall': 0.5, 'f1-score': 0.6363636363636364, 'support': 14}, 'Government/Public': {'precision': 0.7414330218068536, 'recall': 0.8178694158075601, 'f1-score': 0.7777777777777777, 'support': 291}, 'Health': {'precision': 0.7777777777777778, 'recall': 0.6086956521739131, 'f1-score': 0.6829268292682927, 'support': 46}, 'Immigration/Integration': {'precision': 0.9032258064516129, 'recall': 0.7777777777777778, 'f1-score': 0.835820895522388, 'support': 36}, 'Justice/Crime': {'precision': 0.8161764705882353, 'recall': 0.8102189781021898, 'f1-score': 0.8131868131868132, 'support': 137}, 'Labor/Employment': {'precision': 0.6842105263157895, 'recall': 0.4642857142857143, 'f1-score': 0.5531914893617021, 'support': 28}, 'Macroeconomics/Economic Regulation': {'precision': 0.875, 'recall': 0.5645161290322581, 'f1-score': 0.6862745098039217, 'support': 62}, 'Media/Journalism': {'precision': 0.825, 'recall': 0.6875, 'f1-score': 0.75, 'support': 48}, 'Others': {'precision': 0.8164794007490637, 'recall': 0.8044280442804428, 'f1-score': 0.8104089219330854, 'support': 271}, 'Religion': {'precision': 0.5, 'recall': 0.2727272727272727, 'f1-score': 0.3529411764705882, 'support': 11}, 'Science/Technology': {'precision': 0.75, 'recall': 0.2727272727272727, 'f1-score': 0.39999999999999997, 'support': 11}, 'War/Terror': {'precision': 0.9357429718875502, 'recall': 0.9137254901960784, 'f1-score': 0.9246031746031745, 'support': 255}, 'micro avg': {'precision': 0.8036858974358975, 'recall': 0.7709454265949269, 'f1-score': 0.7869752844252647, 'support': 1301}, 'macro avg': {'precision': 0.7469850470204408, 'recall': 0.618222488398404, 'f1-score': 0.6640334091845256, 'support': 1301}, 'weighted avg': {'precision': 0.8045437693148834, 'recall': 0.7709454265949269, 'f1-score': 0.7826165229129094, 'support': 1301}, 'samples avg': {'precision': 0.81475, 'recall': 0.7980499999999999, 'f1-score': 0.7927269841269841, 'support': 1301}}, {'Conspiracy Theory': {'precision': 0.53125, 'recall': 0.37777777777777777, 'f1-score': 0.4415584415584416, 'support': 45}, 'Education': {'precision': 0.46153846153846156, 'recall': 0.46153846153846156, 'f1-score': 0.46153846153846156, 'support': 13}, 'Election Campaign': {'precision': 0.8518518518518519, 'recall': 0.696969696969697, 'f1-score': 0.7666666666666667, 'support': 33}, 'Environment': {'precision': 0.8, 'recall': 0.5714285714285714, 'f1-score': 0.6666666666666666, 'support': 14}, 'Government/Public': {'precision': 0.7263513513513513, 'recall': 0.738831615120275, 'f1-score': 0.7325383304940375, 'support': 291}, 'Health': {'precision': 0.8125, 'recall': 0.5652173913043478, 'f1-score': 0.6666666666666667, 'support': 46}, 'Immigration/Integration': {'precision': 0.8181818181818182, 'recall': 0.75, 'f1-score': 0.7826086956521738, 'support': 36}, 'Justice/Crime': {'precision': 0.7619047619047619, 'recall': 0.8175182481751825, 'f1-score': 0.7887323943661972, 'support': 137}, 'Labor/Employment': {'precision': 1.0, 'recall': 0.4642857142857143, 'f1-score': 0.6341463414634146, 'support': 28}, 'Macroeconomics/Economic Regulation': {'precision': 0.7307692307692307, 'recall': 0.6129032258064516, 'f1-score': 0.6666666666666667, 'support': 62}, 'Media/Journalism': {'precision': 0.6666666666666666, 'recall': 0.5833333333333334, 'f1-score': 0.6222222222222222, 'support': 48}, 'Others': {'precision': 0.8577405857740585, 'recall': 0.7564575645756457, 'f1-score': 0.8039215686274509, 'support': 271}, 'Religion': {'precision': 0.5, 'recall': 0.18181818181818182, 'f1-score': 0.26666666666666666, 'support': 11}, 'Science/Technology': {'precision': 1.0, 'recall': 0.18181818181818182, 'f1-score': 0.3076923076923077, 'support': 11}, 'War/Terror': {'precision': 0.9140625, 'recall': 0.9176470588235294, 'f1-score': 0.9158512720156556, 'support': 255}, 'micro avg': {'precision': 0.7979966611018364, 'recall': 0.7348193697156034, 'f1-score': 0.7651060424169669, 'support': 1301}, 'macro avg': {'precision': 0.7621878152025467, 'recall': 0.5785030015183568, 'f1-score': 0.6349428912642466, 'support': 1301}, 'weighted avg': {'precision': 0.798722083583639, 'recall': 0.7348193697156034, 'f1-score': 0.7588377408581841, 'support': 1301}, 'samples avg': {'precision': 0.8045, 'recall': 0.77365, 'f1-score': 0.7733380952380952, 'support': 1301}}, {'Conspiracy Theory': {'precision': 0.5625, 'recall': 0.4, 'f1-score': 0.4675324675324675, 'support': 45}, 'Education': {'precision': 0.46153846153846156, 'recall': 0.46153846153846156, 'f1-score': 0.46153846153846156, 'support': 13}, 'Election Campaign': {'precision': 0.875, 'recall': 0.6363636363636364, 'f1-score': 0.7368421052631579, 'support': 33}, 'Environment': {'precision': 0.6428571428571429, 'recall': 0.6428571428571429, 'f1-score': 0.6428571428571429, 'support': 14}, 'Government/Public': {'precision': 0.7786561264822134, 'recall': 0.6769759450171822, 'f1-score': 0.7242647058823529, 'support': 291}, 'Health': {'precision': 0.6382978723404256, 'recall': 0.6521739130434783, 'f1-score': 0.6451612903225806, 'support': 46}, 'Immigration/Integration': {'precision': 0.78125, 'recall': 0.6944444444444444, 'f1-score': 0.7352941176470588, 'support': 36}, 'Justice/Crime': {'precision': 0.8571428571428571, 'recall': 0.7883211678832117, 'f1-score': 0.8212927756653992, 'support': 137}, 'Labor/Employment': {'precision': 0.7368421052631579, 'recall': 0.5, 'f1-score': 0.5957446808510638, 'support': 28}, 'Macroeconomics/Economic Regulation': {'precision': 0.7142857142857143, 'recall': 0.7258064516129032, 'f1-score': 0.7200000000000001, 'support': 62}, 'Media/Journalism': {'precision': 0.66, 'recall': 0.6875, 'f1-score': 0.673469387755102, 'support': 48}, 'Others': {'precision': 0.7948717948717948, 'recall': 0.8007380073800738, 'f1-score': 0.7977941176470588, 'support': 271}, 'Religion': {'precision': 0.5625, 'recall': 0.8181818181818182, 'f1-score': 0.6666666666666666, 'support': 11}, 'Science/Technology': {'precision': 0.7142857142857143, 'recall': 0.45454545454545453, 'f1-score': 0.5555555555555556, 'support': 11}, 'War/Terror': {'precision': 0.9317269076305221, 'recall': 0.9098039215686274, 'f1-score': 0.9206349206349207, 'support': 255}, 'micro avg': {'precision': 0.7955665024630542, 'recall': 0.7448116833205227, 'f1-score': 0.7693529178245335, 'support': 1301}, 'macro avg': {'precision': 0.7141169797798668, 'recall': 0.656616690962429, 'f1-score': 0.6776432263879325, 'support': 1301}, 'weighted avg': {'precision': 0.7950301770244584, 'recall': 0.7448116833205227, 'f1-score': 0.7669768136398765, 'support': 1301}, 'samples avg': {'precision': 0.8069166666666667, 'recall': 0.77855, 'f1-score': 0.777838888888889, 'support': 1301}}, {'Conspiracy Theory': {'precision': 0.6428571428571429, 'recall': 0.4, 'f1-score': 0.4931506849315069, 'support': 45}, 'Education': {'precision': 0.5384615384615384, 'recall': 0.5384615384615384, 'f1-score': 0.5384615384615384, 'support': 13}, 'Election Campaign': {'precision': 0.84375, 'recall': 0.8181818181818182, 'f1-score': 0.8307692307692308, 'support': 33}, 'Environment': {'precision': 1.0, 'recall': 0.5, 'f1-score': 0.6666666666666666, 'support': 14}, 'Government/Public': {'precision': 0.7191780821917808, 'recall': 0.7216494845360825, 'f1-score': 0.7204116638078901, 'support': 291}, 'Health': {'precision': 0.75, 'recall': 0.5869565217391305, 'f1-score': 0.6585365853658538, 'support': 46}, 'Immigration/Integration': {'precision': 0.8333333333333334, 'recall': 0.6944444444444444, 'f1-score': 0.7575757575757577, 'support': 36}, 'Justice/Crime': {'precision': 0.8372093023255814, 'recall': 0.7883211678832117, 'f1-score': 0.81203007518797, 'support': 137}, 'Labor/Employment': {'precision': 0.7, 'recall': 0.5, 'f1-score': 0.5833333333333334, 'support': 28}, 'Macroeconomics/Economic Regulation': {'precision': 0.7547169811320755, 'recall': 0.6451612903225806, 'f1-score': 0.6956521739130435, 'support': 62}, 'Media/Journalism': {'precision': 0.72, 'recall': 0.75, 'f1-score': 0.7346938775510204, 'support': 48}, 'Others': {'precision': 0.8904109589041096, 'recall': 0.7195571955719557, 'f1-score': 0.7959183673469388, 'support': 271}, 'Religion': {'precision': 0.6666666666666666, 'recall': 0.18181818181818182, 'f1-score': 0.28571428571428575, 'support': 11}, 'Science/Technology': {'precision': 0.45454545454545453, 'recall': 0.45454545454545453, 'f1-score': 0.45454545454545453, 'support': 11}, 'War/Terror': {'precision': 0.9011406844106464, 'recall': 0.9294117647058824, 'f1-score': 0.9150579150579151, 'support': 255}, 'micro avg': {'precision': 0.8077571669477235, 'recall': 0.7363566487317448, 'f1-score': 0.7704061117812626, 'support': 1301}, 'macro avg': {'precision': 0.7501513429885553, 'recall': 0.6152339241473521, 'f1-score': 0.6628345073485604, 'support': 1301}, 'weighted avg': {'precision': 0.8075548411346926, 'recall': 0.7363566487317448, 'f1-score': 0.7657950812537103, 'support': 1301}, 'samples avg': {'precision': 0.8026666666666666, 'recall': 0.7683499999999999, 'f1-score': 0.7701214285714285, 'support': 1301}}]\n",
      "5\n",
      "\n",
      "Average Validation Classification Report In DataFrame Format:\n",
      "                                    precision    recall  f1-score  support\n",
      "Conspiracy Theory                    0.700725  0.407037  0.511123     50.8\n",
      "Education                            0.743333  0.547392  0.629286     12.6\n",
      "Election Campaign                    0.808551  0.688167  0.732020     26.6\n",
      "Environment                          0.849206  0.503896  0.618903     11.6\n",
      "Government/Public                    0.755532  0.793692  0.772443    249.6\n",
      "Health                               0.830442  0.784104  0.803037     42.8\n",
      "Immigration/Integration              0.794081  0.713804  0.741887     40.2\n",
      "Justice/Crime                        0.771703  0.787917  0.778086    114.4\n",
      "Labor/Employment                     0.761429  0.442120  0.525647     19.4\n",
      "Macroeconomics/Economic Regulation   0.765406  0.666977  0.710717     50.0\n",
      "Media/Journalism                     0.698312  0.640544  0.664555     36.8\n",
      "Others                               0.851175  0.759965  0.801330    211.4\n",
      "Religion                             0.724444  0.488304  0.553595     14.2\n",
      "Science/Technology                   0.608442  0.220173  0.288056     10.8\n",
      "War/Terror                           0.903398  0.917714  0.910287    187.8\n",
      "micro avg                            0.803229  0.751863  0.776586   1079.0\n",
      "macro avg                            0.771079  0.624120  0.669398   1079.0\n",
      "weighted avg                         0.804928  0.751863  0.768991   1079.0\n",
      "samples avg                          0.804667  0.781171  0.775270   1079.0\n",
      "\n",
      "Average Test Classification Report In DataFrame Format:\n",
      "                                    precision    recall  f1-score  support\n",
      "Conspiracy Theory                    0.595263  0.377778  0.453731     45.0\n",
      "Education                            0.501399  0.492308  0.496011     13.0\n",
      "Election Campaign                    0.822566  0.751515  0.781141     33.0\n",
      "Environment                          0.841349  0.557143  0.661641     14.0\n",
      "Government/Public                    0.739252  0.740206  0.738618    291.0\n",
      "Health                               0.740715  0.608696  0.665542     46.0\n",
      "Immigration/Integration              0.813540  0.750000  0.778104     36.0\n",
      "Justice/Crime                        0.808333  0.816058  0.810871    137.0\n",
      "Labor/Employment                     0.761053  0.478571  0.583921     28.0\n",
      "Macroeconomics/Economic Regulation   0.777745  0.622581  0.687052     62.0\n",
      "Media/Journalism                     0.716439  0.654167  0.681658     48.0\n",
      "Others                               0.840064  0.768266  0.801299    271.0\n",
      "Religion                             0.560119  0.436364  0.442398     11.0\n",
      "Science/Technology                   0.650433  0.345455  0.413124     11.0\n",
      "War/Terror                           0.923876  0.908235  0.915717    255.0\n",
      "micro avg                            0.800209  0.745580  0.771871   1301.0\n",
      "macro avg                            0.739476  0.620489  0.660722   1301.0\n",
      "weighted avg                         0.800871  0.745580  0.767331   1301.0\n",
      "samples avg                          0.806033  0.779483  0.777506   1301.0\n"
     ]
    }
   ],
   "source": [
    "generic_val_average_report_df, generic_test_average_report_df = calculate_metrics(\"eda_generic\")"
   ]
  },
  {
   "cell_type": "code",
   "execution_count": 7,
   "metadata": {},
   "outputs": [
    {
     "name": "stdout",
     "output_type": "stream",
     "text": [
      "../models/weak_labeled/eda_alpha_0_05_n_aug_8_generic_epochs_200_train_size_full_fold_0/\n",
      "0                     ['Science/Technology']\n",
      "1                     ['Science/Technology']\n",
      "2                     ['Science/Technology']\n",
      "3                     ['Science/Technology']\n",
      "4                     ['Science/Technology']\n",
      "                        ...                 \n",
      "28795    ['Government/Public', 'War/Terror']\n",
      "28796    ['Government/Public', 'War/Terror']\n",
      "28797    ['Government/Public', 'War/Terror']\n",
      "28798    ['Government/Public', 'War/Terror']\n",
      "28799    ['Government/Public', 'War/Terror']\n",
      "Name: annotations, Length: 28800, dtype: object\n",
      "['Conspiracy Theory', 'Education', 'Election Campaign', 'Environment', 'Government/Public', 'Health', 'Immigration/Integration', 'Justice/Crime', 'Labor/Employment', 'Macroeconomics/Economic Regulation', 'Media/Journalism', 'Others', 'Religion', 'Science/Technology', 'War/Terror']\n"
     ]
    },
    {
     "name": "stderr",
     "output_type": "stream",
     "text": [
      "/tmp/ipykernel_21815/3473448682.py:37: UserWarning: To copy construct from a tensor, it is recommended to use sourceTensor.clone().detach() or sourceTensor.clone().detach().requires_grad_(True), rather than torch.tensor(sourceTensor).\n",
      "  'label': torch.tensor(label, dtype=torch.float32)}\n",
      "You're using a RobertaTokenizerFast tokenizer. Please note that with a fast tokenizer, using the `__call__` method is faster than using a method to encode the text followed by a call to the `pad` method to get a padded encoding.\n",
      "/tmp/ipykernel_21815/3473448682.py:37: UserWarning: To copy construct from a tensor, it is recommended to use sourceTensor.clone().detach() or sourceTensor.clone().detach().requires_grad_(True), rather than torch.tensor(sourceTensor).\n",
      "  'label': torch.tensor(label, dtype=torch.float32)}\n"
     ]
    },
    {
     "name": "stdout",
     "output_type": "stream",
     "text": [
      "../models/weak_labeled/eda_alpha_0_05_n_aug_8_generic_epochs_200_train_size_full_fold_1/\n",
      "0                     ['Science/Technology']\n",
      "1                     ['Science/Technology']\n",
      "2                     ['Science/Technology']\n",
      "3                     ['Science/Technology']\n",
      "4                     ['Science/Technology']\n",
      "                        ...                 \n",
      "28795    ['Government/Public', 'War/Terror']\n",
      "28796    ['Government/Public', 'War/Terror']\n",
      "28797    ['Government/Public', 'War/Terror']\n",
      "28798    ['Government/Public', 'War/Terror']\n",
      "28799    ['Government/Public', 'War/Terror']\n",
      "Name: annotations, Length: 28800, dtype: object\n",
      "['Conspiracy Theory', 'Education', 'Election Campaign', 'Environment', 'Government/Public', 'Health', 'Immigration/Integration', 'Justice/Crime', 'Labor/Employment', 'Macroeconomics/Economic Regulation', 'Media/Journalism', 'Others', 'Religion', 'Science/Technology', 'War/Terror']\n"
     ]
    },
    {
     "name": "stderr",
     "output_type": "stream",
     "text": [
      "/tmp/ipykernel_21815/3473448682.py:37: UserWarning: To copy construct from a tensor, it is recommended to use sourceTensor.clone().detach() or sourceTensor.clone().detach().requires_grad_(True), rather than torch.tensor(sourceTensor).\n",
      "  'label': torch.tensor(label, dtype=torch.float32)}\n",
      "You're using a RobertaTokenizerFast tokenizer. Please note that with a fast tokenizer, using the `__call__` method is faster than using a method to encode the text followed by a call to the `pad` method to get a padded encoding.\n",
      "/tmp/ipykernel_21815/3473448682.py:37: UserWarning: To copy construct from a tensor, it is recommended to use sourceTensor.clone().detach() or sourceTensor.clone().detach().requires_grad_(True), rather than torch.tensor(sourceTensor).\n",
      "  'label': torch.tensor(label, dtype=torch.float32)}\n"
     ]
    },
    {
     "name": "stdout",
     "output_type": "stream",
     "text": [
      "../models/weak_labeled/eda_alpha_0_05_n_aug_8_generic_epochs_200_train_size_full_fold_2/\n",
      "0                        ['Science/Technology']\n",
      "1                        ['Science/Technology']\n",
      "2                        ['Science/Technology']\n",
      "3                        ['Science/Technology']\n",
      "4                        ['Science/Technology']\n",
      "                          ...                  \n",
      "28795    ['Government/Public', 'Justice/Crime']\n",
      "28796    ['Government/Public', 'Justice/Crime']\n",
      "28797    ['Government/Public', 'Justice/Crime']\n",
      "28798    ['Government/Public', 'Justice/Crime']\n",
      "28799    ['Government/Public', 'Justice/Crime']\n",
      "Name: annotations, Length: 28800, dtype: object\n",
      "['Conspiracy Theory', 'Education', 'Election Campaign', 'Environment', 'Government/Public', 'Health', 'Immigration/Integration', 'Justice/Crime', 'Labor/Employment', 'Macroeconomics/Economic Regulation', 'Media/Journalism', 'Others', 'Religion', 'Science/Technology', 'War/Terror']\n"
     ]
    },
    {
     "name": "stderr",
     "output_type": "stream",
     "text": [
      "/tmp/ipykernel_21815/3473448682.py:37: UserWarning: To copy construct from a tensor, it is recommended to use sourceTensor.clone().detach() or sourceTensor.clone().detach().requires_grad_(True), rather than torch.tensor(sourceTensor).\n",
      "  'label': torch.tensor(label, dtype=torch.float32)}\n",
      "You're using a RobertaTokenizerFast tokenizer. Please note that with a fast tokenizer, using the `__call__` method is faster than using a method to encode the text followed by a call to the `pad` method to get a padded encoding.\n",
      "/tmp/ipykernel_21815/3473448682.py:37: UserWarning: To copy construct from a tensor, it is recommended to use sourceTensor.clone().detach() or sourceTensor.clone().detach().requires_grad_(True), rather than torch.tensor(sourceTensor).\n",
      "  'label': torch.tensor(label, dtype=torch.float32)}\n"
     ]
    },
    {
     "name": "stdout",
     "output_type": "stream",
     "text": [
      "../models/weak_labeled/eda_alpha_0_05_n_aug_8_generic_epochs_200_train_size_full_fold_3/\n",
      "0                     ['Science/Technology']\n",
      "1                     ['Science/Technology']\n",
      "2                     ['Science/Technology']\n",
      "3                     ['Science/Technology']\n",
      "4                     ['Science/Technology']\n",
      "                        ...                 \n",
      "28795    ['Government/Public', 'War/Terror']\n",
      "28796    ['Government/Public', 'War/Terror']\n",
      "28797    ['Government/Public', 'War/Terror']\n",
      "28798    ['Government/Public', 'War/Terror']\n",
      "28799    ['Government/Public', 'War/Terror']\n",
      "Name: annotations, Length: 28800, dtype: object\n",
      "['Conspiracy Theory', 'Education', 'Election Campaign', 'Environment', 'Government/Public', 'Health', 'Immigration/Integration', 'Justice/Crime', 'Labor/Employment', 'Macroeconomics/Economic Regulation', 'Media/Journalism', 'Others', 'Religion', 'Science/Technology', 'War/Terror']\n"
     ]
    },
    {
     "name": "stderr",
     "output_type": "stream",
     "text": [
      "/tmp/ipykernel_21815/3473448682.py:37: UserWarning: To copy construct from a tensor, it is recommended to use sourceTensor.clone().detach() or sourceTensor.clone().detach().requires_grad_(True), rather than torch.tensor(sourceTensor).\n",
      "  'label': torch.tensor(label, dtype=torch.float32)}\n",
      "You're using a RobertaTokenizerFast tokenizer. Please note that with a fast tokenizer, using the `__call__` method is faster than using a method to encode the text followed by a call to the `pad` method to get a padded encoding.\n",
      "/tmp/ipykernel_21815/3473448682.py:37: UserWarning: To copy construct from a tensor, it is recommended to use sourceTensor.clone().detach() or sourceTensor.clone().detach().requires_grad_(True), rather than torch.tensor(sourceTensor).\n",
      "  'label': torch.tensor(label, dtype=torch.float32)}\n"
     ]
    },
    {
     "name": "stdout",
     "output_type": "stream",
     "text": [
      "../models/weak_labeled/eda_alpha_0_05_n_aug_8_generic_epochs_200_train_size_full_fold_4/\n",
      "0                                 ['Others']\n",
      "1                                 ['Others']\n",
      "2                                 ['Others']\n",
      "3                                 ['Others']\n",
      "4                                 ['Others']\n",
      "                        ...                 \n",
      "28795    ['Government/Public', 'War/Terror']\n",
      "28796    ['Government/Public', 'War/Terror']\n",
      "28797    ['Government/Public', 'War/Terror']\n",
      "28798    ['Government/Public', 'War/Terror']\n",
      "28799    ['Government/Public', 'War/Terror']\n",
      "Name: annotations, Length: 28800, dtype: object\n",
      "['Conspiracy Theory', 'Education', 'Election Campaign', 'Environment', 'Government/Public', 'Health', 'Immigration/Integration', 'Justice/Crime', 'Labor/Employment', 'Macroeconomics/Economic Regulation', 'Media/Journalism', 'Others', 'Religion', 'Science/Technology', 'War/Terror']\n"
     ]
    },
    {
     "name": "stderr",
     "output_type": "stream",
     "text": [
      "/tmp/ipykernel_21815/3473448682.py:37: UserWarning: To copy construct from a tensor, it is recommended to use sourceTensor.clone().detach() or sourceTensor.clone().detach().requires_grad_(True), rather than torch.tensor(sourceTensor).\n",
      "  'label': torch.tensor(label, dtype=torch.float32)}\n",
      "You're using a RobertaTokenizerFast tokenizer. Please note that with a fast tokenizer, using the `__call__` method is faster than using a method to encode the text followed by a call to the `pad` method to get a padded encoding.\n",
      "/tmp/ipykernel_21815/3473448682.py:37: UserWarning: To copy construct from a tensor, it is recommended to use sourceTensor.clone().detach() or sourceTensor.clone().detach().requires_grad_(True), rather than torch.tensor(sourceTensor).\n",
      "  'label': torch.tensor(label, dtype=torch.float32)}\n"
     ]
    },
    {
     "name": "stdout",
     "output_type": "stream",
     "text": [
      "[{'Conspiracy Theory': {'precision': 0.6538461538461539, 'recall': 0.3617021276595745, 'f1-score': 0.4657534246575342, 'support': 47}, 'Education': {'precision': 0.875, 'recall': 0.5833333333333334, 'f1-score': 0.7000000000000001, 'support': 12}, 'Election Campaign': {'precision': 0.7916666666666666, 'recall': 0.7307692307692307, 'f1-score': 0.76, 'support': 26}, 'Environment': {'precision': 0.75, 'recall': 0.6428571428571429, 'f1-score': 0.6923076923076924, 'support': 14}, 'Government/Public': {'precision': 0.7712177121771218, 'recall': 0.8293650793650794, 'f1-score': 0.7992351816443594, 'support': 252}, 'Health': {'precision': 0.8478260869565217, 'recall': 0.8666666666666667, 'f1-score': 0.8571428571428571, 'support': 45}, 'Immigration/Integration': {'precision': 0.7045454545454546, 'recall': 0.775, 'f1-score': 0.7380952380952381, 'support': 40}, 'Justice/Crime': {'precision': 0.7938144329896907, 'recall': 0.719626168224299, 'f1-score': 0.7549019607843137, 'support': 107}, 'Labor/Employment': {'precision': 0.7222222222222222, 'recall': 0.6842105263157895, 'f1-score': 0.7027027027027027, 'support': 19}, 'Macroeconomics/Economic Regulation': {'precision': 0.8571428571428571, 'recall': 0.6206896551724138, 'f1-score': 0.7200000000000001, 'support': 58}, 'Media/Journalism': {'precision': 0.7297297297297297, 'recall': 0.7105263157894737, 'f1-score': 0.7200000000000001, 'support': 38}, 'Others': {'precision': 0.8140703517587939, 'recall': 0.7902439024390244, 'f1-score': 0.801980198019802, 'support': 205}, 'Religion': {'precision': 0.7058823529411765, 'recall': 0.5454545454545454, 'f1-score': 0.6153846153846153, 'support': 22}, 'Science/Technology': {'precision': 0.6666666666666666, 'recall': 0.2, 'f1-score': 0.30769230769230765, 'support': 10}, 'War/Terror': {'precision': 0.9015544041450777, 'recall': 0.9405405405405406, 'f1-score': 0.9206349206349207, 'support': 185}, 'micro avg': {'precision': 0.8042430086788814, 'recall': 0.7722222222222223, 'f1-score': 0.7879074161549362, 'support': 1080}, 'macro avg': {'precision': 0.7723456727858753, 'recall': 0.6667323489724742, 'f1-score': 0.7037220732710896, 'support': 1080}, 'weighted avg': {'precision': 0.8008957457708316, 'recall': 0.7722222222222223, 'f1-score': 0.7813239529657462, 'support': 1080}, 'samples avg': {'precision': 0.8119791666666666, 'recall': 0.7961458333333333, 'f1-score': 0.7883392857142857, 'support': 1080}}, {'Conspiracy Theory': {'precision': 0.6078431372549019, 'recall': 0.5166666666666667, 'f1-score': 0.5585585585585585, 'support': 60}, 'Education': {'precision': 0.7777777777777778, 'recall': 0.4375, 'f1-score': 0.56, 'support': 16}, 'Election Campaign': {'precision': 0.9090909090909091, 'recall': 0.8571428571428571, 'f1-score': 0.8823529411764706, 'support': 35}, 'Environment': {'precision': 0.6, 'recall': 0.6428571428571429, 'f1-score': 0.6206896551724138, 'support': 14}, 'Government/Public': {'precision': 0.72, 'recall': 0.8114754098360656, 'f1-score': 0.7630057803468209, 'support': 244}, 'Health': {'precision': 0.7608695652173914, 'recall': 0.8536585365853658, 'f1-score': 0.8045977011494252, 'support': 41}, 'Immigration/Integration': {'precision': 0.7804878048780488, 'recall': 0.7111111111111111, 'f1-score': 0.7441860465116279, 'support': 45}, 'Justice/Crime': {'precision': 0.8095238095238095, 'recall': 0.7727272727272727, 'f1-score': 0.7906976744186046, 'support': 110}, 'Labor/Employment': {'precision': 0.7857142857142857, 'recall': 0.6875, 'f1-score': 0.7333333333333334, 'support': 16}, 'Macroeconomics/Economic Regulation': {'precision': 0.6730769230769231, 'recall': 0.7, 'f1-score': 0.6862745098039216, 'support': 50}, 'Media/Journalism': {'precision': 0.5306122448979592, 'recall': 0.8125, 'f1-score': 0.6419753086419753, 'support': 32}, 'Others': {'precision': 0.95, 'recall': 0.658008658008658, 'f1-score': 0.7774936061381073, 'support': 231}, 'Religion': {'precision': 0.7857142857142857, 'recall': 0.7857142857142857, 'f1-score': 0.7857142857142857, 'support': 14}, 'Science/Technology': {'precision': 0.6, 'recall': 0.21428571428571427, 'f1-score': 0.3157894736842105, 'support': 14}, 'War/Terror': {'precision': 0.8564356435643564, 'recall': 0.9719101123595506, 'f1-score': 0.9105263157894736, 'support': 178}, 'micro avg': {'precision': 0.7824463118580766, 'recall': 0.7618181818181818, 'f1-score': 0.7719944725932749, 'support': 1100}, 'macro avg': {'precision': 0.7431430924473766, 'recall': 0.6955371844863127, 'f1-score': 0.7050130126959486, 'support': 1100}, 'weighted avg': {'precision': 0.7951625891412996, 'recall': 0.7618181818181818, 'f1-score': 0.7685078023800044, 'support': 1100}, 'samples avg': {'precision': 0.7892708333333333, 'recall': 0.7798958333333335, 'f1-score': 0.7674434523809524, 'support': 1100}}, {'Conspiracy Theory': {'precision': 0.8, 'recall': 0.36363636363636365, 'f1-score': 0.5000000000000001, 'support': 44}, 'Education': {'precision': 0.6666666666666666, 'recall': 0.7272727272727273, 'f1-score': 0.6956521739130435, 'support': 11}, 'Election Campaign': {'precision': 0.8095238095238095, 'recall': 0.68, 'f1-score': 0.7391304347826089, 'support': 25}, 'Environment': {'precision': 1.0, 'recall': 0.6363636363636364, 'f1-score': 0.7777777777777778, 'support': 11}, 'Government/Public': {'precision': 0.7412587412587412, 'recall': 0.8548387096774194, 'f1-score': 0.7940074906367041, 'support': 248}, 'Health': {'precision': 0.9230769230769231, 'recall': 0.6, 'f1-score': 0.7272727272727274, 'support': 40}, 'Immigration/Integration': {'precision': 0.6571428571428571, 'recall': 0.7931034482758621, 'f1-score': 0.71875, 'support': 29}, 'Justice/Crime': {'precision': 0.8083333333333333, 'recall': 0.8434782608695652, 'f1-score': 0.8255319148936171, 'support': 115}, 'Labor/Employment': {'precision': 0.75, 'recall': 0.3, 'f1-score': 0.4285714285714285, 'support': 20}, 'Macroeconomics/Economic Regulation': {'precision': 0.6730769230769231, 'recall': 0.7291666666666666, 'f1-score': 0.7, 'support': 48}, 'Media/Journalism': {'precision': 0.8387096774193549, 'recall': 0.5777777777777777, 'f1-score': 0.6842105263157895, 'support': 45}, 'Others': {'precision': 0.89171974522293, 'recall': 0.6635071090047393, 'f1-score': 0.7608695652173914, 'support': 211}, 'Religion': {'precision': 0.4444444444444444, 'recall': 0.4, 'f1-score': 0.4210526315789474, 'support': 10}, 'Science/Technology': {'precision': 0.0, 'recall': 0.0, 'f1-score': 0.0, 'support': 11}, 'War/Terror': {'precision': 0.9166666666666666, 'recall': 0.88, 'f1-score': 0.8979591836734694, 'support': 200}, 'micro avg': {'precision': 0.8104508196721312, 'recall': 0.7406367041198502, 'f1-score': 0.7739726027397261, 'support': 1068}, 'macro avg': {'precision': 0.7280413191888434, 'recall': 0.6032763133029839, 'f1-score': 0.644719056975567, 'support': 1068}, 'weighted avg': {'precision': 0.8122869113563005, 'recall': 0.7406367041198502, 'f1-score': 0.7638365364107996, 'support': 1068}, 'samples avg': {'precision': 0.8001041666666667, 'recall': 0.7676041666666665, 'f1-score': 0.7674315476190476, 'support': 1068}}, {'Conspiracy Theory': {'precision': 0.631578947368421, 'recall': 0.5, 'f1-score': 0.5581395348837209, 'support': 48}, 'Education': {'precision': 1.0, 'recall': 0.3, 'f1-score': 0.4615384615384615, 'support': 10}, 'Election Campaign': {'precision': 0.8888888888888888, 'recall': 0.6666666666666666, 'f1-score': 0.761904761904762, 'support': 24}, 'Environment': {'precision': 0.6666666666666666, 'recall': 0.25, 'f1-score': 0.36363636363636365, 'support': 8}, 'Government/Public': {'precision': 0.75, 'recall': 0.876, 'f1-score': 0.8081180811808119, 'support': 250}, 'Health': {'precision': 0.8604651162790697, 'recall': 0.7551020408163265, 'f1-score': 0.8043478260869564, 'support': 49}, 'Immigration/Integration': {'precision': 0.72, 'recall': 0.8, 'f1-score': 0.7578947368421052, 'support': 45}, 'Justice/Crime': {'precision': 0.768595041322314, 'recall': 0.8017241379310345, 'f1-score': 0.7848101265822784, 'support': 116}, 'Labor/Employment': {'precision': 0.8125, 'recall': 0.5416666666666666, 'f1-score': 0.65, 'support': 24}, 'Macroeconomics/Economic Regulation': {'precision': 0.9487179487179487, 'recall': 0.6607142857142857, 'f1-score': 0.7789473684210526, 'support': 56}, 'Media/Journalism': {'precision': 0.7407407407407407, 'recall': 0.5128205128205128, 'f1-score': 0.6060606060606061, 'support': 39}, 'Others': {'precision': 0.8980891719745223, 'recall': 0.75, 'f1-score': 0.8173913043478261, 'support': 188}, 'Religion': {'precision': 0.9, 'recall': 0.5625, 'f1-score': 0.6923076923076923, 'support': 16}, 'Science/Technology': {'precision': 0.3333333333333333, 'recall': 0.2857142857142857, 'f1-score': 0.30769230769230765, 'support': 7}, 'War/Terror': {'precision': 0.946236559139785, 'recall': 0.8888888888888888, 'f1-score': 0.9166666666666667, 'support': 198}, 'micro avg': {'precision': 0.8206144697720515, 'recall': 0.7680890538033395, 'f1-score': 0.7934834690943939, 'support': 1078}, 'macro avg': {'precision': 0.7910541609621127, 'recall': 0.6101198323479112, 'f1-score': 0.6712970558767741, 'support': 1078}, 'weighted avg': {'precision': 0.8280596493717335, 'recall': 0.7680890538033395, 'f1-score': 0.7889094989013121, 'support': 1078}, 'samples avg': {'precision': 0.8227083333333334, 'recall': 0.8027291666666666, 'f1-score': 0.7966279761904762, 'support': 1078}}, {'Conspiracy Theory': {'precision': 0.6666666666666666, 'recall': 0.4727272727272727, 'f1-score': 0.553191489361702, 'support': 55}, 'Education': {'precision': 0.875, 'recall': 0.5, 'f1-score': 0.6363636363636364, 'support': 14}, 'Election Campaign': {'precision': 0.6785714285714286, 'recall': 0.8260869565217391, 'f1-score': 0.7450980392156864, 'support': 23}, 'Environment': {'precision': 0.8888888888888888, 'recall': 0.7272727272727273, 'f1-score': 0.7999999999999999, 'support': 11}, 'Government/Public': {'precision': 0.8177570093457944, 'recall': 0.6889763779527559, 'f1-score': 0.747863247863248, 'support': 254}, 'Health': {'precision': 0.9411764705882353, 'recall': 0.8205128205128205, 'f1-score': 0.8767123287671232, 'support': 39}, 'Immigration/Integration': {'precision': 1.0, 'recall': 0.5476190476190477, 'f1-score': 0.7076923076923077, 'support': 42}, 'Justice/Crime': {'precision': 0.7482014388489209, 'recall': 0.8387096774193549, 'f1-score': 0.790874524714829, 'support': 124}, 'Labor/Employment': {'precision': 0.8333333333333334, 'recall': 0.2777777777777778, 'f1-score': 0.4166666666666667, 'support': 18}, 'Macroeconomics/Economic Regulation': {'precision': 0.7428571428571429, 'recall': 0.6842105263157895, 'f1-score': 0.7123287671232877, 'support': 38}, 'Media/Journalism': {'precision': 0.7368421052631579, 'recall': 0.4666666666666667, 'f1-score': 0.5714285714285714, 'support': 30}, 'Others': {'precision': 0.845, 'recall': 0.7612612612612613, 'f1-score': 0.8009478672985783, 'support': 222}, 'Religion': {'precision': 0.4444444444444444, 'recall': 0.8888888888888888, 'f1-score': 0.5925925925925926, 'support': 9}, 'Science/Technology': {'precision': 0.3333333333333333, 'recall': 0.25, 'f1-score': 0.28571428571428575, 'support': 12}, 'War/Terror': {'precision': 0.8622448979591837, 'recall': 0.949438202247191, 'f1-score': 0.9037433155080214, 'support': 178}, 'micro avg': {'precision': 0.8065506653019447, 'recall': 0.7371375116931712, 'f1-score': 0.7702834799608993, 'support': 1069}, 'macro avg': {'precision': 0.7609544773400354, 'recall': 0.6466765468788862, 'f1-score': 0.6760811760207026, 'support': 1069}, 'weighted avg': {'precision': 0.8118785358922612, 'recall': 0.7371375116931712, 'f1-score': 0.7636692546763357, 'support': 1069}, 'samples avg': {'precision': 0.801875, 'recall': 0.764375, 'f1-score': 0.7674940476190477, 'support': 1069}}]\n",
      "5\n",
      "[{'Conspiracy Theory': {'precision': 0.5925925925925926, 'recall': 0.35555555555555557, 'f1-score': 0.4444444444444444, 'support': 45}, 'Education': {'precision': 0.5454545454545454, 'recall': 0.46153846153846156, 'f1-score': 0.4999999999999999, 'support': 13}, 'Election Campaign': {'precision': 0.78125, 'recall': 0.7575757575757576, 'f1-score': 0.7692307692307692, 'support': 33}, 'Environment': {'precision': 0.5625, 'recall': 0.6428571428571429, 'f1-score': 0.6000000000000001, 'support': 14}, 'Government/Public': {'precision': 0.7053291536050157, 'recall': 0.7731958762886598, 'f1-score': 0.737704918032787, 'support': 291}, 'Health': {'precision': 0.6511627906976745, 'recall': 0.6086956521739131, 'f1-score': 0.6292134831460675, 'support': 46}, 'Immigration/Integration': {'precision': 0.7027027027027027, 'recall': 0.7222222222222222, 'f1-score': 0.7123287671232876, 'support': 36}, 'Justice/Crime': {'precision': 0.8257575757575758, 'recall': 0.7956204379562044, 'f1-score': 0.8104089219330856, 'support': 137}, 'Labor/Employment': {'precision': 0.7142857142857143, 'recall': 0.5357142857142857, 'f1-score': 0.6122448979591837, 'support': 28}, 'Macroeconomics/Economic Regulation': {'precision': 0.82, 'recall': 0.6612903225806451, 'f1-score': 0.7321428571428572, 'support': 62}, 'Media/Journalism': {'precision': 0.75, 'recall': 0.75, 'f1-score': 0.75, 'support': 48}, 'Others': {'precision': 0.8122448979591836, 'recall': 0.7343173431734318, 'f1-score': 0.7713178294573643, 'support': 271}, 'Religion': {'precision': 0.5, 'recall': 0.5454545454545454, 'f1-score': 0.5217391304347826, 'support': 11}, 'Science/Technology': {'precision': 0.5714285714285714, 'recall': 0.36363636363636365, 'f1-score': 0.4444444444444444, 'support': 11}, 'War/Terror': {'precision': 0.8973384030418251, 'recall': 0.9254901960784314, 'f1-score': 0.9111969111969113, 'support': 255}, 'micro avg': {'precision': 0.7767220902612827, 'recall': 0.7540353574173713, 'f1-score': 0.7652106084243369, 'support': 1301}, 'macro avg': {'precision': 0.6954697965016935, 'recall': 0.6422109441870414, 'f1-score': 0.6630944916363991, 'support': 1301}, 'weighted avg': {'precision': 0.7752571540454511, 'recall': 0.7540353574173713, 'f1-score': 0.7618113008652503, 'support': 1301}, 'samples avg': {'precision': 0.7963333333333332, 'recall': 0.7864833333333333, 'f1-score': 0.7755714285714285, 'support': 1301}}, {'Conspiracy Theory': {'precision': 0.4897959183673469, 'recall': 0.5333333333333333, 'f1-score': 0.5106382978723404, 'support': 45}, 'Education': {'precision': 0.5833333333333334, 'recall': 0.5384615384615384, 'f1-score': 0.5599999999999999, 'support': 13}, 'Election Campaign': {'precision': 0.8181818181818182, 'recall': 0.8181818181818182, 'f1-score': 0.8181818181818182, 'support': 33}, 'Environment': {'precision': 0.47368421052631576, 'recall': 0.6428571428571429, 'f1-score': 0.5454545454545454, 'support': 14}, 'Government/Public': {'precision': 0.7681660899653979, 'recall': 0.7628865979381443, 'f1-score': 0.7655172413793103, 'support': 291}, 'Health': {'precision': 0.6444444444444445, 'recall': 0.6304347826086957, 'f1-score': 0.6373626373626373, 'support': 46}, 'Immigration/Integration': {'precision': 0.725, 'recall': 0.8055555555555556, 'f1-score': 0.7631578947368423, 'support': 36}, 'Justice/Crime': {'precision': 0.8244274809160306, 'recall': 0.7883211678832117, 'f1-score': 0.8059701492537314, 'support': 137}, 'Labor/Employment': {'precision': 0.5294117647058824, 'recall': 0.6428571428571429, 'f1-score': 0.5806451612903226, 'support': 28}, 'Macroeconomics/Economic Regulation': {'precision': 0.7758620689655172, 'recall': 0.7258064516129032, 'f1-score': 0.7500000000000001, 'support': 62}, 'Media/Journalism': {'precision': 0.603448275862069, 'recall': 0.7291666666666666, 'f1-score': 0.6603773584905661, 'support': 48}, 'Others': {'precision': 0.9211822660098522, 'recall': 0.6900369003690037, 'f1-score': 0.7890295358649789, 'support': 271}, 'Religion': {'precision': 0.5833333333333334, 'recall': 0.6363636363636364, 'f1-score': 0.6086956521739131, 'support': 11}, 'Science/Technology': {'precision': 0.4166666666666667, 'recall': 0.45454545454545453, 'f1-score': 0.43478260869565216, 'support': 11}, 'War/Terror': {'precision': 0.8781362007168458, 'recall': 0.9607843137254902, 'f1-score': 0.9176029962546816, 'support': 255}, 'micro avg': {'precision': 0.782574568288854, 'recall': 0.7663335895465027, 'f1-score': 0.7743689320388348, 'support': 1301}, 'macro avg': {'precision': 0.6690049247996569, 'recall': 0.690639500197316, 'f1-score': 0.6764943931340893, 'support': 1301}, 'weighted avg': {'precision': 0.793190384563855, 'recall': 0.7663335895465027, 'f1-score': 0.7752660162310233, 'support': 1301}, 'samples avg': {'precision': 0.79425, 'recall': 0.7900999999999999, 'f1-score': 0.7769666666666667, 'support': 1301}}, {'Conspiracy Theory': {'precision': 0.43478260869565216, 'recall': 0.2222222222222222, 'f1-score': 0.29411764705882354, 'support': 45}, 'Education': {'precision': 0.36363636363636365, 'recall': 0.3076923076923077, 'f1-score': 0.33333333333333337, 'support': 13}, 'Election Campaign': {'precision': 0.8387096774193549, 'recall': 0.7878787878787878, 'f1-score': 0.8125, 'support': 33}, 'Environment': {'precision': 0.7142857142857143, 'recall': 0.35714285714285715, 'f1-score': 0.4761904761904762, 'support': 14}, 'Government/Public': {'precision': 0.731629392971246, 'recall': 0.7869415807560137, 'f1-score': 0.7582781456953641, 'support': 291}, 'Health': {'precision': 0.8387096774193549, 'recall': 0.5652173913043478, 'f1-score': 0.6753246753246753, 'support': 46}, 'Immigration/Integration': {'precision': 0.7435897435897436, 'recall': 0.8055555555555556, 'f1-score': 0.7733333333333334, 'support': 36}, 'Justice/Crime': {'precision': 0.8421052631578947, 'recall': 0.8175182481751825, 'f1-score': 0.8296296296296297, 'support': 137}, 'Labor/Employment': {'precision': 0.7647058823529411, 'recall': 0.4642857142857143, 'f1-score': 0.5777777777777777, 'support': 28}, 'Macroeconomics/Economic Regulation': {'precision': 0.7068965517241379, 'recall': 0.6612903225806451, 'f1-score': 0.6833333333333333, 'support': 62}, 'Media/Journalism': {'precision': 0.6296296296296297, 'recall': 0.3541666666666667, 'f1-score': 0.45333333333333337, 'support': 48}, 'Others': {'precision': 0.8755364806866953, 'recall': 0.7527675276752768, 'f1-score': 0.8095238095238096, 'support': 271}, 'Religion': {'precision': 0.5384615384615384, 'recall': 0.6363636363636364, 'f1-score': 0.5833333333333334, 'support': 11}, 'Science/Technology': {'precision': 0.0, 'recall': 0.0, 'f1-score': 0.0, 'support': 11}, 'War/Terror': {'precision': 0.923728813559322, 'recall': 0.8549019607843137, 'f1-score': 0.8879837067209776, 'support': 255}, 'micro avg': {'precision': 0.802901023890785, 'recall': 0.7232897770945427, 'f1-score': 0.7610190052567732, 'support': 1301}, 'macro avg': {'precision': 0.6630938225059726, 'recall': 0.5582629852722353, 'f1-score': 0.5965328356392132, 'support': 1301}, 'weighted avg': {'precision': 0.79154361536741, 'recall': 0.7232897770945427, 'f1-score': 0.7508138643697965, 'support': 1301}, 'samples avg': {'precision': 0.7958333333333333, 'recall': 0.7622000000000001, 'f1-score': 0.7614666666666667, 'support': 1301}}, {'Conspiracy Theory': {'precision': 0.5454545454545454, 'recall': 0.5333333333333333, 'f1-score': 0.5393258426966293, 'support': 45}, 'Education': {'precision': 0.5333333333333333, 'recall': 0.6153846153846154, 'f1-score': 0.5714285714285715, 'support': 13}, 'Election Campaign': {'precision': 0.78125, 'recall': 0.7575757575757576, 'f1-score': 0.7692307692307692, 'support': 33}, 'Environment': {'precision': 0.75, 'recall': 0.42857142857142855, 'f1-score': 0.5454545454545454, 'support': 14}, 'Government/Public': {'precision': 0.7295597484276729, 'recall': 0.7972508591065293, 'f1-score': 0.7619047619047619, 'support': 291}, 'Health': {'precision': 0.7878787878787878, 'recall': 0.5652173913043478, 'f1-score': 0.6582278481012658, 'support': 46}, 'Immigration/Integration': {'precision': 0.7647058823529411, 'recall': 0.7222222222222222, 'f1-score': 0.7428571428571428, 'support': 36}, 'Justice/Crime': {'precision': 0.7841726618705036, 'recall': 0.7956204379562044, 'f1-score': 0.7898550724637681, 'support': 137}, 'Labor/Employment': {'precision': 0.7, 'recall': 0.5, 'f1-score': 0.5833333333333334, 'support': 28}, 'Macroeconomics/Economic Regulation': {'precision': 0.90625, 'recall': 0.46774193548387094, 'f1-score': 0.6170212765957447, 'support': 62}, 'Media/Journalism': {'precision': 0.7894736842105263, 'recall': 0.625, 'f1-score': 0.6976744186046512, 'support': 48}, 'Others': {'precision': 0.8583333333333333, 'recall': 0.7601476014760148, 'f1-score': 0.8062622309197651, 'support': 271}, 'Religion': {'precision': 0.5714285714285714, 'recall': 0.36363636363636365, 'f1-score': 0.4444444444444444, 'support': 11}, 'Science/Technology': {'precision': 0.4444444444444444, 'recall': 0.36363636363636365, 'f1-score': 0.39999999999999997, 'support': 11}, 'War/Terror': {'precision': 0.946058091286307, 'recall': 0.8941176470588236, 'f1-score': 0.9193548387096774, 'support': 255}, 'micro avg': {'precision': 0.8024793388429752, 'recall': 0.7463489623366641, 'f1-score': 0.7733970529669454, 'support': 1301}, 'macro avg': {'precision': 0.7261562056013978, 'recall': 0.6126303971163917, 'f1-score': 0.6564250064496714, 'support': 1301}, 'weighted avg': {'precision': 0.8070525764663182, 'recall': 0.7463489623366641, 'f1-score': 0.7701486887645209, 'support': 1301}, 'samples avg': {'precision': 0.8063333333333332, 'recall': 0.7816, 'f1-score': 0.77875, 'support': 1301}}, {'Conspiracy Theory': {'precision': 0.5454545454545454, 'recall': 0.5333333333333333, 'f1-score': 0.5393258426966293, 'support': 45}, 'Education': {'precision': 0.5384615384615384, 'recall': 0.5384615384615384, 'f1-score': 0.5384615384615384, 'support': 13}, 'Election Campaign': {'precision': 0.7941176470588235, 'recall': 0.8181818181818182, 'f1-score': 0.8059701492537314, 'support': 33}, 'Environment': {'precision': 1.0, 'recall': 0.35714285714285715, 'f1-score': 0.5263157894736842, 'support': 14}, 'Government/Public': {'precision': 0.7888446215139442, 'recall': 0.6804123711340206, 'f1-score': 0.7306273062730627, 'support': 291}, 'Health': {'precision': 0.725, 'recall': 0.6304347826086957, 'f1-score': 0.6744186046511628, 'support': 46}, 'Immigration/Integration': {'precision': 0.96, 'recall': 0.6666666666666666, 'f1-score': 0.7868852459016393, 'support': 36}, 'Justice/Crime': {'precision': 0.7651006711409396, 'recall': 0.8321167883211679, 'f1-score': 0.7972027972027971, 'support': 137}, 'Labor/Employment': {'precision': 0.7777777777777778, 'recall': 0.5, 'f1-score': 0.6086956521739131, 'support': 28}, 'Macroeconomics/Economic Regulation': {'precision': 0.82, 'recall': 0.6612903225806451, 'f1-score': 0.7321428571428572, 'support': 62}, 'Media/Journalism': {'precision': 0.9166666666666666, 'recall': 0.4583333333333333, 'f1-score': 0.611111111111111, 'support': 48}, 'Others': {'precision': 0.8828451882845189, 'recall': 0.7785977859778598, 'f1-score': 0.8274509803921568, 'support': 271}, 'Religion': {'precision': 0.6363636363636364, 'recall': 0.6363636363636364, 'f1-score': 0.6363636363636364, 'support': 11}, 'Science/Technology': {'precision': 0.5, 'recall': 0.45454545454545453, 'f1-score': 0.47619047619047616, 'support': 11}, 'War/Terror': {'precision': 0.8642857142857143, 'recall': 0.9490196078431372, 'f1-score': 0.9046728971962616, 'support': 255}, 'micro avg': {'precision': 0.8130762782900252, 'recall': 0.7455803228285934, 'f1-score': 0.7778668805132318, 'support': 1301}, 'macro avg': {'precision': 0.767661200467207, 'recall': 0.632993353099611, 'f1-score': 0.6797223256323106, 'support': 1301}, 'weighted avg': {'precision': 0.8169066830522688, 'recall': 0.7455803228285934, 'f1-score': 0.7727548972747783, 'support': 1301}, 'samples avg': {'precision': 0.8183333333333334, 'recall': 0.78035, 'f1-score': 0.7836666666666667, 'support': 1301}}]\n",
      "5\n",
      "\n",
      "Average Validation Classification Report In DataFrame Format:\n",
      "                                    precision    recall  f1-score  support\n",
      "Conspiracy Theory                    0.671987  0.442946  0.527129     50.8\n",
      "Education                            0.838889  0.509621  0.610711     12.6\n",
      "Election Campaign                    0.815548  0.752133  0.777697     26.6\n",
      "Environment                          0.781111  0.579870  0.650882     11.6\n",
      "Government/Public                    0.760047  0.812131  0.782446    249.6\n",
      "Health                               0.866683  0.779188  0.814015     42.8\n",
      "Immigration/Integration              0.772435  0.725367  0.733324     40.2\n",
      "Justice/Crime                        0.785694  0.795253  0.789363    114.4\n",
      "Labor/Employment                     0.780754  0.498231  0.586255     19.4\n",
      "Macroeconomics/Economic Regulation   0.778974  0.678956  0.719510     50.0\n",
      "Media/Journalism                     0.715327  0.616058  0.644735     36.8\n",
      "Others                               0.879776  0.724604  0.791737    211.4\n",
      "Religion                             0.656097  0.636512  0.621410     14.2\n",
      "Science/Technology                   0.386667  0.190000  0.243378     10.8\n",
      "War/Terror                           0.896628  0.926156  0.909906    187.8\n",
      "micro avg                            0.804861  0.755981  0.779528   1079.0\n",
      "macro avg                            0.759108  0.644468  0.680166   1079.0\n",
      "weighted avg                         0.809657  0.755981  0.773249   1079.0\n",
      "samples avg                          0.805188  0.782150  0.777467   1079.0\n",
      "\n",
      "Average Test Classification Report In DataFrame Format:\n",
      "                                    precision    recall  f1-score  support\n",
      "Conspiracy Theory                    0.521616  0.435556  0.465570     45.0\n",
      "Education                            0.512844  0.492308  0.500645     13.0\n",
      "Election Campaign                    0.802702  0.787879  0.795023     33.0\n",
      "Environment                          0.700094  0.485714  0.538683     14.0\n",
      "Government/Public                    0.744706  0.760137  0.750806    291.0\n",
      "Health                               0.729439  0.600000  0.654909     46.0\n",
      "Immigration/Integration              0.779200  0.744444  0.755712     36.0\n",
      "Justice/Crime                        0.808313  0.805839  0.806613    137.0\n",
      "Labor/Employment                     0.697236  0.528571  0.592539     28.0\n",
      "Macroeconomics/Economic Regulation   0.805802  0.635484  0.702928     62.0\n",
      "Media/Journalism                     0.737844  0.583333  0.634499     48.0\n",
      "Others                               0.870028  0.743173  0.800717    271.0\n",
      "Religion                             0.565917  0.563636  0.558915     11.0\n",
      "Science/Technology                   0.386508  0.327273  0.351084     11.0\n",
      "War/Terror                           0.901909  0.916863  0.908162    255.0\n",
      "micro avg                            0.795551  0.747118  0.770372   1301.0\n",
      "macro avg                            0.704277  0.627347  0.654454   1301.0\n",
      "weighted avg                         0.796790  0.747118  0.766159   1301.0\n",
      "samples avg                          0.802217  0.780147  0.775284   1301.0\n"
     ]
    }
   ],
   "source": [
    "generic_val_average_report_df, generic_test_average_report_df = calculate_metrics(\"eda_alpha_0_05_n_aug_8_generic\")"
   ]
  },
  {
   "cell_type": "code",
   "execution_count": 30,
   "metadata": {},
   "outputs": [],
   "source": [
    "generic_valid_results = [{'Conspiracy Theory': {'precision': 0.6521739130434783, 'recall': 0.3191489361702128, 'f1-score': 0.4285714285714286, 'support': 47}, 'Education': {'precision': 0.875, 'recall': 0.5833333333333334, 'f1-score': 0.7000000000000001, 'support': 12}, 'Election Campaign': {'precision': 0.8076923076923077, 'recall': 0.8076923076923077, 'f1-score': 0.8076923076923077, 'support': 26}, 'Environment': {'precision': 1.0, 'recall': 0.5714285714285714, 'f1-score': 0.7272727272727273, 'support': 14}, 'Government/Public': {'precision': 0.7686832740213523, 'recall': 0.8571428571428571, 'f1-score': 0.8105065666041276, 'support': 252}, 'Health': {'precision': 0.8571428571428571, 'recall': 0.8, 'f1-score': 0.8275862068965518, 'support': 45}, 'Immigration/Integration': {'precision': 0.8275862068965517, 'recall': 0.6, 'f1-score': 0.6956521739130435, 'support': 40}, 'Justice/Crime': {'precision': 0.7669902912621359, 'recall': 0.7383177570093458, 'f1-score': 0.7523809523809523, 'support': 107}, 'Labor/Employment': {'precision': 0.7058823529411765, 'recall': 0.631578947368421, 'f1-score': 0.6666666666666667, 'support': 19}, 'Macroeconomics/Economic Regulation': {'precision': 0.8780487804878049, 'recall': 0.6206896551724138, 'f1-score': 0.7272727272727273, 'support': 58}, 'Media/Journalism': {'precision': 0.8235294117647058, 'recall': 0.7368421052631579, 'f1-score': 0.7777777777777778, 'support': 38}, 'Others': {'precision': 0.8357487922705314, 'recall': 0.8439024390243902, 'f1-score': 0.8398058252427185, 'support': 205}, 'Religion': {'precision': 0.6666666666666666, 'recall': 0.36363636363636365, 'f1-score': 0.4705882352941177, 'support': 22}, 'Science/Technology': {'precision': 0.6666666666666666, 'recall': 0.4, 'f1-score': 0.5, 'support': 10}, 'War/Terror': {'precision': 0.9710982658959537, 'recall': 0.9081081081081082, 'f1-score': 0.9385474860335196, 'support': 185}, 'micro avg': {'precision': 0.8267326732673267, 'recall': 0.7731481481481481, 'f1-score': 0.7990430622009568, 'support': 1080}, 'macro avg': {'precision': 0.8068606524501458, 'recall': 0.6521214254232989, 'f1-score': 0.7113547387745777, 'support': 1080}, 'weighted avg': {'precision': 0.8255101143884639, 'recall': 0.7731481481481481, 'f1-score': 0.7917527953259383, 'support': 1080}, 'samples avg': {'precision': 0.8335416666666666, 'recall': 0.8048958333333335, 'f1-score': 0.8039999999999999, 'support': 1080}}, {'Conspiracy Theory': {'precision': 0.6944444444444444, 'recall': 0.4166666666666667, 'f1-score': 0.5208333333333334, 'support': 60}, 'Education': {'precision': 0.8333333333333334, 'recall': 0.625, 'f1-score': 0.7142857142857143, 'support': 16}, 'Election Campaign': {'precision': 0.8611111111111112, 'recall': 0.8857142857142857, 'f1-score': 0.8732394366197184, 'support': 35}, 'Environment': {'precision': 0.875, 'recall': 0.5, 'f1-score': 0.6363636363636364, 'support': 14}, 'Government/Public': {'precision': 0.7565543071161048, 'recall': 0.8278688524590164, 'f1-score': 0.7906066536203522, 'support': 244}, 'Health': {'precision': 0.8048780487804879, 'recall': 0.8048780487804879, 'f1-score': 0.8048780487804877, 'support': 41}, 'Immigration/Integration': {'precision': 0.6938775510204082, 'recall': 0.7555555555555555, 'f1-score': 0.723404255319149, 'support': 45}, 'Justice/Crime': {'precision': 0.7563025210084033, 'recall': 0.8181818181818182, 'f1-score': 0.7860262008733625, 'support': 110}, 'Labor/Employment': {'precision': 0.8125, 'recall': 0.8125, 'f1-score': 0.8125, 'support': 16}, 'Macroeconomics/Economic Regulation': {'precision': 0.6666666666666666, 'recall': 0.72, 'f1-score': 0.6923076923076923, 'support': 50}, 'Media/Journalism': {'precision': 0.6410256410256411, 'recall': 0.78125, 'f1-score': 0.7042253521126761, 'support': 32}, 'Others': {'precision': 0.8599033816425121, 'recall': 0.7705627705627706, 'f1-score': 0.8127853881278538, 'support': 231}, 'Religion': {'precision': 0.7692307692307693, 'recall': 0.7142857142857143, 'f1-score': 0.7407407407407408, 'support': 14}, 'Science/Technology': {'precision': 1.0, 'recall': 0.14285714285714285, 'f1-score': 0.25, 'support': 14}, 'War/Terror': {'precision': 0.9060773480662984, 'recall': 0.9213483146067416, 'f1-score': 0.913649025069638, 'support': 178}, 'micro avg': {'precision': 0.7962962962962963, 'recall': 0.7818181818181819, 'f1-score': 0.7889908256880734, 'support': 1100}, 'macro avg': {'precision': 0.7953936748964121, 'recall': 0.6997779446446799, 'f1-score': 0.7183896985036237, 'support': 1100}, 'weighted avg': {'precision': 0.8008552187842429, 'recall': 0.7818181818181819, 'f1-score': 0.7831627791467639, 'support': 1100}, 'samples avg': {'precision': 0.8075, 'recall': 0.8034375, 'f1-score': 0.7893571428571429, 'support': 1100}}, {'Conspiracy Theory': {'precision': 0.5757575757575758, 'recall': 0.4318181818181818, 'f1-score': 0.49350649350649356, 'support': 44}, 'Education': {'precision': 0.7777777777777778, 'recall': 0.6363636363636364, 'f1-score': 0.7000000000000001, 'support': 11}, 'Election Campaign': {'precision': 0.6666666666666666, 'recall': 0.72, 'f1-score': 0.6923076923076923, 'support': 25}, 'Environment': {'precision': 1.0, 'recall': 0.7272727272727273, 'f1-score': 0.8421052631578948, 'support': 11}, 'Government/Public': {'precision': 0.8617511520737328, 'recall': 0.7540322580645161, 'f1-score': 0.8043010752688172, 'support': 248}, 'Health': {'precision': 0.8125, 'recall': 0.65, 'f1-score': 0.7222222222222223, 'support': 40}, 'Immigration/Integration': {'precision': 0.8, 'recall': 0.8275862068965517, 'f1-score': 0.8135593220338982, 'support': 29}, 'Justice/Crime': {'precision': 0.8303571428571429, 'recall': 0.808695652173913, 'f1-score': 0.8193832599118942, 'support': 115}, 'Labor/Employment': {'precision': 0.7692307692307693, 'recall': 0.5, 'f1-score': 0.6060606060606061, 'support': 20}, 'Macroeconomics/Economic Regulation': {'precision': 0.7073170731707317, 'recall': 0.6041666666666666, 'f1-score': 0.6516853932584269, 'support': 48}, 'Media/Journalism': {'precision': 0.72, 'recall': 0.8, 'f1-score': 0.7578947368421052, 'support': 45}, 'Others': {'precision': 0.8442211055276382, 'recall': 0.7962085308056872, 'f1-score': 0.8195121951219513, 'support': 211}, 'Religion': {'precision': 0.5, 'recall': 0.1, 'f1-score': 0.16666666666666669, 'support': 10}, 'Science/Technology': {'precision': 1.0, 'recall': 0.18181818181818182, 'f1-score': 0.3076923076923077, 'support': 11}, 'War/Terror': {'precision': 0.9004739336492891, 'recall': 0.95, 'f1-score': 0.924574209245742, 'support': 200}, 'micro avg': {'precision': 0.8296146044624746, 'recall': 0.7659176029962547, 'f1-score': 0.7964946445959105, 'support': 1068}, 'macro avg': {'precision': 0.7844035464474215, 'recall': 0.6325308027920041, 'f1-score': 0.674764762886448, 'support': 1068}, 'weighted avg': {'precision': 0.8262380033627459, 'recall': 0.7659176029962547, 'f1-score': 0.7889078257750887, 'support': 1068}, 'samples avg': {'precision': 0.8297916666666667, 'recall': 0.7947916666666666, 'f1-score': 0.7966428571428571, 'support': 1068}}, {'Conspiracy Theory': {'precision': 0.7435897435897436, 'recall': 0.6041666666666666, 'f1-score': 0.6666666666666667, 'support': 48}, 'Education': {'precision': 0.5, 'recall': 0.2, 'f1-score': 0.28571428571428575, 'support': 10}, 'Election Campaign': {'precision': 0.8333333333333334, 'recall': 0.8333333333333334, 'f1-score': 0.8333333333333334, 'support': 24}, 'Environment': {'precision': 1.0, 'recall': 0.375, 'f1-score': 0.5454545454545454, 'support': 8}, 'Government/Public': {'precision': 0.7906976744186046, 'recall': 0.816, 'f1-score': 0.8031496062992125, 'support': 250}, 'Health': {'precision': 0.803921568627451, 'recall': 0.8367346938775511, 'f1-score': 0.8200000000000001, 'support': 49}, 'Immigration/Integration': {'precision': 0.8648648648648649, 'recall': 0.7111111111111111, 'f1-score': 0.7804878048780488, 'support': 45}, 'Justice/Crime': {'precision': 0.7421875, 'recall': 0.8189655172413793, 'f1-score': 0.7786885245901638, 'support': 116}, 'Labor/Employment': {'precision': 0.9166666666666666, 'recall': 0.4583333333333333, 'f1-score': 0.611111111111111, 'support': 24}, 'Macroeconomics/Economic Regulation': {'precision': 0.8979591836734694, 'recall': 0.7857142857142857, 'f1-score': 0.838095238095238, 'support': 56}, 'Media/Journalism': {'precision': 0.875, 'recall': 0.5384615384615384, 'f1-score': 0.6666666666666667, 'support': 39}, 'Others': {'precision': 0.8102564102564103, 'recall': 0.8404255319148937, 'f1-score': 0.825065274151436, 'support': 188}, 'Religion': {'precision': 0.875, 'recall': 0.875, 'f1-score': 0.875, 'support': 16}, 'Science/Technology': {'precision': 0.0, 'recall': 0.0, 'f1-score': 0.0, 'support': 7}, 'War/Terror': {'precision': 0.945054945054945, 'recall': 0.8686868686868687, 'f1-score': 0.9052631578947369, 'support': 198}, 'micro avg': {'precision': 0.8277886497064579, 'recall': 0.7847866419294991, 'f1-score': 0.8057142857142858, 'support': 1078}, 'macro avg': {'precision': 0.7732354593656993, 'recall': 0.6374621920227308, 'f1-score': 0.682313080990363, 'support': 1078}, 'weighted avg': {'precision': 0.8261886369326729, 'recall': 0.7847866419294991, 'f1-score': 0.7992508141662166, 'support': 1078}, 'samples avg': {'precision': 0.844375, 'recall': 0.8184583333333333, 'f1-score': 0.8152053571428571, 'support': 1078}}, {'Conspiracy Theory': {'precision': 0.7272727272727273, 'recall': 0.43636363636363634, 'f1-score': 0.5454545454545455, 'support': 55}, 'Education': {'precision': 0.6666666666666666, 'recall': 0.7142857142857143, 'f1-score': 0.689655172413793, 'support': 14}, 'Election Campaign': {'precision': 0.782608695652174, 'recall': 0.782608695652174, 'f1-score': 0.782608695652174, 'support': 23}, 'Environment': {'precision': 0.8571428571428571, 'recall': 0.5454545454545454, 'f1-score': 0.6666666666666665, 'support': 11}, 'Government/Public': {'precision': 0.7838827838827839, 'recall': 0.84251968503937, 'f1-score': 0.812144212523719, 'support': 254}, 'Health': {'precision': 0.8461538461538461, 'recall': 0.8461538461538461, 'f1-score': 0.8461538461538461, 'support': 39}, 'Immigration/Integration': {'precision': 1.0, 'recall': 0.5714285714285714, 'f1-score': 0.7272727272727273, 'support': 42}, 'Justice/Crime': {'precision': 0.8108108108108109, 'recall': 0.7258064516129032, 'f1-score': 0.7659574468085107, 'support': 124}, 'Labor/Employment': {'precision': 0.9, 'recall': 0.5, 'f1-score': 0.6428571428571429, 'support': 18}, 'Macroeconomics/Economic Regulation': {'precision': 0.6666666666666666, 'recall': 0.7368421052631579, 'f1-score': 0.7, 'support': 38}, 'Media/Journalism': {'precision': 0.7142857142857143, 'recall': 0.5, 'f1-score': 0.588235294117647, 'support': 30}, 'Others': {'precision': 0.8701923076923077, 'recall': 0.8153153153153153, 'f1-score': 0.841860465116279, 'support': 222}, 'Religion': {'precision': 0.35, 'recall': 0.7777777777777778, 'f1-score': 0.48275862068965514, 'support': 9}, 'Science/Technology': {'precision': 0.3333333333333333, 'recall': 0.16666666666666666, 'f1-score': 0.2222222222222222, 'support': 12}, 'War/Terror': {'precision': 0.9021739130434783, 'recall': 0.9325842696629213, 'f1-score': 0.9171270718232043, 'support': 178}, 'micro avg': {'precision': 0.8139763779527559, 'recall': 0.7736202057998129, 'f1-score': 0.7932853717026378, 'support': 1069}, 'macro avg': {'precision': 0.7474126881735578, 'recall': 0.6595871520451067, 'f1-score': 0.6820649419848087, 'support': 1069}, 'weighted avg': {'precision': 0.8187934761459387, 'recall': 0.7736202057998129, 'f1-score': 0.7883713165257594, 'support': 1069}, 'samples avg': {'precision': 0.8177083333333333, 'recall': 0.7994791666666667, 'f1-score': 0.794375, 'support': 1069}}]\n",
    "\n",
    "generic_test_results = [{'Conspiracy Theory': {'precision': 0.7, 'recall': 0.3111111111111111, 'f1-score': 0.43076923076923074, 'support': 45}, 'Education': {'precision': 0.4666666666666667, 'recall': 0.5384615384615384, 'f1-score': 0.5, 'support': 13}, 'Election Campaign': {'precision': 0.8235294117647058, 'recall': 0.8484848484848485, 'f1-score': 0.8358208955223881, 'support': 33}, 'Environment': {'precision': 0.875, 'recall': 0.5, 'f1-score': 0.6363636363636364, 'support': 14}, 'Government/Public': {'precision': 0.7396825396825397, 'recall': 0.8006872852233677, 'f1-score': 0.768976897689769, 'support': 291}, 'Health': {'precision': 0.7352941176470589, 'recall': 0.5434782608695652, 'f1-score': 0.625, 'support': 46}, 'Immigration/Integration': {'precision': 0.7727272727272727, 'recall': 0.4722222222222222, 'f1-score': 0.5862068965517242, 'support': 36}, 'Justice/Crime': {'precision': 0.7947019867549668, 'recall': 0.8759124087591241, 'f1-score': 0.8333333333333334, 'support': 137}, 'Labor/Employment': {'precision': 0.7, 'recall': 0.5, 'f1-score': 0.5833333333333334, 'support': 28}, 'Macroeconomics/Economic Regulation': {'precision': 0.8333333333333334, 'recall': 0.6451612903225806, 'f1-score': 0.7272727272727272, 'support': 62}, 'Media/Journalism': {'precision': 0.8181818181818182, 'recall': 0.5625, 'f1-score': 0.6666666666666666, 'support': 48}, 'Others': {'precision': 0.8284671532846716, 'recall': 0.8376383763837638, 'f1-score': 0.83302752293578, 'support': 271}, 'Religion': {'precision': 0.6666666666666666, 'recall': 0.5454545454545454, 'f1-score': 0.6, 'support': 11}, 'Science/Technology': {'precision': 0.5, 'recall': 0.36363636363636365, 'f1-score': 0.4210526315789474, 'support': 11}, 'War/Terror': {'precision': 0.9517543859649122, 'recall': 0.8509803921568627, 'f1-score': 0.898550724637681, 'support': 255}, 'micro avg': {'precision': 0.8088597210828548, 'recall': 0.7578785549577248, 'f1-score': 0.7825396825396824, 'support': 1301}, 'macro avg': {'precision': 0.7470670235116408, 'recall': 0.6130485762057263, 'f1-score': 0.6630916331103479, 'support': 1301}, 'weighted avg': {'precision': 0.8096397647592806, 'recall': 0.7578785549577248, 'f1-score': 0.7760990798508935, 'support': 1301}, 'samples avg': {'precision': 0.8225, 'recall': 0.7977333333333333, 'f1-score': 0.7935380952380953, 'support': 1301}}, {'Conspiracy Theory': {'precision': 0.5945945945945946, 'recall': 0.4888888888888889, 'f1-score': 0.5365853658536586, 'support': 45}, 'Education': {'precision': 0.4375, 'recall': 0.5384615384615384, 'f1-score': 0.4827586206896552, 'support': 13}, 'Election Campaign': {'precision': 0.875, 'recall': 0.8484848484848485, 'f1-score': 0.8615384615384615, 'support': 33}, 'Environment': {'precision': 0.8181818181818182, 'recall': 0.6428571428571429, 'f1-score': 0.7200000000000001, 'support': 14}, 'Government/Public': {'precision': 0.7583892617449665, 'recall': 0.7766323024054983, 'f1-score': 0.767402376910017, 'support': 291}, 'Health': {'precision': 0.7073170731707317, 'recall': 0.6304347826086957, 'f1-score': 0.6666666666666667, 'support': 46}, 'Immigration/Integration': {'precision': 0.6363636363636364, 'recall': 0.7777777777777778, 'f1-score': 0.7000000000000001, 'support': 36}, 'Justice/Crime': {'precision': 0.7793103448275862, 'recall': 0.8248175182481752, 'f1-score': 0.8014184397163121, 'support': 137}, 'Labor/Employment': {'precision': 0.5625, 'recall': 0.6428571428571429, 'f1-score': 0.6000000000000001, 'support': 28}, 'Macroeconomics/Economic Regulation': {'precision': 0.7868852459016393, 'recall': 0.7741935483870968, 'f1-score': 0.7804878048780488, 'support': 62}, 'Media/Journalism': {'precision': 0.6862745098039216, 'recall': 0.7291666666666666, 'f1-score': 0.7070707070707071, 'support': 48}, 'Others': {'precision': 0.81640625, 'recall': 0.7712177121771218, 'f1-score': 0.7931688804554079, 'support': 271}, 'Religion': {'precision': 0.5, 'recall': 0.6363636363636364, 'f1-score': 0.56, 'support': 11}, 'Science/Technology': {'precision': 0.5, 'recall': 0.45454545454545453, 'f1-score': 0.47619047619047616, 'support': 11}, 'War/Terror': {'precision': 0.9473684210526315, 'recall': 0.9176470588235294, 'f1-score': 0.9322709163346613, 'support': 255}, 'micro avg': {'precision': 0.7861003861003861, 'recall': 0.7824750192159877, 'f1-score': 0.7842835130970724, 'support': 1301}, 'macro avg': {'precision': 0.6937394103761018, 'recall': 0.6969564013035476, 'f1-score': 0.6923705810869382, 'support': 1301}, 'weighted avg': {'precision': 0.7893769206228457, 'recall': 0.7824750192159877, 'f1-score': 0.784868286472289, 'support': 1301}, 'samples avg': {'precision': 0.8025833333333332, 'recall': 0.8094333333333332, 'f1-score': 0.7909380952380952, 'support': 1301}}, {'Conspiracy Theory': {'precision': 0.5, 'recall': 0.4444444444444444, 'f1-score': 0.47058823529411764, 'support': 45}, 'Education': {'precision': 0.5, 'recall': 0.38461538461538464, 'f1-score': 0.4347826086956522, 'support': 13}, 'Election Campaign': {'precision': 0.7894736842105263, 'recall': 0.9090909090909091, 'f1-score': 0.8450704225352113, 'support': 33}, 'Environment': {'precision': 0.7, 'recall': 0.5, 'f1-score': 0.5833333333333334, 'support': 14}, 'Government/Public': {'precision': 0.8146551724137931, 'recall': 0.6494845360824743, 'f1-score': 0.722753346080306, 'support': 291}, 'Health': {'precision': 0.8055555555555556, 'recall': 0.6304347826086957, 'f1-score': 0.7073170731707318, 'support': 46}, 'Immigration/Integration': {'precision': 0.8285714285714286, 'recall': 0.8055555555555556, 'f1-score': 0.8169014084507044, 'support': 36}, 'Justice/Crime': {'precision': 0.8409090909090909, 'recall': 0.8102189781021898, 'f1-score': 0.825278810408922, 'support': 137}, 'Labor/Employment': {'precision': 0.6842105263157895, 'recall': 0.4642857142857143, 'f1-score': 0.5531914893617021, 'support': 28}, 'Macroeconomics/Economic Regulation': {'precision': 0.8125, 'recall': 0.6290322580645161, 'f1-score': 0.7090909090909092, 'support': 62}, 'Media/Journalism': {'precision': 0.68, 'recall': 0.7083333333333334, 'f1-score': 0.6938775510204083, 'support': 48}, 'Others': {'precision': 0.8237410071942446, 'recall': 0.8450184501845018, 'f1-score': 0.8342440801457194, 'support': 271}, 'Religion': {'precision': 0.5, 'recall': 0.36363636363636365, 'f1-score': 0.4210526315789474, 'support': 11}, 'Science/Technology': {'precision': 0.6666666666666666, 'recall': 0.18181818181818182, 'f1-score': 0.28571428571428575, 'support': 11}, 'War/Terror': {'precision': 0.9428571428571428, 'recall': 0.9058823529411765, 'f1-score': 0.9239999999999999, 'support': 255}, 'micro avg': {'precision': 0.8209459459459459, 'recall': 0.7471176018447349, 'f1-score': 0.7822937625754527, 'support': 1301}, 'macro avg': {'precision': 0.7259426849796159, 'recall': 0.615456749650896, 'f1-score': 0.6551464123253967, 'support': 1301}, 'weighted avg': {'precision': 0.8168136599834133, 'recall': 0.7471176018447349, 'f1-score': 0.7766685582179377, 'support': 1301}, 'samples avg': {'precision': 0.8228333333333333, 'recall': 0.7862333333333333, 'f1-score': 0.7882714285714286, 'support': 1301}}, {'Conspiracy Theory': {'precision': 0.5365853658536586, 'recall': 0.4888888888888889, 'f1-score': 0.5116279069767442, 'support': 45}, 'Education': {'precision': 0.42857142857142855, 'recall': 0.46153846153846156, 'f1-score': 0.4444444444444445, 'support': 13}, 'Election Campaign': {'precision': 0.8, 'recall': 0.8484848484848485, 'f1-score': 0.823529411764706, 'support': 33}, 'Environment': {'precision': 0.8333333333333334, 'recall': 0.35714285714285715, 'f1-score': 0.5, 'support': 14}, 'Government/Public': {'precision': 0.7793103448275862, 'recall': 0.7766323024054983, 'f1-score': 0.7779690189328744, 'support': 291}, 'Health': {'precision': 0.7297297297297297, 'recall': 0.5869565217391305, 'f1-score': 0.6506024096385542, 'support': 46}, 'Immigration/Integration': {'precision': 0.8, 'recall': 0.6666666666666666, 'f1-score': 0.7272727272727272, 'support': 36}, 'Justice/Crime': {'precision': 0.782312925170068, 'recall': 0.8394160583941606, 'f1-score': 0.8098591549295774, 'support': 137}, 'Labor/Employment': {'precision': 0.5806451612903226, 'recall': 0.6428571428571429, 'f1-score': 0.6101694915254238, 'support': 28}, 'Macroeconomics/Economic Regulation': {'precision': 0.7213114754098361, 'recall': 0.7096774193548387, 'f1-score': 0.7154471544715446, 'support': 62}, 'Media/Journalism': {'precision': 0.84375, 'recall': 0.5625, 'f1-score': 0.675, 'support': 48}, 'Others': {'precision': 0.7881944444444444, 'recall': 0.8376383763837638, 'f1-score': 0.8121645796064401, 'support': 271}, 'Religion': {'precision': 0.6153846153846154, 'recall': 0.7272727272727273, 'f1-score': 0.6666666666666667, 'support': 11}, 'Science/Technology': {'precision': 1.0, 'recall': 0.36363636363636365, 'f1-score': 0.5333333333333333, 'support': 11}, 'War/Terror': {'precision': 0.9563318777292577, 'recall': 0.8588235294117647, 'f1-score': 0.9049586776859504, 'support': 255}, 'micro avg': {'precision': 0.794912559618442, 'recall': 0.7686395080707148, 'f1-score': 0.7815552950371238, 'support': 1301}, 'macro avg': {'precision': 0.746364046782952, 'recall': 0.6485421442784742, 'f1-score': 0.677536331816599, 'support': 1301}, 'weighted avg': {'precision': 0.8000169987612445, 'recall': 0.7686395080707148, 'f1-score': 0.7796543083498748, 'support': 1301}, 'samples avg': {'precision': 0.8118333333333333, 'recall': 0.7970499999999999, 'f1-score': 0.7901960317460317, 'support': 1301}}, {'Conspiracy Theory': {'precision': 0.6, 'recall': 0.3333333333333333, 'f1-score': 0.42857142857142855, 'support': 45}, 'Education': {'precision': 0.5, 'recall': 0.5384615384615384, 'f1-score': 0.5185185185185186, 'support': 13}, 'Election Campaign': {'precision': 0.8387096774193549, 'recall': 0.7878787878787878, 'f1-score': 0.8125, 'support': 33}, 'Environment': {'precision': 0.8888888888888888, 'recall': 0.5714285714285714, 'f1-score': 0.6956521739130435, 'support': 14}, 'Government/Public': {'precision': 0.7652733118971061, 'recall': 0.8178694158075601, 'f1-score': 0.7906976744186045, 'support': 291}, 'Health': {'precision': 0.7297297297297297, 'recall': 0.5869565217391305, 'f1-score': 0.6506024096385542, 'support': 46}, 'Immigration/Integration': {'precision': 0.8846153846153846, 'recall': 0.6388888888888888, 'f1-score': 0.7419354838709676, 'support': 36}, 'Justice/Crime': {'precision': 0.8384615384615385, 'recall': 0.7956204379562044, 'f1-score': 0.8164794007490638, 'support': 137}, 'Labor/Employment': {'precision': 0.64, 'recall': 0.5714285714285714, 'f1-score': 0.6037735849056605, 'support': 28}, 'Macroeconomics/Economic Regulation': {'precision': 0.8269230769230769, 'recall': 0.6935483870967742, 'f1-score': 0.7543859649122807, 'support': 62}, 'Media/Journalism': {'precision': 0.8611111111111112, 'recall': 0.6458333333333334, 'f1-score': 0.738095238095238, 'support': 48}, 'Others': {'precision': 0.8713692946058091, 'recall': 0.7749077490774908, 'f1-score': 0.8203125, 'support': 271}, 'Religion': {'precision': 0.6428571428571429, 'recall': 0.8181818181818182, 'f1-score': 0.7200000000000001, 'support': 11}, 'Science/Technology': {'precision': 0.4444444444444444, 'recall': 0.36363636363636365, 'f1-score': 0.39999999999999997, 'support': 11}, 'War/Terror': {'precision': 0.9105058365758755, 'recall': 0.9176470588235294, 'f1-score': 0.9140624999999999, 'support': 255}, 'micro avg': {'precision': 0.8216926869350862, 'recall': 0.7686395080707148, 'f1-score': 0.7942811755361397, 'support': 1301}, 'macro avg': {'precision': 0.7495259625019642, 'recall': 0.6570413851381264, 'f1-score': 0.6937057918395574, 'support': 1301}, 'weighted avg': {'precision': 0.8204475776112201, 'recall': 0.7686395080707148, 'f1-score': 0.7901483178423465, 'support': 1301}, 'samples avg': {'precision': 0.8249833333333334, 'recall': 0.8010166666666666, 'f1-score': 0.7992119047619047, 'support': 1301}}]\n",
    "venezuela_valid_results = [{'Conspiracy Theory': {'precision': 0.6216216216216216, 'recall': 0.5111111111111111, 'f1-score': 0.5609756097560976, 'support': 45}, 'Education': {'precision': 0.8571428571428571, 'recall': 0.5, 'f1-score': 0.631578947368421, 'support': 12}, 'Election Campaign': {'precision': 0.7241379310344828, 'recall': 0.84, 'f1-score': 0.7777777777777777, 'support': 25}, 'Environment': {'precision': 0.6666666666666666, 'recall': 0.5714285714285714, 'f1-score': 0.6153846153846153, 'support': 14}, 'Government/Public': {'precision': 0.7215909090909091, 'recall': 0.671957671957672, 'f1-score': 0.695890410958904, 'support': 189}, 'Health': {'precision': 0.851063829787234, 'recall': 0.7017543859649122, 'f1-score': 0.7692307692307693, 'support': 57}, 'Immigration/Integration': {'precision': 0.8095238095238095, 'recall': 0.6296296296296297, 'f1-score': 0.7083333333333334, 'support': 27}, 'Justice/Crime': {'precision': 0.803030303030303, 'recall': 0.8983050847457628, 'f1-score': 0.8480000000000001, 'support': 118}, 'Labor/Employment': {'precision': 0.7272727272727273, 'recall': 0.6956521739130435, 'f1-score': 0.711111111111111, 'support': 23}, 'Macroeconomics/Economic Regulation': {'precision': 0.7843137254901961, 'recall': 0.7142857142857143, 'f1-score': 0.7476635514018691, 'support': 56}, 'Media/Journalism': {'precision': 0.7916666666666666, 'recall': 0.6333333333333333, 'f1-score': 0.7037037037037038, 'support': 30}, 'Others': {'precision': 0.8805970149253731, 'recall': 0.8009049773755657, 'f1-score': 0.8388625592417063, 'support': 221}, 'Religion': {'precision': 0.3333333333333333, 'recall': 0.5, 'f1-score': 0.4, 'support': 8}, 'Science/Technology': {'precision': 0.3333333333333333, 'recall': 0.16666666666666666, 'f1-score': 0.2222222222222222, 'support': 6}, 'War/Terror': {'precision': 0.9585253456221198, 'recall': 0.9411764705882353, 'f1-score': 0.9497716894977167, 'support': 221}, 'micro avg': {'precision': 0.8203834510595358, 'recall': 0.7728136882129277, 'f1-score': 0.7958883994126285, 'support': 1052}, 'macro avg': {'precision': 0.7242546716361089, 'recall': 0.651747052733348, 'f1-score': 0.6787004200658832, 'support': 1052}, 'weighted avg': {'precision': 0.8200694461036517, 'recall': 0.7728136882129277, 'f1-score': 0.7933445325423749, 'support': 1052}, 'samples avg': {'precision': 0.8270833333333333, 'recall': 0.8021458333333333, 'f1-score': 0.8006140873015872, 'support': 1052}}, {'Conspiracy Theory': {'precision': 0.8, 'recall': 0.2926829268292683, 'f1-score': 0.4285714285714285, 'support': 41}, 'Education': {'precision': 0.5714285714285714, 'recall': 0.4444444444444444, 'f1-score': 0.5, 'support': 9}, 'Election Campaign': {'precision': 0.7083333333333334, 'recall': 0.7727272727272727, 'f1-score': 0.7391304347826088, 'support': 22}, 'Environment': {'precision': 1.0, 'recall': 0.4, 'f1-score': 0.5714285714285715, 'support': 10}, 'Government/Public': {'precision': 0.6564102564102564, 'recall': 0.735632183908046, 'f1-score': 0.6937669376693767, 'support': 174}, 'Health': {'precision': 0.8529411764705882, 'recall': 0.6744186046511628, 'f1-score': 0.7532467532467532, 'support': 43}, 'Immigration/Integration': {'precision': 0.9523809523809523, 'recall': 0.7407407407407407, 'f1-score': 0.8333333333333334, 'support': 27}, 'Justice/Crime': {'precision': 0.8681318681318682, 'recall': 0.7821782178217822, 'f1-score': 0.8229166666666666, 'support': 101}, 'Labor/Employment': {'precision': 0.75, 'recall': 0.4838709677419355, 'f1-score': 0.5882352941176471, 'support': 31}, 'Macroeconomics/Economic Regulation': {'precision': 0.7755102040816326, 'recall': 0.6229508196721312, 'f1-score': 0.6909090909090909, 'support': 61}, 'Media/Journalism': {'precision': 0.7, 'recall': 0.4827586206896552, 'f1-score': 0.5714285714285714, 'support': 29}, 'Others': {'precision': 0.8512396694214877, 'recall': 0.8442622950819673, 'f1-score': 0.8477366255144033, 'support': 244}, 'Religion': {'precision': 0.6666666666666666, 'recall': 0.3333333333333333, 'f1-score': 0.4444444444444444, 'support': 6}, 'Science/Technology': {'precision': 1.0, 'recall': 0.25, 'f1-score': 0.4, 'support': 8}, 'War/Terror': {'precision': 0.9319148936170213, 'recall': 0.9279661016949152, 'f1-score': 0.9299363057324841, 'support': 236}, 'micro avg': {'precision': 0.8201663201663202, 'recall': 0.7571976967370442, 'f1-score': 0.787425149700599, 'support': 1042}, 'macro avg': {'precision': 0.8056638394628252, 'recall': 0.5858644352891103, 'f1-score': 0.6543389638563588, 'support': 1042}, 'weighted avg': {'precision': 0.823708413394294, 'recall': 0.7571976967370442, 'f1-score': 0.7791725272628834, 'support': 1042}, 'samples avg': {'precision': 0.8220833333333333, 'recall': 0.795625, 'f1-score': 0.7931011904761904, 'support': 1042}}, {'Conspiracy Theory': {'precision': 0.7941176470588235, 'recall': 0.5192307692307693, 'f1-score': 0.627906976744186, 'support': 52}, 'Education': {'precision': 0.6666666666666666, 'recall': 0.6666666666666666, 'f1-score': 0.6666666666666666, 'support': 12}, 'Election Campaign': {'precision': 1.0, 'recall': 0.6842105263157895, 'f1-score': 0.8125000000000001, 'support': 19}, 'Environment': {'precision': 1.0, 'recall': 0.4, 'f1-score': 0.5714285714285715, 'support': 10}, 'Government/Public': {'precision': 0.6771300448430493, 'recall': 0.7947368421052632, 'f1-score': 0.7312348668280871, 'support': 190}, 'Health': {'precision': 0.9032258064516129, 'recall': 0.9032258064516129, 'f1-score': 0.9032258064516129, 'support': 31}, 'Immigration/Integration': {'precision': 0.7368421052631579, 'recall': 0.6363636363636364, 'f1-score': 0.6829268292682926, 'support': 22}, 'Justice/Crime': {'precision': 0.8315789473684211, 'recall': 0.797979797979798, 'f1-score': 0.8144329896907218, 'support': 99}, 'Labor/Employment': {'precision': 0.7647058823529411, 'recall': 0.52, 'f1-score': 0.6190476190476191, 'support': 25}, 'Macroeconomics/Economic Regulation': {'precision': 0.7678571428571429, 'recall': 0.7543859649122807, 'f1-score': 0.7610619469026548, 'support': 57}, 'Media/Journalism': {'precision': 0.9090909090909091, 'recall': 0.5128205128205128, 'f1-score': 0.6557377049180326, 'support': 39}, 'Others': {'precision': 0.8689320388349514, 'recall': 0.8136363636363636, 'f1-score': 0.8403755868544601, 'support': 220}, 'Religion': {'precision': 0.75, 'recall': 0.2727272727272727, 'f1-score': 0.39999999999999997, 'support': 11}, 'Science/Technology': {'precision': 0.0, 'recall': 0.0, 'f1-score': 0.0, 'support': 13}, 'War/Terror': {'precision': 0.9606986899563319, 'recall': 0.9016393442622951, 'f1-score': 0.930232558139535, 'support': 244}, 'micro avg': {'precision': 0.8310880829015544, 'recall': 0.7681992337164751, 'f1-score': 0.798407167745147, 'support': 1044}, 'macro avg': {'precision': 0.7753897253829339, 'recall': 0.6118415668981508, 'f1-score': 0.6677852081960294, 'support': 1044}, 'weighted avg': {'precision': 0.8291678609403849, 'recall': 0.7681992337164751, 'f1-score': 0.7903071787941347, 'support': 1044}, 'samples avg': {'precision': 0.8336458333333334, 'recall': 0.8032291666666665, 'f1-score': 0.8043095238095238, 'support': 1044}}, {'Conspiracy Theory': {'precision': 0.5, 'recall': 0.5588235294117647, 'f1-score': 0.5277777777777778, 'support': 34}, 'Education': {'precision': 0.8, 'recall': 0.5714285714285714, 'f1-score': 0.6666666666666666, 'support': 14}, 'Election Campaign': {'precision': 0.8421052631578947, 'recall': 0.7619047619047619, 'f1-score': 0.8, 'support': 21}, 'Environment': {'precision': 0.75, 'recall': 0.6428571428571429, 'f1-score': 0.6923076923076924, 'support': 14}, 'Government/Public': {'precision': 0.7567567567567568, 'recall': 0.7446808510638298, 'f1-score': 0.7506702412868633, 'support': 188}, 'Health': {'precision': 0.8260869565217391, 'recall': 0.7307692307692307, 'f1-score': 0.7755102040816326, 'support': 52}, 'Immigration/Integration': {'precision': 0.84, 'recall': 0.5675675675675675, 'f1-score': 0.6774193548387097, 'support': 37}, 'Justice/Crime': {'precision': 0.8947368421052632, 'recall': 0.8252427184466019, 'f1-score': 0.8585858585858587, 'support': 103}, 'Labor/Employment': {'precision': 0.6428571428571429, 'recall': 0.5294117647058824, 'f1-score': 0.5806451612903226, 'support': 17}, 'Macroeconomics/Economic Regulation': {'precision': 0.8918918918918919, 'recall': 0.6226415094339622, 'f1-score': 0.7333333333333333, 'support': 53}, 'Media/Journalism': {'precision': 0.875, 'recall': 0.65625, 'f1-score': 0.75, 'support': 32}, 'Others': {'precision': 0.8851674641148325, 'recall': 0.7676348547717843, 'f1-score': 0.8222222222222222, 'support': 241}, 'Religion': {'precision': 0.4, 'recall': 0.2857142857142857, 'f1-score': 0.3333333333333333, 'support': 14}, 'Science/Technology': {'precision': 0.5, 'recall': 0.125, 'f1-score': 0.2, 'support': 8}, 'War/Terror': {'precision': 0.8725868725868726, 'recall': 0.9576271186440678, 'f1-score': 0.9131313131313131, 'support': 236}, 'micro avg': {'precision': 0.8274111675126904, 'recall': 0.7659774436090225, 'f1-score': 0.7955100048804296, 'support': 1064}, 'macro avg': {'precision': 0.7518126126661595, 'recall': 0.6231702604479635, 'f1-score': 0.6721068772570484, 'support': 1064}, 'weighted avg': {'precision': 0.8269770674375722, 'recall': 0.7659774436090225, 'f1-score': 0.790770984527679, 'support': 1064}, 'samples avg': {'precision': 0.826875, 'recall': 0.7987083333333334, 'f1-score': 0.7997063492063492, 'support': 1064}}, {'Conspiracy Theory': {'precision': 0.8260869565217391, 'recall': 0.4634146341463415, 'f1-score': 0.59375, 'support': 41}, 'Education': {'precision': 1.0, 'recall': 0.21428571428571427, 'f1-score': 0.35294117647058826, 'support': 14}, 'Election Campaign': {'precision': 0.8947368421052632, 'recall': 0.5483870967741935, 'f1-score': 0.6799999999999999, 'support': 31}, 'Environment': {'precision': 1.0, 'recall': 0.16666666666666666, 'f1-score': 0.2857142857142857, 'support': 12}, 'Government/Public': {'precision': 0.7333333333333333, 'recall': 0.7021276595744681, 'f1-score': 0.7173913043478262, 'support': 188}, 'Health': {'precision': 0.7954545454545454, 'recall': 0.7954545454545454, 'f1-score': 0.7954545454545455, 'support': 44}, 'Immigration/Integration': {'precision': 0.9333333333333333, 'recall': 0.5384615384615384, 'f1-score': 0.6829268292682926, 'support': 26}, 'Justice/Crime': {'precision': 0.91, 'recall': 0.7583333333333333, 'f1-score': 0.8272727272727273, 'support': 120}, 'Labor/Employment': {'precision': 0.875, 'recall': 0.4375, 'f1-score': 0.5833333333333334, 'support': 16}, 'Macroeconomics/Economic Regulation': {'precision': 0.7021276595744681, 'recall': 0.6875, 'f1-score': 0.6947368421052632, 'support': 48}, 'Media/Journalism': {'precision': 0.7368421052631579, 'recall': 0.5185185185185185, 'f1-score': 0.6086956521739131, 'support': 27}, 'Others': {'precision': 0.8975609756097561, 'recall': 0.7666666666666667, 'f1-score': 0.8269662921348315, 'support': 240}, 'Religion': {'precision': 0.0, 'recall': 0.0, 'f1-score': 0.0, 'support': 10}, 'Science/Technology': {'precision': 0.0, 'recall': 0.0, 'f1-score': 0.0, 'support': 13}, 'War/Terror': {'precision': 0.8826086956521739, 'recall': 0.9441860465116279, 'f1-score': 0.9123595505617977, 'support': 215}, 'micro avg': {'precision': 0.8424581005586592, 'recall': 0.7215311004784689, 'f1-score': 0.777319587628866, 'support': 1045}, 'macro avg': {'precision': 0.7458056297898514, 'recall': 0.502766828026241, 'f1-score': 0.5707695025891603, 'support': 1045}, 'weighted avg': {'precision': 0.8293895778652883, 'recall': 0.7215311004784689, 'f1-score': 0.7602263978913698, 'support': 1045}, 'samples avg': {'precision': 0.8133333333333332, 'recall': 0.7571875, 'f1-score': 0.7708214285714285, 'support': 1045}}]"
   ]
  },
  {
   "cell_type": "code",
   "execution_count": 32,
   "metadata": {},
   "outputs": [
    {
     "data": {
      "text/html": [
       "<div>\n",
       "<style scoped>\n",
       "    .dataframe tbody tr th:only-of-type {\n",
       "        vertical-align: middle;\n",
       "    }\n",
       "\n",
       "    .dataframe tbody tr th {\n",
       "        vertical-align: top;\n",
       "    }\n",
       "\n",
       "    .dataframe thead th {\n",
       "        text-align: right;\n",
       "    }\n",
       "</style>\n",
       "<table border=\"1\" class=\"dataframe\">\n",
       "  <thead>\n",
       "    <tr style=\"text-align: right;\">\n",
       "      <th></th>\n",
       "      <th>precision</th>\n",
       "      <th>recall</th>\n",
       "      <th>f1-score</th>\n",
       "      <th>support</th>\n",
       "    </tr>\n",
       "  </thead>\n",
       "  <tbody>\n",
       "    <tr>\n",
       "      <th>Conspiracy Theory</th>\n",
       "      <td>0.694444</td>\n",
       "      <td>0.416667</td>\n",
       "      <td>0.520833</td>\n",
       "      <td>60.0</td>\n",
       "    </tr>\n",
       "    <tr>\n",
       "      <th>Education</th>\n",
       "      <td>0.833333</td>\n",
       "      <td>0.625000</td>\n",
       "      <td>0.714286</td>\n",
       "      <td>16.0</td>\n",
       "    </tr>\n",
       "    <tr>\n",
       "      <th>Election Campaign</th>\n",
       "      <td>0.861111</td>\n",
       "      <td>0.885714</td>\n",
       "      <td>0.873239</td>\n",
       "      <td>35.0</td>\n",
       "    </tr>\n",
       "    <tr>\n",
       "      <th>Environment</th>\n",
       "      <td>0.875000</td>\n",
       "      <td>0.500000</td>\n",
       "      <td>0.636364</td>\n",
       "      <td>14.0</td>\n",
       "    </tr>\n",
       "    <tr>\n",
       "      <th>Government/Public</th>\n",
       "      <td>0.756554</td>\n",
       "      <td>0.827869</td>\n",
       "      <td>0.790607</td>\n",
       "      <td>244.0</td>\n",
       "    </tr>\n",
       "    <tr>\n",
       "      <th>Health</th>\n",
       "      <td>0.804878</td>\n",
       "      <td>0.804878</td>\n",
       "      <td>0.804878</td>\n",
       "      <td>41.0</td>\n",
       "    </tr>\n",
       "    <tr>\n",
       "      <th>Immigration/Integration</th>\n",
       "      <td>0.693878</td>\n",
       "      <td>0.755556</td>\n",
       "      <td>0.723404</td>\n",
       "      <td>45.0</td>\n",
       "    </tr>\n",
       "    <tr>\n",
       "      <th>Justice/Crime</th>\n",
       "      <td>0.756303</td>\n",
       "      <td>0.818182</td>\n",
       "      <td>0.786026</td>\n",
       "      <td>110.0</td>\n",
       "    </tr>\n",
       "    <tr>\n",
       "      <th>Labor/Employment</th>\n",
       "      <td>0.812500</td>\n",
       "      <td>0.812500</td>\n",
       "      <td>0.812500</td>\n",
       "      <td>16.0</td>\n",
       "    </tr>\n",
       "    <tr>\n",
       "      <th>Macroeconomics/Economic Regulation</th>\n",
       "      <td>0.666667</td>\n",
       "      <td>0.720000</td>\n",
       "      <td>0.692308</td>\n",
       "      <td>50.0</td>\n",
       "    </tr>\n",
       "    <tr>\n",
       "      <th>Media/Journalism</th>\n",
       "      <td>0.641026</td>\n",
       "      <td>0.781250</td>\n",
       "      <td>0.704225</td>\n",
       "      <td>32.0</td>\n",
       "    </tr>\n",
       "    <tr>\n",
       "      <th>Others</th>\n",
       "      <td>0.859903</td>\n",
       "      <td>0.770563</td>\n",
       "      <td>0.812785</td>\n",
       "      <td>231.0</td>\n",
       "    </tr>\n",
       "    <tr>\n",
       "      <th>Religion</th>\n",
       "      <td>0.769231</td>\n",
       "      <td>0.714286</td>\n",
       "      <td>0.740741</td>\n",
       "      <td>14.0</td>\n",
       "    </tr>\n",
       "    <tr>\n",
       "      <th>Science/Technology</th>\n",
       "      <td>1.000000</td>\n",
       "      <td>0.142857</td>\n",
       "      <td>0.250000</td>\n",
       "      <td>14.0</td>\n",
       "    </tr>\n",
       "    <tr>\n",
       "      <th>War/Terror</th>\n",
       "      <td>0.906077</td>\n",
       "      <td>0.921348</td>\n",
       "      <td>0.913649</td>\n",
       "      <td>178.0</td>\n",
       "    </tr>\n",
       "    <tr>\n",
       "      <th>micro avg</th>\n",
       "      <td>0.796296</td>\n",
       "      <td>0.781818</td>\n",
       "      <td>0.788991</td>\n",
       "      <td>1100.0</td>\n",
       "    </tr>\n",
       "    <tr>\n",
       "      <th>macro avg</th>\n",
       "      <td>0.795394</td>\n",
       "      <td>0.699778</td>\n",
       "      <td>0.718390</td>\n",
       "      <td>1100.0</td>\n",
       "    </tr>\n",
       "    <tr>\n",
       "      <th>weighted avg</th>\n",
       "      <td>0.800855</td>\n",
       "      <td>0.781818</td>\n",
       "      <td>0.783163</td>\n",
       "      <td>1100.0</td>\n",
       "    </tr>\n",
       "    <tr>\n",
       "      <th>samples avg</th>\n",
       "      <td>0.807500</td>\n",
       "      <td>0.803438</td>\n",
       "      <td>0.789357</td>\n",
       "      <td>1100.0</td>\n",
       "    </tr>\n",
       "  </tbody>\n",
       "</table>\n",
       "</div>"
      ],
      "text/plain": [
       "                                    precision    recall  f1-score  support\n",
       "Conspiracy Theory                    0.694444  0.416667  0.520833     60.0\n",
       "Education                            0.833333  0.625000  0.714286     16.0\n",
       "Election Campaign                    0.861111  0.885714  0.873239     35.0\n",
       "Environment                          0.875000  0.500000  0.636364     14.0\n",
       "Government/Public                    0.756554  0.827869  0.790607    244.0\n",
       "Health                               0.804878  0.804878  0.804878     41.0\n",
       "Immigration/Integration              0.693878  0.755556  0.723404     45.0\n",
       "Justice/Crime                        0.756303  0.818182  0.786026    110.0\n",
       "Labor/Employment                     0.812500  0.812500  0.812500     16.0\n",
       "Macroeconomics/Economic Regulation   0.666667  0.720000  0.692308     50.0\n",
       "Media/Journalism                     0.641026  0.781250  0.704225     32.0\n",
       "Others                               0.859903  0.770563  0.812785    231.0\n",
       "Religion                             0.769231  0.714286  0.740741     14.0\n",
       "Science/Technology                   1.000000  0.142857  0.250000     14.0\n",
       "War/Terror                           0.906077  0.921348  0.913649    178.0\n",
       "micro avg                            0.796296  0.781818  0.788991   1100.0\n",
       "macro avg                            0.795394  0.699778  0.718390   1100.0\n",
       "weighted avg                         0.800855  0.781818  0.783163   1100.0\n",
       "samples avg                          0.807500  0.803438  0.789357   1100.0"
      ]
     },
     "execution_count": 32,
     "metadata": {},
     "output_type": "execute_result"
    }
   ],
   "source": [
    "pd.DataFrame(generic_valid_results[1]).transpose()"
   ]
  },
  {
   "cell_type": "code",
   "execution_count": null,
   "metadata": {},
   "outputs": [],
   "source": []
  },
  {
   "cell_type": "code",
   "execution_count": 34,
   "metadata": {},
   "outputs": [
    {
     "name": "stdout",
     "output_type": "stream",
     "text": [
      "Conspiracy Theory 47.0\n",
      "Education 12.0\n",
      "Election Campaign 26.0\n",
      "Environment 14.0\n",
      "Government/Public 252.0\n",
      "Health 45.0\n",
      "Immigration/Integration 40.0\n",
      "Justice/Crime 107.0\n",
      "Labor/Employment 19.0\n",
      "Macroeconomics/Economic Regulation 58.0\n",
      "Media/Journalism 38.0\n",
      "Others 205.0\n",
      "Religion 22.0\n",
      "Science/Technology 10.0\n",
      "War/Terror 185.0\n",
      "Conspiracy Theory 60.0\n",
      "Education 16.0\n",
      "Election Campaign 35.0\n",
      "Environment 14.0\n",
      "Government/Public 244.0\n",
      "Health 41.0\n",
      "Immigration/Integration 45.0\n",
      "Justice/Crime 110.0\n",
      "Labor/Employment 16.0\n",
      "Macroeconomics/Economic Regulation 50.0\n",
      "Media/Journalism 32.0\n",
      "Others 231.0\n",
      "Religion 14.0\n",
      "Science/Technology 14.0\n",
      "War/Terror 178.0\n",
      "Conspiracy Theory 44.0\n",
      "Education 11.0\n",
      "Election Campaign 25.0\n",
      "Environment 11.0\n",
      "Government/Public 248.0\n",
      "Health 40.0\n",
      "Immigration/Integration 29.0\n",
      "Justice/Crime 115.0\n",
      "Labor/Employment 20.0\n",
      "Macroeconomics/Economic Regulation 48.0\n",
      "Media/Journalism 45.0\n",
      "Others 211.0\n",
      "Religion 10.0\n",
      "Science/Technology 11.0\n",
      "War/Terror 200.0\n",
      "Conspiracy Theory 48.0\n",
      "Education 10.0\n",
      "Election Campaign 24.0\n",
      "Environment 8.0\n",
      "Government/Public 250.0\n",
      "Health 49.0\n",
      "Immigration/Integration 45.0\n",
      "Justice/Crime 116.0\n",
      "Labor/Employment 24.0\n",
      "Macroeconomics/Economic Regulation 56.0\n",
      "Media/Journalism 39.0\n",
      "Others 188.0\n",
      "Religion 16.0\n",
      "Science/Technology 7.0\n",
      "War/Terror 198.0\n",
      "Conspiracy Theory 55.0\n",
      "Education 14.0\n",
      "Election Campaign 23.0\n",
      "Environment 11.0\n",
      "Government/Public 254.0\n",
      "Health 39.0\n",
      "Immigration/Integration 42.0\n",
      "Justice/Crime 124.0\n",
      "Labor/Employment 18.0\n",
      "Macroeconomics/Economic Regulation 38.0\n",
      "Media/Journalism 30.0\n",
      "Others 222.0\n",
      "Religion 9.0\n",
      "Science/Technology 12.0\n",
      "War/Terror 178.0\n",
      "Precision correlation with support:\n",
      "Conspiracy Theory                     0.550244\n",
      "Education                             0.480128\n",
      "Election Campaign                     0.481867\n",
      "Environment                          -0.289886\n",
      "Government/Public                    -0.008400\n",
      "Health                               -0.167171\n",
      "Immigration/Integration               0.053300\n",
      "Justice/Crime                         0.477201\n",
      "Labor/Employment                      0.355141\n",
      "Macroeconomics/Economic Regulation    0.825933\n",
      "Media/Journalism                      0.395220\n",
      "Others                                0.938215\n",
      "Religion                              0.617221\n",
      "Science/Technology                    0.725946\n",
      "War/Terror                            0.137629\n",
      "dtype: float64\n",
      "\n",
      "Recall correlation with support:\n",
      "Conspiracy Theory                    -0.065111\n",
      "Education                             0.634716\n",
      "Election Campaign                     0.691860\n",
      "Environment                           0.358134\n",
      "Government/Public                     0.405783\n",
      "Health                                0.351877\n",
      "Immigration/Integration              -0.466745\n",
      "Justice/Crime                        -0.251042\n",
      "Labor/Employment                     -0.758536\n",
      "Macroeconomics/Economic Regulation   -0.150775\n",
      "Media/Journalism                      0.437699\n",
      "Others                               -0.808160\n",
      "Religion                             -0.028971\n",
      "Science/Technology                    0.251426\n",
      "War/Terror                           -0.199741\n",
      "dtype: float64\n",
      "\n",
      "F1-score correlation with support:\n",
      "Conspiracy Theory                     0.101234\n",
      "Education                             0.620442\n",
      "Election Campaign                     0.579305\n",
      "Environment                           0.364778\n",
      "Government/Public                     0.960879\n",
      "Health                                0.273243\n",
      "Immigration/Integration              -0.572540\n",
      "Justice/Crime                         0.098371\n",
      "Labor/Employment                     -0.752069\n",
      "Macroeconomics/Economic Regulation    0.515777\n",
      "Media/Journalism                      0.680919\n",
      "Others                               -0.185222\n",
      "Religion                              0.330452\n",
      "Science/Technology                    0.391764\n",
      "War/Terror                           -0.104895\n",
      "dtype: float64\n"
     ]
    }
   ],
   "source": [
    "import pandas as pd\n",
    "\n",
    "# Initialize dictionaries to store metrics\n",
    "precision_dict = {label: [] for label in pd.DataFrame(generic_valid_results[0]).transpose().index[:-4]}\n",
    "recall_dict = {label: [] for label in pd.DataFrame(generic_valid_results[0]).transpose().index[:-4]}\n",
    "f1_dict = {label: [] for label in pd.DataFrame(generic_valid_results[0]).transpose().index[:-4]}\n",
    "support_dict = {label: [] for label in pd.DataFrame(generic_valid_results[0]).transpose().index[:-4]}\n",
    "\n",
    "# Loop through the results and add metrics to lists\n",
    "for i in range(0, 5):\n",
    "    report_df = pd.DataFrame(generic_valid_results[i]).transpose()\n",
    "    for label in report_df.index[:-4]:  # Exclude averages\n",
    "        precision_dict[label].append(report_df.loc[label, 'precision'])\n",
    "        recall_dict[label].append(report_df.loc[label, 'recall'])\n",
    "        f1_dict[label].append(report_df.loc[label, 'f1-score'])\n",
    "        support_dict[label].append(report_df.loc[label, 'support'])\n",
    "        print(label, report_df.loc[label, 'support'])\n",
    "\n",
    "# Create DataFrames from the collected metrics\n",
    "precision_df = pd.DataFrame(precision_dict)\n",
    "recall_df = pd.DataFrame(recall_dict)\n",
    "f1_df = pd.DataFrame(f1_dict)\n",
    "support_df = pd.DataFrame(support_dict)\n",
    "\n",
    "# Create correlation matrices\n",
    "precision_corr = precision_df.corrwith(support_df)\n",
    "recall_corr = recall_df.corrwith(support_df)\n",
    "f1_corr = f1_df.corrwith(support_df)\n",
    "\n",
    "# Print correlation matrices\n",
    "print('Precision correlation with support:')\n",
    "print(precision_corr)\n",
    "print('\\nRecall correlation with support:')\n",
    "print(recall_corr)\n",
    "print('\\nF1-score correlation with support:')\n",
    "print(f1_corr)"
   ]
  },
  {
   "cell_type": "code",
   "execution_count": 30,
   "metadata": {},
   "outputs": [],
   "source": [
    "import pandas as pd\n",
    "\n",
    "dataframes = {\n",
    "    \"generic_val_average_report\": generic_val_average_report_df,\n",
    "    \"generic_test_average_report\": generic_test_average_report_df,\n",
    "    \"GRU_202012_val_average_report\": GRU_202012_val_average_report_df,\n",
    "    \"GRU_202012_test_average_report\": GRU_202012_test_average_report_df,\n",
    "    \"IRA_202012_val_average_report\": IRA_202012_val_average_report_df,\n",
    "    \"IRA_202012_test_average_report\": IRA_202012_test_average_report_df,\n",
    "    \"REA_0621_val_average_report\": REA_0621_val_average_report_df,\n",
    "    \"REA_0621_test_average_report\": REA_0621_test_average_report_df,\n",
    "    \"UGANDA_0621_val_average_report\": UGANDA_0621_val_average_report_df,\n",
    "    \"UGANDA_0621_test_average_report\": UGANDA_0621_test_average_report_df,\n",
    "    \"VENEZUELA_201901_2_val_average_report\": VENEZUELA_201901_2_val_average_report_df,\n",
    "    \"VENEZUELA_201901_2_test_average_report\": VENEZUELA_201901_2_test_average_report_df,\n",
    "}\n",
    "\n",
    "for name, df in dataframes.items():\n",
    "    csv_filename = f\"../reports/{name}_weight_decay.csv\"\n",
    "    df.to_csv(csv_filename, index=False)"
   ]
  },
  {
   "attachments": {},
   "cell_type": "markdown",
   "metadata": {},
   "source": [
    "# Macro Averages:"
   ]
  },
  {
   "cell_type": "code",
   "execution_count": 37,
   "metadata": {},
   "outputs": [
    {
     "name": "stdout",
     "output_type": "stream",
     "text": [
      "          Train Data  Test Data  Validation  Test\n",
      "0            generic    generic        0.69  0.68\n",
      "1        All but GRU        GRU        0.68  0.42\n",
      "2        All but IRA        IRA        0.70  0.56\n",
      "3        All but REA        REA        0.66  0.54\n",
      "4     All but UGANDA     UGANDA        0.69  0.48\n",
      "5  All but VENEZUELA  VENEZUELA        0.65  0.55\n"
     ]
    }
   ],
   "source": [
    "def extract_macro_avg_value(df):\n",
    "    return df[df.index == \"macro avg\"][\"f1-score\"].values[0]\n",
    "\n",
    "summary_data = []\n",
    "\n",
    "for name, df in dataframes.items():\n",
    "    micro_avg_value = round(extract_macro_avg_value(df), 2)\n",
    "    train_data = name.split(\"_\")[0]\n",
    "\n",
    "    if \"val\" in name:\n",
    "        validation_value = micro_avg_value\n",
    "        test_value = None\n",
    "    elif \"test\" in name:\n",
    "        validation_value = None\n",
    "        test_value = micro_avg_value\n",
    "\n",
    "    test_data = train_data\n",
    "    if train_data != \"generic\":\n",
    "        train_data = \"All but \" + train_data\n",
    "\n",
    "    summary_data.append({\n",
    "        \"Train Data\": train_data,\n",
    "        \"Test Data\": test_data,\n",
    "        \"Validation\": validation_value,\n",
    "        \"Test\": test_value,\n",
    "    })\n",
    "\n",
    "# Combine rows with the same \"Train Data\" and \"Test Data\" into one\n",
    "macro_summary_df = pd.DataFrame(summary_data)\n",
    "macro_summary_df = macro_summary_df.groupby([\"Train Data\", \"Test Data\"], as_index=False).first()\n",
    "\n",
    "# Reorder columns\n",
    "macro_summary_df = macro_summary_df[[\"Train Data\", \"Test Data\", \"Validation\", \"Test\"]]\n",
    "macro_summary_df = macro_summary_df.reindex([macro_summary_df.index[-1]] + list(macro_summary_df.index[:-1]))\n",
    "macro_summary_df = macro_summary_df.reset_index(drop=True)\n",
    "\n",
    "print(macro_summary_df)"
   ]
  },
  {
   "attachments": {},
   "cell_type": "markdown",
   "metadata": {},
   "source": [
    "# Micro Averages:"
   ]
  },
  {
   "cell_type": "code",
   "execution_count": 32,
   "metadata": {},
   "outputs": [
    {
     "name": "stdout",
     "output_type": "stream",
     "text": [
      "          Train Data  Test Data  Validation  Test\n",
      "0            generic    generic        0.80  0.78\n",
      "1        All but GRU        GRU        0.78  0.77\n",
      "2        All but IRA        IRA        0.81  0.63\n",
      "3        All but REA        REA        0.79  0.72\n",
      "4     All but UGANDA     UGANDA        0.80  0.76\n",
      "5  All but VENEZUELA  VENEZUELA        0.79  0.70\n"
     ]
    }
   ],
   "source": [
    "def extract_micro_avg_value(df):\n",
    "    return df[df.index == \"micro avg\"][\"f1-score\"].values[0]\n",
    "\n",
    "summary_data = []\n",
    "\n",
    "for name, df in dataframes.items():\n",
    "    micro_avg_value = round(extract_micro_avg_value(df), 2)\n",
    "    train_data = name.split(\"_\")[0]\n",
    "\n",
    "    if \"val\" in name:\n",
    "        validation_value = micro_avg_value\n",
    "        test_value = None\n",
    "    elif \"test\" in name:\n",
    "        validation_value = None\n",
    "        test_value = micro_avg_value\n",
    "\n",
    "    test_data = train_data\n",
    "    if train_data != \"generic\":\n",
    "        train_data = \"All but \" + train_data\n",
    "\n",
    "    summary_data.append({\n",
    "        \"Train Data\": train_data,\n",
    "        \"Test Data\": test_data,\n",
    "        \"Validation\": validation_value,\n",
    "        \"Test\": test_value,\n",
    "    })\n",
    "\n",
    "# Combine rows with the same \"Train Data\" and \"Test Data\" into one\n",
    "micro_summary_df = pd.DataFrame(summary_data)\n",
    "micro_summary_df = micro_summary_df.groupby([\"Train Data\", \"Test Data\"], as_index=False).first()\n",
    "\n",
    "# Reorder columns\n",
    "micro_summary_df = micro_summary_df[[\"Train Data\", \"Test Data\", \"Validation\", \"Test\"]]\n",
    "micro_summary_df = micro_summary_df.reindex([micro_summary_df.index[-1]] + list(micro_summary_df.index[:-1]))\n",
    "micro_summary_df = micro_summary_df.reset_index(drop=True)\n",
    "\n",
    "print(micro_summary_df)"
   ]
  },
  {
   "cell_type": "code",
   "execution_count": 7,
   "metadata": {},
   "outputs": [
    {
     "name": "stdout",
     "output_type": "stream",
     "text": [
      "Human-readable table:\n",
      "   Dataset           BERTweet Large     \n",
      "Train Data Test Data     Validation Test\n",
      "   Generic   Generic            0.8 0.79\n",
      "\n",
      "\n",
      "LaTeX table:\n",
      "\\begin{tabular}{|l|l|l|l|}\n",
      "\\hline \\hline{@{}c@{}}{|l|l|l|l|}\n",
      "\n",
      "   Dataset & \\multicolumn{2}{c}{BERTweet Large} \\\\ \\hline\n",
      "Train Data & Test Data &     Validation & Test \\\\ \\hline\n",
      "\n",
      "   Generic &   Generic &            0,8 & 0,79 \\\\ \\hline\n",
      "\n",
      "\\\\ \\hline \\hline\n",
      "\\end{tabular}{@{}c@{}}\n",
      "\n"
     ]
    },
    {
     "name": "stderr",
     "output_type": "stream",
     "text": [
      "C:\\Users\\bruno\\AppData\\Local\\Temp\\ipykernel_16532\\3602932945.py:23: FutureWarning: In future versions `DataFrame.to_latex` is expected to utilise the base implementation of `Styler.to_latex` for formatting and rendering. The arguments signature may therefore change. It is recommended instead to use `DataFrame.style.to_latex` which also contains additional functionality.\n",
      "  latex_table = f1_scores_df.to_latex(index=False, bold_rows=True, multicolumn=True, multicolumn_format='c', decimal=',', column_format='|l|l|l|l|', header=True, escape=False)\n"
     ]
    }
   ],
   "source": [
    "def create_latex_table(val_average_report_df, test_average_report_df):\n",
    "    train_data = \"Generic\"\n",
    "    test_data = \"Generic\"\n",
    "    \n",
    "    val_micro_avg = round(val_average_report_df.loc[\"micro avg\", \"f1-score\"], 2)\n",
    "    test_micro_avg = round(test_average_report_df.loc[\"micro avg\", \"f1-score\"], 2)\n",
    "    \n",
    "    data = [[train_data, test_data, val_micro_avg, test_micro_avg]]\n",
    "    \n",
    "    columns = pd.MultiIndex.from_tuples([\n",
    "        (\"Dataset\", \"Train Data\"),\n",
    "        (\"Dataset\", \"Test Data\"),\n",
    "        (\"BERTweet Large\", \"Validation\"),\n",
    "        (\"BERTweet Large\", \"Test\")\n",
    "    ])\n",
    "    \n",
    "    f1_scores_df = pd.DataFrame(data, columns=columns)\n",
    "    \n",
    "    print(\"Human-readable table:\")\n",
    "    print(f1_scores_df.to_string(index=False))\n",
    "    print(\"\\n\")\n",
    "    \n",
    "    latex_table = f1_scores_df.to_latex(index=False, bold_rows=True, multicolumn=True, multicolumn_format='c', decimal=',', column_format='|l|l|l|l|', header=True, escape=False)\n",
    "\n",
    "    latex_table = latex_table.replace('\\\\toprule', '')\n",
    "    latex_table = latex_table.replace('\\\\midrule', '')\n",
    "    latex_table = latex_table.replace('\\\\bottomrule', '')\n",
    "\n",
    "    # Resize the header and center it\n",
    "    latex_table = latex_table.replace('{tabular}', '{tabular}{@{}c@{}}')\n",
    "    latex_table = latex_table.replace('Dataset & BERTweet Large', '\\\\large{Dataset} & \\\\large{BERTweet Large}')\n",
    "    \n",
    "    latex_table = latex_table.replace(\"\\\\begin{tabular}\", \"\\\\begin{tabular}{|l|l|l|l|}\\n\\\\hline \\\\hline\")\n",
    "    latex_table = latex_table.replace(\"\\\\end{tabular}\", \"\\\\\\\\ \\\\hline \\\\hline\\n\\\\end{tabular}\")\n",
    "\n",
    "    # Add borders between the rows\n",
    "    latex_table = latex_table.replace('\\\\\\\\\\n', '\\\\\\\\ \\\\hline\\n')\n",
    "\n",
    "    return latex_table\n",
    "\n",
    "latex_table = create_latex_table(val_average_report_df, test_average_report_df)\n",
    "print(\"LaTeX table:\")\n",
    "print(latex_table)"
   ]
  }
 ],
 "metadata": {
  "kernelspec": {
   "display_name": "my_env",
   "language": "python",
   "name": "python3"
  },
  "language_info": {
   "codemirror_mode": {
    "name": "ipython",
    "version": 3
   },
   "file_extension": ".py",
   "mimetype": "text/x-python",
   "name": "python",
   "nbconvert_exporter": "python",
   "pygments_lexer": "ipython3",
   "version": "3.11.3"
  },
  "orig_nbformat": 4
 },
 "nbformat": 4,
 "nbformat_minor": 2
}
