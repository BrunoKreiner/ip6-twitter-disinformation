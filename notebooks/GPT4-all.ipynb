{
 "cells": [
  {
   "cell_type": "code",
   "execution_count": 2,
   "metadata": {},
   "outputs": [
    {
     "name": "stdout",
     "output_type": "stream",
     "text": [
      "Cloning into 'gpt4all'...\n",
      "remote: Enumerating objects: 927, done.\u001b[K\n",
      "remote: Counting objects: 100% (323/323), done.\u001b[Kobjects:  45% (146/323)\u001b[K\n",
      "remote: Compressing objects: 100% (165/165), done.\u001b[K\n",
      "remote: Total 927 (delta 189), reused 279 (delta 156), pack-reused 604\u001b[K\n",
      "Receiving objects: 100% (927/927), 6.14 MiB | 13.97 MiB/s, done.\n",
      "Resolving deltas: 100% (528/528), done.\n",
      "Submodule 'peft' (https://github.com/huggingface/peft.git) registered for path 'peft'\n",
      "Cloning into '/home/bruno/Documents/ip6-twitter-disinformation/notebooks/gpt4all/peft'...\n",
      "remote: Enumerating objects: 2520, done.        \n",
      "remote: Counting objects: 100% (23/23), done.        \n",
      "remote: Compressing objects: 100% (21/21), done.        \n",
      "remote: Total 2520 (delta 8), reused 8 (delta 1), pack-reused 2497        \n",
      "Receiving objects: 100% (2520/2520), 7.64 MiB | 21.48 MiB/s, done.\n",
      "Resolving deltas: 100% (1593/1593), done.\n",
      "Submodule path 'peft': checked out '098962fa6515f2e4fe83a757f5995d3ffbb1c373'\n",
      "/bin/sh: line 1: cd: /content/gpt4all: No such file or directory\n",
      "\u001b[31mERROR: Could not open requirements file: [Errno 2] No such file or directory: 'requirements.txt'\u001b[0m\u001b[31m\n",
      "\u001b[0m/bin/sh: line 1: cd: transformers: No such file or directory\n",
      "Obtaining file:///home/bruno/Documents/ip6-twitter-disinformation/notebooks\n",
      "\u001b[31mERROR: file:///home/bruno/Documents/ip6-twitter-disinformation/notebooks does not appear to be a Python project: neither 'setup.py' nor 'pyproject.toml' found.\u001b[0m\u001b[31m\n",
      "\u001b[0m/bin/sh: line 1: cd: ../peft: No such file or directory\n",
      "Obtaining file:///home/bruno/Documents/ip6-twitter-disinformation/notebooks\n",
      "\u001b[31mERROR: file:///home/bruno/Documents/ip6-twitter-disinformation/notebooks does not appear to be a Python project: neither 'setup.py' nor 'pyproject.toml' found.\u001b[0m\u001b[31m\n",
      "\u001b[0m/bin/sh: line 1: accelerate: command not found\n",
      "/bin/sh: line 1: cd: /content/gpt4all/chat: No such file or directory\n",
      "[0] Downloading 'https://the-eye.eu/public/AI/models/nomic-ai/gpt4all/gpt4all-lora-quantized.bin' ...\n",
      "Saving 'gpt4all-lora-quantized.bin'\n",
      "^C\n",
      "/bin/sh: line 1: ./gpt4all-lora-quantized-linux-x86: No such file or directory\n"
     ]
    }
   ],
   "source": [
    "!git clone --recurse-submodules https://github.com/nomic-ai/gpt4all.git\n",
    "\n",
    "!cd /content/gpt4all\n",
    "!python -m pip install -r requirements.txt\n",
    "\n",
    "!cd transformers\n",
    "!pip install -e .\n",
    "\n",
    "!cd ../peft\n",
    "!pip install -e .\n",
    "\n",
    "!accelerate launch --dynamo_backend=inductor --num_processes=8 --num_machines=1 --machine_rank=0 --deepspeed_multinode_launcher standard --mixed_precision=bf16  --use_deepspeed --deepspeed_config_file=configs/deepspeed/ds_config.json train.py --config configs/train/finetune.yaml\n",
    "\n",
    "!cd /content/gpt4all/chat\n",
    "!wget https://the-eye.eu/public/AI/models/nomic-ai/gpt4all/gpt4all-lora-quantized.bin\n",
    "\n",
    "!./gpt4all-lora-quantized-linux-x86"
   ]
  }
 ],
 "metadata": {
  "kernelspec": {
   "display_name": "Python 3",
   "language": "python",
   "name": "python3"
  },
  "language_info": {
   "codemirror_mode": {
    "name": "ipython",
    "version": 3
   },
   "file_extension": ".py",
   "mimetype": "text/x-python",
   "name": "python",
   "nbconvert_exporter": "python",
   "pygments_lexer": "ipython3",
   "version": "3.11.2"
  },
  "orig_nbformat": 4
 },
 "nbformat": 4,
 "nbformat_minor": 2
}
