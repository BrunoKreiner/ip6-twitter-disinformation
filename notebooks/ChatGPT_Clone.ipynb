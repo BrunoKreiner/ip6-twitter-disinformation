{
  "cells": [
    {
      "cell_type": "markdown",
      "metadata": {
        "id": "miNr97aEap9d"
      },
      "source": [
        "**Sources :**\n",
        "\n",
        "https://www.listendata.com/2023/04/open-source-gpt-4-models-made-easy.html\n",
        "\n",
        "https://www.listendata.com/2023/03/open-source-chatgpt-models-step-by-step.html"
      ]
    },
    {
      "cell_type": "markdown",
      "metadata": {
        "id": "swyeJ-KTGn_X"
      },
      "source": [
        "# Create an environment with Python 3.9"
      ]
    },
    {
      "cell_type": "code",
      "execution_count": 11,
      "metadata": {
        "id": "EQJSsAOmGk1p"
      },
      "outputs": [],
      "source": [
        "import sys\n",
        "sys.path.append(\"/usr/local/lib/python3.9/site-packages\")"
      ]
    },
    {
      "cell_type": "markdown",
      "metadata": {
        "id": "ATlefPXhJUa7"
      },
      "source": [
        "The NVIDIA System Management Interface (nvidia-smi) is a command line utility, based on top of the NVIDIA Management Library (NVML), intended to aid in the management and monitoring of NVIDIA GPU devices.\n",
        "\n"
      ]
    },
    {
      "cell_type": "code",
      "execution_count": 12,
      "metadata": {
        "colab": {
          "base_uri": "https://localhost:8080/"
        },
        "id": "jZ8IoSCjJRxR",
        "outputId": "2f23fd7a-9310-4435-d8b2-0c5965c02886"
      },
      "outputs": [
        {
          "name": "stdout",
          "output_type": "stream",
          "text": [
            "/bin/sh: line 1: nvidia-smi: command not found\n"
          ]
        }
      ],
      "source": [
        "!nvidia-smi"
      ]
    },
    {
      "cell_type": "markdown",
      "metadata": {
        "id": "KyegRLSyHDaA"
      },
      "source": [
        "# Download Git Repos\n"
      ]
    },
    {
      "cell_type": "code",
      "execution_count": 13,
      "metadata": {
        "colab": {
          "base_uri": "https://localhost:8080/"
        },
        "id": "csRILimDGvX6",
        "outputId": "779cc518-b33e-4cfc-cec1-df3bf6d6b2f9"
      },
      "outputs": [
        {
          "name": "stdout",
          "output_type": "stream",
          "text": [
            "Cloning into 'Alpaca-LoRA-Serve'...\n",
            "remote: Enumerating objects: 401, done.\u001b[K\n",
            "remote: Counting objects: 100% (113/113), done.\u001b[K\n",
            "remote: Compressing objects: 100% (35/35), done.\u001b[K\n",
            "remote: Total 401 (delta 99), reused 78 (delta 78), pack-reused 288\u001b[K\n",
            "Receiving objects: 100% (401/401), 112.11 KiB | 3.50 MiB/s, done.\n",
            "Resolving deltas: 100% (215/215), done.\n"
          ]
        }
      ],
      "source": [
        "!git clone https://github.com/deepanshu88/Alpaca-LoRA-Serve.git"
      ]
    },
    {
      "cell_type": "code",
      "execution_count": 14,
      "metadata": {
        "colab": {
          "base_uri": "https://localhost:8080/"
        },
        "id": "o2K16O76HNW9",
        "outputId": "59ddef3c-e27e-4af5-8c0d-28bdf60c7281"
      },
      "outputs": [
        {
          "name": "stdout",
          "output_type": "stream",
          "text": [
            "/home/bruno/Documents/ip6-twitter-disinformation/notebooks/Alpaca-LoRA-Serve/Alpaca-LoRA-Serve/Alpaca-LoRA-Serve\n"
          ]
        }
      ],
      "source": [
        "%cd Alpaca-LoRA-Serve\n"
      ]
    },
    {
      "cell_type": "code",
      "execution_count": 16,
      "metadata": {
        "colab": {
          "base_uri": "https://localhost:8080/"
        },
        "id": "q1qPiCsBHOst",
        "outputId": "ffddb8c0-b7b7-42ab-c4a2-3e50fab62156"
      },
      "outputs": [
        {
          "name": "stdout",
          "output_type": "stream",
          "text": [
            "Collecting git+https://github.com/huggingface/transformers.git (from -r requirements.txt (line 5))\n",
            "  Cloning https://github.com/huggingface/transformers.git to /tmp/pip-req-build-dtrqfaoj\n",
            "  Running command git clone --filter=blob:none --quiet https://github.com/huggingface/transformers.git /tmp/pip-req-build-dtrqfaoj\n",
            "  Resolved https://github.com/huggingface/transformers.git to commit dacd34568d1a27b91f84610eab526640ed8f94e0\n",
            "  Installing build dependencies ... \u001b[?25ldone\n",
            "\u001b[?25h  Getting requirements to build wheel ... \u001b[?25ldone\n",
            "\u001b[?25h  Preparing metadata (pyproject.toml) ... \u001b[?25ldone\n",
            "\u001b[?25hCollecting git+https://github.com/huggingface/peft.git (from -r requirements.txt (line 6))\n",
            "  Cloning https://github.com/huggingface/peft.git to /tmp/pip-req-build-6gpux7ek\n",
            "  Running command git clone --filter=blob:none --quiet https://github.com/huggingface/peft.git /tmp/pip-req-build-6gpux7ek\n",
            "  Resolved https://github.com/huggingface/peft.git to commit 26577aba842faef3d3fc31c9e6fec1cd08f5e2c8\n",
            "  Installing build dependencies ... \u001b[?25ldone\n",
            "\u001b[?25h  Getting requirements to build wheel ... \u001b[?25ldone\n",
            "\u001b[?25h  Preparing metadata (pyproject.toml) ... \u001b[?25ldone\n",
            "\u001b[?25hRequirement already satisfied: bitsandbytes in /home/bruno/anaconda3/envs/my_env/lib/python3.11/site-packages (from -r requirements.txt (line 1)) (0.37.2)\n",
            "Requirement already satisfied: datasets in /home/bruno/anaconda3/envs/my_env/lib/python3.11/site-packages (from -r requirements.txt (line 2)) (2.10.1)\n",
            "Collecting loralib\n",
            "  Downloading loralib-0.1.1-py3-none-any.whl (8.8 kB)\n",
            "Requirement already satisfied: sentencepiece in /home/bruno/anaconda3/envs/my_env/lib/python3.11/site-packages (from -r requirements.txt (line 4)) (0.1.97)\n",
            "Collecting gradio==3.20.0\n",
            "  Downloading gradio-3.20.0-py3-none-any.whl (14.3 MB)\n",
            "\u001b[2K     \u001b[90m━━━━━━━━━━━━━━━━━━━━━━━━━━━━━━━━━━━━━━━━\u001b[0m \u001b[32m14.3/14.3 MB\u001b[0m \u001b[31m29.3 MB/s\u001b[0m eta \u001b[36m0:00:00\u001b[0m00:01\u001b[0m00:01\u001b[0m\n",
            "\u001b[?25hCollecting tenacity\n",
            "  Downloading tenacity-8.2.2-py3-none-any.whl (24 kB)\n",
            "Collecting aiofiles\n",
            "  Downloading aiofiles-23.1.0-py3-none-any.whl (14 kB)\n",
            "Requirement already satisfied: aiohttp in /home/bruno/anaconda3/envs/my_env/lib/python3.11/site-packages (from gradio==3.20.0->-r requirements.txt (line 7)) (3.8.3)\n",
            "Collecting altair>=4.2.0\n",
            "  Downloading altair-4.2.2-py3-none-any.whl (813 kB)\n",
            "\u001b[2K     \u001b[90m━━━━━━━━━━━━━━━━━━━━━━━━━━━━━━━━━━━━━━\u001b[0m \u001b[32m813.6/813.6 kB\u001b[0m \u001b[31m36.9 MB/s\u001b[0m eta \u001b[36m0:00:00\u001b[0m\n",
            "\u001b[?25hCollecting fastapi\n",
            "  Downloading fastapi-0.95.1-py3-none-any.whl (56 kB)\n",
            "\u001b[2K     \u001b[90m━━━━━━━━━━━━━━━━━━━━━━━━━━━━━━━━━━━━━━━━\u001b[0m \u001b[32m57.0/57.0 kB\u001b[0m \u001b[31m6.8 MB/s\u001b[0m eta \u001b[36m0:00:00\u001b[0m\n",
            "\u001b[?25hCollecting ffmpy\n",
            "  Downloading ffmpy-0.3.0.tar.gz (4.8 kB)\n",
            "  Preparing metadata (setup.py) ... \u001b[?25ldone\n",
            "\u001b[?25hRequirement already satisfied: fsspec in /home/bruno/anaconda3/envs/my_env/lib/python3.11/site-packages (from gradio==3.20.0->-r requirements.txt (line 7)) (2023.3.0)\n",
            "Collecting httpx\n",
            "  Downloading httpx-0.24.0-py3-none-any.whl (75 kB)\n",
            "\u001b[2K     \u001b[90m━━━━━━━━━━━━━━━━━━━━━━━━━━━━━━━━━━━━━━━━\u001b[0m \u001b[32m75.3/75.3 kB\u001b[0m \u001b[31m12.7 MB/s\u001b[0m eta \u001b[36m0:00:00\u001b[0m\n",
            "\u001b[?25hRequirement already satisfied: jinja2 in /home/bruno/anaconda3/envs/my_env/lib/python3.11/site-packages (from gradio==3.20.0->-r requirements.txt (line 7)) (3.1.2)\n",
            "Collecting markdown-it-py[linkify]>=2.0.0\n",
            "  Downloading markdown_it_py-2.2.0-py3-none-any.whl (84 kB)\n",
            "\u001b[2K     \u001b[90m━━━━━━━━━━━━━━━━━━━━━━━━━━━━━━━━━━━━━━━━\u001b[0m \u001b[32m84.5/84.5 kB\u001b[0m \u001b[31m21.6 MB/s\u001b[0m eta \u001b[36m0:00:00\u001b[0m\n",
            "\u001b[?25hRequirement already satisfied: markupsafe in /home/bruno/anaconda3/envs/my_env/lib/python3.11/site-packages (from gradio==3.20.0->-r requirements.txt (line 7)) (2.1.1)\n",
            "Requirement already satisfied: matplotlib in /home/bruno/anaconda3/envs/my_env/lib/python3.11/site-packages (from gradio==3.20.0->-r requirements.txt (line 7)) (3.7.1)\n",
            "Collecting mdit-py-plugins<=0.3.3\n",
            "  Downloading mdit_py_plugins-0.3.3-py3-none-any.whl (50 kB)\n",
            "\u001b[2K     \u001b[90m━━━━━━━━━━━━━━━━━━━━━━━━━━━━━━━━━━━━━━━━\u001b[0m \u001b[32m50.5/50.5 kB\u001b[0m \u001b[31m9.8 MB/s\u001b[0m eta \u001b[36m0:00:00\u001b[0m\n",
            "\u001b[?25hRequirement already satisfied: numpy in /home/bruno/anaconda3/envs/my_env/lib/python3.11/site-packages (from gradio==3.20.0->-r requirements.txt (line 7)) (1.23.5)\n",
            "Collecting orjson\n",
            "  Downloading orjson-3.8.10-cp311-cp311-manylinux_2_28_x86_64.whl (140 kB)\n",
            "\u001b[2K     \u001b[90m━━━━━━━━━━━━━━━━━━━━━━━━━━━━━━━━━━━━━━\u001b[0m \u001b[32m140.6/140.6 kB\u001b[0m \u001b[31m17.8 MB/s\u001b[0m eta \u001b[36m0:00:00\u001b[0m\n",
            "\u001b[?25hRequirement already satisfied: pandas in /home/bruno/anaconda3/envs/my_env/lib/python3.11/site-packages (from gradio==3.20.0->-r requirements.txt (line 7)) (1.5.3)\n",
            "Requirement already satisfied: pillow in /home/bruno/anaconda3/envs/my_env/lib/python3.11/site-packages (from gradio==3.20.0->-r requirements.txt (line 7)) (9.4.0)\n",
            "Collecting pycryptodome\n",
            "  Downloading pycryptodome-3.17-cp35-abi3-manylinux_2_17_x86_64.manylinux2014_x86_64.whl (2.1 MB)\n",
            "\u001b[2K     \u001b[90m━━━━━━━━━━━━━━━━━━━━━━━━━━━━━━━━━━━━━━━━\u001b[0m \u001b[32m2.1/2.1 MB\u001b[0m \u001b[31m36.4 MB/s\u001b[0m eta \u001b[36m0:00:00\u001b[0ma \u001b[36m0:00:01\u001b[0m\n",
            "\u001b[?25hCollecting pydantic\n",
            "  Downloading pydantic-1.10.7-cp311-cp311-manylinux_2_17_x86_64.manylinux2014_x86_64.whl (3.1 MB)\n",
            "\u001b[2K     \u001b[90m━━━━━━━━━━━━━━━━━━━━━━━━━━━━━━━━━━━━━━━━\u001b[0m \u001b[32m3.1/3.1 MB\u001b[0m \u001b[31m38.1 MB/s\u001b[0m eta \u001b[36m0:00:00\u001b[0m00:01\u001b[0m00:01\u001b[0m\n",
            "\u001b[?25hCollecting pydub\n",
            "  Downloading pydub-0.25.1-py2.py3-none-any.whl (32 kB)\n",
            "Collecting python-multipart\n",
            "  Downloading python_multipart-0.0.6-py3-none-any.whl (45 kB)\n",
            "\u001b[2K     \u001b[90m━━━━━━━━━━━━━━━━━━━━━━━━━━━━━━━━━━━━━━━━\u001b[0m \u001b[32m45.7/45.7 kB\u001b[0m \u001b[31m7.8 MB/s\u001b[0m eta \u001b[36m0:00:00\u001b[0m\n",
            "\u001b[?25hRequirement already satisfied: pyyaml in /home/bruno/anaconda3/envs/my_env/lib/python3.11/site-packages (from gradio==3.20.0->-r requirements.txt (line 7)) (6.0)\n",
            "Requirement already satisfied: requests in /home/bruno/anaconda3/envs/my_env/lib/python3.11/site-packages (from gradio==3.20.0->-r requirements.txt (line 7)) (2.28.1)\n",
            "Requirement already satisfied: typing-extensions in /home/bruno/anaconda3/envs/my_env/lib/python3.11/site-packages (from gradio==3.20.0->-r requirements.txt (line 7)) (4.5.0)\n",
            "Collecting uvicorn\n",
            "  Downloading uvicorn-0.21.1-py3-none-any.whl (57 kB)\n",
            "\u001b[2K     \u001b[90m━━━━━━━━━━━━━━━━━━━━━━━━━━━━━━━━━━━━━━━━\u001b[0m \u001b[32m57.8/57.8 kB\u001b[0m \u001b[31m8.2 MB/s\u001b[0m eta \u001b[36m0:00:00\u001b[0m\n",
            "\u001b[?25hCollecting websockets>=10.0\n",
            "  Downloading websockets-11.0.1-cp311-cp311-manylinux_2_5_x86_64.manylinux1_x86_64.manylinux_2_17_x86_64.manylinux2014_x86_64.whl (130 kB)\n",
            "\u001b[2K     \u001b[90m━━━━━━━━━━━━━━━━━━━━━━━━━━━━━━━━━━━━━━\u001b[0m \u001b[32m130.4/130.4 kB\u001b[0m \u001b[31m11.2 MB/s\u001b[0m eta \u001b[36m0:00:00\u001b[0m\n",
            "\u001b[?25hRequirement already satisfied: pyarrow>=6.0.0 in /home/bruno/anaconda3/envs/my_env/lib/python3.11/site-packages (from datasets->-r requirements.txt (line 2)) (10.0.1)\n",
            "Requirement already satisfied: dill<0.3.7,>=0.3.0 in /home/bruno/anaconda3/envs/my_env/lib/python3.11/site-packages (from datasets->-r requirements.txt (line 2)) (0.3.6)\n",
            "Requirement already satisfied: tqdm>=4.62.1 in /home/bruno/anaconda3/envs/my_env/lib/python3.11/site-packages (from datasets->-r requirements.txt (line 2)) (4.65.0)\n",
            "Requirement already satisfied: xxhash in /home/bruno/anaconda3/envs/my_env/lib/python3.11/site-packages (from datasets->-r requirements.txt (line 2)) (2.0.2)\n",
            "Requirement already satisfied: multiprocess in /home/bruno/anaconda3/envs/my_env/lib/python3.11/site-packages (from datasets->-r requirements.txt (line 2)) (0.70.14)\n",
            "Requirement already satisfied: huggingface-hub<1.0.0,>=0.2.0 in /home/bruno/anaconda3/envs/my_env/lib/python3.11/site-packages (from datasets->-r requirements.txt (line 2)) (0.13.4)\n",
            "Requirement already satisfied: packaging in /home/bruno/anaconda3/envs/my_env/lib/python3.11/site-packages (from datasets->-r requirements.txt (line 2)) (23.0)\n",
            "Requirement already satisfied: responses<0.19 in /home/bruno/anaconda3/envs/my_env/lib/python3.11/site-packages (from datasets->-r requirements.txt (line 2)) (0.13.3)\n",
            "Requirement already satisfied: filelock in /home/bruno/anaconda3/envs/my_env/lib/python3.11/site-packages (from transformers==4.29.0.dev0->-r requirements.txt (line 5)) (3.9.0)\n",
            "Requirement already satisfied: regex!=2019.12.17 in /home/bruno/anaconda3/envs/my_env/lib/python3.11/site-packages (from transformers==4.29.0.dev0->-r requirements.txt (line 5)) (2023.3.23)\n",
            "Requirement already satisfied: tokenizers!=0.11.3,<0.14,>=0.11.1 in /home/bruno/anaconda3/envs/my_env/lib/python3.11/site-packages (from transformers==4.29.0.dev0->-r requirements.txt (line 5)) (0.13.3)\n",
            "Requirement already satisfied: psutil in /home/bruno/anaconda3/envs/my_env/lib/python3.11/site-packages (from peft==0.3.0.dev0->-r requirements.txt (line 6)) (5.9.0)\n",
            "Requirement already satisfied: torch>=1.13.0 in /home/bruno/anaconda3/envs/my_env/lib/python3.11/site-packages (from peft==0.3.0.dev0->-r requirements.txt (line 6)) (2.0.0+cu118)\n",
            "Requirement already satisfied: accelerate in /home/bruno/anaconda3/envs/my_env/lib/python3.11/site-packages (from peft==0.3.0.dev0->-r requirements.txt (line 6)) (0.18.0)\n",
            "Requirement already satisfied: entrypoints in /home/bruno/anaconda3/envs/my_env/lib/python3.11/site-packages (from altair>=4.2.0->gradio==3.20.0->-r requirements.txt (line 7)) (0.4)\n",
            "Requirement already satisfied: jsonschema>=3.0 in /home/bruno/anaconda3/envs/my_env/lib/python3.11/site-packages (from altair>=4.2.0->gradio==3.20.0->-r requirements.txt (line 7)) (4.17.3)\n",
            "Collecting toolz\n",
            "  Downloading toolz-0.12.0-py3-none-any.whl (55 kB)\n",
            "\u001b[2K     \u001b[90m━━━━━━━━━━━━━━━━━━━━━━━━━━━━━━━━━━━━━━━━\u001b[0m \u001b[32m55.8/55.8 kB\u001b[0m \u001b[31m14.1 MB/s\u001b[0m eta \u001b[36m0:00:00\u001b[0m\n",
            "\u001b[?25hRequirement already satisfied: attrs>=17.3.0 in /home/bruno/anaconda3/envs/my_env/lib/python3.11/site-packages (from aiohttp->gradio==3.20.0->-r requirements.txt (line 7)) (22.1.0)\n",
            "Requirement already satisfied: charset-normalizer<3.0,>=2.0 in /home/bruno/anaconda3/envs/my_env/lib/python3.11/site-packages (from aiohttp->gradio==3.20.0->-r requirements.txt (line 7)) (2.0.4)\n",
            "Requirement already satisfied: multidict<7.0,>=4.5 in /home/bruno/anaconda3/envs/my_env/lib/python3.11/site-packages (from aiohttp->gradio==3.20.0->-r requirements.txt (line 7)) (6.0.2)\n",
            "Requirement already satisfied: async-timeout<5.0,>=4.0.0a3 in /home/bruno/anaconda3/envs/my_env/lib/python3.11/site-packages (from aiohttp->gradio==3.20.0->-r requirements.txt (line 7)) (4.0.2)\n",
            "Requirement already satisfied: yarl<2.0,>=1.0 in /home/bruno/anaconda3/envs/my_env/lib/python3.11/site-packages (from aiohttp->gradio==3.20.0->-r requirements.txt (line 7)) (1.8.1)\n",
            "Requirement already satisfied: frozenlist>=1.1.1 in /home/bruno/anaconda3/envs/my_env/lib/python3.11/site-packages (from aiohttp->gradio==3.20.0->-r requirements.txt (line 7)) (1.3.3)\n",
            "Requirement already satisfied: aiosignal>=1.1.2 in /home/bruno/anaconda3/envs/my_env/lib/python3.11/site-packages (from aiohttp->gradio==3.20.0->-r requirements.txt (line 7)) (1.2.0)\n",
            "Collecting mdurl~=0.1\n",
            "  Downloading mdurl-0.1.2-py3-none-any.whl (10.0 kB)\n",
            "Collecting linkify-it-py<3,>=1\n",
            "  Downloading linkify_it_py-2.0.0-py3-none-any.whl (19 kB)\n",
            "Requirement already satisfied: python-dateutil>=2.8.1 in /home/bruno/anaconda3/envs/my_env/lib/python3.11/site-packages (from pandas->gradio==3.20.0->-r requirements.txt (line 7)) (2.8.2)\n",
            "Requirement already satisfied: pytz>=2020.1 in /home/bruno/anaconda3/envs/my_env/lib/python3.11/site-packages (from pandas->gradio==3.20.0->-r requirements.txt (line 7)) (2022.7)\n",
            "Requirement already satisfied: idna<4,>=2.5 in /home/bruno/anaconda3/envs/my_env/lib/python3.11/site-packages (from requests->gradio==3.20.0->-r requirements.txt (line 7)) (3.4)\n",
            "Requirement already satisfied: urllib3<1.27,>=1.21.1 in /home/bruno/anaconda3/envs/my_env/lib/python3.11/site-packages (from requests->gradio==3.20.0->-r requirements.txt (line 7)) (1.26.15)\n",
            "Requirement already satisfied: certifi>=2017.4.17 in /home/bruno/anaconda3/envs/my_env/lib/python3.11/site-packages (from requests->gradio==3.20.0->-r requirements.txt (line 7)) (2022.12.7)\n",
            "Requirement already satisfied: six in /home/bruno/anaconda3/envs/my_env/lib/python3.11/site-packages (from responses<0.19->datasets->-r requirements.txt (line 2)) (1.16.0)\n",
            "Requirement already satisfied: sympy in /home/bruno/anaconda3/envs/my_env/lib/python3.11/site-packages (from torch>=1.13.0->peft==0.3.0.dev0->-r requirements.txt (line 6)) (1.11.1)\n",
            "Requirement already satisfied: networkx in /home/bruno/anaconda3/envs/my_env/lib/python3.11/site-packages (from torch>=1.13.0->peft==0.3.0.dev0->-r requirements.txt (line 6)) (3.0)\n",
            "Requirement already satisfied: triton==2.0.0 in /home/bruno/anaconda3/envs/my_env/lib/python3.11/site-packages (from torch>=1.13.0->peft==0.3.0.dev0->-r requirements.txt (line 6)) (2.0.0)\n",
            "Requirement already satisfied: cmake in /home/bruno/anaconda3/envs/my_env/lib/python3.11/site-packages (from triton==2.0.0->torch>=1.13.0->peft==0.3.0.dev0->-r requirements.txt (line 6)) (3.25.0)\n",
            "Requirement already satisfied: lit in /home/bruno/anaconda3/envs/my_env/lib/python3.11/site-packages (from triton==2.0.0->torch>=1.13.0->peft==0.3.0.dev0->-r requirements.txt (line 6)) (15.0.7)\n",
            "Collecting starlette<0.27.0,>=0.26.1\n",
            "  Downloading starlette-0.26.1-py3-none-any.whl (66 kB)\n",
            "\u001b[2K     \u001b[90m━━━━━━━━━━━━━━━━━━━━━━━━━━━━━━━━━━━━━━━━\u001b[0m \u001b[32m66.9/66.9 kB\u001b[0m \u001b[31m13.3 MB/s\u001b[0m eta \u001b[36m0:00:00\u001b[0m\n",
            "\u001b[?25hCollecting httpcore<0.18.0,>=0.15.0\n",
            "  Downloading httpcore-0.17.0-py3-none-any.whl (70 kB)\n",
            "\u001b[2K     \u001b[90m━━━━━━━━━━━━━━━━━━━━━━━━━━━━━━━━━━━━━━━━\u001b[0m \u001b[32m70.6/70.6 kB\u001b[0m \u001b[31m8.0 MB/s\u001b[0m eta \u001b[36m0:00:00\u001b[0m\n",
            "\u001b[?25hRequirement already satisfied: sniffio in /home/bruno/anaconda3/envs/my_env/lib/python3.11/site-packages (from httpx->gradio==3.20.0->-r requirements.txt (line 7)) (1.2.0)\n",
            "Requirement already satisfied: contourpy>=1.0.1 in /home/bruno/anaconda3/envs/my_env/lib/python3.11/site-packages (from matplotlib->gradio==3.20.0->-r requirements.txt (line 7)) (1.0.5)\n",
            "Requirement already satisfied: cycler>=0.10 in /home/bruno/anaconda3/envs/my_env/lib/python3.11/site-packages (from matplotlib->gradio==3.20.0->-r requirements.txt (line 7)) (0.11.0)\n",
            "Requirement already satisfied: fonttools>=4.22.0 in /home/bruno/anaconda3/envs/my_env/lib/python3.11/site-packages (from matplotlib->gradio==3.20.0->-r requirements.txt (line 7)) (4.25.0)\n",
            "Requirement already satisfied: kiwisolver>=1.0.1 in /home/bruno/anaconda3/envs/my_env/lib/python3.11/site-packages (from matplotlib->gradio==3.20.0->-r requirements.txt (line 7)) (1.4.4)\n",
            "Requirement already satisfied: pyparsing>=2.3.1 in /home/bruno/anaconda3/envs/my_env/lib/python3.11/site-packages (from matplotlib->gradio==3.20.0->-r requirements.txt (line 7)) (3.0.9)\n",
            "Requirement already satisfied: click>=7.0 in /home/bruno/anaconda3/envs/my_env/lib/python3.11/site-packages (from uvicorn->gradio==3.20.0->-r requirements.txt (line 7)) (8.1.3)\n",
            "Collecting h11>=0.8\n",
            "  Downloading h11-0.14.0-py3-none-any.whl (58 kB)\n",
            "\u001b[2K     \u001b[90m━━━━━━━━━━━━━━━━━━━━━━━━━━━━━━━━━━━━━━━━\u001b[0m \u001b[32m58.3/58.3 kB\u001b[0m \u001b[31m8.8 MB/s\u001b[0m eta \u001b[36m0:00:00\u001b[0m\n",
            "\u001b[?25hRequirement already satisfied: anyio<5.0,>=3.0 in /home/bruno/anaconda3/envs/my_env/lib/python3.11/site-packages (from httpcore<0.18.0,>=0.15.0->httpx->gradio==3.20.0->-r requirements.txt (line 7)) (3.5.0)\n",
            "Requirement already satisfied: pyrsistent!=0.17.0,!=0.17.1,!=0.17.2,>=0.14.0 in /home/bruno/anaconda3/envs/my_env/lib/python3.11/site-packages (from jsonschema>=3.0->altair>=4.2.0->gradio==3.20.0->-r requirements.txt (line 7)) (0.18.0)\n",
            "Collecting uc-micro-py\n",
            "  Downloading uc_micro_py-1.0.1-py3-none-any.whl (6.2 kB)\n",
            "Requirement already satisfied: mpmath>=0.19 in /home/bruno/anaconda3/envs/my_env/lib/python3.11/site-packages (from sympy->torch>=1.13.0->peft==0.3.0.dev0->-r requirements.txt (line 6)) (1.2.1)\n",
            "Building wheels for collected packages: transformers, ffmpy\n",
            "  Building wheel for transformers (pyproject.toml) ... \u001b[?25ldone\n",
            "\u001b[?25h  Created wheel for transformers: filename=transformers-4.29.0.dev0-py3-none-any.whl size=6928059 sha256=38937d90b2a7555ecdbb42a7da03b37aefa438aaf5c54edb6777b85bb3065b7b\n",
            "  Stored in directory: /tmp/pip-ephem-wheel-cache-v3q1uw29/wheels/32/4b/78/f195c684dd3a9ed21f3b39fe8f85b48df7918581b6437be143\n",
            "  Building wheel for ffmpy (setup.py) ... \u001b[?25ldone\n",
            "\u001b[?25h  Created wheel for ffmpy: filename=ffmpy-0.3.0-py3-none-any.whl size=4693 sha256=082d7346e2982892cec56586dfbf20f52d77ad993641a1ec7406819f263e03f9\n",
            "  Stored in directory: /home/bruno/.var/app/com.visualstudio.code/cache/pip/wheels/47/a0/29/b51cefd1cb11f7bd95ec49652e5bda63f17e4718c67280de57\n",
            "Successfully built transformers ffmpy\n",
            "Installing collected packages: pydub, ffmpy, websockets, uc-micro-py, toolz, tenacity, python-multipart, pydantic, pycryptodome, orjson, mdurl, loralib, h11, aiofiles, uvicorn, starlette, markdown-it-py, linkify-it-py, httpcore, transformers, mdit-py-plugins, httpx, fastapi, altair, gradio\n",
            "  Attempting uninstall: transformers\n",
            "    Found existing installation: transformers 4.28.0.dev0\n",
            "    Uninstalling transformers-4.28.0.dev0:\n",
            "      Successfully uninstalled transformers-4.28.0.dev0\n",
            "Successfully installed aiofiles-23.1.0 altair-4.2.2 fastapi-0.95.1 ffmpy-0.3.0 gradio-3.20.0 h11-0.14.0 httpcore-0.17.0 httpx-0.24.0 linkify-it-py-2.0.0 loralib-0.1.1 markdown-it-py-2.2.0 mdit-py-plugins-0.3.3 mdurl-0.1.2 orjson-3.8.10 pycryptodome-3.17 pydantic-1.10.7 pydub-0.25.1 python-multipart-0.0.6 starlette-0.26.1 tenacity-8.2.2 toolz-0.12.0 transformers-4.29.0.dev0 uc-micro-py-1.0.1 uvicorn-0.21.1 websockets-11.0.1\n"
          ]
        }
      ],
      "source": [
        "!python -m pip install -r requirements.txt"
      ]
    },
    {
      "cell_type": "markdown",
      "metadata": {
        "id": "XFyh__J1Hf-x"
      },
      "source": [
        "# Choose 13B or 7B for free colab version, 30B for premium\n",
        "\n",
        "Possible values of `--base_url`\n",
        "\n",
        "- decapoda-research/llama-7b-hf\n",
        "- decapoda-research/llama-13b-hf\n",
        "- decapoda-research/llama-30b-hf\n",
        "\n",
        "Possible values of `--ft_ckpt_url`\n",
        "\n",
        "- tloen/alpaca-lora-7b\n",
        "- chansung/alpaca-lora-13b\n",
        "- chansung/koalpaca-lora-13b for English to Korean conversations\n",
        "- chansung/alpaca-lora-30b"
      ]
    },
    {
      "cell_type": "code",
      "execution_count": 17,
      "metadata": {
        "id": "CvcJBvWDW-K3"
      },
      "outputs": [],
      "source": [
        "base_model = 'decapoda-research/llama-7b-hf' #@param [\"decapoda-research/llama-7b-hf\", \"decapoda-research/llama-13b-hf\", \"decapoda-research/llama-30b-hf\"]\n",
        "finetuned_model = 'tloen/alpaca-lora-7b' #@param [\"tloen/alpaca-lora-7b\", \"chansung/alpaca-lora-13b\", \"chansung/koalpaca-lora-13b\", \"chansung/alpaca-lora-30b\"]"
      ]
    },
    {
      "cell_type": "code",
      "execution_count": 20,
      "metadata": {
        "colab": {
          "base_uri": "https://localhost:8080/"
        },
        "id": "04LNs3dgHeoR",
        "outputId": "49961527-792a-4fca-cc3d-debd1f0afb97"
      },
      "outputs": [
        {
          "name": "stdout",
          "output_type": "stream",
          "text": [
            "\n",
            "===================================BUG REPORT===================================\n",
            "Welcome to bitsandbytes. For bug reports, please submit your error trace to: https://github.com/TimDettmers/bitsandbytes/issues\n",
            "================================================================================\n",
            "CUDA SETUP: CUDA runtime path found: /home/bruno/anaconda3/envs/my_env/lib/libcudart.so\n",
            "CUDA SETUP: Highest compute capability among GPUs detected: 8.6\n",
            "CUDA SETUP: Detected CUDA version 113\n",
            "CUDA SETUP: Loading binary /home/bruno/anaconda3/envs/my_env/lib/python3.11/site-packages/bitsandbytes/libbitsandbytes_cuda113.so...\n",
            "The tokenizer class you load from this checkpoint is not the same type as the class this function is called from. It may result in unexpected tokenization. \n",
            "The tokenizer class you load from this checkpoint is 'LLaMATokenizer'. \n",
            "The class this function is called from is 'LlamaTokenizer'.\n",
            "Overriding torch_dtype=None with `torch_dtype=torch.float16` due to requirements of `bitsandbytes` to enable model loading in mixed int8. Either pass torch_dtype=torch.float16 or don't pass this argument at all to remove this warning.\n",
            "Loading checkpoint shards: 100%|████████████████| 33/33 [00:27<00:00,  1.20it/s]\n",
            "Running on local URL:  http://0.0.0.0:6006\n",
            "Running on public URL: https://cb7601d4b76a761533.gradio.live\n",
            "\n",
            "This share link expires in 72 hours. For free permanent hosting and GPU upgrades (NEW!), check out Spaces: https://huggingface.co/spaces\n",
            "Traceback (most recent call last):\n",
            "  File \"/home/bruno/anaconda3/envs/my_env/lib/python3.11/site-packages/gradio/routes.py\", line 384, in run_predict\n",
            "    output = await app.get_blocks().process_api(\n",
            "             ^^^^^^^^^^^^^^^^^^^^^^^^^^^^^^^^^^^\n",
            "  File \"/home/bruno/anaconda3/envs/my_env/lib/python3.11/site-packages/gradio/blocks.py\", line 1032, in process_api\n",
            "    result = await self.call_function(\n",
            "             ^^^^^^^^^^^^^^^^^^^^^^^^^\n",
            "  File \"/home/bruno/anaconda3/envs/my_env/lib/python3.11/site-packages/gradio/blocks.py\", line 858, in call_function\n",
            "    prediction = await anyio.to_thread.run_sync(\n",
            "                 ^^^^^^^^^^^^^^^^^^^^^^^^^^^^^^^\n",
            "  File \"/home/bruno/anaconda3/envs/my_env/lib/python3.11/site-packages/anyio/to_thread.py\", line 28, in run_sync\n",
            "    return await get_asynclib().run_sync_in_worker_thread(func, *args, cancellable=cancellable,\n",
            "           ^^^^^^^^^^^^^^^^^^^^^^^^^^^^^^^^^^^^^^^^^^^^^^^^^^^^^^^^^^^^^^^^^^^^^^^^^^^^^^^^^^^^\n",
            "  File \"/home/bruno/anaconda3/envs/my_env/lib/python3.11/site-packages/anyio/_backends/_asyncio.py\", line 818, in run_sync_in_worker_thread\n",
            "    return await future\n",
            "           ^^^^^^^^^^^^\n",
            "  File \"/home/bruno/anaconda3/envs/my_env/lib/python3.11/site-packages/anyio/_backends/_asyncio.py\", line 754, in run\n",
            "    result = context.run(func, *args)\n",
            "             ^^^^^^^^^^^^^^^^^^^^^^^^\n",
            "  File \"/home/bruno/anaconda3/envs/my_env/lib/python3.11/site-packages/gradio/utils.py\", line 448, in async_iteration\n",
            "    return next(iterator)\n",
            "           ^^^^^^^^^^^^^^\n",
            "  File \"/home/bruno/Documents/ip6-twitter-disinformation/notebooks/Alpaca-LoRA-Serve/Alpaca-LoRA-Serve/Alpaca-LoRA-Serve/app.py\", line 20, in chat_stream\n",
            "    raise gr.Error(\"context or prompt is too long!\")\n",
            "gradio.exceptions.Error: 'context or prompt is too long!'\n",
            "^C\n",
            "Keyboard interruption in main thread... closing server.\n",
            "Killing tunnel 0.0.0.0:6006 <> https://cb7601d4b76a761533.gradio.live\n"
          ]
        }
      ],
      "source": [
        "!python app.py --base_url $base_model --ft_ckpt_url $finetuned_model --share"
      ]
    }
  ],
  "metadata": {
    "accelerator": "GPU",
    "colab": {
      "provenance": []
    },
    "gpuClass": "standard",
    "kernelspec": {
      "display_name": "Python 3",
      "name": "python3"
    },
    "language_info": {
      "name": "python"
    }
  },
  "nbformat": 4,
  "nbformat_minor": 0
}
